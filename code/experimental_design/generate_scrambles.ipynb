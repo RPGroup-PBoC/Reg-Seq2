{
 "cells": [
  {
   "cell_type": "markdown",
   "metadata": {},
   "source": [
    "# Generating mutation scrambles of different sizes."
   ]
  },
  {
   "cell_type": "markdown",
   "metadata": {},
   "source": [
    "(c) 2020 Tom Röschinger. This work is licensed under a [Creative Commons Attribution License CC-BY 4.0](https://creativecommons.org/licenses/by/4.0/). All code contained herein is licensed under an [MIT license](https://opensource.org/licenses/MIT)."
   ]
  },
  {
   "cell_type": "code",
   "execution_count": 5,
   "metadata": {},
   "outputs": [
    {
     "name": "stdout",
     "output_type": "stream",
     "text": [
      "The autoreload extension is already loaded. To reload it, use:\n",
      "  %reload_ext autoreload\n"
     ]
    }
   ],
   "source": [
    "import wgregseq\n",
    "%load_ext autoreload\n",
    "%autoreload 2\n",
    "\n",
    "import numpy as np\n",
    "import pandas as pd\n",
    "import warnings\n",
    "\n",
    "import matplotlib.pyplot as plt\n",
    "\n",
    "\n",
    "# Set default plotting style\n",
    "wgregseq.plotting_style()\n",
    "%matplotlib inline"
   ]
  },
  {
   "cell_type": "markdown",
   "metadata": {},
   "source": [
    "In this notebook we explore how to generate scrambles given a certain sequence. We want to be able to do it for sequences of various lengths, with variable size of the scrambles and variable overlap of consecutive scrambles. This method is based of the work from [Urtecho et al., 2020](https://www.biorxiv.org/content/10.1101/2020.01.04.894907v1), where they used scrambles of size 10, with an overlap of 5 base pairs. To find scrambles which are distant from the wild type sequence, they generated 100 scrambles by permuting the original sequence, and chose the sequence which was most distant. This preserves the GC-content of the sequence.\n",
    "\n",
    "Let's generate a random sequence to begin with. Therefore we can use the function `wgregseq.gen_rand_seq()`, which takes the sequence length as an argument. One can also give a list of letters as second argument. By default, a random DNA sequence is generated."
   ]
  },
  {
   "cell_type": "code",
   "execution_count": 6,
   "metadata": {},
   "outputs": [
    {
     "data": {
      "text/plain": [
       "'AGGCCAAGTTAATATGGCCCATTTAGTAAAACAGAGGGTGGCACTGGCAACACAGTACACCATAAGGGTCAACTTTATCGTGGACGTAAATGTGATGTGCCTGACGTCCGTGGAGTTATATATTGGTAACGCTCCGACAGCTGGGCAAATGATTGATCTA'"
      ]
     },
     "execution_count": 6,
     "metadata": {},
     "output_type": "execute_result"
    }
   ],
   "source": [
    "sequence = wgregseq.gen_rand_seq(160)\n",
    "sequence"
   ]
  },
  {
   "cell_type": "markdown",
   "metadata": {},
   "source": [
    "To generate scrambles, we can use the function `wgregseq.create_scrambles()`, which takes as arguments the wild type sequence, the length of the generated scrambles, the number of overlapping bases, and the number of sequences generated per scramble, from which the most distant is chosen. The function will return an error message, if it cannot generate scrambles evenly throughout the sequence."
   ]
  },
  {
   "cell_type": "code",
   "execution_count": 7,
   "metadata": {},
   "outputs": [
    {
     "data": {
      "text/plain": [
       "152"
      ]
     },
     "execution_count": 7,
     "metadata": {},
     "output_type": "execute_result"
    }
   ],
   "source": [
    "sum([len(wgregseq.create_scrambles(sequence, 10, 9, 100, ignore_imperfect_scrambling=True))])"
   ]
  },
  {
   "cell_type": "markdown",
   "metadata": {},
   "source": [
    "The scrambles can also be returned in a data frame, which also includes the start and stop positions of the scrambles, as well as the center position. Note that here the wild type is not included."
   ]
  },
  {
   "cell_type": "code",
   "execution_count": 9,
   "metadata": {},
   "outputs": [
    {
     "name": "stdout",
     "output_type": "stream",
     "text": [
      "AGGCCAAGTTAATATGGCCCATTTAGTAAAACAGAGGGTGGCACTGGCAACACAGTACACCATAAGGGTCAACTTTATCGTGGACGTAAATGTGATGTGCCTGACGTCCGTGGAGTTATATATTGGTAACGCTCCGACAGCTGGGCAAATGATTGATCTA\n"
     ]
    },
    {
     "data": {
      "text/html": [
       "<div>\n",
       "<style scoped>\n",
       "    .dataframe tbody tr th:only-of-type {\n",
       "        vertical-align: middle;\n",
       "    }\n",
       "\n",
       "    .dataframe tbody tr th {\n",
       "        vertical-align: top;\n",
       "    }\n",
       "\n",
       "    .dataframe thead th {\n",
       "        text-align: right;\n",
       "    }\n",
       "</style>\n",
       "<table border=\"1\" class=\"dataframe\">\n",
       "  <thead>\n",
       "    <tr style=\"text-align: right;\">\n",
       "      <th></th>\n",
       "      <th>start_pos</th>\n",
       "      <th>stop_pos</th>\n",
       "      <th>sequence</th>\n",
       "      <th>center_pos</th>\n",
       "    </tr>\n",
       "  </thead>\n",
       "  <tbody>\n",
       "    <tr>\n",
       "      <th>0</th>\n",
       "      <td>0</td>\n",
       "      <td>10</td>\n",
       "      <td>gaatgctacgAATATGGCCCATTTAGTAAAACAGAGGGTGGCACTG...</td>\n",
       "      <td>5.0</td>\n",
       "    </tr>\n",
       "    <tr>\n",
       "      <th>1</th>\n",
       "      <td>5</td>\n",
       "      <td>15</td>\n",
       "      <td>AGGCCttaagatataGGCCCATTTAGTAAAACAGAGGGTGGCACTG...</td>\n",
       "      <td>10.0</td>\n",
       "    </tr>\n",
       "    <tr>\n",
       "      <th>2</th>\n",
       "      <td>10</td>\n",
       "      <td>20</td>\n",
       "      <td>AGGCCAAGTTccctgaagatATTTAGTAAAACAGAGGGTGGCACTG...</td>\n",
       "      <td>15.0</td>\n",
       "    </tr>\n",
       "    <tr>\n",
       "      <th>3</th>\n",
       "      <td>15</td>\n",
       "      <td>25</td>\n",
       "      <td>AGGCCAAGTTAATATcattacggctGTAAAACAGAGGGTGGCACTG...</td>\n",
       "      <td>20.0</td>\n",
       "    </tr>\n",
       "    <tr>\n",
       "      <th>4</th>\n",
       "      <td>20</td>\n",
       "      <td>30</td>\n",
       "      <td>AGGCCAAGTTAATATGGCCCgaaattaattACAGAGGGTGGCACTG...</td>\n",
       "      <td>25.0</td>\n",
       "    </tr>\n",
       "    <tr>\n",
       "      <th>5</th>\n",
       "      <td>25</td>\n",
       "      <td>35</td>\n",
       "      <td>AGGCCAAGTTAATATGGCCCATTTAaaggcaataaGGGTGGCACTG...</td>\n",
       "      <td>30.0</td>\n",
       "    </tr>\n",
       "    <tr>\n",
       "      <th>6</th>\n",
       "      <td>30</td>\n",
       "      <td>40</td>\n",
       "      <td>AGGCCAAGTTAATATGGCCCATTTAGTAAAgggggaaactGCACTG...</td>\n",
       "      <td>35.0</td>\n",
       "    </tr>\n",
       "    <tr>\n",
       "      <th>7</th>\n",
       "      <td>35</td>\n",
       "      <td>45</td>\n",
       "      <td>AGGCCAAGTTAATATGGCCCATTTAGTAAAACAGAacggtcggtgG...</td>\n",
       "      <td>40.0</td>\n",
       "    </tr>\n",
       "    <tr>\n",
       "      <th>8</th>\n",
       "      <td>40</td>\n",
       "      <td>50</td>\n",
       "      <td>AGGCCAAGTTAATATGGCCCATTTAGTAAAACAGAGGGTGaactac...</td>\n",
       "      <td>45.0</td>\n",
       "    </tr>\n",
       "    <tr>\n",
       "      <th>9</th>\n",
       "      <td>45</td>\n",
       "      <td>55</td>\n",
       "      <td>AGGCCAAGTTAATATGGCCCATTTAGTAAAACAGAGGGTGGCACTc...</td>\n",
       "      <td>50.0</td>\n",
       "    </tr>\n",
       "    <tr>\n",
       "      <th>10</th>\n",
       "      <td>50</td>\n",
       "      <td>60</td>\n",
       "      <td>AGGCCAAGTTAATATGGCCCATTTAGTAAAACAGAGGGTGGCACTG...</td>\n",
       "      <td>55.0</td>\n",
       "    </tr>\n",
       "    <tr>\n",
       "      <th>11</th>\n",
       "      <td>55</td>\n",
       "      <td>65</td>\n",
       "      <td>AGGCCAAGTTAATATGGCCCATTTAGTAAAACAGAGGGTGGCACTG...</td>\n",
       "      <td>60.0</td>\n",
       "    </tr>\n",
       "    <tr>\n",
       "      <th>12</th>\n",
       "      <td>60</td>\n",
       "      <td>70</td>\n",
       "      <td>AGGCCAAGTTAATATGGCCCATTTAGTAAAACAGAGGGTGGCACTG...</td>\n",
       "      <td>65.0</td>\n",
       "    </tr>\n",
       "    <tr>\n",
       "      <th>13</th>\n",
       "      <td>65</td>\n",
       "      <td>75</td>\n",
       "      <td>AGGCCAAGTTAATATGGCCCATTTAGTAAAACAGAGGGTGGCACTG...</td>\n",
       "      <td>70.0</td>\n",
       "    </tr>\n",
       "    <tr>\n",
       "      <th>14</th>\n",
       "      <td>70</td>\n",
       "      <td>80</td>\n",
       "      <td>AGGCCAAGTTAATATGGCCCATTTAGTAAAACAGAGGGTGGCACTG...</td>\n",
       "      <td>75.0</td>\n",
       "    </tr>\n",
       "    <tr>\n",
       "      <th>15</th>\n",
       "      <td>75</td>\n",
       "      <td>85</td>\n",
       "      <td>AGGCCAAGTTAATATGGCCCATTTAGTAAAACAGAGGGTGGCACTG...</td>\n",
       "      <td>80.0</td>\n",
       "    </tr>\n",
       "    <tr>\n",
       "      <th>16</th>\n",
       "      <td>80</td>\n",
       "      <td>90</td>\n",
       "      <td>AGGCCAAGTTAATATGGCCCATTTAGTAAAACAGAGGGTGGCACTG...</td>\n",
       "      <td>85.0</td>\n",
       "    </tr>\n",
       "    <tr>\n",
       "      <th>17</th>\n",
       "      <td>85</td>\n",
       "      <td>95</td>\n",
       "      <td>AGGCCAAGTTAATATGGCCCATTTAGTAAAACAGAGGGTGGCACTG...</td>\n",
       "      <td>90.0</td>\n",
       "    </tr>\n",
       "    <tr>\n",
       "      <th>18</th>\n",
       "      <td>90</td>\n",
       "      <td>100</td>\n",
       "      <td>AGGCCAAGTTAATATGGCCCATTTAGTAAAACAGAGGGTGGCACTG...</td>\n",
       "      <td>95.0</td>\n",
       "    </tr>\n",
       "    <tr>\n",
       "      <th>19</th>\n",
       "      <td>95</td>\n",
       "      <td>105</td>\n",
       "      <td>AGGCCAAGTTAATATGGCCCATTTAGTAAAACAGAGGGTGGCACTG...</td>\n",
       "      <td>100.0</td>\n",
       "    </tr>\n",
       "    <tr>\n",
       "      <th>20</th>\n",
       "      <td>100</td>\n",
       "      <td>110</td>\n",
       "      <td>AGGCCAAGTTAATATGGCCCATTTAGTAAAACAGAGGGTGGCACTG...</td>\n",
       "      <td>105.0</td>\n",
       "    </tr>\n",
       "    <tr>\n",
       "      <th>21</th>\n",
       "      <td>105</td>\n",
       "      <td>115</td>\n",
       "      <td>AGGCCAAGTTAATATGGCCCATTTAGTAAAACAGAGGGTGGCACTG...</td>\n",
       "      <td>110.0</td>\n",
       "    </tr>\n",
       "    <tr>\n",
       "      <th>22</th>\n",
       "      <td>110</td>\n",
       "      <td>120</td>\n",
       "      <td>AGGCCAAGTTAATATGGCCCATTTAGTAAAACAGAGGGTGGCACTG...</td>\n",
       "      <td>115.0</td>\n",
       "    </tr>\n",
       "    <tr>\n",
       "      <th>23</th>\n",
       "      <td>115</td>\n",
       "      <td>125</td>\n",
       "      <td>AGGCCAAGTTAATATGGCCCATTTAGTAAAACAGAGGGTGGCACTG...</td>\n",
       "      <td>120.0</td>\n",
       "    </tr>\n",
       "    <tr>\n",
       "      <th>24</th>\n",
       "      <td>120</td>\n",
       "      <td>130</td>\n",
       "      <td>AGGCCAAGTTAATATGGCCCATTTAGTAAAACAGAGGGTGGCACTG...</td>\n",
       "      <td>125.0</td>\n",
       "    </tr>\n",
       "    <tr>\n",
       "      <th>25</th>\n",
       "      <td>125</td>\n",
       "      <td>135</td>\n",
       "      <td>AGGCCAAGTTAATATGGCCCATTTAGTAAAACAGAGGGTGGCACTG...</td>\n",
       "      <td>130.0</td>\n",
       "    </tr>\n",
       "    <tr>\n",
       "      <th>26</th>\n",
       "      <td>130</td>\n",
       "      <td>140</td>\n",
       "      <td>AGGCCAAGTTAATATGGCCCATTTAGTAAAACAGAGGGTGGCACTG...</td>\n",
       "      <td>135.0</td>\n",
       "    </tr>\n",
       "    <tr>\n",
       "      <th>27</th>\n",
       "      <td>135</td>\n",
       "      <td>145</td>\n",
       "      <td>AGGCCAAGTTAATATGGCCCATTTAGTAAAACAGAGGGTGGCACTG...</td>\n",
       "      <td>140.0</td>\n",
       "    </tr>\n",
       "    <tr>\n",
       "      <th>28</th>\n",
       "      <td>140</td>\n",
       "      <td>150</td>\n",
       "      <td>AGGCCAAGTTAATATGGCCCATTTAGTAAAACAGAGGGTGGCACTG...</td>\n",
       "      <td>145.0</td>\n",
       "    </tr>\n",
       "    <tr>\n",
       "      <th>29</th>\n",
       "      <td>145</td>\n",
       "      <td>155</td>\n",
       "      <td>AGGCCAAGTTAATATGGCCCATTTAGTAAAACAGAGGGTGGCACTG...</td>\n",
       "      <td>150.0</td>\n",
       "    </tr>\n",
       "    <tr>\n",
       "      <th>30</th>\n",
       "      <td>150</td>\n",
       "      <td>160</td>\n",
       "      <td>AGGCCAAGTTAATATGGCCCATTTAGTAAAACAGAGGGTGGCACTG...</td>\n",
       "      <td>155.0</td>\n",
       "    </tr>\n",
       "  </tbody>\n",
       "</table>\n",
       "</div>"
      ],
      "text/plain": [
       "    start_pos  stop_pos                                           sequence  \\\n",
       "0           0        10  gaatgctacgAATATGGCCCATTTAGTAAAACAGAGGGTGGCACTG...   \n",
       "1           5        15  AGGCCttaagatataGGCCCATTTAGTAAAACAGAGGGTGGCACTG...   \n",
       "2          10        20  AGGCCAAGTTccctgaagatATTTAGTAAAACAGAGGGTGGCACTG...   \n",
       "3          15        25  AGGCCAAGTTAATATcattacggctGTAAAACAGAGGGTGGCACTG...   \n",
       "4          20        30  AGGCCAAGTTAATATGGCCCgaaattaattACAGAGGGTGGCACTG...   \n",
       "5          25        35  AGGCCAAGTTAATATGGCCCATTTAaaggcaataaGGGTGGCACTG...   \n",
       "6          30        40  AGGCCAAGTTAATATGGCCCATTTAGTAAAgggggaaactGCACTG...   \n",
       "7          35        45  AGGCCAAGTTAATATGGCCCATTTAGTAAAACAGAacggtcggtgG...   \n",
       "8          40        50  AGGCCAAGTTAATATGGCCCATTTAGTAAAACAGAGGGTGaactac...   \n",
       "9          45        55  AGGCCAAGTTAATATGGCCCATTTAGTAAAACAGAGGGTGGCACTc...   \n",
       "10         50        60  AGGCCAAGTTAATATGGCCCATTTAGTAAAACAGAGGGTGGCACTG...   \n",
       "11         55        65  AGGCCAAGTTAATATGGCCCATTTAGTAAAACAGAGGGTGGCACTG...   \n",
       "12         60        70  AGGCCAAGTTAATATGGCCCATTTAGTAAAACAGAGGGTGGCACTG...   \n",
       "13         65        75  AGGCCAAGTTAATATGGCCCATTTAGTAAAACAGAGGGTGGCACTG...   \n",
       "14         70        80  AGGCCAAGTTAATATGGCCCATTTAGTAAAACAGAGGGTGGCACTG...   \n",
       "15         75        85  AGGCCAAGTTAATATGGCCCATTTAGTAAAACAGAGGGTGGCACTG...   \n",
       "16         80        90  AGGCCAAGTTAATATGGCCCATTTAGTAAAACAGAGGGTGGCACTG...   \n",
       "17         85        95  AGGCCAAGTTAATATGGCCCATTTAGTAAAACAGAGGGTGGCACTG...   \n",
       "18         90       100  AGGCCAAGTTAATATGGCCCATTTAGTAAAACAGAGGGTGGCACTG...   \n",
       "19         95       105  AGGCCAAGTTAATATGGCCCATTTAGTAAAACAGAGGGTGGCACTG...   \n",
       "20        100       110  AGGCCAAGTTAATATGGCCCATTTAGTAAAACAGAGGGTGGCACTG...   \n",
       "21        105       115  AGGCCAAGTTAATATGGCCCATTTAGTAAAACAGAGGGTGGCACTG...   \n",
       "22        110       120  AGGCCAAGTTAATATGGCCCATTTAGTAAAACAGAGGGTGGCACTG...   \n",
       "23        115       125  AGGCCAAGTTAATATGGCCCATTTAGTAAAACAGAGGGTGGCACTG...   \n",
       "24        120       130  AGGCCAAGTTAATATGGCCCATTTAGTAAAACAGAGGGTGGCACTG...   \n",
       "25        125       135  AGGCCAAGTTAATATGGCCCATTTAGTAAAACAGAGGGTGGCACTG...   \n",
       "26        130       140  AGGCCAAGTTAATATGGCCCATTTAGTAAAACAGAGGGTGGCACTG...   \n",
       "27        135       145  AGGCCAAGTTAATATGGCCCATTTAGTAAAACAGAGGGTGGCACTG...   \n",
       "28        140       150  AGGCCAAGTTAATATGGCCCATTTAGTAAAACAGAGGGTGGCACTG...   \n",
       "29        145       155  AGGCCAAGTTAATATGGCCCATTTAGTAAAACAGAGGGTGGCACTG...   \n",
       "30        150       160  AGGCCAAGTTAATATGGCCCATTTAGTAAAACAGAGGGTGGCACTG...   \n",
       "\n",
       "    center_pos  \n",
       "0          5.0  \n",
       "1         10.0  \n",
       "2         15.0  \n",
       "3         20.0  \n",
       "4         25.0  \n",
       "5         30.0  \n",
       "6         35.0  \n",
       "7         40.0  \n",
       "8         45.0  \n",
       "9         50.0  \n",
       "10        55.0  \n",
       "11        60.0  \n",
       "12        65.0  \n",
       "13        70.0  \n",
       "14        75.0  \n",
       "15        80.0  \n",
       "16        85.0  \n",
       "17        90.0  \n",
       "18        95.0  \n",
       "19       100.0  \n",
       "20       105.0  \n",
       "21       110.0  \n",
       "22       115.0  \n",
       "23       120.0  \n",
       "24       125.0  \n",
       "25       130.0  \n",
       "26       135.0  \n",
       "27       140.0  \n",
       "28       145.0  \n",
       "29       150.0  \n",
       "30       155.0  "
      ]
     },
     "execution_count": 9,
     "metadata": {},
     "output_type": "execute_result"
    }
   ],
   "source": [
    "df = wgregseq.create_scrambles_df(sequence, 10, 5, 100)\n",
    "df"
   ]
  },
  {
   "cell_type": "markdown",
   "metadata": {},
   "source": [
    "## Scan scrambles"
   ]
  },
  {
   "cell_type": "markdown",
   "metadata": {},
   "source": [
    "Now let's use a real sequence from the original Reg-Seq dataset and create scrambles for that sequence. Therefore, we import the file which contains all the wild type sequences."
   ]
  },
  {
   "cell_type": "code",
   "execution_count": null,
   "metadata": {},
   "outputs": [],
   "source": [
    "sequence_df = pd.read_csv(\"../../data/RegSeq/wtsequences.csv\", index_col=0).reset_index()\n",
    "sequence = sequence_df.loc[sequence_df[\"name\"] == \"ykgE\", \"geneseq\"].values[0]\n",
    "sequence"
   ]
  },
  {
   "cell_type": "markdown",
   "metadata": {},
   "source": [
    "Next, we import the 'energy matrix' that was obtained for this promoter in arabinose. We also rename the columns to contain just the headers for further analysis."
   ]
  },
  {
   "cell_type": "code",
   "execution_count": null,
   "metadata": {},
   "outputs": [],
   "source": [
    "effect_matrix = pd.read_csv(\"../../data/RegSeq/ykgEarabinosedataset_alldone_with_largeMCMC194\", delim_whitespace=True)\n",
    "effect_matrix.rename(columns={\"val_A\":\"A\", \"val_C\":\"C\", \"val_G\":\"G\", \"val_T\":\"T\"}, inplace=True)\n",
    "effect_matrix"
   ]
  },
  {
   "cell_type": "markdown",
   "metadata": {},
   "source": [
    "Now we can generate scrambles using the wild type sequence. "
   ]
  },
  {
   "cell_type": "code",
   "execution_count": null,
   "metadata": {},
   "outputs": [],
   "source": [
    "df = wgregseq.create_scrambles_df(sequence, 5, 2, 100, number=1,  ignore_imperfect_scrambling=True)\n",
    "df.head()"
   ]
  },
  {
   "cell_type": "markdown",
   "metadata": {},
   "source": [
    "To evaluate each sequence using the energy matrix, we use the following function."
   ]
  },
  {
   "cell_type": "code",
   "execution_count": null,
   "metadata": {},
   "outputs": [],
   "source": [
    "eff_df = wgregseq.sum_emat_df(df, effect_matrix)"
   ]
  },
  {
   "cell_type": "markdown",
   "metadata": {},
   "source": [
    "Let's have a look at the effect of scrambles at each position. Here we average over the effect of all scrambles at a position."
   ]
  },
  {
   "cell_type": "code",
   "execution_count": null,
   "metadata": {},
   "outputs": [],
   "source": [
    "x = eff_df[\"center_pos\"].unique()\n",
    "y = eff_df.groupby(\"center_pos\")[\"effect\"].mean().values\n",
    "plt.scatter(x - 115, y)"
   ]
  },
  {
   "cell_type": "markdown",
   "metadata": {},
   "source": [
    "## Create single and double mutants"
   ]
  },
  {
   "cell_type": "markdown",
   "metadata": {},
   "source": [
    "At some point we want to generate "
   ]
  },
  {
   "cell_type": "code",
   "execution_count": null,
   "metadata": {},
   "outputs": [],
   "source": [
    "mutants = wgregseq.mutations_det(sequence[0:5], num_mutants=10, mut_per_seq=1, site_start=0, site_end=5)\n",
    "mutants"
   ]
  },
  {
   "cell_type": "code",
   "execution_count": null,
   "metadata": {},
   "outputs": [],
   "source": [
    "wgregseq.add_primers(df[\"sequence\"].values, 0)"
   ]
  },
  {
   "cell_type": "markdown",
   "metadata": {},
   "source": [
    "These sequences including scrambles can be used to identify transcription factor binding sites or RNAP binding sites."
   ]
  },
  {
   "cell_type": "markdown",
   "metadata": {},
   "source": [
    "## Computing Environment"
   ]
  },
  {
   "cell_type": "code",
   "execution_count": null,
   "metadata": {},
   "outputs": [],
   "source": [
    "%load_ext watermark\n",
    "%watermark -v -p wgregseq,numpy,pandas"
   ]
  }
 ],
 "metadata": {
  "kernelspec": {
   "display_name": "Python",
   "language": "python",
   "name": "base"
  },
  "language_info": {
   "codemirror_mode": {
    "name": "ipython",
    "version": 3
   },
   "file_extension": ".py",
   "mimetype": "text/x-python",
   "name": "python",
   "nbconvert_exporter": "python",
   "pygments_lexer": "ipython3",
   "version": "3.8.5"
  }
 },
 "nbformat": 4,
 "nbformat_minor": 4
}
