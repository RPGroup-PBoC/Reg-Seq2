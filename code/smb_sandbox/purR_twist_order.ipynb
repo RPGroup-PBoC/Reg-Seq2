{
 "cells": [
  {
   "cell_type": "markdown",
   "metadata": {},
   "source": [
    "# Designing purR sequences"
   ]
  },
  {
   "cell_type": "markdown",
   "metadata": {},
   "source": [
    "(c) 2020 Tom Röschinger and Suzy Beeler. This work is licensed under a [Creative Commons Attribution License CC-BY 4.0](https://creativecommons.org/licenses/by/4.0/). All code contained herein is licensed under an [MIT license](https://opensource.org/licenses/MIT)."
   ]
  },
  {
   "cell_type": "code",
   "execution_count": 12,
   "metadata": {},
   "outputs": [
    {
     "name": "stdout",
     "output_type": "stream",
     "text": [
      "The autoreload extension is already loaded. To reload it, use:\n",
      "  %reload_ext autoreload\n"
     ]
    }
   ],
   "source": [
    "import wgregseq\n",
    "%load_ext autoreload\n",
    "%autoreload 2\n",
    "\n",
    "import pandas as pd"
   ]
  },
  {
   "cell_type": "markdown",
   "metadata": {},
   "source": [
    "Define the sequences we want to work with:\n",
    "\n",
    "- `lacUV5_purR_overlap`: TCGAG**TTTACA**C<u>ACGCAAACGTTTTCGT</u>G**TATAAT**GTGTGG \n",
    "- `lacUV5_purR_downstream`: TCGAG**TTTACA**CTTTATGCTTCCGGCTCG**TATAAT**GTGTGG<u>ACGCAAACGTTTTCGT</u>\n",
    "\n",
    "With the -10 and -35 sites in bold for reference, and the purR binding site underlined."
   ]
  },
  {
   "cell_type": "code",
   "execution_count": 13,
   "metadata": {},
   "outputs": [],
   "source": [
    "lacUV5_purR_overlap = \"TCGAGTTTACACACGCAAACGTTTTCGTGTATAATGTGTGG\"\n",
    "lacUV5_purR_downstream = \"TCGAGTTTACACTTTATGCTTCCGGCTCGTATAATGTGTGGACGCAAACGTTTTCGT\""
   ]
  },
  {
   "cell_type": "markdown",
   "metadata": {},
   "source": [
    "Let's make sure to figure out which region of each sequence we want to mutate (i.e. just the purR binding site):"
   ]
  },
  {
   "cell_type": "code",
   "execution_count": 14,
   "metadata": {},
   "outputs": [
    {
     "data": {
      "text/plain": [
       "'ACGCAAACGTTTTCGT'"
      ]
     },
     "execution_count": 14,
     "metadata": {},
     "output_type": "execute_result"
    }
   ],
   "source": [
    "lacUV5_purR_overlap[12:28]"
   ]
  },
  {
   "cell_type": "code",
   "execution_count": 15,
   "metadata": {},
   "outputs": [
    {
     "data": {
      "text/plain": [
       "'ACGCAAACGTTTTCGT'"
      ]
     },
     "execution_count": 15,
     "metadata": {},
     "output_type": "execute_result"
    }
   ],
   "source": [
    "lacUV5_purR_downstream[-16:]"
   ]
  },
  {
   "cell_type": "markdown",
   "metadata": {},
   "source": [
    "## Constructs"
   ]
  },
  {
   "cell_type": "markdown",
   "metadata": {},
   "source": [
    "### LacUV5 with operator downstream"
   ]
  },
  {
   "cell_type": "code",
   "execution_count": 16,
   "metadata": {},
   "outputs": [
    {
     "data": {
      "text/html": [
       "<div>\n",
       "<style scoped>\n",
       "    .dataframe tbody tr th:only-of-type {\n",
       "        vertical-align: middle;\n",
       "    }\n",
       "\n",
       "    .dataframe tbody tr th {\n",
       "        vertical-align: top;\n",
       "    }\n",
       "\n",
       "    .dataframe thead th {\n",
       "        text-align: right;\n",
       "    }\n",
       "</style>\n",
       "<table border=\"1\" class=\"dataframe\">\n",
       "  <thead>\n",
       "    <tr style=\"text-align: right;\">\n",
       "      <th></th>\n",
       "      <th>seq</th>\n",
       "      <th>description</th>\n",
       "    </tr>\n",
       "  </thead>\n",
       "  <tbody>\n",
       "    <tr>\n",
       "      <th>43</th>\n",
       "      <td>TCGAGTTTACACTTTATGCTTCCGGCTCGTATAATGTGTGGACGCA...</td>\n",
       "      <td>lacUV5 purR downstream single mutant</td>\n",
       "    </tr>\n",
       "    <tr>\n",
       "      <th>44</th>\n",
       "      <td>TCGAGTTTACACTTTATGCTTCCGGCTCGTATAATGTGTGGACGCA...</td>\n",
       "      <td>lacUV5 purR downstream single mutant</td>\n",
       "    </tr>\n",
       "    <tr>\n",
       "      <th>45</th>\n",
       "      <td>TCGAGTTTACACTTTATGCTTCCGGCTCGTATAATGTGTGGACGCA...</td>\n",
       "      <td>lacUV5 purR downstream single mutant</td>\n",
       "    </tr>\n",
       "    <tr>\n",
       "      <th>46</th>\n",
       "      <td>TCGAGTTTACACTTTATGCTTCCGGCTCGTATAATGTGTGGACGCA...</td>\n",
       "      <td>lacUV5 purR downstream single mutant</td>\n",
       "    </tr>\n",
       "    <tr>\n",
       "      <th>47</th>\n",
       "      <td>TCGAGTTTACACTTTATGCTTCCGGCTCGTATAATGTGTGGACGCA...</td>\n",
       "      <td>lacUV5 purR downstream single mutant</td>\n",
       "    </tr>\n",
       "  </tbody>\n",
       "</table>\n",
       "</div>"
      ],
      "text/plain": [
       "                                                  seq  \\\n",
       "43  TCGAGTTTACACTTTATGCTTCCGGCTCGTATAATGTGTGGACGCA...   \n",
       "44  TCGAGTTTACACTTTATGCTTCCGGCTCGTATAATGTGTGGACGCA...   \n",
       "45  TCGAGTTTACACTTTATGCTTCCGGCTCGTATAATGTGTGGACGCA...   \n",
       "46  TCGAGTTTACACTTTATGCTTCCGGCTCGTATAATGTGTGGACGCA...   \n",
       "47  TCGAGTTTACACTTTATGCTTCCGGCTCGTATAATGTGTGGACGCA...   \n",
       "\n",
       "                             description  \n",
       "43  lacUV5 purR downstream single mutant  \n",
       "44  lacUV5 purR downstream single mutant  \n",
       "45  lacUV5 purR downstream single mutant  \n",
       "46  lacUV5 purR downstream single mutant  \n",
       "47  lacUV5 purR downstream single mutant  "
      ]
     },
     "execution_count": 16,
     "metadata": {},
     "output_type": "execute_result"
    }
   ],
   "source": [
    "mutants_single = wgregseq.mutations_det(lacUV5_purR_downstream, mut_per_seq=1, site_start=-16)\n",
    "downstream_df_single = pd.DataFrame({\"seq\":mutants_single})\n",
    "downstream_df_single[\"description\"] = \"lacUV5 purR downstream single mutant\"\n",
    "downstream_df_single.tail()"
   ]
  },
  {
   "cell_type": "code",
   "execution_count": 17,
   "metadata": {},
   "outputs": [
    {
     "data": {
      "text/html": [
       "<div>\n",
       "<style scoped>\n",
       "    .dataframe tbody tr th:only-of-type {\n",
       "        vertical-align: middle;\n",
       "    }\n",
       "\n",
       "    .dataframe tbody tr th {\n",
       "        vertical-align: top;\n",
       "    }\n",
       "\n",
       "    .dataframe thead th {\n",
       "        text-align: right;\n",
       "    }\n",
       "</style>\n",
       "<table border=\"1\" class=\"dataframe\">\n",
       "  <thead>\n",
       "    <tr style=\"text-align: right;\">\n",
       "      <th></th>\n",
       "      <th>seq</th>\n",
       "      <th>description</th>\n",
       "    </tr>\n",
       "  </thead>\n",
       "  <tbody>\n",
       "    <tr>\n",
       "      <th>1075</th>\n",
       "      <td>TCGAGTTTACACTTTATGCTTCCGGCTCGTATAATGTGTGGACGCA...</td>\n",
       "      <td>lacUV5 purR downstream double mutant</td>\n",
       "    </tr>\n",
       "    <tr>\n",
       "      <th>1076</th>\n",
       "      <td>TCGAGTTTACACTTTATGCTTCCGGCTCGTATAATGTGTGGACGCA...</td>\n",
       "      <td>lacUV5 purR downstream double mutant</td>\n",
       "    </tr>\n",
       "    <tr>\n",
       "      <th>1077</th>\n",
       "      <td>TCGAGTTTACACTTTATGCTTCCGGCTCGTATAATGTGTGGACGCA...</td>\n",
       "      <td>lacUV5 purR downstream double mutant</td>\n",
       "    </tr>\n",
       "    <tr>\n",
       "      <th>1078</th>\n",
       "      <td>TCGAGTTTACACTTTATGCTTCCGGCTCGTATAATGTGTGGACGCA...</td>\n",
       "      <td>lacUV5 purR downstream double mutant</td>\n",
       "    </tr>\n",
       "    <tr>\n",
       "      <th>1079</th>\n",
       "      <td>TCGAGTTTACACTTTATGCTTCCGGCTCGTATAATGTGTGGACGCA...</td>\n",
       "      <td>lacUV5 purR downstream double mutant</td>\n",
       "    </tr>\n",
       "  </tbody>\n",
       "</table>\n",
       "</div>"
      ],
      "text/plain": [
       "                                                    seq  \\\n",
       "1075  TCGAGTTTACACTTTATGCTTCCGGCTCGTATAATGTGTGGACGCA...   \n",
       "1076  TCGAGTTTACACTTTATGCTTCCGGCTCGTATAATGTGTGGACGCA...   \n",
       "1077  TCGAGTTTACACTTTATGCTTCCGGCTCGTATAATGTGTGGACGCA...   \n",
       "1078  TCGAGTTTACACTTTATGCTTCCGGCTCGTATAATGTGTGGACGCA...   \n",
       "1079  TCGAGTTTACACTTTATGCTTCCGGCTCGTATAATGTGTGGACGCA...   \n",
       "\n",
       "                               description  \n",
       "1075  lacUV5 purR downstream double mutant  \n",
       "1076  lacUV5 purR downstream double mutant  \n",
       "1077  lacUV5 purR downstream double mutant  \n",
       "1078  lacUV5 purR downstream double mutant  \n",
       "1079  lacUV5 purR downstream double mutant  "
      ]
     },
     "execution_count": 17,
     "metadata": {},
     "output_type": "execute_result"
    }
   ],
   "source": [
    "mutants_double = wgregseq.mutations_det(lacUV5_purR_downstream, mut_per_seq=2, site_start=-16)\n",
    "downstream_df_double = pd.DataFrame({\"seq\":mutants_double})\n",
    "downstream_df_double[\"description\"] = \"lacUV5 purR downstream double mutant\"\n",
    "downstream_df_double.tail()"
   ]
  },
  {
   "cell_type": "markdown",
   "metadata": {},
   "source": [
    "### LacUV5 with operator overlapping "
   ]
  },
  {
   "cell_type": "code",
   "execution_count": 18,
   "metadata": {},
   "outputs": [
    {
     "data": {
      "text/html": [
       "<div>\n",
       "<style scoped>\n",
       "    .dataframe tbody tr th:only-of-type {\n",
       "        vertical-align: middle;\n",
       "    }\n",
       "\n",
       "    .dataframe tbody tr th {\n",
       "        vertical-align: top;\n",
       "    }\n",
       "\n",
       "    .dataframe thead th {\n",
       "        text-align: right;\n",
       "    }\n",
       "</style>\n",
       "<table border=\"1\" class=\"dataframe\">\n",
       "  <thead>\n",
       "    <tr style=\"text-align: right;\">\n",
       "      <th></th>\n",
       "      <th>seq</th>\n",
       "      <th>description</th>\n",
       "    </tr>\n",
       "  </thead>\n",
       "  <tbody>\n",
       "    <tr>\n",
       "      <th>43</th>\n",
       "      <td>TCGAGTTTACACACGCAAACGTTgTCGTGTATAATGTGTGG</td>\n",
       "      <td>lacUV5 purR overlap single mutant</td>\n",
       "    </tr>\n",
       "    <tr>\n",
       "      <th>44</th>\n",
       "      <td>TCGAGTTTACACACGCAAACGTTTgCGTGTATAATGTGTGG</td>\n",
       "      <td>lacUV5 purR overlap single mutant</td>\n",
       "    </tr>\n",
       "    <tr>\n",
       "      <th>45</th>\n",
       "      <td>TCGAGTTTACACACGCAAACGTTTTtGTGTATAATGTGTGG</td>\n",
       "      <td>lacUV5 purR overlap single mutant</td>\n",
       "    </tr>\n",
       "    <tr>\n",
       "      <th>46</th>\n",
       "      <td>TCGAGTTTACACACGCAAACGTTTTCtTGTATAATGTGTGG</td>\n",
       "      <td>lacUV5 purR overlap single mutant</td>\n",
       "    </tr>\n",
       "    <tr>\n",
       "      <th>47</th>\n",
       "      <td>TCGAGTTTACACACGCAAACGTTTTCGgGTATAATGTGTGG</td>\n",
       "      <td>lacUV5 purR overlap single mutant</td>\n",
       "    </tr>\n",
       "  </tbody>\n",
       "</table>\n",
       "</div>"
      ],
      "text/plain": [
       "                                          seq  \\\n",
       "43  TCGAGTTTACACACGCAAACGTTgTCGTGTATAATGTGTGG   \n",
       "44  TCGAGTTTACACACGCAAACGTTTgCGTGTATAATGTGTGG   \n",
       "45  TCGAGTTTACACACGCAAACGTTTTtGTGTATAATGTGTGG   \n",
       "46  TCGAGTTTACACACGCAAACGTTTTCtTGTATAATGTGTGG   \n",
       "47  TCGAGTTTACACACGCAAACGTTTTCGgGTATAATGTGTGG   \n",
       "\n",
       "                          description  \n",
       "43  lacUV5 purR overlap single mutant  \n",
       "44  lacUV5 purR overlap single mutant  \n",
       "45  lacUV5 purR overlap single mutant  \n",
       "46  lacUV5 purR overlap single mutant  \n",
       "47  lacUV5 purR overlap single mutant  "
      ]
     },
     "execution_count": 18,
     "metadata": {},
     "output_type": "execute_result"
    }
   ],
   "source": [
    "mutants_single = wgregseq.mutations_det(lacUV5_purR_overlap, mut_per_seq=1, site_start=12, site_end=28)\n",
    "overlap_df_single = pd.DataFrame({\"seq\":mutants_single})\n",
    "overlap_df_single[\"description\"] = \"lacUV5 purR overlap single mutant\"\n",
    "overlap_df_single.tail()"
   ]
  },
  {
   "cell_type": "code",
   "execution_count": 19,
   "metadata": {},
   "outputs": [
    {
     "data": {
      "text/html": [
       "<div>\n",
       "<style scoped>\n",
       "    .dataframe tbody tr th:only-of-type {\n",
       "        vertical-align: middle;\n",
       "    }\n",
       "\n",
       "    .dataframe tbody tr th {\n",
       "        vertical-align: top;\n",
       "    }\n",
       "\n",
       "    .dataframe thead th {\n",
       "        text-align: right;\n",
       "    }\n",
       "</style>\n",
       "<table border=\"1\" class=\"dataframe\">\n",
       "  <thead>\n",
       "    <tr style=\"text-align: right;\">\n",
       "      <th></th>\n",
       "      <th>seq</th>\n",
       "      <th>description</th>\n",
       "    </tr>\n",
       "  </thead>\n",
       "  <tbody>\n",
       "    <tr>\n",
       "      <th>1075</th>\n",
       "      <td>TCGAGTTTACACACGCAAACGTTTTttTGTATAATGTGTGG</td>\n",
       "      <td>lacUV5 purR overlap double mutant</td>\n",
       "    </tr>\n",
       "    <tr>\n",
       "      <th>1076</th>\n",
       "      <td>TCGAGTTTACACACGCAAACGTTTTtGgGTATAATGTGTGG</td>\n",
       "      <td>lacUV5 purR overlap double mutant</td>\n",
       "    </tr>\n",
       "    <tr>\n",
       "      <th>1077</th>\n",
       "      <td>TCGAGTTTACACACGCAAACGTTTTCtaGTATAATGTGTGG</td>\n",
       "      <td>lacUV5 purR overlap double mutant</td>\n",
       "    </tr>\n",
       "    <tr>\n",
       "      <th>1078</th>\n",
       "      <td>TCGAGTTTACACACGCAAACGTTTTCtcGTATAATGTGTGG</td>\n",
       "      <td>lacUV5 purR overlap double mutant</td>\n",
       "    </tr>\n",
       "    <tr>\n",
       "      <th>1079</th>\n",
       "      <td>TCGAGTTTACACACGCAAACGTTTTCtgGTATAATGTGTGG</td>\n",
       "      <td>lacUV5 purR overlap double mutant</td>\n",
       "    </tr>\n",
       "  </tbody>\n",
       "</table>\n",
       "</div>"
      ],
      "text/plain": [
       "                                            seq  \\\n",
       "1075  TCGAGTTTACACACGCAAACGTTTTttTGTATAATGTGTGG   \n",
       "1076  TCGAGTTTACACACGCAAACGTTTTtGgGTATAATGTGTGG   \n",
       "1077  TCGAGTTTACACACGCAAACGTTTTCtaGTATAATGTGTGG   \n",
       "1078  TCGAGTTTACACACGCAAACGTTTTCtcGTATAATGTGTGG   \n",
       "1079  TCGAGTTTACACACGCAAACGTTTTCtgGTATAATGTGTGG   \n",
       "\n",
       "                            description  \n",
       "1075  lacUV5 purR overlap double mutant  \n",
       "1076  lacUV5 purR overlap double mutant  \n",
       "1077  lacUV5 purR overlap double mutant  \n",
       "1078  lacUV5 purR overlap double mutant  \n",
       "1079  lacUV5 purR overlap double mutant  "
      ]
     },
     "execution_count": 19,
     "metadata": {},
     "output_type": "execute_result"
    }
   ],
   "source": [
    "mutants_double = wgregseq.mutations_det(lacUV5_purR_overlap, mut_per_seq=2, site_start=12, site_end=28)\n",
    "overlap_df_double = pd.DataFrame({\"seq\":mutants_double})\n",
    "overlap_df_double[\"description\"] = \"lacUV5 purR overlap double mutant\"\n",
    "overlap_df_double.tail()"
   ]
  },
  {
   "cell_type": "markdown",
   "metadata": {},
   "source": [
    "### Combine them all"
   ]
  },
  {
   "cell_type": "code",
   "execution_count": 20,
   "metadata": {},
   "outputs": [
    {
     "data": {
      "text/html": [
       "<div>\n",
       "<style scoped>\n",
       "    .dataframe tbody tr th:only-of-type {\n",
       "        vertical-align: middle;\n",
       "    }\n",
       "\n",
       "    .dataframe tbody tr th {\n",
       "        vertical-align: top;\n",
       "    }\n",
       "\n",
       "    .dataframe thead th {\n",
       "        text-align: right;\n",
       "    }\n",
       "</style>\n",
       "<table border=\"1\" class=\"dataframe\">\n",
       "  <thead>\n",
       "    <tr style=\"text-align: right;\">\n",
       "      <th></th>\n",
       "      <th>seq</th>\n",
       "      <th>description</th>\n",
       "    </tr>\n",
       "  </thead>\n",
       "  <tbody>\n",
       "    <tr>\n",
       "      <th>2251</th>\n",
       "      <td>TCGAGTTTACACACGCAAACGTTTTttTGTATAATGTGTGG</td>\n",
       "      <td>lacUV5 purR overlap double mutant</td>\n",
       "    </tr>\n",
       "    <tr>\n",
       "      <th>2252</th>\n",
       "      <td>TCGAGTTTACACACGCAAACGTTTTtGgGTATAATGTGTGG</td>\n",
       "      <td>lacUV5 purR overlap double mutant</td>\n",
       "    </tr>\n",
       "    <tr>\n",
       "      <th>2253</th>\n",
       "      <td>TCGAGTTTACACACGCAAACGTTTTCtaGTATAATGTGTGG</td>\n",
       "      <td>lacUV5 purR overlap double mutant</td>\n",
       "    </tr>\n",
       "    <tr>\n",
       "      <th>2254</th>\n",
       "      <td>TCGAGTTTACACACGCAAACGTTTTCtcGTATAATGTGTGG</td>\n",
       "      <td>lacUV5 purR overlap double mutant</td>\n",
       "    </tr>\n",
       "    <tr>\n",
       "      <th>2255</th>\n",
       "      <td>TCGAGTTTACACACGCAAACGTTTTCtgGTATAATGTGTGG</td>\n",
       "      <td>lacUV5 purR overlap double mutant</td>\n",
       "    </tr>\n",
       "  </tbody>\n",
       "</table>\n",
       "</div>"
      ],
      "text/plain": [
       "                                            seq  \\\n",
       "2251  TCGAGTTTACACACGCAAACGTTTTttTGTATAATGTGTGG   \n",
       "2252  TCGAGTTTACACACGCAAACGTTTTtGgGTATAATGTGTGG   \n",
       "2253  TCGAGTTTACACACGCAAACGTTTTCtaGTATAATGTGTGG   \n",
       "2254  TCGAGTTTACACACGCAAACGTTTTCtcGTATAATGTGTGG   \n",
       "2255  TCGAGTTTACACACGCAAACGTTTTCtgGTATAATGTGTGG   \n",
       "\n",
       "                            description  \n",
       "2251  lacUV5 purR overlap double mutant  \n",
       "2252  lacUV5 purR overlap double mutant  \n",
       "2253  lacUV5 purR overlap double mutant  \n",
       "2254  lacUV5 purR overlap double mutant  \n",
       "2255  lacUV5 purR overlap double mutant  "
      ]
     },
     "execution_count": 20,
     "metadata": {},
     "output_type": "execute_result"
    }
   ],
   "source": [
    "purR_df = pd.concat([downstream_df_single, downstream_df_double, overlap_df_single, overlap_df_double], ignore_index=True)\n",
    "purR_df.tail()"
   ]
  },
  {
   "cell_type": "code",
   "execution_count": 10,
   "metadata": {},
   "outputs": [],
   "source": [
    "purR_df.to_csv(\"purR_twist_order.csv\")"
   ]
  },
  {
   "cell_type": "code",
   "execution_count": null,
   "metadata": {},
   "outputs": [],
   "source": []
  }
 ],
 "metadata": {
  "kernelspec": {
   "display_name": "Python 3",
   "language": "python",
   "name": "python3"
  },
  "language_info": {
   "codemirror_mode": {
    "name": "ipython",
    "version": 3
   },
   "file_extension": ".py",
   "mimetype": "text/x-python",
   "name": "python",
   "nbconvert_exporter": "python",
   "pygments_lexer": "ipython3",
   "version": "3.7.9"
  }
 },
 "nbformat": 4,
 "nbformat_minor": 4
}
