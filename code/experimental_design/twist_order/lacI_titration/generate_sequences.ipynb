{
 "cells": [
  {
   "cell_type": "markdown",
   "metadata": {},
   "source": [
    "# Generating LacI operator constructs"
   ]
  },
  {
   "cell_type": "markdown",
   "metadata": {},
   "source": [
    "(c) 2020 Tom Röschinger. This work is licensed under a [Creative Commons Attribution License CC-BY 4.0](https://creativecommons.org/licenses/by/4.0/). All code contained herein is licensed under an [MIT license](https://opensource.org/licenses/MIT)."
   ]
  },
  {
   "cell_type": "markdown",
   "metadata": {},
   "source": [
    "***"
   ]
  },
  {
   "cell_type": "markdown",
   "metadata": {},
   "source": [
    "In this notebook we create mutants from the O1-sequence, which is a strong binding site for lacI."
   ]
  },
  {
   "cell_type": "code",
   "execution_count": 96,
   "metadata": {},
   "outputs": [
    {
     "name": "stdout",
     "output_type": "stream",
     "text": [
      "The autoreload extension is already loaded. To reload it, use:\n",
      "  %reload_ext autoreload\n"
     ]
    },
    {
     "data": {
      "text/html": [
       "\n",
       "    <div class=\"bk-root\">\n",
       "        <a href=\"https://bokeh.org\" target=\"_blank\" class=\"bk-logo bk-logo-small bk-logo-notebook\"></a>\n",
       "        <span id=\"14271\">Loading BokehJS ...</span>\n",
       "    </div>"
      ]
     },
     "metadata": {},
     "output_type": "display_data"
    },
    {
     "data": {
      "application/javascript": [
       "\n",
       "(function(root) {\n",
       "  function now() {\n",
       "    return new Date();\n",
       "  }\n",
       "\n",
       "  var force = true;\n",
       "\n",
       "  if (typeof root._bokeh_onload_callbacks === \"undefined\" || force === true) {\n",
       "    root._bokeh_onload_callbacks = [];\n",
       "    root._bokeh_is_loading = undefined;\n",
       "  }\n",
       "\n",
       "  var JS_MIME_TYPE = 'application/javascript';\n",
       "  var HTML_MIME_TYPE = 'text/html';\n",
       "  var EXEC_MIME_TYPE = 'application/vnd.bokehjs_exec.v0+json';\n",
       "  var CLASS_NAME = 'output_bokeh rendered_html';\n",
       "\n",
       "  /**\n",
       "   * Render data to the DOM node\n",
       "   */\n",
       "  function render(props, node) {\n",
       "    var script = document.createElement(\"script\");\n",
       "    node.appendChild(script);\n",
       "  }\n",
       "\n",
       "  /**\n",
       "   * Handle when an output is cleared or removed\n",
       "   */\n",
       "  function handleClearOutput(event, handle) {\n",
       "    var cell = handle.cell;\n",
       "\n",
       "    var id = cell.output_area._bokeh_element_id;\n",
       "    var server_id = cell.output_area._bokeh_server_id;\n",
       "    // Clean up Bokeh references\n",
       "    if (id != null && id in Bokeh.index) {\n",
       "      Bokeh.index[id].model.document.clear();\n",
       "      delete Bokeh.index[id];\n",
       "    }\n",
       "\n",
       "    if (server_id !== undefined) {\n",
       "      // Clean up Bokeh references\n",
       "      var cmd = \"from bokeh.io.state import curstate; print(curstate().uuid_to_server['\" + server_id + \"'].get_sessions()[0].document.roots[0]._id)\";\n",
       "      cell.notebook.kernel.execute(cmd, {\n",
       "        iopub: {\n",
       "          output: function(msg) {\n",
       "            var id = msg.content.text.trim();\n",
       "            if (id in Bokeh.index) {\n",
       "              Bokeh.index[id].model.document.clear();\n",
       "              delete Bokeh.index[id];\n",
       "            }\n",
       "          }\n",
       "        }\n",
       "      });\n",
       "      // Destroy server and session\n",
       "      var cmd = \"import bokeh.io.notebook as ion; ion.destroy_server('\" + server_id + \"')\";\n",
       "      cell.notebook.kernel.execute(cmd);\n",
       "    }\n",
       "  }\n",
       "\n",
       "  /**\n",
       "   * Handle when a new output is added\n",
       "   */\n",
       "  function handleAddOutput(event, handle) {\n",
       "    var output_area = handle.output_area;\n",
       "    var output = handle.output;\n",
       "\n",
       "    // limit handleAddOutput to display_data with EXEC_MIME_TYPE content only\n",
       "    if ((output.output_type != \"display_data\") || (!output.data.hasOwnProperty(EXEC_MIME_TYPE))) {\n",
       "      return\n",
       "    }\n",
       "\n",
       "    var toinsert = output_area.element.find(\".\" + CLASS_NAME.split(' ')[0]);\n",
       "\n",
       "    if (output.metadata[EXEC_MIME_TYPE][\"id\"] !== undefined) {\n",
       "      toinsert[toinsert.length - 1].firstChild.textContent = output.data[JS_MIME_TYPE];\n",
       "      // store reference to embed id on output_area\n",
       "      output_area._bokeh_element_id = output.metadata[EXEC_MIME_TYPE][\"id\"];\n",
       "    }\n",
       "    if (output.metadata[EXEC_MIME_TYPE][\"server_id\"] !== undefined) {\n",
       "      var bk_div = document.createElement(\"div\");\n",
       "      bk_div.innerHTML = output.data[HTML_MIME_TYPE];\n",
       "      var script_attrs = bk_div.children[0].attributes;\n",
       "      for (var i = 0; i < script_attrs.length; i++) {\n",
       "        toinsert[toinsert.length - 1].firstChild.setAttribute(script_attrs[i].name, script_attrs[i].value);\n",
       "        toinsert[toinsert.length - 1].firstChild.textContent = bk_div.children[0].textContent\n",
       "      }\n",
       "      // store reference to server id on output_area\n",
       "      output_area._bokeh_server_id = output.metadata[EXEC_MIME_TYPE][\"server_id\"];\n",
       "    }\n",
       "  }\n",
       "\n",
       "  function register_renderer(events, OutputArea) {\n",
       "\n",
       "    function append_mime(data, metadata, element) {\n",
       "      // create a DOM node to render to\n",
       "      var toinsert = this.create_output_subarea(\n",
       "        metadata,\n",
       "        CLASS_NAME,\n",
       "        EXEC_MIME_TYPE\n",
       "      );\n",
       "      this.keyboard_manager.register_events(toinsert);\n",
       "      // Render to node\n",
       "      var props = {data: data, metadata: metadata[EXEC_MIME_TYPE]};\n",
       "      render(props, toinsert[toinsert.length - 1]);\n",
       "      element.append(toinsert);\n",
       "      return toinsert\n",
       "    }\n",
       "\n",
       "    /* Handle when an output is cleared or removed */\n",
       "    events.on('clear_output.CodeCell', handleClearOutput);\n",
       "    events.on('delete.Cell', handleClearOutput);\n",
       "\n",
       "    /* Handle when a new output is added */\n",
       "    events.on('output_added.OutputArea', handleAddOutput);\n",
       "\n",
       "    /**\n",
       "     * Register the mime type and append_mime function with output_area\n",
       "     */\n",
       "    OutputArea.prototype.register_mime_type(EXEC_MIME_TYPE, append_mime, {\n",
       "      /* Is output safe? */\n",
       "      safe: true,\n",
       "      /* Index of renderer in `output_area.display_order` */\n",
       "      index: 0\n",
       "    });\n",
       "  }\n",
       "\n",
       "  // register the mime type if in Jupyter Notebook environment and previously unregistered\n",
       "  if (root.Jupyter !== undefined) {\n",
       "    var events = require('base/js/events');\n",
       "    var OutputArea = require('notebook/js/outputarea').OutputArea;\n",
       "\n",
       "    if (OutputArea.prototype.mime_types().indexOf(EXEC_MIME_TYPE) == -1) {\n",
       "      register_renderer(events, OutputArea);\n",
       "    }\n",
       "  }\n",
       "\n",
       "  \n",
       "  if (typeof (root._bokeh_timeout) === \"undefined\" || force === true) {\n",
       "    root._bokeh_timeout = Date.now() + 5000;\n",
       "    root._bokeh_failed_load = false;\n",
       "  }\n",
       "\n",
       "  var NB_LOAD_WARNING = {'data': {'text/html':\n",
       "     \"<div style='background-color: #fdd'>\\n\"+\n",
       "     \"<p>\\n\"+\n",
       "     \"BokehJS does not appear to have successfully loaded. If loading BokehJS from CDN, this \\n\"+\n",
       "     \"may be due to a slow or bad network connection. Possible fixes:\\n\"+\n",
       "     \"</p>\\n\"+\n",
       "     \"<ul>\\n\"+\n",
       "     \"<li>re-rerun `output_notebook()` to attempt to load from CDN again, or</li>\\n\"+\n",
       "     \"<li>use INLINE resources instead, as so:</li>\\n\"+\n",
       "     \"</ul>\\n\"+\n",
       "     \"<code>\\n\"+\n",
       "     \"from bokeh.resources import INLINE\\n\"+\n",
       "     \"output_notebook(resources=INLINE)\\n\"+\n",
       "     \"</code>\\n\"+\n",
       "     \"</div>\"}};\n",
       "\n",
       "  function display_loaded() {\n",
       "    var el = document.getElementById(\"14271\");\n",
       "    if (el != null) {\n",
       "      el.textContent = \"BokehJS is loading...\";\n",
       "    }\n",
       "    if (root.Bokeh !== undefined) {\n",
       "      if (el != null) {\n",
       "        el.textContent = \"BokehJS \" + root.Bokeh.version + \" successfully loaded.\";\n",
       "      }\n",
       "    } else if (Date.now() < root._bokeh_timeout) {\n",
       "      setTimeout(display_loaded, 100)\n",
       "    }\n",
       "  }\n",
       "\n",
       "\n",
       "  function run_callbacks() {\n",
       "    try {\n",
       "      root._bokeh_onload_callbacks.forEach(function(callback) {\n",
       "        if (callback != null)\n",
       "          callback();\n",
       "      });\n",
       "    } finally {\n",
       "      delete root._bokeh_onload_callbacks\n",
       "    }\n",
       "    console.debug(\"Bokeh: all callbacks have finished\");\n",
       "  }\n",
       "\n",
       "  function load_libs(css_urls, js_urls, callback) {\n",
       "    if (css_urls == null) css_urls = [];\n",
       "    if (js_urls == null) js_urls = [];\n",
       "\n",
       "    root._bokeh_onload_callbacks.push(callback);\n",
       "    if (root._bokeh_is_loading > 0) {\n",
       "      console.debug(\"Bokeh: BokehJS is being loaded, scheduling callback at\", now());\n",
       "      return null;\n",
       "    }\n",
       "    if (js_urls == null || js_urls.length === 0) {\n",
       "      run_callbacks();\n",
       "      return null;\n",
       "    }\n",
       "    console.debug(\"Bokeh: BokehJS not loaded, scheduling load and callback at\", now());\n",
       "    root._bokeh_is_loading = css_urls.length + js_urls.length;\n",
       "\n",
       "    function on_load() {\n",
       "      root._bokeh_is_loading--;\n",
       "      if (root._bokeh_is_loading === 0) {\n",
       "        console.debug(\"Bokeh: all BokehJS libraries/stylesheets loaded\");\n",
       "        run_callbacks()\n",
       "      }\n",
       "    }\n",
       "\n",
       "    function on_error() {\n",
       "      console.error(\"failed to load \" + url);\n",
       "    }\n",
       "\n",
       "    for (var i = 0; i < css_urls.length; i++) {\n",
       "      var url = css_urls[i];\n",
       "      const element = document.createElement(\"link\");\n",
       "      element.onload = on_load;\n",
       "      element.onerror = on_error;\n",
       "      element.rel = \"stylesheet\";\n",
       "      element.type = \"text/css\";\n",
       "      element.href = url;\n",
       "      console.debug(\"Bokeh: injecting link tag for BokehJS stylesheet: \", url);\n",
       "      document.body.appendChild(element);\n",
       "    }\n",
       "\n",
       "    const hashes = {\"https://cdn.bokeh.org/bokeh/release/bokeh-2.0.2.min.js\": \"ufR9RFnRs6lniiaFvtJziE0YeidtAgBRH6ux2oUItHw5WTvE1zuk9uzhUU/FJXDp\", \"https://cdn.bokeh.org/bokeh/release/bokeh-widgets-2.0.2.min.js\": \"8QM/PGWBT+IssZuRcDcjzwIh1mkOmJSoNMmyYDZbCfXJg3Ap1lEvdVgFuSAwhb/J\", \"https://cdn.bokeh.org/bokeh/release/bokeh-tables-2.0.2.min.js\": \"Jm8cH3Rg0P6UeZhVY5cLy1WzKajUT9KImCY+76hEqrcJt59/d8GPvFHjCkYgnSIn\", \"https://cdn.bokeh.org/bokeh/release/bokeh-gl-2.0.2.min.js\": \"Ozhzj+SI7ywm74aOI/UajcWz+C0NjsPunEVyVIrxzYkB+jA+2tUw8x5xJCbVtK5I\"};\n",
       "\n",
       "    for (var i = 0; i < js_urls.length; i++) {\n",
       "      var url = js_urls[i];\n",
       "      var element = document.createElement('script');\n",
       "      element.onload = on_load;\n",
       "      element.onerror = on_error;\n",
       "      element.async = false;\n",
       "      element.src = url;\n",
       "      if (url in hashes) {\n",
       "        element.crossOrigin = \"anonymous\";\n",
       "        element.integrity = \"sha384-\" + hashes[url];\n",
       "      }\n",
       "      console.debug(\"Bokeh: injecting script tag for BokehJS library: \", url);\n",
       "      document.head.appendChild(element);\n",
       "    }\n",
       "  };\n",
       "\n",
       "  function inject_raw_css(css) {\n",
       "    const element = document.createElement(\"style\");\n",
       "    element.appendChild(document.createTextNode(css));\n",
       "    document.body.appendChild(element);\n",
       "  }\n",
       "\n",
       "  \n",
       "  var js_urls = [\"https://cdn.bokeh.org/bokeh/release/bokeh-2.0.2.min.js\", \"https://cdn.bokeh.org/bokeh/release/bokeh-widgets-2.0.2.min.js\", \"https://cdn.bokeh.org/bokeh/release/bokeh-tables-2.0.2.min.js\", \"https://cdn.bokeh.org/bokeh/release/bokeh-gl-2.0.2.min.js\", \"https://unpkg.com/@holoviz/panel@^0.9.5/dist/panel.min.js\"];\n",
       "  var css_urls = [];\n",
       "  \n",
       "\n",
       "  var inline_js = [\n",
       "    function(Bokeh) {\n",
       "      inject_raw_css(\".widget-box {\\n\\tmin-height: 20px;\\n\\tbackground-color: #f5f5f5;\\n\\tborder: 1px solid #e3e3e3 !important;\\n\\tborder-radius: 4px;\\n\\t-webkit-box-shadow: inset 0 1px 1px rgba(0,0,0,.05);\\n\\tbox-shadow: inset 0 1px 1px rgba(0,0,0,.05);\\n\\toverflow-x: hidden;\\n\\toverflow-y: hidden;\\n}\\n\\n.scrollable {\\n  overflow: scroll;\\n}\\n\\nprogress {\\n\\tappearance: none;\\n\\t-moz-appearance: none;\\n\\t-webkit-appearance: none;\\n\\n\\tborder: none;\\n\\theight: 20px;\\n\\tbackground-color: whiteSmoke;\\n\\tborder-radius: 3px;\\n\\tbox-shadow: 0 2px 3px rgba(0,0,0,.5) inset;\\n\\tcolor: royalblue;\\n\\tposition: relative;\\n\\tmargin: 0 0 1.5em;\\n}\\n\\nprogress[value]::-webkit-progress-bar {\\n\\tbackground-color: whiteSmoke;\\n\\tborder-radius: 3px;\\n\\tbox-shadow: 0 2px 3px rgba(0,0,0,.5) inset;\\n}\\n\\nprogress[value]::-webkit-progress-value {\\n\\tposition: relative;\\n\\n\\tbackground-size: 35px 20px, 100% 100%, 100% 100%;\\n\\tborder-radius:3px;\\n}\\n\\nprogress.active:not([value])::before {\\n\\tbackground-position: 10%;\\n\\tanimation-name: stripes;\\n\\tanimation-duration: 3s;\\n\\tanimation-timing-function: linear;\\n\\tanimation-iteration-count: infinite;\\n}\\n\\nprogress[value]::-moz-progress-bar {\\n\\tbackground-size: 35px 20px, 100% 100%, 100% 100%;\\n\\tborder-radius:3px;\\n}\\n\\nprogress:not([value])::-moz-progress-bar {\\n\\tborder-radius:3px;\\n\\tbackground:\\n\\tlinear-gradient(-45deg, transparent 33%, rgba(0, 0, 0, 0.2) 33%, rgba(0, 0, 0, 0.2) 66%, transparent 66%) left/2.5em 1.5em;\\n\\n}\\n\\nprogress.active:not([value])::-moz-progress-bar {\\n\\tbackground-position: 10%;\\n\\tanimation-name: stripes;\\n\\tanimation-duration: 3s;\\n\\tanimation-timing-function: linear;\\n\\tanimation-iteration-count: infinite;\\n}\\n\\nprogress.active:not([value])::-webkit-progress-bar {\\n\\tbackground-position: 10%;\\n\\tanimation-name: stripes;\\n\\tanimation-duration: 3s;\\n\\tanimation-timing-function: linear;\\n\\tanimation-iteration-count: infinite;\\n}\\n\\nprogress.primary[value]::-webkit-progress-value { background-color: #007bff; }\\nprogress.primary:not([value])::before { background-color: #007bff; }\\nprogress.primary:not([value])::-webkit-progress-bar { background-color: #007bff; }\\nprogress.primary::-moz-progress-bar { background-color: #007bff; }\\n\\nprogress.secondary[value]::-webkit-progress-value { background-color: #6c757d; }\\nprogress.secondary:not([value])::before { background-color: #6c757d; }\\nprogress.secondary:not([value])::-webkit-progress-bar { background-color: #6c757d; }\\nprogress.secondary::-moz-progress-bar { background-color: #6c757d; }\\n\\nprogress.success[value]::-webkit-progress-value { background-color: #28a745; }\\nprogress.success:not([value])::before { background-color: #28a745; }\\nprogress.success:not([value])::-webkit-progress-bar { background-color: #28a745; }\\nprogress.success::-moz-progress-bar { background-color: #28a745; }\\n\\nprogress.danger[value]::-webkit-progress-value { background-color: #dc3545; }\\nprogress.danger:not([value])::before { background-color: #dc3545; }\\nprogress.danger:not([value])::-webkit-progress-bar { background-color: #dc3545; }\\nprogress.danger::-moz-progress-bar { background-color: #dc3545; }\\n\\nprogress.warning[value]::-webkit-progress-value { background-color: #ffc107; }\\nprogress.warning:not([value])::before { background-color: #ffc107; }\\nprogress.warning:not([value])::-webkit-progress-bar { background-color: #ffc107; }\\nprogress.warning::-moz-progress-bar { background-color: #ffc107; }\\n\\nprogress.info[value]::-webkit-progress-value { background-color: #17a2b8; }\\nprogress.info:not([value])::before { background-color: #17a2b8; }\\nprogress.info:not([value])::-webkit-progress-bar { background-color: #17a2b8; }\\nprogress.info::-moz-progress-bar { background-color: #17a2b8; }\\n\\nprogress.light[value]::-webkit-progress-value { background-color: #f8f9fa; }\\nprogress.light:not([value])::before { background-color: #f8f9fa; }\\nprogress.light:not([value])::-webkit-progress-bar { background-color: #f8f9fa; }\\nprogress.light::-moz-progress-bar { background-color: #f8f9fa; }\\n\\nprogress.dark[value]::-webkit-progress-value { background-color: #343a40; }\\nprogress.dark:not([value])::-webkit-progress-bar { background-color: #343a40; }\\nprogress.dark:not([value])::before { background-color: #343a40; }\\nprogress.dark::-moz-progress-bar { background-color: #343a40; }\\n\\nprogress:not([value])::-webkit-progress-bar {\\n\\tborder-radius: 3px;\\n\\tbackground:\\n\\tlinear-gradient(-45deg, transparent 33%, rgba(0, 0, 0, 0.2) 33%, rgba(0, 0, 0, 0.2) 66%, transparent 66%) left/2.5em 1.5em;\\n}\\nprogress:not([value])::before {\\n\\tcontent:\\\" \\\";\\n\\tposition:absolute;\\n\\theight: 20px;\\n\\ttop:0;\\n\\tleft:0;\\n\\tright:0;\\n\\tbottom:0;\\n\\tborder-radius: 3px;\\n\\tbackground:\\n\\tlinear-gradient(-45deg, transparent 33%, rgba(0, 0, 0, 0.2) 33%, rgba(0, 0, 0, 0.2) 66%, transparent 66%) left/2.5em 1.5em;\\n}\\n\\n@keyframes stripes {\\n  from {background-position: 0%}\\n  to {background-position: 100%}\\n}\");\n",
       "    },\n",
       "    function(Bokeh) {\n",
       "      inject_raw_css(\".codehilite .hll { background-color: #ffffcc }\\n.codehilite  { background: #f8f8f8; }\\n.codehilite .c { color: #408080; font-style: italic } /* Comment */\\n.codehilite .err { border: 1px solid #FF0000 } /* Error */\\n.codehilite .k { color: #008000; font-weight: bold } /* Keyword */\\n.codehilite .o { color: #666666 } /* Operator */\\n.codehilite .ch { color: #408080; font-style: italic } /* Comment.Hashbang */\\n.codehilite .cm { color: #408080; font-style: italic } /* Comment.Multiline */\\n.codehilite .cp { color: #BC7A00 } /* Comment.Preproc */\\n.codehilite .cpf { color: #408080; font-style: italic } /* Comment.PreprocFile */\\n.codehilite .c1 { color: #408080; font-style: italic } /* Comment.Single */\\n.codehilite .cs { color: #408080; font-style: italic } /* Comment.Special */\\n.codehilite .gd { color: #A00000 } /* Generic.Deleted */\\n.codehilite .ge { font-style: italic } /* Generic.Emph */\\n.codehilite .gr { color: #FF0000 } /* Generic.Error */\\n.codehilite .gh { color: #000080; font-weight: bold } /* Generic.Heading */\\n.codehilite .gi { color: #00A000 } /* Generic.Inserted */\\n.codehilite .go { color: #888888 } /* Generic.Output */\\n.codehilite .gp { color: #000080; font-weight: bold } /* Generic.Prompt */\\n.codehilite .gs { font-weight: bold } /* Generic.Strong */\\n.codehilite .gu { color: #800080; font-weight: bold } /* Generic.Subheading */\\n.codehilite .gt { color: #0044DD } /* Generic.Traceback */\\n.codehilite .kc { color: #008000; font-weight: bold } /* Keyword.Constant */\\n.codehilite .kd { color: #008000; font-weight: bold } /* Keyword.Declaration */\\n.codehilite .kn { color: #008000; font-weight: bold } /* Keyword.Namespace */\\n.codehilite .kp { color: #008000 } /* Keyword.Pseudo */\\n.codehilite .kr { color: #008000; font-weight: bold } /* Keyword.Reserved */\\n.codehilite .kt { color: #B00040 } /* Keyword.Type */\\n.codehilite .m { color: #666666 } /* Literal.Number */\\n.codehilite .s { color: #BA2121 } /* Literal.String */\\n.codehilite .na { color: #7D9029 } /* Name.Attribute */\\n.codehilite .nb { color: #008000 } /* Name.Builtin */\\n.codehilite .nc { color: #0000FF; font-weight: bold } /* Name.Class */\\n.codehilite .no { color: #880000 } /* Name.Constant */\\n.codehilite .nd { color: #AA22FF } /* Name.Decorator */\\n.codehilite .ni { color: #999999; font-weight: bold } /* Name.Entity */\\n.codehilite .ne { color: #D2413A; font-weight: bold } /* Name.Exception */\\n.codehilite .nf { color: #0000FF } /* Name.Function */\\n.codehilite .nl { color: #A0A000 } /* Name.Label */\\n.codehilite .nn { color: #0000FF; font-weight: bold } /* Name.Namespace */\\n.codehilite .nt { color: #008000; font-weight: bold } /* Name.Tag */\\n.codehilite .nv { color: #19177C } /* Name.Variable */\\n.codehilite .ow { color: #AA22FF; font-weight: bold } /* Operator.Word */\\n.codehilite .w { color: #bbbbbb } /* Text.Whitespace */\\n.codehilite .mb { color: #666666 } /* Literal.Number.Bin */\\n.codehilite .mf { color: #666666 } /* Literal.Number.Float */\\n.codehilite .mh { color: #666666 } /* Literal.Number.Hex */\\n.codehilite .mi { color: #666666 } /* Literal.Number.Integer */\\n.codehilite .mo { color: #666666 } /* Literal.Number.Oct */\\n.codehilite .sa { color: #BA2121 } /* Literal.String.Affix */\\n.codehilite .sb { color: #BA2121 } /* Literal.String.Backtick */\\n.codehilite .sc { color: #BA2121 } /* Literal.String.Char */\\n.codehilite .dl { color: #BA2121 } /* Literal.String.Delimiter */\\n.codehilite .sd { color: #BA2121; font-style: italic } /* Literal.String.Doc */\\n.codehilite .s2 { color: #BA2121 } /* Literal.String.Double */\\n.codehilite .se { color: #BB6622; font-weight: bold } /* Literal.String.Escape */\\n.codehilite .sh { color: #BA2121 } /* Literal.String.Heredoc */\\n.codehilite .si { color: #BB6688; font-weight: bold } /* Literal.String.Interpol */\\n.codehilite .sx { color: #008000 } /* Literal.String.Other */\\n.codehilite .sr { color: #BB6688 } /* Literal.String.Regex */\\n.codehilite .s1 { color: #BA2121 } /* Literal.String.Single */\\n.codehilite .ss { color: #19177C } /* Literal.String.Symbol */\\n.codehilite .bp { color: #008000 } /* Name.Builtin.Pseudo */\\n.codehilite .fm { color: #0000FF } /* Name.Function.Magic */\\n.codehilite .vc { color: #19177C } /* Name.Variable.Class */\\n.codehilite .vg { color: #19177C } /* Name.Variable.Global */\\n.codehilite .vi { color: #19177C } /* Name.Variable.Instance */\\n.codehilite .vm { color: #19177C } /* Name.Variable.Magic */\\n.codehilite .il { color: #666666 } /* Literal.Number.Integer.Long */\\n\\n.markdown h1 { margin-block-start: 0.34em }\\n.markdown h2 { margin-block-start: 0.42em }\\n.markdown h3 { margin-block-start: 0.5em }\\n.markdown h4 { margin-block-start: 0.67em }\\n.markdown h5 { margin-block-start: 0.84em }\\n.markdown h6 { margin-block-start: 1.17em }\\n.markdown ul { padding-inline-start: 2em }\\n.markdown ol { padding-inline-start: 2em }\\n.markdown strong { font-weight: 600 }\\n.markdown a { color: -webkit-link }\\n.markdown a { color: -moz-hyperlinkText }\\n\");\n",
       "    },\n",
       "    function(Bokeh) {\n",
       "      inject_raw_css(\".json-formatter-row {\\n  font-family: monospace;\\n}\\n.json-formatter-row,\\n.json-formatter-row a,\\n.json-formatter-row a:hover {\\n  color: black;\\n  text-decoration: none;\\n}\\n.json-formatter-row .json-formatter-row {\\n  margin-left: 1rem;\\n}\\n.json-formatter-row .json-formatter-children.json-formatter-empty {\\n  opacity: 0.5;\\n  margin-left: 1rem;\\n}\\n.json-formatter-row .json-formatter-children.json-formatter-empty:after {\\n  display: none;\\n}\\n.json-formatter-row .json-formatter-children.json-formatter-empty.json-formatter-object:after {\\n  content: \\\"No properties\\\";\\n}\\n.json-formatter-row .json-formatter-children.json-formatter-empty.json-formatter-array:after {\\n  content: \\\"[]\\\";\\n}\\n.json-formatter-row .json-formatter-string,\\n.json-formatter-row .json-formatter-stringifiable {\\n  color: green;\\n  white-space: pre;\\n  word-wrap: break-word;\\n}\\n.json-formatter-row .json-formatter-number {\\n  color: blue;\\n}\\n.json-formatter-row .json-formatter-boolean {\\n  color: red;\\n}\\n.json-formatter-row .json-formatter-null {\\n  color: #855A00;\\n}\\n.json-formatter-row .json-formatter-undefined {\\n  color: #ca0b69;\\n}\\n.json-formatter-row .json-formatter-function {\\n  color: #FF20ED;\\n}\\n.json-formatter-row .json-formatter-date {\\n  background-color: rgba(0, 0, 0, 0.05);\\n}\\n.json-formatter-row .json-formatter-url {\\n  text-decoration: underline;\\n  color: blue;\\n  cursor: pointer;\\n}\\n.json-formatter-row .json-formatter-bracket {\\n  color: blue;\\n}\\n.json-formatter-row .json-formatter-key {\\n  color: #00008B;\\n  padding-right: 0.2rem;\\n}\\n.json-formatter-row .json-formatter-toggler-link {\\n  cursor: pointer;\\n}\\n.json-formatter-row .json-formatter-toggler {\\n  line-height: 1.2rem;\\n  font-size: 0.7rem;\\n  vertical-align: middle;\\n  opacity: 0.6;\\n  cursor: pointer;\\n  padding-right: 0.2rem;\\n}\\n.json-formatter-row .json-formatter-toggler:after {\\n  display: inline-block;\\n  transition: transform 100ms ease-in;\\n  content: \\\"\\\\25BA\\\";\\n}\\n.json-formatter-row > a > .json-formatter-preview-text {\\n  opacity: 0;\\n  transition: opacity 0.15s ease-in;\\n  font-style: italic;\\n}\\n.json-formatter-row:hover > a > .json-formatter-preview-text {\\n  opacity: 0.6;\\n}\\n.json-formatter-row.json-formatter-open > .json-formatter-toggler-link .json-formatter-toggler:after {\\n  transform: rotate(90deg);\\n}\\n.json-formatter-row.json-formatter-open > .json-formatter-children:after {\\n  display: inline-block;\\n}\\n.json-formatter-row.json-formatter-open > a > .json-formatter-preview-text {\\n  display: none;\\n}\\n.json-formatter-row.json-formatter-open.json-formatter-empty:after {\\n  display: block;\\n}\\n.json-formatter-dark.json-formatter-row {\\n  font-family: monospace;\\n}\\n.json-formatter-dark.json-formatter-row,\\n.json-formatter-dark.json-formatter-row a,\\n.json-formatter-dark.json-formatter-row a:hover {\\n  color: white;\\n  text-decoration: none;\\n}\\n.json-formatter-dark.json-formatter-row .json-formatter-row {\\n  margin-left: 1rem;\\n}\\n.json-formatter-dark.json-formatter-row .json-formatter-children.json-formatter-empty {\\n  opacity: 0.5;\\n  margin-left: 1rem;\\n}\\n.json-formatter-dark.json-formatter-row .json-formatter-children.json-formatter-empty:after {\\n  display: none;\\n}\\n.json-formatter-dark.json-formatter-row .json-formatter-children.json-formatter-empty.json-formatter-object:after {\\n  content: \\\"No properties\\\";\\n}\\n.json-formatter-dark.json-formatter-row .json-formatter-children.json-formatter-empty.json-formatter-array:after {\\n  content: \\\"[]\\\";\\n}\\n.json-formatter-dark.json-formatter-row .json-formatter-string,\\n.json-formatter-dark.json-formatter-row .json-formatter-stringifiable {\\n  color: #31F031;\\n  white-space: pre;\\n  word-wrap: break-word;\\n}\\n.json-formatter-dark.json-formatter-row .json-formatter-number {\\n  color: #66C2FF;\\n}\\n.json-formatter-dark.json-formatter-row .json-formatter-boolean {\\n  color: #EC4242;\\n}\\n.json-formatter-dark.json-formatter-row .json-formatter-null {\\n  color: #EEC97D;\\n}\\n.json-formatter-dark.json-formatter-row .json-formatter-undefined {\\n  color: #ef8fbe;\\n}\\n.json-formatter-dark.json-formatter-row .json-formatter-function {\\n  color: #FD48CB;\\n}\\n.json-formatter-dark.json-formatter-row .json-formatter-date {\\n  background-color: rgba(255, 255, 255, 0.05);\\n}\\n.json-formatter-dark.json-formatter-row .json-formatter-url {\\n  text-decoration: underline;\\n  color: #027BFF;\\n  cursor: pointer;\\n}\\n.json-formatter-dark.json-formatter-row .json-formatter-bracket {\\n  color: #9494FF;\\n}\\n.json-formatter-dark.json-formatter-row .json-formatter-key {\\n  color: #23A0DB;\\n  padding-right: 0.2rem;\\n}\\n.json-formatter-dark.json-formatter-row .json-formatter-toggler-link {\\n  cursor: pointer;\\n}\\n.json-formatter-dark.json-formatter-row .json-formatter-toggler {\\n  line-height: 1.2rem;\\n  font-size: 0.7rem;\\n  vertical-align: middle;\\n  opacity: 0.6;\\n  cursor: pointer;\\n  padding-right: 0.2rem;\\n}\\n.json-formatter-dark.json-formatter-row .json-formatter-toggler:after {\\n  display: inline-block;\\n  transition: transform 100ms ease-in;\\n  content: \\\"\\\\25BA\\\";\\n}\\n.json-formatter-dark.json-formatter-row > a > .json-formatter-preview-text {\\n  opacity: 0;\\n  transition: opacity 0.15s ease-in;\\n  font-style: italic;\\n}\\n.json-formatter-dark.json-formatter-row:hover > a > .json-formatter-preview-text {\\n  opacity: 0.6;\\n}\\n.json-formatter-dark.json-formatter-row.json-formatter-open > .json-formatter-toggler-link .json-formatter-toggler:after {\\n  transform: rotate(90deg);\\n}\\n.json-formatter-dark.json-formatter-row.json-formatter-open > .json-formatter-children:after {\\n  display: inline-block;\\n}\\n.json-formatter-dark.json-formatter-row.json-formatter-open > a > .json-formatter-preview-text {\\n  display: none;\\n}\\n.json-formatter-dark.json-formatter-row.json-formatter-open.json-formatter-empty:after {\\n  display: block;\\n}\\n\");\n",
       "    },\n",
       "    function(Bokeh) {\n",
       "      inject_raw_css(\"table.panel-df {\\n    margin-left: auto;\\n    margin-right: auto;\\n    border: none;\\n    border-collapse: collapse;\\n    border-spacing: 0;\\n    color: black;\\n    font-size: 12px;\\n    table-layout: fixed;\\n    width: 100%;\\n}\\n\\n.panel-df tr, th, td {\\n    text-align: right;\\n    vertical-align: middle;\\n    padding: 0.5em 0.5em !important;\\n    line-height: normal;\\n    white-space: normal;\\n    max-width: none;\\n    border: none;\\n}\\n\\n.panel-df tbody {\\n    display: table-row-group;\\n    vertical-align: middle;\\n    border-color: inherit;\\n}\\n\\n.panel-df tbody tr:nth-child(odd) {\\n    background: #f5f5f5;\\n}\\n\\n.panel-df thead {\\n    border-bottom: 1px solid black;\\n    vertical-align: bottom;\\n}\\n\\n.panel-df tr:hover {\\n    background: lightblue !important;\\n    cursor: pointer;\\n}\\n\");\n",
       "    },\n",
       "    function(Bokeh) {\n",
       "      Bokeh.set_log_level(\"info\");\n",
       "    },\n",
       "    function(Bokeh) {\n",
       "    \n",
       "    \n",
       "    }\n",
       "  ];\n",
       "\n",
       "  function run_inline_js() {\n",
       "    \n",
       "    if (root.Bokeh !== undefined || force === true) {\n",
       "      \n",
       "    for (var i = 0; i < inline_js.length; i++) {\n",
       "      inline_js[i].call(root, root.Bokeh);\n",
       "    }\n",
       "    if (force === true) {\n",
       "        display_loaded();\n",
       "      }} else if (Date.now() < root._bokeh_timeout) {\n",
       "      setTimeout(run_inline_js, 100);\n",
       "    } else if (!root._bokeh_failed_load) {\n",
       "      console.log(\"Bokeh: BokehJS failed to load within specified timeout.\");\n",
       "      root._bokeh_failed_load = true;\n",
       "    } else if (force !== true) {\n",
       "      var cell = $(document.getElementById(\"14271\")).parents('.cell').data().cell;\n",
       "      cell.output_area.append_execute_result(NB_LOAD_WARNING)\n",
       "    }\n",
       "\n",
       "  }\n",
       "\n",
       "  if (root._bokeh_is_loading === 0) {\n",
       "    console.debug(\"Bokeh: BokehJS loaded, going straight to plotting\");\n",
       "    run_inline_js();\n",
       "  } else {\n",
       "    load_libs(css_urls, js_urls, function() {\n",
       "      console.debug(\"Bokeh: BokehJS plotting callback run at\", now());\n",
       "      run_inline_js();\n",
       "    });\n",
       "  }\n",
       "}(window));"
      ],
      "application/vnd.bokehjs_load.v0+json": "\n(function(root) {\n  function now() {\n    return new Date();\n  }\n\n  var force = true;\n\n  if (typeof root._bokeh_onload_callbacks === \"undefined\" || force === true) {\n    root._bokeh_onload_callbacks = [];\n    root._bokeh_is_loading = undefined;\n  }\n\n  \n\n  \n  if (typeof (root._bokeh_timeout) === \"undefined\" || force === true) {\n    root._bokeh_timeout = Date.now() + 5000;\n    root._bokeh_failed_load = false;\n  }\n\n  var NB_LOAD_WARNING = {'data': {'text/html':\n     \"<div style='background-color: #fdd'>\\n\"+\n     \"<p>\\n\"+\n     \"BokehJS does not appear to have successfully loaded. If loading BokehJS from CDN, this \\n\"+\n     \"may be due to a slow or bad network connection. Possible fixes:\\n\"+\n     \"</p>\\n\"+\n     \"<ul>\\n\"+\n     \"<li>re-rerun `output_notebook()` to attempt to load from CDN again, or</li>\\n\"+\n     \"<li>use INLINE resources instead, as so:</li>\\n\"+\n     \"</ul>\\n\"+\n     \"<code>\\n\"+\n     \"from bokeh.resources import INLINE\\n\"+\n     \"output_notebook(resources=INLINE)\\n\"+\n     \"</code>\\n\"+\n     \"</div>\"}};\n\n  function display_loaded() {\n    var el = document.getElementById(\"14271\");\n    if (el != null) {\n      el.textContent = \"BokehJS is loading...\";\n    }\n    if (root.Bokeh !== undefined) {\n      if (el != null) {\n        el.textContent = \"BokehJS \" + root.Bokeh.version + \" successfully loaded.\";\n      }\n    } else if (Date.now() < root._bokeh_timeout) {\n      setTimeout(display_loaded, 100)\n    }\n  }\n\n\n  function run_callbacks() {\n    try {\n      root._bokeh_onload_callbacks.forEach(function(callback) {\n        if (callback != null)\n          callback();\n      });\n    } finally {\n      delete root._bokeh_onload_callbacks\n    }\n    console.debug(\"Bokeh: all callbacks have finished\");\n  }\n\n  function load_libs(css_urls, js_urls, callback) {\n    if (css_urls == null) css_urls = [];\n    if (js_urls == null) js_urls = [];\n\n    root._bokeh_onload_callbacks.push(callback);\n    if (root._bokeh_is_loading > 0) {\n      console.debug(\"Bokeh: BokehJS is being loaded, scheduling callback at\", now());\n      return null;\n    }\n    if (js_urls == null || js_urls.length === 0) {\n      run_callbacks();\n      return null;\n    }\n    console.debug(\"Bokeh: BokehJS not loaded, scheduling load and callback at\", now());\n    root._bokeh_is_loading = css_urls.length + js_urls.length;\n\n    function on_load() {\n      root._bokeh_is_loading--;\n      if (root._bokeh_is_loading === 0) {\n        console.debug(\"Bokeh: all BokehJS libraries/stylesheets loaded\");\n        run_callbacks()\n      }\n    }\n\n    function on_error() {\n      console.error(\"failed to load \" + url);\n    }\n\n    for (var i = 0; i < css_urls.length; i++) {\n      var url = css_urls[i];\n      const element = document.createElement(\"link\");\n      element.onload = on_load;\n      element.onerror = on_error;\n      element.rel = \"stylesheet\";\n      element.type = \"text/css\";\n      element.href = url;\n      console.debug(\"Bokeh: injecting link tag for BokehJS stylesheet: \", url);\n      document.body.appendChild(element);\n    }\n\n    const hashes = {\"https://cdn.bokeh.org/bokeh/release/bokeh-2.0.2.min.js\": \"ufR9RFnRs6lniiaFvtJziE0YeidtAgBRH6ux2oUItHw5WTvE1zuk9uzhUU/FJXDp\", \"https://cdn.bokeh.org/bokeh/release/bokeh-widgets-2.0.2.min.js\": \"8QM/PGWBT+IssZuRcDcjzwIh1mkOmJSoNMmyYDZbCfXJg3Ap1lEvdVgFuSAwhb/J\", \"https://cdn.bokeh.org/bokeh/release/bokeh-tables-2.0.2.min.js\": \"Jm8cH3Rg0P6UeZhVY5cLy1WzKajUT9KImCY+76hEqrcJt59/d8GPvFHjCkYgnSIn\", \"https://cdn.bokeh.org/bokeh/release/bokeh-gl-2.0.2.min.js\": \"Ozhzj+SI7ywm74aOI/UajcWz+C0NjsPunEVyVIrxzYkB+jA+2tUw8x5xJCbVtK5I\"};\n\n    for (var i = 0; i < js_urls.length; i++) {\n      var url = js_urls[i];\n      var element = document.createElement('script');\n      element.onload = on_load;\n      element.onerror = on_error;\n      element.async = false;\n      element.src = url;\n      if (url in hashes) {\n        element.crossOrigin = \"anonymous\";\n        element.integrity = \"sha384-\" + hashes[url];\n      }\n      console.debug(\"Bokeh: injecting script tag for BokehJS library: \", url);\n      document.head.appendChild(element);\n    }\n  };\n\n  function inject_raw_css(css) {\n    const element = document.createElement(\"style\");\n    element.appendChild(document.createTextNode(css));\n    document.body.appendChild(element);\n  }\n\n  \n  var js_urls = [\"https://cdn.bokeh.org/bokeh/release/bokeh-2.0.2.min.js\", \"https://cdn.bokeh.org/bokeh/release/bokeh-widgets-2.0.2.min.js\", \"https://cdn.bokeh.org/bokeh/release/bokeh-tables-2.0.2.min.js\", \"https://cdn.bokeh.org/bokeh/release/bokeh-gl-2.0.2.min.js\", \"https://unpkg.com/@holoviz/panel@^0.9.5/dist/panel.min.js\"];\n  var css_urls = [];\n  \n\n  var inline_js = [\n    function(Bokeh) {\n      inject_raw_css(\".widget-box {\\n\\tmin-height: 20px;\\n\\tbackground-color: #f5f5f5;\\n\\tborder: 1px solid #e3e3e3 !important;\\n\\tborder-radius: 4px;\\n\\t-webkit-box-shadow: inset 0 1px 1px rgba(0,0,0,.05);\\n\\tbox-shadow: inset 0 1px 1px rgba(0,0,0,.05);\\n\\toverflow-x: hidden;\\n\\toverflow-y: hidden;\\n}\\n\\n.scrollable {\\n  overflow: scroll;\\n}\\n\\nprogress {\\n\\tappearance: none;\\n\\t-moz-appearance: none;\\n\\t-webkit-appearance: none;\\n\\n\\tborder: none;\\n\\theight: 20px;\\n\\tbackground-color: whiteSmoke;\\n\\tborder-radius: 3px;\\n\\tbox-shadow: 0 2px 3px rgba(0,0,0,.5) inset;\\n\\tcolor: royalblue;\\n\\tposition: relative;\\n\\tmargin: 0 0 1.5em;\\n}\\n\\nprogress[value]::-webkit-progress-bar {\\n\\tbackground-color: whiteSmoke;\\n\\tborder-radius: 3px;\\n\\tbox-shadow: 0 2px 3px rgba(0,0,0,.5) inset;\\n}\\n\\nprogress[value]::-webkit-progress-value {\\n\\tposition: relative;\\n\\n\\tbackground-size: 35px 20px, 100% 100%, 100% 100%;\\n\\tborder-radius:3px;\\n}\\n\\nprogress.active:not([value])::before {\\n\\tbackground-position: 10%;\\n\\tanimation-name: stripes;\\n\\tanimation-duration: 3s;\\n\\tanimation-timing-function: linear;\\n\\tanimation-iteration-count: infinite;\\n}\\n\\nprogress[value]::-moz-progress-bar {\\n\\tbackground-size: 35px 20px, 100% 100%, 100% 100%;\\n\\tborder-radius:3px;\\n}\\n\\nprogress:not([value])::-moz-progress-bar {\\n\\tborder-radius:3px;\\n\\tbackground:\\n\\tlinear-gradient(-45deg, transparent 33%, rgba(0, 0, 0, 0.2) 33%, rgba(0, 0, 0, 0.2) 66%, transparent 66%) left/2.5em 1.5em;\\n\\n}\\n\\nprogress.active:not([value])::-moz-progress-bar {\\n\\tbackground-position: 10%;\\n\\tanimation-name: stripes;\\n\\tanimation-duration: 3s;\\n\\tanimation-timing-function: linear;\\n\\tanimation-iteration-count: infinite;\\n}\\n\\nprogress.active:not([value])::-webkit-progress-bar {\\n\\tbackground-position: 10%;\\n\\tanimation-name: stripes;\\n\\tanimation-duration: 3s;\\n\\tanimation-timing-function: linear;\\n\\tanimation-iteration-count: infinite;\\n}\\n\\nprogress.primary[value]::-webkit-progress-value { background-color: #007bff; }\\nprogress.primary:not([value])::before { background-color: #007bff; }\\nprogress.primary:not([value])::-webkit-progress-bar { background-color: #007bff; }\\nprogress.primary::-moz-progress-bar { background-color: #007bff; }\\n\\nprogress.secondary[value]::-webkit-progress-value { background-color: #6c757d; }\\nprogress.secondary:not([value])::before { background-color: #6c757d; }\\nprogress.secondary:not([value])::-webkit-progress-bar { background-color: #6c757d; }\\nprogress.secondary::-moz-progress-bar { background-color: #6c757d; }\\n\\nprogress.success[value]::-webkit-progress-value { background-color: #28a745; }\\nprogress.success:not([value])::before { background-color: #28a745; }\\nprogress.success:not([value])::-webkit-progress-bar { background-color: #28a745; }\\nprogress.success::-moz-progress-bar { background-color: #28a745; }\\n\\nprogress.danger[value]::-webkit-progress-value { background-color: #dc3545; }\\nprogress.danger:not([value])::before { background-color: #dc3545; }\\nprogress.danger:not([value])::-webkit-progress-bar { background-color: #dc3545; }\\nprogress.danger::-moz-progress-bar { background-color: #dc3545; }\\n\\nprogress.warning[value]::-webkit-progress-value { background-color: #ffc107; }\\nprogress.warning:not([value])::before { background-color: #ffc107; }\\nprogress.warning:not([value])::-webkit-progress-bar { background-color: #ffc107; }\\nprogress.warning::-moz-progress-bar { background-color: #ffc107; }\\n\\nprogress.info[value]::-webkit-progress-value { background-color: #17a2b8; }\\nprogress.info:not([value])::before { background-color: #17a2b8; }\\nprogress.info:not([value])::-webkit-progress-bar { background-color: #17a2b8; }\\nprogress.info::-moz-progress-bar { background-color: #17a2b8; }\\n\\nprogress.light[value]::-webkit-progress-value { background-color: #f8f9fa; }\\nprogress.light:not([value])::before { background-color: #f8f9fa; }\\nprogress.light:not([value])::-webkit-progress-bar { background-color: #f8f9fa; }\\nprogress.light::-moz-progress-bar { background-color: #f8f9fa; }\\n\\nprogress.dark[value]::-webkit-progress-value { background-color: #343a40; }\\nprogress.dark:not([value])::-webkit-progress-bar { background-color: #343a40; }\\nprogress.dark:not([value])::before { background-color: #343a40; }\\nprogress.dark::-moz-progress-bar { background-color: #343a40; }\\n\\nprogress:not([value])::-webkit-progress-bar {\\n\\tborder-radius: 3px;\\n\\tbackground:\\n\\tlinear-gradient(-45deg, transparent 33%, rgba(0, 0, 0, 0.2) 33%, rgba(0, 0, 0, 0.2) 66%, transparent 66%) left/2.5em 1.5em;\\n}\\nprogress:not([value])::before {\\n\\tcontent:\\\" \\\";\\n\\tposition:absolute;\\n\\theight: 20px;\\n\\ttop:0;\\n\\tleft:0;\\n\\tright:0;\\n\\tbottom:0;\\n\\tborder-radius: 3px;\\n\\tbackground:\\n\\tlinear-gradient(-45deg, transparent 33%, rgba(0, 0, 0, 0.2) 33%, rgba(0, 0, 0, 0.2) 66%, transparent 66%) left/2.5em 1.5em;\\n}\\n\\n@keyframes stripes {\\n  from {background-position: 0%}\\n  to {background-position: 100%}\\n}\");\n    },\n    function(Bokeh) {\n      inject_raw_css(\".codehilite .hll { background-color: #ffffcc }\\n.codehilite  { background: #f8f8f8; }\\n.codehilite .c { color: #408080; font-style: italic } /* Comment */\\n.codehilite .err { border: 1px solid #FF0000 } /* Error */\\n.codehilite .k { color: #008000; font-weight: bold } /* Keyword */\\n.codehilite .o { color: #666666 } /* Operator */\\n.codehilite .ch { color: #408080; font-style: italic } /* Comment.Hashbang */\\n.codehilite .cm { color: #408080; font-style: italic } /* Comment.Multiline */\\n.codehilite .cp { color: #BC7A00 } /* Comment.Preproc */\\n.codehilite .cpf { color: #408080; font-style: italic } /* Comment.PreprocFile */\\n.codehilite .c1 { color: #408080; font-style: italic } /* Comment.Single */\\n.codehilite .cs { color: #408080; font-style: italic } /* Comment.Special */\\n.codehilite .gd { color: #A00000 } /* Generic.Deleted */\\n.codehilite .ge { font-style: italic } /* Generic.Emph */\\n.codehilite .gr { color: #FF0000 } /* Generic.Error */\\n.codehilite .gh { color: #000080; font-weight: bold } /* Generic.Heading */\\n.codehilite .gi { color: #00A000 } /* Generic.Inserted */\\n.codehilite .go { color: #888888 } /* Generic.Output */\\n.codehilite .gp { color: #000080; font-weight: bold } /* Generic.Prompt */\\n.codehilite .gs { font-weight: bold } /* Generic.Strong */\\n.codehilite .gu { color: #800080; font-weight: bold } /* Generic.Subheading */\\n.codehilite .gt { color: #0044DD } /* Generic.Traceback */\\n.codehilite .kc { color: #008000; font-weight: bold } /* Keyword.Constant */\\n.codehilite .kd { color: #008000; font-weight: bold } /* Keyword.Declaration */\\n.codehilite .kn { color: #008000; font-weight: bold } /* Keyword.Namespace */\\n.codehilite .kp { color: #008000 } /* Keyword.Pseudo */\\n.codehilite .kr { color: #008000; font-weight: bold } /* Keyword.Reserved */\\n.codehilite .kt { color: #B00040 } /* Keyword.Type */\\n.codehilite .m { color: #666666 } /* Literal.Number */\\n.codehilite .s { color: #BA2121 } /* Literal.String */\\n.codehilite .na { color: #7D9029 } /* Name.Attribute */\\n.codehilite .nb { color: #008000 } /* Name.Builtin */\\n.codehilite .nc { color: #0000FF; font-weight: bold } /* Name.Class */\\n.codehilite .no { color: #880000 } /* Name.Constant */\\n.codehilite .nd { color: #AA22FF } /* Name.Decorator */\\n.codehilite .ni { color: #999999; font-weight: bold } /* Name.Entity */\\n.codehilite .ne { color: #D2413A; font-weight: bold } /* Name.Exception */\\n.codehilite .nf { color: #0000FF } /* Name.Function */\\n.codehilite .nl { color: #A0A000 } /* Name.Label */\\n.codehilite .nn { color: #0000FF; font-weight: bold } /* Name.Namespace */\\n.codehilite .nt { color: #008000; font-weight: bold } /* Name.Tag */\\n.codehilite .nv { color: #19177C } /* Name.Variable */\\n.codehilite .ow { color: #AA22FF; font-weight: bold } /* Operator.Word */\\n.codehilite .w { color: #bbbbbb } /* Text.Whitespace */\\n.codehilite .mb { color: #666666 } /* Literal.Number.Bin */\\n.codehilite .mf { color: #666666 } /* Literal.Number.Float */\\n.codehilite .mh { color: #666666 } /* Literal.Number.Hex */\\n.codehilite .mi { color: #666666 } /* Literal.Number.Integer */\\n.codehilite .mo { color: #666666 } /* Literal.Number.Oct */\\n.codehilite .sa { color: #BA2121 } /* Literal.String.Affix */\\n.codehilite .sb { color: #BA2121 } /* Literal.String.Backtick */\\n.codehilite .sc { color: #BA2121 } /* Literal.String.Char */\\n.codehilite .dl { color: #BA2121 } /* Literal.String.Delimiter */\\n.codehilite .sd { color: #BA2121; font-style: italic } /* Literal.String.Doc */\\n.codehilite .s2 { color: #BA2121 } /* Literal.String.Double */\\n.codehilite .se { color: #BB6622; font-weight: bold } /* Literal.String.Escape */\\n.codehilite .sh { color: #BA2121 } /* Literal.String.Heredoc */\\n.codehilite .si { color: #BB6688; font-weight: bold } /* Literal.String.Interpol */\\n.codehilite .sx { color: #008000 } /* Literal.String.Other */\\n.codehilite .sr { color: #BB6688 } /* Literal.String.Regex */\\n.codehilite .s1 { color: #BA2121 } /* Literal.String.Single */\\n.codehilite .ss { color: #19177C } /* Literal.String.Symbol */\\n.codehilite .bp { color: #008000 } /* Name.Builtin.Pseudo */\\n.codehilite .fm { color: #0000FF } /* Name.Function.Magic */\\n.codehilite .vc { color: #19177C } /* Name.Variable.Class */\\n.codehilite .vg { color: #19177C } /* Name.Variable.Global */\\n.codehilite .vi { color: #19177C } /* Name.Variable.Instance */\\n.codehilite .vm { color: #19177C } /* Name.Variable.Magic */\\n.codehilite .il { color: #666666 } /* Literal.Number.Integer.Long */\\n\\n.markdown h1 { margin-block-start: 0.34em }\\n.markdown h2 { margin-block-start: 0.42em }\\n.markdown h3 { margin-block-start: 0.5em }\\n.markdown h4 { margin-block-start: 0.67em }\\n.markdown h5 { margin-block-start: 0.84em }\\n.markdown h6 { margin-block-start: 1.17em }\\n.markdown ul { padding-inline-start: 2em }\\n.markdown ol { padding-inline-start: 2em }\\n.markdown strong { font-weight: 600 }\\n.markdown a { color: -webkit-link }\\n.markdown a { color: -moz-hyperlinkText }\\n\");\n    },\n    function(Bokeh) {\n      inject_raw_css(\".json-formatter-row {\\n  font-family: monospace;\\n}\\n.json-formatter-row,\\n.json-formatter-row a,\\n.json-formatter-row a:hover {\\n  color: black;\\n  text-decoration: none;\\n}\\n.json-formatter-row .json-formatter-row {\\n  margin-left: 1rem;\\n}\\n.json-formatter-row .json-formatter-children.json-formatter-empty {\\n  opacity: 0.5;\\n  margin-left: 1rem;\\n}\\n.json-formatter-row .json-formatter-children.json-formatter-empty:after {\\n  display: none;\\n}\\n.json-formatter-row .json-formatter-children.json-formatter-empty.json-formatter-object:after {\\n  content: \\\"No properties\\\";\\n}\\n.json-formatter-row .json-formatter-children.json-formatter-empty.json-formatter-array:after {\\n  content: \\\"[]\\\";\\n}\\n.json-formatter-row .json-formatter-string,\\n.json-formatter-row .json-formatter-stringifiable {\\n  color: green;\\n  white-space: pre;\\n  word-wrap: break-word;\\n}\\n.json-formatter-row .json-formatter-number {\\n  color: blue;\\n}\\n.json-formatter-row .json-formatter-boolean {\\n  color: red;\\n}\\n.json-formatter-row .json-formatter-null {\\n  color: #855A00;\\n}\\n.json-formatter-row .json-formatter-undefined {\\n  color: #ca0b69;\\n}\\n.json-formatter-row .json-formatter-function {\\n  color: #FF20ED;\\n}\\n.json-formatter-row .json-formatter-date {\\n  background-color: rgba(0, 0, 0, 0.05);\\n}\\n.json-formatter-row .json-formatter-url {\\n  text-decoration: underline;\\n  color: blue;\\n  cursor: pointer;\\n}\\n.json-formatter-row .json-formatter-bracket {\\n  color: blue;\\n}\\n.json-formatter-row .json-formatter-key {\\n  color: #00008B;\\n  padding-right: 0.2rem;\\n}\\n.json-formatter-row .json-formatter-toggler-link {\\n  cursor: pointer;\\n}\\n.json-formatter-row .json-formatter-toggler {\\n  line-height: 1.2rem;\\n  font-size: 0.7rem;\\n  vertical-align: middle;\\n  opacity: 0.6;\\n  cursor: pointer;\\n  padding-right: 0.2rem;\\n}\\n.json-formatter-row .json-formatter-toggler:after {\\n  display: inline-block;\\n  transition: transform 100ms ease-in;\\n  content: \\\"\\\\25BA\\\";\\n}\\n.json-formatter-row > a > .json-formatter-preview-text {\\n  opacity: 0;\\n  transition: opacity 0.15s ease-in;\\n  font-style: italic;\\n}\\n.json-formatter-row:hover > a > .json-formatter-preview-text {\\n  opacity: 0.6;\\n}\\n.json-formatter-row.json-formatter-open > .json-formatter-toggler-link .json-formatter-toggler:after {\\n  transform: rotate(90deg);\\n}\\n.json-formatter-row.json-formatter-open > .json-formatter-children:after {\\n  display: inline-block;\\n}\\n.json-formatter-row.json-formatter-open > a > .json-formatter-preview-text {\\n  display: none;\\n}\\n.json-formatter-row.json-formatter-open.json-formatter-empty:after {\\n  display: block;\\n}\\n.json-formatter-dark.json-formatter-row {\\n  font-family: monospace;\\n}\\n.json-formatter-dark.json-formatter-row,\\n.json-formatter-dark.json-formatter-row a,\\n.json-formatter-dark.json-formatter-row a:hover {\\n  color: white;\\n  text-decoration: none;\\n}\\n.json-formatter-dark.json-formatter-row .json-formatter-row {\\n  margin-left: 1rem;\\n}\\n.json-formatter-dark.json-formatter-row .json-formatter-children.json-formatter-empty {\\n  opacity: 0.5;\\n  margin-left: 1rem;\\n}\\n.json-formatter-dark.json-formatter-row .json-formatter-children.json-formatter-empty:after {\\n  display: none;\\n}\\n.json-formatter-dark.json-formatter-row .json-formatter-children.json-formatter-empty.json-formatter-object:after {\\n  content: \\\"No properties\\\";\\n}\\n.json-formatter-dark.json-formatter-row .json-formatter-children.json-formatter-empty.json-formatter-array:after {\\n  content: \\\"[]\\\";\\n}\\n.json-formatter-dark.json-formatter-row .json-formatter-string,\\n.json-formatter-dark.json-formatter-row .json-formatter-stringifiable {\\n  color: #31F031;\\n  white-space: pre;\\n  word-wrap: break-word;\\n}\\n.json-formatter-dark.json-formatter-row .json-formatter-number {\\n  color: #66C2FF;\\n}\\n.json-formatter-dark.json-formatter-row .json-formatter-boolean {\\n  color: #EC4242;\\n}\\n.json-formatter-dark.json-formatter-row .json-formatter-null {\\n  color: #EEC97D;\\n}\\n.json-formatter-dark.json-formatter-row .json-formatter-undefined {\\n  color: #ef8fbe;\\n}\\n.json-formatter-dark.json-formatter-row .json-formatter-function {\\n  color: #FD48CB;\\n}\\n.json-formatter-dark.json-formatter-row .json-formatter-date {\\n  background-color: rgba(255, 255, 255, 0.05);\\n}\\n.json-formatter-dark.json-formatter-row .json-formatter-url {\\n  text-decoration: underline;\\n  color: #027BFF;\\n  cursor: pointer;\\n}\\n.json-formatter-dark.json-formatter-row .json-formatter-bracket {\\n  color: #9494FF;\\n}\\n.json-formatter-dark.json-formatter-row .json-formatter-key {\\n  color: #23A0DB;\\n  padding-right: 0.2rem;\\n}\\n.json-formatter-dark.json-formatter-row .json-formatter-toggler-link {\\n  cursor: pointer;\\n}\\n.json-formatter-dark.json-formatter-row .json-formatter-toggler {\\n  line-height: 1.2rem;\\n  font-size: 0.7rem;\\n  vertical-align: middle;\\n  opacity: 0.6;\\n  cursor: pointer;\\n  padding-right: 0.2rem;\\n}\\n.json-formatter-dark.json-formatter-row .json-formatter-toggler:after {\\n  display: inline-block;\\n  transition: transform 100ms ease-in;\\n  content: \\\"\\\\25BA\\\";\\n}\\n.json-formatter-dark.json-formatter-row > a > .json-formatter-preview-text {\\n  opacity: 0;\\n  transition: opacity 0.15s ease-in;\\n  font-style: italic;\\n}\\n.json-formatter-dark.json-formatter-row:hover > a > .json-formatter-preview-text {\\n  opacity: 0.6;\\n}\\n.json-formatter-dark.json-formatter-row.json-formatter-open > .json-formatter-toggler-link .json-formatter-toggler:after {\\n  transform: rotate(90deg);\\n}\\n.json-formatter-dark.json-formatter-row.json-formatter-open > .json-formatter-children:after {\\n  display: inline-block;\\n}\\n.json-formatter-dark.json-formatter-row.json-formatter-open > a > .json-formatter-preview-text {\\n  display: none;\\n}\\n.json-formatter-dark.json-formatter-row.json-formatter-open.json-formatter-empty:after {\\n  display: block;\\n}\\n\");\n    },\n    function(Bokeh) {\n      inject_raw_css(\"table.panel-df {\\n    margin-left: auto;\\n    margin-right: auto;\\n    border: none;\\n    border-collapse: collapse;\\n    border-spacing: 0;\\n    color: black;\\n    font-size: 12px;\\n    table-layout: fixed;\\n    width: 100%;\\n}\\n\\n.panel-df tr, th, td {\\n    text-align: right;\\n    vertical-align: middle;\\n    padding: 0.5em 0.5em !important;\\n    line-height: normal;\\n    white-space: normal;\\n    max-width: none;\\n    border: none;\\n}\\n\\n.panel-df tbody {\\n    display: table-row-group;\\n    vertical-align: middle;\\n    border-color: inherit;\\n}\\n\\n.panel-df tbody tr:nth-child(odd) {\\n    background: #f5f5f5;\\n}\\n\\n.panel-df thead {\\n    border-bottom: 1px solid black;\\n    vertical-align: bottom;\\n}\\n\\n.panel-df tr:hover {\\n    background: lightblue !important;\\n    cursor: pointer;\\n}\\n\");\n    },\n    function(Bokeh) {\n      Bokeh.set_log_level(\"info\");\n    },\n    function(Bokeh) {\n    \n    \n    }\n  ];\n\n  function run_inline_js() {\n    \n    if (root.Bokeh !== undefined || force === true) {\n      \n    for (var i = 0; i < inline_js.length; i++) {\n      inline_js[i].call(root, root.Bokeh);\n    }\n    if (force === true) {\n        display_loaded();\n      }} else if (Date.now() < root._bokeh_timeout) {\n      setTimeout(run_inline_js, 100);\n    } else if (!root._bokeh_failed_load) {\n      console.log(\"Bokeh: BokehJS failed to load within specified timeout.\");\n      root._bokeh_failed_load = true;\n    } else if (force !== true) {\n      var cell = $(document.getElementById(\"14271\")).parents('.cell').data().cell;\n      cell.output_area.append_execute_result(NB_LOAD_WARNING)\n    }\n\n  }\n\n  if (root._bokeh_is_loading === 0) {\n    console.debug(\"Bokeh: BokehJS loaded, going straight to plotting\");\n    run_inline_js();\n  } else {\n    load_libs(css_urls, js_urls, function() {\n      console.debug(\"Bokeh: BokehJS plotting callback run at\", now());\n      run_inline_js();\n    });\n  }\n}(window));"
     },
     "metadata": {},
     "output_type": "display_data"
    }
   ],
   "source": [
    "import wgregseq\n",
    "%load_ext autoreload\n",
    "%autoreload 2\n",
    "\n",
    "import pandas as pd\n",
    "import numpy as np\n",
    "import bebi103\n",
    "import copy\n",
    "\n",
    "from bokeh.plotting import figure\n",
    "from bokeh.models import ColumnDataSource\n",
    "from bokeh.layouts import grid\n",
    "\n",
    "import bokeh.io\n",
    "\n",
    "bokeh.io.output_notebook()"
   ]
  },
  {
   "cell_type": "markdown",
   "metadata": {},
   "source": [
    "Load the wild type sequences and the energy matrix from Barnes 2019, as well as the lacUV5 (RNAP binding site) sequence from Brewster 2012."
   ]
  },
  {
   "cell_type": "code",
   "execution_count": 153,
   "metadata": {},
   "outputs": [],
   "source": [
    "O1 = 'AATTGTGAGCGGATAACAATT'\n",
    "O2 = 'AAATGTGAGCGAGTAACAACC'\n",
    "O3 = 'GGCAGTGAGCGCAACGCAATT'\n",
    "\n",
    "lacUV5 = 'TCGAGTTTACACTTTATGCTTCCGGCTCGTATAATGTGTGG'\n",
    "\n",
    "lacUV5_O1 = lacUV5 + O1\n",
    "lacUV5_O2 = lacUV5 + O2\n",
    "lacUV5_O3 = lacUV5 + O3\n",
    "\n",
    "O1_matrix = np.load(\"../../../../data/O1_matrix.npy\")"
   ]
  },
  {
   "cell_type": "markdown",
   "metadata": {},
   "source": [
    "Import the dictionary which transforms DNA into integers for indexing."
   ]
  },
  {
   "cell_type": "code",
   "execution_count": 154,
   "metadata": {},
   "outputs": [],
   "source": [
    "seq_dict, _ = wgregseq.choose_dict(\"dna\")"
   ]
  },
  {
   "cell_type": "markdown",
   "metadata": {},
   "source": [
    "We write a function to evaluate the energy matrix for a sequence. Therefore, the letters are transformed into an index."
   ]
  },
  {
   "cell_type": "code",
   "execution_count": 155,
   "metadata": {},
   "outputs": [],
   "source": [
    "def energy_from_sequence(sequence, matrix):\n",
    "    seq_list = list(sequence.upper())\n",
    "    num_seq = [seq_dict[x] for x in seq_list]\n",
    "    energy = sum([matrix[i, num_seq[i]] for i in range(len(sequence))])\n",
    "    return energy"
   ]
  },
  {
   "cell_type": "markdown",
   "metadata": {},
   "source": [
    "Now we can generate mutants. Therefore we generate all single and double mutants, as well as 10000 triple mutants using the function which creates all possible mutants and then chooses, to prevent duplicates."
   ]
  },
  {
   "cell_type": "code",
   "execution_count": 100,
   "metadata": {},
   "outputs": [],
   "source": [
    "mutants_single = wgregseq.mutations_det(O1, mut_per_seq=1)\n",
    "mutants_double = wgregseq.mutations_det(O1, mut_per_seq=2)\n",
    "mutants_triple = wgregseq.mutations_det(O1, mut_per_seq=3)"
   ]
  },
  {
   "cell_type": "markdown",
   "metadata": {},
   "source": [
    "For higher order mutants we don't have to worried about duplicates and can randomly generate mutants (while keeping the number of mutations fixed). Also we only take unique sequences, since we don't want duplicates in the final order."
   ]
  },
  {
   "cell_type": "code",
   "execution_count": 104,
   "metadata": {},
   "outputs": [],
   "source": [
    "mutants_quadruple = np.unique(wgregseq.mutations_rand(O1, rate=0.2, num_mutants=100000, number_fixed=True))\n",
    "mutants_quintuple = np.unique(wgregseq.mutations_rand(O1, rate=0.25, num_mutants=100000, number_fixed=True))\n",
    "mutants_sextuple = np.unique(wgregseq.mutations_rand(O1, rate=0.3, num_mutants=100000, number_fixed=True))"
   ]
  },
  {
   "cell_type": "markdown",
   "metadata": {},
   "source": [
    "Let's write all the mutants into a dataframe. We exclude the single mutants for now, since we want to use all of those anyways, so we add them back to the pool in the end."
   ]
  },
  {
   "cell_type": "code",
   "execution_count": 113,
   "metadata": {},
   "outputs": [],
   "source": [
    "df_1 = pd.DataFrame({\"seq\": mutants_single, \"mutations\": 1})\n",
    "df_2 = pd.DataFrame({\"seq\": mutants_double, \"mutations\": 2})\n",
    "df_3 = pd.DataFrame({\"seq\": mutants_triple, \"mutations\": 3})\n",
    "df_4 = pd.DataFrame({\"seq\": mutants_quadruple, \"mutations\": 4})\n",
    "df_5 = pd.DataFrame({\"seq\": mutants_quintuple, \"mutations\": 5})\n",
    "df_6 = pd.DataFrame({\"seq\": mutants_sextuple, \"mutations\": 6})\n",
    "df = pd.concat([df_2, df_3, df_4, df_5, df_6], ignore_index=True)"
   ]
  },
  {
   "cell_type": "markdown",
   "metadata": {},
   "source": [
    "Now we can compute the difference in energy matrix for every mutant and add it to the dataframe."
   ]
  },
  {
   "cell_type": "code",
   "execution_count": 114,
   "metadata": {},
   "outputs": [
    {
     "data": {
      "text/html": [
       "<div>\n",
       "<style scoped>\n",
       "    .dataframe tbody tr th:only-of-type {\n",
       "        vertical-align: middle;\n",
       "    }\n",
       "\n",
       "    .dataframe tbody tr th {\n",
       "        vertical-align: top;\n",
       "    }\n",
       "\n",
       "    .dataframe thead th {\n",
       "        text-align: right;\n",
       "    }\n",
       "</style>\n",
       "<table border=\"1\" class=\"dataframe\">\n",
       "  <thead>\n",
       "    <tr style=\"text-align: right;\">\n",
       "      <th></th>\n",
       "      <th>seq</th>\n",
       "      <th>mutations</th>\n",
       "      <th>energy</th>\n",
       "    </tr>\n",
       "  </thead>\n",
       "  <tbody>\n",
       "    <tr>\n",
       "      <th>327006</th>\n",
       "      <td>ttgctTGAGCGGAgAACAATT</td>\n",
       "      <td>6</td>\n",
       "      <td>12.892082</td>\n",
       "    </tr>\n",
       "    <tr>\n",
       "      <th>327007</th>\n",
       "      <td>ttggGTGAGCGGATcAtAATT</td>\n",
       "      <td>6</td>\n",
       "      <td>6.803030</td>\n",
       "    </tr>\n",
       "    <tr>\n",
       "      <th>327008</th>\n",
       "      <td>ttggGTGAGCGaATcACAATT</td>\n",
       "      <td>6</td>\n",
       "      <td>5.820889</td>\n",
       "    </tr>\n",
       "    <tr>\n",
       "      <th>327009</th>\n",
       "      <td>ttggGTGAaCGGATAACAAgT</td>\n",
       "      <td>6</td>\n",
       "      <td>7.533097</td>\n",
       "    </tr>\n",
       "    <tr>\n",
       "      <th>327010</th>\n",
       "      <td>ttggGgGgGCGGATAACAATT</td>\n",
       "      <td>6</td>\n",
       "      <td>11.719174</td>\n",
       "    </tr>\n",
       "  </tbody>\n",
       "</table>\n",
       "</div>"
      ],
      "text/plain": [
       "                          seq  mutations     energy\n",
       "327006  ttgctTGAGCGGAgAACAATT          6  12.892082\n",
       "327007  ttggGTGAGCGGATcAtAATT          6   6.803030\n",
       "327008  ttggGTGAGCGaATcACAATT          6   5.820889\n",
       "327009  ttggGTGAaCGGATAACAAgT          6   7.533097\n",
       "327010  ttggGgGgGCGGATAACAATT          6  11.719174"
      ]
     },
     "execution_count": 114,
     "metadata": {},
     "output_type": "execute_result"
    }
   ],
   "source": [
    "df[\"energy\"] = df['seq'].apply(energy_from_sequence, args= (O1_matrix, ))\n",
    "df.tail()"
   ]
  },
  {
   "cell_type": "markdown",
   "metadata": {},
   "source": [
    "To choose which mutants we are taking, we first try bins of binding energies."
   ]
  },
  {
   "cell_type": "code",
   "execution_count": 115,
   "metadata": {},
   "outputs": [
    {
     "data": {
      "text/plain": [
       "[(-1.0, 0.0),\n",
       " (0.0, 1.0),\n",
       " (1.0, 2.0),\n",
       " (2.0, 3.0),\n",
       " (3.0, 4.0),\n",
       " (4.0, 5.0),\n",
       " (5.0, 6.0),\n",
       " (6.0, 7.0),\n",
       " (7.0, 8.0)]"
      ]
     },
     "execution_count": 115,
     "metadata": {},
     "output_type": "execute_result"
    }
   ],
   "source": [
    "gap=0.5\n",
    "Min, Max = -0.5, 7.5\n",
    "bins = [(i-gap, i+gap) for i in np.linspace(Min, Max, num=9)]\n",
    "bins"
   ]
  },
  {
   "cell_type": "markdown",
   "metadata": {},
   "source": [
    "Let's have a look on how the mutants are distributed."
   ]
  },
  {
   "cell_type": "code",
   "execution_count": 116,
   "metadata": {},
   "outputs": [
    {
     "data": {
      "text/html": [
       "\n",
       "\n",
       "\n",
       "\n",
       "\n",
       "\n",
       "  <div class=\"bk-root\" id=\"e771bf9e-6b5d-4da4-8376-e40b07ee3b99\" data-root-id=\"23079\"></div>\n"
      ]
     },
     "metadata": {},
     "output_type": "display_data"
    },
    {
     "data": {
      "application/javascript": [
       "(function(root) {\n",
       "  function embed_document(root) {\n",
       "    \n",
       "  var docs_json = {\"23de7212-ab2c-4bd9-83b3-97239ddbf9f0\":{\"roots\":{\"references\":[{\"attributes\":{\"children\":[[{\"id\":\"22279\"},0,0,1,1],[{\"id\":\"22439\"},0,1,1,1],[{\"id\":\"22599\"},0,2,1,1],[{\"id\":\"22759\"},0,3,1,1],[{\"id\":\"22919\"},0,4,1,1]]},\"id\":\"23079\",\"type\":\"GridBox\"},{\"attributes\":{\"line_color\":\"orange\",\"x\":{\"field\":\"x\"},\"y\":{\"field\":\"y\"}},\"id\":\"22365\",\"type\":\"Line\"},{\"attributes\":{},\"id\":\"25042\",\"type\":\"Selection\"},{\"attributes\":{},\"id\":\"25154\",\"type\":\"Selection\"},{\"attributes\":{\"fill_alpha\":0.1,\"fill_color\":\"orange\",\"x\":{\"field\":\"x\"},\"y1\":{\"field\":\"y1\"},\"y2\":{\"field\":\"y2\"}},\"id\":\"22361\",\"type\":\"VArea\"},{\"attributes\":{},\"id\":\"25069\",\"type\":\"UnionRenderers\"},{\"attributes\":{\"fill_alpha\":0.2,\"fill_color\":\"orange\",\"x\":{\"field\":\"x\"},\"y1\":{\"field\":\"y1\"},\"y2\":{\"field\":\"y2\"}},\"id\":\"22360\",\"type\":\"VArea\"},{\"attributes\":{\"line_alpha\":0.1,\"line_color\":\"orange\",\"x\":{\"field\":\"x\"},\"y\":{\"field\":\"y\"}},\"id\":\"22356\",\"type\":\"Line\"},{\"attributes\":{},\"id\":\"25070\",\"type\":\"Selection\"},{\"attributes\":{\"source\":{\"id\":\"22354\"}},\"id\":\"22358\",\"type\":\"CDSView\"},{\"attributes\":{\"data\":{\"x\":[2.0,3.0],\"y1\":[0,0],\"y2\":[0.18390112513315407,0.18390112513315407]},\"selected\":{\"id\":\"24960\"},\"selection_policy\":{\"id\":\"24959\"}},\"id\":\"22359\",\"type\":\"ColumnDataSource\"},{\"attributes\":{\"source\":{\"id\":\"22359\"}},\"id\":\"22363\",\"type\":\"CDSView\"},{\"attributes\":{\"fill_alpha\":0.1,\"fill_color\":\"orange\",\"x\":{\"field\":\"x\"},\"y1\":{\"field\":\"y1\"},\"y2\":{\"field\":\"y2\"}},\"id\":\"22376\",\"type\":\"VArea\"},{\"attributes\":{\"line_color\":\"orange\",\"x\":{\"field\":\"x\"},\"y\":{\"field\":\"y\"}},\"id\":\"22370\",\"type\":\"Line\"},{\"attributes\":{},\"id\":\"25043\",\"type\":\"UnionRenderers\"},{\"attributes\":{},\"id\":\"25155\",\"type\":\"UnionRenderers\"},{\"attributes\":{\"data\":{\"x\":[3.0,3.0],\"y\":[0,0.18390112513315407]},\"selected\":{\"id\":\"24962\"},\"selection_policy\":{\"id\":\"24961\"}},\"id\":\"22364\",\"type\":\"ColumnDataSource\"},{\"attributes\":{},\"id\":\"25044\",\"type\":\"Selection\"},{\"attributes\":{},\"id\":\"25156\",\"type\":\"Selection\"},{\"attributes\":{\"data_source\":{\"id\":\"22374\"},\"glyph\":{\"id\":\"22375\"},\"hover_glyph\":null,\"muted_glyph\":null,\"nonselection_glyph\":{\"id\":\"22376\"},\"selection_glyph\":null,\"view\":{\"id\":\"22378\"}},\"id\":\"22377\",\"type\":\"GlyphRenderer\"},{\"attributes\":{\"data_source\":{\"id\":\"22364\"},\"glyph\":{\"id\":\"22365\"},\"hover_glyph\":null,\"muted_glyph\":null,\"nonselection_glyph\":{\"id\":\"22366\"},\"selection_glyph\":null,\"view\":{\"id\":\"22368\"}},\"id\":\"22367\",\"type\":\"GlyphRenderer\"},{\"attributes\":{},\"id\":\"25071\",\"type\":\"UnionRenderers\"},{\"attributes\":{\"data\":{\"x\":[4.0,4.0],\"y\":[0,0.18390112513315407]},\"selected\":{\"id\":\"24964\"},\"selection_policy\":{\"id\":\"24963\"}},\"id\":\"22369\",\"type\":\"ColumnDataSource\"},{\"attributes\":{},\"id\":\"25072\",\"type\":\"Selection\"},{\"attributes\":{\"line_alpha\":0.1,\"line_color\":\"orange\",\"x\":{\"field\":\"x\"},\"y\":{\"field\":\"y\"}},\"id\":\"22366\",\"type\":\"Line\"},{\"attributes\":{\"source\":{\"id\":\"22364\"}},\"id\":\"22368\",\"type\":\"CDSView\"},{\"attributes\":{\"data_source\":{\"id\":\"22369\"},\"glyph\":{\"id\":\"22370\"},\"hover_glyph\":null,\"muted_glyph\":null,\"nonselection_glyph\":{\"id\":\"22371\"},\"selection_glyph\":null,\"view\":{\"id\":\"22373\"}},\"id\":\"22372\",\"type\":\"GlyphRenderer\"},{\"attributes\":{\"line_color\":\"orange\",\"x\":{\"field\":\"x\"},\"y\":{\"field\":\"y\"}},\"id\":\"22380\",\"type\":\"Line\"},{\"attributes\":{},\"id\":\"25045\",\"type\":\"UnionRenderers\"},{\"attributes\":{},\"id\":\"25157\",\"type\":\"UnionRenderers\"},{\"attributes\":{\"fill_alpha\":0.2,\"fill_color\":\"orange\",\"x\":{\"field\":\"x\"},\"y1\":{\"field\":\"y1\"},\"y2\":{\"field\":\"y2\"}},\"id\":\"22375\",\"type\":\"VArea\"},{\"attributes\":{\"line_alpha\":0.1,\"line_color\":\"orange\",\"x\":{\"field\":\"x\"},\"y\":{\"field\":\"y\"}},\"id\":\"22371\",\"type\":\"Line\"},{\"attributes\":{},\"id\":\"25046\",\"type\":\"Selection\"},{\"attributes\":{},\"id\":\"25158\",\"type\":\"Selection\"},{\"attributes\":{\"source\":{\"id\":\"22369\"}},\"id\":\"22373\",\"type\":\"CDSView\"},{\"attributes\":{\"data\":{\"x\":[3.0,4.0],\"y1\":[0,0],\"y2\":[0.18390112513315407,0.18390112513315407]},\"selected\":{\"id\":\"24966\"},\"selection_policy\":{\"id\":\"24965\"}},\"id\":\"22374\",\"type\":\"ColumnDataSource\"},{\"attributes\":{\"source\":{\"id\":\"22374\"}},\"id\":\"22378\",\"type\":\"CDSView\"},{\"attributes\":{\"fill_alpha\":0.1,\"fill_color\":\"orange\",\"x\":{\"field\":\"x\"},\"y1\":{\"field\":\"y1\"},\"y2\":{\"field\":\"y2\"}},\"id\":\"22391\",\"type\":\"VArea\"},{\"attributes\":{},\"id\":\"25073\",\"type\":\"UnionRenderers\"},{\"attributes\":{\"line_color\":\"orange\",\"x\":{\"field\":\"x\"},\"y\":{\"field\":\"y\"}},\"id\":\"22385\",\"type\":\"Line\"},{\"attributes\":{},\"id\":\"25074\",\"type\":\"Selection\"},{\"attributes\":{\"data\":{\"x\":[4.0,4.0],\"y\":[0,0.18390112513315407]},\"selected\":{\"id\":\"24968\"},\"selection_policy\":{\"id\":\"24967\"}},\"id\":\"22379\",\"type\":\"ColumnDataSource\"},{\"attributes\":{\"data_source\":{\"id\":\"22389\"},\"glyph\":{\"id\":\"22390\"},\"hover_glyph\":null,\"muted_glyph\":null,\"nonselection_glyph\":{\"id\":\"22391\"},\"selection_glyph\":null,\"view\":{\"id\":\"22393\"}},\"id\":\"22392\",\"type\":\"GlyphRenderer\"},{\"attributes\":{\"data_source\":{\"id\":\"22379\"},\"glyph\":{\"id\":\"22380\"},\"hover_glyph\":null,\"muted_glyph\":null,\"nonselection_glyph\":{\"id\":\"22381\"},\"selection_glyph\":null,\"view\":{\"id\":\"22383\"}},\"id\":\"22382\",\"type\":\"GlyphRenderer\"},{\"attributes\":{\"data\":{\"x\":[5.0,5.0],\"y\":[0,0.18390112513315407]},\"selected\":{\"id\":\"24970\"},\"selection_policy\":{\"id\":\"24969\"}},\"id\":\"22384\",\"type\":\"ColumnDataSource\"},{\"attributes\":{\"line_alpha\":0.1,\"line_color\":\"orange\",\"x\":{\"field\":\"x\"},\"y\":{\"field\":\"y\"}},\"id\":\"22381\",\"type\":\"Line\"},{\"attributes\":{\"source\":{\"id\":\"22379\"}},\"id\":\"22383\",\"type\":\"CDSView\"},{\"attributes\":{\"data_source\":{\"id\":\"22384\"},\"glyph\":{\"id\":\"22385\"},\"hover_glyph\":null,\"muted_glyph\":null,\"nonselection_glyph\":{\"id\":\"22386\"},\"selection_glyph\":null,\"view\":{\"id\":\"22388\"}},\"id\":\"22387\",\"type\":\"GlyphRenderer\"},{\"attributes\":{},\"id\":\"24918\",\"type\":\"BasicTickFormatter\"},{\"attributes\":{\"line_color\":\"orange\",\"x\":{\"field\":\"x\"},\"y\":{\"field\":\"y\"}},\"id\":\"22395\",\"type\":\"Line\"},{\"attributes\":{},\"id\":\"25075\",\"type\":\"UnionRenderers\"},{\"attributes\":{\"fill_alpha\":0.2,\"fill_color\":\"orange\",\"x\":{\"field\":\"x\"},\"y1\":{\"field\":\"y1\"},\"y2\":{\"field\":\"y2\"}},\"id\":\"22390\",\"type\":\"VArea\"},{\"attributes\":{},\"id\":\"25076\",\"type\":\"Selection\"},{\"attributes\":{\"line_alpha\":0.1,\"line_color\":\"orange\",\"x\":{\"field\":\"x\"},\"y\":{\"field\":\"y\"}},\"id\":\"22386\",\"type\":\"Line\"},{\"attributes\":{\"source\":{\"id\":\"22384\"}},\"id\":\"22388\",\"type\":\"CDSView\"},{\"attributes\":{},\"id\":\"25047\",\"type\":\"UnionRenderers\"},{\"attributes\":{},\"id\":\"25159\",\"type\":\"UnionRenderers\"},{\"attributes\":{\"data\":{\"x\":[4.0,5.0],\"y1\":[0,0],\"y2\":[0.18390112513315407,0.18390112513315407]},\"selected\":{\"id\":\"24972\"},\"selection_policy\":{\"id\":\"24971\"}},\"id\":\"22389\",\"type\":\"ColumnDataSource\"},{\"attributes\":{\"source\":{\"id\":\"22389\"}},\"id\":\"22393\",\"type\":\"CDSView\"},{\"attributes\":{},\"id\":\"24924\",\"type\":\"BasicTickFormatter\"},{\"attributes\":{},\"id\":\"25048\",\"type\":\"Selection\"},{\"attributes\":{\"fill_alpha\":0.1,\"fill_color\":\"orange\",\"x\":{\"field\":\"x\"},\"y1\":{\"field\":\"y1\"},\"y2\":{\"field\":\"y2\"}},\"id\":\"22406\",\"type\":\"VArea\"},{\"attributes\":{},\"id\":\"25160\",\"type\":\"Selection\"},{\"attributes\":{\"line_color\":\"orange\",\"x\":{\"field\":\"x\"},\"y\":{\"field\":\"y\"}},\"id\":\"22400\",\"type\":\"Line\"},{\"attributes\":{\"data\":{\"x\":[5.0,5.0],\"y\":[0,0.18390112513315407]},\"selected\":{\"id\":\"24974\"},\"selection_policy\":{\"id\":\"24973\"}},\"id\":\"22394\",\"type\":\"ColumnDataSource\"},{\"attributes\":{\"data_source\":{\"id\":\"22404\"},\"glyph\":{\"id\":\"22405\"},\"hover_glyph\":null,\"muted_glyph\":null,\"nonselection_glyph\":{\"id\":\"22406\"},\"selection_glyph\":null,\"view\":{\"id\":\"22408\"}},\"id\":\"22407\",\"type\":\"GlyphRenderer\"},{\"attributes\":{},\"id\":\"25077\",\"type\":\"UnionRenderers\"},{\"attributes\":{\"data_source\":{\"id\":\"22394\"},\"glyph\":{\"id\":\"22395\"},\"hover_glyph\":null,\"muted_glyph\":null,\"nonselection_glyph\":{\"id\":\"22396\"},\"selection_glyph\":null,\"view\":{\"id\":\"22398\"}},\"id\":\"22397\",\"type\":\"GlyphRenderer\"},{\"attributes\":{\"data\":{\"x\":[6.0,6.0],\"y\":[0,0.18390112513315407]},\"selected\":{\"id\":\"24976\"},\"selection_policy\":{\"id\":\"24975\"}},\"id\":\"22399\",\"type\":\"ColumnDataSource\"},{\"attributes\":{},\"id\":\"25078\",\"type\":\"Selection\"},{\"attributes\":{},\"id\":\"24926\",\"type\":\"BasicTickFormatter\"},{\"attributes\":{\"line_alpha\":0.1,\"line_color\":\"orange\",\"x\":{\"field\":\"x\"},\"y\":{\"field\":\"y\"}},\"id\":\"22396\",\"type\":\"Line\"},{\"attributes\":{\"source\":{\"id\":\"22394\"}},\"id\":\"22398\",\"type\":\"CDSView\"},{\"attributes\":{\"data_source\":{\"id\":\"22399\"},\"glyph\":{\"id\":\"22400\"},\"hover_glyph\":null,\"muted_glyph\":null,\"nonselection_glyph\":{\"id\":\"22401\"},\"selection_glyph\":null,\"view\":{\"id\":\"22403\"}},\"id\":\"22402\",\"type\":\"GlyphRenderer\"},{\"attributes\":{},\"id\":\"25049\",\"type\":\"UnionRenderers\"},{\"attributes\":{},\"id\":\"25161\",\"type\":\"UnionRenderers\"},{\"attributes\":{\"line_color\":\"orange\",\"x\":{\"field\":\"x\"},\"y\":{\"field\":\"y\"}},\"id\":\"22410\",\"type\":\"Line\"},{\"attributes\":{},\"id\":\"25050\",\"type\":\"Selection\"},{\"attributes\":{},\"id\":\"25162\",\"type\":\"Selection\"},{\"attributes\":{},\"id\":\"24916\",\"type\":\"BasicTickFormatter\"},{\"attributes\":{\"fill_alpha\":0.2,\"fill_color\":\"orange\",\"x\":{\"field\":\"x\"},\"y1\":{\"field\":\"y1\"},\"y2\":{\"field\":\"y2\"}},\"id\":\"22405\",\"type\":\"VArea\"},{\"attributes\":{\"line_alpha\":0.1,\"line_color\":\"orange\",\"x\":{\"field\":\"x\"},\"y\":{\"field\":\"y\"}},\"id\":\"22401\",\"type\":\"Line\"},{\"attributes\":{\"source\":{\"id\":\"22399\"}},\"id\":\"22403\",\"type\":\"CDSView\"},{\"attributes\":{\"data\":{\"x\":[5.0,6.0],\"y1\":[0,0],\"y2\":[0.18390112513315407,0.18390112513315407]},\"selected\":{\"id\":\"24978\"},\"selection_policy\":{\"id\":\"24977\"}},\"id\":\"22404\",\"type\":\"ColumnDataSource\"},{\"attributes\":{\"source\":{\"id\":\"22404\"}},\"id\":\"22408\",\"type\":\"CDSView\"},{\"attributes\":{},\"id\":\"25079\",\"type\":\"UnionRenderers\"},{\"attributes\":{\"fill_alpha\":0.1,\"fill_color\":\"orange\",\"x\":{\"field\":\"x\"},\"y1\":{\"field\":\"y1\"},\"y2\":{\"field\":\"y2\"}},\"id\":\"22421\",\"type\":\"VArea\"},{\"attributes\":{\"line_color\":\"orange\",\"x\":{\"field\":\"x\"},\"y\":{\"field\":\"y\"}},\"id\":\"22415\",\"type\":\"Line\"},{\"attributes\":{},\"id\":\"25080\",\"type\":\"Selection\"},{\"attributes\":{\"data\":{\"x\":[6.0,6.0],\"y\":[0,0.18390112513315407]},\"selected\":{\"id\":\"24980\"},\"selection_policy\":{\"id\":\"24979\"}},\"id\":\"22409\",\"type\":\"ColumnDataSource\"},{\"attributes\":{},\"id\":\"25051\",\"type\":\"UnionRenderers\"},{\"attributes\":{},\"id\":\"25163\",\"type\":\"UnionRenderers\"},{\"attributes\":{\"data_source\":{\"id\":\"22419\"},\"glyph\":{\"id\":\"22420\"},\"hover_glyph\":null,\"muted_glyph\":null,\"nonselection_glyph\":{\"id\":\"22421\"},\"selection_glyph\":null,\"view\":{\"id\":\"22423\"}},\"id\":\"22422\",\"type\":\"GlyphRenderer\"},{\"attributes\":{\"data_source\":{\"id\":\"22409\"},\"glyph\":{\"id\":\"22410\"},\"hover_glyph\":null,\"muted_glyph\":null,\"nonselection_glyph\":{\"id\":\"22411\"},\"selection_glyph\":null,\"view\":{\"id\":\"22413\"}},\"id\":\"22412\",\"type\":\"GlyphRenderer\"},{\"attributes\":{},\"id\":\"25052\",\"type\":\"Selection\"},{\"attributes\":{},\"id\":\"25164\",\"type\":\"Selection\"},{\"attributes\":{\"data\":{\"x\":[7.0,7.0],\"y\":[0,0.18390112513315407]},\"selected\":{\"id\":\"24982\"},\"selection_policy\":{\"id\":\"24981\"}},\"id\":\"22414\",\"type\":\"ColumnDataSource\"},{\"attributes\":{\"line_alpha\":0.1,\"line_color\":\"orange\",\"x\":{\"field\":\"x\"},\"y\":{\"field\":\"y\"}},\"id\":\"22411\",\"type\":\"Line\"},{\"attributes\":{\"source\":{\"id\":\"22409\"}},\"id\":\"22413\",\"type\":\"CDSView\"},{\"attributes\":{\"data_source\":{\"id\":\"22414\"},\"glyph\":{\"id\":\"22415\"},\"hover_glyph\":null,\"muted_glyph\":null,\"nonselection_glyph\":{\"id\":\"22416\"},\"selection_glyph\":null,\"view\":{\"id\":\"22418\"}},\"id\":\"22417\",\"type\":\"GlyphRenderer\"},{\"attributes\":{},\"id\":\"25081\",\"type\":\"UnionRenderers\"},{\"attributes\":{\"line_color\":\"orange\",\"x\":{\"field\":\"x\"},\"y\":{\"field\":\"y\"}},\"id\":\"22425\",\"type\":\"Line\"},{\"attributes\":{},\"id\":\"25082\",\"type\":\"Selection\"},{\"attributes\":{\"fill_alpha\":0.2,\"fill_color\":\"orange\",\"x\":{\"field\":\"x\"},\"y1\":{\"field\":\"y1\"},\"y2\":{\"field\":\"y2\"}},\"id\":\"22420\",\"type\":\"VArea\"},{\"attributes\":{\"line_alpha\":0.1,\"line_color\":\"orange\",\"x\":{\"field\":\"x\"},\"y\":{\"field\":\"y\"}},\"id\":\"22416\",\"type\":\"Line\"},{\"attributes\":{},\"id\":\"25053\",\"type\":\"UnionRenderers\"},{\"attributes\":{},\"id\":\"25165\",\"type\":\"UnionRenderers\"},{\"attributes\":{\"source\":{\"id\":\"22414\"}},\"id\":\"22418\",\"type\":\"CDSView\"},{\"attributes\":{\"data\":{\"x\":[6.0,7.0],\"y1\":[0,0],\"y2\":[0.18390112513315407,0.18390112513315407]},\"selected\":{\"id\":\"24984\"},\"selection_policy\":{\"id\":\"24983\"}},\"id\":\"22419\",\"type\":\"ColumnDataSource\"},{\"attributes\":{},\"id\":\"25054\",\"type\":\"Selection\"},{\"attributes\":{},\"id\":\"25166\",\"type\":\"Selection\"},{\"attributes\":{\"source\":{\"id\":\"22419\"}},\"id\":\"22423\",\"type\":\"CDSView\"},{\"attributes\":{\"data_source\":{\"id\":\"22424\"},\"glyph\":{\"id\":\"22425\"},\"hover_glyph\":null,\"muted_glyph\":null,\"nonselection_glyph\":{\"id\":\"22426\"},\"selection_glyph\":null,\"view\":{\"id\":\"22428\"}},\"id\":\"22427\",\"type\":\"GlyphRenderer\"},{\"attributes\":{\"data\":{\"x\":[7.0,7.0],\"y\":[0,0.18390112513315407]},\"selected\":{\"id\":\"24986\"},\"selection_policy\":{\"id\":\"24985\"}},\"id\":\"22424\",\"type\":\"ColumnDataSource\"},{\"attributes\":{\"data_source\":{\"id\":\"22434\"},\"glyph\":{\"id\":\"22435\"},\"hover_glyph\":null,\"muted_glyph\":null,\"nonselection_glyph\":{\"id\":\"22436\"},\"selection_glyph\":null,\"view\":{\"id\":\"22438\"}},\"id\":\"22437\",\"type\":\"GlyphRenderer\"},{\"attributes\":{},\"id\":\"25083\",\"type\":\"UnionRenderers\"},{\"attributes\":{\"source\":{\"id\":\"22499\"}},\"id\":\"22503\",\"type\":\"CDSView\"},{\"attributes\":{},\"id\":\"25098\",\"type\":\"Selection\"},{\"attributes\":{\"fill_alpha\":0.1,\"fill_color\":\"orange\",\"x\":{\"field\":\"x\"},\"y1\":{\"field\":\"y1\"},\"y2\":{\"field\":\"y2\"}},\"id\":\"22506\",\"type\":\"VArea\"},{\"attributes\":{},\"id\":\"25084\",\"type\":\"Selection\"},{\"attributes\":{},\"id\":\"25140\",\"type\":\"Selection\"},{\"attributes\":{\"fill_alpha\":0.2,\"fill_color\":\"orange\",\"x\":{\"field\":\"x\"},\"y1\":{\"field\":\"y1\"},\"y2\":{\"field\":\"y2\"}},\"id\":\"22505\",\"type\":\"VArea\"},{\"attributes\":{\"line_color\":\"orange\",\"x\":{\"field\":\"x\"},\"y\":{\"field\":\"y\"}},\"id\":\"22510\",\"type\":\"Line\"},{\"attributes\":{\"data\":{\"x\":[1.0,2.0],\"y1\":[0,0],\"y2\":[0.1204523954086467,0.1204523954086467]},\"selected\":{\"id\":\"25010\"},\"selection_policy\":{\"id\":\"25009\"}},\"id\":\"22504\",\"type\":\"ColumnDataSource\"},{\"attributes\":{},\"id\":\"24999\",\"type\":\"UnionRenderers\"},{\"attributes\":{},\"id\":\"25055\",\"type\":\"UnionRenderers\"},{\"attributes\":{\"source\":{\"id\":\"22504\"}},\"id\":\"22508\",\"type\":\"CDSView\"},{\"attributes\":{},\"id\":\"25111\",\"type\":\"UnionRenderers\"},{\"attributes\":{},\"id\":\"25167\",\"type\":\"UnionRenderers\"},{\"attributes\":{\"fill_alpha\":0.1,\"fill_color\":\"orange\",\"x\":{\"field\":\"x\"},\"y1\":{\"field\":\"y1\"},\"y2\":{\"field\":\"y2\"}},\"id\":\"22521\",\"type\":\"VArea\"},{\"attributes\":{},\"id\":\"25000\",\"type\":\"Selection\"},{\"attributes\":{},\"id\":\"25056\",\"type\":\"Selection\"},{\"attributes\":{\"line_color\":\"orange\",\"x\":{\"field\":\"x\"},\"y\":{\"field\":\"y\"}},\"id\":\"22515\",\"type\":\"Line\"},{\"attributes\":{},\"id\":\"25112\",\"type\":\"Selection\"},{\"attributes\":{},\"id\":\"25168\",\"type\":\"Selection\"},{\"attributes\":{},\"id\":\"25099\",\"type\":\"UnionRenderers\"},{\"attributes\":{\"data\":{\"x\":[2.0,2.0],\"y\":[0,0.1204523954086467]},\"selected\":{\"id\":\"25012\"},\"selection_policy\":{\"id\":\"25011\"}},\"id\":\"22509\",\"type\":\"ColumnDataSource\"},{\"attributes\":{\"data_source\":{\"id\":\"22519\"},\"glyph\":{\"id\":\"22520\"},\"hover_glyph\":null,\"muted_glyph\":null,\"nonselection_glyph\":{\"id\":\"22521\"},\"selection_glyph\":null,\"view\":{\"id\":\"22523\"}},\"id\":\"22522\",\"type\":\"GlyphRenderer\"},{\"attributes\":{},\"id\":\"25100\",\"type\":\"Selection\"},{\"attributes\":{\"data_source\":{\"id\":\"22509\"},\"glyph\":{\"id\":\"22510\"},\"hover_glyph\":null,\"muted_glyph\":null,\"nonselection_glyph\":{\"id\":\"22511\"},\"selection_glyph\":null,\"view\":{\"id\":\"22513\"}},\"id\":\"22512\",\"type\":\"GlyphRenderer\"},{\"attributes\":{},\"id\":\"25085\",\"type\":\"UnionRenderers\"},{\"attributes\":{},\"id\":\"25141\",\"type\":\"UnionRenderers\"},{\"attributes\":{\"data\":{\"x\":[3.0,3.0],\"y\":[0,0.1204523954086467]},\"selected\":{\"id\":\"25014\"},\"selection_policy\":{\"id\":\"25013\"}},\"id\":\"22514\",\"type\":\"ColumnDataSource\"},{\"attributes\":{},\"id\":\"25086\",\"type\":\"Selection\"},{\"attributes\":{},\"id\":\"25142\",\"type\":\"Selection\"},{\"attributes\":{\"line_alpha\":0.1,\"line_color\":\"orange\",\"x\":{\"field\":\"x\"},\"y\":{\"field\":\"y\"}},\"id\":\"22511\",\"type\":\"Line\"},{\"attributes\":{\"source\":{\"id\":\"22509\"}},\"id\":\"22513\",\"type\":\"CDSView\"},{\"attributes\":{},\"id\":\"25001\",\"type\":\"UnionRenderers\"},{\"attributes\":{},\"id\":\"25057\",\"type\":\"UnionRenderers\"},{\"attributes\":{\"data_source\":{\"id\":\"22514\"},\"glyph\":{\"id\":\"22515\"},\"hover_glyph\":null,\"muted_glyph\":null,\"nonselection_glyph\":{\"id\":\"22516\"},\"selection_glyph\":null,\"view\":{\"id\":\"22518\"}},\"id\":\"22517\",\"type\":\"GlyphRenderer\"},{\"attributes\":{},\"id\":\"25113\",\"type\":\"UnionRenderers\"},{\"attributes\":{},\"id\":\"25117\",\"type\":\"UnionRenderers\"},{\"attributes\":{\"line_color\":\"orange\",\"x\":{\"field\":\"x\"},\"y\":{\"field\":\"y\"}},\"id\":\"22525\",\"type\":\"Line\"},{\"attributes\":{},\"id\":\"25002\",\"type\":\"Selection\"},{\"attributes\":{},\"id\":\"25058\",\"type\":\"Selection\"},{\"attributes\":{},\"id\":\"25114\",\"type\":\"Selection\"},{\"attributes\":{},\"id\":\"25170\",\"type\":\"Selection\"},{\"attributes\":{\"fill_alpha\":0.2,\"fill_color\":\"orange\",\"x\":{\"field\":\"x\"},\"y1\":{\"field\":\"y1\"},\"y2\":{\"field\":\"y2\"}},\"id\":\"22520\",\"type\":\"VArea\"},{\"attributes\":{},\"id\":\"25101\",\"type\":\"UnionRenderers\"},{\"attributes\":{\"line_alpha\":0.1,\"line_color\":\"orange\",\"x\":{\"field\":\"x\"},\"y\":{\"field\":\"y\"}},\"id\":\"22516\",\"type\":\"Line\"},{\"attributes\":{\"source\":{\"id\":\"22514\"}},\"id\":\"22518\",\"type\":\"CDSView\"},{\"attributes\":{},\"id\":\"25102\",\"type\":\"Selection\"},{\"attributes\":{\"data\":{\"x\":[2.0,3.0],\"y1\":[0,0],\"y2\":[0.1204523954086467,0.1204523954086467]},\"selected\":{\"id\":\"25016\"},\"selection_policy\":{\"id\":\"25015\"}},\"id\":\"22519\",\"type\":\"ColumnDataSource\"},{\"attributes\":{},\"id\":\"25087\",\"type\":\"UnionRenderers\"},{\"attributes\":{},\"id\":\"25143\",\"type\":\"UnionRenderers\"},{\"attributes\":{\"source\":{\"id\":\"22519\"}},\"id\":\"22523\",\"type\":\"CDSView\"},{\"attributes\":{\"fill_alpha\":0.1,\"fill_color\":\"orange\",\"x\":{\"field\":\"x\"},\"y1\":{\"field\":\"y1\"},\"y2\":{\"field\":\"y2\"}},\"id\":\"22536\",\"type\":\"VArea\"},{\"attributes\":{},\"id\":\"25088\",\"type\":\"Selection\"},{\"attributes\":{},\"id\":\"25144\",\"type\":\"Selection\"},{\"attributes\":{\"line_color\":\"orange\",\"x\":{\"field\":\"x\"},\"y\":{\"field\":\"y\"}},\"id\":\"22530\",\"type\":\"Line\"},{\"attributes\":{},\"id\":\"25003\",\"type\":\"UnionRenderers\"},{\"attributes\":{},\"id\":\"25059\",\"type\":\"UnionRenderers\"},{\"attributes\":{},\"id\":\"25115\",\"type\":\"UnionRenderers\"},{\"attributes\":{\"data\":{\"x\":[3.0,3.0],\"y\":[0,0.1204523954086467]},\"selected\":{\"id\":\"25018\"},\"selection_policy\":{\"id\":\"25017\"}},\"id\":\"22524\",\"type\":\"ColumnDataSource\"},{\"attributes\":{},\"id\":\"25171\",\"type\":\"UnionRenderers\"},{\"attributes\":{\"data_source\":{\"id\":\"22534\"},\"glyph\":{\"id\":\"22535\"},\"hover_glyph\":null,\"muted_glyph\":null,\"nonselection_glyph\":{\"id\":\"22536\"},\"selection_glyph\":null,\"view\":{\"id\":\"22538\"}},\"id\":\"22537\",\"type\":\"GlyphRenderer\"},{\"attributes\":{},\"id\":\"25004\",\"type\":\"Selection\"},{\"attributes\":{},\"id\":\"25060\",\"type\":\"Selection\"},{\"attributes\":{\"data_source\":{\"id\":\"22524\"},\"glyph\":{\"id\":\"22525\"},\"hover_glyph\":null,\"muted_glyph\":null,\"nonselection_glyph\":{\"id\":\"22526\"},\"selection_glyph\":null,\"view\":{\"id\":\"22528\"}},\"id\":\"22527\",\"type\":\"GlyphRenderer\"},{\"attributes\":{},\"id\":\"25116\",\"type\":\"Selection\"},{\"attributes\":{},\"id\":\"25172\",\"type\":\"Selection\"},{\"attributes\":{\"data\":{\"x\":[4.0,4.0],\"y\":[0,0.1204523954086467]},\"selected\":{\"id\":\"25020\"},\"selection_policy\":{\"id\":\"25019\"}},\"id\":\"22529\",\"type\":\"ColumnDataSource\"},{\"attributes\":{\"line_alpha\":0.1,\"line_color\":\"orange\",\"x\":{\"field\":\"x\"},\"y\":{\"field\":\"y\"}},\"id\":\"22526\",\"type\":\"Line\"},{\"attributes\":{\"source\":{\"id\":\"22524\"}},\"id\":\"22528\",\"type\":\"CDSView\"},{\"attributes\":{},\"id\":\"25089\",\"type\":\"UnionRenderers\"},{\"attributes\":{},\"id\":\"25145\",\"type\":\"UnionRenderers\"},{\"attributes\":{\"data_source\":{\"id\":\"22529\"},\"glyph\":{\"id\":\"22530\"},\"hover_glyph\":null,\"muted_glyph\":null,\"nonselection_glyph\":{\"id\":\"22531\"},\"selection_glyph\":null,\"view\":{\"id\":\"22533\"}},\"id\":\"22532\",\"type\":\"GlyphRenderer\"},{\"attributes\":{\"line_color\":\"orange\",\"x\":{\"field\":\"x\"},\"y\":{\"field\":\"y\"}},\"id\":\"22540\",\"type\":\"Line\"},{\"attributes\":{},\"id\":\"25090\",\"type\":\"Selection\"},{\"attributes\":{},\"id\":\"25146\",\"type\":\"Selection\"},{\"attributes\":{\"fill_alpha\":0.2,\"fill_color\":\"orange\",\"x\":{\"field\":\"x\"},\"y1\":{\"field\":\"y1\"},\"y2\":{\"field\":\"y2\"}},\"id\":\"22535\",\"type\":\"VArea\"},{\"attributes\":{\"line_alpha\":0.1,\"line_color\":\"orange\",\"x\":{\"field\":\"x\"},\"y\":{\"field\":\"y\"}},\"id\":\"22531\",\"type\":\"Line\"},{\"attributes\":{\"source\":{\"id\":\"22529\"}},\"id\":\"22533\",\"type\":\"CDSView\"},{\"attributes\":{},\"id\":\"25005\",\"type\":\"UnionRenderers\"},{\"attributes\":{},\"id\":\"25061\",\"type\":\"UnionRenderers\"},{\"attributes\":{\"data\":{\"x\":[3.0,4.0],\"y1\":[0,0],\"y2\":[0.1204523954086467,0.1204523954086467]},\"selected\":{\"id\":\"25022\"},\"selection_policy\":{\"id\":\"25021\"}},\"id\":\"22534\",\"type\":\"ColumnDataSource\"},{\"attributes\":{},\"id\":\"24932\",\"type\":\"BasicTickFormatter\"},{\"attributes\":{},\"id\":\"25103\",\"type\":\"UnionRenderers\"},{\"attributes\":{\"source\":{\"id\":\"22534\"}},\"id\":\"22538\",\"type\":\"CDSView\"},{\"attributes\":{},\"id\":\"25006\",\"type\":\"Selection\"},{\"attributes\":{},\"id\":\"25062\",\"type\":\"Selection\"},{\"attributes\":{\"fill_alpha\":0.1,\"fill_color\":\"orange\",\"x\":{\"field\":\"x\"},\"y1\":{\"field\":\"y1\"},\"y2\":{\"field\":\"y2\"}},\"id\":\"22551\",\"type\":\"VArea\"},{\"attributes\":{},\"id\":\"25104\",\"type\":\"Selection\"},{\"attributes\":{},\"id\":\"25118\",\"type\":\"Selection\"},{\"attributes\":{\"line_color\":\"orange\",\"x\":{\"field\":\"x\"},\"y\":{\"field\":\"y\"}},\"id\":\"22545\",\"type\":\"Line\"},{\"attributes\":{},\"id\":\"25174\",\"type\":\"Selection\"},{\"attributes\":{\"data\":{\"x\":[4.0,4.0],\"y\":[0,0.1204523954086467]},\"selected\":{\"id\":\"25024\"},\"selection_policy\":{\"id\":\"25023\"}},\"id\":\"22539\",\"type\":\"ColumnDataSource\"},{\"attributes\":{\"data_source\":{\"id\":\"22549\"},\"glyph\":{\"id\":\"22550\"},\"hover_glyph\":null,\"muted_glyph\":null,\"nonselection_glyph\":{\"id\":\"22551\"},\"selection_glyph\":null,\"view\":{\"id\":\"22553\"}},\"id\":\"22552\",\"type\":\"GlyphRenderer\"},{\"attributes\":{},\"id\":\"25091\",\"type\":\"UnionRenderers\"},{\"attributes\":{},\"id\":\"25147\",\"type\":\"UnionRenderers\"},{\"attributes\":{\"data_source\":{\"id\":\"22539\"},\"glyph\":{\"id\":\"22540\"},\"hover_glyph\":null,\"muted_glyph\":null,\"nonselection_glyph\":{\"id\":\"22541\"},\"selection_glyph\":null,\"view\":{\"id\":\"22543\"}},\"id\":\"22542\",\"type\":\"GlyphRenderer\"},{\"attributes\":{\"data\":{\"x\":[5.0,5.0],\"y\":[0,0.1204523954086467]},\"selected\":{\"id\":\"25026\"},\"selection_policy\":{\"id\":\"25025\"}},\"id\":\"22544\",\"type\":\"ColumnDataSource\"},{\"attributes\":{},\"id\":\"24934\",\"type\":\"BasicTickFormatter\"},{\"attributes\":{},\"id\":\"25092\",\"type\":\"Selection\"},{\"attributes\":{},\"id\":\"25148\",\"type\":\"Selection\"},{\"attributes\":{\"line_alpha\":0.1,\"line_color\":\"orange\",\"x\":{\"field\":\"x\"},\"y\":{\"field\":\"y\"}},\"id\":\"22541\",\"type\":\"Line\"},{\"attributes\":{},\"id\":\"25007\",\"type\":\"UnionRenderers\"},{\"attributes\":{},\"id\":\"25063\",\"type\":\"UnionRenderers\"},{\"attributes\":{\"source\":{\"id\":\"22539\"}},\"id\":\"22543\",\"type\":\"CDSView\"},{\"attributes\":{},\"id\":\"25119\",\"type\":\"UnionRenderers\"},{\"attributes\":{},\"id\":\"25175\",\"type\":\"UnionRenderers\"},{\"attributes\":{\"data_source\":{\"id\":\"22544\"},\"glyph\":{\"id\":\"22545\"},\"hover_glyph\":null,\"muted_glyph\":null,\"nonselection_glyph\":{\"id\":\"22546\"},\"selection_glyph\":null,\"view\":{\"id\":\"22548\"}},\"id\":\"22547\",\"type\":\"GlyphRenderer\"},{\"attributes\":{},\"id\":\"25008\",\"type\":\"Selection\"},{\"attributes\":{},\"id\":\"25064\",\"type\":\"Selection\"},{\"attributes\":{\"line_color\":\"orange\",\"x\":{\"field\":\"x\"},\"y\":{\"field\":\"y\"}},\"id\":\"22555\",\"type\":\"Line\"},{\"attributes\":{},\"id\":\"25105\",\"type\":\"UnionRenderers\"},{\"attributes\":{},\"id\":\"25120\",\"type\":\"Selection\"},{\"attributes\":{},\"id\":\"25176\",\"type\":\"Selection\"},{\"attributes\":{\"fill_alpha\":0.2,\"fill_color\":\"orange\",\"x\":{\"field\":\"x\"},\"y1\":{\"field\":\"y1\"},\"y2\":{\"field\":\"y2\"}},\"id\":\"22550\",\"type\":\"VArea\"},{\"attributes\":{},\"id\":\"25106\",\"type\":\"Selection\"},{\"attributes\":{\"line_alpha\":0.1,\"line_color\":\"orange\",\"x\":{\"field\":\"x\"},\"y\":{\"field\":\"y\"}},\"id\":\"22546\",\"type\":\"Line\"},{\"attributes\":{\"source\":{\"id\":\"22544\"}},\"id\":\"22548\",\"type\":\"CDSView\"},{\"attributes\":{},\"id\":\"25093\",\"type\":\"UnionRenderers\"},{\"attributes\":{},\"id\":\"25149\",\"type\":\"UnionRenderers\"},{\"attributes\":{\"data\":{\"x\":[4.0,5.0],\"y1\":[0,0],\"y2\":[0.1204523954086467,0.1204523954086467]},\"selected\":{\"id\":\"25028\"},\"selection_policy\":{\"id\":\"25027\"}},\"id\":\"22549\",\"type\":\"ColumnDataSource\"},{\"attributes\":{\"source\":{\"id\":\"22549\"}},\"id\":\"22553\",\"type\":\"CDSView\"},{\"attributes\":{},\"id\":\"25094\",\"type\":\"Selection\"},{\"attributes\":{},\"id\":\"25150\",\"type\":\"Selection\"},{\"attributes\":{\"fill_alpha\":0.1,\"fill_color\":\"orange\",\"x\":{\"field\":\"x\"},\"y1\":{\"field\":\"y1\"},\"y2\":{\"field\":\"y2\"}},\"id\":\"22566\",\"type\":\"VArea\"},{\"attributes\":{\"line_color\":\"orange\",\"x\":{\"field\":\"x\"},\"y\":{\"field\":\"y\"}},\"id\":\"22560\",\"type\":\"Line\"},{\"attributes\":{},\"id\":\"25009\",\"type\":\"UnionRenderers\"},{\"attributes\":{},\"id\":\"25065\",\"type\":\"UnionRenderers\"},{\"attributes\":{},\"id\":\"25121\",\"type\":\"UnionRenderers\"},{\"attributes\":{},\"id\":\"25177\",\"type\":\"UnionRenderers\"},{\"attributes\":{\"data\":{\"x\":[5.0,5.0],\"y\":[0,0.1204523954086467]},\"selected\":{\"id\":\"25030\"},\"selection_policy\":{\"id\":\"25029\"}},\"id\":\"22554\",\"type\":\"ColumnDataSource\"},{\"attributes\":{},\"id\":\"25010\",\"type\":\"Selection\"},{\"attributes\":{},\"id\":\"25066\",\"type\":\"Selection\"},{\"attributes\":{\"data_source\":{\"id\":\"22564\"},\"glyph\":{\"id\":\"22565\"},\"hover_glyph\":null,\"muted_glyph\":null,\"nonselection_glyph\":{\"id\":\"22566\"},\"selection_glyph\":null,\"view\":{\"id\":\"22568\"}},\"id\":\"22567\",\"type\":\"GlyphRenderer\"},{\"attributes\":{},\"id\":\"25107\",\"type\":\"UnionRenderers\"},{\"attributes\":{},\"id\":\"25122\",\"type\":\"Selection\"},{\"attributes\":{\"data_source\":{\"id\":\"22554\"},\"glyph\":{\"id\":\"22555\"},\"hover_glyph\":null,\"muted_glyph\":null,\"nonselection_glyph\":{\"id\":\"22556\"},\"selection_glyph\":null,\"view\":{\"id\":\"22558\"}},\"id\":\"22557\",\"type\":\"GlyphRenderer\"},{\"attributes\":{},\"id\":\"25178\",\"type\":\"Selection\"},{\"attributes\":{\"data\":{\"x\":[6.0,6.0],\"y\":[0,0.1204523954086467]},\"selected\":{\"id\":\"25032\"},\"selection_policy\":{\"id\":\"25031\"}},\"id\":\"22559\",\"type\":\"ColumnDataSource\"},{\"attributes\":{},\"id\":\"25108\",\"type\":\"Selection\"},{\"attributes\":{},\"id\":\"25169\",\"type\":\"UnionRenderers\"},{\"attributes\":{\"line_alpha\":0.1,\"line_color\":\"orange\",\"x\":{\"field\":\"x\"},\"y\":{\"field\":\"y\"}},\"id\":\"22556\",\"type\":\"Line\"},{\"attributes\":{},\"id\":\"25095\",\"type\":\"UnionRenderers\"},{\"attributes\":{},\"id\":\"25151\",\"type\":\"UnionRenderers\"},{\"attributes\":{\"source\":{\"id\":\"22554\"}},\"id\":\"22558\",\"type\":\"CDSView\"},{\"attributes\":{\"data_source\":{\"id\":\"22559\"},\"glyph\":{\"id\":\"22560\"},\"hover_glyph\":null,\"muted_glyph\":null,\"nonselection_glyph\":{\"id\":\"22561\"},\"selection_glyph\":null,\"view\":{\"id\":\"22563\"}},\"id\":\"22562\",\"type\":\"GlyphRenderer\"},{\"attributes\":{},\"id\":\"25096\",\"type\":\"Selection\"},{\"attributes\":{},\"id\":\"25152\",\"type\":\"Selection\"},{\"attributes\":{\"data_source\":{\"id\":\"22579\"},\"glyph\":{\"id\":\"22580\"},\"hover_glyph\":null,\"muted_glyph\":null,\"nonselection_glyph\":{\"id\":\"22581\"},\"selection_glyph\":null,\"view\":{\"id\":\"22583\"}},\"id\":\"22582\",\"type\":\"GlyphRenderer\"},{\"attributes\":{\"fill_alpha\":0.2,\"fill_color\":\"orange\",\"x\":{\"field\":\"x\"},\"y1\":{\"field\":\"y1\"},\"y2\":{\"field\":\"y2\"}},\"id\":\"22565\",\"type\":\"VArea\"},{\"attributes\":{\"line_alpha\":0.1,\"line_color\":\"orange\",\"x\":{\"field\":\"x\"},\"y\":{\"field\":\"y\"}},\"id\":\"22561\",\"type\":\"Line\"},{\"attributes\":{},\"id\":\"25011\",\"type\":\"UnionRenderers\"},{\"attributes\":{},\"id\":\"25067\",\"type\":\"UnionRenderers\"},{\"attributes\":{\"source\":{\"id\":\"22559\"}},\"id\":\"22563\",\"type\":\"CDSView\"},{\"attributes\":{},\"id\":\"25109\",\"type\":\"UnionRenderers\"},{\"attributes\":{},\"id\":\"25123\",\"type\":\"UnionRenderers\"},{\"attributes\":{\"data\":{\"x\":[5.0,6.0],\"y1\":[0,0],\"y2\":[0.1204523954086467,0.1204523954086467]},\"selected\":{\"id\":\"25034\"},\"selection_policy\":{\"id\":\"25033\"}},\"id\":\"22564\",\"type\":\"ColumnDataSource\"},{\"attributes\":{},\"id\":\"25012\",\"type\":\"Selection\"},{\"attributes\":{},\"id\":\"25068\",\"type\":\"Selection\"},{\"attributes\":{\"source\":{\"id\":\"22564\"}},\"id\":\"22568\",\"type\":\"CDSView\"},{\"attributes\":{},\"id\":\"25110\",\"type\":\"Selection\"},{\"attributes\":{},\"id\":\"25124\",\"type\":\"Selection\"},{\"attributes\":{\"data_source\":{\"id\":\"22569\"},\"glyph\":{\"id\":\"22570\"},\"hover_glyph\":null,\"muted_glyph\":null,\"nonselection_glyph\":{\"id\":\"22571\"},\"selection_glyph\":null,\"view\":{\"id\":\"22573\"}},\"id\":\"22572\",\"type\":\"GlyphRenderer\"},{\"attributes\":{},\"id\":\"25180\",\"type\":\"Selection\"},{\"attributes\":{\"line_alpha\":0.1,\"line_color\":\"orange\",\"x\":{\"field\":\"x\"},\"y\":{\"field\":\"y\"}},\"id\":\"22571\",\"type\":\"Line\"},{\"attributes\":{\"data\":{\"x\":[6.0,6.0],\"y\":[0,0.1204523954086467]},\"selected\":{\"id\":\"25036\"},\"selection_policy\":{\"id\":\"25035\"}},\"id\":\"22569\",\"type\":\"ColumnDataSource\"},{\"attributes\":{},\"id\":\"25097\",\"type\":\"UnionRenderers\"},{\"attributes\":{},\"id\":\"25153\",\"type\":\"UnionRenderers\"},{\"attributes\":{\"line_color\":\"orange\",\"x\":{\"field\":\"x\"},\"y\":{\"field\":\"y\"}},\"id\":\"22570\",\"type\":\"Line\"},{\"attributes\":{},\"id\":\"25210\",\"type\":\"Selection\"},{\"attributes\":{},\"id\":\"25125\",\"type\":\"UnionRenderers\"},{\"attributes\":{},\"id\":\"25181\",\"type\":\"UnionRenderers\"},{\"attributes\":{},\"id\":\"22282\",\"type\":\"DataRange1d\"},{\"attributes\":{},\"id\":\"25126\",\"type\":\"Selection\"},{\"attributes\":{},\"id\":\"25182\",\"type\":\"Selection\"},{\"attributes\":{},\"id\":\"25211\",\"type\":\"UnionRenderers\"},{\"attributes\":{},\"id\":\"25212\",\"type\":\"Selection\"},{\"attributes\":{},\"id\":\"25127\",\"type\":\"UnionRenderers\"},{\"attributes\":{},\"id\":\"25183\",\"type\":\"UnionRenderers\"},{\"attributes\":{},\"id\":\"25027\",\"type\":\"UnionRenderers\"},{\"attributes\":{},\"id\":\"25128\",\"type\":\"Selection\"},{\"attributes\":{},\"id\":\"25184\",\"type\":\"Selection\"},{\"attributes\":{},\"id\":\"25213\",\"type\":\"UnionRenderers\"},{\"attributes\":{},\"id\":\"25214\",\"type\":\"Selection\"},{\"attributes\":{},\"id\":\"25129\",\"type\":\"UnionRenderers\"},{\"attributes\":{},\"id\":\"25185\",\"type\":\"UnionRenderers\"},{\"attributes\":{\"text\":\"mutations = 2\"},\"id\":\"22280\",\"type\":\"Title\"},{\"attributes\":{},\"id\":\"25130\",\"type\":\"Selection\"},{\"attributes\":{},\"id\":\"25186\",\"type\":\"Selection\"},{\"attributes\":{},\"id\":\"22286\",\"type\":\"LinearScale\"},{\"attributes\":{},\"id\":\"25131\",\"type\":\"UnionRenderers\"},{\"attributes\":{},\"id\":\"25187\",\"type\":\"UnionRenderers\"},{\"attributes\":{},\"id\":\"25132\",\"type\":\"Selection\"},{\"attributes\":{},\"id\":\"25188\",\"type\":\"Selection\"},{\"attributes\":{},\"id\":\"22288\",\"type\":\"LinearScale\"},{\"attributes\":{},\"id\":\"25133\",\"type\":\"UnionRenderers\"},{\"attributes\":{},\"id\":\"25189\",\"type\":\"UnionRenderers\"},{\"attributes\":{},\"id\":\"25134\",\"type\":\"Selection\"},{\"attributes\":{},\"id\":\"25190\",\"type\":\"Selection\"},{\"attributes\":{},\"id\":\"25041\",\"type\":\"UnionRenderers\"},{\"attributes\":{},\"id\":\"22284\",\"type\":\"DataRange1d\"},{\"attributes\":{},\"id\":\"25135\",\"type\":\"UnionRenderers\"},{\"attributes\":{},\"id\":\"25191\",\"type\":\"UnionRenderers\"},{\"attributes\":{},\"id\":\"25136\",\"type\":\"Selection\"},{\"attributes\":{},\"id\":\"25192\",\"type\":\"Selection\"},{\"attributes\":{},\"id\":\"25137\",\"type\":\"UnionRenderers\"},{\"attributes\":{},\"id\":\"25193\",\"type\":\"UnionRenderers\"},{\"attributes\":{},\"id\":\"25138\",\"type\":\"Selection\"},{\"attributes\":{},\"id\":\"25194\",\"type\":\"Selection\"},{\"attributes\":{\"background_fill_color\":\"#fafafa\",\"below\":[{\"id\":\"22290\"}],\"center\":[{\"id\":\"22293\"},{\"id\":\"22297\"}],\"frame_height\":200,\"frame_width\":200,\"left\":[{\"id\":\"22294\"}],\"renderers\":[{\"id\":\"22302\"},{\"id\":\"22307\"},{\"id\":\"22312\"},{\"id\":\"22317\"},{\"id\":\"22322\"},{\"id\":\"22327\"},{\"id\":\"22332\"},{\"id\":\"22337\"},{\"id\":\"22342\"},{\"id\":\"22347\"},{\"id\":\"22352\"},{\"id\":\"22357\"},{\"id\":\"22362\"},{\"id\":\"22367\"},{\"id\":\"22372\"},{\"id\":\"22377\"},{\"id\":\"22382\"},{\"id\":\"22387\"},{\"id\":\"22392\"},{\"id\":\"22397\"},{\"id\":\"22402\"},{\"id\":\"22407\"},{\"id\":\"22412\"},{\"id\":\"22417\"},{\"id\":\"22422\"},{\"id\":\"22427\"},{\"id\":\"22432\"},{\"id\":\"22437\"}],\"title\":{\"id\":\"22280\"},\"toolbar\":{\"id\":\"22298\"},\"x_range\":{\"id\":\"22282\"},\"x_scale\":{\"id\":\"22286\"},\"y_range\":{\"id\":\"22284\"},\"y_scale\":{\"id\":\"22288\"}},\"id\":\"22279\",\"subtype\":\"Figure\",\"type\":\"Plot\"},{\"attributes\":{},\"id\":\"25139\",\"type\":\"UnionRenderers\"},{\"attributes\":{},\"id\":\"25195\",\"type\":\"UnionRenderers\"},{\"attributes\":{},\"id\":\"22291\",\"type\":\"BasicTicker\"},{\"attributes\":{\"fill_alpha\":0.1,\"fill_color\":\"orange\",\"x\":{\"field\":\"x\"},\"y1\":{\"field\":\"y1\"},\"y2\":{\"field\":\"y2\"}},\"id\":\"22436\",\"type\":\"VArea\"},{\"attributes\":{},\"id\":\"22295\",\"type\":\"BasicTicker\"},{\"attributes\":{\"line_color\":\"orange\",\"x\":{\"field\":\"x\"},\"y\":{\"field\":\"y\"}},\"id\":\"22430\",\"type\":\"Line\"},{\"attributes\":{},\"id\":\"25196\",\"type\":\"Selection\"},{\"attributes\":{\"axis_label\":\"\\u0394E [k_BT]\",\"formatter\":{\"id\":\"24918\"},\"ticker\":{\"id\":\"22291\"}},\"id\":\"22290\",\"type\":\"LinearAxis\"},{\"attributes\":{\"data\":{\"x\":[8.0,8.0],\"y\":[0,0.18390112513315407]},\"selected\":{\"id\":\"24988\"},\"selection_policy\":{\"id\":\"24987\"}},\"id\":\"22429\",\"type\":\"ColumnDataSource\"},{\"attributes\":{\"axis_label\":\"density\",\"formatter\":{\"id\":\"24916\"},\"ticker\":{\"id\":\"22295\"}},\"id\":\"22294\",\"type\":\"LinearAxis\"},{\"attributes\":{\"axis\":{\"id\":\"22290\"},\"ticker\":null},\"id\":\"22293\",\"type\":\"Grid\"},{\"attributes\":{\"line_alpha\":0.1,\"line_color\":\"orange\",\"x\":{\"field\":\"x\"},\"y\":{\"field\":\"y\"}},\"id\":\"22426\",\"type\":\"Line\"},{\"attributes\":{\"source\":{\"id\":\"22424\"}},\"id\":\"22428\",\"type\":\"CDSView\"},{\"attributes\":{\"data_source\":{\"id\":\"22429\"},\"glyph\":{\"id\":\"22430\"},\"hover_glyph\":null,\"muted_glyph\":null,\"nonselection_glyph\":{\"id\":\"22431\"},\"selection_glyph\":null,\"view\":{\"id\":\"22433\"}},\"id\":\"22432\",\"type\":\"GlyphRenderer\"},{\"attributes\":{},\"id\":\"22451\",\"type\":\"BasicTicker\"},{\"attributes\":{\"axis\":{\"id\":\"22294\"},\"dimension\":1,\"ticker\":null},\"id\":\"22297\",\"type\":\"Grid\"},{\"attributes\":{\"fill_alpha\":0.2,\"fill_color\":\"orange\",\"x\":{\"field\":\"x\"},\"y1\":{\"field\":\"y1\"},\"y2\":{\"field\":\"y2\"}},\"id\":\"22435\",\"type\":\"VArea\"},{\"attributes\":{\"active_drag\":\"auto\",\"active_inspect\":\"auto\",\"active_multi\":null,\"active_scroll\":\"auto\",\"active_tap\":\"auto\"},\"id\":\"22298\",\"type\":\"Toolbar\"},{\"attributes\":{\"line_alpha\":0.1,\"line_color\":\"orange\",\"x\":{\"field\":\"x\"},\"y\":{\"field\":\"y\"}},\"id\":\"22431\",\"type\":\"Line\"},{\"attributes\":{\"bottom\":{\"value\":0},\"fill_alpha\":{\"value\":0.1},\"fill_color\":{\"value\":\"navy\"},\"left\":{\"field\":\"left\"},\"line_alpha\":{\"value\":0.1},\"line_color\":{\"value\":\"white\"},\"right\":{\"field\":\"right\"},\"top\":{\"field\":\"top\"}},\"id\":\"22301\",\"type\":\"Quad\"},{\"attributes\":{\"source\":{\"id\":\"22429\"}},\"id\":\"22433\",\"type\":\"CDSView\"},{\"attributes\":{\"line_color\":\"orange\",\"x\":{\"field\":\"x\"},\"y\":{\"field\":\"y\"}},\"id\":\"22335\",\"type\":\"Line\"},{\"attributes\":{\"data\":{\"x\":[7.0,8.0],\"y1\":[0,0],\"y2\":[0.18390112513315407,0.18390112513315407]},\"selected\":{\"id\":\"24990\"},\"selection_policy\":{\"id\":\"24989\"}},\"id\":\"22434\",\"type\":\"ColumnDataSource\"},{\"attributes\":{},\"id\":\"25197\",\"type\":\"UnionRenderers\"},{\"attributes\":{\"data_source\":{\"id\":\"22334\"},\"glyph\":{\"id\":\"22335\"},\"hover_glyph\":null,\"muted_glyph\":null,\"nonselection_glyph\":{\"id\":\"22336\"},\"selection_glyph\":null,\"view\":{\"id\":\"22338\"}},\"id\":\"22337\",\"type\":\"GlyphRenderer\"},{\"attributes\":{\"source\":{\"id\":\"22434\"}},\"id\":\"22438\",\"type\":\"CDSView\"},{\"attributes\":{},\"id\":\"22442\",\"type\":\"DataRange1d\"},{\"attributes\":{\"line_color\":\"orange\",\"x\":{\"field\":\"x\"},\"y\":{\"field\":\"y\"}},\"id\":\"22340\",\"type\":\"Line\"},{\"attributes\":{},\"id\":\"25198\",\"type\":\"Selection\"},{\"attributes\":{},\"id\":\"22444\",\"type\":\"DataRange1d\"},{\"attributes\":{\"source\":{\"id\":\"22324\"}},\"id\":\"22328\",\"type\":\"CDSView\"},{\"attributes\":{\"axis_label\":\"density\",\"formatter\":{\"id\":\"24920\"},\"ticker\":{\"id\":\"22455\"}},\"id\":\"22454\",\"type\":\"LinearAxis\"},{\"attributes\":{\"source\":{\"id\":\"22329\"}},\"id\":\"22333\",\"type\":\"CDSView\"},{\"attributes\":{\"data_source\":{\"id\":\"22344\"},\"glyph\":{\"id\":\"22345\"},\"hover_glyph\":null,\"muted_glyph\":null,\"nonselection_glyph\":{\"id\":\"22346\"},\"selection_glyph\":null,\"view\":{\"id\":\"22348\"}},\"id\":\"22347\",\"type\":\"GlyphRenderer\"},{\"attributes\":{\"bottom\":{\"value\":0},\"fill_alpha\":{\"value\":0.1},\"fill_color\":{\"value\":\"navy\"},\"left\":{\"field\":\"left\"},\"line_alpha\":{\"value\":0.1},\"line_color\":{\"value\":\"white\"},\"right\":{\"field\":\"right\"},\"top\":{\"field\":\"top\"}},\"id\":\"22461\",\"type\":\"Quad\"},{\"attributes\":{},\"id\":\"25173\",\"type\":\"UnionRenderers\"},{\"attributes\":{\"fill_alpha\":0.1,\"fill_color\":\"orange\",\"x\":{\"field\":\"x\"},\"y1\":{\"field\":\"y1\"},\"y2\":{\"field\":\"y2\"}},\"id\":\"22346\",\"type\":\"VArea\"},{\"attributes\":{\"text\":\"mutations = 3\"},\"id\":\"22440\",\"type\":\"Title\"},{\"attributes\":{\"data\":{\"x\":[1.0,1.0],\"y\":[0,0.18390112513315407]},\"selected\":{\"id\":\"24950\"},\"selection_policy\":{\"id\":\"24949\"}},\"id\":\"22334\",\"type\":\"ColumnDataSource\"},{\"attributes\":{\"axis_label\":\"\\u0394E [k_BT]\",\"formatter\":{\"id\":\"24922\"},\"ticker\":{\"id\":\"22451\"}},\"id\":\"22450\",\"type\":\"LinearAxis\"},{\"attributes\":{},\"id\":\"22446\",\"type\":\"LinearScale\"},{\"attributes\":{\"line_alpha\":0.1,\"line_color\":\"orange\",\"x\":{\"field\":\"x\"},\"y\":{\"field\":\"y\"}},\"id\":\"22326\",\"type\":\"Line\"},{\"attributes\":{\"fill_alpha\":0.2,\"fill_color\":\"orange\",\"x\":{\"field\":\"x\"},\"y1\":{\"field\":\"y1\"},\"y2\":{\"field\":\"y2\"}},\"id\":\"22330\",\"type\":\"VArea\"},{\"attributes\":{},\"id\":\"22455\",\"type\":\"BasicTicker\"},{\"attributes\":{},\"id\":\"22448\",\"type\":\"LinearScale\"},{\"attributes\":{\"fill_alpha\":0.1,\"fill_color\":\"orange\",\"x\":{\"field\":\"x\"},\"y1\":{\"field\":\"y1\"},\"y2\":{\"field\":\"y2\"}},\"id\":\"22331\",\"type\":\"VArea\"},{\"attributes\":{},\"id\":\"25199\",\"type\":\"UnionRenderers\"},{\"attributes\":{\"axis\":{\"id\":\"22450\"},\"ticker\":null},\"id\":\"22453\",\"type\":\"Grid\"},{\"attributes\":{},\"id\":\"25200\",\"type\":\"Selection\"},{\"attributes\":{\"data\":{\"x\":[2.0,2.0],\"y\":[0,0.18390112513315407]},\"selected\":{\"id\":\"24952\"},\"selection_policy\":{\"id\":\"24951\"}},\"id\":\"22339\",\"type\":\"ColumnDataSource\"},{\"attributes\":{\"axis\":{\"id\":\"22454\"},\"dimension\":1,\"ticker\":null},\"id\":\"22457\",\"type\":\"Grid\"},{\"attributes\":{\"data\":{\"left\":{\"__ndarray__\":\"WpNVrkO38r8QUO0NL1Hsv2x5L7/WM+O/kEXj4Pws1L+AhHk2xCSfvwAVFFpkSNA/JOHHe4pB4T/It4XK4l7qPzbHoYwdvvE/iLIAtMlM9j/anV/bddv6PyyJvgIiav8/P7oOFWf8AUDoL74ovUMEQJGlbTwTiwZAOxsdUGnSCEDjkMxjvxkLQIsGfHcVYQ1ANXwri2uoD0DweG3P4PcQQMQzRdmLGxJAmO4c4zY/E0BsqfTs4WIUQEJkzPaMhhVAFh+kADiqFkDq2XsK480XQL6UUxSO8RhAlE8rHjkVGkBoCgMo5DgbQDzF2jGPXBxAEoCyOzqAHUDmOopF5aMeQLr1YU+Qxx9AR9icrJ11IECxtYgxcwchQByTdLZImSFAhnBgOx4rIkDwTUzA87wiQFsrOEXJTiNAxQgkyp7gI0Av5g9PdHIkQJnD+9NJBCVAA6HnWB+WJUBuftPd9CcmQNhbv2LKuSZAQjmr559LJ0CtFpdsdd0nQBf0gvFKbyhAgdFudiABKUDrrlr79ZIpQA==\",\"dtype\":\"float64\",\"shape\":[50]},\"right\":{\"__ndarray__\":\"EFDtDS9R7L9seS+/1jPjv5BF4+D8LNS/gIR5NsQkn78AFRRaZEjQPyThx3uKQeE/yLeFyuJe6j82x6GMHb7xP4iyALTJTPY/2p1f23Xb+j8sib4CImr/Pz+6DhVn/AFA6C++KL1DBECRpW08E4sGQDsbHVBp0ghA45DMY78ZC0CLBnx3FWENQDV8K4trqA9A8Hhtz+D3EEDEM0XZixsSQJjuHOM2PxNAbKn07OFiFEBCZMz2jIYVQBYfpAA4qhZA6tl7CuPNF0C+lFMUjvEYQJRPKx45FRpAaAoDKOQ4G0A8xdoxj1wcQBKAsjs6gB1A5jqKReWjHkC69WFPkMcfQEfYnKyddSBAsbWIMXMHIUAck3S2SJkhQIZwYDseKyJA8E1MwPO8IkBbKzhFyU4jQMUIJMqe4CNAL+YPT3RyJECZw/vTSQQlQAOh51gfliVAbn7T3fQnJkDYW79iyrkmQEI5q+efSydArRaXbHXdJ0AX9ILxSm8oQIHRbnYgASlA665a+/WSKUBWjEaAyyQqQA==\",\"dtype\":\"float64\",\"shape\":[50]},\"top\":{\"__ndarray__\":\"GleinY0Fgz9TNSm9dtOGP8TxNvxIb44/xPE2/Ehvjj8aV6KdjQWjP3Aw/cUeK7A//aFWUT9mtT/iMpPBSn+zP3DqdAnFcrQ/qMj7KK5AuD8beuZ7uuHAP3Aw/cUeK8A/jJ/AVRMSwj/9fhJzEorHP/bEmi9sQsM/sQ6E5Qf5wz97XmSQEQK9P0SpGETDYr8/CleinY0Fwz/R8Tb8SG++P3gNuefxTsI/Inrme7rhwD8+nvVX/WfAP1/voAAdG7s/JREa4TNNtz/tpoJIlw68P5ExyMM01cE/z31HdfzftT/tpoJIlw68P44OhOUH+bM/eqTsTGu6uD9DOlW0znutP3qk7Exruqg/QzpVtM57rT81NSm9dtOmPz/GZS2C7KQ/I1einY0Fkz81NSm9dtOWP3cw/cUeK6A/P8ZlLYLslD/R8Tb8SG9+Pwbo3g2ZHpE/nPE2/Ehvjj/R8Tb8SG9+P101Kb1203Y/nPE2/Ehvfj9dNSm9dtN2PwAAAAAAAAAA0fE2/EhvXj81NSm9dtN2Pw==\",\"dtype\":\"float64\",\"shape\":[50]}},\"selected\":{\"id\":\"24936\"},\"selection_policy\":{\"id\":\"24935\"}},\"id\":\"22299\",\"type\":\"ColumnDataSource\"},{\"attributes\":{\"background_fill_color\":\"#fafafa\",\"below\":[{\"id\":\"22610\"}],\"center\":[{\"id\":\"22613\"},{\"id\":\"22617\"}],\"frame_height\":200,\"frame_width\":200,\"left\":[{\"id\":\"22614\"}],\"renderers\":[{\"id\":\"22622\"},{\"id\":\"22627\"},{\"id\":\"22632\"},{\"id\":\"22637\"},{\"id\":\"22642\"},{\"id\":\"22647\"},{\"id\":\"22652\"},{\"id\":\"22657\"},{\"id\":\"22662\"},{\"id\":\"22667\"},{\"id\":\"22672\"},{\"id\":\"22677\"},{\"id\":\"22682\"},{\"id\":\"22687\"},{\"id\":\"22692\"},{\"id\":\"22697\"},{\"id\":\"22702\"},{\"id\":\"22707\"},{\"id\":\"22712\"},{\"id\":\"22717\"},{\"id\":\"22722\"},{\"id\":\"22727\"},{\"id\":\"22732\"},{\"id\":\"22737\"},{\"id\":\"22742\"},{\"id\":\"22747\"},{\"id\":\"22752\"},{\"id\":\"22757\"}],\"title\":{\"id\":\"22600\"},\"toolbar\":{\"id\":\"22618\"},\"x_range\":{\"id\":\"22602\"},\"x_scale\":{\"id\":\"22606\"},\"y_range\":{\"id\":\"22604\"},\"y_scale\":{\"id\":\"22608\"}},\"id\":\"22599\",\"subtype\":\"Figure\",\"type\":\"Plot\"},{\"attributes\":{\"source\":{\"id\":\"22349\"}},\"id\":\"22353\",\"type\":\"CDSView\"},{\"attributes\":{\"active_drag\":\"auto\",\"active_inspect\":\"auto\",\"active_multi\":null,\"active_scroll\":\"auto\",\"active_tap\":\"auto\"},\"id\":\"22458\",\"type\":\"Toolbar\"},{\"attributes\":{\"background_fill_color\":\"#fafafa\",\"below\":[{\"id\":\"22450\"}],\"center\":[{\"id\":\"22453\"},{\"id\":\"22457\"}],\"frame_height\":200,\"frame_width\":200,\"left\":[{\"id\":\"22454\"}],\"renderers\":[{\"id\":\"22462\"},{\"id\":\"22467\"},{\"id\":\"22472\"},{\"id\":\"22477\"},{\"id\":\"22482\"},{\"id\":\"22487\"},{\"id\":\"22492\"},{\"id\":\"22497\"},{\"id\":\"22502\"},{\"id\":\"22507\"},{\"id\":\"22512\"},{\"id\":\"22517\"},{\"id\":\"22522\"},{\"id\":\"22527\"},{\"id\":\"22532\"},{\"id\":\"22537\"},{\"id\":\"22542\"},{\"id\":\"22547\"},{\"id\":\"22552\"},{\"id\":\"22557\"},{\"id\":\"22562\"},{\"id\":\"22567\"},{\"id\":\"22572\"},{\"id\":\"22577\"},{\"id\":\"22582\"},{\"id\":\"22587\"},{\"id\":\"22592\"},{\"id\":\"22597\"}],\"title\":{\"id\":\"22440\"},\"toolbar\":{\"id\":\"22458\"},\"x_range\":{\"id\":\"22442\"},\"x_scale\":{\"id\":\"22446\"},\"y_range\":{\"id\":\"22444\"},\"y_scale\":{\"id\":\"22448\"}},\"id\":\"22439\",\"subtype\":\"Figure\",\"type\":\"Plot\"},{\"attributes\":{\"data_source\":{\"id\":\"22304\"},\"glyph\":{\"id\":\"22305\"},\"hover_glyph\":null,\"muted_glyph\":null,\"nonselection_glyph\":{\"id\":\"22306\"},\"selection_glyph\":null,\"view\":{\"id\":\"22308\"}},\"id\":\"22307\",\"type\":\"GlyphRenderer\"},{\"attributes\":{\"line_color\":\"orange\",\"x\":{\"field\":\"x\"},\"y\":{\"field\":\"y\"}},\"id\":\"22500\",\"type\":\"Line\"},{\"attributes\":{\"source\":{\"id\":\"22299\"}},\"id\":\"22303\",\"type\":\"CDSView\"},{\"attributes\":{\"line_alpha\":0.1,\"line_color\":\"orange\",\"x\":{\"field\":\"x\"},\"y\":{\"field\":\"y\"}},\"id\":\"22501\",\"type\":\"Line\"},{\"attributes\":{\"data_source\":{\"id\":\"22299\"},\"glyph\":{\"id\":\"22300\"},\"hover_glyph\":null,\"muted_glyph\":null,\"nonselection_glyph\":{\"id\":\"22301\"},\"selection_glyph\":null,\"view\":{\"id\":\"22303\"}},\"id\":\"22302\",\"type\":\"GlyphRenderer\"},{\"attributes\":{},\"id\":\"25201\",\"type\":\"UnionRenderers\"},{\"attributes\":{\"data_source\":{\"id\":\"22314\"},\"glyph\":{\"id\":\"22315\"},\"hover_glyph\":null,\"muted_glyph\":null,\"nonselection_glyph\":{\"id\":\"22316\"},\"selection_glyph\":null,\"view\":{\"id\":\"22318\"}},\"id\":\"22317\",\"type\":\"GlyphRenderer\"},{\"attributes\":{\"data_source\":{\"id\":\"22494\"},\"glyph\":{\"id\":\"22495\"},\"hover_glyph\":null,\"muted_glyph\":null,\"nonselection_glyph\":{\"id\":\"22496\"},\"selection_glyph\":null,\"view\":{\"id\":\"22498\"}},\"id\":\"22497\",\"type\":\"GlyphRenderer\"},{\"attributes\":{\"line_color\":\"orange\",\"x\":{\"field\":\"x\"},\"y\":{\"field\":\"y\"}},\"id\":\"22495\",\"type\":\"Line\"},{\"attributes\":{},\"id\":\"25202\",\"type\":\"Selection\"},{\"attributes\":{\"data\":{\"x\":[-1.0,-1.0],\"y\":[0,0.18390112513315407]},\"selected\":{\"id\":\"24938\"},\"selection_policy\":{\"id\":\"24937\"}},\"id\":\"22304\",\"type\":\"ColumnDataSource\"},{\"attributes\":{\"data\":{\"x\":[2.0,2.0],\"y\":[0,0.1204523954086467]},\"selected\":{\"id\":\"25008\"},\"selection_policy\":{\"id\":\"25007\"}},\"id\":\"22499\",\"type\":\"ColumnDataSource\"},{\"attributes\":{\"line_color\":\"orange\",\"x\":{\"field\":\"x\"},\"y\":{\"field\":\"y\"}},\"id\":\"22305\",\"type\":\"Line\"},{\"attributes\":{\"line_alpha\":0.1,\"line_color\":\"orange\",\"x\":{\"field\":\"x\"},\"y\":{\"field\":\"y\"}},\"id\":\"22496\",\"type\":\"Line\"},{\"attributes\":{\"fill_alpha\":0.1,\"fill_color\":\"orange\",\"x\":{\"field\":\"x\"},\"y1\":{\"field\":\"y1\"},\"y2\":{\"field\":\"y2\"}},\"id\":\"22316\",\"type\":\"VArea\"},{\"attributes\":{\"data\":{\"x\":[1.0,1.0],\"y\":[0,0.1204523954086467]},\"selected\":{\"id\":\"25006\"},\"selection_policy\":{\"id\":\"25005\"}},\"id\":\"22494\",\"type\":\"ColumnDataSource\"},{\"attributes\":{\"line_color\":\"orange\",\"x\":{\"field\":\"x\"},\"y\":{\"field\":\"y\"}},\"id\":\"22310\",\"type\":\"Line\"},{\"attributes\":{\"source\":{\"id\":\"22494\"}},\"id\":\"22498\",\"type\":\"CDSView\"},{\"attributes\":{\"data\":{\"x\":[0.0,0.0],\"y\":[0,0.18390112513315407]},\"selected\":{\"id\":\"24940\"},\"selection_policy\":{\"id\":\"24939\"}},\"id\":\"22309\",\"type\":\"ColumnDataSource\"},{\"attributes\":{\"source\":{\"id\":\"22489\"}},\"id\":\"22493\",\"type\":\"CDSView\"},{\"attributes\":{\"fill_alpha\":0.1,\"fill_color\":\"orange\",\"x\":{\"field\":\"x\"},\"y1\":{\"field\":\"y1\"},\"y2\":{\"field\":\"y2\"}},\"id\":\"22491\",\"type\":\"VArea\"},{\"attributes\":{\"line_alpha\":0.1,\"line_color\":\"orange\",\"x\":{\"field\":\"x\"},\"y\":{\"field\":\"y\"}},\"id\":\"22306\",\"type\":\"Line\"},{\"attributes\":{\"data_source\":{\"id\":\"22504\"},\"glyph\":{\"id\":\"22505\"},\"hover_glyph\":null,\"muted_glyph\":null,\"nonselection_glyph\":{\"id\":\"22506\"},\"selection_glyph\":null,\"view\":{\"id\":\"22508\"}},\"id\":\"22507\",\"type\":\"GlyphRenderer\"},{\"attributes\":{\"source\":{\"id\":\"22304\"}},\"id\":\"22308\",\"type\":\"CDSView\"},{\"attributes\":{\"data_source\":{\"id\":\"22309\"},\"glyph\":{\"id\":\"22310\"},\"hover_glyph\":null,\"muted_glyph\":null,\"nonselection_glyph\":{\"id\":\"22311\"},\"selection_glyph\":null,\"view\":{\"id\":\"22313\"}},\"id\":\"22312\",\"type\":\"GlyphRenderer\"},{\"attributes\":{\"bottom\":{\"value\":0},\"fill_alpha\":{\"value\":0.5},\"fill_color\":{\"value\":\"navy\"},\"left\":{\"field\":\"left\"},\"line_alpha\":{\"value\":0.5},\"line_color\":{\"value\":\"white\"},\"right\":{\"field\":\"right\"},\"top\":{\"field\":\"top\"}},\"id\":\"22460\",\"type\":\"Quad\"},{\"attributes\":{\"data_source\":{\"id\":\"22324\"},\"glyph\":{\"id\":\"22325\"},\"hover_glyph\":null,\"muted_glyph\":null,\"nonselection_glyph\":{\"id\":\"22326\"},\"selection_glyph\":null,\"view\":{\"id\":\"22328\"}},\"id\":\"22327\",\"type\":\"GlyphRenderer\"},{\"attributes\":{\"data_source\":{\"id\":\"22499\"},\"glyph\":{\"id\":\"22500\"},\"hover_glyph\":null,\"muted_glyph\":null,\"nonselection_glyph\":{\"id\":\"22501\"},\"selection_glyph\":null,\"view\":{\"id\":\"22503\"}},\"id\":\"22502\",\"type\":\"GlyphRenderer\"},{\"attributes\":{\"line_color\":\"orange\",\"x\":{\"field\":\"x\"},\"y\":{\"field\":\"y\"}},\"id\":\"22320\",\"type\":\"Line\"},{\"attributes\":{\"data\":{\"left\":{\"__ndarray__\":\"hqzqvPj48b9sS6PUpRDnv5h74l60XtS/oH4GrouPtT/ouuU1eibfPxTrJMCIdOw/WnyrMuqq9D8qg0QFkBv7P/3E7usaxgBAZUg71W3+A0DNy4e+wDYHQDVP1KcTbwpAndIgkWanDUACqza93G8QQLbs3DEGDBJAai6Dpi+oE0AecCkbWUQVQNKxz4+C4BZAhvN1BKx8GEA6NRx51RgaQO52wu3+tBtAorhoYihRHUBW+g7XUe0eQAWe2qW9RCBA374tYNISIUC534Aa5+AhQJMA1NT7riJAbSEnjxB9I0BHQnpJJUskQCFjzQM6GSVA+4Mgvk7nJUDVpHN4Y7UmQK/FxjJ4gydAieYZ7YxRKEBjB22noR8pQD0owGG27SlAF0kTHMu7KkDxaWbW34krQMuKuZD0VyxApasMSwkmLUB/zF8FHvQtQFntsr8ywi5AMw4GekeQL0CHlywaLi8wQPQnVnc4ljBAYbh/1EL9MEDOSKkxTWQxQDvZ0o5XyzFAqGn862EyMkAV+iVJbJkyQA==\",\"dtype\":\"float64\",\"shape\":[50]},\"right\":{\"__ndarray__\":\"bEuj1KUQ57+Ye+JetF7Uv6B+Bq6Lj7U/6LrlNXom3z8U6yTAiHTsP1p8qzLqqvQ/KoNEBZAb+z/9xO7rGsYAQGVIO9Vt/gNAzcuHvsA2B0A1T9SnE28KQJ3SIJFmpw1AAqs2vdxvEEC27NwxBgwSQGoug6YvqBNAHnApG1lEFUDSsc+PguAWQIbzdQSsfBhAOjUcedUYGkDudsLt/rQbQKK4aGIoUR1AVvoO11HtHkAFntqlvUQgQN++LWDSEiFAud+AGufgIUCTANTU+64iQG0hJ48QfSNAR0J6SSVLJEAhY80DOhklQPuDIL5O5yVA1aRzeGO1JkCvxcYyeIMnQInmGe2MUShAYwdtp6EfKUA9KMBhtu0pQBdJExzLuypA8Wlm1t+JK0DLirmQ9FcsQKWrDEsJJi1Af8xfBR70LUBZ7bK/MsIuQDMOBnpHkC9Ah5csGi4vMED0J1Z3OJYwQGG4f9RC/TBAzkipMU1kMUA72dKOV8sxQKhp/OthMjJAFfolSWyZMkCCik+mdgAzQA==\",\"dtype\":\"float64\",\"shape\":[50]},\"top\":{\"__ndarray__\":\"VVsP0SlFUz//CJe5vudsP+Sfjf8U0nU/ekTlFoZrgj8MqVbonfySP5at7tAvgZk/D8lJi8oAoT9Qf4cfVv2mPyLSeVzuCa4/6HsVsegZsj8IXUiI4La1P0+3yvZKfLc/wyxSdVRIuD/c1UF1V2a7P5GZI0hnurw//ngdaKjlvT+RQe3NRTe+P/+kOCU5J70/bLZhD70yvj+PRwHb99W+P9pXBEtXQL4/Rl0FG3cOvj+3ujxluF+8P94teO946bk/umqpWftluT9Qf4cfVv22P8LKgkKBcrM/Dp0uzjm/sT9q9LjzY1CvP5at7tAvgak/vJbEFoynqD/BAsYZdvGjP8feTctJOaA/to4hqCcenT8HaXCiRPSWP59l/jPXEJI/szbrLQabjj++tre5uKuGPw/JSYvKAIE/JfJs/xoOfD8PyUmLygBxPzWyH9EmJ3A/8IhjRXH4ZD8PyUmLygBRP+F/mlzozVc/SttCRXc0Sz8FSX3/F/BIP0rbQkV3NCs/MZIsLvoiIj8xkiwu+iIyPw==\",\"dtype\":\"float64\",\"shape\":[50]}},\"selected\":{\"id\":\"24992\"},\"selection_policy\":{\"id\":\"24991\"}},\"id\":\"22459\",\"type\":\"ColumnDataSource\"},{\"attributes\":{},\"id\":\"25203\",\"type\":\"UnionRenderers\"},{\"attributes\":{\"data_source\":{\"id\":\"22464\"},\"glyph\":{\"id\":\"22465\"},\"hover_glyph\":null,\"muted_glyph\":null,\"nonselection_glyph\":{\"id\":\"22466\"},\"selection_glyph\":null,\"view\":{\"id\":\"22468\"}},\"id\":\"22467\",\"type\":\"GlyphRenderer\"},{\"attributes\":{\"fill_alpha\":0.2,\"fill_color\":\"orange\",\"x\":{\"field\":\"x\"},\"y1\":{\"field\":\"y1\"},\"y2\":{\"field\":\"y2\"}},\"id\":\"22315\",\"type\":\"VArea\"},{\"attributes\":{},\"id\":\"25204\",\"type\":\"Selection\"},{\"attributes\":{\"line_alpha\":0.1,\"line_color\":\"orange\",\"x\":{\"field\":\"x\"},\"y\":{\"field\":\"y\"}},\"id\":\"22311\",\"type\":\"Line\"},{\"attributes\":{\"source\":{\"id\":\"22459\"}},\"id\":\"22463\",\"type\":\"CDSView\"},{\"attributes\":{\"data_source\":{\"id\":\"22459\"},\"glyph\":{\"id\":\"22460\"},\"hover_glyph\":null,\"muted_glyph\":null,\"nonselection_glyph\":{\"id\":\"22461\"},\"selection_glyph\":null,\"view\":{\"id\":\"22463\"}},\"id\":\"22462\",\"type\":\"GlyphRenderer\"},{\"attributes\":{\"source\":{\"id\":\"22309\"}},\"id\":\"22313\",\"type\":\"CDSView\"},{\"attributes\":{\"data_source\":{\"id\":\"22474\"},\"glyph\":{\"id\":\"22475\"},\"hover_glyph\":null,\"muted_glyph\":null,\"nonselection_glyph\":{\"id\":\"22476\"},\"selection_glyph\":null,\"view\":{\"id\":\"22478\"}},\"id\":\"22477\",\"type\":\"GlyphRenderer\"},{\"attributes\":{\"bottom\":{\"value\":0},\"fill_alpha\":{\"value\":0.5},\"fill_color\":{\"value\":\"navy\"},\"left\":{\"field\":\"left\"},\"line_alpha\":{\"value\":0.5},\"line_color\":{\"value\":\"white\"},\"right\":{\"field\":\"right\"},\"top\":{\"field\":\"top\"}},\"id\":\"22300\",\"type\":\"Quad\"},{\"attributes\":{\"data\":{\"x\":[-1.0,0.0],\"y1\":[0,0],\"y2\":[0.18390112513315407,0.18390112513315407]},\"selected\":{\"id\":\"24942\"},\"selection_policy\":{\"id\":\"24941\"}},\"id\":\"22314\",\"type\":\"ColumnDataSource\"},{\"attributes\":{\"source\":{\"id\":\"22314\"}},\"id\":\"22318\",\"type\":\"CDSView\"},{\"attributes\":{\"data\":{\"x\":[0.0,1.0],\"y1\":[0,0],\"y2\":[0.18390112513315407,0.18390112513315407]},\"selected\":{\"id\":\"24948\"},\"selection_policy\":{\"id\":\"24947\"}},\"id\":\"22329\",\"type\":\"ColumnDataSource\"},{\"attributes\":{\"data\":{\"x\":[-1.0,-1.0],\"y\":[0,0.1204523954086467]},\"selected\":{\"id\":\"24994\"},\"selection_policy\":{\"id\":\"24993\"}},\"id\":\"22464\",\"type\":\"ColumnDataSource\"},{\"attributes\":{\"line_color\":\"orange\",\"x\":{\"field\":\"x\"},\"y\":{\"field\":\"y\"}},\"id\":\"22325\",\"type\":\"Line\"},{\"attributes\":{\"line_color\":\"orange\",\"x\":{\"field\":\"x\"},\"y\":{\"field\":\"y\"}},\"id\":\"22465\",\"type\":\"Line\"},{\"attributes\":{\"fill_alpha\":0.1,\"fill_color\":\"orange\",\"x\":{\"field\":\"x\"},\"y1\":{\"field\":\"y1\"},\"y2\":{\"field\":\"y2\"}},\"id\":\"22476\",\"type\":\"VArea\"},{\"attributes\":{\"data\":{\"x\":[0.0,0.0],\"y\":[0,0.18390112513315407]},\"selected\":{\"id\":\"24944\"},\"selection_policy\":{\"id\":\"24943\"}},\"id\":\"22319\",\"type\":\"ColumnDataSource\"},{\"attributes\":{\"line_color\":\"orange\",\"x\":{\"field\":\"x\"},\"y\":{\"field\":\"y\"}},\"id\":\"22470\",\"type\":\"Line\"},{\"attributes\":{\"data_source\":{\"id\":\"22329\"},\"glyph\":{\"id\":\"22330\"},\"hover_glyph\":null,\"muted_glyph\":null,\"nonselection_glyph\":{\"id\":\"22331\"},\"selection_glyph\":null,\"view\":{\"id\":\"22333\"}},\"id\":\"22332\",\"type\":\"GlyphRenderer\"},{\"attributes\":{\"data\":{\"x\":[0.0,0.0],\"y\":[0,0.1204523954086467]},\"selected\":{\"id\":\"24996\"},\"selection_policy\":{\"id\":\"24995\"}},\"id\":\"22469\",\"type\":\"ColumnDataSource\"},{\"attributes\":{},\"id\":\"25205\",\"type\":\"UnionRenderers\"},{\"attributes\":{\"data_source\":{\"id\":\"22319\"},\"glyph\":{\"id\":\"22320\"},\"hover_glyph\":null,\"muted_glyph\":null,\"nonselection_glyph\":{\"id\":\"22321\"},\"selection_glyph\":null,\"view\":{\"id\":\"22323\"}},\"id\":\"22322\",\"type\":\"GlyphRenderer\"},{\"attributes\":{\"data\":{\"x\":[1.0,1.0],\"y\":[0,0.18390112513315407]},\"selected\":{\"id\":\"24946\"},\"selection_policy\":{\"id\":\"24945\"}},\"id\":\"22324\",\"type\":\"ColumnDataSource\"},{\"attributes\":{\"line_alpha\":0.1,\"line_color\":\"orange\",\"x\":{\"field\":\"x\"},\"y\":{\"field\":\"y\"}},\"id\":\"22466\",\"type\":\"Line\"},{\"attributes\":{},\"id\":\"25206\",\"type\":\"Selection\"},{\"attributes\":{\"source\":{\"id\":\"22464\"}},\"id\":\"22468\",\"type\":\"CDSView\"},{\"attributes\":{\"data_source\":{\"id\":\"22469\"},\"glyph\":{\"id\":\"22470\"},\"hover_glyph\":null,\"muted_glyph\":null,\"nonselection_glyph\":{\"id\":\"22471\"},\"selection_glyph\":null,\"view\":{\"id\":\"22473\"}},\"id\":\"22472\",\"type\":\"GlyphRenderer\"},{\"attributes\":{\"line_alpha\":0.1,\"line_color\":\"orange\",\"x\":{\"field\":\"x\"},\"y\":{\"field\":\"y\"}},\"id\":\"22321\",\"type\":\"Line\"},{\"attributes\":{\"source\":{\"id\":\"22319\"}},\"id\":\"22323\",\"type\":\"CDSView\"},{\"attributes\":{\"line_color\":\"orange\",\"x\":{\"field\":\"x\"},\"y\":{\"field\":\"y\"}},\"id\":\"22480\",\"type\":\"Line\"},{\"attributes\":{\"line_alpha\":0.1,\"line_color\":\"orange\",\"x\":{\"field\":\"x\"},\"y\":{\"field\":\"y\"}},\"id\":\"22336\",\"type\":\"Line\"},{\"attributes\":{\"fill_alpha\":0.2,\"fill_color\":\"orange\",\"x\":{\"field\":\"x\"},\"y1\":{\"field\":\"y1\"},\"y2\":{\"field\":\"y2\"}},\"id\":\"22475\",\"type\":\"VArea\"},{\"attributes\":{\"source\":{\"id\":\"22334\"}},\"id\":\"22338\",\"type\":\"CDSView\"},{\"attributes\":{\"source\":{\"id\":\"22484\"}},\"id\":\"22488\",\"type\":\"CDSView\"},{\"attributes\":{\"data_source\":{\"id\":\"22339\"},\"glyph\":{\"id\":\"22340\"},\"hover_glyph\":null,\"muted_glyph\":null,\"nonselection_glyph\":{\"id\":\"22341\"},\"selection_glyph\":null,\"view\":{\"id\":\"22343\"}},\"id\":\"22342\",\"type\":\"GlyphRenderer\"},{\"attributes\":{\"line_alpha\":0.1,\"line_color\":\"orange\",\"x\":{\"field\":\"x\"},\"y\":{\"field\":\"y\"}},\"id\":\"22471\",\"type\":\"Line\"},{\"attributes\":{\"line_color\":\"orange\",\"x\":{\"field\":\"x\"},\"y\":{\"field\":\"y\"}},\"id\":\"22350\",\"type\":\"Line\"},{\"attributes\":{\"source\":{\"id\":\"22469\"}},\"id\":\"22473\",\"type\":\"CDSView\"},{\"attributes\":{\"data\":{\"x\":[-1.0,0.0],\"y1\":[0,0],\"y2\":[0.1204523954086467,0.1204523954086467]},\"selected\":{\"id\":\"24998\"},\"selection_policy\":{\"id\":\"24997\"}},\"id\":\"22474\",\"type\":\"ColumnDataSource\"},{\"attributes\":{},\"id\":\"25207\",\"type\":\"UnionRenderers\"},{\"attributes\":{\"fill_alpha\":0.2,\"fill_color\":\"orange\",\"x\":{\"field\":\"x\"},\"y1\":{\"field\":\"y1\"},\"y2\":{\"field\":\"y2\"}},\"id\":\"22345\",\"type\":\"VArea\"},{\"attributes\":{\"source\":{\"id\":\"22474\"}},\"id\":\"22478\",\"type\":\"CDSView\"},{\"attributes\":{\"line_alpha\":0.1,\"line_color\":\"orange\",\"x\":{\"field\":\"x\"},\"y\":{\"field\":\"y\"}},\"id\":\"22341\",\"type\":\"Line\"},{\"attributes\":{\"line_alpha\":0.1,\"line_color\":\"orange\",\"x\":{\"field\":\"x\"},\"y\":{\"field\":\"y\"}},\"id\":\"22486\",\"type\":\"Line\"},{\"attributes\":{},\"id\":\"25208\",\"type\":\"Selection\"},{\"attributes\":{\"source\":{\"id\":\"22339\"}},\"id\":\"22343\",\"type\":\"CDSView\"},{\"attributes\":{\"line_color\":\"orange\",\"x\":{\"field\":\"x\"},\"y\":{\"field\":\"y\"}},\"id\":\"22485\",\"type\":\"Line\"},{\"attributes\":{\"data\":{\"x\":[1.0,2.0],\"y1\":[0,0],\"y2\":[0.18390112513315407,0.18390112513315407]},\"selected\":{\"id\":\"24954\"},\"selection_policy\":{\"id\":\"24953\"}},\"id\":\"22344\",\"type\":\"ColumnDataSource\"},{\"attributes\":{\"source\":{\"id\":\"22344\"}},\"id\":\"22348\",\"type\":\"CDSView\"},{\"attributes\":{\"data\":{\"x\":[0.0,0.0],\"y\":[0,0.1204523954086467]},\"selected\":{\"id\":\"25000\"},\"selection_policy\":{\"id\":\"24999\"}},\"id\":\"22479\",\"type\":\"ColumnDataSource\"},{\"attributes\":{\"data_source\":{\"id\":\"22354\"},\"glyph\":{\"id\":\"22355\"},\"hover_glyph\":null,\"muted_glyph\":null,\"nonselection_glyph\":{\"id\":\"22356\"},\"selection_glyph\":null,\"view\":{\"id\":\"22358\"}},\"id\":\"22357\",\"type\":\"GlyphRenderer\"},{\"attributes\":{\"data_source\":{\"id\":\"22489\"},\"glyph\":{\"id\":\"22490\"},\"hover_glyph\":null,\"muted_glyph\":null,\"nonselection_glyph\":{\"id\":\"22491\"},\"selection_glyph\":null,\"view\":{\"id\":\"22493\"}},\"id\":\"22492\",\"type\":\"GlyphRenderer\"},{\"attributes\":{\"data_source\":{\"id\":\"22479\"},\"glyph\":{\"id\":\"22480\"},\"hover_glyph\":null,\"muted_glyph\":null,\"nonselection_glyph\":{\"id\":\"22481\"},\"selection_glyph\":null,\"view\":{\"id\":\"22483\"}},\"id\":\"22482\",\"type\":\"GlyphRenderer\"},{\"attributes\":{\"line_color\":\"orange\",\"x\":{\"field\":\"x\"},\"y\":{\"field\":\"y\"}},\"id\":\"22355\",\"type\":\"Line\"},{\"attributes\":{\"data\":{\"x\":[1.0,1.0],\"y\":[0,0.1204523954086467]},\"selected\":{\"id\":\"25002\"},\"selection_policy\":{\"id\":\"25001\"}},\"id\":\"22484\",\"type\":\"ColumnDataSource\"},{\"attributes\":{\"line_alpha\":0.1,\"line_color\":\"orange\",\"x\":{\"field\":\"x\"},\"y\":{\"field\":\"y\"}},\"id\":\"22351\",\"type\":\"Line\"},{\"attributes\":{\"data\":{\"x\":[2.0,2.0],\"y\":[0,0.18390112513315407]},\"selected\":{\"id\":\"24956\"},\"selection_policy\":{\"id\":\"24955\"}},\"id\":\"22349\",\"type\":\"ColumnDataSource\"},{\"attributes\":{\"line_alpha\":0.1,\"line_color\":\"orange\",\"x\":{\"field\":\"x\"},\"y\":{\"field\":\"y\"}},\"id\":\"22481\",\"type\":\"Line\"},{\"attributes\":{\"data_source\":{\"id\":\"22359\"},\"glyph\":{\"id\":\"22360\"},\"hover_glyph\":null,\"muted_glyph\":null,\"nonselection_glyph\":{\"id\":\"22361\"},\"selection_glyph\":null,\"view\":{\"id\":\"22363\"}},\"id\":\"22362\",\"type\":\"GlyphRenderer\"},{\"attributes\":{\"source\":{\"id\":\"22479\"}},\"id\":\"22483\",\"type\":\"CDSView\"},{\"attributes\":{\"data_source\":{\"id\":\"22349\"},\"glyph\":{\"id\":\"22350\"},\"hover_glyph\":null,\"muted_glyph\":null,\"nonselection_glyph\":{\"id\":\"22351\"},\"selection_glyph\":null,\"view\":{\"id\":\"22353\"}},\"id\":\"22352\",\"type\":\"GlyphRenderer\"},{\"attributes\":{\"data_source\":{\"id\":\"22484\"},\"glyph\":{\"id\":\"22485\"},\"hover_glyph\":null,\"muted_glyph\":null,\"nonselection_glyph\":{\"id\":\"22486\"},\"selection_glyph\":null,\"view\":{\"id\":\"22488\"}},\"id\":\"22487\",\"type\":\"GlyphRenderer\"},{\"attributes\":{\"data\":{\"x\":[0.0,1.0],\"y1\":[0,0],\"y2\":[0.1204523954086467,0.1204523954086467]},\"selected\":{\"id\":\"25004\"},\"selection_policy\":{\"id\":\"25003\"}},\"id\":\"22489\",\"type\":\"ColumnDataSource\"},{\"attributes\":{},\"id\":\"25209\",\"type\":\"UnionRenderers\"},{\"attributes\":{\"data\":{\"x\":[3.0,3.0],\"y\":[0,0.18390112513315407]},\"selected\":{\"id\":\"24958\"},\"selection_policy\":{\"id\":\"24957\"}},\"id\":\"22354\",\"type\":\"ColumnDataSource\"},{\"attributes\":{\"fill_alpha\":0.2,\"fill_color\":\"orange\",\"x\":{\"field\":\"x\"},\"y1\":{\"field\":\"y1\"},\"y2\":{\"field\":\"y2\"}},\"id\":\"22490\",\"type\":\"VArea\"},{\"attributes\":{},\"id\":\"24987\",\"type\":\"UnionRenderers\"},{\"attributes\":{},\"id\":\"24928\",\"type\":\"BasicTickFormatter\"},{\"attributes\":{},\"id\":\"24930\",\"type\":\"BasicTickFormatter\"},{\"attributes\":{\"source\":{\"id\":\"22569\"}},\"id\":\"22573\",\"type\":\"CDSView\"},{\"attributes\":{\"line_color\":\"orange\",\"x\":{\"field\":\"x\"},\"y\":{\"field\":\"y\"}},\"id\":\"22575\",\"type\":\"Line\"},{\"attributes\":{\"line_color\":\"orange\",\"x\":{\"field\":\"x\"},\"y\":{\"field\":\"y\"}},\"id\":\"22640\",\"type\":\"Line\"},{\"attributes\":{\"data\":{\"x\":[0.0,1.0],\"y1\":[0,0],\"y2\":[0.10976745884748641,0.10976745884748641]},\"selected\":{\"id\":\"25060\"},\"selection_policy\":{\"id\":\"25059\"}},\"id\":\"22649\",\"type\":\"ColumnDataSource\"},{\"attributes\":{},\"id\":\"24957\",\"type\":\"UnionRenderers\"},{\"attributes\":{\"fill_alpha\":0.1,\"fill_color\":\"orange\",\"x\":{\"field\":\"x\"},\"y1\":{\"field\":\"y1\"},\"y2\":{\"field\":\"y2\"}},\"id\":\"22581\",\"type\":\"VArea\"},{\"attributes\":{\"source\":{\"id\":\"22634\"}},\"id\":\"22638\",\"type\":\"CDSView\"},{\"attributes\":{\"data\":{\"x\":[7.0,7.0],\"y\":[0,0.1204523954086467]},\"selected\":{\"id\":\"25038\"},\"selection_policy\":{\"id\":\"25037\"}},\"id\":\"22574\",\"type\":\"ColumnDataSource\"},{\"attributes\":{\"line_color\":\"orange\",\"x\":{\"field\":\"x\"},\"y\":{\"field\":\"y\"}},\"id\":\"22645\",\"type\":\"Line\"},{\"attributes\":{},\"id\":\"24958\",\"type\":\"Selection\"},{\"attributes\":{\"data_source\":{\"id\":\"22574\"},\"glyph\":{\"id\":\"22575\"},\"hover_glyph\":null,\"muted_glyph\":null,\"nonselection_glyph\":{\"id\":\"22576\"},\"selection_glyph\":null,\"view\":{\"id\":\"22578\"}},\"id\":\"22577\",\"type\":\"GlyphRenderer\"},{\"attributes\":{\"data\":{\"x\":[0.0,0.0],\"y\":[0,0.10976745884748641]},\"selected\":{\"id\":\"25056\"},\"selection_policy\":{\"id\":\"25055\"}},\"id\":\"22639\",\"type\":\"ColumnDataSource\"},{\"attributes\":{},\"id\":\"24943\",\"type\":\"UnionRenderers\"},{\"attributes\":{\"data_source\":{\"id\":\"22649\"},\"glyph\":{\"id\":\"22650\"},\"hover_glyph\":null,\"muted_glyph\":null,\"nonselection_glyph\":{\"id\":\"22651\"},\"selection_glyph\":null,\"view\":{\"id\":\"22653\"}},\"id\":\"22652\",\"type\":\"GlyphRenderer\"},{\"attributes\":{\"line_color\":\"orange\",\"x\":{\"field\":\"x\"},\"y\":{\"field\":\"y\"}},\"id\":\"22585\",\"type\":\"Line\"},{\"attributes\":{\"data_source\":{\"id\":\"22639\"},\"glyph\":{\"id\":\"22640\"},\"hover_glyph\":null,\"muted_glyph\":null,\"nonselection_glyph\":{\"id\":\"22641\"},\"selection_glyph\":null,\"view\":{\"id\":\"22643\"}},\"id\":\"22642\",\"type\":\"GlyphRenderer\"},{\"attributes\":{},\"id\":\"24944\",\"type\":\"Selection\"},{\"attributes\":{\"fill_alpha\":0.2,\"fill_color\":\"orange\",\"x\":{\"field\":\"x\"},\"y1\":{\"field\":\"y1\"},\"y2\":{\"field\":\"y2\"}},\"id\":\"22580\",\"type\":\"VArea\"},{\"attributes\":{\"data\":{\"x\":[1.0,1.0],\"y\":[0,0.10976745884748641]},\"selected\":{\"id\":\"25058\"},\"selection_policy\":{\"id\":\"25057\"}},\"id\":\"22644\",\"type\":\"ColumnDataSource\"},{\"attributes\":{\"line_alpha\":0.1,\"line_color\":\"orange\",\"x\":{\"field\":\"x\"},\"y\":{\"field\":\"y\"}},\"id\":\"22576\",\"type\":\"Line\"},{\"attributes\":{\"source\":{\"id\":\"22574\"}},\"id\":\"22578\",\"type\":\"CDSView\"},{\"attributes\":{\"line_alpha\":0.1,\"line_color\":\"orange\",\"x\":{\"field\":\"x\"},\"y\":{\"field\":\"y\"}},\"id\":\"22641\",\"type\":\"Line\"},{\"attributes\":{\"data\":{\"x\":[6.0,7.0],\"y1\":[0,0],\"y2\":[0.1204523954086467,0.1204523954086467]},\"selected\":{\"id\":\"25040\"},\"selection_policy\":{\"id\":\"25039\"}},\"id\":\"22579\",\"type\":\"ColumnDataSource\"},{\"attributes\":{\"source\":{\"id\":\"22639\"}},\"id\":\"22643\",\"type\":\"CDSView\"},{\"attributes\":{\"data_source\":{\"id\":\"22644\"},\"glyph\":{\"id\":\"22645\"},\"hover_glyph\":null,\"muted_glyph\":null,\"nonselection_glyph\":{\"id\":\"22646\"},\"selection_glyph\":null,\"view\":{\"id\":\"22648\"}},\"id\":\"22647\",\"type\":\"GlyphRenderer\"},{\"attributes\":{\"source\":{\"id\":\"22579\"}},\"id\":\"22583\",\"type\":\"CDSView\"},{\"attributes\":{\"fill_alpha\":0.1,\"fill_color\":\"orange\",\"x\":{\"field\":\"x\"},\"y1\":{\"field\":\"y1\"},\"y2\":{\"field\":\"y2\"}},\"id\":\"22596\",\"type\":\"VArea\"},{\"attributes\":{\"fill_alpha\":0.2,\"fill_color\":\"orange\",\"x\":{\"field\":\"x\"},\"y1\":{\"field\":\"y1\"},\"y2\":{\"field\":\"y2\"}},\"id\":\"22650\",\"type\":\"VArea\"},{\"attributes\":{},\"id\":\"24959\",\"type\":\"UnionRenderers\"},{\"attributes\":{\"line_color\":\"orange\",\"x\":{\"field\":\"x\"},\"y\":{\"field\":\"y\"}},\"id\":\"22590\",\"type\":\"Line\"},{\"attributes\":{\"fill_alpha\":0.1,\"fill_color\":\"orange\",\"x\":{\"field\":\"x\"},\"y1\":{\"field\":\"y1\"},\"y2\":{\"field\":\"y2\"}},\"id\":\"22651\",\"type\":\"VArea\"},{\"attributes\":{},\"id\":\"24960\",\"type\":\"Selection\"},{\"attributes\":{\"data\":{\"x\":[7.0,7.0],\"y\":[0,0.1204523954086467]},\"selected\":{\"id\":\"25042\"},\"selection_policy\":{\"id\":\"25041\"}},\"id\":\"22584\",\"type\":\"ColumnDataSource\"},{\"attributes\":{\"line_alpha\":0.1,\"line_color\":\"orange\",\"x\":{\"field\":\"x\"},\"y\":{\"field\":\"y\"}},\"id\":\"22646\",\"type\":\"Line\"},{\"attributes\":{},\"id\":\"24945\",\"type\":\"UnionRenderers\"},{\"attributes\":{\"data_source\":{\"id\":\"22594\"},\"glyph\":{\"id\":\"22595\"},\"hover_glyph\":null,\"muted_glyph\":null,\"nonselection_glyph\":{\"id\":\"22596\"},\"selection_glyph\":null,\"view\":{\"id\":\"22598\"}},\"id\":\"22597\",\"type\":\"GlyphRenderer\"},{\"attributes\":{\"source\":{\"id\":\"22644\"}},\"id\":\"22648\",\"type\":\"CDSView\"},{\"attributes\":{\"data_source\":{\"id\":\"22584\"},\"glyph\":{\"id\":\"22585\"},\"hover_glyph\":null,\"muted_glyph\":null,\"nonselection_glyph\":{\"id\":\"22586\"},\"selection_glyph\":null,\"view\":{\"id\":\"22588\"}},\"id\":\"22587\",\"type\":\"GlyphRenderer\"},{\"attributes\":{\"line_color\":\"orange\",\"x\":{\"field\":\"x\"},\"y\":{\"field\":\"y\"}},\"id\":\"22655\",\"type\":\"Line\"},{\"attributes\":{},\"id\":\"24946\",\"type\":\"Selection\"},{\"attributes\":{\"data\":{\"x\":[8.0,8.0],\"y\":[0,0.1204523954086467]},\"selected\":{\"id\":\"25044\"},\"selection_policy\":{\"id\":\"25043\"}},\"id\":\"22589\",\"type\":\"ColumnDataSource\"},{\"attributes\":{\"source\":{\"id\":\"22649\"}},\"id\":\"22653\",\"type\":\"CDSView\"},{\"attributes\":{\"data\":{\"x\":[1.0,1.0],\"y\":[0,0.10976745884748641]},\"selected\":{\"id\":\"25062\"},\"selection_policy\":{\"id\":\"25061\"}},\"id\":\"22654\",\"type\":\"ColumnDataSource\"},{\"attributes\":{\"line_alpha\":0.1,\"line_color\":\"orange\",\"x\":{\"field\":\"x\"},\"y\":{\"field\":\"y\"}},\"id\":\"22586\",\"type\":\"Line\"},{\"attributes\":{\"line_color\":\"orange\",\"x\":{\"field\":\"x\"},\"y\":{\"field\":\"y\"}},\"id\":\"22660\",\"type\":\"Line\"},{\"attributes\":{\"source\":{\"id\":\"22584\"}},\"id\":\"22588\",\"type\":\"CDSView\"},{\"attributes\":{\"source\":{\"id\":\"22674\"}},\"id\":\"22678\",\"type\":\"CDSView\"},{\"attributes\":{\"data_source\":{\"id\":\"22589\"},\"glyph\":{\"id\":\"22590\"},\"hover_glyph\":null,\"muted_glyph\":null,\"nonselection_glyph\":{\"id\":\"22591\"},\"selection_glyph\":null,\"view\":{\"id\":\"22593\"}},\"id\":\"22592\",\"type\":\"GlyphRenderer\"},{\"attributes\":{\"data_source\":{\"id\":\"22654\"},\"glyph\":{\"id\":\"22655\"},\"hover_glyph\":null,\"muted_glyph\":null,\"nonselection_glyph\":{\"id\":\"22656\"},\"selection_glyph\":null,\"view\":{\"id\":\"22658\"}},\"id\":\"22657\",\"type\":\"GlyphRenderer\"},{\"attributes\":{},\"id\":\"25179\",\"type\":\"UnionRenderers\"},{\"attributes\":{},\"id\":\"22611\",\"type\":\"BasicTicker\"},{\"attributes\":{\"fill_alpha\":0.1,\"fill_color\":\"orange\",\"x\":{\"field\":\"x\"},\"y1\":{\"field\":\"y1\"},\"y2\":{\"field\":\"y2\"}},\"id\":\"22666\",\"type\":\"VArea\"},{\"attributes\":{\"fill_alpha\":0.2,\"fill_color\":\"orange\",\"x\":{\"field\":\"x\"},\"y1\":{\"field\":\"y1\"},\"y2\":{\"field\":\"y2\"}},\"id\":\"22595\",\"type\":\"VArea\"},{\"attributes\":{\"data\":{\"x\":[2.0,2.0],\"y\":[0,0.10976745884748641]},\"selected\":{\"id\":\"25064\"},\"selection_policy\":{\"id\":\"25063\"}},\"id\":\"22659\",\"type\":\"ColumnDataSource\"},{\"attributes\":{},\"id\":\"24961\",\"type\":\"UnionRenderers\"},{\"attributes\":{\"line_alpha\":0.1,\"line_color\":\"orange\",\"x\":{\"field\":\"x\"},\"y\":{\"field\":\"y\"}},\"id\":\"22591\",\"type\":\"Line\"},{\"attributes\":{},\"id\":\"24947\",\"type\":\"UnionRenderers\"},{\"attributes\":{\"source\":{\"id\":\"22589\"}},\"id\":\"22593\",\"type\":\"CDSView\"},{\"attributes\":{\"line_alpha\":0.1,\"line_color\":\"orange\",\"x\":{\"field\":\"x\"},\"y\":{\"field\":\"y\"}},\"id\":\"22656\",\"type\":\"Line\"},{\"attributes\":{},\"id\":\"24962\",\"type\":\"Selection\"},{\"attributes\":{\"data\":{\"x\":[7.0,8.0],\"y1\":[0,0],\"y2\":[0.1204523954086467,0.1204523954086467]},\"selected\":{\"id\":\"25046\"},\"selection_policy\":{\"id\":\"25045\"}},\"id\":\"22594\",\"type\":\"ColumnDataSource\"},{\"attributes\":{\"source\":{\"id\":\"22654\"}},\"id\":\"22658\",\"type\":\"CDSView\"},{\"attributes\":{},\"id\":\"24948\",\"type\":\"Selection\"},{\"attributes\":{\"data_source\":{\"id\":\"22659\"},\"glyph\":{\"id\":\"22660\"},\"hover_glyph\":null,\"muted_glyph\":null,\"nonselection_glyph\":{\"id\":\"22661\"},\"selection_glyph\":null,\"view\":{\"id\":\"22663\"}},\"id\":\"22662\",\"type\":\"GlyphRenderer\"},{\"attributes\":{\"source\":{\"id\":\"22594\"}},\"id\":\"22598\",\"type\":\"CDSView\"},{\"attributes\":{},\"id\":\"22602\",\"type\":\"DataRange1d\"},{\"attributes\":{\"source\":{\"id\":\"22679\"}},\"id\":\"22683\",\"type\":\"CDSView\"},{\"attributes\":{},\"id\":\"22604\",\"type\":\"DataRange1d\"},{\"attributes\":{\"axis_label\":\"density\",\"formatter\":{\"id\":\"24924\"},\"ticker\":{\"id\":\"22615\"}},\"id\":\"22614\",\"type\":\"LinearAxis\"},{\"attributes\":{\"fill_alpha\":0.2,\"fill_color\":\"orange\",\"x\":{\"field\":\"x\"},\"y1\":{\"field\":\"y1\"},\"y2\":{\"field\":\"y2\"}},\"id\":\"22665\",\"type\":\"VArea\"},{\"attributes\":{\"bottom\":{\"value\":0},\"fill_alpha\":{\"value\":0.1},\"fill_color\":{\"value\":\"navy\"},\"left\":{\"field\":\"left\"},\"line_alpha\":{\"value\":0.1},\"line_color\":{\"value\":\"white\"},\"right\":{\"field\":\"right\"},\"top\":{\"field\":\"top\"}},\"id\":\"22621\",\"type\":\"Quad\"},{\"attributes\":{\"line_alpha\":0.1,\"line_color\":\"orange\",\"x\":{\"field\":\"x\"},\"y\":{\"field\":\"y\"}},\"id\":\"22661\",\"type\":\"Line\"},{\"attributes\":{\"source\":{\"id\":\"22659\"}},\"id\":\"22663\",\"type\":\"CDSView\"},{\"attributes\":{\"text\":\"mutations = 4\"},\"id\":\"22600\",\"type\":\"Title\"},{\"attributes\":{\"data\":{\"x\":[1.0,2.0],\"y1\":[0,0],\"y2\":[0.10976745884748641,0.10976745884748641]},\"selected\":{\"id\":\"25066\"},\"selection_policy\":{\"id\":\"25065\"}},\"id\":\"22664\",\"type\":\"ColumnDataSource\"},{\"attributes\":{\"axis_label\":\"\\u0394E [k_BT]\",\"formatter\":{\"id\":\"24926\"},\"ticker\":{\"id\":\"22611\"}},\"id\":\"22610\",\"type\":\"LinearAxis\"},{\"attributes\":{},\"id\":\"24963\",\"type\":\"UnionRenderers\"},{\"attributes\":{},\"id\":\"22606\",\"type\":\"LinearScale\"},{\"attributes\":{\"fill_alpha\":0.1,\"fill_color\":\"orange\",\"x\":{\"field\":\"x\"},\"y1\":{\"field\":\"y1\"},\"y2\":{\"field\":\"y2\"}},\"id\":\"22696\",\"type\":\"VArea\"},{\"attributes\":{},\"id\":\"22615\",\"type\":\"BasicTicker\"},{\"attributes\":{\"data\":{\"x\":[2.0,3.0],\"y1\":[0,0],\"y2\":[0.10976745884748641,0.10976745884748641]},\"selected\":{\"id\":\"25072\"},\"selection_policy\":{\"id\":\"25071\"}},\"id\":\"22679\",\"type\":\"ColumnDataSource\"},{\"attributes\":{},\"id\":\"24964\",\"type\":\"Selection\"},{\"attributes\":{},\"id\":\"22608\",\"type\":\"LinearScale\"},{\"attributes\":{\"line_color\":\"orange\",\"x\":{\"field\":\"x\"},\"y\":{\"field\":\"y\"}},\"id\":\"22685\",\"type\":\"Line\"},{\"attributes\":{},\"id\":\"24949\",\"type\":\"UnionRenderers\"},{\"attributes\":{\"axis\":{\"id\":\"22610\"},\"ticker\":null},\"id\":\"22613\",\"type\":\"Grid\"},{\"attributes\":{\"fill_alpha\":0.1,\"fill_color\":\"orange\",\"x\":{\"field\":\"x\"},\"y1\":{\"field\":\"y1\"},\"y2\":{\"field\":\"y2\"}},\"id\":\"22681\",\"type\":\"VArea\"},{\"attributes\":{\"fill_alpha\":0.2,\"fill_color\":\"orange\",\"x\":{\"field\":\"x\"},\"y1\":{\"field\":\"y1\"},\"y2\":{\"field\":\"y2\"}},\"id\":\"22680\",\"type\":\"VArea\"},{\"attributes\":{},\"id\":\"24950\",\"type\":\"Selection\"},{\"attributes\":{\"line_color\":\"orange\",\"x\":{\"field\":\"x\"},\"y\":{\"field\":\"y\"}},\"id\":\"22690\",\"type\":\"Line\"},{\"attributes\":{\"axis\":{\"id\":\"22614\"},\"dimension\":1,\"ticker\":null},\"id\":\"22617\",\"type\":\"Grid\"},{\"attributes\":{\"data\":{\"x\":[3.0,3.0],\"y\":[0,0.10976745884748641]},\"selected\":{\"id\":\"25074\"},\"selection_policy\":{\"id\":\"25073\"}},\"id\":\"22684\",\"type\":\"ColumnDataSource\"},{\"attributes\":{\"background_fill_color\":\"#fafafa\",\"below\":[{\"id\":\"22770\"}],\"center\":[{\"id\":\"22773\"},{\"id\":\"22777\"}],\"frame_height\":200,\"frame_width\":200,\"left\":[{\"id\":\"22774\"}],\"renderers\":[{\"id\":\"22782\"},{\"id\":\"22787\"},{\"id\":\"22792\"},{\"id\":\"22797\"},{\"id\":\"22802\"},{\"id\":\"22807\"},{\"id\":\"22812\"},{\"id\":\"22817\"},{\"id\":\"22822\"},{\"id\":\"22827\"},{\"id\":\"22832\"},{\"id\":\"22837\"},{\"id\":\"22842\"},{\"id\":\"22847\"},{\"id\":\"22852\"},{\"id\":\"22857\"},{\"id\":\"22862\"},{\"id\":\"22867\"},{\"id\":\"22872\"},{\"id\":\"22877\"},{\"id\":\"22882\"},{\"id\":\"22887\"},{\"id\":\"22892\"},{\"id\":\"22897\"},{\"id\":\"22902\"},{\"id\":\"22907\"},{\"id\":\"22912\"},{\"id\":\"22917\"}],\"title\":{\"id\":\"22760\"},\"toolbar\":{\"id\":\"22778\"},\"x_range\":{\"id\":\"22762\"},\"x_scale\":{\"id\":\"22766\"},\"y_range\":{\"id\":\"22764\"},\"y_scale\":{\"id\":\"22768\"}},\"id\":\"22759\",\"subtype\":\"Figure\",\"type\":\"Plot\"},{\"attributes\":{\"data_source\":{\"id\":\"22694\"},\"glyph\":{\"id\":\"22695\"},\"hover_glyph\":null,\"muted_glyph\":null,\"nonselection_glyph\":{\"id\":\"22696\"},\"selection_glyph\":null,\"view\":{\"id\":\"22698\"}},\"id\":\"22697\",\"type\":\"GlyphRenderer\"},{\"attributes\":{\"active_drag\":\"auto\",\"active_inspect\":\"auto\",\"active_multi\":null,\"active_scroll\":\"auto\",\"active_tap\":\"auto\"},\"id\":\"22618\",\"type\":\"Toolbar\"},{\"attributes\":{\"data_source\":{\"id\":\"22684\"},\"glyph\":{\"id\":\"22685\"},\"hover_glyph\":null,\"muted_glyph\":null,\"nonselection_glyph\":{\"id\":\"22686\"},\"selection_glyph\":null,\"view\":{\"id\":\"22688\"}},\"id\":\"22687\",\"type\":\"GlyphRenderer\"},{\"attributes\":{\"data\":{\"x\":[4.0,4.0],\"y\":[0,0.10976745884748641]},\"selected\":{\"id\":\"25076\"},\"selection_policy\":{\"id\":\"25075\"}},\"id\":\"22689\",\"type\":\"ColumnDataSource\"},{\"attributes\":{},\"id\":\"24965\",\"type\":\"UnionRenderers\"},{\"attributes\":{\"data_source\":{\"id\":\"22669\"},\"glyph\":{\"id\":\"22670\"},\"hover_glyph\":null,\"muted_glyph\":null,\"nonselection_glyph\":{\"id\":\"22671\"},\"selection_glyph\":null,\"view\":{\"id\":\"22673\"}},\"id\":\"22672\",\"type\":\"GlyphRenderer\"},{\"attributes\":{\"line_alpha\":0.1,\"line_color\":\"orange\",\"x\":{\"field\":\"x\"},\"y\":{\"field\":\"y\"}},\"id\":\"22676\",\"type\":\"Line\"},{\"attributes\":{\"line_alpha\":0.1,\"line_color\":\"orange\",\"x\":{\"field\":\"x\"},\"y\":{\"field\":\"y\"}},\"id\":\"22686\",\"type\":\"Line\"},{\"attributes\":{},\"id\":\"24966\",\"type\":\"Selection\"},{\"attributes\":{\"line_color\":\"orange\",\"x\":{\"field\":\"x\"},\"y\":{\"field\":\"y\"}},\"id\":\"22675\",\"type\":\"Line\"},{\"attributes\":{\"source\":{\"id\":\"22684\"}},\"id\":\"22688\",\"type\":\"CDSView\"},{\"attributes\":{},\"id\":\"24951\",\"type\":\"UnionRenderers\"},{\"attributes\":{\"data_source\":{\"id\":\"22689\"},\"glyph\":{\"id\":\"22690\"},\"hover_glyph\":null,\"muted_glyph\":null,\"nonselection_glyph\":{\"id\":\"22691\"},\"selection_glyph\":null,\"view\":{\"id\":\"22693\"}},\"id\":\"22692\",\"type\":\"GlyphRenderer\"},{\"attributes\":{\"data_source\":{\"id\":\"22679\"},\"glyph\":{\"id\":\"22680\"},\"hover_glyph\":null,\"muted_glyph\":null,\"nonselection_glyph\":{\"id\":\"22681\"},\"selection_glyph\":null,\"view\":{\"id\":\"22683\"}},\"id\":\"22682\",\"type\":\"GlyphRenderer\"},{\"attributes\":{\"line_color\":\"orange\",\"x\":{\"field\":\"x\"},\"y\":{\"field\":\"y\"}},\"id\":\"22700\",\"type\":\"Line\"},{\"attributes\":{},\"id\":\"24952\",\"type\":\"Selection\"},{\"attributes\":{\"data\":{\"x\":[3.0,3.0],\"y\":[0,0.10976745884748641]},\"selected\":{\"id\":\"25070\"},\"selection_policy\":{\"id\":\"25069\"}},\"id\":\"22674\",\"type\":\"ColumnDataSource\"},{\"attributes\":{\"line_alpha\":0.1,\"line_color\":\"orange\",\"x\":{\"field\":\"x\"},\"y\":{\"field\":\"y\"}},\"id\":\"22671\",\"type\":\"Line\"},{\"attributes\":{\"fill_alpha\":0.2,\"fill_color\":\"orange\",\"x\":{\"field\":\"x\"},\"y1\":{\"field\":\"y1\"},\"y2\":{\"field\":\"y2\"}},\"id\":\"22695\",\"type\":\"VArea\"},{\"attributes\":{\"line_color\":\"orange\",\"x\":{\"field\":\"x\"},\"y\":{\"field\":\"y\"}},\"id\":\"22670\",\"type\":\"Line\"},{\"attributes\":{\"line_alpha\":0.1,\"line_color\":\"orange\",\"x\":{\"field\":\"x\"},\"y\":{\"field\":\"y\"}},\"id\":\"22691\",\"type\":\"Line\"},{\"attributes\":{\"source\":{\"id\":\"22669\"}},\"id\":\"22673\",\"type\":\"CDSView\"},{\"attributes\":{\"source\":{\"id\":\"22689\"}},\"id\":\"22693\",\"type\":\"CDSView\"},{\"attributes\":{\"data\":{\"x\":[3.0,4.0],\"y1\":[0,0],\"y2\":[0.10976745884748641,0.10976745884748641]},\"selected\":{\"id\":\"25078\"},\"selection_policy\":{\"id\":\"25077\"}},\"id\":\"22694\",\"type\":\"ColumnDataSource\"},{\"attributes\":{\"source\":{\"id\":\"22664\"}},\"id\":\"22668\",\"type\":\"CDSView\"},{\"attributes\":{\"source\":{\"id\":\"22694\"}},\"id\":\"22698\",\"type\":\"CDSView\"},{\"attributes\":{\"data\":{\"x\":[2.0,2.0],\"y\":[0,0.10976745884748641]},\"selected\":{\"id\":\"25068\"},\"selection_policy\":{\"id\":\"25067\"}},\"id\":\"22669\",\"type\":\"ColumnDataSource\"},{\"attributes\":{\"fill_alpha\":0.1,\"fill_color\":\"orange\",\"x\":{\"field\":\"x\"},\"y1\":{\"field\":\"y1\"},\"y2\":{\"field\":\"y2\"}},\"id\":\"22711\",\"type\":\"VArea\"},{\"attributes\":{\"data_source\":{\"id\":\"22664\"},\"glyph\":{\"id\":\"22665\"},\"hover_glyph\":null,\"muted_glyph\":null,\"nonselection_glyph\":{\"id\":\"22666\"},\"selection_glyph\":null,\"view\":{\"id\":\"22668\"}},\"id\":\"22667\",\"type\":\"GlyphRenderer\"},{\"attributes\":{\"line_color\":\"orange\",\"x\":{\"field\":\"x\"},\"y\":{\"field\":\"y\"}},\"id\":\"22705\",\"type\":\"Line\"},{\"attributes\":{},\"id\":\"24967\",\"type\":\"UnionRenderers\"},{\"attributes\":{\"bottom\":{\"value\":0},\"fill_alpha\":{\"value\":0.5},\"fill_color\":{\"value\":\"navy\"},\"left\":{\"field\":\"left\"},\"line_alpha\":{\"value\":0.5},\"line_color\":{\"value\":\"white\"},\"right\":{\"field\":\"right\"},\"top\":{\"field\":\"top\"}},\"id\":\"22620\",\"type\":\"Quad\"},{\"attributes\":{},\"id\":\"24953\",\"type\":\"UnionRenderers\"},{\"attributes\":{\"data_source\":{\"id\":\"22674\"},\"glyph\":{\"id\":\"22675\"},\"hover_glyph\":null,\"muted_glyph\":null,\"nonselection_glyph\":{\"id\":\"22676\"},\"selection_glyph\":null,\"view\":{\"id\":\"22678\"}},\"id\":\"22677\",\"type\":\"GlyphRenderer\"},{\"attributes\":{\"data\":{\"x\":[4.0,4.0],\"y\":[0,0.10976745884748641]},\"selected\":{\"id\":\"25080\"},\"selection_policy\":{\"id\":\"25079\"}},\"id\":\"22699\",\"type\":\"ColumnDataSource\"},{\"attributes\":{},\"id\":\"24968\",\"type\":\"Selection\"},{\"attributes\":{\"data_source\":{\"id\":\"22709\"},\"glyph\":{\"id\":\"22710\"},\"hover_glyph\":null,\"muted_glyph\":null,\"nonselection_glyph\":{\"id\":\"22711\"},\"selection_glyph\":null,\"view\":{\"id\":\"22713\"}},\"id\":\"22712\",\"type\":\"GlyphRenderer\"},{\"attributes\":{\"data\":{\"left\":{\"__ndarray__\":\"365uJ9eV8L+GucAICrrgv4BTBalwGYK/6o54gz4p4D+RmcpkcU3wP63r2IdDhvg/5J5z1YpfAEDyx/rm83sEQADxgfhcmAhADhoJCsa0DECOIciNl2gQQBW2ixbMdhJAnEpPnwCFFEAj3xIoNZMWQKpz1rBpoRhAMQiaOZ6vGkC4nF3C0r0cQEAxIUsHzB5A42Ly6R1tIEAmLVQuOHQhQGr3tXJSeyJArsEXt2yCI0Dxi3n7hokkQDRW2z+hkCVAeCA9hLuXJkC86p7I1Z4nQP+0AA3wpShAQn9iUQqtKUCGScSVJLQqQMoTJto+uytADd6HHlnCLEBQqOlic8ktQJRyS6eN0C5A2Dyt66fXL0COgwcYYW8wQK9oODru8jBA0U1pXHt2MUDzMpp+CPoxQBQYy6CVfTJANv37wiIBM0BY4izlr4QzQHrHXQc9CDRAnKyOKcqLNEC9kb9LVw81QN928G3kkjVAAVwhkHEWNkAiQVKy/pk2QEQmg9SLHTdAZgu09hihN0CI8OQYpiQ4QA==\",\"dtype\":\"float64\",\"shape\":[50]},\"right\":{\"__ndarray__\":\"hrnACAq64L+AUwWpcBmCv+qOeIM+KeA/kZnKZHFN8D+t69iHQ4b4P+Sec9WKXwBA8sf65vN7BEAA8YH4XJgIQA4aCQrGtAxAjiHIjZdoEEAVtosWzHYSQJxKT58AhRRAI98SKDWTFkCqc9awaaEYQDEImjmerxpAuJxdwtK9HEBAMSFLB8weQONi8ukdbSBAJi1ULjh0IUBq97VyUnsiQK7BF7dsgiNA8Yt5+4aJJEA0Vts/oZAlQHggPYS7lyZAvOqeyNWeJ0D/tAAN8KUoQEJ/YlEKrSlAhknElSS0KkDKEybaPrsrQA3ehx5ZwixAUKjpYnPJLUCUckunjdAuQNg8reun1y9AjoMHGGFvMECvaDg67vIwQNFNaVx7djFA8zKafgj6MUAUGMuglX0yQDb9+8IiATNAWOIs5a+EM0B6x10HPQg0QJysjinKizRAvZG/S1cPNUDfdvBt5JI1QAFcIZBxFjZAIkFSsv6ZNkBEJoPUix03QGYLtPYYoTdAiPDkGKYkOECq1RU7M6g4QA==\",\"dtype\":\"float64\",\"shape\":[50]},\"top\":{\"__ndarray__\":\"lySiu1PCMz9LI5sJ1u5MPxcth9EpSV0/385QpvarcD8XLYfRKUl9P2IbsJOLCYg/66CpUHSgkz8rv2QYwaGbP9ZSRuGbHqM/0a6JO9CVpz9FmLHIN4msPymC6ZfLXbE/mjIGt/qvsz+/ISbprWK1P9/0fSQTOrc/hArQxT68uT+8oaDAxZK6PzhQQ85wF7s/mfCB4HSuuz8hPOpduBm8PxaVOCbM2Ls/5GQa7/+uuj+Hkz/1WFS4Pz/vCZASc7Y/3GIk7sbZtD9s4Smltn2yPxzTOXgup64/Hr9kGMGhqz+nKJbeW12nPzQcslStm6Q/S5+wHwEcoD/0Ip45EJ6aP4PKVGJYIJU/o9g8bkoGkT+IppnUKW+IP7I1f1lmYIQ/u8NdLCV+eT8XcwL78ZR2P6YPw3kuOmw/X/3xmwRZYj8W2zdg3xxhP9U2c5l9o00/TTh6S/t2RD8DXiO5zAw/PzDWQXy17zA/3A/DeS46HD/rcgL78ZQGP+tyAvvxlAY/AAAAAAAAAADrcgL78ZT2Pg==\",\"dtype\":\"float64\",\"shape\":[50]}},\"selected\":{\"id\":\"25048\"},\"selection_policy\":{\"id\":\"25047\"}},\"id\":\"22619\",\"type\":\"ColumnDataSource\"},{\"attributes\":{},\"id\":\"24954\",\"type\":\"Selection\"},{\"attributes\":{\"data_source\":{\"id\":\"22624\"},\"glyph\":{\"id\":\"22625\"},\"hover_glyph\":null,\"muted_glyph\":null,\"nonselection_glyph\":{\"id\":\"22626\"},\"selection_glyph\":null,\"view\":{\"id\":\"22628\"}},\"id\":\"22627\",\"type\":\"GlyphRenderer\"},{\"attributes\":{\"data_source\":{\"id\":\"22699\"},\"glyph\":{\"id\":\"22700\"},\"hover_glyph\":null,\"muted_glyph\":null,\"nonselection_glyph\":{\"id\":\"22701\"},\"selection_glyph\":null,\"view\":{\"id\":\"22703\"}},\"id\":\"22702\",\"type\":\"GlyphRenderer\"},{\"attributes\":{\"source\":{\"id\":\"22629\"}},\"id\":\"22633\",\"type\":\"CDSView\"},{\"attributes\":{\"data\":{\"x\":[5.0,5.0],\"y\":[0,0.10976745884748641]},\"selected\":{\"id\":\"25082\"},\"selection_policy\":{\"id\":\"25081\"}},\"id\":\"22704\",\"type\":\"ColumnDataSource\"},{\"attributes\":{\"source\":{\"id\":\"22619\"}},\"id\":\"22623\",\"type\":\"CDSView\"},{\"attributes\":{\"data_source\":{\"id\":\"22619\"},\"glyph\":{\"id\":\"22620\"},\"hover_glyph\":null,\"muted_glyph\":null,\"nonselection_glyph\":{\"id\":\"22621\"},\"selection_glyph\":null,\"view\":{\"id\":\"22623\"}},\"id\":\"22622\",\"type\":\"GlyphRenderer\"},{\"attributes\":{\"line_alpha\":0.1,\"line_color\":\"orange\",\"x\":{\"field\":\"x\"},\"y\":{\"field\":\"y\"}},\"id\":\"22701\",\"type\":\"Line\"},{\"attributes\":{\"data_source\":{\"id\":\"22634\"},\"glyph\":{\"id\":\"22635\"},\"hover_glyph\":null,\"muted_glyph\":null,\"nonselection_glyph\":{\"id\":\"22636\"},\"selection_glyph\":null,\"view\":{\"id\":\"22638\"}},\"id\":\"22637\",\"type\":\"GlyphRenderer\"},{\"attributes\":{\"source\":{\"id\":\"22699\"}},\"id\":\"22703\",\"type\":\"CDSView\"},{\"attributes\":{\"data_source\":{\"id\":\"22704\"},\"glyph\":{\"id\":\"22705\"},\"hover_glyph\":null,\"muted_glyph\":null,\"nonselection_glyph\":{\"id\":\"22706\"},\"selection_glyph\":null,\"view\":{\"id\":\"22708\"}},\"id\":\"22707\",\"type\":\"GlyphRenderer\"},{\"attributes\":{\"data\":{\"x\":[-1.0,-1.0],\"y\":[0,0.10976745884748641]},\"selected\":{\"id\":\"25050\"},\"selection_policy\":{\"id\":\"25049\"}},\"id\":\"22624\",\"type\":\"ColumnDataSource\"},{\"attributes\":{\"line_color\":\"orange\",\"x\":{\"field\":\"x\"},\"y\":{\"field\":\"y\"}},\"id\":\"22715\",\"type\":\"Line\"},{\"attributes\":{\"line_color\":\"orange\",\"x\":{\"field\":\"x\"},\"y\":{\"field\":\"y\"}},\"id\":\"22625\",\"type\":\"Line\"},{\"attributes\":{},\"id\":\"24969\",\"type\":\"UnionRenderers\"},{\"attributes\":{\"fill_alpha\":0.1,\"fill_color\":\"orange\",\"x\":{\"field\":\"x\"},\"y1\":{\"field\":\"y1\"},\"y2\":{\"field\":\"y2\"}},\"id\":\"22636\",\"type\":\"VArea\"},{\"attributes\":{\"fill_alpha\":0.2,\"fill_color\":\"orange\",\"x\":{\"field\":\"x\"},\"y1\":{\"field\":\"y1\"},\"y2\":{\"field\":\"y2\"}},\"id\":\"22710\",\"type\":\"VArea\"},{\"attributes\":{\"line_color\":\"orange\",\"x\":{\"field\":\"x\"},\"y\":{\"field\":\"y\"}},\"id\":\"22630\",\"type\":\"Line\"},{\"attributes\":{\"line_alpha\":0.1,\"line_color\":\"orange\",\"x\":{\"field\":\"x\"},\"y\":{\"field\":\"y\"}},\"id\":\"22706\",\"type\":\"Line\"},{\"attributes\":{},\"id\":\"24970\",\"type\":\"Selection\"},{\"attributes\":{\"data\":{\"x\":[0.0,0.0],\"y\":[0,0.10976745884748641]},\"selected\":{\"id\":\"25052\"},\"selection_policy\":{\"id\":\"25051\"}},\"id\":\"22629\",\"type\":\"ColumnDataSource\"},{\"attributes\":{\"source\":{\"id\":\"22704\"}},\"id\":\"22708\",\"type\":\"CDSView\"},{\"attributes\":{},\"id\":\"24955\",\"type\":\"UnionRenderers\"},{\"attributes\":{\"data\":{\"x\":[4.0,5.0],\"y1\":[0,0],\"y2\":[0.10976745884748641,0.10976745884748641]},\"selected\":{\"id\":\"25084\"},\"selection_policy\":{\"id\":\"25083\"}},\"id\":\"22709\",\"type\":\"ColumnDataSource\"},{\"attributes\":{\"line_alpha\":0.1,\"line_color\":\"orange\",\"x\":{\"field\":\"x\"},\"y\":{\"field\":\"y\"}},\"id\":\"22626\",\"type\":\"Line\"},{\"attributes\":{\"source\":{\"id\":\"22709\"}},\"id\":\"22713\",\"type\":\"CDSView\"},{\"attributes\":{},\"id\":\"24956\",\"type\":\"Selection\"},{\"attributes\":{\"source\":{\"id\":\"22624\"}},\"id\":\"22628\",\"type\":\"CDSView\"},{\"attributes\":{\"line_alpha\":0.1,\"line_color\":\"orange\",\"x\":{\"field\":\"x\"},\"y\":{\"field\":\"y\"}},\"id\":\"22716\",\"type\":\"Line\"},{\"attributes\":{\"data_source\":{\"id\":\"22629\"},\"glyph\":{\"id\":\"22630\"},\"hover_glyph\":null,\"muted_glyph\":null,\"nonselection_glyph\":{\"id\":\"22631\"},\"selection_glyph\":null,\"view\":{\"id\":\"22633\"}},\"id\":\"22632\",\"type\":\"GlyphRenderer\"},{\"attributes\":{\"source\":{\"id\":\"22714\"}},\"id\":\"22718\",\"type\":\"CDSView\"},{\"attributes\":{\"data\":{\"x\":[-1.0,0.0],\"y1\":[0,0],\"y2\":[0.10976745884748641,0.10976745884748641]},\"selected\":{\"id\":\"25054\"},\"selection_policy\":{\"id\":\"25053\"}},\"id\":\"22634\",\"type\":\"ColumnDataSource\"},{\"attributes\":{\"fill_alpha\":0.2,\"fill_color\":\"orange\",\"x\":{\"field\":\"x\"},\"y1\":{\"field\":\"y1\"},\"y2\":{\"field\":\"y2\"}},\"id\":\"22635\",\"type\":\"VArea\"},{\"attributes\":{\"data\":{\"x\":[5.0,5.0],\"y\":[0,0.10976745884748641]},\"selected\":{\"id\":\"25086\"},\"selection_policy\":{\"id\":\"25085\"}},\"id\":\"22714\",\"type\":\"ColumnDataSource\"},{\"attributes\":{\"data_source\":{\"id\":\"22724\"},\"glyph\":{\"id\":\"22725\"},\"hover_glyph\":null,\"muted_glyph\":null,\"nonselection_glyph\":{\"id\":\"22726\"},\"selection_glyph\":null,\"view\":{\"id\":\"22728\"}},\"id\":\"22727\",\"type\":\"GlyphRenderer\"},{\"attributes\":{\"data_source\":{\"id\":\"22714\"},\"glyph\":{\"id\":\"22715\"},\"hover_glyph\":null,\"muted_glyph\":null,\"nonselection_glyph\":{\"id\":\"22716\"},\"selection_glyph\":null,\"view\":{\"id\":\"22718\"}},\"id\":\"22717\",\"type\":\"GlyphRenderer\"},{\"attributes\":{\"line_alpha\":0.1,\"line_color\":\"orange\",\"x\":{\"field\":\"x\"},\"y\":{\"field\":\"y\"}},\"id\":\"22631\",\"type\":\"Line\"},{\"attributes\":{},\"id\":\"24971\",\"type\":\"UnionRenderers\"},{\"attributes\":{\"line_color\":\"orange\",\"x\":{\"field\":\"x\"},\"y\":{\"field\":\"y\"}},\"id\":\"22720\",\"type\":\"Line\"},{\"attributes\":{},\"id\":\"24986\",\"type\":\"Selection\"},{\"attributes\":{\"data\":{\"x\":[-1.0,-1.0],\"y\":[0,0.10273275819437086]},\"selected\":{\"id\":\"25106\"},\"selection_policy\":{\"id\":\"25105\"}},\"id\":\"22784\",\"type\":\"ColumnDataSource\"},{\"attributes\":{\"line_color\":\"orange\",\"x\":{\"field\":\"x\"},\"y\":{\"field\":\"y\"}},\"id\":\"22875\",\"type\":\"Line\"},{\"attributes\":{},\"id\":\"24972\",\"type\":\"Selection\"},{\"attributes\":{\"data_source\":{\"id\":\"22719\"},\"glyph\":{\"id\":\"22720\"},\"hover_glyph\":null,\"muted_glyph\":null,\"nonselection_glyph\":{\"id\":\"22721\"},\"selection_glyph\":null,\"view\":{\"id\":\"22723\"}},\"id\":\"22722\",\"type\":\"GlyphRenderer\"},{\"attributes\":{\"data_source\":{\"id\":\"22794\"},\"glyph\":{\"id\":\"22795\"},\"hover_glyph\":null,\"muted_glyph\":null,\"nonselection_glyph\":{\"id\":\"22796\"},\"selection_glyph\":null,\"view\":{\"id\":\"22798\"}},\"id\":\"22797\",\"type\":\"GlyphRenderer\"},{\"attributes\":{\"data\":{\"x\":[5.0,5.0],\"y\":[0,0.10273275819437086]},\"selected\":{\"id\":\"25138\"},\"selection_policy\":{\"id\":\"25137\"}},\"id\":\"22864\",\"type\":\"ColumnDataSource\"},{\"attributes\":{\"data_source\":{\"id\":\"22784\"},\"glyph\":{\"id\":\"22785\"},\"hover_glyph\":null,\"muted_glyph\":null,\"nonselection_glyph\":{\"id\":\"22786\"},\"selection_glyph\":null,\"view\":{\"id\":\"22788\"}},\"id\":\"22787\",\"type\":\"GlyphRenderer\"},{\"attributes\":{\"data\":{\"x\":[6.0,6.0],\"y\":[0,0.10976745884748641]},\"selected\":{\"id\":\"25088\"},\"selection_policy\":{\"id\":\"25087\"}},\"id\":\"22719\",\"type\":\"ColumnDataSource\"},{\"attributes\":{\"line_color\":\"orange\",\"x\":{\"field\":\"x\"},\"y\":{\"field\":\"y\"}},\"id\":\"22865\",\"type\":\"Line\"},{\"attributes\":{\"line_color\":\"orange\",\"x\":{\"field\":\"x\"},\"y\":{\"field\":\"y\"}},\"id\":\"22730\",\"type\":\"Line\"},{\"attributes\":{\"line_color\":\"orange\",\"x\":{\"field\":\"x\"},\"y\":{\"field\":\"y\"}},\"id\":\"22785\",\"type\":\"Line\"},{\"attributes\":{\"fill_alpha\":0.1,\"fill_color\":\"orange\",\"x\":{\"field\":\"x\"},\"y1\":{\"field\":\"y1\"},\"y2\":{\"field\":\"y2\"}},\"id\":\"22871\",\"type\":\"VArea\"},{\"attributes\":{\"fill_alpha\":0.1,\"fill_color\":\"orange\",\"x\":{\"field\":\"x\"},\"y1\":{\"field\":\"y1\"},\"y2\":{\"field\":\"y2\"}},\"id\":\"22726\",\"type\":\"VArea\"},{\"attributes\":{\"fill_alpha\":0.1,\"fill_color\":\"orange\",\"x\":{\"field\":\"x\"},\"y1\":{\"field\":\"y1\"},\"y2\":{\"field\":\"y2\"}},\"id\":\"22796\",\"type\":\"VArea\"},{\"attributes\":{},\"id\":\"24992\",\"type\":\"Selection\"},{\"attributes\":{\"line_color\":\"orange\",\"x\":{\"field\":\"x\"},\"y\":{\"field\":\"y\"}},\"id\":\"22790\",\"type\":\"Line\"},{\"attributes\":{\"fill_alpha\":0.2,\"fill_color\":\"orange\",\"x\":{\"field\":\"x\"},\"y1\":{\"field\":\"y1\"},\"y2\":{\"field\":\"y2\"}},\"id\":\"22870\",\"type\":\"VArea\"},{\"attributes\":{\"fill_alpha\":0.2,\"fill_color\":\"orange\",\"x\":{\"field\":\"x\"},\"y1\":{\"field\":\"y1\"},\"y2\":{\"field\":\"y2\"}},\"id\":\"22725\",\"type\":\"VArea\"},{\"attributes\":{\"data\":{\"x\":[0.0,0.0],\"y\":[0,0.10273275819437086]},\"selected\":{\"id\":\"25108\"},\"selection_policy\":{\"id\":\"25107\"}},\"id\":\"22789\",\"type\":\"ColumnDataSource\"},{\"attributes\":{\"line_alpha\":0.1,\"line_color\":\"orange\",\"x\":{\"field\":\"x\"},\"y\":{\"field\":\"y\"}},\"id\":\"22866\",\"type\":\"Line\"},{\"attributes\":{\"line_alpha\":0.1,\"line_color\":\"orange\",\"x\":{\"field\":\"x\"},\"y\":{\"field\":\"y\"}},\"id\":\"22721\",\"type\":\"Line\"},{\"attributes\":{\"source\":{\"id\":\"22864\"}},\"id\":\"22868\",\"type\":\"CDSView\"},{\"attributes\":{\"source\":{\"id\":\"22719\"}},\"id\":\"22723\",\"type\":\"CDSView\"},{\"attributes\":{\"line_alpha\":0.1,\"line_color\":\"orange\",\"x\":{\"field\":\"x\"},\"y\":{\"field\":\"y\"}},\"id\":\"22786\",\"type\":\"Line\"},{\"attributes\":{\"data\":{\"x\":[4.0,5.0],\"y1\":[0,0],\"y2\":[0.10273275819437086,0.10273275819437086]},\"selected\":{\"id\":\"25140\"},\"selection_policy\":{\"id\":\"25139\"}},\"id\":\"22869\",\"type\":\"ColumnDataSource\"},{\"attributes\":{\"data\":{\"x\":[5.0,6.0],\"y1\":[0,0],\"y2\":[0.10976745884748641,0.10976745884748641]},\"selected\":{\"id\":\"25090\"},\"selection_policy\":{\"id\":\"25089\"}},\"id\":\"22724\",\"type\":\"ColumnDataSource\"},{\"attributes\":{\"source\":{\"id\":\"22784\"}},\"id\":\"22788\",\"type\":\"CDSView\"},{\"attributes\":{\"source\":{\"id\":\"22869\"}},\"id\":\"22873\",\"type\":\"CDSView\"},{\"attributes\":{\"data_source\":{\"id\":\"22789\"},\"glyph\":{\"id\":\"22790\"},\"hover_glyph\":null,\"muted_glyph\":null,\"nonselection_glyph\":{\"id\":\"22791\"},\"selection_glyph\":null,\"view\":{\"id\":\"22793\"}},\"id\":\"22792\",\"type\":\"GlyphRenderer\"},{\"attributes\":{\"source\":{\"id\":\"22724\"}},\"id\":\"22728\",\"type\":\"CDSView\"},{\"attributes\":{\"fill_alpha\":0.1,\"fill_color\":\"orange\",\"x\":{\"field\":\"x\"},\"y1\":{\"field\":\"y1\"},\"y2\":{\"field\":\"y2\"}},\"id\":\"22886\",\"type\":\"VArea\"},{\"attributes\":{\"fill_alpha\":0.1,\"fill_color\":\"orange\",\"x\":{\"field\":\"x\"},\"y1\":{\"field\":\"y1\"},\"y2\":{\"field\":\"y2\"}},\"id\":\"22741\",\"type\":\"VArea\"},{\"attributes\":{\"line_color\":\"orange\",\"x\":{\"field\":\"x\"},\"y\":{\"field\":\"y\"}},\"id\":\"22800\",\"type\":\"Line\"},{\"attributes\":{\"line_color\":\"orange\",\"x\":{\"field\":\"x\"},\"y\":{\"field\":\"y\"}},\"id\":\"22880\",\"type\":\"Line\"},{\"attributes\":{\"line_color\":\"orange\",\"x\":{\"field\":\"x\"},\"y\":{\"field\":\"y\"}},\"id\":\"22735\",\"type\":\"Line\"},{\"attributes\":{},\"id\":\"24973\",\"type\":\"UnionRenderers\"},{\"attributes\":{},\"id\":\"24988\",\"type\":\"Selection\"},{\"attributes\":{\"fill_alpha\":0.2,\"fill_color\":\"orange\",\"x\":{\"field\":\"x\"},\"y1\":{\"field\":\"y1\"},\"y2\":{\"field\":\"y2\"}},\"id\":\"22795\",\"type\":\"VArea\"},{\"attributes\":{\"data\":{\"x\":[5.0,5.0],\"y\":[0,0.10273275819437086]},\"selected\":{\"id\":\"25142\"},\"selection_policy\":{\"id\":\"25141\"}},\"id\":\"22874\",\"type\":\"ColumnDataSource\"},{\"attributes\":{},\"id\":\"24974\",\"type\":\"Selection\"},{\"attributes\":{\"data_source\":{\"id\":\"22884\"},\"glyph\":{\"id\":\"22885\"},\"hover_glyph\":null,\"muted_glyph\":null,\"nonselection_glyph\":{\"id\":\"22886\"},\"selection_glyph\":null,\"view\":{\"id\":\"22888\"}},\"id\":\"22887\",\"type\":\"GlyphRenderer\"},{\"attributes\":{\"data\":{\"x\":[6.0,6.0],\"y\":[0,0.10976745884748641]},\"selected\":{\"id\":\"25092\"},\"selection_policy\":{\"id\":\"25091\"}},\"id\":\"22729\",\"type\":\"ColumnDataSource\"},{\"attributes\":{\"line_alpha\":0.1,\"line_color\":\"orange\",\"x\":{\"field\":\"x\"},\"y\":{\"field\":\"y\"}},\"id\":\"22791\",\"type\":\"Line\"},{\"attributes\":{\"data_source\":{\"id\":\"22739\"},\"glyph\":{\"id\":\"22740\"},\"hover_glyph\":null,\"muted_glyph\":null,\"nonselection_glyph\":{\"id\":\"22741\"},\"selection_glyph\":null,\"view\":{\"id\":\"22743\"}},\"id\":\"22742\",\"type\":\"GlyphRenderer\"},{\"attributes\":{\"data_source\":{\"id\":\"22874\"},\"glyph\":{\"id\":\"22875\"},\"hover_glyph\":null,\"muted_glyph\":null,\"nonselection_glyph\":{\"id\":\"22876\"},\"selection_glyph\":null,\"view\":{\"id\":\"22878\"}},\"id\":\"22877\",\"type\":\"GlyphRenderer\"},{\"attributes\":{\"source\":{\"id\":\"22789\"}},\"id\":\"22793\",\"type\":\"CDSView\"},{\"attributes\":{\"data_source\":{\"id\":\"22729\"},\"glyph\":{\"id\":\"22730\"},\"hover_glyph\":null,\"muted_glyph\":null,\"nonselection_glyph\":{\"id\":\"22731\"},\"selection_glyph\":null,\"view\":{\"id\":\"22733\"}},\"id\":\"22732\",\"type\":\"GlyphRenderer\"},{\"attributes\":{\"data\":{\"x\":[-1.0,0.0],\"y1\":[0,0],\"y2\":[0.10273275819437086,0.10273275819437086]},\"selected\":{\"id\":\"25110\"},\"selection_policy\":{\"id\":\"25109\"}},\"id\":\"22794\",\"type\":\"ColumnDataSource\"},{\"attributes\":{\"data\":{\"x\":[6.0,6.0],\"y\":[0,0.10273275819437086]},\"selected\":{\"id\":\"25144\"},\"selection_policy\":{\"id\":\"25143\"}},\"id\":\"22879\",\"type\":\"ColumnDataSource\"},{\"attributes\":{\"data\":{\"x\":[7.0,7.0],\"y\":[0,0.10976745884748641]},\"selected\":{\"id\":\"25094\"},\"selection_policy\":{\"id\":\"25093\"}},\"id\":\"22734\",\"type\":\"ColumnDataSource\"},{\"attributes\":{\"source\":{\"id\":\"22794\"}},\"id\":\"22798\",\"type\":\"CDSView\"},{\"attributes\":{\"data\":{\"x\":[0.0,1.0],\"y1\":[0,0],\"y2\":[0.10273275819437086,0.10273275819437086]},\"selected\":{\"id\":\"25116\"},\"selection_policy\":{\"id\":\"25115\"}},\"id\":\"22809\",\"type\":\"ColumnDataSource\"},{\"attributes\":{\"line_alpha\":0.1,\"line_color\":\"orange\",\"x\":{\"field\":\"x\"},\"y\":{\"field\":\"y\"}},\"id\":\"22876\",\"type\":\"Line\"},{\"attributes\":{\"line_alpha\":0.1,\"line_color\":\"orange\",\"x\":{\"field\":\"x\"},\"y\":{\"field\":\"y\"}},\"id\":\"22731\",\"type\":\"Line\"},{\"attributes\":{\"line_color\":\"orange\",\"x\":{\"field\":\"x\"},\"y\":{\"field\":\"y\"}},\"id\":\"22805\",\"type\":\"Line\"},{\"attributes\":{\"source\":{\"id\":\"22874\"}},\"id\":\"22878\",\"type\":\"CDSView\"},{\"attributes\":{\"data_source\":{\"id\":\"22879\"},\"glyph\":{\"id\":\"22880\"},\"hover_glyph\":null,\"muted_glyph\":null,\"nonselection_glyph\":{\"id\":\"22881\"},\"selection_glyph\":null,\"view\":{\"id\":\"22883\"}},\"id\":\"22882\",\"type\":\"GlyphRenderer\"},{\"attributes\":{\"source\":{\"id\":\"22729\"}},\"id\":\"22733\",\"type\":\"CDSView\"},{\"attributes\":{},\"id\":\"24989\",\"type\":\"UnionRenderers\"},{\"attributes\":{\"data_source\":{\"id\":\"22734\"},\"glyph\":{\"id\":\"22735\"},\"hover_glyph\":null,\"muted_glyph\":null,\"nonselection_glyph\":{\"id\":\"22736\"},\"selection_glyph\":null,\"view\":{\"id\":\"22738\"}},\"id\":\"22737\",\"type\":\"GlyphRenderer\"},{\"attributes\":{\"data\":{\"x\":[0.0,0.0],\"y\":[0,0.10273275819437086]},\"selected\":{\"id\":\"25112\"},\"selection_policy\":{\"id\":\"25111\"}},\"id\":\"22799\",\"type\":\"ColumnDataSource\"},{\"attributes\":{\"line_color\":\"orange\",\"x\":{\"field\":\"x\"},\"y\":{\"field\":\"y\"}},\"id\":\"22890\",\"type\":\"Line\"},{\"attributes\":{\"data_source\":{\"id\":\"22809\"},\"glyph\":{\"id\":\"22810\"},\"hover_glyph\":null,\"muted_glyph\":null,\"nonselection_glyph\":{\"id\":\"22811\"},\"selection_glyph\":null,\"view\":{\"id\":\"22813\"}},\"id\":\"22812\",\"type\":\"GlyphRenderer\"},{\"attributes\":{\"line_color\":\"orange\",\"x\":{\"field\":\"x\"},\"y\":{\"field\":\"y\"}},\"id\":\"22745\",\"type\":\"Line\"},{\"attributes\":{},\"id\":\"24975\",\"type\":\"UnionRenderers\"},{\"attributes\":{\"data_source\":{\"id\":\"22799\"},\"glyph\":{\"id\":\"22800\"},\"hover_glyph\":null,\"muted_glyph\":null,\"nonselection_glyph\":{\"id\":\"22801\"},\"selection_glyph\":null,\"view\":{\"id\":\"22803\"}},\"id\":\"22802\",\"type\":\"GlyphRenderer\"},{\"attributes\":{\"fill_alpha\":0.2,\"fill_color\":\"orange\",\"x\":{\"field\":\"x\"},\"y1\":{\"field\":\"y1\"},\"y2\":{\"field\":\"y2\"}},\"id\":\"22885\",\"type\":\"VArea\"},{\"attributes\":{},\"id\":\"24990\",\"type\":\"Selection\"},{\"attributes\":{\"fill_alpha\":0.2,\"fill_color\":\"orange\",\"x\":{\"field\":\"x\"},\"y1\":{\"field\":\"y1\"},\"y2\":{\"field\":\"y2\"}},\"id\":\"22740\",\"type\":\"VArea\"},{\"attributes\":{\"data\":{\"x\":[1.0,1.0],\"y\":[0,0.10273275819437086]},\"selected\":{\"id\":\"25114\"},\"selection_policy\":{\"id\":\"25113\"}},\"id\":\"22804\",\"type\":\"ColumnDataSource\"},{\"attributes\":{\"line_alpha\":0.1,\"line_color\":\"orange\",\"x\":{\"field\":\"x\"},\"y\":{\"field\":\"y\"}},\"id\":\"22881\",\"type\":\"Line\"},{\"attributes\":{\"line_alpha\":0.1,\"line_color\":\"orange\",\"x\":{\"field\":\"x\"},\"y\":{\"field\":\"y\"}},\"id\":\"22736\",\"type\":\"Line\"},{\"attributes\":{\"source\":{\"id\":\"22879\"}},\"id\":\"22883\",\"type\":\"CDSView\"},{\"attributes\":{},\"id\":\"24976\",\"type\":\"Selection\"},{\"attributes\":{\"source\":{\"id\":\"22734\"}},\"id\":\"22738\",\"type\":\"CDSView\"},{\"attributes\":{\"line_alpha\":0.1,\"line_color\":\"orange\",\"x\":{\"field\":\"x\"},\"y\":{\"field\":\"y\"}},\"id\":\"22801\",\"type\":\"Line\"},{\"attributes\":{\"data\":{\"x\":[5.0,6.0],\"y1\":[0,0],\"y2\":[0.10273275819437086,0.10273275819437086]},\"selected\":{\"id\":\"25146\"},\"selection_policy\":{\"id\":\"25145\"}},\"id\":\"22884\",\"type\":\"ColumnDataSource\"},{\"attributes\":{\"data\":{\"x\":[6.0,7.0],\"y1\":[0,0],\"y2\":[0.10976745884748641,0.10976745884748641]},\"selected\":{\"id\":\"25096\"},\"selection_policy\":{\"id\":\"25095\"}},\"id\":\"22739\",\"type\":\"ColumnDataSource\"},{\"attributes\":{\"source\":{\"id\":\"22799\"}},\"id\":\"22803\",\"type\":\"CDSView\"},{\"attributes\":{\"source\":{\"id\":\"22884\"}},\"id\":\"22888\",\"type\":\"CDSView\"},{\"attributes\":{\"data_source\":{\"id\":\"22804\"},\"glyph\":{\"id\":\"22805\"},\"hover_glyph\":null,\"muted_glyph\":null,\"nonselection_glyph\":{\"id\":\"22806\"},\"selection_glyph\":null,\"view\":{\"id\":\"22808\"}},\"id\":\"22807\",\"type\":\"GlyphRenderer\"},{\"attributes\":{\"source\":{\"id\":\"22739\"}},\"id\":\"22743\",\"type\":\"CDSView\"},{\"attributes\":{\"fill_alpha\":0.1,\"fill_color\":\"orange\",\"x\":{\"field\":\"x\"},\"y1\":{\"field\":\"y1\"},\"y2\":{\"field\":\"y2\"}},\"id\":\"22901\",\"type\":\"VArea\"},{\"attributes\":{\"fill_alpha\":0.1,\"fill_color\":\"orange\",\"x\":{\"field\":\"x\"},\"y1\":{\"field\":\"y1\"},\"y2\":{\"field\":\"y2\"}},\"id\":\"22756\",\"type\":\"VArea\"},{\"attributes\":{\"fill_alpha\":0.2,\"fill_color\":\"orange\",\"x\":{\"field\":\"x\"},\"y1\":{\"field\":\"y1\"},\"y2\":{\"field\":\"y2\"}},\"id\":\"22810\",\"type\":\"VArea\"},{\"attributes\":{\"line_color\":\"orange\",\"x\":{\"field\":\"x\"},\"y\":{\"field\":\"y\"}},\"id\":\"22895\",\"type\":\"Line\"},{\"attributes\":{\"line_color\":\"orange\",\"x\":{\"field\":\"x\"},\"y\":{\"field\":\"y\"}},\"id\":\"22750\",\"type\":\"Line\"},{\"attributes\":{\"fill_alpha\":0.1,\"fill_color\":\"orange\",\"x\":{\"field\":\"x\"},\"y1\":{\"field\":\"y1\"},\"y2\":{\"field\":\"y2\"}},\"id\":\"22811\",\"type\":\"VArea\"},{\"attributes\":{\"data\":{\"x\":[6.0,6.0],\"y\":[0,0.10273275819437086]},\"selected\":{\"id\":\"25148\"},\"selection_policy\":{\"id\":\"25147\"}},\"id\":\"22889\",\"type\":\"ColumnDataSource\"},{\"attributes\":{\"data_source\":{\"id\":\"22899\"},\"glyph\":{\"id\":\"22900\"},\"hover_glyph\":null,\"muted_glyph\":null,\"nonselection_glyph\":{\"id\":\"22901\"},\"selection_glyph\":null,\"view\":{\"id\":\"22903\"}},\"id\":\"22902\",\"type\":\"GlyphRenderer\"},{\"attributes\":{\"data\":{\"x\":[7.0,7.0],\"y\":[0,0.10976745884748641]},\"selected\":{\"id\":\"25098\"},\"selection_policy\":{\"id\":\"25097\"}},\"id\":\"22744\",\"type\":\"ColumnDataSource\"},{\"attributes\":{\"line_alpha\":0.1,\"line_color\":\"orange\",\"x\":{\"field\":\"x\"},\"y\":{\"field\":\"y\"}},\"id\":\"22806\",\"type\":\"Line\"},{\"attributes\":{\"data_source\":{\"id\":\"22754\"},\"glyph\":{\"id\":\"22755\"},\"hover_glyph\":null,\"muted_glyph\":null,\"nonselection_glyph\":{\"id\":\"22756\"},\"selection_glyph\":null,\"view\":{\"id\":\"22758\"}},\"id\":\"22757\",\"type\":\"GlyphRenderer\"},{\"attributes\":{\"data_source\":{\"id\":\"22889\"},\"glyph\":{\"id\":\"22890\"},\"hover_glyph\":null,\"muted_glyph\":null,\"nonselection_glyph\":{\"id\":\"22891\"},\"selection_glyph\":null,\"view\":{\"id\":\"22893\"}},\"id\":\"22892\",\"type\":\"GlyphRenderer\"},{\"attributes\":{\"source\":{\"id\":\"22804\"}},\"id\":\"22808\",\"type\":\"CDSView\"},{\"attributes\":{\"data_source\":{\"id\":\"22744\"},\"glyph\":{\"id\":\"22745\"},\"hover_glyph\":null,\"muted_glyph\":null,\"nonselection_glyph\":{\"id\":\"22746\"},\"selection_glyph\":null,\"view\":{\"id\":\"22748\"}},\"id\":\"22747\",\"type\":\"GlyphRenderer\"},{\"attributes\":{\"line_color\":\"orange\",\"x\":{\"field\":\"x\"},\"y\":{\"field\":\"y\"}},\"id\":\"22815\",\"type\":\"Line\"},{\"attributes\":{\"data\":{\"x\":[7.0,7.0],\"y\":[0,0.10273275819437086]},\"selected\":{\"id\":\"25150\"},\"selection_policy\":{\"id\":\"25149\"}},\"id\":\"22894\",\"type\":\"ColumnDataSource\"},{\"attributes\":{\"data\":{\"x\":[8.0,8.0],\"y\":[0,0.10976745884748641]},\"selected\":{\"id\":\"25100\"},\"selection_policy\":{\"id\":\"25099\"}},\"id\":\"22749\",\"type\":\"ColumnDataSource\"},{\"attributes\":{\"source\":{\"id\":\"22809\"}},\"id\":\"22813\",\"type\":\"CDSView\"},{\"attributes\":{},\"id\":\"24977\",\"type\":\"UnionRenderers\"},{\"attributes\":{\"data\":{\"x\":[1.0,1.0],\"y\":[0,0.10273275819437086]},\"selected\":{\"id\":\"25118\"},\"selection_policy\":{\"id\":\"25117\"}},\"id\":\"22814\",\"type\":\"ColumnDataSource\"},{\"attributes\":{\"line_alpha\":0.1,\"line_color\":\"orange\",\"x\":{\"field\":\"x\"},\"y\":{\"field\":\"y\"}},\"id\":\"22891\",\"type\":\"Line\"},{\"attributes\":{},\"id\":\"24978\",\"type\":\"Selection\"},{\"attributes\":{\"line_alpha\":0.1,\"line_color\":\"orange\",\"x\":{\"field\":\"x\"},\"y\":{\"field\":\"y\"}},\"id\":\"22746\",\"type\":\"Line\"},{\"attributes\":{\"line_color\":\"orange\",\"x\":{\"field\":\"x\"},\"y\":{\"field\":\"y\"}},\"id\":\"22820\",\"type\":\"Line\"},{\"attributes\":{\"source\":{\"id\":\"22889\"}},\"id\":\"22893\",\"type\":\"CDSView\"},{\"attributes\":{\"data_source\":{\"id\":\"22824\"},\"glyph\":{\"id\":\"22825\"},\"hover_glyph\":null,\"muted_glyph\":null,\"nonselection_glyph\":{\"id\":\"22826\"},\"selection_glyph\":null,\"view\":{\"id\":\"22828\"}},\"id\":\"22827\",\"type\":\"GlyphRenderer\"},{\"attributes\":{\"data_source\":{\"id\":\"22894\"},\"glyph\":{\"id\":\"22895\"},\"hover_glyph\":null,\"muted_glyph\":null,\"nonselection_glyph\":{\"id\":\"22896\"},\"selection_glyph\":null,\"view\":{\"id\":\"22898\"}},\"id\":\"22897\",\"type\":\"GlyphRenderer\"},{\"attributes\":{\"source\":{\"id\":\"22744\"}},\"id\":\"22748\",\"type\":\"CDSView\"},{\"attributes\":{\"data_source\":{\"id\":\"22749\"},\"glyph\":{\"id\":\"22750\"},\"hover_glyph\":null,\"muted_glyph\":null,\"nonselection_glyph\":{\"id\":\"22751\"},\"selection_glyph\":null,\"view\":{\"id\":\"22753\"}},\"id\":\"22752\",\"type\":\"GlyphRenderer\"},{\"attributes\":{\"data_source\":{\"id\":\"22814\"},\"glyph\":{\"id\":\"22815\"},\"hover_glyph\":null,\"muted_glyph\":null,\"nonselection_glyph\":{\"id\":\"22816\"},\"selection_glyph\":null,\"view\":{\"id\":\"22818\"}},\"id\":\"22817\",\"type\":\"GlyphRenderer\"},{\"attributes\":{\"line_color\":\"orange\",\"x\":{\"field\":\"x\"},\"y\":{\"field\":\"y\"}},\"id\":\"22905\",\"type\":\"Line\"},{\"attributes\":{},\"id\":\"22771\",\"type\":\"BasicTicker\"},{\"attributes\":{\"fill_alpha\":0.1,\"fill_color\":\"orange\",\"x\":{\"field\":\"x\"},\"y1\":{\"field\":\"y1\"},\"y2\":{\"field\":\"y2\"}},\"id\":\"22826\",\"type\":\"VArea\"},{\"attributes\":{},\"id\":\"24991\",\"type\":\"UnionRenderers\"},{\"attributes\":{\"fill_alpha\":0.2,\"fill_color\":\"orange\",\"x\":{\"field\":\"x\"},\"y1\":{\"field\":\"y1\"},\"y2\":{\"field\":\"y2\"}},\"id\":\"22900\",\"type\":\"VArea\"},{\"attributes\":{\"fill_alpha\":0.2,\"fill_color\":\"orange\",\"x\":{\"field\":\"x\"},\"y1\":{\"field\":\"y1\"},\"y2\":{\"field\":\"y2\"}},\"id\":\"22755\",\"type\":\"VArea\"},{\"attributes\":{\"data\":{\"x\":[2.0,2.0],\"y\":[0,0.10273275819437086]},\"selected\":{\"id\":\"25120\"},\"selection_policy\":{\"id\":\"25119\"}},\"id\":\"22819\",\"type\":\"ColumnDataSource\"},{\"attributes\":{\"line_alpha\":0.1,\"line_color\":\"orange\",\"x\":{\"field\":\"x\"},\"y\":{\"field\":\"y\"}},\"id\":\"22896\",\"type\":\"Line\"},{\"attributes\":{},\"id\":\"24920\",\"type\":\"BasicTickFormatter\"},{\"attributes\":{\"line_alpha\":0.1,\"line_color\":\"orange\",\"x\":{\"field\":\"x\"},\"y\":{\"field\":\"y\"}},\"id\":\"22751\",\"type\":\"Line\"},{\"attributes\":{\"source\":{\"id\":\"22894\"}},\"id\":\"22898\",\"type\":\"CDSView\"},{\"attributes\":{\"source\":{\"id\":\"22749\"}},\"id\":\"22753\",\"type\":\"CDSView\"},{\"attributes\":{\"line_alpha\":0.1,\"line_color\":\"orange\",\"x\":{\"field\":\"x\"},\"y\":{\"field\":\"y\"}},\"id\":\"22816\",\"type\":\"Line\"},{\"attributes\":{\"data\":{\"x\":[6.0,7.0],\"y1\":[0,0],\"y2\":[0.10273275819437086,0.10273275819437086]},\"selected\":{\"id\":\"25152\"},\"selection_policy\":{\"id\":\"25151\"}},\"id\":\"22899\",\"type\":\"ColumnDataSource\"},{\"attributes\":{\"data\":{\"x\":[7.0,8.0],\"y1\":[0,0],\"y2\":[0.10976745884748641,0.10976745884748641]},\"selected\":{\"id\":\"25102\"},\"selection_policy\":{\"id\":\"25101\"}},\"id\":\"22754\",\"type\":\"ColumnDataSource\"},{\"attributes\":{\"source\":{\"id\":\"22814\"}},\"id\":\"22818\",\"type\":\"CDSView\"},{\"attributes\":{\"source\":{\"id\":\"22899\"}},\"id\":\"22903\",\"type\":\"CDSView\"},{\"attributes\":{\"data_source\":{\"id\":\"22819\"},\"glyph\":{\"id\":\"22820\"},\"hover_glyph\":null,\"muted_glyph\":null,\"nonselection_glyph\":{\"id\":\"22821\"},\"selection_glyph\":null,\"view\":{\"id\":\"22823\"}},\"id\":\"22822\",\"type\":\"GlyphRenderer\"},{\"attributes\":{\"source\":{\"id\":\"22754\"}},\"id\":\"22758\",\"type\":\"CDSView\"},{\"attributes\":{\"fill_alpha\":0.1,\"fill_color\":\"orange\",\"x\":{\"field\":\"x\"},\"y1\":{\"field\":\"y1\"},\"y2\":{\"field\":\"y2\"}},\"id\":\"22916\",\"type\":\"VArea\"},{\"attributes\":{},\"id\":\"22762\",\"type\":\"DataRange1d\"},{\"attributes\":{\"line_color\":\"orange\",\"x\":{\"field\":\"x\"},\"y\":{\"field\":\"y\"}},\"id\":\"22830\",\"type\":\"Line\"},{\"attributes\":{\"line_color\":\"orange\",\"x\":{\"field\":\"x\"},\"y\":{\"field\":\"y\"}},\"id\":\"22910\",\"type\":\"Line\"},{\"attributes\":{},\"id\":\"22764\",\"type\":\"DataRange1d\"},{\"attributes\":{},\"id\":\"24979\",\"type\":\"UnionRenderers\"},{\"attributes\":{},\"id\":\"24980\",\"type\":\"Selection\"},{\"attributes\":{\"axis_label\":\"density\",\"formatter\":{\"id\":\"24928\"},\"ticker\":{\"id\":\"22775\"}},\"id\":\"22774\",\"type\":\"LinearAxis\"},{\"attributes\":{\"fill_alpha\":0.2,\"fill_color\":\"orange\",\"x\":{\"field\":\"x\"},\"y1\":{\"field\":\"y1\"},\"y2\":{\"field\":\"y2\"}},\"id\":\"22825\",\"type\":\"VArea\"},{\"attributes\":{\"data\":{\"x\":[7.0,7.0],\"y\":[0,0.10273275819437086]},\"selected\":{\"id\":\"25154\"},\"selection_policy\":{\"id\":\"25153\"}},\"id\":\"22904\",\"type\":\"ColumnDataSource\"},{\"attributes\":{\"data_source\":{\"id\":\"22914\"},\"glyph\":{\"id\":\"22915\"},\"hover_glyph\":null,\"muted_glyph\":null,\"nonselection_glyph\":{\"id\":\"22916\"},\"selection_glyph\":null,\"view\":{\"id\":\"22918\"}},\"id\":\"22917\",\"type\":\"GlyphRenderer\"},{\"attributes\":{\"bottom\":{\"value\":0},\"fill_alpha\":{\"value\":0.1},\"fill_color\":{\"value\":\"navy\"},\"left\":{\"field\":\"left\"},\"line_alpha\":{\"value\":0.1},\"line_color\":{\"value\":\"white\"},\"right\":{\"field\":\"right\"},\"top\":{\"field\":\"top\"}},\"id\":\"22781\",\"type\":\"Quad\"},{\"attributes\":{\"line_alpha\":0.1,\"line_color\":\"orange\",\"x\":{\"field\":\"x\"},\"y\":{\"field\":\"y\"}},\"id\":\"22821\",\"type\":\"Line\"},{\"attributes\":{\"data_source\":{\"id\":\"22904\"},\"glyph\":{\"id\":\"22905\"},\"hover_glyph\":null,\"muted_glyph\":null,\"nonselection_glyph\":{\"id\":\"22906\"},\"selection_glyph\":null,\"view\":{\"id\":\"22908\"}},\"id\":\"22907\",\"type\":\"GlyphRenderer\"},{\"attributes\":{},\"id\":\"24922\",\"type\":\"BasicTickFormatter\"},{\"attributes\":{\"source\":{\"id\":\"22819\"}},\"id\":\"22823\",\"type\":\"CDSView\"},{\"attributes\":{\"text\":\"mutations = 5\"},\"id\":\"22760\",\"type\":\"Title\"},{\"attributes\":{\"data\":{\"x\":[1.0,2.0],\"y1\":[0,0],\"y2\":[0.10273275819437086,0.10273275819437086]},\"selected\":{\"id\":\"25122\"},\"selection_policy\":{\"id\":\"25121\"}},\"id\":\"22824\",\"type\":\"ColumnDataSource\"},{\"attributes\":{\"data\":{\"x\":[8.0,8.0],\"y\":[0,0.10273275819437086]},\"selected\":{\"id\":\"25156\"},\"selection_policy\":{\"id\":\"25155\"}},\"id\":\"22909\",\"type\":\"ColumnDataSource\"},{\"attributes\":{\"axis_label\":\"\\u0394E [k_BT]\",\"formatter\":{\"id\":\"24930\"},\"ticker\":{\"id\":\"22771\"}},\"id\":\"22770\",\"type\":\"LinearAxis\"},{\"attributes\":{\"source\":{\"id\":\"22824\"}},\"id\":\"22828\",\"type\":\"CDSView\"},{\"attributes\":{},\"id\":\"24993\",\"type\":\"UnionRenderers\"},{\"attributes\":{},\"id\":\"22766\",\"type\":\"LinearScale\"},{\"attributes\":{\"fill_alpha\":0.1,\"fill_color\":\"orange\",\"x\":{\"field\":\"x\"},\"y1\":{\"field\":\"y1\"},\"y2\":{\"field\":\"y2\"}},\"id\":\"22841\",\"type\":\"VArea\"},{\"attributes\":{\"line_alpha\":0.1,\"line_color\":\"orange\",\"x\":{\"field\":\"x\"},\"y\":{\"field\":\"y\"}},\"id\":\"22906\",\"type\":\"Line\"},{\"attributes\":{},\"id\":\"22775\",\"type\":\"BasicTicker\"},{\"attributes\":{\"line_color\":\"orange\",\"x\":{\"field\":\"x\"},\"y\":{\"field\":\"y\"}},\"id\":\"22835\",\"type\":\"Line\"},{\"attributes\":{\"source\":{\"id\":\"22904\"}},\"id\":\"22908\",\"type\":\"CDSView\"},{\"attributes\":{},\"id\":\"22768\",\"type\":\"LinearScale\"},{\"attributes\":{\"data_source\":{\"id\":\"22909\"},\"glyph\":{\"id\":\"22910\"},\"hover_glyph\":null,\"muted_glyph\":null,\"nonselection_glyph\":{\"id\":\"22911\"},\"selection_glyph\":null,\"view\":{\"id\":\"22913\"}},\"id\":\"22912\",\"type\":\"GlyphRenderer\"},{\"attributes\":{},\"id\":\"24994\",\"type\":\"Selection\"},{\"attributes\":{\"axis\":{\"id\":\"22770\"},\"ticker\":null},\"id\":\"22773\",\"type\":\"Grid\"},{\"attributes\":{\"data\":{\"x\":[2.0,2.0],\"y\":[0,0.10273275819437086]},\"selected\":{\"id\":\"25124\"},\"selection_policy\":{\"id\":\"25123\"}},\"id\":\"22829\",\"type\":\"ColumnDataSource\"},{\"attributes\":{},\"id\":\"22931\",\"type\":\"BasicTicker\"},{\"attributes\":{\"data_source\":{\"id\":\"22839\"},\"glyph\":{\"id\":\"22840\"},\"hover_glyph\":null,\"muted_glyph\":null,\"nonselection_glyph\":{\"id\":\"22841\"},\"selection_glyph\":null,\"view\":{\"id\":\"22843\"}},\"id\":\"22842\",\"type\":\"GlyphRenderer\"},{\"attributes\":{},\"id\":\"24981\",\"type\":\"UnionRenderers\"},{\"attributes\":{\"data_source\":{\"id\":\"22829\"},\"glyph\":{\"id\":\"22830\"},\"hover_glyph\":null,\"muted_glyph\":null,\"nonselection_glyph\":{\"id\":\"22831\"},\"selection_glyph\":null,\"view\":{\"id\":\"22833\"}},\"id\":\"22832\",\"type\":\"GlyphRenderer\"},{\"attributes\":{\"fill_alpha\":0.2,\"fill_color\":\"orange\",\"x\":{\"field\":\"x\"},\"y1\":{\"field\":\"y1\"},\"y2\":{\"field\":\"y2\"}},\"id\":\"22915\",\"type\":\"VArea\"},{\"attributes\":{},\"id\":\"24982\",\"type\":\"Selection\"},{\"attributes\":{\"data\":{\"x\":[3.0,3.0],\"y\":[0,0.10273275819437086]},\"selected\":{\"id\":\"25126\"},\"selection_policy\":{\"id\":\"25125\"}},\"id\":\"22834\",\"type\":\"ColumnDataSource\"},{\"attributes\":{\"line_alpha\":0.1,\"line_color\":\"orange\",\"x\":{\"field\":\"x\"},\"y\":{\"field\":\"y\"}},\"id\":\"22911\",\"type\":\"Line\"},{\"attributes\":{\"axis\":{\"id\":\"22774\"},\"dimension\":1,\"ticker\":null},\"id\":\"22777\",\"type\":\"Grid\"},{\"attributes\":{\"source\":{\"id\":\"22909\"}},\"id\":\"22913\",\"type\":\"CDSView\"},{\"attributes\":{\"data_source\":{\"id\":\"22779\"},\"glyph\":{\"id\":\"22780\"},\"hover_glyph\":null,\"muted_glyph\":null,\"nonselection_glyph\":{\"id\":\"22781\"},\"selection_glyph\":null,\"view\":{\"id\":\"22783\"}},\"id\":\"22782\",\"type\":\"GlyphRenderer\"},{\"attributes\":{\"line_alpha\":0.1,\"line_color\":\"orange\",\"x\":{\"field\":\"x\"},\"y\":{\"field\":\"y\"}},\"id\":\"22831\",\"type\":\"Line\"},{\"attributes\":{\"data\":{\"x\":[7.0,8.0],\"y1\":[0,0],\"y2\":[0.10273275819437086,0.10273275819437086]},\"selected\":{\"id\":\"25158\"},\"selection_policy\":{\"id\":\"25157\"}},\"id\":\"22914\",\"type\":\"ColumnDataSource\"},{\"attributes\":{\"active_drag\":\"auto\",\"active_inspect\":\"auto\",\"active_multi\":null,\"active_scroll\":\"auto\",\"active_tap\":\"auto\"},\"id\":\"22778\",\"type\":\"Toolbar\"},{\"attributes\":{\"source\":{\"id\":\"22829\"}},\"id\":\"22833\",\"type\":\"CDSView\"},{\"attributes\":{\"source\":{\"id\":\"22914\"}},\"id\":\"22918\",\"type\":\"CDSView\"},{\"attributes\":{\"data_source\":{\"id\":\"22834\"},\"glyph\":{\"id\":\"22835\"},\"hover_glyph\":null,\"muted_glyph\":null,\"nonselection_glyph\":{\"id\":\"22836\"},\"selection_glyph\":null,\"view\":{\"id\":\"22838\"}},\"id\":\"22837\",\"type\":\"GlyphRenderer\"},{\"attributes\":{},\"id\":\"22922\",\"type\":\"DataRange1d\"},{\"attributes\":{\"source\":{\"id\":\"22779\"}},\"id\":\"22783\",\"type\":\"CDSView\"},{\"attributes\":{\"data_source\":{\"id\":\"22864\"},\"glyph\":{\"id\":\"22865\"},\"hover_glyph\":null,\"muted_glyph\":null,\"nonselection_glyph\":{\"id\":\"22866\"},\"selection_glyph\":null,\"view\":{\"id\":\"22868\"}},\"id\":\"22867\",\"type\":\"GlyphRenderer\"},{\"attributes\":{},\"id\":\"22924\",\"type\":\"DataRange1d\"},{\"attributes\":{\"data\":{\"x\":[3.0,3.0],\"y\":[0,0.10273275819437086]},\"selected\":{\"id\":\"25130\"},\"selection_policy\":{\"id\":\"25129\"}},\"id\":\"22844\",\"type\":\"ColumnDataSource\"},{\"attributes\":{\"axis_label\":\"density\",\"formatter\":{\"id\":\"24932\"},\"ticker\":{\"id\":\"22935\"}},\"id\":\"22934\",\"type\":\"LinearAxis\"},{\"attributes\":{\"line_alpha\":0.1,\"line_color\":\"orange\",\"x\":{\"field\":\"x\"},\"y\":{\"field\":\"y\"}},\"id\":\"22846\",\"type\":\"Line\"},{\"attributes\":{},\"id\":\"24995\",\"type\":\"UnionRenderers\"},{\"attributes\":{\"fill_alpha\":0.2,\"fill_color\":\"orange\",\"x\":{\"field\":\"x\"},\"y1\":{\"field\":\"y1\"},\"y2\":{\"field\":\"y2\"}},\"id\":\"22840\",\"type\":\"VArea\"},{\"attributes\":{\"data\":{\"x\":[4.0,4.0],\"y\":[0,0.10273275819437086]},\"selected\":{\"id\":\"25132\"},\"selection_policy\":{\"id\":\"25131\"}},\"id\":\"22849\",\"type\":\"ColumnDataSource\"},{\"attributes\":{\"data\":{\"left\":{\"__ndarray__\":\"mPCmti97zr9UwE6NNpfYPz0+fD0BG/A/Zcyk1zQQ+j9GreY4tAICQFr0+gVO/QZAbjsP0+f3C0BBwRHQQHkQQMvkm7aN9hJAVQgmndpzFUDfK7CDJ/EXQGlPOmp0bhpA83LEUMHrHEB9lk43DmkfQARd7I4t8yBAyW4xAtQxIkCOgHZ1enAjQFOSu+ggryRAGKQAXMftJUDdtUXPbSwnQKLHikIUayhAZ9nPtbqpKUAs6xQpYegqQPH8WZwHJyxAtg6fD65lLUB7IOSCVKQuQEAyKfb64i9AAyK3tNCQMEDlqlnuIzAxQMcz/Cd3zzFAqryeYcpuMkCNRUGbHQ4zQG/O49RwrTNAUVeGDsRMNEA04ChIF+w0QBdpy4FqizVA+fFtu70qNkDbehD1EMo2QL4Dsy5kaTdAoYxVaLcIOECDFfihCqg4QGWemttdRzlASCc9FbHmOUArsN9OBIY6QA05gohXJTtA78EkwqrEO0DSSsf7/WM8QLXTaTVRAz1Al1wMb6SiPUB55a6o90E+QA==\",\"dtype\":\"float64\",\"shape\":[50]},\"right\":{\"__ndarray__\":\"VMBOjTaX2D89Pnw9ARvwP2XMpNc0EPo/Rq3mOLQCAkBa9PoFTv0GQG47D9Pn9wtAQcER0EB5EEDL5Ju2jfYSQFUIJp3acxVA3yuwgyfxF0BpTzpqdG4aQPNyxFDB6xxAfZZONw5pH0AEXeyOLfMgQMluMQLUMSJAjoB2dXpwI0BTkrvoIK8kQBikAFzH7SVA3bVFz20sJ0Cix4pCFGsoQGfZz7W6qSlALOsUKWHoKkDx/FmcBycsQLYOnw+uZS1AeyDkglSkLkBAMin2+uIvQAMit7TQkDBA5apZ7iMwMUDHM/wnd88xQKq8nmHKbjJAjUVBmx0OM0BvzuPUcK0zQFFXhg7ETDRANOAoSBfsNEAXacuBaos1QPnxbbu9KjZA23oQ9RDKNkC+A7MuZGk3QKGMVWi3CDhAgxX4oQqoOEBlnprbXUc5QEgnPRWx5jlAK7DfTgSGOkANOYKIVyU7QO/BJMKqxDtA0krH+/1jPEC102k1UQM9QJdcDG+koj1AeeWuqPdBPkBcblHiSuE+QA==\",\"dtype\":\"float64\",\"shape\":[50]},\"top\":{\"__ndarray__\":\"MBxK5W3e8D4wHErlbd4QP0gq79ekTSk/mbAdES+BQz8SbXRUYWVRPx70xs38nGU/MBxK5W3ecD/eooq+ABSAP7LcYsE5wYc/r+nR01YqkT9+Enkr2W+WP7vv9Dg9qJ4/ieAauN24oj+mTGJ8KZmnPx5XV3bPC6w/YUiTFAKcsD/gI7skp1OyP9Fv+A7OYrQ/nzTfANC8tj9veyYWJtO3PzfnWzppsbc/eOOnwk43uD+VdQ1TNVy4P5o/7piRLLc/9r//j6Frtj96LFiiBMi0P96ALTkOSLI/zjs1UPyusD+aMBo7nsatP7gXeFCu6ak/bBJ5K9lvpj9N7Ew+v6ahP30gFc4LXpw/5b//j6Frlj/wp4CT0QyRP+bSiLeg0Yo/RC17kCRGgz9cYBfiTP58P1OBQ1igx3I/N+dXu98zbD8gbXRUYWVhP4iwHREvgVM/uW2YlHJpSz9rUnLvFY9EP5mImvm9Pzg/NCrv16RNKT8ro5xeCRYVPz4cSuVt3hA/AAAAAAAAAAAjHErlbd4APw==\",\"dtype\":\"float64\",\"shape\":[50]}},\"selected\":{\"id\":\"25160\"},\"selection_policy\":{\"id\":\"25159\"}},\"id\":\"22939\",\"type\":\"ColumnDataSource\"},{\"attributes\":{\"data_source\":{\"id\":\"22844\"},\"glyph\":{\"id\":\"22845\"},\"hover_glyph\":null,\"muted_glyph\":null,\"nonselection_glyph\":{\"id\":\"22846\"},\"selection_glyph\":null,\"view\":{\"id\":\"22848\"}},\"id\":\"22847\",\"type\":\"GlyphRenderer\"},{\"attributes\":{\"line_alpha\":0.1,\"line_color\":\"orange\",\"x\":{\"field\":\"x\"},\"y\":{\"field\":\"y\"}},\"id\":\"22836\",\"type\":\"Line\"},{\"attributes\":{\"bottom\":{\"value\":0},\"fill_alpha\":{\"value\":0.5},\"fill_color\":{\"value\":\"navy\"},\"left\":{\"field\":\"left\"},\"line_alpha\":{\"value\":0.5},\"line_color\":{\"value\":\"white\"},\"right\":{\"field\":\"right\"},\"top\":{\"field\":\"top\"}},\"id\":\"22940\",\"type\":\"Quad\"},{\"attributes\":{\"data_source\":{\"id\":\"22849\"},\"glyph\":{\"id\":\"22850\"},\"hover_glyph\":null,\"muted_glyph\":null,\"nonselection_glyph\":{\"id\":\"22851\"},\"selection_glyph\":null,\"view\":{\"id\":\"22853\"}},\"id\":\"22852\",\"type\":\"GlyphRenderer\"},{\"attributes\":{\"text\":\"mutations = 6\"},\"id\":\"22920\",\"type\":\"Title\"},{\"attributes\":{\"source\":{\"id\":\"22834\"}},\"id\":\"22838\",\"type\":\"CDSView\"},{\"attributes\":{\"axis_label\":\"\\u0394E [k_BT]\",\"formatter\":{\"id\":\"24934\"},\"ticker\":{\"id\":\"22931\"}},\"id\":\"22930\",\"type\":\"LinearAxis\"},{\"attributes\":{\"data\":{\"x\":[2.0,3.0],\"y1\":[0,0],\"y2\":[0.10273275819437086,0.10273275819437086]},\"selected\":{\"id\":\"25128\"},\"selection_policy\":{\"id\":\"25127\"}},\"id\":\"22839\",\"type\":\"ColumnDataSource\"},{\"attributes\":{},\"id\":\"24983\",\"type\":\"UnionRenderers\"},{\"attributes\":{},\"id\":\"22926\",\"type\":\"LinearScale\"},{\"attributes\":{\"source\":{\"id\":\"22844\"}},\"id\":\"22848\",\"type\":\"CDSView\"},{\"attributes\":{\"fill_alpha\":0.2,\"fill_color\":\"orange\",\"x\":{\"field\":\"x\"},\"y1\":{\"field\":\"y1\"},\"y2\":{\"field\":\"y2\"}},\"id\":\"22855\",\"type\":\"VArea\"},{\"attributes\":{\"line_color\":\"orange\",\"x\":{\"field\":\"x\"},\"y\":{\"field\":\"y\"}},\"id\":\"22850\",\"type\":\"Line\"},{\"attributes\":{\"data\":{\"x\":[3.0,4.0],\"y1\":[0,0],\"y2\":[0.10273275819437086,0.10273275819437086]},\"selected\":{\"id\":\"25134\"},\"selection_policy\":{\"id\":\"25133\"}},\"id\":\"22854\",\"type\":\"ColumnDataSource\"},{\"attributes\":{},\"id\":\"22935\",\"type\":\"BasicTicker\"},{\"attributes\":{},\"id\":\"22928\",\"type\":\"LinearScale\"},{\"attributes\":{\"line_alpha\":0.1,\"line_color\":\"orange\",\"x\":{\"field\":\"x\"},\"y\":{\"field\":\"y\"}},\"id\":\"22851\",\"type\":\"Line\"},{\"attributes\":{\"source\":{\"id\":\"22859\"}},\"id\":\"22863\",\"type\":\"CDSView\"},{\"attributes\":{\"data_source\":{\"id\":\"22854\"},\"glyph\":{\"id\":\"22855\"},\"hover_glyph\":null,\"muted_glyph\":null,\"nonselection_glyph\":{\"id\":\"22856\"},\"selection_glyph\":null,\"view\":{\"id\":\"22858\"}},\"id\":\"22857\",\"type\":\"GlyphRenderer\"},{\"attributes\":{\"axis\":{\"id\":\"22930\"},\"ticker\":null},\"id\":\"22933\",\"type\":\"Grid\"},{\"attributes\":{\"fill_alpha\":0.1,\"fill_color\":\"orange\",\"x\":{\"field\":\"x\"},\"y1\":{\"field\":\"y1\"},\"y2\":{\"field\":\"y2\"}},\"id\":\"22856\",\"type\":\"VArea\"},{\"attributes\":{},\"id\":\"24997\",\"type\":\"UnionRenderers\"},{\"attributes\":{\"source\":{\"id\":\"22839\"}},\"id\":\"22843\",\"type\":\"CDSView\"},{\"attributes\":{\"line_color\":\"orange\",\"x\":{\"field\":\"x\"},\"y\":{\"field\":\"y\"}},\"id\":\"22860\",\"type\":\"Line\"},{\"attributes\":{\"line_color\":\"orange\",\"x\":{\"field\":\"x\"},\"y\":{\"field\":\"y\"}},\"id\":\"22845\",\"type\":\"Line\"},{\"attributes\":{\"source\":{\"id\":\"22854\"}},\"id\":\"22858\",\"type\":\"CDSView\"},{\"attributes\":{},\"id\":\"24998\",\"type\":\"Selection\"},{\"attributes\":{\"axis\":{\"id\":\"22934\"},\"dimension\":1,\"ticker\":null},\"id\":\"22937\",\"type\":\"Grid\"},{\"attributes\":{\"bottom\":{\"value\":0},\"fill_alpha\":{\"value\":0.5},\"fill_color\":{\"value\":\"navy\"},\"left\":{\"field\":\"left\"},\"line_alpha\":{\"value\":0.5},\"line_color\":{\"value\":\"white\"},\"right\":{\"field\":\"right\"},\"top\":{\"field\":\"top\"}},\"id\":\"22780\",\"type\":\"Quad\"},{\"attributes\":{\"data_source\":{\"id\":\"23029\"},\"glyph\":{\"id\":\"23030\"},\"hover_glyph\":null,\"muted_glyph\":null,\"nonselection_glyph\":{\"id\":\"23031\"},\"selection_glyph\":null,\"view\":{\"id\":\"23033\"}},\"id\":\"23032\",\"type\":\"GlyphRenderer\"},{\"attributes\":{\"source\":{\"id\":\"22849\"}},\"id\":\"22853\",\"type\":\"CDSView\"},{\"attributes\":{\"data\":{\"x\":[4.0,4.0],\"y\":[0,0.10273275819437086]},\"selected\":{\"id\":\"25136\"},\"selection_policy\":{\"id\":\"25135\"}},\"id\":\"22859\",\"type\":\"ColumnDataSource\"},{\"attributes\":{\"data_source\":{\"id\":\"22869\"},\"glyph\":{\"id\":\"22870\"},\"hover_glyph\":null,\"muted_glyph\":null,\"nonselection_glyph\":{\"id\":\"22871\"},\"selection_glyph\":null,\"view\":{\"id\":\"22873\"}},\"id\":\"22872\",\"type\":\"GlyphRenderer\"},{\"attributes\":{\"data\":{\"left\":{\"__ndarray__\":\"YOdksWZn4b8A7y+JEnB5PxynifsmzeE/LXcA6baz8T/MGjxU2oD6Pzbfu9/+pgFABbFZlZANBkDUgvdKInQKQKRUlQC02g5AOpMZ26KgEUAifOi169MTQAllt5A0BxZA8U2Ga306GEDZNlVGxm0aQMAfJCEPoRxAqAjz+1fUHkDI+GBr0IMgQDxtyNh0nSFAsOEvRhm3IkAkVpezvdAjQJjK/iBi6iRACz9mjgYEJkB/s837qh0nQPMnNWlPNyhAZ5yc1vNQKUDbEAREmGoqQE+Fa7E8hCtAw/nSHuGdLEA2bjqMhbctQKriofkp0S5AHlcJZ87qL0DJZThqOYIwQAMg7KALDzFAPdqf192bMUB3lFMOsCgyQLFOB0WCtTJA6wi7e1RCM0Alw26yJs8zQF99Iun4WzRAmTfWH8voNEDT8YlWnXU1QAysPY1vAjZARmbxw0GPNkCAIKX6Exw3QLraWDHmqDdA9JQMaLg1OEAuT8CeisI4QGgJdNVcTzlAosMnDC/cOUDcfdtCAWk6QA==\",\"dtype\":\"float64\",\"shape\":[50]},\"right\":{\"__ndarray__\":\"AO8viRJweT8cp4n7Js3hPy13AOm2s/E/zBo8VNqA+j8237vf/qYBQAWxWZWQDQZA1IL3SiJ0CkCkVJUAtNoOQDqTGduioBFAInzotevTE0AJZbeQNAcWQPFNhmt9OhhA2TZVRsZtGkDAHyQhD6EcQKgI8/tX1B5AyPhga9CDIEA8bcjYdJ0hQLDhL0YZtyJAJFaXs73QI0CYyv4gYuokQAs/Zo4GBCZAf7PN+6odJ0DzJzVpTzcoQGecnNbzUClA2xAERJhqKkBPhWuxPIQrQMP50h7hnSxANm46jIW3LUCq4qH5KdEuQB5XCWfO6i9AyWU4ajmCMEADIOygCw8xQD3an9fdmzFAd5RTDrAoMkCxTgdFgrUyQOsIu3tUQjNAJcNusibPM0BffSLp+Fs0QJk31h/L6DRA0/GJVp11NUAMrD2NbwI2QEZm8cNBjzZAgCCl+hMcN0C62lgx5qg3QPSUDGi4NThALk/AnorCOEBoCXTVXE85QKLDJwwv3DlA3H3bQgFpOkAWOI950/U6QA==\",\"dtype\":\"float64\",\"shape\":[50]},\"top\":{\"__ndarray__\":\"XeVF3vjjHD/qqkwFJd82P1uv64p7DkI/XcqYNDp5Vz+4eu9+3b9vP2HYJGmtSnU/mVr0q1jigj+rE6vzTI2MP/BepCqBlJM/SnB1HvXfmz9+PHMKjGOhP5ERQrtmsaY/xQjztufPqj+lVShDV1ivPyJVmA2mA7I/FT3hTZmysz8TFWWIwyW2P3RqyqrzoLc/NpdFxEBAuT/+NayssUy6PwPUheNWG7o/0wa65ZFluT+8H/5WavS4P9Qn8BCuCbg/f8kLg247tj/d20c2Cr+0P2zdMTIRybI/2+9t5axMsT9J+iim9yCvP47Ij8p0gKo/DKq/U1mhpT82g960O76iP8dlDLfegp0/V8NSmoCQmD9L0lqH7RySP3GR27Ch9Y4/+SZjX+LLhj8JgYZ1J2WCP0RA9qUJu3k/+Qu2tSNhcT8rbLSm+qplPzW3vtYANWI/aDgjWoSUWT+SZxUhpHtKP8vp5GNPEzg/PO6D6aVCMz/nqkwFJd82P1rlRd744xw/PO6D6aVCAz9a5UXe+OMMPw==\",\"dtype\":\"float64\",\"shape\":[50]}},\"selected\":{\"id\":\"25104\"},\"selection_policy\":{\"id\":\"25103\"}},\"id\":\"22779\",\"type\":\"ColumnDataSource\"},{\"attributes\":{\"bottom\":{\"value\":0},\"fill_alpha\":{\"value\":0.1},\"fill_color\":{\"value\":\"navy\"},\"left\":{\"field\":\"left\"},\"line_alpha\":{\"value\":0.1},\"line_color\":{\"value\":\"white\"},\"right\":{\"field\":\"right\"},\"top\":{\"field\":\"top\"}},\"id\":\"22941\",\"type\":\"Quad\"},{\"attributes\":{\"background_fill_color\":\"#fafafa\",\"below\":[{\"id\":\"22930\"}],\"center\":[{\"id\":\"22933\"},{\"id\":\"22937\"}],\"frame_height\":200,\"frame_width\":200,\"left\":[{\"id\":\"22934\"}],\"renderers\":[{\"id\":\"22942\"},{\"id\":\"22947\"},{\"id\":\"22952\"},{\"id\":\"22957\"},{\"id\":\"22962\"},{\"id\":\"22967\"},{\"id\":\"22972\"},{\"id\":\"22977\"},{\"id\":\"22982\"},{\"id\":\"22987\"},{\"id\":\"22992\"},{\"id\":\"22997\"},{\"id\":\"23002\"},{\"id\":\"23007\"},{\"id\":\"23012\"},{\"id\":\"23017\"},{\"id\":\"23022\"},{\"id\":\"23027\"},{\"id\":\"23032\"},{\"id\":\"23037\"},{\"id\":\"23042\"},{\"id\":\"23047\"},{\"id\":\"23052\"},{\"id\":\"23057\"},{\"id\":\"23062\"},{\"id\":\"23067\"},{\"id\":\"23072\"},{\"id\":\"23077\"}],\"title\":{\"id\":\"22920\"},\"toolbar\":{\"id\":\"22938\"},\"x_range\":{\"id\":\"22922\"},\"x_scale\":{\"id\":\"22926\"},\"y_range\":{\"id\":\"22924\"},\"y_scale\":{\"id\":\"22928\"}},\"id\":\"22919\",\"subtype\":\"Figure\",\"type\":\"Plot\"},{\"attributes\":{\"data_source\":{\"id\":\"22859\"},\"glyph\":{\"id\":\"22860\"},\"hover_glyph\":null,\"muted_glyph\":null,\"nonselection_glyph\":{\"id\":\"22861\"},\"selection_glyph\":null,\"view\":{\"id\":\"22863\"}},\"id\":\"22862\",\"type\":\"GlyphRenderer\"},{\"attributes\":{},\"id\":\"24985\",\"type\":\"UnionRenderers\"},{\"attributes\":{\"active_drag\":\"auto\",\"active_inspect\":\"auto\",\"active_multi\":null,\"active_scroll\":\"auto\",\"active_tap\":\"auto\"},\"id\":\"22938\",\"type\":\"Toolbar\"},{\"attributes\":{\"line_alpha\":0.1,\"line_color\":\"orange\",\"x\":{\"field\":\"x\"},\"y\":{\"field\":\"y\"}},\"id\":\"22861\",\"type\":\"Line\"},{\"attributes\":{\"fill_alpha\":0.1,\"fill_color\":\"orange\",\"x\":{\"field\":\"x\"},\"y1\":{\"field\":\"y1\"},\"y2\":{\"field\":\"y2\"}},\"id\":\"23001\",\"type\":\"VArea\"},{\"attributes\":{\"source\":{\"id\":\"23019\"}},\"id\":\"23023\",\"type\":\"CDSView\"},{\"attributes\":{\"fill_alpha\":0.2,\"fill_color\":\"orange\",\"x\":{\"field\":\"x\"},\"y1\":{\"field\":\"y1\"},\"y2\":{\"field\":\"y2\"}},\"id\":\"23000\",\"type\":\"VArea\"},{\"attributes\":{},\"id\":\"25028\",\"type\":\"Selection\"},{\"attributes\":{\"data\":{\"x\":[2.0,3.0],\"y1\":[0,0],\"y2\":[0.09515698697710769,0.09515698697710769]},\"selected\":{\"id\":\"25184\"},\"selection_policy\":{\"id\":\"25183\"}},\"id\":\"22999\",\"type\":\"ColumnDataSource\"},{\"attributes\":{\"line_color\":\"orange\",\"x\":{\"field\":\"x\"},\"y\":{\"field\":\"y\"}},\"id\":\"23020\",\"type\":\"Line\"},{\"attributes\":{},\"id\":\"25013\",\"type\":\"UnionRenderers\"},{\"attributes\":{\"line_color\":\"orange\",\"x\":{\"field\":\"x\"},\"y\":{\"field\":\"y\"}},\"id\":\"23025\",\"type\":\"Line\"},{\"attributes\":{\"source\":{\"id\":\"22999\"}},\"id\":\"23003\",\"type\":\"CDSView\"},{\"attributes\":{\"line_alpha\":0.1,\"line_color\":\"orange\",\"x\":{\"field\":\"x\"},\"y\":{\"field\":\"y\"}},\"id\":\"23021\",\"type\":\"Line\"},{\"attributes\":{},\"id\":\"25014\",\"type\":\"Selection\"},{\"attributes\":{\"data_source\":{\"id\":\"23024\"},\"glyph\":{\"id\":\"23025\"},\"hover_glyph\":null,\"muted_glyph\":null,\"nonselection_glyph\":{\"id\":\"23026\"},\"selection_glyph\":null,\"view\":{\"id\":\"23028\"}},\"id\":\"23027\",\"type\":\"GlyphRenderer\"},{\"attributes\":{\"line_color\":\"orange\",\"x\":{\"field\":\"x\"},\"y\":{\"field\":\"y\"}},\"id\":\"23005\",\"type\":\"Line\"},{\"attributes\":{\"fill_alpha\":0.1,\"fill_color\":\"orange\",\"x\":{\"field\":\"x\"},\"y1\":{\"field\":\"y1\"},\"y2\":{\"field\":\"y2\"}},\"id\":\"23016\",\"type\":\"VArea\"},{\"attributes\":{\"data\":{\"x\":[5.0,5.0],\"y\":[0,0.09515698697710769]},\"selected\":{\"id\":\"25194\"},\"selection_policy\":{\"id\":\"25193\"}},\"id\":\"23024\",\"type\":\"ColumnDataSource\"},{\"attributes\":{\"line_color\":\"orange\",\"x\":{\"field\":\"x\"},\"y\":{\"field\":\"y\"}},\"id\":\"23010\",\"type\":\"Line\"},{\"attributes\":{\"data\":{\"x\":[4.0,5.0],\"y1\":[0,0],\"y2\":[0.09515698697710769,0.09515698697710769]},\"selected\":{\"id\":\"25196\"},\"selection_policy\":{\"id\":\"25195\"}},\"id\":\"23029\",\"type\":\"ColumnDataSource\"},{\"attributes\":{\"data\":{\"x\":[4.0,4.0],\"y\":[0,0.09515698697710769]},\"selected\":{\"id\":\"25192\"},\"selection_policy\":{\"id\":\"25191\"}},\"id\":\"23019\",\"type\":\"ColumnDataSource\"},{\"attributes\":{\"data_source\":{\"id\":\"23019\"},\"glyph\":{\"id\":\"23020\"},\"hover_glyph\":null,\"muted_glyph\":null,\"nonselection_glyph\":{\"id\":\"23021\"},\"selection_glyph\":null,\"view\":{\"id\":\"23023\"}},\"id\":\"23022\",\"type\":\"GlyphRenderer\"},{\"attributes\":{\"data\":{\"x\":[3.0,3.0],\"y\":[0,0.09515698697710769]},\"selected\":{\"id\":\"25186\"},\"selection_policy\":{\"id\":\"25185\"}},\"id\":\"23004\",\"type\":\"ColumnDataSource\"},{\"attributes\":{\"data_source\":{\"id\":\"23014\"},\"glyph\":{\"id\":\"23015\"},\"hover_glyph\":null,\"muted_glyph\":null,\"nonselection_glyph\":{\"id\":\"23016\"},\"selection_glyph\":null,\"view\":{\"id\":\"23018\"}},\"id\":\"23017\",\"type\":\"GlyphRenderer\"},{\"attributes\":{\"source\":{\"id\":\"23024\"}},\"id\":\"23028\",\"type\":\"CDSView\"},{\"attributes\":{\"data_source\":{\"id\":\"23004\"},\"glyph\":{\"id\":\"23005\"},\"hover_glyph\":null,\"muted_glyph\":null,\"nonselection_glyph\":{\"id\":\"23006\"},\"selection_glyph\":null,\"view\":{\"id\":\"23008\"}},\"id\":\"23007\",\"type\":\"GlyphRenderer\"},{\"attributes\":{\"data\":{\"x\":[4.0,4.0],\"y\":[0,0.09515698697710769]},\"selected\":{\"id\":\"25188\"},\"selection_policy\":{\"id\":\"25187\"}},\"id\":\"23009\",\"type\":\"ColumnDataSource\"},{\"attributes\":{},\"id\":\"25029\",\"type\":\"UnionRenderers\"},{\"attributes\":{\"line_alpha\":0.1,\"line_color\":\"orange\",\"x\":{\"field\":\"x\"},\"y\":{\"field\":\"y\"}},\"id\":\"23026\",\"type\":\"Line\"},{\"attributes\":{},\"id\":\"25015\",\"type\":\"UnionRenderers\"},{\"attributes\":{\"line_alpha\":0.1,\"line_color\":\"orange\",\"x\":{\"field\":\"x\"},\"y\":{\"field\":\"y\"}},\"id\":\"23006\",\"type\":\"Line\"},{\"attributes\":{},\"id\":\"25030\",\"type\":\"Selection\"},{\"attributes\":{\"data_source\":{\"id\":\"22944\"},\"glyph\":{\"id\":\"22945\"},\"hover_glyph\":null,\"muted_glyph\":null,\"nonselection_glyph\":{\"id\":\"22946\"},\"selection_glyph\":null,\"view\":{\"id\":\"22948\"}},\"id\":\"22947\",\"type\":\"GlyphRenderer\"},{\"attributes\":{\"source\":{\"id\":\"23004\"}},\"id\":\"23008\",\"type\":\"CDSView\"},{\"attributes\":{},\"id\":\"25016\",\"type\":\"Selection\"},{\"attributes\":{\"data_source\":{\"id\":\"23009\"},\"glyph\":{\"id\":\"23010\"},\"hover_glyph\":null,\"muted_glyph\":null,\"nonselection_glyph\":{\"id\":\"23011\"},\"selection_glyph\":null,\"view\":{\"id\":\"23013\"}},\"id\":\"23012\",\"type\":\"GlyphRenderer\"},{\"attributes\":{\"source\":{\"id\":\"22994\"}},\"id\":\"22998\",\"type\":\"CDSView\"},{\"attributes\":{},\"id\":\"24984\",\"type\":\"Selection\"},{\"attributes\":{\"source\":{\"id\":\"22939\"}},\"id\":\"22943\",\"type\":\"CDSView\"},{\"attributes\":{\"data_source\":{\"id\":\"22939\"},\"glyph\":{\"id\":\"22940\"},\"hover_glyph\":null,\"muted_glyph\":null,\"nonselection_glyph\":{\"id\":\"22941\"},\"selection_glyph\":null,\"view\":{\"id\":\"22943\"}},\"id\":\"22942\",\"type\":\"GlyphRenderer\"},{\"attributes\":{\"data_source\":{\"id\":\"22954\"},\"glyph\":{\"id\":\"22955\"},\"hover_glyph\":null,\"muted_glyph\":null,\"nonselection_glyph\":{\"id\":\"22956\"},\"selection_glyph\":null,\"view\":{\"id\":\"22958\"}},\"id\":\"22957\",\"type\":\"GlyphRenderer\"},{\"attributes\":{\"fill_alpha\":0.2,\"fill_color\":\"orange\",\"x\":{\"field\":\"x\"},\"y1\":{\"field\":\"y1\"},\"y2\":{\"field\":\"y2\"}},\"id\":\"23015\",\"type\":\"VArea\"},{\"attributes\":{\"line_alpha\":0.1,\"line_color\":\"orange\",\"x\":{\"field\":\"x\"},\"y\":{\"field\":\"y\"}},\"id\":\"23011\",\"type\":\"Line\"},{\"attributes\":{\"data\":{\"x\":[-1.0,-1.0],\"y\":[0,0.09515698697710769]},\"selected\":{\"id\":\"25162\"},\"selection_policy\":{\"id\":\"25161\"}},\"id\":\"22944\",\"type\":\"ColumnDataSource\"},{\"attributes\":{\"source\":{\"id\":\"23009\"}},\"id\":\"23013\",\"type\":\"CDSView\"},{\"attributes\":{\"line_color\":\"orange\",\"x\":{\"field\":\"x\"},\"y\":{\"field\":\"y\"}},\"id\":\"22945\",\"type\":\"Line\"},{\"attributes\":{\"data\":{\"x\":[3.0,4.0],\"y1\":[0,0],\"y2\":[0.09515698697710769,0.09515698697710769]},\"selected\":{\"id\":\"25190\"},\"selection_policy\":{\"id\":\"25189\"}},\"id\":\"23014\",\"type\":\"ColumnDataSource\"},{\"attributes\":{\"fill_alpha\":0.1,\"fill_color\":\"orange\",\"x\":{\"field\":\"x\"},\"y1\":{\"field\":\"y1\"},\"y2\":{\"field\":\"y2\"}},\"id\":\"22956\",\"type\":\"VArea\"},{\"attributes\":{\"source\":{\"id\":\"23014\"}},\"id\":\"23018\",\"type\":\"CDSView\"},{\"attributes\":{},\"id\":\"25031\",\"type\":\"UnionRenderers\"},{\"attributes\":{\"line_color\":\"orange\",\"x\":{\"field\":\"x\"},\"y\":{\"field\":\"y\"}},\"id\":\"22950\",\"type\":\"Line\"},{\"attributes\":{\"fill_alpha\":0.1,\"fill_color\":\"orange\",\"x\":{\"field\":\"x\"},\"y1\":{\"field\":\"y1\"},\"y2\":{\"field\":\"y2\"}},\"id\":\"23046\",\"type\":\"VArea\"},{\"attributes\":{\"data\":{\"x\":[0.0,0.0],\"y\":[0,0.09515698697710769]},\"selected\":{\"id\":\"25164\"},\"selection_policy\":{\"id\":\"25163\"}},\"id\":\"22949\",\"type\":\"ColumnDataSource\"},{\"attributes\":{\"line_color\":\"orange\",\"x\":{\"field\":\"x\"},\"y\":{\"field\":\"y\"}},\"id\":\"23040\",\"type\":\"Line\"},{\"attributes\":{},\"id\":\"25032\",\"type\":\"Selection\"},{\"attributes\":{\"fill_alpha\":0.2,\"fill_color\":\"orange\",\"x\":{\"field\":\"x\"},\"y1\":{\"field\":\"y1\"},\"y2\":{\"field\":\"y2\"}},\"id\":\"23030\",\"type\":\"VArea\"},{\"attributes\":{},\"id\":\"25017\",\"type\":\"UnionRenderers\"},{\"attributes\":{\"line_alpha\":0.1,\"line_color\":\"orange\",\"x\":{\"field\":\"x\"},\"y\":{\"field\":\"y\"}},\"id\":\"22946\",\"type\":\"Line\"},{\"attributes\":{\"source\":{\"id\":\"23029\"}},\"id\":\"23033\",\"type\":\"CDSView\"},{\"attributes\":{\"source\":{\"id\":\"22944\"}},\"id\":\"22948\",\"type\":\"CDSView\"},{\"attributes\":{\"fill_alpha\":0.1,\"fill_color\":\"orange\",\"x\":{\"field\":\"x\"},\"y1\":{\"field\":\"y1\"},\"y2\":{\"field\":\"y2\"}},\"id\":\"23031\",\"type\":\"VArea\"},{\"attributes\":{},\"id\":\"25018\",\"type\":\"Selection\"},{\"attributes\":{\"data_source\":{\"id\":\"22949\"},\"glyph\":{\"id\":\"22950\"},\"hover_glyph\":null,\"muted_glyph\":null,\"nonselection_glyph\":{\"id\":\"22951\"},\"selection_glyph\":null,\"view\":{\"id\":\"22953\"}},\"id\":\"22952\",\"type\":\"GlyphRenderer\"},{\"attributes\":{\"line_color\":\"orange\",\"x\":{\"field\":\"x\"},\"y\":{\"field\":\"y\"}},\"id\":\"23035\",\"type\":\"Line\"},{\"attributes\":{\"line_color\":\"orange\",\"x\":{\"field\":\"x\"},\"y\":{\"field\":\"y\"}},\"id\":\"22960\",\"type\":\"Line\"},{\"attributes\":{\"data\":{\"x\":[5.0,5.0],\"y\":[0,0.09515698697710769]},\"selected\":{\"id\":\"25198\"},\"selection_policy\":{\"id\":\"25197\"}},\"id\":\"23034\",\"type\":\"ColumnDataSource\"},{\"attributes\":{\"data_source\":{\"id\":\"23044\"},\"glyph\":{\"id\":\"23045\"},\"hover_glyph\":null,\"muted_glyph\":null,\"nonselection_glyph\":{\"id\":\"23046\"},\"selection_glyph\":null,\"view\":{\"id\":\"23048\"}},\"id\":\"23047\",\"type\":\"GlyphRenderer\"},{\"attributes\":{\"fill_alpha\":0.2,\"fill_color\":\"orange\",\"x\":{\"field\":\"x\"},\"y1\":{\"field\":\"y1\"},\"y2\":{\"field\":\"y2\"}},\"id\":\"22955\",\"type\":\"VArea\"},{\"attributes\":{\"data_source\":{\"id\":\"23034\"},\"glyph\":{\"id\":\"23035\"},\"hover_glyph\":null,\"muted_glyph\":null,\"nonselection_glyph\":{\"id\":\"23036\"},\"selection_glyph\":null,\"view\":{\"id\":\"23038\"}},\"id\":\"23037\",\"type\":\"GlyphRenderer\"},{\"attributes\":{\"line_alpha\":0.1,\"line_color\":\"orange\",\"x\":{\"field\":\"x\"},\"y\":{\"field\":\"y\"}},\"id\":\"22951\",\"type\":\"Line\"},{\"attributes\":{\"data\":{\"x\":[6.0,6.0],\"y\":[0,0.09515698697710769]},\"selected\":{\"id\":\"25200\"},\"selection_policy\":{\"id\":\"25199\"}},\"id\":\"23039\",\"type\":\"ColumnDataSource\"},{\"attributes\":{},\"id\":\"25033\",\"type\":\"UnionRenderers\"},{\"attributes\":{\"source\":{\"id\":\"22949\"}},\"id\":\"22953\",\"type\":\"CDSView\"},{\"attributes\":{\"data\":{\"x\":[-1.0,0.0],\"y1\":[0,0],\"y2\":[0.09515698697710769,0.09515698697710769]},\"selected\":{\"id\":\"25166\"},\"selection_policy\":{\"id\":\"25165\"}},\"id\":\"22954\",\"type\":\"ColumnDataSource\"},{\"attributes\":{\"line_alpha\":0.1,\"line_color\":\"orange\",\"x\":{\"field\":\"x\"},\"y\":{\"field\":\"y\"}},\"id\":\"23036\",\"type\":\"Line\"},{\"attributes\":{},\"id\":\"25034\",\"type\":\"Selection\"},{\"attributes\":{\"source\":{\"id\":\"22954\"}},\"id\":\"22958\",\"type\":\"CDSView\"},{\"attributes\":{\"source\":{\"id\":\"23034\"}},\"id\":\"23038\",\"type\":\"CDSView\"},{\"attributes\":{},\"id\":\"25019\",\"type\":\"UnionRenderers\"},{\"attributes\":{\"data_source\":{\"id\":\"23039\"},\"glyph\":{\"id\":\"23040\"},\"hover_glyph\":null,\"muted_glyph\":null,\"nonselection_glyph\":{\"id\":\"23041\"},\"selection_glyph\":null,\"view\":{\"id\":\"23043\"}},\"id\":\"23042\",\"type\":\"GlyphRenderer\"},{\"attributes\":{\"data\":{\"x\":[0.0,1.0],\"y1\":[0,0],\"y2\":[0.09515698697710769,0.09515698697710769]},\"selected\":{\"id\":\"25172\"},\"selection_policy\":{\"id\":\"25171\"}},\"id\":\"22969\",\"type\":\"ColumnDataSource\"},{\"attributes\":{},\"id\":\"24996\",\"type\":\"Selection\"},{\"attributes\":{\"line_color\":\"orange\",\"x\":{\"field\":\"x\"},\"y\":{\"field\":\"y\"}},\"id\":\"22965\",\"type\":\"Line\"},{\"attributes\":{\"line_color\":\"orange\",\"x\":{\"field\":\"x\"},\"y\":{\"field\":\"y\"}},\"id\":\"23050\",\"type\":\"Line\"},{\"attributes\":{},\"id\":\"25020\",\"type\":\"Selection\"},{\"attributes\":{\"data\":{\"x\":[0.0,0.0],\"y\":[0,0.09515698697710769]},\"selected\":{\"id\":\"25168\"},\"selection_policy\":{\"id\":\"25167\"}},\"id\":\"22959\",\"type\":\"ColumnDataSource\"},{\"attributes\":{\"fill_alpha\":0.2,\"fill_color\":\"orange\",\"x\":{\"field\":\"x\"},\"y1\":{\"field\":\"y1\"},\"y2\":{\"field\":\"y2\"}},\"id\":\"23045\",\"type\":\"VArea\"},{\"attributes\":{},\"id\":\"24935\",\"type\":\"UnionRenderers\"},{\"attributes\":{\"data_source\":{\"id\":\"22969\"},\"glyph\":{\"id\":\"22970\"},\"hover_glyph\":null,\"muted_glyph\":null,\"nonselection_glyph\":{\"id\":\"22971\"},\"selection_glyph\":null,\"view\":{\"id\":\"22973\"}},\"id\":\"22972\",\"type\":\"GlyphRenderer\"},{\"attributes\":{\"line_alpha\":0.1,\"line_color\":\"orange\",\"x\":{\"field\":\"x\"},\"y\":{\"field\":\"y\"}},\"id\":\"23041\",\"type\":\"Line\"},{\"attributes\":{\"data_source\":{\"id\":\"22959\"},\"glyph\":{\"id\":\"22960\"},\"hover_glyph\":null,\"muted_glyph\":null,\"nonselection_glyph\":{\"id\":\"22961\"},\"selection_glyph\":null,\"view\":{\"id\":\"22963\"}},\"id\":\"22962\",\"type\":\"GlyphRenderer\"},{\"attributes\":{\"source\":{\"id\":\"23039\"}},\"id\":\"23043\",\"type\":\"CDSView\"},{\"attributes\":{},\"id\":\"24936\",\"type\":\"Selection\"},{\"attributes\":{\"data\":{\"x\":[1.0,1.0],\"y\":[0,0.09515698697710769]},\"selected\":{\"id\":\"25170\"},\"selection_policy\":{\"id\":\"25169\"}},\"id\":\"22964\",\"type\":\"ColumnDataSource\"},{\"attributes\":{\"data\":{\"x\":[5.0,6.0],\"y1\":[0,0],\"y2\":[0.09515698697710769,0.09515698697710769]},\"selected\":{\"id\":\"25202\"},\"selection_policy\":{\"id\":\"25201\"}},\"id\":\"23044\",\"type\":\"ColumnDataSource\"},{\"attributes\":{\"source\":{\"id\":\"23044\"}},\"id\":\"23048\",\"type\":\"CDSView\"},{\"attributes\":{\"line_alpha\":0.1,\"line_color\":\"orange\",\"x\":{\"field\":\"x\"},\"y\":{\"field\":\"y\"}},\"id\":\"22961\",\"type\":\"Line\"},{\"attributes\":{\"fill_alpha\":0.1,\"fill_color\":\"orange\",\"x\":{\"field\":\"x\"},\"y1\":{\"field\":\"y1\"},\"y2\":{\"field\":\"y2\"}},\"id\":\"23061\",\"type\":\"VArea\"},{\"attributes\":{\"source\":{\"id\":\"22959\"}},\"id\":\"22963\",\"type\":\"CDSView\"},{\"attributes\":{\"line_color\":\"orange\",\"x\":{\"field\":\"x\"},\"y\":{\"field\":\"y\"}},\"id\":\"23055\",\"type\":\"Line\"},{\"attributes\":{},\"id\":\"25035\",\"type\":\"UnionRenderers\"},{\"attributes\":{\"data_source\":{\"id\":\"22964\"},\"glyph\":{\"id\":\"22965\"},\"hover_glyph\":null,\"muted_glyph\":null,\"nonselection_glyph\":{\"id\":\"22966\"},\"selection_glyph\":null,\"view\":{\"id\":\"22968\"}},\"id\":\"22967\",\"type\":\"GlyphRenderer\"},{\"attributes\":{},\"id\":\"25021\",\"type\":\"UnionRenderers\"},{\"attributes\":{\"fill_alpha\":0.2,\"fill_color\":\"orange\",\"x\":{\"field\":\"x\"},\"y1\":{\"field\":\"y1\"},\"y2\":{\"field\":\"y2\"}},\"id\":\"22970\",\"type\":\"VArea\"},{\"attributes\":{\"data\":{\"x\":[6.0,6.0],\"y\":[0,0.09515698697710769]},\"selected\":{\"id\":\"25204\"},\"selection_policy\":{\"id\":\"25203\"}},\"id\":\"23049\",\"type\":\"ColumnDataSource\"},{\"attributes\":{},\"id\":\"25036\",\"type\":\"Selection\"},{\"attributes\":{\"data_source\":{\"id\":\"23059\"},\"glyph\":{\"id\":\"23060\"},\"hover_glyph\":null,\"muted_glyph\":null,\"nonselection_glyph\":{\"id\":\"23061\"},\"selection_glyph\":null,\"view\":{\"id\":\"23063\"}},\"id\":\"23062\",\"type\":\"GlyphRenderer\"},{\"attributes\":{\"fill_alpha\":0.1,\"fill_color\":\"orange\",\"x\":{\"field\":\"x\"},\"y1\":{\"field\":\"y1\"},\"y2\":{\"field\":\"y2\"}},\"id\":\"22971\",\"type\":\"VArea\"},{\"attributes\":{},\"id\":\"25022\",\"type\":\"Selection\"},{\"attributes\":{\"data_source\":{\"id\":\"23049\"},\"glyph\":{\"id\":\"23050\"},\"hover_glyph\":null,\"muted_glyph\":null,\"nonselection_glyph\":{\"id\":\"23051\"},\"selection_glyph\":null,\"view\":{\"id\":\"23053\"}},\"id\":\"23052\",\"type\":\"GlyphRenderer\"},{\"attributes\":{\"line_alpha\":0.1,\"line_color\":\"orange\",\"x\":{\"field\":\"x\"},\"y\":{\"field\":\"y\"}},\"id\":\"22966\",\"type\":\"Line\"},{\"attributes\":{\"source\":{\"id\":\"22964\"}},\"id\":\"22968\",\"type\":\"CDSView\"},{\"attributes\":{\"data\":{\"x\":[7.0,7.0],\"y\":[0,0.09515698697710769]},\"selected\":{\"id\":\"25206\"},\"selection_policy\":{\"id\":\"25205\"}},\"id\":\"23054\",\"type\":\"ColumnDataSource\"},{\"attributes\":{\"line_color\":\"orange\",\"x\":{\"field\":\"x\"},\"y\":{\"field\":\"y\"}},\"id\":\"22975\",\"type\":\"Line\"},{\"attributes\":{\"source\":{\"id\":\"22969\"}},\"id\":\"22973\",\"type\":\"CDSView\"},{\"attributes\":{\"line_alpha\":0.1,\"line_color\":\"orange\",\"x\":{\"field\":\"x\"},\"y\":{\"field\":\"y\"}},\"id\":\"23051\",\"type\":\"Line\"},{\"attributes\":{},\"id\":\"24937\",\"type\":\"UnionRenderers\"},{\"attributes\":{\"data\":{\"x\":[1.0,1.0],\"y\":[0,0.09515698697710769]},\"selected\":{\"id\":\"25174\"},\"selection_policy\":{\"id\":\"25173\"}},\"id\":\"22974\",\"type\":\"ColumnDataSource\"},{\"attributes\":{\"source\":{\"id\":\"23049\"}},\"id\":\"23053\",\"type\":\"CDSView\"},{\"attributes\":{\"data_source\":{\"id\":\"23054\"},\"glyph\":{\"id\":\"23055\"},\"hover_glyph\":null,\"muted_glyph\":null,\"nonselection_glyph\":{\"id\":\"23056\"},\"selection_glyph\":null,\"view\":{\"id\":\"23058\"}},\"id\":\"23057\",\"type\":\"GlyphRenderer\"},{\"attributes\":{\"line_color\":\"orange\",\"x\":{\"field\":\"x\"},\"y\":{\"field\":\"y\"}},\"id\":\"22980\",\"type\":\"Line\"},{\"attributes\":{},\"id\":\"24938\",\"type\":\"Selection\"},{\"attributes\":{\"data_source\":{\"id\":\"22984\"},\"glyph\":{\"id\":\"22985\"},\"hover_glyph\":null,\"muted_glyph\":null,\"nonselection_glyph\":{\"id\":\"22986\"},\"selection_glyph\":null,\"view\":{\"id\":\"22988\"}},\"id\":\"22987\",\"type\":\"GlyphRenderer\"},{\"attributes\":{\"line_color\":\"orange\",\"x\":{\"field\":\"x\"},\"y\":{\"field\":\"y\"}},\"id\":\"23065\",\"type\":\"Line\"},{\"attributes\":{\"data_source\":{\"id\":\"22974\"},\"glyph\":{\"id\":\"22975\"},\"hover_glyph\":null,\"muted_glyph\":null,\"nonselection_glyph\":{\"id\":\"22976\"},\"selection_glyph\":null,\"view\":{\"id\":\"22978\"}},\"id\":\"22977\",\"type\":\"GlyphRenderer\"},{\"attributes\":{},\"id\":\"25037\",\"type\":\"UnionRenderers\"},{\"attributes\":{\"fill_alpha\":0.1,\"fill_color\":\"orange\",\"x\":{\"field\":\"x\"},\"y1\":{\"field\":\"y1\"},\"y2\":{\"field\":\"y2\"}},\"id\":\"22986\",\"type\":\"VArea\"},{\"attributes\":{\"fill_alpha\":0.2,\"fill_color\":\"orange\",\"x\":{\"field\":\"x\"},\"y1\":{\"field\":\"y1\"},\"y2\":{\"field\":\"y2\"}},\"id\":\"23060\",\"type\":\"VArea\"},{\"attributes\":{\"line_alpha\":0.1,\"line_color\":\"orange\",\"x\":{\"field\":\"x\"},\"y\":{\"field\":\"y\"}},\"id\":\"23056\",\"type\":\"Line\"},{\"attributes\":{},\"id\":\"25038\",\"type\":\"Selection\"},{\"attributes\":{\"data\":{\"x\":[2.0,2.0],\"y\":[0,0.09515698697710769]},\"selected\":{\"id\":\"25176\"},\"selection_policy\":{\"id\":\"25175\"}},\"id\":\"22979\",\"type\":\"ColumnDataSource\"},{\"attributes\":{\"source\":{\"id\":\"23054\"}},\"id\":\"23058\",\"type\":\"CDSView\"},{\"attributes\":{},\"id\":\"25023\",\"type\":\"UnionRenderers\"},{\"attributes\":{\"data\":{\"x\":[6.0,7.0],\"y1\":[0,0],\"y2\":[0.09515698697710769,0.09515698697710769]},\"selected\":{\"id\":\"25208\"},\"selection_policy\":{\"id\":\"25207\"}},\"id\":\"23059\",\"type\":\"ColumnDataSource\"},{\"attributes\":{\"line_alpha\":0.1,\"line_color\":\"orange\",\"x\":{\"field\":\"x\"},\"y\":{\"field\":\"y\"}},\"id\":\"22976\",\"type\":\"Line\"},{\"attributes\":{\"source\":{\"id\":\"23059\"}},\"id\":\"23063\",\"type\":\"CDSView\"},{\"attributes\":{},\"id\":\"25024\",\"type\":\"Selection\"},{\"attributes\":{\"source\":{\"id\":\"22974\"}},\"id\":\"22978\",\"type\":\"CDSView\"},{\"attributes\":{\"fill_alpha\":0.1,\"fill_color\":\"orange\",\"x\":{\"field\":\"x\"},\"y1\":{\"field\":\"y1\"},\"y2\":{\"field\":\"y2\"}},\"id\":\"23076\",\"type\":\"VArea\"},{\"attributes\":{\"line_alpha\":0.1,\"line_color\":\"orange\",\"x\":{\"field\":\"x\"},\"y\":{\"field\":\"y\"}},\"id\":\"22991\",\"type\":\"Line\"},{\"attributes\":{\"line_color\":\"orange\",\"x\":{\"field\":\"x\"},\"y\":{\"field\":\"y\"}},\"id\":\"23070\",\"type\":\"Line\"},{\"attributes\":{},\"id\":\"24939\",\"type\":\"UnionRenderers\"},{\"attributes\":{\"data_source\":{\"id\":\"22979\"},\"glyph\":{\"id\":\"22980\"},\"hover_glyph\":null,\"muted_glyph\":null,\"nonselection_glyph\":{\"id\":\"22981\"},\"selection_glyph\":null,\"view\":{\"id\":\"22983\"}},\"id\":\"22982\",\"type\":\"GlyphRenderer\"},{\"attributes\":{\"line_color\":\"orange\",\"x\":{\"field\":\"x\"},\"y\":{\"field\":\"y\"}},\"id\":\"22990\",\"type\":\"Line\"},{\"attributes\":{\"data\":{\"x\":[7.0,7.0],\"y\":[0,0.09515698697710769]},\"selected\":{\"id\":\"25210\"},\"selection_policy\":{\"id\":\"25209\"}},\"id\":\"23064\",\"type\":\"ColumnDataSource\"},{\"attributes\":{},\"id\":\"24940\",\"type\":\"Selection\"},{\"attributes\":{\"data_source\":{\"id\":\"23074\"},\"glyph\":{\"id\":\"23075\"},\"hover_glyph\":null,\"muted_glyph\":null,\"nonselection_glyph\":{\"id\":\"23076\"},\"selection_glyph\":null,\"view\":{\"id\":\"23078\"}},\"id\":\"23077\",\"type\":\"GlyphRenderer\"},{\"attributes\":{\"data_source\":{\"id\":\"23064\"},\"glyph\":{\"id\":\"23065\"},\"hover_glyph\":null,\"muted_glyph\":null,\"nonselection_glyph\":{\"id\":\"23066\"},\"selection_glyph\":null,\"view\":{\"id\":\"23068\"}},\"id\":\"23067\",\"type\":\"GlyphRenderer\"},{\"attributes\":{\"fill_alpha\":0.2,\"fill_color\":\"orange\",\"x\":{\"field\":\"x\"},\"y1\":{\"field\":\"y1\"},\"y2\":{\"field\":\"y2\"}},\"id\":\"22985\",\"type\":\"VArea\"},{\"attributes\":{},\"id\":\"25039\",\"type\":\"UnionRenderers\"},{\"attributes\":{\"line_alpha\":0.1,\"line_color\":\"orange\",\"x\":{\"field\":\"x\"},\"y\":{\"field\":\"y\"}},\"id\":\"22981\",\"type\":\"Line\"},{\"attributes\":{\"data\":{\"x\":[8.0,8.0],\"y\":[0,0.09515698697710769]},\"selected\":{\"id\":\"25212\"},\"selection_policy\":{\"id\":\"25211\"}},\"id\":\"23069\",\"type\":\"ColumnDataSource\"},{\"attributes\":{\"source\":{\"id\":\"22979\"}},\"id\":\"22983\",\"type\":\"CDSView\"},{\"attributes\":{},\"id\":\"25040\",\"type\":\"Selection\"},{\"attributes\":{\"data\":{\"x\":[1.0,2.0],\"y1\":[0,0],\"y2\":[0.09515698697710769,0.09515698697710769]},\"selected\":{\"id\":\"25178\"},\"selection_policy\":{\"id\":\"25177\"}},\"id\":\"22984\",\"type\":\"ColumnDataSource\"},{\"attributes\":{\"line_alpha\":0.1,\"line_color\":\"orange\",\"x\":{\"field\":\"x\"},\"y\":{\"field\":\"y\"}},\"id\":\"23066\",\"type\":\"Line\"},{\"attributes\":{},\"id\":\"25025\",\"type\":\"UnionRenderers\"},{\"attributes\":{\"source\":{\"id\":\"22984\"}},\"id\":\"22988\",\"type\":\"CDSView\"},{\"attributes\":{\"source\":{\"id\":\"23064\"}},\"id\":\"23068\",\"type\":\"CDSView\"},{\"attributes\":{\"data_source\":{\"id\":\"22994\"},\"glyph\":{\"id\":\"22995\"},\"hover_glyph\":null,\"muted_glyph\":null,\"nonselection_glyph\":{\"id\":\"22996\"},\"selection_glyph\":null,\"view\":{\"id\":\"22998\"}},\"id\":\"22997\",\"type\":\"GlyphRenderer\"},{\"attributes\":{\"data_source\":{\"id\":\"23069\"},\"glyph\":{\"id\":\"23070\"},\"hover_glyph\":null,\"muted_glyph\":null,\"nonselection_glyph\":{\"id\":\"23071\"},\"selection_glyph\":null,\"view\":{\"id\":\"23073\"}},\"id\":\"23072\",\"type\":\"GlyphRenderer\"},{\"attributes\":{},\"id\":\"25026\",\"type\":\"Selection\"},{\"attributes\":{\"line_color\":\"orange\",\"x\":{\"field\":\"x\"},\"y\":{\"field\":\"y\"}},\"id\":\"22995\",\"type\":\"Line\"},{\"attributes\":{\"source\":{\"id\":\"23074\"}},\"id\":\"23078\",\"type\":\"CDSView\"},{\"attributes\":{},\"id\":\"24941\",\"type\":\"UnionRenderers\"},{\"attributes\":{\"data\":{\"x\":[2.0,2.0],\"y\":[0,0.09515698697710769]},\"selected\":{\"id\":\"25180\"},\"selection_policy\":{\"id\":\"25179\"}},\"id\":\"22989\",\"type\":\"ColumnDataSource\"},{\"attributes\":{\"fill_alpha\":0.2,\"fill_color\":\"orange\",\"x\":{\"field\":\"x\"},\"y1\":{\"field\":\"y1\"},\"y2\":{\"field\":\"y2\"}},\"id\":\"23075\",\"type\":\"VArea\"},{\"attributes\":{\"data_source\":{\"id\":\"22999\"},\"glyph\":{\"id\":\"23000\"},\"hover_glyph\":null,\"muted_glyph\":null,\"nonselection_glyph\":{\"id\":\"23001\"},\"selection_glyph\":null,\"view\":{\"id\":\"23003\"}},\"id\":\"23002\",\"type\":\"GlyphRenderer\"},{\"attributes\":{\"line_alpha\":0.1,\"line_color\":\"orange\",\"x\":{\"field\":\"x\"},\"y\":{\"field\":\"y\"}},\"id\":\"23071\",\"type\":\"Line\"},{\"attributes\":{},\"id\":\"24942\",\"type\":\"Selection\"},{\"attributes\":{\"data_source\":{\"id\":\"22989\"},\"glyph\":{\"id\":\"22990\"},\"hover_glyph\":null,\"muted_glyph\":null,\"nonselection_glyph\":{\"id\":\"22991\"},\"selection_glyph\":null,\"view\":{\"id\":\"22993\"}},\"id\":\"22992\",\"type\":\"GlyphRenderer\"},{\"attributes\":{\"source\":{\"id\":\"23069\"}},\"id\":\"23073\",\"type\":\"CDSView\"},{\"attributes\":{\"data\":{\"x\":[3.0,3.0],\"y\":[0,0.09515698697710769]},\"selected\":{\"id\":\"25182\"},\"selection_policy\":{\"id\":\"25181\"}},\"id\":\"22994\",\"type\":\"ColumnDataSource\"},{\"attributes\":{\"data\":{\"x\":[7.0,8.0],\"y1\":[0,0],\"y2\":[0.09515698697710769,0.09515698697710769]},\"selected\":{\"id\":\"25214\"},\"selection_policy\":{\"id\":\"25213\"}},\"id\":\"23074\",\"type\":\"ColumnDataSource\"},{\"attributes\":{\"source\":{\"id\":\"22989\"}},\"id\":\"22993\",\"type\":\"CDSView\"},{\"attributes\":{\"line_alpha\":0.1,\"line_color\":\"orange\",\"x\":{\"field\":\"x\"},\"y\":{\"field\":\"y\"}},\"id\":\"22996\",\"type\":\"Line\"}],\"root_ids\":[\"23079\"]},\"title\":\"Bokeh Application\",\"version\":\"2.0.2\"}};\n",
       "  var render_items = [{\"docid\":\"23de7212-ab2c-4bd9-83b3-97239ddbf9f0\",\"root_ids\":[\"23079\"],\"roots\":{\"23079\":\"e771bf9e-6b5d-4da4-8376-e40b07ee3b99\"}}];\n",
       "  root.Bokeh.embed.embed_items_notebook(docs_json, render_items);\n",
       "\n",
       "  }\n",
       "  if (root.Bokeh !== undefined) {\n",
       "    embed_document(root);\n",
       "  } else {\n",
       "    var attempts = 0;\n",
       "    var timer = setInterval(function(root) {\n",
       "      if (root.Bokeh !== undefined) {\n",
       "        clearInterval(timer);\n",
       "        embed_document(root);\n",
       "      } else {\n",
       "        attempts++;\n",
       "        if (attempts > 100) {\n",
       "          clearInterval(timer);\n",
       "          console.log(\"Bokeh: ERROR: Unable to run BokehJS code because BokehJS library is missing\");\n",
       "        }\n",
       "      }\n",
       "    }, 10, root)\n",
       "  }\n",
       "})(window);"
      ],
      "application/vnd.bokehjs_exec.v0+json": ""
     },
     "metadata": {
      "application/vnd.bokehjs_exec.v0+json": {
       "id": "23079"
      }
     },
     "output_type": "display_data"
    }
   ],
   "source": [
    "p_list = []\n",
    "for i in range(2, 7):\n",
    "    p = figure(title=\"mutations = {}\".format(i), frame_height=200, frame_width=200,\n",
    "               tools='', background_fill_color=\"#fafafa\", y_axis_label=\"density\",\n",
    "              x_axis_label=\"ΔE [k_BT]\")\n",
    "    energies = df.loc[df.mutations == i, \"energy\"].values\n",
    "    hist, edges = np.histogram(energies, density=True, bins=50)\n",
    "    p.quad(top=hist, bottom=0, left=edges[:-1], right=edges[1:],\n",
    "          fill_color=\"navy\", line_color=\"white\", alpha=0.5)\n",
    "    for (b1, b2) in bins:\n",
    "        p.line(x=[b1, b1], y=[0, np.max(hist)], color=\"orange\")\n",
    "        p.line(x=[b2, b2], y=[0, np.max(hist)], color=\"orange\")\n",
    "        p.varea(x=[b1, b2], y1=[0, 0], y2=[np.max(hist), np.max(hist)], alpha=0.2, color=\"orange\")\n",
    "        \n",
    "    p_list.append(p)\n",
    "    \n",
    "bokeh.io.show(\n",
    "    grid(p_list, nrows=1)\n",
    ")\n",
    "    "
   ]
  },
  {
   "cell_type": "markdown",
   "metadata": {},
   "source": [
    "Select mutants that fall within the bins."
   ]
  },
  {
   "cell_type": "code",
   "execution_count": 117,
   "metadata": {},
   "outputs": [
    {
     "data": {
      "text/html": [
       "<div>\n",
       "<style scoped>\n",
       "    .dataframe tbody tr th:only-of-type {\n",
       "        vertical-align: middle;\n",
       "    }\n",
       "\n",
       "    .dataframe tbody tr th {\n",
       "        vertical-align: top;\n",
       "    }\n",
       "\n",
       "    .dataframe thead th {\n",
       "        text-align: right;\n",
       "    }\n",
       "</style>\n",
       "<table border=\"1\" class=\"dataframe\">\n",
       "  <thead>\n",
       "    <tr style=\"text-align: right;\">\n",
       "      <th></th>\n",
       "      <th>seq</th>\n",
       "      <th>mutations</th>\n",
       "      <th>energy</th>\n",
       "      <th>bin</th>\n",
       "    </tr>\n",
       "  </thead>\n",
       "  <tbody>\n",
       "    <tr>\n",
       "      <th>0</th>\n",
       "      <td>cATTGTGAGCGGATcACAATT</td>\n",
       "      <td>2</td>\n",
       "      <td>-0.069192</td>\n",
       "      <td>0</td>\n",
       "    </tr>\n",
       "    <tr>\n",
       "      <th>1</th>\n",
       "      <td>cATTGTGAGCGGATAACAAaT</td>\n",
       "      <td>2</td>\n",
       "      <td>-0.028948</td>\n",
       "      <td>0</td>\n",
       "    </tr>\n",
       "    <tr>\n",
       "      <th>2</th>\n",
       "      <td>cATTGTGAGCGGATAACAATg</td>\n",
       "      <td>2</td>\n",
       "      <td>-0.621844</td>\n",
       "      <td>0</td>\n",
       "    </tr>\n",
       "    <tr>\n",
       "      <th>3</th>\n",
       "      <td>AcTTGTGAGCGGATAACAATc</td>\n",
       "      <td>2</td>\n",
       "      <td>-0.520312</td>\n",
       "      <td>0</td>\n",
       "    </tr>\n",
       "    <tr>\n",
       "      <th>4</th>\n",
       "      <td>AAaTGTGAGCGGATAACAATc</td>\n",
       "      <td>2</td>\n",
       "      <td>-0.637571</td>\n",
       "      <td>0</td>\n",
       "    </tr>\n",
       "    <tr>\n",
       "      <th>5</th>\n",
       "      <td>AAaTGTGAGCGGATAACAATg</td>\n",
       "      <td>2</td>\n",
       "      <td>-0.089674</td>\n",
       "      <td>0</td>\n",
       "    </tr>\n",
       "    <tr>\n",
       "      <th>6</th>\n",
       "      <td>AATTGTGAGCGGATcACAATg</td>\n",
       "      <td>2</td>\n",
       "      <td>-0.459736</td>\n",
       "      <td>0</td>\n",
       "    </tr>\n",
       "    <tr>\n",
       "      <th>7</th>\n",
       "      <td>AATTGTGAGCGGATAcCAATc</td>\n",
       "      <td>2</td>\n",
       "      <td>-0.543543</td>\n",
       "      <td>0</td>\n",
       "    </tr>\n",
       "    <tr>\n",
       "      <th>8</th>\n",
       "      <td>AATTGTGAGCGGATAACAAac</td>\n",
       "      <td>2</td>\n",
       "      <td>-0.967390</td>\n",
       "      <td>0</td>\n",
       "    </tr>\n",
       "    <tr>\n",
       "      <th>9</th>\n",
       "      <td>AATTGTGAGCGGATAACAAag</td>\n",
       "      <td>2</td>\n",
       "      <td>-0.419492</td>\n",
       "      <td>0</td>\n",
       "    </tr>\n",
       "  </tbody>\n",
       "</table>\n",
       "</div>"
      ],
      "text/plain": [
       "                     seq  mutations    energy  bin\n",
       "0  cATTGTGAGCGGATcACAATT          2 -0.069192    0\n",
       "1  cATTGTGAGCGGATAACAAaT          2 -0.028948    0\n",
       "2  cATTGTGAGCGGATAACAATg          2 -0.621844    0\n",
       "3  AcTTGTGAGCGGATAACAATc          2 -0.520312    0\n",
       "4  AAaTGTGAGCGGATAACAATc          2 -0.637571    0\n",
       "5  AAaTGTGAGCGGATAACAATg          2 -0.089674    0\n",
       "6  AATTGTGAGCGGATcACAATg          2 -0.459736    0\n",
       "7  AATTGTGAGCGGATAcCAATc          2 -0.543543    0\n",
       "8  AATTGTGAGCGGATAACAAac          2 -0.967390    0\n",
       "9  AATTGTGAGCGGATAACAAag          2 -0.419492    0"
      ]
     },
     "execution_count": 117,
     "metadata": {},
     "output_type": "execute_result"
    }
   ],
   "source": [
    "df_list = []\n",
    "for i, (x,y) in enumerate(bins):\n",
    "    temp_df = copy.deepcopy(df.loc[[x < E < y for E in df[\"energy\"] ], :])\n",
    "    temp_df[\"bin\"] = np.ones(len(temp_df), dtype=int) * i\n",
    "    df_list.append(temp_df)\n",
    "    \n",
    "binned_df = pd.concat(df_list, ignore_index=True)\n",
    "binned_df.head(10)"
   ]
  },
  {
   "cell_type": "markdown",
   "metadata": {},
   "source": [
    "Now we need to select mutants from the bins. We want to try to get an equal number of sequences for each number of mutations per bin. However, some bins are sparsely populated by some type of mutants. Therefore we choose a maximal number of sequences per mutation type per bin. If there are more sequences in a bin, we randomly select sequences."
   ]
  },
  {
   "cell_type": "code",
   "execution_count": 118,
   "metadata": {},
   "outputs": [],
   "source": [
    "def select_seqs(df, ind_bin, num_seqs):\n",
    "    seqs_per_mut = np.floor(num_seqs / len(df.mutations.unique()))\n",
    "    rest = num_seqs - seqs_per_mut * len(df.mutations.unique())\n",
    "    count_df = df.groupby([\"mutations\", \"bin\"]).size().to_frame(name=\"num_mutants\").reset_index()\n",
    "    count_df = count_df.loc[count_df[\"bin\"] == ind_bin, :]\n",
    "    \n",
    "    ret_df = pd.DataFrame(columns=[\"seq\", \"mutations\", \"energy\", \"bin\"])\n",
    "    \n",
    "    for i in df.mutations.unique():\n",
    "        if count_df.loc[count_df[\"mutations\"] == i, \"num_mutants\"].values < seqs_per_mut:\n",
    "            ret_df = pd.concat([ret_df, df.loc[(df[\"mutations\"] == i) & (df[\"bin\"] == ind_bin), :]], ignore_index=True)\n",
    "        else:\n",
    "            indices = df.loc[(df[\"mutations\"] == i) & (df[\"bin\"] == ind_bin), :].index.to_numpy(dtype=int)\n",
    "            selected_indices = np.random.choice(indices, size=int(seqs_per_mut), replace=False)\n",
    "            ret_df = pd.concat([ret_df, df.iloc[selected_indices]])\n",
    "    return ret_df"
   ]
  },
  {
   "cell_type": "markdown",
   "metadata": {},
   "source": [
    "Now we only need to apply the function to each bin and collect sequences. "
   ]
  },
  {
   "cell_type": "code",
   "execution_count": 119,
   "metadata": {},
   "outputs": [
    {
     "data": {
      "text/html": [
       "<div>\n",
       "<style scoped>\n",
       "    .dataframe tbody tr th:only-of-type {\n",
       "        vertical-align: middle;\n",
       "    }\n",
       "\n",
       "    .dataframe tbody tr th {\n",
       "        vertical-align: top;\n",
       "    }\n",
       "\n",
       "    .dataframe thead th {\n",
       "        text-align: right;\n",
       "    }\n",
       "</style>\n",
       "<table border=\"1\" class=\"dataframe\">\n",
       "  <thead>\n",
       "    <tr style=\"text-align: right;\">\n",
       "      <th></th>\n",
       "      <th>seq</th>\n",
       "      <th>mutations</th>\n",
       "      <th>energy</th>\n",
       "      <th>bin</th>\n",
       "    </tr>\n",
       "  </thead>\n",
       "  <tbody>\n",
       "    <tr>\n",
       "      <th>0</th>\n",
       "      <td>AATTGTGAGCGGgTAACAATg</td>\n",
       "      <td>2</td>\n",
       "      <td>-0.293762</td>\n",
       "      <td>0</td>\n",
       "    </tr>\n",
       "    <tr>\n",
       "      <th>1</th>\n",
       "      <td>AATTGTGAGCGtATAACAATg</td>\n",
       "      <td>2</td>\n",
       "      <td>-0.108405</td>\n",
       "      <td>0</td>\n",
       "    </tr>\n",
       "    <tr>\n",
       "      <th>2</th>\n",
       "      <td>AATTGTGAGCGGATAACAAac</td>\n",
       "      <td>2</td>\n",
       "      <td>-0.967390</td>\n",
       "      <td>0</td>\n",
       "    </tr>\n",
       "    <tr>\n",
       "      <th>3</th>\n",
       "      <td>AATTGTGAGCGGATAcCAATc</td>\n",
       "      <td>2</td>\n",
       "      <td>-0.543543</td>\n",
       "      <td>0</td>\n",
       "    </tr>\n",
       "    <tr>\n",
       "      <th>4</th>\n",
       "      <td>AATTGTGAGCGtATAACAATc</td>\n",
       "      <td>2</td>\n",
       "      <td>-0.656303</td>\n",
       "      <td>0</td>\n",
       "    </tr>\n",
       "  </tbody>\n",
       "</table>\n",
       "</div>"
      ],
      "text/plain": [
       "                     seq mutations    energy bin\n",
       "0  AATTGTGAGCGGgTAACAATg         2 -0.293762   0\n",
       "1  AATTGTGAGCGtATAACAATg         2 -0.108405   0\n",
       "2  AATTGTGAGCGGATAACAAac         2 -0.967390   0\n",
       "3  AATTGTGAGCGGATAcCAATc         2 -0.543543   0\n",
       "4  AATTGTGAGCGtATAACAATc         2 -0.656303   0"
      ]
     },
     "execution_count": 119,
     "metadata": {},
     "output_type": "execute_result"
    }
   ],
   "source": [
    "O1_mutants_df_list = []\n",
    "for Bin in range(len(bins)):\n",
    "    O1_mutants_df_list.append(select_seqs(binned_df, Bin, 110))\n",
    "\n",
    "O1_mutants_df = pd.concat(O1_mutants_df_list, ignore_index=True)\n",
    "O1_mutants_df.head()"
   ]
  },
  {
   "cell_type": "markdown",
   "metadata": {},
   "source": [
    "Let's see how many sequences we have."
   ]
  },
  {
   "cell_type": "code",
   "execution_count": 156,
   "metadata": {},
   "outputs": [
    {
     "data": {
      "text/plain": [
       "998"
      ]
     },
     "execution_count": 156,
     "metadata": {},
     "output_type": "execute_result"
    }
   ],
   "source": [
    "len(O1_mutants_df.seq.values)"
   ]
  },
  {
   "cell_type": "markdown",
   "metadata": {},
   "source": [
    "Finally, we add all single mutants back to the oligo pool."
   ]
  },
  {
   "cell_type": "code",
   "execution_count": 157,
   "metadata": {},
   "outputs": [],
   "source": [
    "df_1[\"energy\"] = df_1['seq'].apply(energy_from_sequence, args= (O1_matrix, ))\n",
    "df_1[\"bin\"] = \"x\"\n",
    "O1_mutants_df = pd.concat([O1_mutants_df, df_1], ignore_index=True)"
   ]
  },
  {
   "cell_type": "markdown",
   "metadata": {},
   "source": [
    "Now we only need to add the lacUV5 sequence to each mutant to get the final constructs. We also add the wildtype operator sequences, and add the energy predicted by Hernan's paper."
   ]
  },
  {
   "cell_type": "code",
   "execution_count": 158,
   "metadata": {},
   "outputs": [
    {
     "data": {
      "text/html": [
       "<div>\n",
       "<style scoped>\n",
       "    .dataframe tbody tr th:only-of-type {\n",
       "        vertical-align: middle;\n",
       "    }\n",
       "\n",
       "    .dataframe tbody tr th {\n",
       "        vertical-align: top;\n",
       "    }\n",
       "\n",
       "    .dataframe thead th {\n",
       "        text-align: right;\n",
       "    }\n",
       "</style>\n",
       "<table border=\"1\" class=\"dataframe\">\n",
       "  <thead>\n",
       "    <tr style=\"text-align: right;\">\n",
       "      <th></th>\n",
       "      <th>seq</th>\n",
       "      <th>mutations</th>\n",
       "      <th>energy</th>\n",
       "      <th>bin</th>\n",
       "      <th>primer_added</th>\n",
       "    </tr>\n",
       "  </thead>\n",
       "  <tbody>\n",
       "    <tr>\n",
       "      <th>0</th>\n",
       "      <td>TCGAGTTTACACTTTATGCTTCCGGCTCGTATAATGTGTGGAATTG...</td>\n",
       "      <td>2</td>\n",
       "      <td>-0.293762</td>\n",
       "      <td>0</td>\n",
       "      <td>False</td>\n",
       "    </tr>\n",
       "    <tr>\n",
       "      <th>1</th>\n",
       "      <td>TCGAGTTTACACTTTATGCTTCCGGCTCGTATAATGTGTGGAATTG...</td>\n",
       "      <td>2</td>\n",
       "      <td>-0.108405</td>\n",
       "      <td>0</td>\n",
       "      <td>False</td>\n",
       "    </tr>\n",
       "    <tr>\n",
       "      <th>2</th>\n",
       "      <td>TCGAGTTTACACTTTATGCTTCCGGCTCGTATAATGTGTGGAATTG...</td>\n",
       "      <td>2</td>\n",
       "      <td>-0.967390</td>\n",
       "      <td>0</td>\n",
       "      <td>False</td>\n",
       "    </tr>\n",
       "    <tr>\n",
       "      <th>3</th>\n",
       "      <td>TCGAGTTTACACTTTATGCTTCCGGCTCGTATAATGTGTGGAATTG...</td>\n",
       "      <td>2</td>\n",
       "      <td>-0.543543</td>\n",
       "      <td>0</td>\n",
       "      <td>False</td>\n",
       "    </tr>\n",
       "    <tr>\n",
       "      <th>4</th>\n",
       "      <td>TCGAGTTTACACTTTATGCTTCCGGCTCGTATAATGTGTGGAATTG...</td>\n",
       "      <td>2</td>\n",
       "      <td>-0.656303</td>\n",
       "      <td>0</td>\n",
       "      <td>False</td>\n",
       "    </tr>\n",
       "  </tbody>\n",
       "</table>\n",
       "</div>"
      ],
      "text/plain": [
       "                                                 seq mutations    energy bin  \\\n",
       "0  TCGAGTTTACACTTTATGCTTCCGGCTCGTATAATGTGTGGAATTG...         2 -0.293762   0   \n",
       "1  TCGAGTTTACACTTTATGCTTCCGGCTCGTATAATGTGTGGAATTG...         2 -0.108405   0   \n",
       "2  TCGAGTTTACACTTTATGCTTCCGGCTCGTATAATGTGTGGAATTG...         2 -0.967390   0   \n",
       "3  TCGAGTTTACACTTTATGCTTCCGGCTCGTATAATGTGTGGAATTG...         2 -0.543543   0   \n",
       "4  TCGAGTTTACACTTTATGCTTCCGGCTCGTATAATGTGTGGAATTG...         2 -0.656303   0   \n",
       "\n",
       "   primer_added  \n",
       "0         False  \n",
       "1         False  \n",
       "2         False  \n",
       "3         False  \n",
       "4         False  "
      ]
     },
     "execution_count": 158,
     "metadata": {},
     "output_type": "execute_result"
    }
   ],
   "source": [
    "oligos = copy.deepcopy(O1_mutants_df)\n",
    "\n",
    "oligos.seq = [lacUV5 + seq for seq in oligos.seq]\n",
    "oligos = oligos.append(\n",
    "    pd.DataFrame(\n",
    "        [[lacUV5_O1, 0, 0, \"x\"],\n",
    "         [lacUV5_O2, 0, 1.4, \"x\"],\n",
    "         [lacUV5_O3, 0, 5.6, \"x\"]\n",
    "        ], \n",
    "        columns=['seq', 'mutations', 'energy', 'bin']), \n",
    "    ignore_index=True\n",
    ")\n",
    "oligos['primer_added'] = False\n",
    "oligos.head()"
   ]
  },
  {
   "cell_type": "code",
   "execution_count": 159,
   "metadata": {},
   "outputs": [
    {
     "data": {
      "text/html": [
       "<div>\n",
       "<style scoped>\n",
       "    .dataframe tbody tr th:only-of-type {\n",
       "        vertical-align: middle;\n",
       "    }\n",
       "\n",
       "    .dataframe tbody tr th {\n",
       "        vertical-align: top;\n",
       "    }\n",
       "\n",
       "    .dataframe thead th {\n",
       "        text-align: right;\n",
       "    }\n",
       "</style>\n",
       "<table border=\"1\" class=\"dataframe\">\n",
       "  <thead>\n",
       "    <tr style=\"text-align: right;\">\n",
       "      <th></th>\n",
       "      <th>seq</th>\n",
       "      <th>mutations</th>\n",
       "      <th>energy</th>\n",
       "      <th>bin</th>\n",
       "      <th>primer_added</th>\n",
       "    </tr>\n",
       "  </thead>\n",
       "  <tbody>\n",
       "    <tr>\n",
       "      <th>1059</th>\n",
       "      <td>TCGAGTTTACACTTTATGCTTCCGGCTCGTATAATGTGTGGAATTG...</td>\n",
       "      <td>1</td>\n",
       "      <td>0.745840</td>\n",
       "      <td>x</td>\n",
       "      <td>False</td>\n",
       "    </tr>\n",
       "    <tr>\n",
       "      <th>1060</th>\n",
       "      <td>TCGAGTTTACACTTTATGCTTCCGGCTCGTATAATGTGTGGAATTG...</td>\n",
       "      <td>1</td>\n",
       "      <td>-0.506194</td>\n",
       "      <td>x</td>\n",
       "      <td>False</td>\n",
       "    </tr>\n",
       "    <tr>\n",
       "      <th>1061</th>\n",
       "      <td>TCGAGTTTACACTTTATGCTTCCGGCTCGTATAATGTGTGGAATTG...</td>\n",
       "      <td>0</td>\n",
       "      <td>0.000000</td>\n",
       "      <td>x</td>\n",
       "      <td>False</td>\n",
       "    </tr>\n",
       "    <tr>\n",
       "      <th>1062</th>\n",
       "      <td>TCGAGTTTACACTTTATGCTTCCGGCTCGTATAATGTGTGGAAATG...</td>\n",
       "      <td>0</td>\n",
       "      <td>1.400000</td>\n",
       "      <td>x</td>\n",
       "      <td>False</td>\n",
       "    </tr>\n",
       "    <tr>\n",
       "      <th>1063</th>\n",
       "      <td>TCGAGTTTACACTTTATGCTTCCGGCTCGTATAATGTGTGGGGCAG...</td>\n",
       "      <td>0</td>\n",
       "      <td>5.600000</td>\n",
       "      <td>x</td>\n",
       "      <td>False</td>\n",
       "    </tr>\n",
       "  </tbody>\n",
       "</table>\n",
       "</div>"
      ],
      "text/plain": [
       "                                                    seq mutations    energy  \\\n",
       "1059  TCGAGTTTACACTTTATGCTTCCGGCTCGTATAATGTGTGGAATTG...         1  0.745840   \n",
       "1060  TCGAGTTTACACTTTATGCTTCCGGCTCGTATAATGTGTGGAATTG...         1 -0.506194   \n",
       "1061  TCGAGTTTACACTTTATGCTTCCGGCTCGTATAATGTGTGGAATTG...         0  0.000000   \n",
       "1062  TCGAGTTTACACTTTATGCTTCCGGCTCGTATAATGTGTGGAAATG...         0  1.400000   \n",
       "1063  TCGAGTTTACACTTTATGCTTCCGGCTCGTATAATGTGTGGGGCAG...         0  5.600000   \n",
       "\n",
       "     bin  primer_added  \n",
       "1059   x         False  \n",
       "1060   x         False  \n",
       "1061   x         False  \n",
       "1062   x         False  \n",
       "1063   x         False  "
      ]
     },
     "execution_count": 159,
     "metadata": {},
     "output_type": "execute_result"
    }
   ],
   "source": [
    "oligos.tail()"
   ]
  },
  {
   "cell_type": "markdown",
   "metadata": {},
   "source": [
    "Finally store the dataframe in the data folder."
   ]
  },
  {
   "cell_type": "code",
   "execution_count": 152,
   "metadata": {},
   "outputs": [],
   "source": [
    "oligos.to_csv(\"../../../../data/twist_order/lacI_sequences.csv\")"
   ]
  },
  {
   "cell_type": "markdown",
   "metadata": {},
   "source": [
    "## Computational environment"
   ]
  },
  {
   "cell_type": "code",
   "execution_count": 26,
   "metadata": {},
   "outputs": [
    {
     "name": "stdout",
     "output_type": "stream",
     "text": [
      "CPython 3.8.5\n",
      "IPython 7.10.0\n",
      "\n",
      "numpy 1.18.1\n",
      "pandas 1.0.3\n",
      "wgregseq 0.0.1\n",
      "bokeh 2.0.2\n"
     ]
    }
   ],
   "source": [
    "%load_ext watermark\n",
    "%watermark -v -p numpy,pandas,wgregseq,bokeh"
   ]
  }
 ],
 "metadata": {
  "kernelspec": {
   "display_name": "Python 3",
   "language": "python",
   "name": "python3"
  },
  "language_info": {
   "codemirror_mode": {
    "name": "ipython",
    "version": 3
   },
   "file_extension": ".py",
   "mimetype": "text/x-python",
   "name": "python",
   "nbconvert_exporter": "python",
   "pygments_lexer": "ipython3",
   "version": "3.8.5"
  }
 },
 "nbformat": 4,
 "nbformat_minor": 4
}
