{
 "cells": [
  {
   "cell_type": "markdown",
   "metadata": {},
   "source": [
    "# Exploring sequence of Tn10 "
   ]
  },
  {
   "cell_type": "code",
   "execution_count": 1,
   "metadata": {},
   "outputs": [],
   "source": [
    "import wgregseq\n",
    "%load_ext autoreload\n",
    "%autoreload 2\n",
    "\n",
    "import pandas as pd"
   ]
  },
  {
   "cell_type": "markdown",
   "metadata": {},
   "source": [
    "First we read the FASTA file obtained from Genebank."
   ]
  },
  {
   "cell_type": "code",
   "execution_count": 2,
   "metadata": {},
   "outputs": [],
   "source": [
    "with open (\"tn10.fasta\", \"r\") as file:\n",
    "    data = file.read().split('\\n')[1:]\n",
    "    sequence = \"\".join(data)"
   ]
  },
  {
   "cell_type": "markdown",
   "metadata": {},
   "source": [
    "Organization of tetR/tetA regulation:\n",
    "- two operators that can be bound independently by TetR\n",
    "- tetA is repressed by both tetO1 and tetO2\n",
    "- tetR is repressed only by tetO1\n",
    "- Affinity of tetO2 to TetR is about twice as high as tetO1"
   ]
  },
  {
   "cell_type": "markdown",
   "metadata": {},
   "source": [
    "![](tn10_tet.png)"
   ]
  },
  {
   "cell_type": "markdown",
   "metadata": {},
   "source": [
    "From Genebank, we can find the positions for *tetA* and *tetR*. The repressor gene is reversed, so we will have to obtain the complementary sequence in case we are interested in the actual sequences."
   ]
  },
  {
   "cell_type": "code",
   "execution_count": 3,
   "metadata": {},
   "outputs": [],
   "source": [
    "# Exact positions from Genebank\n",
    "tetR_pos = [4702, 5328]\n",
    "tetA_pos = [5407, 6612]\n",
    "\n",
    "tetA = sequence[tetA_pos[0]-1:tetA_pos[1]]\n",
    "tetR = wgregseq.complement_seq(sequence[tetA_pos[0]-1:tetA_pos[1]])"
   ]
  },
  {
   "cell_type": "code",
   "execution_count": 4,
   "metadata": {},
   "outputs": [],
   "source": [
    "# Positions taken from Bertram 2008\n",
    "tetO2_pos = [tetA_pos[0] - 28, tetA_pos[0] - 10]\n",
    "tetO1_pos = [tetA_pos[0] - 58, tetA_pos[0] - 40]\n",
    "\n",
    "tetO2 = sequence[tetO2_pos[0]:tetO2_pos[1]+1]\n",
    "tetO1 = sequence[tetO1_pos[0]:tetO1_pos[1]+1]"
   ]
  },
  {
   "cell_type": "code",
   "execution_count": 5,
   "metadata": {},
   "outputs": [
    {
     "data": {
      "text/plain": [
       "'TCCCTATCAGTGATAGAGA'"
      ]
     },
     "execution_count": 5,
     "metadata": {},
     "output_type": "execute_result"
    }
   ],
   "source": [
    "tetO2"
   ]
  },
  {
   "cell_type": "code",
   "execution_count": 6,
   "metadata": {},
   "outputs": [
    {
     "data": {
      "text/plain": [
       "'ACTCTATCATTGATAGAGT'"
      ]
     },
     "execution_count": 6,
     "metadata": {},
     "output_type": "execute_result"
    }
   ],
   "source": [
    "tetO1"
   ]
  },
  {
   "cell_type": "code",
   "execution_count": 7,
   "metadata": {},
   "outputs": [
    {
     "data": {
      "text/plain": [
       "'ACTCTATCAATGATAGAGT'"
      ]
     },
     "execution_count": 7,
     "metadata": {},
     "output_type": "execute_result"
    }
   ],
   "source": [
    "rev_tetO1 = wgregseq.complement_seq(tetO1, rev=True)\n",
    "rev_tetO1"
   ]
  },
  {
   "cell_type": "code",
   "execution_count": 8,
   "metadata": {},
   "outputs": [
    {
     "data": {
      "text/plain": [
       "'TCTCTATCACTGATAGGGA'"
      ]
     },
     "execution_count": 8,
     "metadata": {},
     "output_type": "execute_result"
    }
   ],
   "source": [
    "rev_tetO2 = wgregseq.complement_seq(tetO2, rev=True)\n",
    "rev_tetO2"
   ]
  },
  {
   "cell_type": "code",
   "execution_count": 9,
   "metadata": {},
   "outputs": [],
   "source": [
    "# TSS estimated from -10 region\n",
    "tetA_TSS = tetO2_pos[0]+1\n",
    "tetR_TSS1 = tetO2_pos[0] - 19\n",
    "tetR_TSS2 = tetO1_pos[0] - 8"
   ]
  },
  {
   "cell_type": "code",
   "execution_count": 10,
   "metadata": {},
   "outputs": [
    {
     "data": {
      "text/plain": [
       "'TTGACACTCTATCATTGATAGAGTTATTTTACCACTC'"
      ]
     },
     "execution_count": 10,
     "metadata": {},
     "output_type": "execute_result"
    }
   ],
   "source": [
    "P_tetA = sequence[tetA_TSS-36:tetA_TSS+1]\n",
    "P_tetA"
   ]
  },
  {
   "cell_type": "code",
   "execution_count": 11,
   "metadata": {},
   "outputs": [
    {
     "data": {
      "text/plain": [
       "'TTCTCTATCACTGATAGGGAGTGGTAAAATAACTCTAT'"
      ]
     },
     "execution_count": 11,
     "metadata": {},
     "output_type": "execute_result"
    }
   ],
   "source": [
    "P_tetR1 = wgregseq.complement_seq(sequence[tetO1_pos[1]-6:tetA_pos[0] - 8], rev=True)\n",
    "P_tetR1"
   ]
  },
  {
   "cell_type": "code",
   "execution_count": 12,
   "metadata": {},
   "outputs": [
    {
     "data": {
      "text/plain": [
       "'TGGTAAAATAACTCTATCAATGATAGAGTGTCAACAA'"
      ]
     },
     "execution_count": 12,
     "metadata": {},
     "output_type": "execute_result"
    }
   ],
   "source": [
    "P_tetR2 = wgregseq.complement_seq(sequence[tetO1_pos[0]-8:tetO2_pos[0]-1], rev=True)\n",
    "P_tetR2"
   ]
  },
  {
   "cell_type": "code",
   "execution_count": 13,
   "metadata": {},
   "outputs": [
    {
     "data": {
      "text/plain": [
       "37"
      ]
     },
     "execution_count": 13,
     "metadata": {},
     "output_type": "execute_result"
    }
   ],
   "source": [
    "len(P_tetA)"
   ]
  },
  {
   "cell_type": "code",
   "execution_count": 14,
   "metadata": {},
   "outputs": [],
   "source": [
    "lavUV5 = 'TCGAGTTTACACTTTATGCTTCCGGCTCGTATAATGTGTGG'"
   ]
  },
  {
   "cell_type": "markdown",
   "metadata": {},
   "source": [
    "## Constructs"
   ]
  },
  {
   "cell_type": "markdown",
   "metadata": {},
   "source": [
    "All constructs which are include a tet operator need to be integrated into a cell which expresses the tet repressor. However, the inserts which only have the promoter should be observed in the absence of the repressor to identify the binding energy matrix for the -10/-35 regions."
   ]
  },
  {
   "cell_type": "markdown",
   "metadata": {},
   "source": [
    "### RegSeq tetA"
   ]
  },
  {
   "cell_type": "markdown",
   "metadata": {},
   "source": [
    "This construct should be straight forward. One promoter, two operator binding sites. "
   ]
  },
  {
   "cell_type": "code",
   "execution_count": 15,
   "metadata": {},
   "outputs": [
    {
     "data": {
      "text/plain": [
       "'GACCTCATTAAGCAGCTCTAATGCGCTGTTAATCACTTTACTTTTATCTAATCTAGACATCATTAATTCCTAATTTTTGTTGACACTCTATCATTGATAGAGTTATTTTACCACTCCCTATCAGTGATAGAGAAAAGTGAAATGAATAGTTCGACAAAGA'"
      ]
     },
     "execution_count": 15,
     "metadata": {},
     "output_type": "execute_result"
    }
   ],
   "source": [
    "regseq_tetA = sequence[tetA_TSS-115:tetA_TSS+45]\n",
    "regseq_tetA"
   ]
  },
  {
   "cell_type": "markdown",
   "metadata": {},
   "source": [
    "### RegSeq tetR"
   ]
  },
  {
   "cell_type": "code",
   "execution_count": 16,
   "metadata": {},
   "outputs": [
    {
     "data": {
      "text/plain": [
       "'TAGATCTGTAGTAATTAAGGATTAAAAACAACTGTGAGATAGTAACTATCTCAATAAAATGGTGAGGGATAGTCACTATCTCTTTTCACTTTACTTATCAAGCTGTTTCTAGCGTAACCATTAATGCAATGAGCTACGGTACCCCTAACCGGAATAGTAC'"
      ]
     },
     "execution_count": 16,
     "metadata": {},
     "output_type": "execute_result"
    }
   ],
   "source": [
    "regseq_tetR1 = wgregseq.complement_seq(sequence[tetR_TSS1-45:tetR_TSS1+115])\n",
    "regseq_tetR1"
   ]
  },
  {
   "cell_type": "code",
   "execution_count": 17,
   "metadata": {},
   "outputs": [
    {
     "data": {
      "text/plain": [
       "'TAGTGAAATGAAAATAGATTAGATCTGTAGTAATTAAGGATTAAAAACAACTGTGAGATAGTAACTATCTCAATAAAATGGTGAGGGATAGTCACTATCTCTTTTCACTTTACTTATCAAGCTGTTTCTAGCGTAACCATTAATGCAATGAGCTACGGTA'"
      ]
     },
     "execution_count": 17,
     "metadata": {},
     "output_type": "execute_result"
    }
   ],
   "source": [
    "regseq_tetR2 = wgregseq.complement_seq(sequence[tetR_TSS2-45:tetR_TSS2+115])\n",
    "regseq_tetR2"
   ]
  },
  {
   "cell_type": "markdown",
   "metadata": {},
   "source": [
    "### LacUV5 + individual operators downstream"
   ]
  },
  {
   "cell_type": "code",
   "execution_count": 18,
   "metadata": {},
   "outputs": [
    {
     "data": {
      "text/plain": [
       "'TCGAGTTTACACTTTATGCTTCCGGCTCGTATAATGTGTGGACTCTATCATTGATAGAGT'"
      ]
     },
     "execution_count": 18,
     "metadata": {},
     "output_type": "execute_result"
    }
   ],
   "source": [
    "lacUV5_tetO1 = lavUV5 + tetO1\n",
    "lacUV5_tetO1"
   ]
  },
  {
   "cell_type": "code",
   "execution_count": 19,
   "metadata": {},
   "outputs": [
    {
     "data": {
      "text/html": [
       "<div>\n",
       "<style scoped>\n",
       "    .dataframe tbody tr th:only-of-type {\n",
       "        vertical-align: middle;\n",
       "    }\n",
       "\n",
       "    .dataframe tbody tr th {\n",
       "        vertical-align: top;\n",
       "    }\n",
       "\n",
       "    .dataframe thead th {\n",
       "        text-align: right;\n",
       "    }\n",
       "</style>\n",
       "<table border=\"1\" class=\"dataframe\">\n",
       "  <thead>\n",
       "    <tr style=\"text-align: right;\">\n",
       "      <th></th>\n",
       "      <th>seq</th>\n",
       "      <th>description</th>\n",
       "    </tr>\n",
       "  </thead>\n",
       "  <tbody>\n",
       "    <tr>\n",
       "      <th>0</th>\n",
       "      <td>TCGAGTTTACACTTTATGCTTCCGGCTCGTATAATGTGTGGACTCT...</td>\n",
       "      <td>lacUV5_tetO1 single mutant</td>\n",
       "    </tr>\n",
       "    <tr>\n",
       "      <th>1</th>\n",
       "      <td>TCGAGTTTACACTTTATGCTTCCGGCTCGTATAATGTGTGaACTCT...</td>\n",
       "      <td>lacUV5_tetO1 single mutant</td>\n",
       "    </tr>\n",
       "    <tr>\n",
       "      <th>2</th>\n",
       "      <td>TCGAGTTTACACTTTATGCTTCCGGCTCGTATAATGTGTGGcCTCT...</td>\n",
       "      <td>lacUV5_tetO1 single mutant</td>\n",
       "    </tr>\n",
       "    <tr>\n",
       "      <th>3</th>\n",
       "      <td>TCGAGTTTACACTTTATGCTTCCGGCTCGTATAATGTGTGGAaTCT...</td>\n",
       "      <td>lacUV5_tetO1 single mutant</td>\n",
       "    </tr>\n",
       "    <tr>\n",
       "      <th>4</th>\n",
       "      <td>TCGAGTTTACACTTTATGCTTCCGGCTCGTATAATGTGTGGACaCT...</td>\n",
       "      <td>lacUV5_tetO1 single mutant</td>\n",
       "    </tr>\n",
       "  </tbody>\n",
       "</table>\n",
       "</div>"
      ],
      "text/plain": [
       "                                                 seq  \\\n",
       "0  TCGAGTTTACACTTTATGCTTCCGGCTCGTATAATGTGTGGACTCT...   \n",
       "1  TCGAGTTTACACTTTATGCTTCCGGCTCGTATAATGTGTGaACTCT...   \n",
       "2  TCGAGTTTACACTTTATGCTTCCGGCTCGTATAATGTGTGGcCTCT...   \n",
       "3  TCGAGTTTACACTTTATGCTTCCGGCTCGTATAATGTGTGGAaTCT...   \n",
       "4  TCGAGTTTACACTTTATGCTTCCGGCTCGTATAATGTGTGGACaCT...   \n",
       "\n",
       "                  description  \n",
       "0  lacUV5_tetO1 single mutant  \n",
       "1  lacUV5_tetO1 single mutant  \n",
       "2  lacUV5_tetO1 single mutant  \n",
       "3  lacUV5_tetO1 single mutant  \n",
       "4  lacUV5_tetO1 single mutant  "
      ]
     },
     "execution_count": 19,
     "metadata": {},
     "output_type": "execute_result"
    }
   ],
   "source": [
    "mutants = wgregseq.mutations_det(lacUV5_tetO1, mut_per_seq=1, site_start=-20)\n",
    "tet_df1 = pd.DataFrame({\"seq\":mutants})\n",
    "tet_df1[\"description\"] = \"lacUV5_tetO1 single mutant\"\n",
    "tet_df1.head()"
   ]
  },
  {
   "cell_type": "code",
   "execution_count": 20,
   "metadata": {},
   "outputs": [
    {
     "data": {
      "text/plain": [
       "'TCGAGTTTACACTTTATGCTTCCGGCTCGTATAATGTGTGGTCCCTATCAGTGATAGAGA'"
      ]
     },
     "execution_count": 20,
     "metadata": {},
     "output_type": "execute_result"
    }
   ],
   "source": [
    "lacUV5_tetO2 = lavUV5 + tetO2\n",
    "lacUV5_tetO2"
   ]
  },
  {
   "cell_type": "code",
   "execution_count": 21,
   "metadata": {},
   "outputs": [
    {
     "data": {
      "text/html": [
       "<div>\n",
       "<style scoped>\n",
       "    .dataframe tbody tr th:only-of-type {\n",
       "        vertical-align: middle;\n",
       "    }\n",
       "\n",
       "    .dataframe tbody tr th {\n",
       "        vertical-align: top;\n",
       "    }\n",
       "\n",
       "    .dataframe thead th {\n",
       "        text-align: right;\n",
       "    }\n",
       "</style>\n",
       "<table border=\"1\" class=\"dataframe\">\n",
       "  <thead>\n",
       "    <tr style=\"text-align: right;\">\n",
       "      <th></th>\n",
       "      <th>index</th>\n",
       "      <th>seq</th>\n",
       "      <th>description</th>\n",
       "    </tr>\n",
       "  </thead>\n",
       "  <tbody>\n",
       "    <tr>\n",
       "      <th>0</th>\n",
       "      <td>0</td>\n",
       "      <td>TCGAGTTTACACTTTATGCTTCCGGCTCGTATAATGTGTGGACTCT...</td>\n",
       "      <td>lacUV5_tetO1 single mutant</td>\n",
       "    </tr>\n",
       "    <tr>\n",
       "      <th>1</th>\n",
       "      <td>1</td>\n",
       "      <td>TCGAGTTTACACTTTATGCTTCCGGCTCGTATAATGTGTGaACTCT...</td>\n",
       "      <td>lacUV5_tetO1 single mutant</td>\n",
       "    </tr>\n",
       "    <tr>\n",
       "      <th>2</th>\n",
       "      <td>2</td>\n",
       "      <td>TCGAGTTTACACTTTATGCTTCCGGCTCGTATAATGTGTGGcCTCT...</td>\n",
       "      <td>lacUV5_tetO1 single mutant</td>\n",
       "    </tr>\n",
       "    <tr>\n",
       "      <th>3</th>\n",
       "      <td>3</td>\n",
       "      <td>TCGAGTTTACACTTTATGCTTCCGGCTCGTATAATGTGTGGAaTCT...</td>\n",
       "      <td>lacUV5_tetO1 single mutant</td>\n",
       "    </tr>\n",
       "    <tr>\n",
       "      <th>4</th>\n",
       "      <td>4</td>\n",
       "      <td>TCGAGTTTACACTTTATGCTTCCGGCTCGTATAATGTGTGGACaCT...</td>\n",
       "      <td>lacUV5_tetO1 single mutant</td>\n",
       "    </tr>\n",
       "    <tr>\n",
       "      <th>...</th>\n",
       "      <td>...</td>\n",
       "      <td>...</td>\n",
       "      <td>...</td>\n",
       "    </tr>\n",
       "    <tr>\n",
       "      <th>111</th>\n",
       "      <td>53</td>\n",
       "      <td>TCGAGTTTACACTTTATGCTTCCGGCTCGTATAATGTGTGGTCCCT...</td>\n",
       "      <td>lacUV5_tetO2 single mutant</td>\n",
       "    </tr>\n",
       "    <tr>\n",
       "      <th>112</th>\n",
       "      <td>54</td>\n",
       "      <td>TCGAGTTTACACTTTATGCTTCCGGCTCGTATAATGTGTGGTCCCT...</td>\n",
       "      <td>lacUV5_tetO2 single mutant</td>\n",
       "    </tr>\n",
       "    <tr>\n",
       "      <th>113</th>\n",
       "      <td>55</td>\n",
       "      <td>TCGAGTTTACACTTTATGCTTCCGGCTCGTATAATGTGTGGTCCCT...</td>\n",
       "      <td>lacUV5_tetO2 single mutant</td>\n",
       "    </tr>\n",
       "    <tr>\n",
       "      <th>114</th>\n",
       "      <td>56</td>\n",
       "      <td>TCGAGTTTACACTTTATGCTTCCGGCTCGTATAATGTGTGGTCCCT...</td>\n",
       "      <td>lacUV5_tetO2 single mutant</td>\n",
       "    </tr>\n",
       "    <tr>\n",
       "      <th>115</th>\n",
       "      <td>57</td>\n",
       "      <td>TCGAGTTTACACTTTATGCTTCCGGCTCGTATAATGTGTGGTCCCT...</td>\n",
       "      <td>lacUV5_tetO2 single mutant</td>\n",
       "    </tr>\n",
       "  </tbody>\n",
       "</table>\n",
       "<p>116 rows × 3 columns</p>\n",
       "</div>"
      ],
      "text/plain": [
       "     index                                                seq  \\\n",
       "0        0  TCGAGTTTACACTTTATGCTTCCGGCTCGTATAATGTGTGGACTCT...   \n",
       "1        1  TCGAGTTTACACTTTATGCTTCCGGCTCGTATAATGTGTGaACTCT...   \n",
       "2        2  TCGAGTTTACACTTTATGCTTCCGGCTCGTATAATGTGTGGcCTCT...   \n",
       "3        3  TCGAGTTTACACTTTATGCTTCCGGCTCGTATAATGTGTGGAaTCT...   \n",
       "4        4  TCGAGTTTACACTTTATGCTTCCGGCTCGTATAATGTGTGGACaCT...   \n",
       "..     ...                                                ...   \n",
       "111     53  TCGAGTTTACACTTTATGCTTCCGGCTCGTATAATGTGTGGTCCCT...   \n",
       "112     54  TCGAGTTTACACTTTATGCTTCCGGCTCGTATAATGTGTGGTCCCT...   \n",
       "113     55  TCGAGTTTACACTTTATGCTTCCGGCTCGTATAATGTGTGGTCCCT...   \n",
       "114     56  TCGAGTTTACACTTTATGCTTCCGGCTCGTATAATGTGTGGTCCCT...   \n",
       "115     57  TCGAGTTTACACTTTATGCTTCCGGCTCGTATAATGTGTGGTCCCT...   \n",
       "\n",
       "                    description  \n",
       "0    lacUV5_tetO1 single mutant  \n",
       "1    lacUV5_tetO1 single mutant  \n",
       "2    lacUV5_tetO1 single mutant  \n",
       "3    lacUV5_tetO1 single mutant  \n",
       "4    lacUV5_tetO1 single mutant  \n",
       "..                          ...  \n",
       "111  lacUV5_tetO2 single mutant  \n",
       "112  lacUV5_tetO2 single mutant  \n",
       "113  lacUV5_tetO2 single mutant  \n",
       "114  lacUV5_tetO2 single mutant  \n",
       "115  lacUV5_tetO2 single mutant  \n",
       "\n",
       "[116 rows x 3 columns]"
      ]
     },
     "execution_count": 21,
     "metadata": {},
     "output_type": "execute_result"
    }
   ],
   "source": [
    "mutants = wgregseq.mutations_det(lacUV5_tetO2, mut_per_seq=1, site_start=-20)\n",
    "tet_df2 = pd.DataFrame({\"seq\":mutants})\n",
    "tet_df2[\"description\"] = \"lacUV5_tetO2 single mutant\"\n",
    "tet_df = pd.concat([tet_df1, tet_df2]).reset_index()\n",
    "tet_df"
   ]
  },
  {
   "cell_type": "markdown",
   "metadata": {},
   "source": [
    "## -10/-35 without operators"
   ]
  },
  {
   "cell_type": "markdown",
   "metadata": {},
   "source": [
    "This one we could right away without quantifying how many repressors are around."
   ]
  },
  {
   "cell_type": "code",
   "execution_count": 22,
   "metadata": {},
   "outputs": [
    {
     "data": {
      "text/plain": [
       "'TCACTTTTCTCTATCACTGATAGGGAGTGGTAAAATAACTCTATC'"
      ]
     },
     "execution_count": 22,
     "metadata": {},
     "output_type": "execute_result"
    }
   ],
   "source": [
    "PR1 = wgregseq.complement_seq(sequence[tetR_TSS1:tetR_TSS1+45], rev=True)\n",
    "PR1"
   ]
  },
  {
   "cell_type": "code",
   "execution_count": 23,
   "metadata": {},
   "outputs": [
    {
     "data": {
      "text/plain": [
       "'ATAGGGAGTGGTAAAATAACTCTATCAATGATAGAGTGTCAACAA'"
      ]
     },
     "execution_count": 23,
     "metadata": {},
     "output_type": "execute_result"
    }
   ],
   "source": [
    "PR2 = wgregseq.complement_seq(sequence[tetR_TSS2:tetR_TSS2+45], rev=True)\n",
    "PR2"
   ]
  },
  {
   "cell_type": "code",
   "execution_count": 24,
   "metadata": {},
   "outputs": [
    {
     "data": {
      "text/plain": [
       "'TAATTTTTGTTGACACTCTATCATTGATAGAGTTATTTTACCACTC'"
      ]
     },
     "execution_count": 24,
     "metadata": {},
     "output_type": "execute_result"
    }
   ],
   "source": [
    "PA = sequence[tetA_TSS-45:tetA_TSS+1]\n",
    "PA"
   ]
  },
  {
   "cell_type": "code",
   "execution_count": 40,
   "metadata": {},
   "outputs": [
    {
     "data": {
      "text/plain": [
       "array(['ATAGGGAGTGGTAAAATAACTCTATCAATGATAGAGTGTCAACAA',\n",
       "       'ATAcGGAGTcGTAAAAcAACTCTATCAAaGATAGAGTGTCAACAA',\n",
       "       'ATAGGGAGTGGTAAAATAACTCTcTCAATGATAGAGTGTCAACAA', ...,\n",
       "       'ATAGGGAGTGGTgAAATAACTCTATCAATGATAGAGTGTCAACAA',\n",
       "       'ATAGGGAGTGaTAAAATAcCTaTATCAATGAaAGAGTGTCAACAA',\n",
       "       'ATAGGtAGTcGTAAAATAgCcCTATtAAgGcTcGgGTGTCAACAA'], dtype='<U45')"
      ]
     },
     "execution_count": 40,
     "metadata": {},
     "output_type": "execute_result"
    }
   ],
   "source": [
    "wgregseq.mutations_rand(PR2, 1500, 0.1)\n"
   ]
  },
  {
   "cell_type": "code",
   "execution_count": 34,
   "metadata": {},
   "outputs": [
    {
     "data": {
      "text/plain": [
       "array([None, None, None, None, None, None, None, None, None, None],\n",
       "      dtype=object)"
      ]
     },
     "execution_count": 34,
     "metadata": {},
     "output_type": "execute_result"
    }
   ],
   "source": [
    "import numpy as np\n",
    "np.empty(10, dtype=object)#[np.array([1,2])])"
   ]
  },
  {
   "cell_type": "code",
   "execution_count": null,
   "metadata": {},
   "outputs": [],
   "source": []
  }
 ],
 "metadata": {
  "kernelspec": {
   "display_name": "Python 3",
   "language": "python",
   "name": "python3"
  },
  "language_info": {
   "codemirror_mode": {
    "name": "ipython",
    "version": 3
   },
   "file_extension": ".py",
   "mimetype": "text/x-python",
   "name": "python",
   "nbconvert_exporter": "python",
   "pygments_lexer": "ipython3",
   "version": "3.8.5"
  }
 },
 "nbformat": 4,
 "nbformat_minor": 4
}
