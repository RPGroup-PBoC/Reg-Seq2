{
 "cells": [
  {
   "cell_type": "markdown",
   "metadata": {},
   "source": [
    "# Generating mutation scrambles of different sizes."
   ]
  },
  {
   "cell_type": "markdown",
   "metadata": {},
   "source": [
    "(c) 2020 Tom Röschinger. This work is licensed under a [Creative Commons Attribution License CC-BY 4.0](https://creativecommons.org/licenses/by/4.0/). All code contained herein is licensed under an [MIT license](https://opensource.org/licenses/MIT)."
   ]
  },
  {
   "cell_type": "code",
   "execution_count": 1,
   "metadata": {},
   "outputs": [],
   "source": [
    "import wgregseq\n",
    "import numpy as np\n",
    "import pandas as pd\n",
    "\n",
    "# Set default plotting style\n",
    "wgregseq.plotting_style();"
   ]
  },
  {
   "cell_type": "code",
   "execution_count": 2,
   "metadata": {},
   "outputs": [
    {
     "data": {
      "text/html": [
       "<div>\n",
       "<style scoped>\n",
       "    .dataframe tbody tr th:only-of-type {\n",
       "        vertical-align: middle;\n",
       "    }\n",
       "\n",
       "    .dataframe tbody tr th {\n",
       "        vertical-align: top;\n",
       "    }\n",
       "\n",
       "    .dataframe thead th {\n",
       "        text-align: right;\n",
       "    }\n",
       "</style>\n",
       "<table border=\"1\" class=\"dataframe\">\n",
       "  <thead>\n",
       "    <tr style=\"text-align: right;\">\n",
       "      <th></th>\n",
       "      <th>name</th>\n",
       "      <th>start_site</th>\n",
       "      <th>rev</th>\n",
       "      <th>geneseq</th>\n",
       "      <th>ssdiff</th>\n",
       "      <th>offset</th>\n",
       "    </tr>\n",
       "  </thead>\n",
       "  <tbody>\n",
       "    <tr>\n",
       "      <th>0</th>\n",
       "      <td>fdoH</td>\n",
       "      <td>4085867.0</td>\n",
       "      <td>rev</td>\n",
       "      <td>CATTATGGTATTCTGTTACAAACCCTTCCTGGATGGAGGGAAATTG...</td>\n",
       "      <td>0.0</td>\n",
       "      <td>0.0</td>\n",
       "    </tr>\n",
       "    <tr>\n",
       "      <th>1</th>\n",
       "      <td>sdaB</td>\n",
       "      <td>2928035.0</td>\n",
       "      <td>fwd</td>\n",
       "      <td>TACATATATTGCGCGCCCCGGAAGAAGTCAGATGTCGTTTAATGGG...</td>\n",
       "      <td>0.0</td>\n",
       "      <td>0.0</td>\n",
       "    </tr>\n",
       "    <tr>\n",
       "      <th>2</th>\n",
       "      <td>thiM</td>\n",
       "      <td>2185451.0</td>\n",
       "      <td>rev</td>\n",
       "      <td>TCTGGATGTCGTTCTGAAGGTGCTGGATTCATATATCAAATAATTT...</td>\n",
       "      <td>0.0</td>\n",
       "      <td>0.0</td>\n",
       "    </tr>\n",
       "    <tr>\n",
       "      <th>3</th>\n",
       "      <td>yedJ</td>\n",
       "      <td>2033449.0</td>\n",
       "      <td>rev</td>\n",
       "      <td>TTTTTCCTGTATTCACTGCCGTTGCGCAAAATTTATCTATTTGTTC...</td>\n",
       "      <td>0.0</td>\n",
       "      <td>0.0</td>\n",
       "    </tr>\n",
       "    <tr>\n",
       "      <th>4</th>\n",
       "      <td>ykgE</td>\n",
       "      <td>321511.0</td>\n",
       "      <td>fwd</td>\n",
       "      <td>TCGATTTCCCCATAAAATGTGAGCGATGCCGAAAGAAATAAAATTA...</td>\n",
       "      <td>0.0</td>\n",
       "      <td>0.0</td>\n",
       "    </tr>\n",
       "  </tbody>\n",
       "</table>\n",
       "</div>"
      ],
      "text/plain": [
       "   name  start_site  rev                                            geneseq  \\\n",
       "0  fdoH   4085867.0  rev  CATTATGGTATTCTGTTACAAACCCTTCCTGGATGGAGGGAAATTG...   \n",
       "1  sdaB   2928035.0  fwd  TACATATATTGCGCGCCCCGGAAGAAGTCAGATGTCGTTTAATGGG...   \n",
       "2  thiM   2185451.0  rev  TCTGGATGTCGTTCTGAAGGTGCTGGATTCATATATCAAATAATTT...   \n",
       "3  yedJ   2033449.0  rev  TTTTTCCTGTATTCACTGCCGTTGCGCAAAATTTATCTATTTGTTC...   \n",
       "4  ykgE    321511.0  fwd  TCGATTTCCCCATAAAATGTGAGCGATGCCGAAAGAAATAAAATTA...   \n",
       "\n",
       "   ssdiff  offset  \n",
       "0     0.0     0.0  \n",
       "1     0.0     0.0  \n",
       "2     0.0     0.0  \n",
       "3     0.0     0.0  \n",
       "4     0.0     0.0  "
      ]
     },
     "execution_count": 2,
     "metadata": {},
     "output_type": "execute_result"
    }
   ],
   "source": [
    "df = pd.read_csv(\"../../data/RegSeq/wtsequences.csv\", index_col=0).reset_index(drop=True)\n",
    "df.head()"
   ]
  },
  {
   "cell_type": "markdown",
   "metadata": {},
   "source": [
    "Let's read out the wild type sequence for *ykgE*."
   ]
  },
  {
   "cell_type": "code",
   "execution_count": 3,
   "metadata": {},
   "outputs": [],
   "source": [
    "sequence = df.loc[df[\"name\"] == \"ykgE\", \"geneseq\"].values[0]"
   ]
  },
  {
   "cell_type": "code",
   "execution_count": 4,
   "metadata": {},
   "outputs": [
    {
     "ename": "ValueError",
     "evalue": "Cannot make scrambles with windowsize $windowsize and overlap $overlap.",
     "output_type": "error",
     "traceback": [
      "\u001b[0;31m---------------------------------------------------------------------------\u001b[0m",
      "\u001b[0;31mValueError\u001b[0m                                Traceback (most recent call last)",
      "\u001b[0;32m<ipython-input-4-d302a0eda29e>\u001b[0m in \u001b[0;36m<module>\u001b[0;34m\u001b[0m\n\u001b[0;32m----> 1\u001b[0;31m \u001b[0mwgregseq\u001b[0m\u001b[0;34m.\u001b[0m\u001b[0mscramble\u001b[0m\u001b[0;34m(\u001b[0m\u001b[0msequence\u001b[0m\u001b[0;34m,\u001b[0m \u001b[0;36m10\u001b[0m\u001b[0;34m,\u001b[0m \u001b[0;36m1\u001b[0m\u001b[0;34m)\u001b[0m\u001b[0;34m\u001b[0m\u001b[0;34m\u001b[0m\u001b[0m\n\u001b[0m",
      "\u001b[0;32m~/git/Reg-Seq2/software_module/wgregseq/seq_utils.py\u001b[0m in \u001b[0;36mscramble\u001b[0;34m(sequence, windowsize, overlap)\u001b[0m\n\u001b[1;32m     27\u001b[0m     \u001b[0;31m# Test if scrambles can created throughout whole site\u001b[0m\u001b[0;34m\u001b[0m\u001b[0;34m\u001b[0m\u001b[0;34m\u001b[0m\u001b[0m\n\u001b[1;32m     28\u001b[0m     \u001b[0;32mif\u001b[0m \u001b[0;32mnot\u001b[0m \u001b[0mn_scrambles\u001b[0m\u001b[0;34m.\u001b[0m\u001b[0mis_integer\u001b[0m\u001b[0;34m(\u001b[0m\u001b[0;34m)\u001b[0m\u001b[0;34m:\u001b[0m\u001b[0;34m\u001b[0m\u001b[0;34m\u001b[0m\u001b[0m\n\u001b[0;32m---> 29\u001b[0;31m         \u001b[0;32mraise\u001b[0m \u001b[0mValueError\u001b[0m\u001b[0;34m(\u001b[0m\u001b[0;34m\"Cannot make scrambles with windowsize $windowsize and overlap $overlap.\"\u001b[0m\u001b[0;34m)\u001b[0m\u001b[0;34m\u001b[0m\u001b[0;34m\u001b[0m\u001b[0m\n\u001b[0m\u001b[1;32m     30\u001b[0m     \"\"\"\n\u001b[1;32m     31\u001b[0m     \u001b[0mscrambled_sequences\u001b[0m \u001b[0;34m=\u001b[0m \u001b[0;34m[\u001b[0m\u001b[0msequence\u001b[0m\u001b[0;34m]\u001b[0m\u001b[0;34m\u001b[0m\u001b[0;34m\u001b[0m\u001b[0m\n",
      "\u001b[0;31mValueError\u001b[0m: Cannot make scrambles with windowsize $windowsize and overlap $overlap."
     ]
    }
   ],
   "source": [
    "wgregseq.scramble(sequence, 10, 1)"
   ]
  },
  {
   "cell_type": "code",
   "execution_count": null,
   "metadata": {},
   "outputs": [],
   "source": []
  }
 ],
 "metadata": {
  "kernelspec": {
   "display_name": "Python 3.8",
   "language": "python",
   "name": "py38"
  },
  "language_info": {
   "codemirror_mode": {
    "name": "ipython",
    "version": 3
   },
   "file_extension": ".py",
   "mimetype": "text/x-python",
   "name": "python",
   "nbconvert_exporter": "python",
   "pygments_lexer": "ipython3",
   "version": "3.8.1"
  }
 },
 "nbformat": 4,
 "nbformat_minor": 4
}
