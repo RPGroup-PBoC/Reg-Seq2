{
 "cells": [
  {
   "cell_type": "markdown",
   "id": "greatest-anchor",
   "metadata": {},
   "source": [
    "# Extract primers from twist order"
   ]
  },
  {
   "cell_type": "markdown",
   "id": "important-browse",
   "metadata": {},
   "source": [
    "(c) 2021 Tom Röschinger. This work is licensed under a [Creative Commons Attribution License CC-BY 4.0](https://creativecommons.org/licenses/by/4.0/). All code contained herein is licensed under an [MIT license](https://opensource.org/licenses/MIT)."
   ]
  },
  {
   "cell_type": "markdown",
   "id": "celtic-poster",
   "metadata": {},
   "source": [
    "***"
   ]
  },
  {
   "cell_type": "code",
   "execution_count": 1,
   "id": "aerial-california",
   "metadata": {},
   "outputs": [],
   "source": [
    "import pandas as pd\n",
    "import numpy as np\n",
    "\n",
    "import wgregseq"
   ]
  },
  {
   "cell_type": "code",
   "execution_count": 2,
   "id": "killing-coast",
   "metadata": {},
   "outputs": [],
   "source": [
    "df = pd.read_csv(\"../../data/twist_order/twist_order_full.csv\")\n",
    "df.forward_primers_0 = [(int(x.split(\",\")[0][1:]), int(x.split(\",\")[1][:-1])) for x in df.forward_primers_0]\n",
    "df.reverse_primers_0 = [(int(x.split(\",\")[0][1:]), int(x.split(\",\")[1][:-1])) for x in df.reverse_primers_0]\n",
    "df.reverse_primers_1 = [(int(x.split(\",\")[0][1:]), int(x.split(\",\")[1][:-1])) if x.split(\",\")[0][1:] != \"None\" else (None, None) for x in df.reverse_primers_1]"
   ]
  },
  {
   "cell_type": "code",
   "execution_count": 12,
   "id": "divided-serve",
   "metadata": {},
   "outputs": [],
   "source": [
    "unique_fwd_ind = np.unique([x for x, _ in df.forward_primers_0])\n",
    "unique_fwd_seq = [wgregseq.import_primer_fwd(x) for x in unique_fwd_ind]\n",
    "unique_fwd_label = [\"{}\".format(x) + \"_fwd\" for x in unique_fwd_ind]\n",
    "df_primers_fwd = pd.DataFrame(data={\"primer\":unique_fwd_label, \"seq\":unique_fwd_seq})\n"
   ]
  },
  {
   "cell_type": "code",
   "execution_count": 24,
   "id": "later-effects",
   "metadata": {},
   "outputs": [],
   "source": [
    "unique_rev_ind = np.unique([x for x, _ in df.reverse_primers_0])\n",
    "unique_rev_seq = [wgregseq.import_primer_rev(x) for x in unique_rev_ind]\n",
    "unique_rev_label = [\"{}\".format(x) + \"_rev\" for x in unique_rev_ind]\n",
    "df_primers_rev = pd.DataFrame(data={\"primer\":unique_rev_label, \"seq\":unique_rev_seq})\n",
    "\n",
    "unique_rev2_ind = np.unique([x for x, _ in df.reverse_primers_1 if x != None])\n",
    "unique_rev2_seq = [wgregseq.import_primer_rev(x) for x in unique_rev2_ind]\n",
    "unique_rev2_label = [\"{}\".format(x) + \"_rev\" for x in unique_rev2_ind]\n",
    "df_primers_rev2 = pd.DataFrame(data={\"primer\":unique_rev2_label, \"seq\":unique_rev2_seq})"
   ]
  },
  {
   "cell_type": "code",
   "execution_count": 29,
   "id": "prepared-mission",
   "metadata": {},
   "outputs": [
    {
     "data": {
      "text/html": [
       "<div>\n",
       "<style scoped>\n",
       "    .dataframe tbody tr th:only-of-type {\n",
       "        vertical-align: middle;\n",
       "    }\n",
       "\n",
       "    .dataframe tbody tr th {\n",
       "        vertical-align: top;\n",
       "    }\n",
       "\n",
       "    .dataframe thead th {\n",
       "        text-align: right;\n",
       "    }\n",
       "</style>\n",
       "<table border=\"1\" class=\"dataframe\">\n",
       "  <thead>\n",
       "    <tr style=\"text-align: right;\">\n",
       "      <th></th>\n",
       "      <th>primer</th>\n",
       "      <th>seq</th>\n",
       "    </tr>\n",
       "  </thead>\n",
       "  <tbody>\n",
       "    <tr>\n",
       "      <th>0</th>\n",
       "      <td>100_fwd</td>\n",
       "      <td>GCTTATTCGTGCCGTGTTAT</td>\n",
       "    </tr>\n",
       "    <tr>\n",
       "      <th>1</th>\n",
       "      <td>102_fwd</td>\n",
       "      <td>GTCGAGTCCTATGTAACCGT</td>\n",
       "    </tr>\n",
       "    <tr>\n",
       "      <th>2</th>\n",
       "      <td>103_fwd</td>\n",
       "      <td>GTAAGATGGAAGCCGGGATA</td>\n",
       "    </tr>\n",
       "    <tr>\n",
       "      <th>3</th>\n",
       "      <td>104_fwd</td>\n",
       "      <td>GGTGTCGCAACATGATCTAC</td>\n",
       "    </tr>\n",
       "    <tr>\n",
       "      <th>4</th>\n",
       "      <td>105_fwd</td>\n",
       "      <td>GTGCTAAGTCACACTGTTGG</td>\n",
       "    </tr>\n",
       "  </tbody>\n",
       "</table>\n",
       "</div>"
      ],
      "text/plain": [
       "    primer                   seq\n",
       "0  100_fwd  GCTTATTCGTGCCGTGTTAT\n",
       "1  102_fwd  GTCGAGTCCTATGTAACCGT\n",
       "2  103_fwd  GTAAGATGGAAGCCGGGATA\n",
       "3  104_fwd  GGTGTCGCAACATGATCTAC\n",
       "4  105_fwd  GTGCTAAGTCACACTGTTGG"
      ]
     },
     "execution_count": 29,
     "metadata": {},
     "output_type": "execute_result"
    }
   ],
   "source": [
    "df_primers = pd.concat([df_primers_fwd, df_primers_rev, df_primers_rev2], ignore_index=True)\n",
    "df_primers.to_csv(\"../../data/twist_order/primer_list.csv\", index=False)\n",
    "\n",
    "df_primers.head()"
   ]
  },
  {
   "cell_type": "markdown",
   "id": "extensive-enhancement",
   "metadata": {},
   "source": [
    "### Computing Environment"
   ]
  },
  {
   "cell_type": "code",
   "execution_count": 14,
   "id": "lonely-surgery",
   "metadata": {},
   "outputs": [
    {
     "name": "stdout",
     "output_type": "stream",
     "text": [
      "The watermark extension is already loaded. To reload it, use:\n",
      "  %reload_ext watermark\n",
      "Python implementation: CPython\n",
      "Python version       : 3.8.5\n",
      "IPython version      : 7.20.0\n",
      "\n",
      "wgregseq: 0.0.1\n",
      "Bio     : 1.78\n",
      "pandas  : 1.2.1\n",
      "numpy   : 1.19.2\n",
      "\n"
     ]
    }
   ],
   "source": [
    "%load_ext watermark\n",
    "%watermark -v -p wgregseq,Bio,pandas,numpy"
   ]
  }
 ],
 "metadata": {
  "kernelspec": {
   "display_name": "Python 3",
   "language": "python",
   "name": "python3"
  },
  "language_info": {
   "codemirror_mode": {
    "name": "ipython",
    "version": 3
   },
   "file_extension": ".py",
   "mimetype": "text/x-python",
   "name": "python",
   "nbconvert_exporter": "python",
   "pygments_lexer": "ipython3",
   "version": "3.8.5"
  }
 },
 "nbformat": 4,
 "nbformat_minor": 5
}
