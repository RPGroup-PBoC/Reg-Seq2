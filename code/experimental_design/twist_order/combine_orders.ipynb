{
 "cells": [
  {
   "cell_type": "markdown",
   "metadata": {},
   "source": [
    "# Combine files for TWIST order"
   ]
  },
  {
   "cell_type": "markdown",
   "metadata": {},
   "source": [
    "(c) 2020 Tom Röschinger. This work is licensed under a [Creative Commons Attribution License CC-BY 4.0](https://creativecommons.org/licenses/by/4.0/). All code contained herein is licensed under an [MIT license](https://opensource.org/licenses/MIT)."
   ]
  },
  {
   "cell_type": "markdown",
   "metadata": {},
   "source": [
    "***"
   ]
  },
  {
   "cell_type": "markdown",
   "metadata": {},
   "source": [
    "In this notebook we combine the individually prepared sequences for various experiments into the final twist order. Therefore we need to add orthogonal primers to the ends of all inserts. Also, we add additional reverse primers for different constructs within the experiments, so they can be amplified individually. Also, we might add restriction sites to the constructs to remove the primers from the transcript."
   ]
  },
  {
   "cell_type": "code",
   "execution_count": 33,
   "metadata": {},
   "outputs": [
    {
     "name": "stdout",
     "output_type": "stream",
     "text": [
      "The autoreload extension is already loaded. To reload it, use:\n",
      "  %reload_ext autoreload\n"
     ]
    }
   ],
   "source": [
    "import wgregseq\n",
    "%load_ext autoreload\n",
    "%autoreload 2\n",
    "\n",
    "import Bio\n",
    "from Bio.Restriction import *\n",
    "\n",
    "from itertools import compress\n",
    "\n",
    "import pandas as pd\n",
    "import numpy as np\n",
    "import copy\n",
    "\n",
    "import glob"
   ]
  },
  {
   "cell_type": "markdown",
   "metadata": {},
   "source": [
    "### Import"
   ]
  },
  {
   "cell_type": "markdown",
   "metadata": {},
   "source": [
    "Import all `csv` files in the `data/twist_order` folder in this repo."
   ]
  },
  {
   "cell_type": "code",
   "execution_count": 169,
   "metadata": {},
   "outputs": [
    {
     "data": {
      "text/plain": [
       "['../../../data/twist_order/lacI_sequences.csv',\n",
       " '../../../data/twist_order/lacUV5_tetOx_single_double_mutants.csv',\n",
       " '../../../data/twist_order/lacUV_mutants.csv',\n",
       " '../../../data/twist_order/natural_tet_promoters_mutated.csv']"
      ]
     },
     "execution_count": 169,
     "metadata": {},
     "output_type": "execute_result"
    }
   ],
   "source": [
    "file_list = sorted(glob.glob(\"../../../data/twist_order/*.csv\"))\n",
    "file_list"
   ]
  },
  {
   "cell_type": "markdown",
   "metadata": {},
   "source": [
    "Import each data frame."
   ]
  },
  {
   "cell_type": "code",
   "execution_count": 206,
   "metadata": {},
   "outputs": [],
   "source": [
    "df_list = []\n",
    "for file in file_list:\n",
    "    df_list.append(pd.read_csv(file, index_col=0))"
   ]
  },
  {
   "cell_type": "markdown",
   "metadata": {},
   "source": [
    "Do a quick check to confirm that the necessary columns are annotated correctly. We need a column with the sequences (`seq`), a column having the information if primers were added or not (`primer_added`), and to which construct each sequence belongs (`construct`)."
   ]
  },
  {
   "cell_type": "code",
   "execution_count": 207,
   "metadata": {},
   "outputs": [],
   "source": [
    "def check_file(df, filename):\n",
    "    for header in ['seq', 'primer_added', 'construct']:\n",
    "        if header not in df.columns:\n",
    "            print(\"{} not a column header in file {}.\".format(header, filename))\n",
    "            \n",
    "    return"
   ]
  },
  {
   "cell_type": "markdown",
   "metadata": {},
   "source": [
    "Let's check all files in the folder."
   ]
  },
  {
   "cell_type": "code",
   "execution_count": 208,
   "metadata": {},
   "outputs": [],
   "source": [
    "for (df, name) in zip(df_list, file_list):\n",
    "    check_file(df, name)"
   ]
  },
  {
   "cell_type": "markdown",
   "metadata": {},
   "source": [
    "Let's go through the workflow for the first experiment."
   ]
  },
  {
   "cell_type": "code",
   "execution_count": 228,
   "metadata": {},
   "outputs": [
    {
     "data": {
      "text/html": [
       "<div>\n",
       "<style scoped>\n",
       "    .dataframe tbody tr th:only-of-type {\n",
       "        vertical-align: middle;\n",
       "    }\n",
       "\n",
       "    .dataframe tbody tr th {\n",
       "        vertical-align: top;\n",
       "    }\n",
       "\n",
       "    .dataframe thead th {\n",
       "        text-align: right;\n",
       "    }\n",
       "</style>\n",
       "<table border=\"1\" class=\"dataframe\">\n",
       "  <thead>\n",
       "    <tr style=\"text-align: right;\">\n",
       "      <th></th>\n",
       "      <th>seq</th>\n",
       "      <th>mutations</th>\n",
       "      <th>energy</th>\n",
       "      <th>bin</th>\n",
       "      <th>construct</th>\n",
       "      <th>primer_added</th>\n",
       "    </tr>\n",
       "  </thead>\n",
       "  <tbody>\n",
       "    <tr>\n",
       "      <th>0</th>\n",
       "      <td>TCGAGTTTACACTTTATGCTTCCGGCTCGTATAATGTGTGGAATTG...</td>\n",
       "      <td>2</td>\n",
       "      <td>-0.293762</td>\n",
       "      <td>0</td>\n",
       "      <td>lacUV5+O1_mutant</td>\n",
       "      <td>False</td>\n",
       "    </tr>\n",
       "    <tr>\n",
       "      <th>1</th>\n",
       "      <td>TCGAGTTTACACTTTATGCTTCCGGCTCGTATAATGTGTGGAATTG...</td>\n",
       "      <td>2</td>\n",
       "      <td>-0.108405</td>\n",
       "      <td>0</td>\n",
       "      <td>lacUV5+O1_mutant</td>\n",
       "      <td>False</td>\n",
       "    </tr>\n",
       "    <tr>\n",
       "      <th>2</th>\n",
       "      <td>TCGAGTTTACACTTTATGCTTCCGGCTCGTATAATGTGTGGAATTG...</td>\n",
       "      <td>2</td>\n",
       "      <td>-0.967390</td>\n",
       "      <td>0</td>\n",
       "      <td>lacUV5+O1_mutant</td>\n",
       "      <td>False</td>\n",
       "    </tr>\n",
       "    <tr>\n",
       "      <th>3</th>\n",
       "      <td>TCGAGTTTACACTTTATGCTTCCGGCTCGTATAATGTGTGGAATTG...</td>\n",
       "      <td>2</td>\n",
       "      <td>-0.543543</td>\n",
       "      <td>0</td>\n",
       "      <td>lacUV5+O1_mutant</td>\n",
       "      <td>False</td>\n",
       "    </tr>\n",
       "    <tr>\n",
       "      <th>4</th>\n",
       "      <td>TCGAGTTTACACTTTATGCTTCCGGCTCGTATAATGTGTGGAATTG...</td>\n",
       "      <td>2</td>\n",
       "      <td>-0.656303</td>\n",
       "      <td>0</td>\n",
       "      <td>lacUV5+O1_mutant</td>\n",
       "      <td>False</td>\n",
       "    </tr>\n",
       "    <tr>\n",
       "      <th>...</th>\n",
       "      <td>...</td>\n",
       "      <td>...</td>\n",
       "      <td>...</td>\n",
       "      <td>...</td>\n",
       "      <td>...</td>\n",
       "      <td>...</td>\n",
       "    </tr>\n",
       "    <tr>\n",
       "      <th>1122</th>\n",
       "      <td>TCGAGTTTACACTTTATGCTTCCGGCTCGTATAATGTGTGGAATTG...</td>\n",
       "      <td>1</td>\n",
       "      <td>0.745840</td>\n",
       "      <td>x</td>\n",
       "      <td>lacUV5+O1_mutant</td>\n",
       "      <td>False</td>\n",
       "    </tr>\n",
       "    <tr>\n",
       "      <th>1123</th>\n",
       "      <td>TCGAGTTTACACTTTATGCTTCCGGCTCGTATAATGTGTGGAATTG...</td>\n",
       "      <td>1</td>\n",
       "      <td>-0.506194</td>\n",
       "      <td>x</td>\n",
       "      <td>lacUV5+O1_mutant</td>\n",
       "      <td>False</td>\n",
       "    </tr>\n",
       "    <tr>\n",
       "      <th>1124</th>\n",
       "      <td>TCGAGTTTACACTTTATGCTTCCGGCTCGTATAATGTGTGGAATTG...</td>\n",
       "      <td>0</td>\n",
       "      <td>0.000000</td>\n",
       "      <td>x</td>\n",
       "      <td>lacUV5+O1</td>\n",
       "      <td>False</td>\n",
       "    </tr>\n",
       "    <tr>\n",
       "      <th>1125</th>\n",
       "      <td>TCGAGTTTACACTTTATGCTTCCGGCTCGTATAATGTGTGGAAATG...</td>\n",
       "      <td>0</td>\n",
       "      <td>1.400000</td>\n",
       "      <td>x</td>\n",
       "      <td>lacUV5+O2</td>\n",
       "      <td>False</td>\n",
       "    </tr>\n",
       "    <tr>\n",
       "      <th>1126</th>\n",
       "      <td>TCGAGTTTACACTTTATGCTTCCGGCTCGTATAATGTGTGGGGCAG...</td>\n",
       "      <td>0</td>\n",
       "      <td>5.600000</td>\n",
       "      <td>x</td>\n",
       "      <td>lacUV5+O3</td>\n",
       "      <td>False</td>\n",
       "    </tr>\n",
       "  </tbody>\n",
       "</table>\n",
       "<p>1127 rows × 6 columns</p>\n",
       "</div>"
      ],
      "text/plain": [
       "                                                    seq  mutations    energy  \\\n",
       "0     TCGAGTTTACACTTTATGCTTCCGGCTCGTATAATGTGTGGAATTG...          2 -0.293762   \n",
       "1     TCGAGTTTACACTTTATGCTTCCGGCTCGTATAATGTGTGGAATTG...          2 -0.108405   \n",
       "2     TCGAGTTTACACTTTATGCTTCCGGCTCGTATAATGTGTGGAATTG...          2 -0.967390   \n",
       "3     TCGAGTTTACACTTTATGCTTCCGGCTCGTATAATGTGTGGAATTG...          2 -0.543543   \n",
       "4     TCGAGTTTACACTTTATGCTTCCGGCTCGTATAATGTGTGGAATTG...          2 -0.656303   \n",
       "...                                                 ...        ...       ...   \n",
       "1122  TCGAGTTTACACTTTATGCTTCCGGCTCGTATAATGTGTGGAATTG...          1  0.745840   \n",
       "1123  TCGAGTTTACACTTTATGCTTCCGGCTCGTATAATGTGTGGAATTG...          1 -0.506194   \n",
       "1124  TCGAGTTTACACTTTATGCTTCCGGCTCGTATAATGTGTGGAATTG...          0  0.000000   \n",
       "1125  TCGAGTTTACACTTTATGCTTCCGGCTCGTATAATGTGTGGAAATG...          0  1.400000   \n",
       "1126  TCGAGTTTACACTTTATGCTTCCGGCTCGTATAATGTGTGGGGCAG...          0  5.600000   \n",
       "\n",
       "     bin         construct  primer_added  \n",
       "0      0  lacUV5+O1_mutant         False  \n",
       "1      0  lacUV5+O1_mutant         False  \n",
       "2      0  lacUV5+O1_mutant         False  \n",
       "3      0  lacUV5+O1_mutant         False  \n",
       "4      0  lacUV5+O1_mutant         False  \n",
       "...   ..               ...           ...  \n",
       "1122   x  lacUV5+O1_mutant         False  \n",
       "1123   x  lacUV5+O1_mutant         False  \n",
       "1124   x         lacUV5+O1         False  \n",
       "1125   x         lacUV5+O2         False  \n",
       "1126   x         lacUV5+O3         False  \n",
       "\n",
       "[1127 rows x 6 columns]"
      ]
     },
     "execution_count": 228,
     "metadata": {},
     "output_type": "execute_result"
    }
   ],
   "source": [
    "df_0 = df_list[0]\n",
    "df_0"
   ]
  },
  {
   "cell_type": "markdown",
   "metadata": {},
   "source": [
    "### Restriction site"
   ]
  },
  {
   "cell_type": "markdown",
   "metadata": {},
   "source": [
    "First, we add the restriction site to the sequences to remove the reverse primers later on. This restriction site should leave the same sticky ends as the system that the inserts are going to be integrated."
   ]
  },
  {
   "cell_type": "markdown",
   "metadata": {},
   "source": [
    "As an example, we add the site for `EcoRI` to the sequences."
   ]
  },
  {
   "cell_type": "code",
   "execution_count": 212,
   "metadata": {},
   "outputs": [
    {
     "data": {
      "text/plain": [
       "'GAATTC'"
      ]
     },
     "execution_count": 212,
     "metadata": {},
     "output_type": "execute_result"
    }
   ],
   "source": [
    "EcoRI.site"
   ]
  },
  {
   "cell_type": "markdown",
   "metadata": {},
   "source": [
    "Let's add the restriction site to the sequences."
   ]
  },
  {
   "cell_type": "code",
   "execution_count": 265,
   "metadata": {},
   "outputs": [
    {
     "data": {
      "text/plain": [
       "'TCGAGTTTACACTTTATGCTTCCGGCTCGTATAATGTGTGGAATTGTGAGCGGgTAACAATgGAATTC'"
      ]
     },
     "execution_count": 265,
     "metadata": {},
     "output_type": "execute_result"
    }
   ],
   "source": [
    "seqs = np.array(df_0['seq'].values, dtype=object)\n",
    "seqs = wgregseq.add_restriction_site(seqs, EcoRI)\n",
    "seqs[0]"
   ]
  },
  {
   "cell_type": "markdown",
   "metadata": {},
   "source": [
    "### Primers"
   ]
  },
  {
   "cell_type": "markdown",
   "metadata": {},
   "source": [
    "Next we add a reverse primer to for each construct. For this purpose we simply use the `add_primers` function with the additional keyword argument `rev_only`. "
   ]
  },
  {
   "cell_type": "code",
   "execution_count": 266,
   "metadata": {},
   "outputs": [
    {
     "data": {
      "text/plain": [
       "array(['TCGAGTTTACACTTTATGCTTCCGGCTCGTATAATGTGTGGAATTGTGAGCGGgTAACAATgGAATTCCTGAATGTTCGGGATTTCCC',\n",
       "       'TCGAGTTTACACTTTATGCTTCCGGCTCGTATAATGTGTGGAATTGTGAGCGtATAACAATgGAATTCCTGAATGTTCGGGATTTCCC',\n",
       "       'TCGAGTTTACACTTTATGCTTCCGGCTCGTATAATGTGTGGAATTGTGAGCGGATAACAAacGAATTCCTGAATGTTCGGGATTTCCC',\n",
       "       ...,\n",
       "       'TCGAGTTTACACTTTATGCTTCCGGCTCGTATAATGTGTGGAATTGTGAGCGGATAACAATTGAATTCGCGGCTTGATAGTTGCATTA',\n",
       "       'TCGAGTTTACACTTTATGCTTCCGGCTCGTATAATGTGTGGAAATGTGAGCGAGTAACAACCGAATTCTCCAATATCCTGTCCGTCTG',\n",
       "       'TCGAGTTTACACTTTATGCTTCCGGCTCGTATAATGTGTGGGGCAGTGAGCGCAACGCAATTGAATTCATGGGTAATTTCATGCCACG'],\n",
       "      dtype=object)"
      ]
     },
     "execution_count": 266,
     "metadata": {},
     "output_type": "execute_result"
    }
   ],
   "source": [
    "primer=20\n",
    "for construct in df_0['construct'].unique():\n",
    "    indices = np.asarray((df_0['construct'] == construct).values == True).nonzero()\n",
    "    seqs[indices] = wgregseq.add_primers(seqs[indices], primer, rev_only=True)\n",
    "    primer += 1\n",
    "seqs"
   ]
  },
  {
   "cell_type": "markdown",
   "metadata": {},
   "source": [
    "Now we add a primer pair to both sides of all sequences. Also, we add random base pairs at the end of the sequences to end up with the correct total length. (Don't execute this cell twice without running the two previous ones.)"
   ]
  },
  {
   "cell_type": "code",
   "execution_count": 267,
   "metadata": {},
   "outputs": [],
   "source": [
    "seqs = wgregseq.add_primers(seqs, primer, autocomplete=True)"
   ]
  },
  {
   "cell_type": "markdown",
   "metadata": {},
   "source": [
    "Now the sequences have a total length of 200 base pairs."
   ]
  },
  {
   "cell_type": "code",
   "execution_count": 268,
   "metadata": {},
   "outputs": [
    {
     "data": {
      "text/plain": [
       "200"
      ]
     },
     "execution_count": 268,
     "metadata": {},
     "output_type": "execute_result"
    }
   ],
   "source": [
    "len(seqs[0])"
   ]
  },
  {
   "cell_type": "markdown",
   "metadata": {},
   "source": [
    "Now we need to add these sequences to a final data frame."
   ]
  },
  {
   "cell_type": "code",
   "execution_count": null,
   "metadata": {},
   "outputs": [],
   "source": []
  }
 ],
 "metadata": {
  "kernelspec": {
   "display_name": "Python 3",
   "language": "python",
   "name": "python3"
  },
  "language_info": {
   "codemirror_mode": {
    "name": "ipython",
    "version": 3
   },
   "file_extension": ".py",
   "mimetype": "text/x-python",
   "name": "python",
   "nbconvert_exporter": "python",
   "pygments_lexer": "ipython3",
   "version": "3.8.5"
  }
 },
 "nbformat": 4,
 "nbformat_minor": 4
}
