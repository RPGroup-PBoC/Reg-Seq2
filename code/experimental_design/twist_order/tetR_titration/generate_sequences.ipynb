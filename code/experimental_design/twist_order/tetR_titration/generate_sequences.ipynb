{
 "cells": [
  {
   "cell_type": "markdown",
   "metadata": {},
   "source": [
    "# Exploring Regulatory Sequence of *tetR*/*tetA* in Tn10 "
   ]
  },
  {
   "cell_type": "markdown",
   "metadata": {},
   "source": [
    "(c) 2020 Tom Röschinger. This work is licensed under a [Creative Commons Attribution License CC-BY 4.0](https://creativecommons.org/licenses/by/4.0/). All code contained herein is licensed under an [MIT license](https://opensource.org/licenses/MIT)."
   ]
  },
  {
   "cell_type": "markdown",
   "metadata": {},
   "source": [
    "***"
   ]
  },
  {
   "cell_type": "markdown",
   "metadata": {},
   "source": [
    "In this notebook we look at the transposon **tn10**, which contains a natural system for the expression of *tetA*, which is regulated by *tetR*."
   ]
  },
  {
   "cell_type": "code",
   "execution_count": 1,
   "metadata": {},
   "outputs": [],
   "source": [
    "import wgregseq\n",
    "\n",
    "# Include these if package is manipulated while running the notebook\n",
    "%load_ext autoreload\n",
    "%autoreload 2\n",
    "\n",
    "import pandas as pd\n",
    "import numpy as np"
   ]
  },
  {
   "cell_type": "markdown",
   "metadata": {},
   "source": [
    "First we read the FASTA file obtained from Genebank."
   ]
  },
  {
   "cell_type": "code",
   "execution_count": 2,
   "metadata": {},
   "outputs": [],
   "source": [
    "with open (\"tn10.fasta\", \"r\") as file:\n",
    "    data = file.read().split('\\n')[1:]\n",
    "    sequence = \"\".join(data)"
   ]
  },
  {
   "cell_type": "markdown",
   "metadata": {},
   "source": [
    "Organization of tetR/tetA regulation:\n",
    "- two operators that can be bound independently by TetR\n",
    "- tetA is repressed by both tetO1 and tetO2\n",
    "- tetR is repressed only by tetO1\n",
    "- Affinity of tetO2 to TetR is about twice as high as tetO1"
   ]
  },
  {
   "cell_type": "markdown",
   "metadata": {},
   "source": [
    "![](tn10_tet.png)"
   ]
  },
  {
   "cell_type": "markdown",
   "metadata": {},
   "source": [
    "From Genebank, we can find the positions for *tetA* and *tetR*. The repressor gene is reversed, so we will have to obtain the complementary sequence in case we are interested in the actual sequences."
   ]
  },
  {
   "cell_type": "code",
   "execution_count": 3,
   "metadata": {},
   "outputs": [],
   "source": [
    "# Exact positions from Genebank\n",
    "tetR_pos = [4702, 5328]\n",
    "tetA_pos = [5407, 6612]"
   ]
  },
  {
   "cell_type": "markdown",
   "metadata": {},
   "source": [
    "For simple access, let's extract the region between the two genes, which contains all regulatory elements."
   ]
  },
  {
   "cell_type": "code",
   "execution_count": 4,
   "metadata": {},
   "outputs": [
    {
     "data": {
      "text/plain": [
       "'TAATTCCTAATTTTTGTTGACACTCTATCATTGATAGAGTTATTTTACCACTCCCTATCAGTGATAGAGAAAAGTGAA'"
      ]
     },
     "execution_count": 4,
     "metadata": {},
     "output_type": "execute_result"
    }
   ],
   "source": [
    "intergenic_region = sequence[5328:5407-1]\n",
    "intergenic_region_rev = wgregseq.complement_seq(intergenic_region, rev=True)\n",
    "intergenic_region"
   ]
  },
  {
   "cell_type": "code",
   "execution_count": 5,
   "metadata": {},
   "outputs": [
    {
     "data": {
      "text/plain": [
       "78"
      ]
     },
     "execution_count": 5,
     "metadata": {},
     "output_type": "execute_result"
    }
   ],
   "source": [
    "len(intergenic_region)"
   ]
  },
  {
   "cell_type": "markdown",
   "metadata": {},
   "source": [
    "Let's extract the sequences for the operators and promoters to confirm we found the right indices."
   ]
  },
  {
   "cell_type": "code",
   "execution_count": 6,
   "metadata": {},
   "outputs": [
    {
     "name": "stdout",
     "output_type": "stream",
     "text": [
      "tetO1:  ACTCTATCATTGATAGAGT\n",
      "tetO2:  TCCCTATCAGTGATAGAGA\n"
     ]
    }
   ],
   "source": [
    "tetO1 = intergenic_region[21:40]\n",
    "print(\"tetO1: \", tetO1)\n",
    "\n",
    "tetO2 = intergenic_region[51:70]\n",
    "print(\"tetO2: \", tetO2)"
   ]
  },
  {
   "cell_type": "code",
   "execution_count": 7,
   "metadata": {},
   "outputs": [
    {
     "data": {
      "text/plain": [
       "'ACTCTATCAATGATAGAGT'"
      ]
     },
     "execution_count": 7,
     "metadata": {},
     "output_type": "execute_result"
    }
   ],
   "source": [
    "rev_tetO1 = wgregseq.complement_seq(tetO1, rev=True)\n",
    "rev_tetO1"
   ]
  },
  {
   "cell_type": "code",
   "execution_count": 8,
   "metadata": {},
   "outputs": [
    {
     "data": {
      "text/plain": [
       "'TCTCTATCACTGATAGGGA'"
      ]
     },
     "execution_count": 8,
     "metadata": {},
     "output_type": "execute_result"
    }
   ],
   "source": [
    "rev_tetO2 = wgregseq.complement_seq(tetO2, rev=True)\n",
    "rev_tetO2"
   ]
  },
  {
   "cell_type": "code",
   "execution_count": 9,
   "metadata": {},
   "outputs": [
    {
     "data": {
      "text/plain": [
       "'TTGACACTCTATCATTGATAGAGTTATTTTACCACTC'"
      ]
     },
     "execution_count": 9,
     "metadata": {},
     "output_type": "execute_result"
    }
   ],
   "source": [
    "P_tetA = intergenic_region[16:53]\n",
    "P_tetA"
   ]
  },
  {
   "cell_type": "code",
   "execution_count": 10,
   "metadata": {},
   "outputs": [
    {
     "data": {
      "text/plain": [
       "'TTCTCTATCACTGATAGGGAGTGGTAAAATAACTCTAT'"
      ]
     },
     "execution_count": 10,
     "metadata": {},
     "output_type": "execute_result"
    }
   ],
   "source": [
    "P_tetR1 = intergenic_region_rev[7:45]\n",
    "P_tetR1"
   ]
  },
  {
   "cell_type": "code",
   "execution_count": 11,
   "metadata": {},
   "outputs": [
    {
     "data": {
      "text/plain": [
       "'TGGTAAAATAACTCTATCAATGATAGAGTGTCAACAA'"
      ]
     },
     "execution_count": 11,
     "metadata": {},
     "output_type": "execute_result"
    }
   ],
   "source": [
    "P_tetR2 = intergenic_region_rev[28:65]\n",
    "P_tetR2"
   ]
  },
  {
   "cell_type": "markdown",
   "metadata": {},
   "source": [
    "These all look fine. Let's assign the lacUV5 sequence from Brewster 2012 to a variable, so we can add it to the mutated sequences later on."
   ]
  },
  {
   "cell_type": "code",
   "execution_count": 12,
   "metadata": {},
   "outputs": [],
   "source": [
    "lacUV5 = 'TCGAGTTTACACTTTATGCTTCCGGCTCGTATAATGTGTGG'"
   ]
  },
  {
   "cell_type": "markdown",
   "metadata": {},
   "source": [
    "## Constructs"
   ]
  },
  {
   "cell_type": "markdown",
   "metadata": {},
   "source": [
    "All constructs which are include a tet operator need to be integrated into a cell which expresses the tet repressor. However, the inserts which only have the promoter should be observed in the absence of the repressor to identify the binding energy matrix for the -10/-35 regions."
   ]
  },
  {
   "cell_type": "markdown",
   "metadata": {},
   "source": [
    "### LacUV5 + individual operators downstream"
   ]
  },
  {
   "cell_type": "markdown",
   "metadata": {},
   "source": [
    "First we mutate the operator sequences and put them downstream of lacUV5, such that we obtain a simple repression motif. Therefore, we use the function `wgregseq.mutations_det` to generate single and double mutants of each operator. We include all single mutants and 400 single mutants. The function guarantees that only unique sequences are returned, so no duplicates."
   ]
  },
  {
   "cell_type": "markdown",
   "metadata": {},
   "source": [
    "First the tetO1 single mutants."
   ]
  },
  {
   "cell_type": "code",
   "execution_count": 13,
   "metadata": {},
   "outputs": [
    {
     "data": {
      "text/html": [
       "<div>\n",
       "<style scoped>\n",
       "    .dataframe tbody tr th:only-of-type {\n",
       "        vertical-align: middle;\n",
       "    }\n",
       "\n",
       "    .dataframe tbody tr th {\n",
       "        vertical-align: top;\n",
       "    }\n",
       "\n",
       "    .dataframe thead th {\n",
       "        text-align: right;\n",
       "    }\n",
       "</style>\n",
       "<table border=\"1\" class=\"dataframe\">\n",
       "  <thead>\n",
       "    <tr style=\"text-align: right;\">\n",
       "      <th></th>\n",
       "      <th>seq</th>\n",
       "      <th>construct</th>\n",
       "    </tr>\n",
       "  </thead>\n",
       "  <tbody>\n",
       "    <tr>\n",
       "      <th>0</th>\n",
       "      <td>cCTCTATCATTGATAGAGT</td>\n",
       "      <td>lacUV5_tetO1 single mutant</td>\n",
       "    </tr>\n",
       "    <tr>\n",
       "      <th>1</th>\n",
       "      <td>AaTCTATCATTGATAGAGT</td>\n",
       "      <td>lacUV5_tetO1 single mutant</td>\n",
       "    </tr>\n",
       "    <tr>\n",
       "      <th>2</th>\n",
       "      <td>ACaCTATCATTGATAGAGT</td>\n",
       "      <td>lacUV5_tetO1 single mutant</td>\n",
       "    </tr>\n",
       "    <tr>\n",
       "      <th>3</th>\n",
       "      <td>ACTaTATCATTGATAGAGT</td>\n",
       "      <td>lacUV5_tetO1 single mutant</td>\n",
       "    </tr>\n",
       "    <tr>\n",
       "      <th>4</th>\n",
       "      <td>ACTCaATCATTGATAGAGT</td>\n",
       "      <td>lacUV5_tetO1 single mutant</td>\n",
       "    </tr>\n",
       "  </tbody>\n",
       "</table>\n",
       "</div>"
      ],
      "text/plain": [
       "                   seq                   construct\n",
       "0  cCTCTATCATTGATAGAGT  lacUV5_tetO1 single mutant\n",
       "1  AaTCTATCATTGATAGAGT  lacUV5_tetO1 single mutant\n",
       "2  ACaCTATCATTGATAGAGT  lacUV5_tetO1 single mutant\n",
       "3  ACTaTATCATTGATAGAGT  lacUV5_tetO1 single mutant\n",
       "4  ACTCaATCATTGATAGAGT  lacUV5_tetO1 single mutant"
      ]
     },
     "execution_count": 13,
     "metadata": {},
     "output_type": "execute_result"
    }
   ],
   "source": [
    "# Obtain mutants\n",
    "mutants_single = wgregseq.mutations_det(tetO1, mut_per_seq=1)\n",
    "\n",
    "# Store sequences in data frame\n",
    "tetO1_df_single = pd.DataFrame({\"seq\":mutants_single})\n",
    "\n",
    "# Add description column\n",
    "tetO1_df_single[\"construct\"] = \"lacUV5_tetO1 single mutant\"\n",
    "\n",
    "# Show first 5 rows\n",
    "tetO1_df_single.head()"
   ]
  },
  {
   "cell_type": "markdown",
   "metadata": {},
   "source": [
    "Second the tetO1 double mutants."
   ]
  },
  {
   "cell_type": "code",
   "execution_count": 14,
   "metadata": {},
   "outputs": [
    {
     "data": {
      "text/html": [
       "<div>\n",
       "<style scoped>\n",
       "    .dataframe tbody tr th:only-of-type {\n",
       "        vertical-align: middle;\n",
       "    }\n",
       "\n",
       "    .dataframe tbody tr th {\n",
       "        vertical-align: top;\n",
       "    }\n",
       "\n",
       "    .dataframe thead th {\n",
       "        text-align: right;\n",
       "    }\n",
       "</style>\n",
       "<table border=\"1\" class=\"dataframe\">\n",
       "  <thead>\n",
       "    <tr style=\"text-align: right;\">\n",
       "      <th></th>\n",
       "      <th>seq</th>\n",
       "      <th>construct</th>\n",
       "    </tr>\n",
       "  </thead>\n",
       "  <tbody>\n",
       "    <tr>\n",
       "      <th>0</th>\n",
       "      <td>ACTCTAgCATTtATAGAGT</td>\n",
       "      <td>lacUV5_tetO1 double mutant</td>\n",
       "    </tr>\n",
       "    <tr>\n",
       "      <th>1</th>\n",
       "      <td>ACTCTATCgTTGATcGAGT</td>\n",
       "      <td>lacUV5_tetO1 double mutant</td>\n",
       "    </tr>\n",
       "    <tr>\n",
       "      <th>2</th>\n",
       "      <td>ACTCaATCAgTGATAGAGT</td>\n",
       "      <td>lacUV5_tetO1 double mutant</td>\n",
       "    </tr>\n",
       "    <tr>\n",
       "      <th>3</th>\n",
       "      <td>cCTCaATCATTGATAGAGT</td>\n",
       "      <td>lacUV5_tetO1 double mutant</td>\n",
       "    </tr>\n",
       "    <tr>\n",
       "      <th>4</th>\n",
       "      <td>ACTaTATCAaTGATAGAGT</td>\n",
       "      <td>lacUV5_tetO1 double mutant</td>\n",
       "    </tr>\n",
       "  </tbody>\n",
       "</table>\n",
       "</div>"
      ],
      "text/plain": [
       "                   seq                   construct\n",
       "0  ACTCTAgCATTtATAGAGT  lacUV5_tetO1 double mutant\n",
       "1  ACTCTATCgTTGATcGAGT  lacUV5_tetO1 double mutant\n",
       "2  ACTCaATCAgTGATAGAGT  lacUV5_tetO1 double mutant\n",
       "3  cCTCaATCATTGATAGAGT  lacUV5_tetO1 double mutant\n",
       "4  ACTaTATCAaTGATAGAGT  lacUV5_tetO1 double mutant"
      ]
     },
     "execution_count": 14,
     "metadata": {},
     "output_type": "execute_result"
    }
   ],
   "source": [
    "# Obtain mutants\n",
    "mutants_double_O1 = wgregseq.mutations_det(tetO1, mut_per_seq=2, num_mutants=400, site_start=-20)\n",
    "\n",
    "# Store sequences in data frame\n",
    "tetO1_df_double = pd.DataFrame({\"seq\":mutants_double_O1})\n",
    "\n",
    "# Add description column\n",
    "tetO1_df_double[\"construct\"] = \"lacUV5_tetO1 double mutant\"\n",
    "\n",
    "# Show first 5 rows\n",
    "tetO1_df_double.head()"
   ]
  },
  {
   "cell_type": "markdown",
   "metadata": {},
   "source": [
    "Since we are downsampling the double mutants, we should make sure that we obtain sufficient mutational coverage across the sequence. Hence, we use `wgregseq.mutation_coverage` to compute the mutation rate at each position. If there are positions which significantly vary of 0.1, we either have to rerun the function which generates the mutations, or take a larger sample size."
   ]
  },
  {
   "cell_type": "code",
   "execution_count": 15,
   "metadata": {},
   "outputs": [
    {
     "data": {
      "text/plain": [
       "array([0.1275, 0.0975, 0.115 , 0.0975, 0.09  , 0.1075, 0.1075, 0.1   ,\n",
       "       0.1025, 0.115 , 0.11  , 0.0775, 0.12  , 0.1075, 0.1075, 0.1075,\n",
       "       0.125 , 0.0875, 0.0975])"
      ]
     },
     "execution_count": 15,
     "metadata": {},
     "output_type": "execute_result"
    }
   ],
   "source": [
    "wgregseq.mutation_coverage(tetO1, mutants_double_O1)"
   ]
  },
  {
   "cell_type": "markdown",
   "metadata": {},
   "source": [
    "Now we can generate the mutants for tetO2 as well."
   ]
  },
  {
   "cell_type": "code",
   "execution_count": 16,
   "metadata": {},
   "outputs": [],
   "source": [
    "# Single mutants\n",
    "mutants_single_O2 = wgregseq.mutations_det(tetO2, mut_per_seq=1)\n",
    "tetO2_df_single = pd.DataFrame({\"seq\":mutants_single})\n",
    "tetO2_df_single[\"construct\"] = \"lacUV5_tetO2 single mutant\"\n",
    "\n",
    "# Double mutants\n",
    "mutants_double_O2 = wgregseq.mutations_det(tetO2, mut_per_seq=2, num_mutants=400)\n",
    "tetO2_df_double = pd.DataFrame({\"seq\":mutants_double_O2})\n",
    "tetO2_df_double[\"construct\"] = \"lacUV5_tetO2 double mutant\""
   ]
  },
  {
   "cell_type": "markdown",
   "metadata": {},
   "source": [
    "Again, before we proceed we should check the mutation coverage."
   ]
  },
  {
   "cell_type": "code",
   "execution_count": 17,
   "metadata": {},
   "outputs": [
    {
     "data": {
      "text/plain": [
       "array([0.11  , 0.095 , 0.1325, 0.1175, 0.1125, 0.085 , 0.0925, 0.0925,\n",
       "       0.1175, 0.085 , 0.085 , 0.1025, 0.115 , 0.115 , 0.11  , 0.1175,\n",
       "       0.1175, 0.095 , 0.1025])"
      ]
     },
     "execution_count": 17,
     "metadata": {},
     "output_type": "execute_result"
    }
   ],
   "source": [
    "wgregseq.mutation_coverage(tetO2, mutants_double_O2)"
   ]
  },
  {
   "cell_type": "markdown",
   "metadata": {},
   "source": [
    "Finally, we combine all sequences into a single data frame, and attach the lacUV5 promoter directly upstream of the mutated operators."
   ]
  },
  {
   "cell_type": "code",
   "execution_count": 18,
   "metadata": {},
   "outputs": [
    {
     "data": {
      "text/html": [
       "<div>\n",
       "<style scoped>\n",
       "    .dataframe tbody tr th:only-of-type {\n",
       "        vertical-align: middle;\n",
       "    }\n",
       "\n",
       "    .dataframe tbody tr th {\n",
       "        vertical-align: top;\n",
       "    }\n",
       "\n",
       "    .dataframe thead th {\n",
       "        text-align: right;\n",
       "    }\n",
       "</style>\n",
       "<table border=\"1\" class=\"dataframe\">\n",
       "  <thead>\n",
       "    <tr style=\"text-align: right;\">\n",
       "      <th></th>\n",
       "      <th>seq</th>\n",
       "      <th>construct</th>\n",
       "    </tr>\n",
       "  </thead>\n",
       "  <tbody>\n",
       "    <tr>\n",
       "      <th>0</th>\n",
       "      <td>TCGAGTTTACACTTTATGCTTCCGGCTCGTATAATGTGTGGcCTCT...</td>\n",
       "      <td>lacUV5_tetO1 single mutant</td>\n",
       "    </tr>\n",
       "    <tr>\n",
       "      <th>1</th>\n",
       "      <td>TCGAGTTTACACTTTATGCTTCCGGCTCGTATAATGTGTGGAaTCT...</td>\n",
       "      <td>lacUV5_tetO1 single mutant</td>\n",
       "    </tr>\n",
       "    <tr>\n",
       "      <th>2</th>\n",
       "      <td>TCGAGTTTACACTTTATGCTTCCGGCTCGTATAATGTGTGGACaCT...</td>\n",
       "      <td>lacUV5_tetO1 single mutant</td>\n",
       "    </tr>\n",
       "    <tr>\n",
       "      <th>3</th>\n",
       "      <td>TCGAGTTTACACTTTATGCTTCCGGCTCGTATAATGTGTGGACTaT...</td>\n",
       "      <td>lacUV5_tetO1 single mutant</td>\n",
       "    </tr>\n",
       "    <tr>\n",
       "      <th>4</th>\n",
       "      <td>TCGAGTTTACACTTTATGCTTCCGGCTCGTATAATGTGTGGACTCa...</td>\n",
       "      <td>lacUV5_tetO1 single mutant</td>\n",
       "    </tr>\n",
       "  </tbody>\n",
       "</table>\n",
       "</div>"
      ],
      "text/plain": [
       "                                                 seq  \\\n",
       "0  TCGAGTTTACACTTTATGCTTCCGGCTCGTATAATGTGTGGcCTCT...   \n",
       "1  TCGAGTTTACACTTTATGCTTCCGGCTCGTATAATGTGTGGAaTCT...   \n",
       "2  TCGAGTTTACACTTTATGCTTCCGGCTCGTATAATGTGTGGACaCT...   \n",
       "3  TCGAGTTTACACTTTATGCTTCCGGCTCGTATAATGTGTGGACTaT...   \n",
       "4  TCGAGTTTACACTTTATGCTTCCGGCTCGTATAATGTGTGGACTCa...   \n",
       "\n",
       "                    construct  \n",
       "0  lacUV5_tetO1 single mutant  \n",
       "1  lacUV5_tetO1 single mutant  \n",
       "2  lacUV5_tetO1 single mutant  \n",
       "3  lacUV5_tetO1 single mutant  \n",
       "4  lacUV5_tetO1 single mutant  "
      ]
     },
     "execution_count": 18,
     "metadata": {},
     "output_type": "execute_result"
    }
   ],
   "source": [
    "# Combine data frames\n",
    "tet_df = pd.concat([tetO1_df_single, tetO1_df_double, tetO2_df_single, tetO2_df_double], ignore_index=True)\n",
    "\n",
    "# Attach lacUV5 to each sequence\n",
    "tet_df.seq = [lacUV5 + seq for seq in tet_df.seq]\n",
    "\n",
    "# Print first 5 rows\n",
    "tet_df.head()"
   ]
  },
  {
   "cell_type": "markdown",
   "metadata": {},
   "source": [
    "This data frame will be included in the final file for the twist order. Therefore, we need to include a column which contains the information if we already added primers to the sequences. Then we save the table as `csv` file in the appropriate folder in this repository."
   ]
  },
  {
   "cell_type": "code",
   "execution_count": 19,
   "metadata": {},
   "outputs": [],
   "source": [
    "# Add column\n",
    "tet_df['primer_added'] = False\n",
    "\n",
    "# Store file\n",
    "tet_df.to_csv(\"../../../../data/twist_order/lacUV5_tetOx_single_double_mutants.csv\")"
   ]
  },
  {
   "cell_type": "markdown",
   "metadata": {},
   "source": [
    "## Native Promoter sequences"
   ]
  },
  {
   "cell_type": "markdown",
   "metadata": {},
   "source": [
    "Next, we design the constructs which contain the native promoter sequences. The goal here is to obtain an energy matrix for the RNAP binding sites. We do not need to be bothered about the operator binding sites, since we can integrate these constructs into strains which do not express the tet repressor and therefore the operators are not bound. In the paper there are two promoters annotated, but since we want to obtain data for the promoters individually, we will randomize the -10/-35 region of the opposing promoter if possible."
   ]
  },
  {
   "cell_type": "markdown",
   "metadata": {},
   "source": [
    "First we consider the promoter P_tetR1. Since the -35 region of P_tetR2 overlaps with the -10 of P_tetR2, we can only randomize the -10. Note that we are looking at the reverse sequence, since *tetR* is transcribed in the reverse direction."
   ]
  },
  {
   "cell_type": "code",
   "execution_count": 20,
   "metadata": {},
   "outputs": [
    {
     "data": {
      "text/plain": [
       "'TTCACTTTTCTCTATCACTGATAGGGAGTGGTAAAATAACTCTATCAATGcaagttccgtaatcctAATTAGGAATTA'"
      ]
     },
     "execution_count": 20,
     "metadata": {},
     "output_type": "execute_result"
    }
   ],
   "source": [
    "# Obtain reversed intergenic region as list to manipulate positions\n",
    "randomized_R2 = list(intergenic_region_rev)\n",
    "\n",
    "# Randomize -10 of P_tetR2\n",
    "randomized_R2[50:66] = list(wgregseq.gen_rand_seq(16).lower())\n",
    "\n",
    "# Recombine into string\n",
    "randomized_R2 = \"\".join(randomized_R2)\n",
    "\n",
    "# Print result\n",
    "randomized_R2"
   ]
  },
  {
   "cell_type": "markdown",
   "metadata": {},
   "source": [
    "Now we can generate mutations in P_tetR1. We'll randomly mutate the RNAP binding site at an average 0.1 rate (the actual number of mutants is picked from a Poisson distribution with mean `len(sequence) * rate`. The number of mutations can also be fixed, refer to the docstring of the function.) After generating mutations, we check the mutation coverage."
   ]
  },
  {
   "cell_type": "code",
   "execution_count": 21,
   "metadata": {},
   "outputs": [
    {
     "data": {
      "text/plain": [
       "array([0.12344398, 0.10892116, 0.0840249 , 0.10788382, 0.10580913,\n",
       "       0.10788382, 0.10995851, 0.09958506, 0.09024896, 0.1120332 ,\n",
       "       0.08817427, 0.093361  , 0.09958506, 0.11410788, 0.11099585,\n",
       "       0.10580913, 0.12240664, 0.10373444, 0.11929461, 0.08091286,\n",
       "       0.08609959, 0.09958506, 0.10373444, 0.12551867, 0.13381743,\n",
       "       0.10165975, 0.11825726, 0.09439834, 0.093361  , 0.08609959,\n",
       "       0.10995851, 0.1026971 , 0.07987552, 0.09543568, 0.09024896,\n",
       "       0.09958506, 0.09439834, 0.09751037, 0.10477178, 0.08506224])"
      ]
     },
     "execution_count": 21,
     "metadata": {},
     "output_type": "execute_result"
    }
   ],
   "source": [
    "# Generate mutants\n",
    "PR1_mutants = np.unique(wgregseq.mutations_rand(randomized_R2, 1000, 0.1, site_start=6, site_end=46))\n",
    "\n",
    "# Check mutation coverage\n",
    "wgregseq.mutation_coverage(randomized_R2, PR1_mutants, site_start=6, site_end=46)"
   ]
  },
  {
   "cell_type": "markdown",
   "metadata": {},
   "source": [
    "Next, we mutate the P_tetR2 region. Therefore, we first have to randomize the -35 region of P_tetR1. "
   ]
  },
  {
   "cell_type": "code",
   "execution_count": 22,
   "metadata": {},
   "outputs": [
    {
     "data": {
      "text/plain": [
       "'TTCACTcgttcagcgcgctcagTAGGGAGTGGTAAAATAACTCTATCAATGATAGAGTGTCAACAAAAATTAGGAATTA'"
      ]
     },
     "execution_count": 22,
     "metadata": {},
     "output_type": "execute_result"
    }
   ],
   "source": [
    "# Obtain reversed intergentic region as list\n",
    "randomized_R1 = list(intergenic_region_rev)\n",
    "\n",
    "# Randomize P_tetR1 -35 region\n",
    "randomized_R1[6:21] = list(wgregseq.gen_rand_seq(16).lower())\n",
    "\n",
    "# Recombine into string\n",
    "randomized_R1 = \"\".join(randomized_R1)\n",
    "\n",
    "# Print sequence\n",
    "randomized_R1"
   ]
  },
  {
   "cell_type": "markdown",
   "metadata": {},
   "source": [
    "Again, we generate mutants of the RNAP binding site and compute the mutation rate per position as quality control."
   ]
  },
  {
   "cell_type": "code",
   "execution_count": 23,
   "metadata": {},
   "outputs": [
    {
     "data": {
      "text/plain": [
       "array([0.10878661, 0.10669456, 0.10983264, 0.10774059, 0.10146444,\n",
       "       0.12343096, 0.11820084, 0.08786611, 0.10774059, 0.09728033,\n",
       "       0.09518828, 0.08472803, 0.10041841, 0.08786611, 0.10460251,\n",
       "       0.11610879, 0.12133891, 0.10564854, 0.09937238, 0.11087866,\n",
       "       0.11820084, 0.11506276, 0.09728033, 0.10460251, 0.11610879,\n",
       "       0.10355649, 0.09937238, 0.10774059, 0.11297071, 0.11506276,\n",
       "       0.10564854, 0.09623431, 0.10041841, 0.10041841, 0.09414226,\n",
       "       0.10251046, 0.10146444, 0.08891213, 0.10355649])"
      ]
     },
     "execution_count": 23,
     "metadata": {},
     "output_type": "execute_result"
    }
   ],
   "source": [
    "# Generate mutants\n",
    "PR2_mutants = np.unique(wgregseq.mutations_rand(randomized_R1, 1000, 0.1, site_start=27, site_end=66))\n",
    "\n",
    "# Compute mutation rate per position\n",
    "wgregseq.mutation_coverage(randomized_R1, PR2_mutants, site_start=27, site_end=66)"
   ]
  },
  {
   "cell_type": "markdown",
   "metadata": {},
   "source": [
    "Finally, we get mutants for the P_tetA sequence. Since this is the only RNAP binding site in the forward direction, we do not need to randomize anything of the sequence prior to generating mutants."
   ]
  },
  {
   "cell_type": "code",
   "execution_count": 24,
   "metadata": {},
   "outputs": [
    {
     "data": {
      "text/plain": [
       "array([0.09168443, 0.1130064 , 0.09594883, 0.10021322, 0.1119403 ,\n",
       "       0.1130064 , 0.1098081 , 0.10021322, 0.10660981, 0.10554371,\n",
       "       0.1119403 , 0.10767591, 0.10660981, 0.11407249, 0.11833689,\n",
       "       0.1098081 , 0.10767591, 0.11620469, 0.10234542, 0.12046908,\n",
       "       0.1098081 , 0.07995736, 0.10447761, 0.1130064 , 0.09381663,\n",
       "       0.09808102, 0.11513859, 0.09914712, 0.09701493, 0.09061834,\n",
       "       0.09808102, 0.09808102, 0.09808102, 0.10447761, 0.12260128,\n",
       "       0.10447761, 0.10127932])"
      ]
     },
     "execution_count": 24,
     "metadata": {},
     "output_type": "execute_result"
    }
   ],
   "source": [
    "# Generate mutants\n",
    "PA_mutants = np.unique(wgregseq.mutations_rand(intergenic_region, 1000, 0.1, site_start=16, site_end=53))\n",
    "\n",
    "# Compute mutation rate per position\n",
    "wgregseq.mutation_coverage(intergenic_region, PA_mutants, site_start=16, site_end=53)"
   ]
  },
  {
   "cell_type": "markdown",
   "metadata": {},
   "source": [
    "We combine all generated sequences into a data frame and add the necessary columns. Also we add a column that indicates if there is a region in the sequence that was randomized on top of the mutations in the sequence of interest."
   ]
  },
  {
   "cell_type": "code",
   "execution_count": 25,
   "metadata": {},
   "outputs": [
    {
     "data": {
      "text/html": [
       "<div>\n",
       "<style scoped>\n",
       "    .dataframe tbody tr th:only-of-type {\n",
       "        vertical-align: middle;\n",
       "    }\n",
       "\n",
       "    .dataframe tbody tr th {\n",
       "        vertical-align: top;\n",
       "    }\n",
       "\n",
       "    .dataframe thead th {\n",
       "        text-align: right;\n",
       "    }\n",
       "</style>\n",
       "<table border=\"1\" class=\"dataframe\">\n",
       "  <thead>\n",
       "    <tr style=\"text-align: right;\">\n",
       "      <th></th>\n",
       "      <th>seq</th>\n",
       "      <th>primer_added</th>\n",
       "      <th>construct</th>\n",
       "      <th>note</th>\n",
       "    </tr>\n",
       "  </thead>\n",
       "  <tbody>\n",
       "    <tr>\n",
       "      <th>0</th>\n",
       "      <td>TTCACTTTTCTCTATCACTGATAGGGAGTGGTAAAATAACTCTATC...</td>\n",
       "      <td>False</td>\n",
       "      <td>P_tetR1</td>\n",
       "      <td>P_tetR2 -10 region randomized</td>\n",
       "    </tr>\n",
       "    <tr>\n",
       "      <th>1</th>\n",
       "      <td>TTCACTTTTCTCTATCACTGATAGGGAGTGGTAAAATAACTCTAgC...</td>\n",
       "      <td>False</td>\n",
       "      <td>P_tetR1</td>\n",
       "      <td>P_tetR2 -10 region randomized</td>\n",
       "    </tr>\n",
       "    <tr>\n",
       "      <th>2</th>\n",
       "      <td>TTCACTTTTCTCTATCACTGATAGGGAGTGGTAAAATAACTCTcTC...</td>\n",
       "      <td>False</td>\n",
       "      <td>P_tetR1</td>\n",
       "      <td>P_tetR2 -10 region randomized</td>\n",
       "    </tr>\n",
       "    <tr>\n",
       "      <th>3</th>\n",
       "      <td>TTCACTTTTCTCTATCACTGATAGGGAGTGGTAAAATAACTCaATC...</td>\n",
       "      <td>False</td>\n",
       "      <td>P_tetR1</td>\n",
       "      <td>P_tetR2 -10 region randomized</td>\n",
       "    </tr>\n",
       "    <tr>\n",
       "      <th>4</th>\n",
       "      <td>TTCACTTTTCTCTATCACTGATAGGGAGTGGTAAAATAACTgTATC...</td>\n",
       "      <td>False</td>\n",
       "      <td>P_tetR1</td>\n",
       "      <td>P_tetR2 -10 region randomized</td>\n",
       "    </tr>\n",
       "    <tr>\n",
       "      <th>...</th>\n",
       "      <td>...</td>\n",
       "      <td>...</td>\n",
       "      <td>...</td>\n",
       "      <td>...</td>\n",
       "    </tr>\n",
       "    <tr>\n",
       "      <th>2853</th>\n",
       "      <td>TAATTCCTAATTTTTGgaGACACTCTATCATTGATgGAaTTATTgT...</td>\n",
       "      <td>False</td>\n",
       "      <td>P_tetA</td>\n",
       "      <td></td>\n",
       "    </tr>\n",
       "    <tr>\n",
       "      <th>2854</th>\n",
       "      <td>TAATTCCTAATTTTTGgaGACACTCTAaCATTGATAtAaTTATTTT...</td>\n",
       "      <td>False</td>\n",
       "      <td>P_tetA</td>\n",
       "      <td></td>\n",
       "    </tr>\n",
       "    <tr>\n",
       "      <th>2855</th>\n",
       "      <td>TAATTCCTAATTTTTGgaGACACgCTATCATTGATAtAcTTgcTTT...</td>\n",
       "      <td>False</td>\n",
       "      <td>P_tetA</td>\n",
       "      <td></td>\n",
       "    </tr>\n",
       "    <tr>\n",
       "      <th>2856</th>\n",
       "      <td>TAATTCCTAATTTTTGgaGACgCTCTATCAaTGATAGAGTgATTTT...</td>\n",
       "      <td>False</td>\n",
       "      <td>P_tetA</td>\n",
       "      <td></td>\n",
       "    </tr>\n",
       "    <tr>\n",
       "      <th>2857</th>\n",
       "      <td>TAATTCCTAATTTTTGggGACACTCTcTCATTGtTAGAGTTAaTTc...</td>\n",
       "      <td>False</td>\n",
       "      <td>P_tetA</td>\n",
       "      <td></td>\n",
       "    </tr>\n",
       "  </tbody>\n",
       "</table>\n",
       "<p>2858 rows × 4 columns</p>\n",
       "</div>"
      ],
      "text/plain": [
       "                                                    seq  primer_added  \\\n",
       "0     TTCACTTTTCTCTATCACTGATAGGGAGTGGTAAAATAACTCTATC...         False   \n",
       "1     TTCACTTTTCTCTATCACTGATAGGGAGTGGTAAAATAACTCTAgC...         False   \n",
       "2     TTCACTTTTCTCTATCACTGATAGGGAGTGGTAAAATAACTCTcTC...         False   \n",
       "3     TTCACTTTTCTCTATCACTGATAGGGAGTGGTAAAATAACTCaATC...         False   \n",
       "4     TTCACTTTTCTCTATCACTGATAGGGAGTGGTAAAATAACTgTATC...         False   \n",
       "...                                                 ...           ...   \n",
       "2853  TAATTCCTAATTTTTGgaGACACTCTATCATTGATgGAaTTATTgT...         False   \n",
       "2854  TAATTCCTAATTTTTGgaGACACTCTAaCATTGATAtAaTTATTTT...         False   \n",
       "2855  TAATTCCTAATTTTTGgaGACACgCTATCATTGATAtAcTTgcTTT...         False   \n",
       "2856  TAATTCCTAATTTTTGgaGACgCTCTATCAaTGATAGAGTgATTTT...         False   \n",
       "2857  TAATTCCTAATTTTTGggGACACTCTcTCATTGtTAGAGTTAaTTc...         False   \n",
       "\n",
       "     construct                           note  \n",
       "0      P_tetR1  P_tetR2 -10 region randomized  \n",
       "1      P_tetR1  P_tetR2 -10 region randomized  \n",
       "2      P_tetR1  P_tetR2 -10 region randomized  \n",
       "3      P_tetR1  P_tetR2 -10 region randomized  \n",
       "4      P_tetR1  P_tetR2 -10 region randomized  \n",
       "...        ...                            ...  \n",
       "2853    P_tetA                                 \n",
       "2854    P_tetA                                 \n",
       "2855    P_tetA                                 \n",
       "2856    P_tetA                                 \n",
       "2857    P_tetA                                 \n",
       "\n",
       "[2858 rows x 4 columns]"
      ]
     },
     "execution_count": 25,
     "metadata": {},
     "output_type": "execute_result"
    }
   ],
   "source": [
    "# Define individual data frames\n",
    "dfR1 = pd.DataFrame({'seq': PR1_mutants, 'primer_added' : False, 'construct' : \"P_tetR1\", 'note': \"P_tetR2 -10 region randomized\"})\n",
    "dfR2 = pd.DataFrame({'seq': PR2_mutants, 'primer_added' : False, 'construct' : \"P_tetR2\", 'note': \"P_tetR1 -35 region randomized\"})\n",
    "dfA = pd.DataFrame({'seq': PA_mutants, 'primer_added' : False, 'construct' : \"P_tetA\", 'note': \"\"})\n",
    "\n",
    "# Combine data frames\n",
    "df_promoters = pd.concat([dfR1, dfR2, dfA], ignore_index=True)\n",
    "df_promoters"
   ]
  },
  {
   "cell_type": "markdown",
   "metadata": {},
   "source": [
    "The combined data frame is saved in the appropriate folder where we are combining the individual constructs into a final order."
   ]
  },
  {
   "cell_type": "code",
   "execution_count": 26,
   "metadata": {},
   "outputs": [],
   "source": [
    "tet_df.to_csv(\"../../../../data/twist_order/natural_tet_promoters_mutated.csv\")"
   ]
  },
  {
   "cell_type": "markdown",
   "metadata": {},
   "source": [
    "## Computational environment"
   ]
  },
  {
   "cell_type": "code",
   "execution_count": 27,
   "metadata": {},
   "outputs": [
    {
     "name": "stdout",
     "output_type": "stream",
     "text": [
      "CPython 3.8.5\n",
      "IPython 7.10.0\n",
      "\n",
      "pandas 1.0.3\n",
      "wgregseq 0.0.1\n"
     ]
    }
   ],
   "source": [
    "%load_ext watermark\n",
    "%watermark -v -p pandas,wgregseq"
   ]
  }
 ],
 "metadata": {
  "kernelspec": {
   "display_name": "Python 3",
   "language": "python",
   "name": "python3"
  },
  "language_info": {
   "codemirror_mode": {
    "name": "ipython",
    "version": 3
   },
   "file_extension": ".py",
   "mimetype": "text/x-python",
   "name": "python",
   "nbconvert_exporter": "python",
   "pygments_lexer": "ipython3",
   "version": "3.8.5"
  }
 },
 "nbformat": 4,
 "nbformat_minor": 4
}
