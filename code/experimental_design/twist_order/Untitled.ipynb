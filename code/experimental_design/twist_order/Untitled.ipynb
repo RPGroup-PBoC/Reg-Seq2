{
 "cells": [
  {
   "cell_type": "code",
   "execution_count": 1,
   "id": "collected-tournament",
   "metadata": {},
   "outputs": [],
   "source": [
    "import random\n",
    "random.seed(50937)\n",
    "import numpy as np\n",
    "np.random.seed(50937)"
   ]
  },
  {
   "cell_type": "code",
   "execution_count": 2,
   "id": "announced-tuition",
   "metadata": {},
   "outputs": [
    {
     "data": {
      "text/plain": [
       "array([0.95583387, 0.82159999, 0.93841783, 0.36398287, 0.95324147,\n",
       "       0.28113542, 0.40596871, 0.32112651, 0.27874402, 0.9021436 ])"
      ]
     },
     "execution_count": 2,
     "metadata": {},
     "output_type": "execute_result"
    }
   ],
   "source": [
    "np.random.rand(10)"
   ]
  },
  {
   "cell_type": "code",
   "execution_count": 3,
   "id": "equipped-orleans",
   "metadata": {},
   "outputs": [
    {
     "data": {
      "text/plain": [
       "array([0.46917853, 0.37621705, 0.86436368, 0.11506847, 0.76222431,\n",
       "       0.27825533, 0.42940442, 0.35132141, 0.04114384, 0.82272279])"
      ]
     },
     "execution_count": 3,
     "metadata": {},
     "output_type": "execute_result"
    }
   ],
   "source": [
    "np.random.rand(10)"
   ]
  },
  {
   "cell_type": "code",
   "execution_count": 4,
   "id": "impressed-haven",
   "metadata": {},
   "outputs": [
    {
     "data": {
      "text/plain": [
       "'CATATGGCCC'"
      ]
     },
     "execution_count": 4,
     "metadata": {},
     "output_type": "execute_result"
    }
   ],
   "source": [
    "import wgregseq\n",
    "wgregseq.gen_rand_seq(10)"
   ]
  },
  {
   "cell_type": "code",
   "execution_count": null,
   "id": "indirect-speaker",
   "metadata": {},
   "outputs": [],
   "source": []
  }
 ],
 "metadata": {
  "kernelspec": {
   "display_name": "Python 3",
   "language": "python",
   "name": "python3"
  },
  "language_info": {
   "codemirror_mode": {
    "name": "ipython",
    "version": 3
   },
   "file_extension": ".py",
   "mimetype": "text/x-python",
   "name": "python",
   "nbconvert_exporter": "python",
   "pygments_lexer": "ipython3",
   "version": "3.8.5"
  }
 },
 "nbformat": 4,
 "nbformat_minor": 5
}
