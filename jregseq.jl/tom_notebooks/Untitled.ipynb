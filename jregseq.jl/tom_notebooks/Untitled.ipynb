{
 "cells": [
  {
   "cell_type": "code",
   "execution_count": 7,
   "metadata": {},
   "outputs": [],
   "source": [
    "using DataFrames, CSV"
   ]
  },
  {
   "cell_type": "markdown",
   "metadata": {},
   "source": [
    "## Import sequences and read variant and sequence"
   ]
  },
  {
   "cell_type": "code",
   "execution_count": 10,
   "metadata": {},
   "outputs": [
    {
     "data": {
      "text/html": [
       "<table class=\"data-frame\"><thead><tr><th></th><th>name</th><th>seq</th></tr><tr><th></th><th>String</th><th>String</th></tr></thead><tbody><p>5 rows × 2 columns</p><tr><th>1</th><td>acrA_0</td><td>CCATTGATAGATTCGCTCGCTCGAGGATGTGTTGGCGCGTTTCTTGCGCTTCTTGTTTGGTTTTTCGTGCCATATGTTCGTGAATTTACAGGCGTTAGATTTACATACATTTGTGAATGTATGTACCATAGCACGACGATAATATAAACGCAGCAATGGGTTTATTAACTTTTGACCATTCTCCTATGCTAGCTCGACTC</td></tr><tr><th>2</th><td>acrA_1</td><td>CCATTGATAGATTCGCTCGCTCGAGGATGTAATTGCTCGTTTCTTGCGCTGCTTGTTTGGTTATTCGAGCAATATTATCTGGAATTTACAGTCGTTAGATTTACATACATTTGTGAATTTATGTACCAAAGGACGTCGATAAAATAAACGCAGCAATGGGTTTATTAGCTTTTGACCATTCTCCTATGCTAGCTCGACTC</td></tr><tr><th>3</th><td>acrA_2</td><td>CCATTGATAGATTCGCTCGCTCGAGGATGTAGAGGCGCGTTTCTTGCGCTTCTTGTTTGGTTTTGTGTGCCATATGTTCGTGAACTCACAGGCGCTATATTTACATACATTTCCGAATGTATGTAGCATAACACGACGATAATATAAACGCAGCTATGGGTTTCTTAACTTTTGACCATTCTCCTATGCTAGCTCGACTC</td></tr><tr><th>4</th><td>acrA_3</td><td>CCATTGATAGATTCGCTCGCTCGAGGATGTAGAGGCGTGTTTCTTGCGCATATTGTTTGGTTTTTCGTGCCATATGTTCGTGAATTTACAGGCTTTAGATTCACAGGCATTTGTGAATTTATGTACCATAGCACGACGAAAATATAAAAGTAGCAATGGGATTATTAACTTTTGACCATTCTCCTATGCTAGCTCGACTC</td></tr><tr><th>5</th><td>acrA_4</td><td>CCATTGATAGATTCGCTCGCTCGAGGATGTAGTAGCGCGTTTCTTGCGCAGCTTGATTGTTTTTGCGTGCCATATGTTGGTGAATTTACAGGTGTTAGATTTACATACATTTGTGAATGTATGTACCATAGCACGACGATGATATAAACTCAGCAAGGGGTTTATTAACTTTTGACCATTCTCCTATGCTAGCTCGACTC</td></tr></tbody></table>"
      ],
      "text/latex": [
       "\\begin{tabular}{r|cc}\n",
       "\t& name & seq\\\\\n",
       "\t\\hline\n",
       "\t& String & String\\\\\n",
       "\t\\hline\n",
       "\t1 & acrA\\_0 & CCATTGATAGATTCGCTCGCTCGAGGATGTGTTGGCGCGTTTCTTGCGCTTCTTGTTTGGTTTTTCGTGCCATATGTTCGTGAATTTACAGGCGTTAGATTTACATACATTTGTGAATGTATGTACCATAGCACGACGATAATATAAACGCAGCAATGGGTTTATTAACTTTTGACCATTCTCCTATGCTAGCTCGACTC \\\\\n",
       "\t2 & acrA\\_1 & CCATTGATAGATTCGCTCGCTCGAGGATGTAATTGCTCGTTTCTTGCGCTGCTTGTTTGGTTATTCGAGCAATATTATCTGGAATTTACAGTCGTTAGATTTACATACATTTGTGAATTTATGTACCAAAGGACGTCGATAAAATAAACGCAGCAATGGGTTTATTAGCTTTTGACCATTCTCCTATGCTAGCTCGACTC \\\\\n",
       "\t3 & acrA\\_2 & CCATTGATAGATTCGCTCGCTCGAGGATGTAGAGGCGCGTTTCTTGCGCTTCTTGTTTGGTTTTGTGTGCCATATGTTCGTGAACTCACAGGCGCTATATTTACATACATTTCCGAATGTATGTAGCATAACACGACGATAATATAAACGCAGCTATGGGTTTCTTAACTTTTGACCATTCTCCTATGCTAGCTCGACTC \\\\\n",
       "\t4 & acrA\\_3 & CCATTGATAGATTCGCTCGCTCGAGGATGTAGAGGCGTGTTTCTTGCGCATATTGTTTGGTTTTTCGTGCCATATGTTCGTGAATTTACAGGCTTTAGATTCACAGGCATTTGTGAATTTATGTACCATAGCACGACGAAAATATAAAAGTAGCAATGGGATTATTAACTTTTGACCATTCTCCTATGCTAGCTCGACTC \\\\\n",
       "\t5 & acrA\\_4 & CCATTGATAGATTCGCTCGCTCGAGGATGTAGTAGCGCGTTTCTTGCGCAGCTTGATTGTTTTTGCGTGCCATATGTTGGTGAATTTACAGGTGTTAGATTTACATACATTTGTGAATGTATGTACCATAGCACGACGATGATATAAACTCAGCAAGGGGTTTATTAACTTTTGACCATTCTCCTATGCTAGCTCGACTC \\\\\n",
       "\\end{tabular}\n"
      ],
      "text/plain": [
       "5×2 DataFrame. Omitted printing of 1 columns\n",
       "│ Row │ name   │\n",
       "│     │ \u001b[90mString\u001b[39m │\n",
       "├─────┼────────┤\n",
       "│ 1   │ acrA_0 │\n",
       "│ 2   │ acrA_1 │\n",
       "│ 3   │ acrA_2 │\n",
       "│ 4   │ acrA_3 │\n",
       "│ 5   │ acrA_4 │"
      ]
     },
     "execution_count": 10,
     "metadata": {},
     "output_type": "execute_result"
    }
   ],
   "source": [
    "df = CSV.read(\"../data/gen2/TWIST_sequences_niko_30000.csv\")\n",
    "\n",
    "Names = String[]\n",
    "seqs = String[]\n",
    "for i in 1:nrow(df)\n",
    "    name, seq = split(df[i, :][1], \",\")\n",
    "    push!(Names, name)\n",
    "    push!(seqs, seq)\n",
    "end\n",
    "\n",
    "df = DataFrames.DataFrame(name=Names, seq=seqs)\n",
    "first(df, 5)"
   ]
  },
  {
   "cell_type": "code",
   "execution_count": 12,
   "metadata": {},
   "outputs": [
    {
     "data": {
      "text/plain": [
       "20-element Array{SubString{String},1}:\n",
       " \"acrA\"\n",
       " \"acrB\"\n",
       " \"cusC\"\n",
       " \"cusR\"\n",
       " \"acrZ\"\n",
       " \"mdtA\"\n",
       " \"acrD\"\n",
       " \"tolC3\"\n",
       " \"envR14\"\n",
       " \"acrE\"\n",
       " \"gadX\"\n",
       " \"gadY\"\n",
       " \"gadW1\"\n",
       " \"gadW2\"\n",
       " \"mdtE2\"\n",
       " \"gadE3\"\n",
       " \"gadE4\"\n",
       " \"gadE1\"\n",
       " \"gadE\"\n",
       " \"neg\""
      ]
     },
     "execution_count": 12,
     "metadata": {},
     "output_type": "execute_result"
    }
   ],
   "source": [
    "genes = map(x->split(x, \"_\")[1], df.name) |> unique"
   ]
  },
  {
   "cell_type": "code",
   "execution_count": null,
   "metadata": {},
   "outputs": [],
   "source": []
  }
 ],
 "metadata": {
  "kernelspec": {
   "display_name": "Julia 1.4.0",
   "language": "julia",
   "name": "julia-1.4"
  },
  "language_info": {
   "file_extension": ".jl",
   "mimetype": "application/julia",
   "name": "julia",
   "version": "1.4.0"
  }
 },
 "nbformat": 4,
 "nbformat_minor": 4
}
