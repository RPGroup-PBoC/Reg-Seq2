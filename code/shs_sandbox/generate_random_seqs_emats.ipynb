{
 "cells": [
  {
   "cell_type": "markdown",
   "metadata": {},
   "source": [
    "# Generating random sequences and energy matrices\n",
    "\n",
    "(c) 2020 Scott H Saunders. This work is licensed under a [Creative Commons Attribution License CC-BY 4.0](https://creativecommons.org/licenses/by/4.0/). All code contained herein is licensed under an [MIT license](https://opensource.org/licenses/MIT)."
   ]
  },
  {
   "cell_type": "code",
   "execution_count": 7,
   "metadata": {},
   "outputs": [],
   "source": [
    "import numpy as np\n",
    "import random\n",
    "import string\n",
    "import pandas as pd"
   ]
  },
  {
   "cell_type": "markdown",
   "metadata": {},
   "source": [
    "## Generate Random Sequence"
   ]
  },
  {
   "cell_type": "markdown",
   "metadata": {},
   "source": [
    "First, let's simply write a function to generate a random sequence of a certain length."
   ]
  },
  {
   "cell_type": "code",
   "execution_count": 8,
   "metadata": {},
   "outputs": [],
   "source": [
    "def gen_rand_seq(length):\n",
    "    \"\"\"\n",
    "    Generate a random DNA sequence of defined length\n",
    "    \n",
    "    Parameters\n",
    "    ----------\n",
    "    length : int\n",
    "    \n",
    "    Returns\n",
    "    ---------\n",
    "    seq : string\n",
    "         Random DNA sequence\n",
    "    \"\"\"\n",
    "    \n",
    "    nt = ['A','T','C','G'] #nucleotides\n",
    "    \n",
    "    seq = ''.join(random.choice(nt) for i in range(length))\n",
    "    \n",
    "    return(seq)\n"
   ]
  },
  {
   "cell_type": "markdown",
   "metadata": {},
   "source": [
    "We can test that it works as expected."
   ]
  },
  {
   "cell_type": "code",
   "execution_count": 48,
   "metadata": {},
   "outputs": [
    {
     "data": {
      "text/plain": [
       "'CATTATCGATACTTAAAATCACGGGCTCAT'"
      ]
     },
     "execution_count": 48,
     "metadata": {},
     "output_type": "execute_result"
    }
   ],
   "source": [
    "test_seq = gen_rand_seq(30)\n",
    "test_seq"
   ]
  },
  {
   "cell_type": "markdown",
   "metadata": {},
   "source": [
    "It does. So next let's generate a totally random energy matrix for a certain length of sequence. \n"
   ]
  },
  {
   "cell_type": "markdown",
   "metadata": {},
   "source": [
    "## Generate Random Energy Matrix\n",
    "\n",
    "Recall that an energy matrix should have values for each possible nucleotide at each position that reflect the inferred transcriptional effect. \n",
    "\n",
    "Here I'll return an np.array of the site size (in bp) where the random values are normally distributed around mean 1 with standard deviation 1."
   ]
  },
  {
   "cell_type": "code",
   "execution_count": 92,
   "metadata": {},
   "outputs": [],
   "source": [
    "def gen_emat_rand(site_size):\n",
    "    \"\"\"\n",
    "    Generate a random energy matrix for a defined sequence length. Arbitrary values for each possible base.\n",
    "    \n",
    "    Parameters\n",
    "    ----------\n",
    "    site_size : int\n",
    "        Length of the sequence to generate the energy matrix for, in bp.\n",
    "    \n",
    "    Returns\n",
    "    ----------\n",
    "    energy matrix : np.array\n",
    "    \"\"\"\n",
    "    return(np.random.normal(1,1,(site_size,4)))"
   ]
  },
  {
   "cell_type": "code",
   "execution_count": 93,
   "metadata": {},
   "outputs": [
    {
     "data": {
      "text/plain": [
       "array([[ 1.11296440e+00,  2.90818236e-01,  1.05252756e+00,\n",
       "         7.46399668e-01],\n",
       "       [-4.10120291e-02,  1.25168818e+00, -1.88468195e-01,\n",
       "         1.25083303e+00],\n",
       "       [-5.57292721e-01,  8.76311593e-01, -2.36111012e-01,\n",
       "         1.56101587e+00],\n",
       "       [-1.06607831e-01,  6.81149197e-01,  1.67497373e+00,\n",
       "         5.65421074e-01],\n",
       "       [ 1.00368992e+00,  2.45311770e+00,  1.03896370e-01,\n",
       "         1.02711107e+00],\n",
       "       [ 1.77505356e+00,  2.29203251e+00,  1.24197999e-01,\n",
       "         2.96913448e-01],\n",
       "       [ 5.05696746e-01, -6.12841899e-01,  6.90741511e-01,\n",
       "         1.90349828e+00],\n",
       "       [ 4.37065381e-01, -5.14412009e-01,  2.92429813e-01,\n",
       "         1.51798388e+00],\n",
       "       [ 6.48142011e-01,  1.94341352e+00,  7.06530263e-01,\n",
       "         1.33119153e+00],\n",
       "       [-4.99507521e-01,  9.63079636e-01, -1.93531394e-01,\n",
       "         1.52116615e+00],\n",
       "       [ 7.81880341e-01,  8.99987219e-02,  1.78141236e+00,\n",
       "        -1.05013477e-01],\n",
       "       [ 2.21189679e+00,  8.10242078e-01,  4.77639047e-01,\n",
       "         1.72947756e+00],\n",
       "       [ 1.12318748e+00,  3.64236159e+00,  5.05573190e-01,\n",
       "        -3.26614522e-01],\n",
       "       [ 7.55415703e-01, -8.29252354e-01, -2.64789949e-01,\n",
       "         2.32746755e+00],\n",
       "       [ 2.54149531e+00,  1.94362643e+00,  7.70557278e-01,\n",
       "        -2.11144924e-03],\n",
       "       [ 1.99846352e+00, -6.30634849e-01,  3.88237490e+00,\n",
       "         4.94027083e-01],\n",
       "       [ 6.55665214e-01,  1.04055805e+00,  3.31985748e+00,\n",
       "         6.63844879e-01],\n",
       "       [ 2.29669451e+00, -5.56975384e-01,  1.27069382e-01,\n",
       "         1.77429997e+00],\n",
       "       [ 1.76952964e+00,  8.27916801e-01,  2.66293554e+00,\n",
       "         8.12642593e-01],\n",
       "       [-5.62993859e-01, -6.76176087e-01,  2.24726101e+00,\n",
       "         1.31700662e+00],\n",
       "       [ 2.74669120e+00,  1.23517276e+00, -1.16928436e-01,\n",
       "         1.11013537e+00],\n",
       "       [ 3.00818376e+00,  1.67506265e+00,  2.10999481e-01,\n",
       "         6.33410909e-01],\n",
       "       [ 2.07112361e+00, -5.36094116e-01,  1.52938819e-01,\n",
       "         2.57636195e+00],\n",
       "       [ 2.36621550e+00,  2.53555941e+00,  1.69867496e+00,\n",
       "         2.99460463e+00],\n",
       "       [ 3.20050518e+00,  1.11282521e+00,  1.24344677e+00,\n",
       "         8.54143772e-01],\n",
       "       [ 2.17815061e+00,  1.32600684e+00,  1.77505250e+00,\n",
       "         3.07548110e-03],\n",
       "       [ 1.29807324e+00,  1.65887790e+00,  7.45102919e-01,\n",
       "         1.72185083e+00],\n",
       "       [ 2.03119759e+00,  6.60222481e-01, -8.67027844e-02,\n",
       "         8.91660131e-01],\n",
       "       [ 2.40751306e+00,  1.36795671e+00,  1.38592067e+00,\n",
       "        -7.53062737e-01],\n",
       "       [ 1.39120307e+00,  2.81004065e+00,  6.56385709e-01,\n",
       "         1.17678193e+00]])"
      ]
     },
     "execution_count": 93,
     "metadata": {},
     "output_type": "execute_result"
    }
   ],
   "source": [
    "gen_emat_rand(30)"
   ]
  },
  {
   "cell_type": "markdown",
   "metadata": {},
   "source": [
    "Seems to work as expected. \n",
    "\n",
    "Based on the information footprints from RegSeq 1.0, we expect that for an energy matrix, TF binding sites will contain high information, while surrounding sequence will contain low information. Therefore we will establish a very simple representation of this by generating an energy matrix from a random sequence that contains a single theoretical binding site.\n",
    "\n",
    "The function below allows you to define the start position and size of this binding site. For the site, this function generates a random energy matrix using `gen_emat_rand()` and for all other positions sets the energy matrix values to 0.\n",
    "\n",
    "Looking back the above function may be unnecessary, since it's one line."
   ]
  },
  {
   "cell_type": "code",
   "execution_count": 94,
   "metadata": {},
   "outputs": [],
   "source": [
    "def gen_emat_single_site(seq, site_start, site_size):\n",
    "    \"\"\"\n",
    "    Generate energy matrix for sequence with one site. Outside of site matrix is zero.\n",
    "    \n",
    "    Parameters\n",
    "    ----------\n",
    "    seq : string\n",
    "    \n",
    "    site_start : int\n",
    "    \n",
    "    site_size : int\n",
    "    \n",
    "    Returns\n",
    "    ---------\n",
    "    seq_emat : np.array\n",
    "    \"\"\"\n",
    "    \n",
    "    seq_emat = np.zeros((len(seq),4))\n",
    "    \n",
    "    seq_emat[site_start:(site_start + site_size),:] = gen_energy_matrix_rand(site_size)\n",
    "    \n",
    "    return(seq_emat)"
   ]
  },
  {
   "cell_type": "code",
   "execution_count": 95,
   "metadata": {},
   "outputs": [
    {
     "data": {
      "text/plain": [
       "array([[ 1.44712205,  1.68751866,  0.12607859,  3.02358059],\n",
       "       [ 2.04085929,  0.56979785,  1.34889949,  1.21991213],\n",
       "       [ 0.50074316,  2.26413067,  1.52063206,  2.73110204],\n",
       "       [ 0.60144128,  0.7771055 ,  0.81654915,  0.26343913],\n",
       "       [ 1.07500511, -0.16006662,  0.87769648,  0.47419438],\n",
       "       [ 0.95416758, -0.5440269 , -0.01282096, -0.42378289],\n",
       "       [ 1.10732871,  0.19106154,  1.34899522,  1.43671531],\n",
       "       [ 0.96740583,  2.8457135 ,  0.44059671,  1.04413919],\n",
       "       [ 0.13954312,  1.50406139,  2.84947971,  0.12905226],\n",
       "       [ 1.32109204,  1.16609012,  0.75149217,  1.91412428],\n",
       "       [ 0.        ,  0.        ,  0.        ,  0.        ],\n",
       "       [ 0.        ,  0.        ,  0.        ,  0.        ],\n",
       "       [ 0.        ,  0.        ,  0.        ,  0.        ],\n",
       "       [ 0.        ,  0.        ,  0.        ,  0.        ],\n",
       "       [ 0.        ,  0.        ,  0.        ,  0.        ],\n",
       "       [ 0.        ,  0.        ,  0.        ,  0.        ],\n",
       "       [ 0.        ,  0.        ,  0.        ,  0.        ],\n",
       "       [ 0.        ,  0.        ,  0.        ,  0.        ],\n",
       "       [ 0.        ,  0.        ,  0.        ,  0.        ],\n",
       "       [ 0.        ,  0.        ,  0.        ,  0.        ],\n",
       "       [ 0.        ,  0.        ,  0.        ,  0.        ],\n",
       "       [ 0.        ,  0.        ,  0.        ,  0.        ],\n",
       "       [ 0.        ,  0.        ,  0.        ,  0.        ],\n",
       "       [ 0.        ,  0.        ,  0.        ,  0.        ],\n",
       "       [ 0.        ,  0.        ,  0.        ,  0.        ],\n",
       "       [ 0.        ,  0.        ,  0.        ,  0.        ],\n",
       "       [ 0.        ,  0.        ,  0.        ,  0.        ],\n",
       "       [ 0.        ,  0.        ,  0.        ,  0.        ],\n",
       "       [ 0.        ,  0.        ,  0.        ,  0.        ],\n",
       "       [ 0.        ,  0.        ,  0.        ,  0.        ]])"
      ]
     },
     "execution_count": 95,
     "metadata": {},
     "output_type": "execute_result"
    }
   ],
   "source": [
    "test_emat = gen_emat_single_site(test_seq,0,10)\n",
    "test_emat"
   ]
  },
  {
   "cell_type": "markdown",
   "metadata": {},
   "source": [
    "Ok, so now we can generate random energy matrices with obvious binding sites. \n",
    "\n",
    "This approach could become much more advanced, informed by actual data. For example, we could establish whether a TF binding site is an activator or repressor and that would set the effect sign. Further WT effect could be set to zero and the importance of each position and mutation could be assigned in a more rigorous way.\n",
    "\n",
    "For now let's proceed. "
   ]
  },
  {
   "cell_type": "markdown",
   "metadata": {},
   "source": [
    "## Simple additive prediction from energy matrix\n",
    "\n",
    "Next, we should be able to take a sequence variant and look up the effect of each nucleotide in the energy matrix and return the sum of all the values. This \"model\" is literally that stupid, which is fine for now.\n",
    "\n",
    "To do this, I wrote this function that very simply loops over the sequence and uses a pandas dataframe of the energy matrix to access each element and correct nucleotide column. It compiles each file in a list and then sums the list."
   ]
  },
  {
   "cell_type": "code",
   "execution_count": 114,
   "metadata": {},
   "outputs": [],
   "source": [
    "def sum_emat(seq, emat):\n",
    "    \"\"\"\n",
    "    Retrieve and sum the energy matrix values for a given sequence variant and matrix.\n",
    "    \n",
    "    Parameters\n",
    "    ----------\n",
    "    seq : string\n",
    "    \n",
    "    emat : pd.DataFrame with columns A T C G\n",
    "    \n",
    "    Returns\n",
    "    ---------\n",
    "    sum : float\n",
    "    \"\"\"\n",
    "    \n",
    "    mat_vals = []\n",
    "    \n",
    "    for ind,char in enumerate(seq, start = 0):\n",
    "        mat_vals.append(emat.iloc[ind][char])\n",
    "        \n",
    "    return(sum(mat_vals))"
   ]
  },
  {
   "cell_type": "markdown",
   "metadata": {},
   "source": [
    "To test this function, we first need to convert our energy matrix, which was a np.array, into a pandas dataframe with columns named for each nucleotide. "
   ]
  },
  {
   "cell_type": "code",
   "execution_count": 122,
   "metadata": {},
   "outputs": [
    {
     "data": {
      "text/html": [
       "<div>\n",
       "<style scoped>\n",
       "    .dataframe tbody tr th:only-of-type {\n",
       "        vertical-align: middle;\n",
       "    }\n",
       "\n",
       "    .dataframe tbody tr th {\n",
       "        vertical-align: top;\n",
       "    }\n",
       "\n",
       "    .dataframe thead th {\n",
       "        text-align: right;\n",
       "    }\n",
       "</style>\n",
       "<table border=\"1\" class=\"dataframe\">\n",
       "  <thead>\n",
       "    <tr style=\"text-align: right;\">\n",
       "      <th></th>\n",
       "      <th>A</th>\n",
       "      <th>T</th>\n",
       "      <th>C</th>\n",
       "      <th>G</th>\n",
       "    </tr>\n",
       "  </thead>\n",
       "  <tbody>\n",
       "    <tr>\n",
       "      <th>0</th>\n",
       "      <td>1.447122</td>\n",
       "      <td>1.687519</td>\n",
       "      <td>0.126079</td>\n",
       "      <td>3.023581</td>\n",
       "    </tr>\n",
       "    <tr>\n",
       "      <th>1</th>\n",
       "      <td>2.040859</td>\n",
       "      <td>0.569798</td>\n",
       "      <td>1.348899</td>\n",
       "      <td>1.219912</td>\n",
       "    </tr>\n",
       "    <tr>\n",
       "      <th>2</th>\n",
       "      <td>0.500743</td>\n",
       "      <td>2.264131</td>\n",
       "      <td>1.520632</td>\n",
       "      <td>2.731102</td>\n",
       "    </tr>\n",
       "    <tr>\n",
       "      <th>3</th>\n",
       "      <td>0.601441</td>\n",
       "      <td>0.777106</td>\n",
       "      <td>0.816549</td>\n",
       "      <td>0.263439</td>\n",
       "    </tr>\n",
       "    <tr>\n",
       "      <th>4</th>\n",
       "      <td>1.075005</td>\n",
       "      <td>-0.160067</td>\n",
       "      <td>0.877696</td>\n",
       "      <td>0.474194</td>\n",
       "    </tr>\n",
       "    <tr>\n",
       "      <th>5</th>\n",
       "      <td>0.954168</td>\n",
       "      <td>-0.544027</td>\n",
       "      <td>-0.012821</td>\n",
       "      <td>-0.423783</td>\n",
       "    </tr>\n",
       "    <tr>\n",
       "      <th>6</th>\n",
       "      <td>1.107329</td>\n",
       "      <td>0.191062</td>\n",
       "      <td>1.348995</td>\n",
       "      <td>1.436715</td>\n",
       "    </tr>\n",
       "    <tr>\n",
       "      <th>7</th>\n",
       "      <td>0.967406</td>\n",
       "      <td>2.845713</td>\n",
       "      <td>0.440597</td>\n",
       "      <td>1.044139</td>\n",
       "    </tr>\n",
       "    <tr>\n",
       "      <th>8</th>\n",
       "      <td>0.139543</td>\n",
       "      <td>1.504061</td>\n",
       "      <td>2.849480</td>\n",
       "      <td>0.129052</td>\n",
       "    </tr>\n",
       "    <tr>\n",
       "      <th>9</th>\n",
       "      <td>1.321092</td>\n",
       "      <td>1.166090</td>\n",
       "      <td>0.751492</td>\n",
       "      <td>1.914124</td>\n",
       "    </tr>\n",
       "    <tr>\n",
       "      <th>10</th>\n",
       "      <td>0.000000</td>\n",
       "      <td>0.000000</td>\n",
       "      <td>0.000000</td>\n",
       "      <td>0.000000</td>\n",
       "    </tr>\n",
       "    <tr>\n",
       "      <th>11</th>\n",
       "      <td>0.000000</td>\n",
       "      <td>0.000000</td>\n",
       "      <td>0.000000</td>\n",
       "      <td>0.000000</td>\n",
       "    </tr>\n",
       "    <tr>\n",
       "      <th>12</th>\n",
       "      <td>0.000000</td>\n",
       "      <td>0.000000</td>\n",
       "      <td>0.000000</td>\n",
       "      <td>0.000000</td>\n",
       "    </tr>\n",
       "    <tr>\n",
       "      <th>13</th>\n",
       "      <td>0.000000</td>\n",
       "      <td>0.000000</td>\n",
       "      <td>0.000000</td>\n",
       "      <td>0.000000</td>\n",
       "    </tr>\n",
       "    <tr>\n",
       "      <th>14</th>\n",
       "      <td>0.000000</td>\n",
       "      <td>0.000000</td>\n",
       "      <td>0.000000</td>\n",
       "      <td>0.000000</td>\n",
       "    </tr>\n",
       "    <tr>\n",
       "      <th>15</th>\n",
       "      <td>0.000000</td>\n",
       "      <td>0.000000</td>\n",
       "      <td>0.000000</td>\n",
       "      <td>0.000000</td>\n",
       "    </tr>\n",
       "    <tr>\n",
       "      <th>16</th>\n",
       "      <td>0.000000</td>\n",
       "      <td>0.000000</td>\n",
       "      <td>0.000000</td>\n",
       "      <td>0.000000</td>\n",
       "    </tr>\n",
       "    <tr>\n",
       "      <th>17</th>\n",
       "      <td>0.000000</td>\n",
       "      <td>0.000000</td>\n",
       "      <td>0.000000</td>\n",
       "      <td>0.000000</td>\n",
       "    </tr>\n",
       "    <tr>\n",
       "      <th>18</th>\n",
       "      <td>0.000000</td>\n",
       "      <td>0.000000</td>\n",
       "      <td>0.000000</td>\n",
       "      <td>0.000000</td>\n",
       "    </tr>\n",
       "    <tr>\n",
       "      <th>19</th>\n",
       "      <td>0.000000</td>\n",
       "      <td>0.000000</td>\n",
       "      <td>0.000000</td>\n",
       "      <td>0.000000</td>\n",
       "    </tr>\n",
       "    <tr>\n",
       "      <th>20</th>\n",
       "      <td>0.000000</td>\n",
       "      <td>0.000000</td>\n",
       "      <td>0.000000</td>\n",
       "      <td>0.000000</td>\n",
       "    </tr>\n",
       "    <tr>\n",
       "      <th>21</th>\n",
       "      <td>0.000000</td>\n",
       "      <td>0.000000</td>\n",
       "      <td>0.000000</td>\n",
       "      <td>0.000000</td>\n",
       "    </tr>\n",
       "    <tr>\n",
       "      <th>22</th>\n",
       "      <td>0.000000</td>\n",
       "      <td>0.000000</td>\n",
       "      <td>0.000000</td>\n",
       "      <td>0.000000</td>\n",
       "    </tr>\n",
       "    <tr>\n",
       "      <th>23</th>\n",
       "      <td>0.000000</td>\n",
       "      <td>0.000000</td>\n",
       "      <td>0.000000</td>\n",
       "      <td>0.000000</td>\n",
       "    </tr>\n",
       "    <tr>\n",
       "      <th>24</th>\n",
       "      <td>0.000000</td>\n",
       "      <td>0.000000</td>\n",
       "      <td>0.000000</td>\n",
       "      <td>0.000000</td>\n",
       "    </tr>\n",
       "    <tr>\n",
       "      <th>25</th>\n",
       "      <td>0.000000</td>\n",
       "      <td>0.000000</td>\n",
       "      <td>0.000000</td>\n",
       "      <td>0.000000</td>\n",
       "    </tr>\n",
       "    <tr>\n",
       "      <th>26</th>\n",
       "      <td>0.000000</td>\n",
       "      <td>0.000000</td>\n",
       "      <td>0.000000</td>\n",
       "      <td>0.000000</td>\n",
       "    </tr>\n",
       "    <tr>\n",
       "      <th>27</th>\n",
       "      <td>0.000000</td>\n",
       "      <td>0.000000</td>\n",
       "      <td>0.000000</td>\n",
       "      <td>0.000000</td>\n",
       "    </tr>\n",
       "    <tr>\n",
       "      <th>28</th>\n",
       "      <td>0.000000</td>\n",
       "      <td>0.000000</td>\n",
       "      <td>0.000000</td>\n",
       "      <td>0.000000</td>\n",
       "    </tr>\n",
       "    <tr>\n",
       "      <th>29</th>\n",
       "      <td>0.000000</td>\n",
       "      <td>0.000000</td>\n",
       "      <td>0.000000</td>\n",
       "      <td>0.000000</td>\n",
       "    </tr>\n",
       "  </tbody>\n",
       "</table>\n",
       "</div>"
      ],
      "text/plain": [
       "           A         T         C         G\n",
       "0   1.447122  1.687519  0.126079  3.023581\n",
       "1   2.040859  0.569798  1.348899  1.219912\n",
       "2   0.500743  2.264131  1.520632  2.731102\n",
       "3   0.601441  0.777106  0.816549  0.263439\n",
       "4   1.075005 -0.160067  0.877696  0.474194\n",
       "5   0.954168 -0.544027 -0.012821 -0.423783\n",
       "6   1.107329  0.191062  1.348995  1.436715\n",
       "7   0.967406  2.845713  0.440597  1.044139\n",
       "8   0.139543  1.504061  2.849480  0.129052\n",
       "9   1.321092  1.166090  0.751492  1.914124\n",
       "10  0.000000  0.000000  0.000000  0.000000\n",
       "11  0.000000  0.000000  0.000000  0.000000\n",
       "12  0.000000  0.000000  0.000000  0.000000\n",
       "13  0.000000  0.000000  0.000000  0.000000\n",
       "14  0.000000  0.000000  0.000000  0.000000\n",
       "15  0.000000  0.000000  0.000000  0.000000\n",
       "16  0.000000  0.000000  0.000000  0.000000\n",
       "17  0.000000  0.000000  0.000000  0.000000\n",
       "18  0.000000  0.000000  0.000000  0.000000\n",
       "19  0.000000  0.000000  0.000000  0.000000\n",
       "20  0.000000  0.000000  0.000000  0.000000\n",
       "21  0.000000  0.000000  0.000000  0.000000\n",
       "22  0.000000  0.000000  0.000000  0.000000\n",
       "23  0.000000  0.000000  0.000000  0.000000\n",
       "24  0.000000  0.000000  0.000000  0.000000\n",
       "25  0.000000  0.000000  0.000000  0.000000\n",
       "26  0.000000  0.000000  0.000000  0.000000\n",
       "27  0.000000  0.000000  0.000000  0.000000\n",
       "28  0.000000  0.000000  0.000000  0.000000\n",
       "29  0.000000  0.000000  0.000000  0.000000"
      ]
     },
     "execution_count": 122,
     "metadata": {},
     "output_type": "execute_result"
    }
   ],
   "source": [
    "test_emat_df = pd.DataFrame(data = test_emat, columns = ('A','T','C','G'))\n",
    "test_emat_df"
   ]
  },
  {
   "cell_type": "markdown",
   "metadata": {},
   "source": [
    "Now, let's remind ourselves what sequence we were working off of:"
   ]
  },
  {
   "cell_type": "code",
   "execution_count": 123,
   "metadata": {},
   "outputs": [
    {
     "data": {
      "text/plain": [
       "'CATTATCGATACTTAAAATCACGGGCTCAT'"
      ]
     },
     "execution_count": 123,
     "metadata": {},
     "output_type": "execute_result"
    }
   ],
   "source": [
    "test_seq"
   ]
  },
  {
   "cell_type": "markdown",
   "metadata": {},
   "source": [
    "Let's start by testing this function with a single nt sequence:"
   ]
  },
  {
   "cell_type": "code",
   "execution_count": 126,
   "metadata": {},
   "outputs": [
    {
     "data": {
      "text/plain": [
       "1.4471220458060166"
      ]
     },
     "execution_count": 126,
     "metadata": {},
     "output_type": "execute_result"
    }
   ],
   "source": [
    "sum_emat(seq = 'A', emat = test_emat_df)"
   ]
  },
  {
   "cell_type": "markdown",
   "metadata": {},
   "source": [
    "Ok it returns the correct value, so let's try a slightly more complicated sequence:\n"
   ]
  },
  {
   "cell_type": "code",
   "execution_count": 127,
   "metadata": {},
   "outputs": [
    {
     "data": {
      "text/plain": [
       "6.529217506501876"
      ]
     },
     "execution_count": 127,
     "metadata": {},
     "output_type": "execute_result"
    }
   ],
   "source": [
    "sum_emat(seq = 'AATT', emat = test_emat_df)"
   ]
  },
  {
   "cell_type": "markdown",
   "metadata": {},
   "source": [
    "Looks about right. Next we can try to inferface some contructs designed by this code with Tom's scramble mutation functions."
   ]
  },
  {
   "cell_type": "markdown",
   "metadata": {},
   "source": [
    "## Computing Environment"
   ]
  },
  {
   "cell_type": "code",
   "execution_count": 6,
   "metadata": {},
   "outputs": [
    {
     "name": "stdout",
     "output_type": "stream",
     "text": [
      "The watermark extension is already loaded. To reload it, use:\n",
      "  %reload_ext watermark\n",
      "2020-08-26 \n",
      "\n",
      "CPython 3.7.6\n",
      "IPython 7.12.0\n",
      "\n",
      "numpy 1.18.1\n",
      "pandas 1.0.1\n"
     ]
    }
   ],
   "source": [
    "%load_ext watermark\n",
    "%watermark -d -v -p numpy,pandas"
   ]
  }
 ],
 "metadata": {
  "kernelspec": {
   "display_name": "Python 3",
   "language": "python",
   "name": "python3"
  },
  "language_info": {
   "codemirror_mode": {
    "name": "ipython",
    "version": 3
   },
   "file_extension": ".py",
   "mimetype": "text/x-python",
   "name": "python",
   "nbconvert_exporter": "python",
   "pygments_lexer": "ipython3",
   "version": "3.7.6"
  }
 },
 "nbformat": 4,
 "nbformat_minor": 4
}
