{
 "cells": [
  {
   "cell_type": "markdown",
   "metadata": {},
   "source": [
    "# Combine files for TWIST order"
   ]
  },
  {
   "cell_type": "markdown",
   "metadata": {},
   "source": [
    "(c) 2020 Tom Röschinger. This work is licensed under a [Creative Commons Attribution License CC-BY 4.0](https://creativecommons.org/licenses/by/4.0/). All code contained herein is licensed under an [MIT license](https://opensource.org/licenses/MIT)."
   ]
  },
  {
   "cell_type": "markdown",
   "metadata": {},
   "source": [
    "***"
   ]
  },
  {
   "cell_type": "markdown",
   "metadata": {},
   "source": [
    "In this notebook we combine the individually prepared sequences for various experiments into the final twist order. Therefore we need to add orthogonal primers to the ends of all inserts. Also, we add additional reverse primers for different constructs within the experiments, so they can be amplified individually. Also, we might add restriction sites to the constructs to remove the primers from the transcript."
   ]
  },
  {
   "cell_type": "code",
   "execution_count": 1,
   "metadata": {},
   "outputs": [],
   "source": [
    "import wgregseq\n",
    "%load_ext autoreload\n",
    "%autoreload 2\n",
    "\n",
    "import Bio\n",
    "from Bio.SeqIO import parse\n",
    "from Bio.Seq import Seq\n",
    "from Bio.Restriction import *\n",
    "\n",
    "from itertools import compress\n",
    "\n",
    "import pandas as pd\n",
    "import numpy as np\n",
    "import copy\n",
    "\n",
    "import glob"
   ]
  },
  {
   "cell_type": "markdown",
   "metadata": {},
   "source": [
    "### Import"
   ]
  },
  {
   "cell_type": "markdown",
   "metadata": {},
   "source": [
    "Import all `csv` files in the `data/twist_order` folder in this repo."
   ]
  },
  {
   "cell_type": "code",
   "execution_count": 2,
   "metadata": {},
   "outputs": [
    {
     "data": {
      "text/plain": [
       "['../../../data/twist_order/lacI_sequences.csv',\n",
       " '../../../data/twist_order/lacUV5_tetOx_single_double_mutants.csv',\n",
       " '../../../data/twist_order/lacUV_mutants.csv',\n",
       " '../../../data/twist_order/natural_tet_promoters_mutated.csv',\n",
       " '../../../data/twist_order/purR_twist_sequences.csv',\n",
       " '../../../data/twist_order/twist_orbit_TF_del_avd_ovlp_long.csv',\n",
       " '../../../data/twist_order/twist_orbit_TF_del_avd_ovlp_short.csv',\n",
       " '../../../data/twist_order/twist_orbit_TF_del_first_last_long.csv',\n",
       " '../../../data/twist_order/twist_orbit_TF_del_first_last_short.csv',\n",
       " '../../../data/twist_order/twist_site_scrambles.csv',\n",
       " '../../../data/twist_order/twist_sys_scrambles_10.csv',\n",
       " '../../../data/twist_order/twist_sys_scrambles_2_16.csv']"
      ]
     },
     "execution_count": 2,
     "metadata": {},
     "output_type": "execute_result"
    }
   ],
   "source": [
    "file_list = sorted(glob.glob(\"../../../data/twist_order/*.csv\"))\n",
    "file_list"
   ]
  },
  {
   "cell_type": "markdown",
   "metadata": {},
   "source": [
    "Import each data frame."
   ]
  },
  {
   "cell_type": "code",
   "execution_count": 3,
   "metadata": {},
   "outputs": [],
   "source": [
    "df_list = []\n",
    "for file in file_list:\n",
    "    df_list.append(pd.read_csv(file, index_col=0))"
   ]
  },
  {
   "cell_type": "markdown",
   "metadata": {},
   "source": [
    "Do a quick check to confirm that the necessary columns are annotated correctly. We need a column with the sequences (`seq`), a column having the information if primers were added or not (`primer_added`), and to which construct each sequence belongs (`construct`)."
   ]
  },
  {
   "cell_type": "code",
   "execution_count": 4,
   "metadata": {},
   "outputs": [],
   "source": [
    "def check_file(df, filename):\n",
    "    for header in ['seq', 'primer_added', 'construct']:\n",
    "        if header not in df.columns:\n",
    "            print(\"{} not a column header in file {}.\".format(header, filename))\n",
    "            \n",
    "    return"
   ]
  },
  {
   "cell_type": "markdown",
   "metadata": {},
   "source": [
    "Let's check all files in the folder."
   ]
  },
  {
   "cell_type": "code",
   "execution_count": 5,
   "metadata": {},
   "outputs": [
    {
     "name": "stdout",
     "output_type": "stream",
     "text": [
      "primer_added not a column header in file ../../../data/twist_order/purR_twist_sequences.csv.\n",
      "construct not a column header in file ../../../data/twist_order/purR_twist_sequences.csv.\n",
      "seq not a column header in file ../../../data/twist_order/twist_orbit_TF_del_avd_ovlp_long.csv.\n",
      "primer_added not a column header in file ../../../data/twist_order/twist_orbit_TF_del_avd_ovlp_long.csv.\n",
      "construct not a column header in file ../../../data/twist_order/twist_orbit_TF_del_avd_ovlp_long.csv.\n",
      "seq not a column header in file ../../../data/twist_order/twist_orbit_TF_del_avd_ovlp_short.csv.\n",
      "primer_added not a column header in file ../../../data/twist_order/twist_orbit_TF_del_avd_ovlp_short.csv.\n",
      "construct not a column header in file ../../../data/twist_order/twist_orbit_TF_del_avd_ovlp_short.csv.\n",
      "seq not a column header in file ../../../data/twist_order/twist_orbit_TF_del_first_last_long.csv.\n",
      "primer_added not a column header in file ../../../data/twist_order/twist_orbit_TF_del_first_last_long.csv.\n",
      "construct not a column header in file ../../../data/twist_order/twist_orbit_TF_del_first_last_long.csv.\n",
      "seq not a column header in file ../../../data/twist_order/twist_orbit_TF_del_first_last_short.csv.\n",
      "primer_added not a column header in file ../../../data/twist_order/twist_orbit_TF_del_first_last_short.csv.\n",
      "construct not a column header in file ../../../data/twist_order/twist_orbit_TF_del_first_last_short.csv.\n",
      "seq not a column header in file ../../../data/twist_order/twist_site_scrambles.csv.\n",
      "primer_added not a column header in file ../../../data/twist_order/twist_site_scrambles.csv.\n",
      "construct not a column header in file ../../../data/twist_order/twist_site_scrambles.csv.\n",
      "seq not a column header in file ../../../data/twist_order/twist_sys_scrambles_10.csv.\n",
      "primer_added not a column header in file ../../../data/twist_order/twist_sys_scrambles_10.csv.\n",
      "construct not a column header in file ../../../data/twist_order/twist_sys_scrambles_10.csv.\n",
      "seq not a column header in file ../../../data/twist_order/twist_sys_scrambles_2_16.csv.\n",
      "primer_added not a column header in file ../../../data/twist_order/twist_sys_scrambles_2_16.csv.\n",
      "construct not a column header in file ../../../data/twist_order/twist_sys_scrambles_2_16.csv.\n"
     ]
    }
   ],
   "source": [
    "for (df, name) in zip(df_list, file_list):\n",
    "    check_file(df, name)"
   ]
  },
  {
   "cell_type": "markdown",
   "metadata": {},
   "source": [
    "Let's go through the workflow for the first experiment."
   ]
  },
  {
   "cell_type": "markdown",
   "metadata": {},
   "source": [
    "### Restriction site"
   ]
  },
  {
   "cell_type": "markdown",
   "metadata": {},
   "source": [
    "First, we add the restriction site to the sequences to remove the reverse primers later on. This restriction site should leave the same sticky ends as the system that the inserts are going to be integrated."
   ]
  },
  {
   "cell_type": "markdown",
   "metadata": {},
   "source": [
    "As an example, we add the site for `EcoRI` to the sequences."
   ]
  },
  {
   "cell_type": "code",
   "execution_count": 6,
   "metadata": {},
   "outputs": [
    {
     "data": {
      "text/plain": [
       "'GAATTC'"
      ]
     },
     "execution_count": 6,
     "metadata": {},
     "output_type": "execute_result"
    }
   ],
   "source": [
    "EcoRI.site"
   ]
  },
  {
   "cell_type": "markdown",
   "metadata": {},
   "source": [
    "### Primers"
   ]
  },
  {
   "cell_type": "markdown",
   "metadata": {},
   "source": [
    "Next we add a reverse primer to for each construct. For this purpose we simply use the `add_primers` function with the additional keyword argument `rev_only`. "
   ]
  },
  {
   "cell_type": "code",
   "execution_count": 7,
   "metadata": {},
   "outputs": [],
   "source": [
    "df_0 = df_list[0]\n",
    "seqs = np.array(df_0['seq'].values, dtype=object)\n",
    "#seqs = wgregseq.add_restriction_site(seqs, EcoRI)\n",
    "seqs[0]\n",
    "\n",
    "primer = 22\n",
    "forward_primers_0 = [(primer, 0)] * len(seqs)\n",
    "reverse_primers_0 = [(primer, len(seqs[0])+20)] * len(seqs)\n",
    "seqs = wgregseq.add_primers(seqs, primer)\n",
    "\n",
    "primer += 1"
   ]
  },
  {
   "cell_type": "code",
   "execution_count": 8,
   "metadata": {},
   "outputs": [],
   "source": [
    "reverse_primers_1 = []\n",
    "for construct in df_0['construct'].unique():\n",
    "    indices = np.asarray((df_0['construct'] == construct).values == True).nonzero()\n",
    "    reverse_primers_1.extend([(primer, len(seqs[indices][0]))] * np.size(indices[0]))\n",
    "    seqs[indices] = wgregseq.add_primers(seqs[indices], primer, rev_only=True, autocomplete=True)\n",
    "    primer += 1"
   ]
  },
  {
   "cell_type": "code",
   "execution_count": 9,
   "metadata": {},
   "outputs": [
    {
     "data": {
      "text/plain": [
       "1001"
      ]
     },
     "execution_count": 9,
     "metadata": {},
     "output_type": "execute_result"
    }
   ],
   "source": [
    "len(reverse_primers_1)"
   ]
  },
  {
   "cell_type": "code",
   "execution_count": 10,
   "metadata": {},
   "outputs": [
    {
     "data": {
      "text/html": [
       "<div>\n",
       "<style scoped>\n",
       "    .dataframe tbody tr th:only-of-type {\n",
       "        vertical-align: middle;\n",
       "    }\n",
       "\n",
       "    .dataframe tbody tr th {\n",
       "        vertical-align: top;\n",
       "    }\n",
       "\n",
       "    .dataframe thead th {\n",
       "        text-align: right;\n",
       "    }\n",
       "</style>\n",
       "<table border=\"1\" class=\"dataframe\">\n",
       "  <thead>\n",
       "    <tr style=\"text-align: right;\">\n",
       "      <th></th>\n",
       "      <th>seq</th>\n",
       "      <th>forward_primers_0</th>\n",
       "      <th>reverse_primers_0</th>\n",
       "      <th>reverse_primers_1</th>\n",
       "    </tr>\n",
       "  </thead>\n",
       "  <tbody>\n",
       "    <tr>\n",
       "      <th>0</th>\n",
       "      <td>ATGACCGTTAGTGAGGCTAGTCGAGTTTACACTTTATGCTTCCGGC...</td>\n",
       "      <td>(22, 0)</td>\n",
       "      <td>(22, 82)</td>\n",
       "      <td>(23, 102)</td>\n",
       "    </tr>\n",
       "    <tr>\n",
       "      <th>1</th>\n",
       "      <td>ATGACCGTTAGTGAGGCTAGTCGAGTTTACACTTTATGCTTCCGGC...</td>\n",
       "      <td>(22, 0)</td>\n",
       "      <td>(22, 82)</td>\n",
       "      <td>(23, 102)</td>\n",
       "    </tr>\n",
       "    <tr>\n",
       "      <th>2</th>\n",
       "      <td>ATGACCGTTAGTGAGGCTAGTCGAGTTTACACTTTATGCTTCCGGC...</td>\n",
       "      <td>(22, 0)</td>\n",
       "      <td>(22, 82)</td>\n",
       "      <td>(23, 102)</td>\n",
       "    </tr>\n",
       "    <tr>\n",
       "      <th>3</th>\n",
       "      <td>ATGACCGTTAGTGAGGCTAGTCGAGTTTACACTTTATGCTTCCGGC...</td>\n",
       "      <td>(22, 0)</td>\n",
       "      <td>(22, 82)</td>\n",
       "      <td>(23, 102)</td>\n",
       "    </tr>\n",
       "    <tr>\n",
       "      <th>4</th>\n",
       "      <td>ATGACCGTTAGTGAGGCTAGTCGAGTTTACACTTTATGCTTCCGGC...</td>\n",
       "      <td>(22, 0)</td>\n",
       "      <td>(22, 82)</td>\n",
       "      <td>(23, 102)</td>\n",
       "    </tr>\n",
       "    <tr>\n",
       "      <th>...</th>\n",
       "      <td>...</td>\n",
       "      <td>...</td>\n",
       "      <td>...</td>\n",
       "      <td>...</td>\n",
       "    </tr>\n",
       "    <tr>\n",
       "      <th>996</th>\n",
       "      <td>ATGACCGTTAGTGAGGCTAGTCGAGTTTACACTTTATGCTTCCGGC...</td>\n",
       "      <td>(22, 0)</td>\n",
       "      <td>(22, 82)</td>\n",
       "      <td>(23, 102)</td>\n",
       "    </tr>\n",
       "    <tr>\n",
       "      <th>997</th>\n",
       "      <td>ATGACCGTTAGTGAGGCTAGTCGAGTTTACACTTTATGCTTCCGGC...</td>\n",
       "      <td>(22, 0)</td>\n",
       "      <td>(22, 82)</td>\n",
       "      <td>(23, 102)</td>\n",
       "    </tr>\n",
       "    <tr>\n",
       "      <th>998</th>\n",
       "      <td>ATGACCGTTAGTGAGGCTAGTCGAGTTTACACTTTATGCTTCCGGC...</td>\n",
       "      <td>(22, 0)</td>\n",
       "      <td>(22, 82)</td>\n",
       "      <td>(24, 102)</td>\n",
       "    </tr>\n",
       "    <tr>\n",
       "      <th>999</th>\n",
       "      <td>ATGACCGTTAGTGAGGCTAGTCGAGTTTACACTTTATGCTTCCGGC...</td>\n",
       "      <td>(22, 0)</td>\n",
       "      <td>(22, 82)</td>\n",
       "      <td>(25, 102)</td>\n",
       "    </tr>\n",
       "    <tr>\n",
       "      <th>1000</th>\n",
       "      <td>ATGACCGTTAGTGAGGCTAGTCGAGTTTACACTTTATGCTTCCGGC...</td>\n",
       "      <td>(22, 0)</td>\n",
       "      <td>(22, 82)</td>\n",
       "      <td>(26, 102)</td>\n",
       "    </tr>\n",
       "  </tbody>\n",
       "</table>\n",
       "<p>1001 rows × 4 columns</p>\n",
       "</div>"
      ],
      "text/plain": [
       "                                                    seq forward_primers_0  \\\n",
       "0     ATGACCGTTAGTGAGGCTAGTCGAGTTTACACTTTATGCTTCCGGC...           (22, 0)   \n",
       "1     ATGACCGTTAGTGAGGCTAGTCGAGTTTACACTTTATGCTTCCGGC...           (22, 0)   \n",
       "2     ATGACCGTTAGTGAGGCTAGTCGAGTTTACACTTTATGCTTCCGGC...           (22, 0)   \n",
       "3     ATGACCGTTAGTGAGGCTAGTCGAGTTTACACTTTATGCTTCCGGC...           (22, 0)   \n",
       "4     ATGACCGTTAGTGAGGCTAGTCGAGTTTACACTTTATGCTTCCGGC...           (22, 0)   \n",
       "...                                                 ...               ...   \n",
       "996   ATGACCGTTAGTGAGGCTAGTCGAGTTTACACTTTATGCTTCCGGC...           (22, 0)   \n",
       "997   ATGACCGTTAGTGAGGCTAGTCGAGTTTACACTTTATGCTTCCGGC...           (22, 0)   \n",
       "998   ATGACCGTTAGTGAGGCTAGTCGAGTTTACACTTTATGCTTCCGGC...           (22, 0)   \n",
       "999   ATGACCGTTAGTGAGGCTAGTCGAGTTTACACTTTATGCTTCCGGC...           (22, 0)   \n",
       "1000  ATGACCGTTAGTGAGGCTAGTCGAGTTTACACTTTATGCTTCCGGC...           (22, 0)   \n",
       "\n",
       "     reverse_primers_0 reverse_primers_1  \n",
       "0             (22, 82)         (23, 102)  \n",
       "1             (22, 82)         (23, 102)  \n",
       "2             (22, 82)         (23, 102)  \n",
       "3             (22, 82)         (23, 102)  \n",
       "4             (22, 82)         (23, 102)  \n",
       "...                ...               ...  \n",
       "996           (22, 82)         (23, 102)  \n",
       "997           (22, 82)         (23, 102)  \n",
       "998           (22, 82)         (24, 102)  \n",
       "999           (22, 82)         (25, 102)  \n",
       "1000          (22, 82)         (26, 102)  \n",
       "\n",
       "[1001 rows x 4 columns]"
      ]
     },
     "execution_count": 10,
     "metadata": {},
     "output_type": "execute_result"
    }
   ],
   "source": [
    "sub_df = pd.DataFrame({'seq': seqs, 'forward_primers_0': forward_primers_0, 'reverse_primers_0': reverse_primers_0, 'reverse_primers_1': reverse_primers_1})\n",
    "sub_df"
   ]
  },
  {
   "cell_type": "code",
   "execution_count": 11,
   "metadata": {},
   "outputs": [
    {
     "data": {
      "text/plain": [
       "True"
      ]
     },
     "execution_count": 11,
     "metadata": {},
     "output_type": "execute_result"
    }
   ],
   "source": [
    "wgregseq.check_primers_pool_df(sub_df)"
   ]
  },
  {
   "cell_type": "markdown",
   "metadata": {},
   "source": [
    "Now we add a primer pair to both sides of all sequences. Also, we add random base pairs at the end of the sequences to end up with the correct total length. (Don't execute this cell twice without running the two previous ones.)"
   ]
  },
  {
   "cell_type": "markdown",
   "metadata": {},
   "source": [
    "Now the sequences have a total length of 200 base pairs."
   ]
  },
  {
   "cell_type": "code",
   "execution_count": 12,
   "metadata": {},
   "outputs": [
    {
     "data": {
      "text/plain": [
       "'ATGACCGTTAGTGAGGCTAG'"
      ]
     },
     "execution_count": 12,
     "metadata": {},
     "output_type": "execute_result"
    }
   ],
   "source": [
    "seqs[0][:20]"
   ]
  },
  {
   "cell_type": "code",
   "execution_count": 13,
   "metadata": {},
   "outputs": [
    {
     "data": {
      "text/plain": [
       "'AACCTATAAAACGGTTCCTG'"
      ]
     },
     "execution_count": 13,
     "metadata": {},
     "output_type": "execute_result"
    }
   ],
   "source": [
    "seqs[0][-20:]"
   ]
  },
  {
   "cell_type": "markdown",
   "metadata": {},
   "source": [
    "Now we need to add these sequences to a final data frame."
   ]
  },
  {
   "cell_type": "markdown",
   "metadata": {},
   "source": [
    "Final check function:\n",
    "- Digital PCR:\n",
    "    - Choose primer pair and check what is amplified => should construct only\n",
    "- Distance between primers consistent\n",
    "- Check for restriction sites in constructs and primers\n",
    "- Check total length equals 200\n",
    "- Unique oligos in subpools\n"
   ]
  },
  {
   "cell_type": "code",
   "execution_count": 14,
   "metadata": {},
   "outputs": [],
   "source": [
    "# Extract primers that is added\n",
    "forward = wgregseq.import_primer_fwd(22)\n",
    "reverse = wgregseq.import_primer_rev(22)"
   ]
  },
  {
   "cell_type": "code",
   "execution_count": 15,
   "metadata": {},
   "outputs": [
    {
     "data": {
      "text/plain": [
       "True"
      ]
     },
     "execution_count": 15,
     "metadata": {},
     "output_type": "execute_result"
    }
   ],
   "source": [
    "wgregseq.check_primer_seq([sub_df.iloc[0]['seq']], forward, 0)"
   ]
  },
  {
   "cell_type": "code",
   "execution_count": 16,
   "metadata": {},
   "outputs": [
    {
     "data": {
      "text/plain": [
       "'CNNG'"
      ]
     },
     "execution_count": 16,
     "metadata": {},
     "output_type": "execute_result"
    }
   ],
   "source": [
    "SgeI.site"
   ]
  },
  {
   "cell_type": "code",
   "execution_count": 19,
   "metadata": {},
   "outputs": [
    {
     "name": "stdout",
     "output_type": "stream",
     "text": [
      "XhoI :  21.0\n",
      "SalI :  20.0\n",
      "ApaI :  15.0\n",
      "SacI :  15.0\n",
      "SbfI :  1.0\n"
     ]
    }
   ],
   "source": [
    "wgregseq.scan_enzymes_print(sub_df.seq, [\"SacI\", \"SalI\", \"XhoI\", \"SbfI\", \"ApaI\"])"
   ]
  },
  {
   "cell_type": "code",
   "execution_count": 31,
   "metadata": {},
   "outputs": [],
   "source": [
    "def check_pool_df(df,enzymes):\n",
    "    if wgregseq.check_primers_pool_df(df):\n",
    "        print(\"Primer check passed.\\n\")\n",
    "    else:\n",
    "        print(\"Primer check DID NOT pass!\\n\")\n",
    "    \n",
    "    if any([len(seq) != 200 for seq in df.seq]):\n",
    "        print(\"Oligo length check DID NOT pass!\\n\")\n",
    "    else:\n",
    "        print(\"Oligo length check passed.\\n\")\n",
    "    \n",
    "    for name, sub_df in df.groupby(\"construct\"):\n",
    "        \n",
    "        rev_primer_columns = [x  for x in sub_df.columns if (\"reverse_primer\" in x)]\n",
    "        end = np.max([x for rev_colum in rev_primer_columns for (_, x) in sub_df[rev_colum]])\n",
    "        fwd_primer_columns = [x  for x in sub_df.columns if (\"forward_primer\" in x)]\n",
    "        start = np.max([x for fwd_colum in fwd_primer_columns for (_, x) in sub_df[fwd_colum]])\n",
    "    \n",
    "        seqs = [seq[start:end+20] for seq in sub_df.seq]\n",
    "        if len(np.unique(seqs)) != len(seqs):\n",
    "            print(\"Uniqueness check DID NOT pass for construct {}!\\n\".format(name))\n",
    "        else:\n",
    "            print(\"Uniqueness check passed for construct {}.\\n\".format(name))\n",
    "        \n",
    "    \n",
    "        print(\"Restriction enzyme sites for construct {}:\".format(name))\n",
    "        wgregseq.scan_enzymes_print(seqs, enzymes)\n",
    "        print(\"\")"
   ]
  },
  {
   "cell_type": "code",
   "execution_count": 32,
   "metadata": {},
   "outputs": [],
   "source": [
    "primer = 22\n",
    "def do_all(file_list, primer):\n",
    "    df_list = []\n",
    "    for i, file in enumerate(file_list):\n",
    "        df = pd.read_csv(file, index_col=0)\n",
    "        seqs = np.array(df['seq'].values, dtype=object)\n",
    "\n",
    "\n",
    "        forward_primers_0 = [(primer, 0)] * len(seqs)\n",
    "        reverse_primers_0 = [(primer, len(seqs[0])+20)] * len(seqs)\n",
    "        seqs = wgregseq.add_primers(seqs, primer)\n",
    "\n",
    "        primer += 1\n",
    "\n",
    "        reverse_primers_1 = []\n",
    "        for construct in df['construct'].unique():\n",
    "            indices = np.asarray((df['construct'] == construct).values == True).nonzero()\n",
    "            reverse_primers_1.extend([(primer, len(seqs[indices][0]))] * np.size(indices[0]))\n",
    "            seqs[indices] = wgregseq.add_primers(seqs[indices], primer, rev_only=True, autocomplete=True)\n",
    "            primer += 1\n",
    "\n",
    "        df_list.append(\n",
    "            pd.DataFrame(\n",
    "                {'seq': seqs, \n",
    "                 'forward_primers_0': forward_primers_0, \n",
    "                 'reverse_primers_0': reverse_primers_0, \n",
    "                 'reverse_primers_1': reverse_primers_1,\n",
    "                 'construct': i\n",
    "                }))\n",
    "         \n",
    "    return pd.concat(df_list, ignore_index=True)"
   ]
  },
  {
   "cell_type": "code",
   "execution_count": 33,
   "metadata": {},
   "outputs": [],
   "source": [
    "df = do_all(\n",
    "    ['../../../data/twist_order/lacI_sequences.csv', \n",
    "     '../../../data/twist_order/lacUV5_tetOx_single_double_mutants.csv',\n",
    "     '../../../data/twist_order/lacUV_mutants.csv',\n",
    "     '../../../data/twist_order/natural_tet_promoters_mutated.csv'],\n",
    "    primer\n",
    ")"
   ]
  },
  {
   "cell_type": "code",
   "execution_count": 34,
   "metadata": {},
   "outputs": [
    {
     "name": "stdout",
     "output_type": "stream",
     "text": [
      "Primer check passed.\n",
      "\n",
      "Oligo length check passed.\n",
      "\n",
      "Uniqueness check passed for construct 0.\n",
      "\n",
      "Restriction enzyme sites for construct 0:\n",
      "ApaI :  0.0\n",
      "SbfI :  0.0\n",
      "XhoI :  0.0\n",
      "SalI :  0.0\n",
      "SacI :  0.0\n",
      "\n",
      "Uniqueness check passed for construct 1.\n",
      "\n",
      "Restriction enzyme sites for construct 1:\n",
      "ApaI :  11.0\n",
      "SbfI :  0.0\n",
      "XhoI :  0.0\n",
      "SalI :  0.0\n",
      "SacI :  0.0\n",
      "\n",
      "Uniqueness check passed for construct 2.\n",
      "\n",
      "Restriction enzyme sites for construct 2:\n",
      "SalI :  21.0\n",
      "ApaI :  0.0\n",
      "SbfI :  0.0\n",
      "XhoI :  0.0\n",
      "SacI :  0.0\n",
      "\n",
      "Uniqueness check passed for construct 3.\n",
      "\n",
      "Restriction enzyme sites for construct 3:\n",
      "ApaI :  11.0\n",
      "SbfI :  0.0\n",
      "XhoI :  0.0\n",
      "SalI :  0.0\n",
      "SacI :  0.0\n",
      "\n"
     ]
    }
   ],
   "source": [
    "check_pool_df(df, [\"SacI\", \"SalI\", \"XhoI\", \"SbfI\", \"ApaI\"])"
   ]
  },
  {
   "cell_type": "code",
   "execution_count": null,
   "metadata": {},
   "outputs": [],
   "source": []
  }
 ],
 "metadata": {
  "kernelspec": {
   "display_name": "Python 3",
   "language": "python",
   "name": "python3"
  },
  "language_info": {
   "codemirror_mode": {
    "name": "ipython",
    "version": 3
   },
   "file_extension": ".py",
   "mimetype": "text/x-python",
   "name": "python",
   "nbconvert_exporter": "python",
   "pygments_lexer": "ipython3",
   "version": "3.8.5"
  }
 },
 "nbformat": 4,
 "nbformat_minor": 4
}
