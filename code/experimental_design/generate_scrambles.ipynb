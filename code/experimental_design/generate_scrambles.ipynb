{
 "cells": [
  {
   "cell_type": "markdown",
   "metadata": {},
   "source": [
    "# Generating mutation scrambles of different sizes."
   ]
  },
  {
   "cell_type": "markdown",
   "metadata": {},
   "source": [
    "(c) 2020 Tom Röschinger. This work is licensed under a [Creative Commons Attribution License CC-BY 4.0](https://creativecommons.org/licenses/by/4.0/). All code contained herein is licensed under an [MIT license](https://opensource.org/licenses/MIT)."
   ]
  },
  {
   "cell_type": "code",
   "execution_count": 1,
   "metadata": {},
   "outputs": [],
   "source": [
    "import wgregseq\n",
    "%load_ext autoreload\n",
    "%autoreload 2\n",
    "\n",
    "import numpy as np\n",
    "import pandas as pd\n",
    "\n",
    "import matplotlib.pyplot as plt\n",
    "\n",
    "\n",
    "# Set default plotting style\n",
    "wgregseq.plotting_style()\n",
    "%matplotlib inline"
   ]
  },
  {
   "cell_type": "markdown",
   "metadata": {},
   "source": [
    "In this notebook we explore how to generate scrambles given a certain sequence. We want to be able to do it for sequences of various lengths, with variable size of the scrambles and variable overlap of consecutive scrambles. This method is based of the work from [Urtecho et al., 2020](https://www.biorxiv.org/content/10.1101/2020.01.04.894907v1), where they used scrambles of size 10, with an overlap of 5 base pairs. To find scrambles which are distant from the wild type sequence, they generated 100 scrambles by permuting the original sequence, and chose the sequence which was most distant. This preserves the GC-content of the sequence.\n",
    "\n",
    "Let's generate a random sequence to begin with. Therefore we can use the function `wgregseq.gen_rand_seq()`, which takes the sequence length as an argument. One can also give a list of letters as second argument. By default, a random DNA sequence is generated."
   ]
  },
  {
   "cell_type": "code",
   "execution_count": 2,
   "metadata": {},
   "outputs": [
    {
     "data": {
      "text/plain": [
       "'GACCTCAGCGTGTCTATCGC'"
      ]
     },
     "execution_count": 2,
     "metadata": {},
     "output_type": "execute_result"
    }
   ],
   "source": [
    "sequence = wgregseq.gen_rand_seq(20.)\n",
    "sequence"
   ]
  },
  {
   "cell_type": "markdown",
   "metadata": {},
   "source": [
    "To generate scrambles, we can use the function `wgregseq.create_scrambles()`, which takes as arguments the wild type sequence, the length of the generated scrambles, the number of overlapping bases, and the number of sequences generated per scramble, from which the most distant is chosen. The function will return an error message, if it cannot generate scrambles evenly throughout the sequence."
   ]
  },
  {
   "cell_type": "code",
   "execution_count": 3,
   "metadata": {},
   "outputs": [
    {
     "name": "stderr",
     "output_type": "stream",
     "text": [
      "/Users/tomroschinger/git/Reg-Seq2/software_module/wgregseq/seq_utils.py:164: UserWarning: Imperfect scrambles. Last scramble is omitted.\n",
      "  warnings.warn(\"Imperfect scrambles. Last scramble is omitted.\")\n"
     ]
    },
    {
     "data": {
      "text/plain": [
       "array(['GACCTCAGCGTGTCTATCGC', 'CTGGGACCACTGTCTATCGC',\n",
       "       'GACCCGTCGTGACTTATCGC', 'GACCTCAGTTCTCGACGTGC'], dtype='<U160')"
      ]
     },
     "execution_count": 3,
     "metadata": {},
     "output_type": "execute_result"
    }
   ],
   "source": [
    "wgregseq.create_scrambles(sequence, 10, 6, 100, ignore_imperfect_scrambling=True)"
   ]
  },
  {
   "cell_type": "markdown",
   "metadata": {},
   "source": [
    "The scrambles can also be returned in a data frame, which also includes the start and stop positions of the scrambles, as well as the center position. Note that here the wild type is not included."
   ]
  },
  {
   "cell_type": "code",
   "execution_count": 4,
   "metadata": {},
   "outputs": [
    {
     "data": {
      "text/html": [
       "<div>\n",
       "<style scoped>\n",
       "    .dataframe tbody tr th:only-of-type {\n",
       "        vertical-align: middle;\n",
       "    }\n",
       "\n",
       "    .dataframe tbody tr th {\n",
       "        vertical-align: top;\n",
       "    }\n",
       "\n",
       "    .dataframe thead th {\n",
       "        text-align: right;\n",
       "    }\n",
       "</style>\n",
       "<table border=\"1\" class=\"dataframe\">\n",
       "  <thead>\n",
       "    <tr style=\"text-align: right;\">\n",
       "      <th></th>\n",
       "      <th>start_pos</th>\n",
       "      <th>stop_pos</th>\n",
       "      <th>sequence</th>\n",
       "      <th>center_pos</th>\n",
       "    </tr>\n",
       "  </thead>\n",
       "  <tbody>\n",
       "    <tr>\n",
       "      <th>0</th>\n",
       "      <td>0</td>\n",
       "      <td>10</td>\n",
       "      <td>CTGAGGCCACTGTCTATCGC</td>\n",
       "      <td>5.0</td>\n",
       "    </tr>\n",
       "    <tr>\n",
       "      <th>1</th>\n",
       "      <td>5</td>\n",
       "      <td>15</td>\n",
       "      <td>GACCTTGCTTACCGGATCGC</td>\n",
       "      <td>10.0</td>\n",
       "    </tr>\n",
       "    <tr>\n",
       "      <th>2</th>\n",
       "      <td>10</td>\n",
       "      <td>20</td>\n",
       "      <td>GACCTCAGCGGTCTCTATCG</td>\n",
       "      <td>15.0</td>\n",
       "    </tr>\n",
       "  </tbody>\n",
       "</table>\n",
       "</div>"
      ],
      "text/plain": [
       "   start_pos  stop_pos              sequence  center_pos\n",
       "0          0        10  CTGAGGCCACTGTCTATCGC         5.0\n",
       "1          5        15  GACCTTGCTTACCGGATCGC        10.0\n",
       "2         10        20  GACCTCAGCGGTCTCTATCG        15.0"
      ]
     },
     "execution_count": 4,
     "metadata": {},
     "output_type": "execute_result"
    }
   ],
   "source": [
    "df = wgregseq.create_scrambles_df(sequence, 10, 5, 100)\n",
    "df"
   ]
  },
  {
   "cell_type": "markdown",
   "metadata": {},
   "source": [
    "## Scan scrambles"
   ]
  },
  {
   "cell_type": "code",
   "execution_count": 5,
   "metadata": {},
   "outputs": [
    {
     "data": {
      "text/plain": [
       "'TCGATTTCCCCATAAAATGTGAGCGATGCCGAAAGAAATAAAATTAGTTATTGCATTTGACGTTTGGATGAAAGATTATCATTTGTCATACAAATGAGGGGTGGTATGTTGCTAGCCAATTAAAAAAGAACGCCATATTTATTGATGATTGATCCCCCGG'"
      ]
     },
     "execution_count": 5,
     "metadata": {},
     "output_type": "execute_result"
    }
   ],
   "source": [
    "sequence_df = pd.read_csv(\"../../data/RegSeq/wtsequences.csv\", index_col=0).reset_index()\n",
    "sequence = sequence_df.loc[sequence_df[\"name\"] == \"ykgE\", \"geneseq\"].values[0]\n",
    "sequence"
   ]
  },
  {
   "cell_type": "code",
   "execution_count": 6,
   "metadata": {},
   "outputs": [
    {
     "data": {
      "text/html": [
       "<div>\n",
       "<style scoped>\n",
       "    .dataframe tbody tr th:only-of-type {\n",
       "        vertical-align: middle;\n",
       "    }\n",
       "\n",
       "    .dataframe tbody tr th {\n",
       "        vertical-align: top;\n",
       "    }\n",
       "\n",
       "    .dataframe thead th {\n",
       "        text-align: right;\n",
       "    }\n",
       "</style>\n",
       "<table border=\"1\" class=\"dataframe\">\n",
       "  <thead>\n",
       "    <tr style=\"text-align: right;\">\n",
       "      <th></th>\n",
       "      <th>pos</th>\n",
       "      <th>A</th>\n",
       "      <th>C</th>\n",
       "      <th>G</th>\n",
       "      <th>T</th>\n",
       "    </tr>\n",
       "  </thead>\n",
       "  <tbody>\n",
       "    <tr>\n",
       "      <th>0</th>\n",
       "      <td>0</td>\n",
       "      <td>0.014540</td>\n",
       "      <td>0.001685</td>\n",
       "      <td>-0.022539</td>\n",
       "      <td>0.006314</td>\n",
       "    </tr>\n",
       "    <tr>\n",
       "      <th>1</th>\n",
       "      <td>1</td>\n",
       "      <td>0.023509</td>\n",
       "      <td>-0.002869</td>\n",
       "      <td>-0.023115</td>\n",
       "      <td>0.002475</td>\n",
       "    </tr>\n",
       "    <tr>\n",
       "      <th>2</th>\n",
       "      <td>2</td>\n",
       "      <td>-0.003412</td>\n",
       "      <td>0.020748</td>\n",
       "      <td>-0.016885</td>\n",
       "      <td>-0.000451</td>\n",
       "    </tr>\n",
       "    <tr>\n",
       "      <th>3</th>\n",
       "      <td>3</td>\n",
       "      <td>0.009721</td>\n",
       "      <td>-0.001487</td>\n",
       "      <td>-0.020443</td>\n",
       "      <td>0.012209</td>\n",
       "    </tr>\n",
       "    <tr>\n",
       "      <th>4</th>\n",
       "      <td>4</td>\n",
       "      <td>-0.011957</td>\n",
       "      <td>-0.000411</td>\n",
       "      <td>0.021063</td>\n",
       "      <td>-0.008694</td>\n",
       "    </tr>\n",
       "    <tr>\n",
       "      <th>...</th>\n",
       "      <td>...</td>\n",
       "      <td>...</td>\n",
       "      <td>...</td>\n",
       "      <td>...</td>\n",
       "      <td>...</td>\n",
       "    </tr>\n",
       "    <tr>\n",
       "      <th>175</th>\n",
       "      <td>175</td>\n",
       "      <td>-0.003142</td>\n",
       "      <td>-0.006916</td>\n",
       "      <td>0.004624</td>\n",
       "      <td>0.005434</td>\n",
       "    </tr>\n",
       "    <tr>\n",
       "      <th>176</th>\n",
       "      <td>176</td>\n",
       "      <td>-0.006274</td>\n",
       "      <td>0.013448</td>\n",
       "      <td>0.010144</td>\n",
       "      <td>-0.017318</td>\n",
       "    </tr>\n",
       "    <tr>\n",
       "      <th>177</th>\n",
       "      <td>177</td>\n",
       "      <td>-0.000617</td>\n",
       "      <td>0.003695</td>\n",
       "      <td>0.005405</td>\n",
       "      <td>-0.008484</td>\n",
       "    </tr>\n",
       "    <tr>\n",
       "      <th>178</th>\n",
       "      <td>178</td>\n",
       "      <td>0.005982</td>\n",
       "      <td>-0.002930</td>\n",
       "      <td>0.008917</td>\n",
       "      <td>-0.011969</td>\n",
       "    </tr>\n",
       "    <tr>\n",
       "      <th>179</th>\n",
       "      <td>179</td>\n",
       "      <td>-0.008573</td>\n",
       "      <td>0.006331</td>\n",
       "      <td>0.024324</td>\n",
       "      <td>-0.022082</td>\n",
       "    </tr>\n",
       "  </tbody>\n",
       "</table>\n",
       "<p>180 rows × 5 columns</p>\n",
       "</div>"
      ],
      "text/plain": [
       "     pos         A         C         G         T\n",
       "0      0  0.014540  0.001685 -0.022539  0.006314\n",
       "1      1  0.023509 -0.002869 -0.023115  0.002475\n",
       "2      2 -0.003412  0.020748 -0.016885 -0.000451\n",
       "3      3  0.009721 -0.001487 -0.020443  0.012209\n",
       "4      4 -0.011957 -0.000411  0.021063 -0.008694\n",
       "..   ...       ...       ...       ...       ...\n",
       "175  175 -0.003142 -0.006916  0.004624  0.005434\n",
       "176  176 -0.006274  0.013448  0.010144 -0.017318\n",
       "177  177 -0.000617  0.003695  0.005405 -0.008484\n",
       "178  178  0.005982 -0.002930  0.008917 -0.011969\n",
       "179  179 -0.008573  0.006331  0.024324 -0.022082\n",
       "\n",
       "[180 rows x 5 columns]"
      ]
     },
     "execution_count": 6,
     "metadata": {},
     "output_type": "execute_result"
    }
   ],
   "source": [
    "effect_matrix = pd.read_csv(\"../../data/RegSeq/ykgEarabinosedataset_alldone_with_largeMCMC194\", delim_whitespace=True)\n",
    "effect_matrix.rename(columns={\"val_A\":\"A\", \"val_C\":\"C\", \"val_G\":\"G\", \"val_T\":\"T\"}, inplace=True)\n",
    "effect_matrix"
   ]
  },
  {
   "cell_type": "code",
   "execution_count": 7,
   "metadata": {},
   "outputs": [
    {
     "name": "stderr",
     "output_type": "stream",
     "text": [
      "/Users/tomroschinger/git/Reg-Seq2/software_module/wgregseq/seq_utils.py:164: UserWarning: Imperfect scrambles. Last scramble is omitted.\n",
      "  warnings.warn(\"Imperfect scrambles. Last scramble is omitted.\")\n"
     ]
    },
    {
     "data": {
      "text/html": [
       "<div>\n",
       "<style scoped>\n",
       "    .dataframe tbody tr th:only-of-type {\n",
       "        vertical-align: middle;\n",
       "    }\n",
       "\n",
       "    .dataframe tbody tr th {\n",
       "        vertical-align: top;\n",
       "    }\n",
       "\n",
       "    .dataframe thead th {\n",
       "        text-align: right;\n",
       "    }\n",
       "</style>\n",
       "<table border=\"1\" class=\"dataframe\">\n",
       "  <thead>\n",
       "    <tr style=\"text-align: right;\">\n",
       "      <th></th>\n",
       "      <th>start_pos</th>\n",
       "      <th>stop_pos</th>\n",
       "      <th>sequence</th>\n",
       "      <th>center_pos</th>\n",
       "    </tr>\n",
       "  </thead>\n",
       "  <tbody>\n",
       "    <tr>\n",
       "      <th>0</th>\n",
       "      <td>0.0</td>\n",
       "      <td>6.0</td>\n",
       "      <td>GTTTCATCCCCATAAAATGTGAGCGATGCCGAAAGAAATAAAATTA...</td>\n",
       "      <td>3.0</td>\n",
       "    </tr>\n",
       "    <tr>\n",
       "      <th>1</th>\n",
       "      <td>0.0</td>\n",
       "      <td>6.0</td>\n",
       "      <td>ATTTCGTCCCCATAAAATGTGAGCGATGCCGAAAGAAATAAAATTA...</td>\n",
       "      <td>3.0</td>\n",
       "    </tr>\n",
       "    <tr>\n",
       "      <th>2</th>\n",
       "      <td>0.0</td>\n",
       "      <td>6.0</td>\n",
       "      <td>CTTTGATCCCCATAAAATGTGAGCGATGCCGAAAGAAATAAAATTA...</td>\n",
       "      <td>3.0</td>\n",
       "    </tr>\n",
       "    <tr>\n",
       "      <th>3</th>\n",
       "      <td>0.0</td>\n",
       "      <td>6.0</td>\n",
       "      <td>ATTTGCTCCCCATAAAATGTGAGCGATGCCGAAAGAAATAAAATTA...</td>\n",
       "      <td>3.0</td>\n",
       "    </tr>\n",
       "    <tr>\n",
       "      <th>4</th>\n",
       "      <td>0.0</td>\n",
       "      <td>6.0</td>\n",
       "      <td>ATTTCGTCCCCATAAAATGTGAGCGATGCCGAAAGAAATAAAATTA...</td>\n",
       "      <td>3.0</td>\n",
       "    </tr>\n",
       "  </tbody>\n",
       "</table>\n",
       "</div>"
      ],
      "text/plain": [
       "   start_pos  stop_pos                                           sequence  \\\n",
       "0        0.0       6.0  GTTTCATCCCCATAAAATGTGAGCGATGCCGAAAGAAATAAAATTA...   \n",
       "1        0.0       6.0  ATTTCGTCCCCATAAAATGTGAGCGATGCCGAAAGAAATAAAATTA...   \n",
       "2        0.0       6.0  CTTTGATCCCCATAAAATGTGAGCGATGCCGAAAGAAATAAAATTA...   \n",
       "3        0.0       6.0  ATTTGCTCCCCATAAAATGTGAGCGATGCCGAAAGAAATAAAATTA...   \n",
       "4        0.0       6.0  ATTTCGTCCCCATAAAATGTGAGCGATGCCGAAAGAAATAAAATTA...   \n",
       "\n",
       "   center_pos  \n",
       "0         3.0  \n",
       "1         3.0  \n",
       "2         3.0  \n",
       "3         3.0  \n",
       "4         3.0  "
      ]
     },
     "execution_count": 7,
     "metadata": {},
     "output_type": "execute_result"
    }
   ],
   "source": [
    "df = wgregseq.create_scrambles_df(sequence, 6, 3, 100, number=10,  ignore_imperfect_scrambling=True)\n",
    "df.head()"
   ]
  },
  {
   "cell_type": "code",
   "execution_count": 8,
   "metadata": {},
   "outputs": [],
   "source": [
    "eff_df = wgregseq.sum_emat_df(df, effect_matrix)"
   ]
  },
  {
   "cell_type": "code",
   "execution_count": 9,
   "metadata": {},
   "outputs": [
    {
     "data": {
      "text/plain": [
       "<matplotlib.collections.PathCollection at 0x7fa986b55460>"
      ]
     },
     "execution_count": 9,
     "metadata": {},
     "output_type": "execute_result"
    },
    {
     "data": {
      "image/png": "[encoded data removed]",
      "text/plain": [
       "<Figure size 432x288 with 1 Axes>"
      ]
     },
     "metadata": {
      "needs_background": "light"
     },
     "output_type": "display_data"
    }
   ],
   "source": [
    "x = eff_df[\"center_pos\"].unique()\n",
    "y = eff_df.groupby(\"center_pos\")[\"effect\"].mean().values\n",
    "plt.scatter(x, y)"
   ]
  },
  {
   "cell_type": "markdown",
   "metadata": {},
   "source": [
    "These sequences including scrambles can be used to identify transcription factor binding sites or RNAP binding sites."
   ]
  },
  {
   "cell_type": "markdown",
   "metadata": {},
   "source": [
    "## Computing Environment"
   ]
  },
  {
   "cell_type": "code",
   "execution_count": 10,
   "metadata": {},
   "outputs": [
    {
     "name": "stdout",
     "output_type": "stream",
     "text": [
      "CPython 3.8.5\n",
      "IPython 7.10.0\n",
      "\n",
      "wgregseq 0.0.1\n",
      "numpy 1.18.1\n",
      "pandas 1.0.3\n"
     ]
    }
   ],
   "source": [
    "%load_ext watermark\n",
    "%watermark -v -p wgregseq,numpy,pandas"
   ]
  }
 ],
 "metadata": {
  "kernelspec": {
   "display_name": "Python",
   "language": "python",
   "name": "base"
  },
  "language_info": {
   "codemirror_mode": {
    "name": "ipython",
    "version": 3
   },
   "file_extension": ".py",
   "mimetype": "text/x-python",
   "name": "python",
   "nbconvert_exporter": "python",
   "pygments_lexer": "ipython3",
   "version": "3.8.5"
  }
 },
 "nbformat": 4,
 "nbformat_minor": 4
}
