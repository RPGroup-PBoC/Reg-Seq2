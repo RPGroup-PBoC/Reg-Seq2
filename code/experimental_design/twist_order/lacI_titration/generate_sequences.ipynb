{
 "cells": [
  {
   "cell_type": "markdown",
   "metadata": {},
   "source": [
    "# Generating LacI operator constructs"
   ]
  },
  {
   "cell_type": "markdown",
   "metadata": {},
   "source": [
    "(c) 2021 Tom Röschinger. This work is licensed under a [Creative Commons Attribution License CC-BY 4.0](https://creativecommons.org/licenses/by/4.0/). All code contained herein is licensed under an [MIT license](https://opensource.org/licenses/MIT)."
   ]
  },
  {
   "cell_type": "markdown",
   "metadata": {},
   "source": [
    "***"
   ]
  },
  {
   "cell_type": "markdown",
   "metadata": {},
   "source": [
    "In this notebook we create mutants from the O1-sequence, which is a strong binding site for lacI. The goal is to explore the accuracy of RNA-seq and compare predicted binding energies with the ones obtained from these mutants in RNA-seq. Also, we can easily include plenty of sequences with many mutations and can test the limits of linear binding energy matrices, i.e., for how many mutations can the energy matrix accurately predict the energy (given that RNA-seq is precise for small number of mutations)."
   ]
  },
  {
   "cell_type": "markdown",
   "metadata": {},
   "source": [
    "To achieve reproducibility, we set the random seed. Be sure to run this cell before any other. In subsequent cells using random number generators are used multiple times, the results will vary. "
   ]
  },
  {
   "cell_type": "code",
   "execution_count": 3,
   "metadata": {},
   "outputs": [
    {
     "name": "stdout",
     "output_type": "stream",
     "text": [
      "The autoreload extension is already loaded. To reload it, use:\n",
      "  %reload_ext autoreload\n"
     ]
    },
    {
     "data": {
      "text/html": [
       "\n",
       "    <div class=\"bk-root\">\n",
       "        <a href=\"https://bokeh.org\" target=\"_blank\" class=\"bk-logo bk-logo-small bk-logo-notebook\"></a>\n",
       "        <span id=\"1002\">Loading BokehJS ...</span>\n",
       "    </div>"
      ]
     },
     "metadata": {},
     "output_type": "display_data"
    },
    {
     "data": {
      "application/javascript": [
       "\n",
       "(function(root) {\n",
       "  function now() {\n",
       "    return new Date();\n",
       "  }\n",
       "\n",
       "  var force = true;\n",
       "\n",
       "  if (typeof root._bokeh_onload_callbacks === \"undefined\" || force === true) {\n",
       "    root._bokeh_onload_callbacks = [];\n",
       "    root._bokeh_is_loading = undefined;\n",
       "  }\n",
       "\n",
       "  var JS_MIME_TYPE = 'application/javascript';\n",
       "  var HTML_MIME_TYPE = 'text/html';\n",
       "  var EXEC_MIME_TYPE = 'application/vnd.bokehjs_exec.v0+json';\n",
       "  var CLASS_NAME = 'output_bokeh rendered_html';\n",
       "\n",
       "  /**\n",
       "   * Render data to the DOM node\n",
       "   */\n",
       "  function render(props, node) {\n",
       "    var script = document.createElement(\"script\");\n",
       "    node.appendChild(script);\n",
       "  }\n",
       "\n",
       "  /**\n",
       "   * Handle when an output is cleared or removed\n",
       "   */\n",
       "  function handleClearOutput(event, handle) {\n",
       "    var cell = handle.cell;\n",
       "\n",
       "    var id = cell.output_area._bokeh_element_id;\n",
       "    var server_id = cell.output_area._bokeh_server_id;\n",
       "    // Clean up Bokeh references\n",
       "    if (id != null && id in Bokeh.index) {\n",
       "      Bokeh.index[id].model.document.clear();\n",
       "      delete Bokeh.index[id];\n",
       "    }\n",
       "\n",
       "    if (server_id !== undefined) {\n",
       "      // Clean up Bokeh references\n",
       "      var cmd = \"from bokeh.io.state import curstate; print(curstate().uuid_to_server['\" + server_id + \"'].get_sessions()[0].document.roots[0]._id)\";\n",
       "      cell.notebook.kernel.execute(cmd, {\n",
       "        iopub: {\n",
       "          output: function(msg) {\n",
       "            var id = msg.content.text.trim();\n",
       "            if (id in Bokeh.index) {\n",
       "              Bokeh.index[id].model.document.clear();\n",
       "              delete Bokeh.index[id];\n",
       "            }\n",
       "          }\n",
       "        }\n",
       "      });\n",
       "      // Destroy server and session\n",
       "      var cmd = \"import bokeh.io.notebook as ion; ion.destroy_server('\" + server_id + \"')\";\n",
       "      cell.notebook.kernel.execute(cmd);\n",
       "    }\n",
       "  }\n",
       "\n",
       "  /**\n",
       "   * Handle when a new output is added\n",
       "   */\n",
       "  function handleAddOutput(event, handle) {\n",
       "    var output_area = handle.output_area;\n",
       "    var output = handle.output;\n",
       "\n",
       "    // limit handleAddOutput to display_data with EXEC_MIME_TYPE content only\n",
       "    if ((output.output_type != \"display_data\") || (!output.data.hasOwnProperty(EXEC_MIME_TYPE))) {\n",
       "      return\n",
       "    }\n",
       "\n",
       "    var toinsert = output_area.element.find(\".\" + CLASS_NAME.split(' ')[0]);\n",
       "\n",
       "    if (output.metadata[EXEC_MIME_TYPE][\"id\"] !== undefined) {\n",
       "      toinsert[toinsert.length - 1].firstChild.textContent = output.data[JS_MIME_TYPE];\n",
       "      // store reference to embed id on output_area\n",
       "      output_area._bokeh_element_id = output.metadata[EXEC_MIME_TYPE][\"id\"];\n",
       "    }\n",
       "    if (output.metadata[EXEC_MIME_TYPE][\"server_id\"] !== undefined) {\n",
       "      var bk_div = document.createElement(\"div\");\n",
       "      bk_div.innerHTML = output.data[HTML_MIME_TYPE];\n",
       "      var script_attrs = bk_div.children[0].attributes;\n",
       "      for (var i = 0; i < script_attrs.length; i++) {\n",
       "        toinsert[toinsert.length - 1].firstChild.setAttribute(script_attrs[i].name, script_attrs[i].value);\n",
       "        toinsert[toinsert.length - 1].firstChild.textContent = bk_div.children[0].textContent\n",
       "      }\n",
       "      // store reference to server id on output_area\n",
       "      output_area._bokeh_server_id = output.metadata[EXEC_MIME_TYPE][\"server_id\"];\n",
       "    }\n",
       "  }\n",
       "\n",
       "  function register_renderer(events, OutputArea) {\n",
       "\n",
       "    function append_mime(data, metadata, element) {\n",
       "      // create a DOM node to render to\n",
       "      var toinsert = this.create_output_subarea(\n",
       "        metadata,\n",
       "        CLASS_NAME,\n",
       "        EXEC_MIME_TYPE\n",
       "      );\n",
       "      this.keyboard_manager.register_events(toinsert);\n",
       "      // Render to node\n",
       "      var props = {data: data, metadata: metadata[EXEC_MIME_TYPE]};\n",
       "      render(props, toinsert[toinsert.length - 1]);\n",
       "      element.append(toinsert);\n",
       "      return toinsert\n",
       "    }\n",
       "\n",
       "    /* Handle when an output is cleared or removed */\n",
       "    events.on('clear_output.CodeCell', handleClearOutput);\n",
       "    events.on('delete.Cell', handleClearOutput);\n",
       "\n",
       "    /* Handle when a new output is added */\n",
       "    events.on('output_added.OutputArea', handleAddOutput);\n",
       "\n",
       "    /**\n",
       "     * Register the mime type and append_mime function with output_area\n",
       "     */\n",
       "    OutputArea.prototype.register_mime_type(EXEC_MIME_TYPE, append_mime, {\n",
       "      /* Is output safe? */\n",
       "      safe: true,\n",
       "      /* Index of renderer in `output_area.display_order` */\n",
       "      index: 0\n",
       "    });\n",
       "  }\n",
       "\n",
       "  // register the mime type if in Jupyter Notebook environment and previously unregistered\n",
       "  if (root.Jupyter !== undefined) {\n",
       "    var events = require('base/js/events');\n",
       "    var OutputArea = require('notebook/js/outputarea').OutputArea;\n",
       "\n",
       "    if (OutputArea.prototype.mime_types().indexOf(EXEC_MIME_TYPE) == -1) {\n",
       "      register_renderer(events, OutputArea);\n",
       "    }\n",
       "  }\n",
       "\n",
       "  \n",
       "  if (typeof (root._bokeh_timeout) === \"undefined\" || force === true) {\n",
       "    root._bokeh_timeout = Date.now() + 5000;\n",
       "    root._bokeh_failed_load = false;\n",
       "  }\n",
       "\n",
       "  var NB_LOAD_WARNING = {'data': {'text/html':\n",
       "     \"<div style='background-color: #fdd'>\\n\"+\n",
       "     \"<p>\\n\"+\n",
       "     \"BokehJS does not appear to have successfully loaded. If loading BokehJS from CDN, this \\n\"+\n",
       "     \"may be due to a slow or bad network connection. Possible fixes:\\n\"+\n",
       "     \"</p>\\n\"+\n",
       "     \"<ul>\\n\"+\n",
       "     \"<li>re-rerun `output_notebook()` to attempt to load from CDN again, or</li>\\n\"+\n",
       "     \"<li>use INLINE resources instead, as so:</li>\\n\"+\n",
       "     \"</ul>\\n\"+\n",
       "     \"<code>\\n\"+\n",
       "     \"from bokeh.resources import INLINE\\n\"+\n",
       "     \"output_notebook(resources=INLINE)\\n\"+\n",
       "     \"</code>\\n\"+\n",
       "     \"</div>\"}};\n",
       "\n",
       "  function display_loaded() {\n",
       "    var el = document.getElementById(\"1002\");\n",
       "    if (el != null) {\n",
       "      el.textContent = \"BokehJS is loading...\";\n",
       "    }\n",
       "    if (root.Bokeh !== undefined) {\n",
       "      if (el != null) {\n",
       "        el.textContent = \"BokehJS \" + root.Bokeh.version + \" successfully loaded.\";\n",
       "      }\n",
       "    } else if (Date.now() < root._bokeh_timeout) {\n",
       "      setTimeout(display_loaded, 100)\n",
       "    }\n",
       "  }\n",
       "\n",
       "\n",
       "  function run_callbacks() {\n",
       "    try {\n",
       "      root._bokeh_onload_callbacks.forEach(function(callback) {\n",
       "        if (callback != null)\n",
       "          callback();\n",
       "      });\n",
       "    } finally {\n",
       "      delete root._bokeh_onload_callbacks\n",
       "    }\n",
       "    console.debug(\"Bokeh: all callbacks have finished\");\n",
       "  }\n",
       "\n",
       "  function load_libs(css_urls, js_urls, callback) {\n",
       "    if (css_urls == null) css_urls = [];\n",
       "    if (js_urls == null) js_urls = [];\n",
       "\n",
       "    root._bokeh_onload_callbacks.push(callback);\n",
       "    if (root._bokeh_is_loading > 0) {\n",
       "      console.debug(\"Bokeh: BokehJS is being loaded, scheduling callback at\", now());\n",
       "      return null;\n",
       "    }\n",
       "    if (js_urls == null || js_urls.length === 0) {\n",
       "      run_callbacks();\n",
       "      return null;\n",
       "    }\n",
       "    console.debug(\"Bokeh: BokehJS not loaded, scheduling load and callback at\", now());\n",
       "    root._bokeh_is_loading = css_urls.length + js_urls.length;\n",
       "\n",
       "    function on_load() {\n",
       "      root._bokeh_is_loading--;\n",
       "      if (root._bokeh_is_loading === 0) {\n",
       "        console.debug(\"Bokeh: all BokehJS libraries/stylesheets loaded\");\n",
       "        run_callbacks()\n",
       "      }\n",
       "    }\n",
       "\n",
       "    function on_error() {\n",
       "      console.error(\"failed to load \" + url);\n",
       "    }\n",
       "\n",
       "    for (var i = 0; i < css_urls.length; i++) {\n",
       "      var url = css_urls[i];\n",
       "      const element = document.createElement(\"link\");\n",
       "      element.onload = on_load;\n",
       "      element.onerror = on_error;\n",
       "      element.rel = \"stylesheet\";\n",
       "      element.type = \"text/css\";\n",
       "      element.href = url;\n",
       "      console.debug(\"Bokeh: injecting link tag for BokehJS stylesheet: \", url);\n",
       "      document.body.appendChild(element);\n",
       "    }\n",
       "\n",
       "    const hashes = {\"https://cdn.bokeh.org/bokeh/release/bokeh-2.0.2.min.js\": \"ufR9RFnRs6lniiaFvtJziE0YeidtAgBRH6ux2oUItHw5WTvE1zuk9uzhUU/FJXDp\", \"https://cdn.bokeh.org/bokeh/release/bokeh-widgets-2.0.2.min.js\": \"8QM/PGWBT+IssZuRcDcjzwIh1mkOmJSoNMmyYDZbCfXJg3Ap1lEvdVgFuSAwhb/J\", \"https://cdn.bokeh.org/bokeh/release/bokeh-tables-2.0.2.min.js\": \"Jm8cH3Rg0P6UeZhVY5cLy1WzKajUT9KImCY+76hEqrcJt59/d8GPvFHjCkYgnSIn\", \"https://cdn.bokeh.org/bokeh/release/bokeh-gl-2.0.2.min.js\": \"Ozhzj+SI7ywm74aOI/UajcWz+C0NjsPunEVyVIrxzYkB+jA+2tUw8x5xJCbVtK5I\"};\n",
       "\n",
       "    for (var i = 0; i < js_urls.length; i++) {\n",
       "      var url = js_urls[i];\n",
       "      var element = document.createElement('script');\n",
       "      element.onload = on_load;\n",
       "      element.onerror = on_error;\n",
       "      element.async = false;\n",
       "      element.src = url;\n",
       "      if (url in hashes) {\n",
       "        element.crossOrigin = \"anonymous\";\n",
       "        element.integrity = \"sha384-\" + hashes[url];\n",
       "      }\n",
       "      console.debug(\"Bokeh: injecting script tag for BokehJS library: \", url);\n",
       "      document.head.appendChild(element);\n",
       "    }\n",
       "  };\n",
       "\n",
       "  function inject_raw_css(css) {\n",
       "    const element = document.createElement(\"style\");\n",
       "    element.appendChild(document.createTextNode(css));\n",
       "    document.body.appendChild(element);\n",
       "  }\n",
       "\n",
       "  \n",
       "  var js_urls = [\"https://cdn.bokeh.org/bokeh/release/bokeh-2.0.2.min.js\", \"https://cdn.bokeh.org/bokeh/release/bokeh-widgets-2.0.2.min.js\", \"https://cdn.bokeh.org/bokeh/release/bokeh-tables-2.0.2.min.js\", \"https://cdn.bokeh.org/bokeh/release/bokeh-gl-2.0.2.min.js\"];\n",
       "  var css_urls = [];\n",
       "  \n",
       "\n",
       "  var inline_js = [\n",
       "    function(Bokeh) {\n",
       "      Bokeh.set_log_level(\"info\");\n",
       "    },\n",
       "    function(Bokeh) {\n",
       "    \n",
       "    \n",
       "    }\n",
       "  ];\n",
       "\n",
       "  function run_inline_js() {\n",
       "    \n",
       "    if (root.Bokeh !== undefined || force === true) {\n",
       "      \n",
       "    for (var i = 0; i < inline_js.length; i++) {\n",
       "      inline_js[i].call(root, root.Bokeh);\n",
       "    }\n",
       "    if (force === true) {\n",
       "        display_loaded();\n",
       "      }} else if (Date.now() < root._bokeh_timeout) {\n",
       "      setTimeout(run_inline_js, 100);\n",
       "    } else if (!root._bokeh_failed_load) {\n",
       "      console.log(\"Bokeh: BokehJS failed to load within specified timeout.\");\n",
       "      root._bokeh_failed_load = true;\n",
       "    } else if (force !== true) {\n",
       "      var cell = $(document.getElementById(\"1002\")).parents('.cell').data().cell;\n",
       "      cell.output_area.append_execute_result(NB_LOAD_WARNING)\n",
       "    }\n",
       "\n",
       "  }\n",
       "\n",
       "  if (root._bokeh_is_loading === 0) {\n",
       "    console.debug(\"Bokeh: BokehJS loaded, going straight to plotting\");\n",
       "    run_inline_js();\n",
       "  } else {\n",
       "    load_libs(css_urls, js_urls, function() {\n",
       "      console.debug(\"Bokeh: BokehJS plotting callback run at\", now());\n",
       "      run_inline_js();\n",
       "    });\n",
       "  }\n",
       "}(window));"
      ],
      "application/vnd.bokehjs_load.v0+json": "\n(function(root) {\n  function now() {\n    return new Date();\n  }\n\n  var force = true;\n\n  if (typeof root._bokeh_onload_callbacks === \"undefined\" || force === true) {\n    root._bokeh_onload_callbacks = [];\n    root._bokeh_is_loading = undefined;\n  }\n\n  \n\n  \n  if (typeof (root._bokeh_timeout) === \"undefined\" || force === true) {\n    root._bokeh_timeout = Date.now() + 5000;\n    root._bokeh_failed_load = false;\n  }\n\n  var NB_LOAD_WARNING = {'data': {'text/html':\n     \"<div style='background-color: #fdd'>\\n\"+\n     \"<p>\\n\"+\n     \"BokehJS does not appear to have successfully loaded. If loading BokehJS from CDN, this \\n\"+\n     \"may be due to a slow or bad network connection. Possible fixes:\\n\"+\n     \"</p>\\n\"+\n     \"<ul>\\n\"+\n     \"<li>re-rerun `output_notebook()` to attempt to load from CDN again, or</li>\\n\"+\n     \"<li>use INLINE resources instead, as so:</li>\\n\"+\n     \"</ul>\\n\"+\n     \"<code>\\n\"+\n     \"from bokeh.resources import INLINE\\n\"+\n     \"output_notebook(resources=INLINE)\\n\"+\n     \"</code>\\n\"+\n     \"</div>\"}};\n\n  function display_loaded() {\n    var el = document.getElementById(\"1002\");\n    if (el != null) {\n      el.textContent = \"BokehJS is loading...\";\n    }\n    if (root.Bokeh !== undefined) {\n      if (el != null) {\n        el.textContent = \"BokehJS \" + root.Bokeh.version + \" successfully loaded.\";\n      }\n    } else if (Date.now() < root._bokeh_timeout) {\n      setTimeout(display_loaded, 100)\n    }\n  }\n\n\n  function run_callbacks() {\n    try {\n      root._bokeh_onload_callbacks.forEach(function(callback) {\n        if (callback != null)\n          callback();\n      });\n    } finally {\n      delete root._bokeh_onload_callbacks\n    }\n    console.debug(\"Bokeh: all callbacks have finished\");\n  }\n\n  function load_libs(css_urls, js_urls, callback) {\n    if (css_urls == null) css_urls = [];\n    if (js_urls == null) js_urls = [];\n\n    root._bokeh_onload_callbacks.push(callback);\n    if (root._bokeh_is_loading > 0) {\n      console.debug(\"Bokeh: BokehJS is being loaded, scheduling callback at\", now());\n      return null;\n    }\n    if (js_urls == null || js_urls.length === 0) {\n      run_callbacks();\n      return null;\n    }\n    console.debug(\"Bokeh: BokehJS not loaded, scheduling load and callback at\", now());\n    root._bokeh_is_loading = css_urls.length + js_urls.length;\n\n    function on_load() {\n      root._bokeh_is_loading--;\n      if (root._bokeh_is_loading === 0) {\n        console.debug(\"Bokeh: all BokehJS libraries/stylesheets loaded\");\n        run_callbacks()\n      }\n    }\n\n    function on_error() {\n      console.error(\"failed to load \" + url);\n    }\n\n    for (var i = 0; i < css_urls.length; i++) {\n      var url = css_urls[i];\n      const element = document.createElement(\"link\");\n      element.onload = on_load;\n      element.onerror = on_error;\n      element.rel = \"stylesheet\";\n      element.type = \"text/css\";\n      element.href = url;\n      console.debug(\"Bokeh: injecting link tag for BokehJS stylesheet: \", url);\n      document.body.appendChild(element);\n    }\n\n    const hashes = {\"https://cdn.bokeh.org/bokeh/release/bokeh-2.0.2.min.js\": \"ufR9RFnRs6lniiaFvtJziE0YeidtAgBRH6ux2oUItHw5WTvE1zuk9uzhUU/FJXDp\", \"https://cdn.bokeh.org/bokeh/release/bokeh-widgets-2.0.2.min.js\": \"8QM/PGWBT+IssZuRcDcjzwIh1mkOmJSoNMmyYDZbCfXJg3Ap1lEvdVgFuSAwhb/J\", \"https://cdn.bokeh.org/bokeh/release/bokeh-tables-2.0.2.min.js\": \"Jm8cH3Rg0P6UeZhVY5cLy1WzKajUT9KImCY+76hEqrcJt59/d8GPvFHjCkYgnSIn\", \"https://cdn.bokeh.org/bokeh/release/bokeh-gl-2.0.2.min.js\": \"Ozhzj+SI7ywm74aOI/UajcWz+C0NjsPunEVyVIrxzYkB+jA+2tUw8x5xJCbVtK5I\"};\n\n    for (var i = 0; i < js_urls.length; i++) {\n      var url = js_urls[i];\n      var element = document.createElement('script');\n      element.onload = on_load;\n      element.onerror = on_error;\n      element.async = false;\n      element.src = url;\n      if (url in hashes) {\n        element.crossOrigin = \"anonymous\";\n        element.integrity = \"sha384-\" + hashes[url];\n      }\n      console.debug(\"Bokeh: injecting script tag for BokehJS library: \", url);\n      document.head.appendChild(element);\n    }\n  };\n\n  function inject_raw_css(css) {\n    const element = document.createElement(\"style\");\n    element.appendChild(document.createTextNode(css));\n    document.body.appendChild(element);\n  }\n\n  \n  var js_urls = [\"https://cdn.bokeh.org/bokeh/release/bokeh-2.0.2.min.js\", \"https://cdn.bokeh.org/bokeh/release/bokeh-widgets-2.0.2.min.js\", \"https://cdn.bokeh.org/bokeh/release/bokeh-tables-2.0.2.min.js\", \"https://cdn.bokeh.org/bokeh/release/bokeh-gl-2.0.2.min.js\"];\n  var css_urls = [];\n  \n\n  var inline_js = [\n    function(Bokeh) {\n      Bokeh.set_log_level(\"info\");\n    },\n    function(Bokeh) {\n    \n    \n    }\n  ];\n\n  function run_inline_js() {\n    \n    if (root.Bokeh !== undefined || force === true) {\n      \n    for (var i = 0; i < inline_js.length; i++) {\n      inline_js[i].call(root, root.Bokeh);\n    }\n    if (force === true) {\n        display_loaded();\n      }} else if (Date.now() < root._bokeh_timeout) {\n      setTimeout(run_inline_js, 100);\n    } else if (!root._bokeh_failed_load) {\n      console.log(\"Bokeh: BokehJS failed to load within specified timeout.\");\n      root._bokeh_failed_load = true;\n    } else if (force !== true) {\n      var cell = $(document.getElementById(\"1002\")).parents('.cell').data().cell;\n      cell.output_area.append_execute_result(NB_LOAD_WARNING)\n    }\n\n  }\n\n  if (root._bokeh_is_loading === 0) {\n    console.debug(\"Bokeh: BokehJS loaded, going straight to plotting\");\n    run_inline_js();\n  } else {\n    load_libs(css_urls, js_urls, function() {\n      console.debug(\"Bokeh: BokehJS plotting callback run at\", now());\n      run_inline_js();\n    });\n  }\n}(window));"
     },
     "metadata": {},
     "output_type": "display_data"
    }
   ],
   "source": [
    "import wgregseq\n",
    "\n",
    "# Include these if package is manipulated while running the notebook\n",
    "%load_ext autoreload\n",
    "%autoreload 2\n",
    "\n",
    "import pandas as pd\n",
    "#import numpy as np\n",
    "import copy\n",
    "\n",
    "import numpy as np\n",
    "\n",
    "from bokeh.plotting import figure\n",
    "from bokeh.models import ColumnDataSource\n",
    "from bokeh.layouts import grid\n",
    "\n",
    "import bokeh.io\n",
    "\n",
    "bokeh.io.output_notebook()"
   ]
  },
  {
   "cell_type": "code",
   "execution_count": null,
   "metadata": {},
   "outputs": [],
   "source": []
  },
  {
   "cell_type": "markdown",
   "metadata": {},
   "source": [
    "First we assign the sequences of interest. We'll mostly use the strongest operator O1, but will also include the unmutated sequences for O2 and O3. The mutants for O1 will be chosen depending on their predicted binding energy. Therefore, we import the binding energy matrix calculated in Barnes 2019."
   ]
  },
  {
   "cell_type": "code",
   "execution_count": 4,
   "metadata": {},
   "outputs": [],
   "source": [
    "# Operator sequences\n",
    "O1 = 'AATTGTGAGCGGATAACAATT'\n",
    "O2 = 'AAATGTGAGCGAGTAACAACC'\n",
    "O3 = 'GGCAGTGAGCGCAACGCAATT'\n",
    "\n",
    "# Promoter\n",
    "lacUV5 = 'TCGAGTTTACACTTTATGCTTCCGGCTCGTATAATGTGTGG'\n",
    "\n",
    "# Combining promoter and operators\n",
    "lacUV5_O1 = lacUV5 + O1\n",
    "lacUV5_O2 = lacUV5 + O2\n",
    "lacUV5_O3 = lacUV5 + O3\n",
    "\n",
    "# Obtain binding energy matrix for O1\n",
    "O1_matrix = np.load(\"../../../../data/O1_matrix.npy\")"
   ]
  },
  {
   "cell_type": "markdown",
   "metadata": {},
   "source": [
    "We write a function to evaluate the energy matrix for a sequence. Therefore, the letters are transformed into an index."
   ]
  },
  {
   "cell_type": "code",
   "execution_count": 5,
   "metadata": {},
   "outputs": [],
   "source": [
    "def energy_from_sequence(sequence, matrix):\n",
    "    seq_list = list(sequence.upper())\n",
    "    num_seq = [seq_dict[x] for x in seq_list]\n",
    "    energy = sum([matrix[i, num_seq[i]] for i in range(len(sequence))])\n",
    "    return energy"
   ]
  },
  {
   "cell_type": "markdown",
   "metadata": {},
   "source": [
    "We also need to define the dictionary which translates nucleotides into indices."
   ]
  },
  {
   "cell_type": "code",
   "execution_count": 6,
   "metadata": {},
   "outputs": [],
   "source": [
    "seq_dict, _ = wgregseq.choose_dict(\"dna\")"
   ]
  },
  {
   "cell_type": "markdown",
   "metadata": {},
   "source": [
    "Now we can generate mutants. Therefore we generate all single, double mutants and triple mutants using the function which creates all possible mutants and then chooses, to prevent duplicates, at ensure we obtain every mutant."
   ]
  },
  {
   "cell_type": "code",
   "execution_count": 7,
   "metadata": {},
   "outputs": [],
   "source": [
    "mutants_single = wgregseq.mutations_det(O1, mut_per_seq=1)\n",
    "mutants_double = wgregseq.mutations_det(O1, mut_per_seq=2)\n",
    "mutants_triple = wgregseq.mutations_det(O1, mut_per_seq=3)"
   ]
  },
  {
   "cell_type": "markdown",
   "metadata": {},
   "source": [
    "For higher order mutants we don't have to worried too much about duplicates and can randomly generate mutants (while keeping the number of mutations fixed). "
   ]
  },
  {
   "cell_type": "code",
   "execution_count": 8,
   "metadata": {},
   "outputs": [],
   "source": [
    "import random\n",
    "random.seed(50937)\n",
    "import numpy as np\n",
    "np.random.seed(50937)"
   ]
  },
  {
   "cell_type": "code",
   "execution_count": 9,
   "metadata": {},
   "outputs": [],
   "source": [
    "mutants_quadruple = np.unique(wgregseq.mutations_rand(O1, rate=0.2, num_mutants=100000, number_fixed=True))\n",
    "mutants_quintuple = np.unique(wgregseq.mutations_rand(O1, rate=0.25, num_mutants=100000, number_fixed=True))\n",
    "mutants_sextuple = np.unique(wgregseq.mutations_rand(O1, rate=0.3, num_mutants=100000, number_fixed=True))"
   ]
  },
  {
   "cell_type": "markdown",
   "metadata": {},
   "source": [
    "Let's quickly confirm that we obtained plenty of unique mutants to choose from."
   ]
  },
  {
   "cell_type": "code",
   "execution_count": 10,
   "metadata": {},
   "outputs": [
    {
     "name": "stdout",
     "output_type": "stream",
     "text": [
      "Number of unique quadruple mutants: 90312\n",
      "Number of unique quintuple mutants: 98945\n",
      "Number of unique sextuple mutants: 99872\n"
     ]
    }
   ],
   "source": [
    "print(\"Number of unique quadruple mutants: {}\".format(len(mutants_quadruple)))\n",
    "print(\"Number of unique quintuple mutants: {}\".format(len(mutants_quintuple)))\n",
    "print(\"Number of unique sextuple mutants: {}\".format(len(mutants_sextuple)))"
   ]
  },
  {
   "cell_type": "markdown",
   "metadata": {},
   "source": [
    "Let's write all the mutants into a dataframe. We exclude the single mutants for now, since we want to use all of those anyways, so we add them back to the pool in the end."
   ]
  },
  {
   "cell_type": "code",
   "execution_count": 11,
   "metadata": {},
   "outputs": [],
   "source": [
    "df_1 = pd.DataFrame({\"seq\": mutants_single, \"mutations\": 1})\n",
    "df_2 = pd.DataFrame({\"seq\": mutants_double, \"mutations\": 2})\n",
    "df_3 = pd.DataFrame({\"seq\": mutants_triple, \"mutations\": 3})\n",
    "df_4 = pd.DataFrame({\"seq\": mutants_quadruple, \"mutations\": 4})\n",
    "df_5 = pd.DataFrame({\"seq\": mutants_quintuple, \"mutations\": 5})\n",
    "df_6 = pd.DataFrame({\"seq\": mutants_sextuple, \"mutations\": 6})\n",
    "df = pd.concat([df_2, df_3, df_4, df_5, df_6], ignore_index=True)"
   ]
  },
  {
   "cell_type": "markdown",
   "metadata": {},
   "source": [
    "Now we can compute the difference in energy matrix for every mutant and add it to the data frame."
   ]
  },
  {
   "cell_type": "code",
   "execution_count": 12,
   "metadata": {},
   "outputs": [
    {
     "data": {
      "text/html": [
       "<div>\n",
       "<style scoped>\n",
       "    .dataframe tbody tr th:only-of-type {\n",
       "        vertical-align: middle;\n",
       "    }\n",
       "\n",
       "    .dataframe tbody tr th {\n",
       "        vertical-align: top;\n",
       "    }\n",
       "\n",
       "    .dataframe thead th {\n",
       "        text-align: right;\n",
       "    }\n",
       "</style>\n",
       "<table border=\"1\" class=\"dataframe\">\n",
       "  <thead>\n",
       "    <tr style=\"text-align: right;\">\n",
       "      <th></th>\n",
       "      <th>seq</th>\n",
       "      <th>mutations</th>\n",
       "      <th>energy</th>\n",
       "    </tr>\n",
       "  </thead>\n",
       "  <tbody>\n",
       "    <tr>\n",
       "      <th>326924</th>\n",
       "      <td>ttgcGTGAGCcGATAcCAATT</td>\n",
       "      <td>6</td>\n",
       "      <td>9.383518</td>\n",
       "    </tr>\n",
       "    <tr>\n",
       "      <th>326925</th>\n",
       "      <td>ttgcGTaAGCGGATAACcATT</td>\n",
       "      <td>6</td>\n",
       "      <td>10.349507</td>\n",
       "    </tr>\n",
       "    <tr>\n",
       "      <th>326926</th>\n",
       "      <td>ttgcGTcAGCGGATtACAATT</td>\n",
       "      <td>6</td>\n",
       "      <td>9.554619</td>\n",
       "    </tr>\n",
       "    <tr>\n",
       "      <th>326927</th>\n",
       "      <td>ttggGTaAGCaGATAACAATT</td>\n",
       "      <td>6</td>\n",
       "      <td>13.422445</td>\n",
       "    </tr>\n",
       "    <tr>\n",
       "      <th>326928</th>\n",
       "      <td>ttggGcGAtCGGATAACAATT</td>\n",
       "      <td>6</td>\n",
       "      <td>12.420105</td>\n",
       "    </tr>\n",
       "  </tbody>\n",
       "</table>\n",
       "</div>"
      ],
      "text/plain": [
       "                          seq  mutations     energy\n",
       "326924  ttgcGTGAGCcGATAcCAATT          6   9.383518\n",
       "326925  ttgcGTaAGCGGATAACcATT          6  10.349507\n",
       "326926  ttgcGTcAGCGGATtACAATT          6   9.554619\n",
       "326927  ttggGTaAGCaGATAACAATT          6  13.422445\n",
       "326928  ttggGcGAtCGGATAACAATT          6  12.420105"
      ]
     },
     "execution_count": 12,
     "metadata": {},
     "output_type": "execute_result"
    }
   ],
   "source": [
    "# Compute energies and add column containing values\n",
    "df[\"energy\"] = df['seq'].apply(energy_from_sequence, args= (O1_matrix, ))\n",
    "\n",
    "# Show last five rows\n",
    "df.tail()"
   ]
  },
  {
   "cell_type": "markdown",
   "metadata": {},
   "source": [
    "Now we have to choose which sequences we include in the experiment. Therefore we choose bins of binding energies, within we choose an equal number of sequences from each number of mutations. By choosing bins, we reduce the bias from the distribution of mutants, getting a more even coverage of energies."
   ]
  },
  {
   "cell_type": "code",
   "execution_count": 13,
   "metadata": {},
   "outputs": [
    {
     "data": {
      "text/plain": [
       "[(-1.0, 0.0),\n",
       " (0.0, 1.0),\n",
       " (1.0, 2.0),\n",
       " (2.0, 3.0),\n",
       " (3.0, 4.0),\n",
       " (4.0, 5.0),\n",
       " (5.0, 6.0),\n",
       " (6.0, 7.0),\n",
       " (7.0, 8.0)]"
      ]
     },
     "execution_count": 13,
     "metadata": {},
     "output_type": "execute_result"
    }
   ],
   "source": [
    "# Bin width\n",
    "gap = 1\n",
    "\n",
    "# Minimal and maximal energies\n",
    "Min, Max = -0.5, 7.5\n",
    "\n",
    "# Generate 9 bins\n",
    "bins = [(i-gap/2, i+gap/2) for i in np.linspace(Min, Max, num=9)]\n",
    "\n",
    "# Show bins\n",
    "bins"
   ]
  },
  {
   "cell_type": "markdown",
   "metadata": {},
   "source": [
    "Let's have a look on how the mutants are distributed."
   ]
  },
  {
   "cell_type": "code",
   "execution_count": 14,
   "metadata": {},
   "outputs": [
    {
     "data": {
      "text/html": [
       "\n",
       "\n",
       "\n",
       "\n",
       "\n",
       "\n",
       "  <div class=\"bk-root\" id=\"d43c5f67-48dd-4ba9-9bdc-47a6658aff6f\" data-root-id=\"1803\"></div>\n"
      ]
     },
     "metadata": {},
     "output_type": "display_data"
    },
    {
     "data": {
      "application/javascript": [
       "(function(root) {\n",
       "  function embed_document(root) {\n",
       "    \n",
       "  var docs_json = {\"ab3790a1-c732-42ca-a5c2-280e55205942\":{\"roots\":{\"references\":[{\"attributes\":{\"children\":[[{\"id\":\"1003\"},0,0,1,1],[{\"id\":\"1163\"},0,1,1,1],[{\"id\":\"1323\"},0,2,1,1],[{\"id\":\"1483\"},0,3,1,1],[{\"id\":\"1643\"},0,4,1,1]]},\"id\":\"1803\",\"type\":\"GridBox\"},{\"attributes\":{\"line_color\":\"orange\",\"x\":{\"field\":\"x\"},\"y\":{\"field\":\"y\"}},\"id\":\"1224\",\"type\":\"Line\"},{\"attributes\":{\"data\":{\"x\":[1.0,2.0],\"y1\":[0,0],\"y2\":[0.1204523954086467,0.1204523954086467]},\"selected\":{\"id\":\"1903\"},\"selection_policy\":{\"id\":\"1904\"}},\"id\":\"1228\",\"type\":\"ColumnDataSource\"},{\"attributes\":{\"data\":{\"x\":[4.0,5.0],\"y1\":[0,0],\"y2\":[0.109851487551521,0.109851487551521]},\"selected\":{\"id\":\"1977\"},\"selection_policy\":{\"id\":\"1978\"}},\"id\":\"1433\",\"type\":\"ColumnDataSource\"},{\"attributes\":{\"fill_alpha\":0.1,\"fill_color\":\"orange\",\"x\":{\"field\":\"x\"},\"y1\":{\"field\":\"y1\"},\"y2\":{\"field\":\"y2\"}},\"id\":\"1215\",\"type\":\"VArea\"},{\"attributes\":{\"source\":{\"id\":\"1233\"}},\"id\":\"1237\",\"type\":\"CDSView\"},{\"attributes\":{\"source\":{\"id\":\"1428\"}},\"id\":\"1432\",\"type\":\"CDSView\"},{\"attributes\":{\"line_alpha\":0.1,\"line_color\":\"orange\",\"x\":{\"field\":\"x\"},\"y\":{\"field\":\"y\"}},\"id\":\"1135\",\"type\":\"Line\"},{\"attributes\":{\"line_color\":\"orange\",\"x\":{\"field\":\"x\"},\"y\":{\"field\":\"y\"}},\"id\":\"1729\",\"type\":\"Line\"},{\"attributes\":{},\"id\":\"1985\",\"type\":\"Selection\"},{\"attributes\":{\"data_source\":{\"id\":\"1248\"},\"glyph\":{\"id\":\"1249\"},\"hover_glyph\":null,\"muted_glyph\":null,\"nonselection_glyph\":{\"id\":\"1250\"},\"selection_glyph\":null,\"view\":{\"id\":\"1252\"}},\"id\":\"1251\",\"type\":\"GlyphRenderer\"},{\"attributes\":{\"line_alpha\":0.1,\"line_color\":\"orange\",\"x\":{\"field\":\"x\"},\"y\":{\"field\":\"y\"}},\"id\":\"1225\",\"type\":\"Line\"},{\"attributes\":{\"line_color\":\"orange\",\"x\":{\"field\":\"x\"},\"y\":{\"field\":\"y\"}},\"id\":\"1439\",\"type\":\"Line\"},{\"attributes\":{\"data_source\":{\"id\":\"1143\"},\"glyph\":{\"id\":\"1144\"},\"hover_glyph\":null,\"muted_glyph\":null,\"nonselection_glyph\":{\"id\":\"1145\"},\"selection_glyph\":null,\"view\":{\"id\":\"1147\"}},\"id\":\"1146\",\"type\":\"GlyphRenderer\"},{\"attributes\":{\"line_color\":\"orange\",\"x\":{\"field\":\"x\"},\"y\":{\"field\":\"y\"}},\"id\":\"1444\",\"type\":\"Line\"},{\"attributes\":{},\"id\":\"2056\",\"type\":\"UnionRenderers\"},{\"attributes\":{\"data_source\":{\"id\":\"1133\"},\"glyph\":{\"id\":\"1134\"},\"hover_glyph\":null,\"muted_glyph\":null,\"nonselection_glyph\":{\"id\":\"1135\"},\"selection_glyph\":null,\"view\":{\"id\":\"1137\"}},\"id\":\"1136\",\"type\":\"GlyphRenderer\"},{\"attributes\":{\"data\":{\"x\":[4.0,4.0],\"y\":[0,0.109851487551521]},\"selected\":{\"id\":\"1973\"},\"selection_policy\":{\"id\":\"1974\"}},\"id\":\"1423\",\"type\":\"ColumnDataSource\"},{\"attributes\":{},\"id\":\"2057\",\"type\":\"Selection\"},{\"attributes\":{\"data_source\":{\"id\":\"1258\"},\"glyph\":{\"id\":\"1259\"},\"hover_glyph\":null,\"muted_glyph\":null,\"nonselection_glyph\":{\"id\":\"1260\"},\"selection_glyph\":null,\"view\":{\"id\":\"1262\"}},\"id\":\"1261\",\"type\":\"GlyphRenderer\"},{\"attributes\":{},\"id\":\"2058\",\"type\":\"UnionRenderers\"},{\"attributes\":{\"data\":{\"x\":[7.0,7.0],\"y\":[0,0.18390112513315407]},\"selected\":{\"id\":\"1875\"},\"selection_policy\":{\"id\":\"1876\"}},\"id\":\"1138\",\"type\":\"ColumnDataSource\"},{\"attributes\":{\"line_color\":\"orange\",\"x\":{\"field\":\"x\"},\"y\":{\"field\":\"y\"}},\"id\":\"1429\",\"type\":\"Line\"},{\"attributes\":{},\"id\":\"2053\",\"type\":\"Selection\"},{\"attributes\":{\"data_source\":{\"id\":\"1223\"},\"glyph\":{\"id\":\"1224\"},\"hover_glyph\":null,\"muted_glyph\":null,\"nonselection_glyph\":{\"id\":\"1225\"},\"selection_glyph\":null,\"view\":{\"id\":\"1227\"}},\"id\":\"1226\",\"type\":\"GlyphRenderer\"},{\"attributes\":{\"fill_alpha\":0.2,\"fill_color\":\"orange\",\"x\":{\"field\":\"x\"},\"y1\":{\"field\":\"y1\"},\"y2\":{\"field\":\"y2\"}},\"id\":\"1144\",\"type\":\"VArea\"},{\"attributes\":{\"fill_alpha\":0.1,\"fill_color\":\"orange\",\"x\":{\"field\":\"x\"},\"y1\":{\"field\":\"y1\"},\"y2\":{\"field\":\"y2\"}},\"id\":\"1405\",\"type\":\"VArea\"},{\"attributes\":{\"fill_alpha\":0.2,\"fill_color\":\"orange\",\"x\":{\"field\":\"x\"},\"y1\":{\"field\":\"y1\"},\"y2\":{\"field\":\"y2\"}},\"id\":\"1214\",\"type\":\"VArea\"},{\"attributes\":{\"source\":{\"id\":\"1388\"}},\"id\":\"1392\",\"type\":\"CDSView\"},{\"attributes\":{\"source\":{\"id\":\"1213\"}},\"id\":\"1217\",\"type\":\"CDSView\"},{\"attributes\":{\"line_color\":\"orange\",\"x\":{\"field\":\"x\"},\"y\":{\"field\":\"y\"}},\"id\":\"1134\",\"type\":\"Line\"},{\"attributes\":{\"data\":{\"x\":[1.0,1.0],\"y\":[0,0.1204523954086467]},\"selected\":{\"id\":\"1899\"},\"selection_policy\":{\"id\":\"1900\"}},\"id\":\"1218\",\"type\":\"ColumnDataSource\"},{\"attributes\":{\"line_color\":\"orange\",\"x\":{\"field\":\"x\"},\"y\":{\"field\":\"y\"}},\"id\":\"1394\",\"type\":\"Line\"},{\"attributes\":{\"fill_alpha\":0.1,\"fill_color\":\"orange\",\"x\":{\"field\":\"x\"},\"y1\":{\"field\":\"y1\"},\"y2\":{\"field\":\"y2\"}},\"id\":\"1245\",\"type\":\"VArea\"},{\"attributes\":{\"fill_alpha\":0.1,\"fill_color\":\"orange\",\"x\":{\"field\":\"x\"},\"y1\":{\"field\":\"y1\"},\"y2\":{\"field\":\"y2\"}},\"id\":\"1390\",\"type\":\"VArea\"},{\"attributes\":{\"line_color\":\"orange\",\"x\":{\"field\":\"x\"},\"y\":{\"field\":\"y\"}},\"id\":\"1139\",\"type\":\"Line\"},{\"attributes\":{\"fill_alpha\":0.1,\"fill_color\":\"orange\",\"x\":{\"field\":\"x\"},\"y1\":{\"field\":\"y1\"},\"y2\":{\"field\":\"y2\"}},\"id\":\"1145\",\"type\":\"VArea\"},{\"attributes\":{\"data\":{\"x\":[2.0,2.0],\"y\":[0,0.1204523954086467]},\"selected\":{\"id\":\"1901\"},\"selection_policy\":{\"id\":\"1902\"}},\"id\":\"1223\",\"type\":\"ColumnDataSource\"},{\"attributes\":{\"source\":{\"id\":\"1238\"}},\"id\":\"1242\",\"type\":\"CDSView\"},{\"attributes\":{\"line_alpha\":0.1,\"line_color\":\"orange\",\"x\":{\"field\":\"x\"},\"y\":{\"field\":\"y\"}},\"id\":\"1430\",\"type\":\"Line\"},{\"attributes\":{\"data_source\":{\"id\":\"1228\"},\"glyph\":{\"id\":\"1229\"},\"hover_glyph\":null,\"muted_glyph\":null,\"nonselection_glyph\":{\"id\":\"1230\"},\"selection_glyph\":null,\"view\":{\"id\":\"1232\"}},\"id\":\"1231\",\"type\":\"GlyphRenderer\"},{\"attributes\":{\"fill_alpha\":0.2,\"fill_color\":\"orange\",\"x\":{\"field\":\"x\"},\"y1\":{\"field\":\"y1\"},\"y2\":{\"field\":\"y2\"}},\"id\":\"1434\",\"type\":\"VArea\"},{\"attributes\":{\"data_source\":{\"id\":\"1443\"},\"glyph\":{\"id\":\"1444\"},\"hover_glyph\":null,\"muted_glyph\":null,\"nonselection_glyph\":{\"id\":\"1445\"},\"selection_glyph\":null,\"view\":{\"id\":\"1447\"}},\"id\":\"1446\",\"type\":\"GlyphRenderer\"},{\"attributes\":{\"line_alpha\":0.1,\"line_color\":\"orange\",\"x\":{\"field\":\"x\"},\"y\":{\"field\":\"y\"}},\"id\":\"1150\",\"type\":\"Line\"},{\"attributes\":{\"line_color\":\"orange\",\"x\":{\"field\":\"x\"},\"y\":{\"field\":\"y\"}},\"id\":\"1219\",\"type\":\"Line\"},{\"attributes\":{\"data_source\":{\"id\":\"1438\"},\"glyph\":{\"id\":\"1439\"},\"hover_glyph\":null,\"muted_glyph\":null,\"nonselection_glyph\":{\"id\":\"1440\"},\"selection_glyph\":null,\"view\":{\"id\":\"1442\"}},\"id\":\"1441\",\"type\":\"GlyphRenderer\"},{\"attributes\":{\"source\":{\"id\":\"1148\"}},\"id\":\"1152\",\"type\":\"CDSView\"},{\"attributes\":{},\"id\":\"1924\",\"type\":\"UnionRenderers\"},{\"attributes\":{\"fill_alpha\":0.2,\"fill_color\":\"orange\",\"x\":{\"field\":\"x\"},\"y1\":{\"field\":\"y1\"},\"y2\":{\"field\":\"y2\"}},\"id\":\"1159\",\"type\":\"VArea\"},{\"attributes\":{\"line_alpha\":0.1,\"line_color\":\"orange\",\"x\":{\"field\":\"x\"},\"y\":{\"field\":\"y\"}},\"id\":\"1445\",\"type\":\"Line\"},{\"attributes\":{},\"id\":\"1965\",\"type\":\"Selection\"},{\"attributes\":{\"line_alpha\":0.1,\"line_color\":\"orange\",\"x\":{\"field\":\"x\"},\"y\":{\"field\":\"y\"}},\"id\":\"1155\",\"type\":\"Line\"},{\"attributes\":{\"line_alpha\":0.1,\"line_color\":\"orange\",\"x\":{\"field\":\"x\"},\"y\":{\"field\":\"y\"}},\"id\":\"1220\",\"type\":\"Line\"},{\"attributes\":{\"source\":{\"id\":\"1438\"}},\"id\":\"1442\",\"type\":\"CDSView\"},{\"attributes\":{\"data_source\":{\"id\":\"1428\"},\"glyph\":{\"id\":\"1429\"},\"hover_glyph\":null,\"muted_glyph\":null,\"nonselection_glyph\":{\"id\":\"1430\"},\"selection_glyph\":null,\"view\":{\"id\":\"1432\"}},\"id\":\"1431\",\"type\":\"GlyphRenderer\"},{\"attributes\":{\"line_alpha\":0.1,\"line_color\":\"orange\",\"x\":{\"field\":\"x\"},\"y\":{\"field\":\"y\"}},\"id\":\"1235\",\"type\":\"Line\"},{\"attributes\":{\"data_source\":{\"id\":\"1253\"},\"glyph\":{\"id\":\"1254\"},\"hover_glyph\":null,\"muted_glyph\":null,\"nonselection_glyph\":{\"id\":\"1255\"},\"selection_glyph\":null,\"view\":{\"id\":\"1257\"}},\"id\":\"1256\",\"type\":\"GlyphRenderer\"},{\"attributes\":{\"source\":{\"id\":\"1423\"}},\"id\":\"1427\",\"type\":\"CDSView\"},{\"attributes\":{\"fill_alpha\":0.2,\"fill_color\":\"orange\",\"x\":{\"field\":\"x\"},\"y1\":{\"field\":\"y1\"},\"y2\":{\"field\":\"y2\"}},\"id\":\"1244\",\"type\":\"VArea\"},{\"attributes\":{\"line_alpha\":0.1,\"line_color\":\"orange\",\"x\":{\"field\":\"x\"},\"y\":{\"field\":\"y\"}},\"id\":\"1425\",\"type\":\"Line\"},{\"attributes\":{\"data\":{\"x\":[3.0,3.0],\"y\":[0,0.1204523954086467]},\"selected\":{\"id\":\"1907\"},\"selection_policy\":{\"id\":\"1908\"}},\"id\":\"1238\",\"type\":\"ColumnDataSource\"},{\"attributes\":{\"data\":{\"x\":[5.0,5.0],\"y\":[0,0.109851487551521]},\"selected\":{\"id\":\"1975\"},\"selection_policy\":{\"id\":\"1976\"}},\"id\":\"1428\",\"type\":\"ColumnDataSource\"},{\"attributes\":{\"data_source\":{\"id\":\"1423\"},\"glyph\":{\"id\":\"1424\"},\"hover_glyph\":null,\"muted_glyph\":null,\"nonselection_glyph\":{\"id\":\"1425\"},\"selection_glyph\":null,\"view\":{\"id\":\"1427\"}},\"id\":\"1426\",\"type\":\"GlyphRenderer\"},{\"attributes\":{\"fill_alpha\":0.2,\"fill_color\":\"orange\",\"x\":{\"field\":\"x\"},\"y1\":{\"field\":\"y1\"},\"y2\":{\"field\":\"y2\"}},\"id\":\"1229\",\"type\":\"VArea\"},{\"attributes\":{\"data_source\":{\"id\":\"1433\"},\"glyph\":{\"id\":\"1434\"},\"hover_glyph\":null,\"muted_glyph\":null,\"nonselection_glyph\":{\"id\":\"1435\"},\"selection_glyph\":null,\"view\":{\"id\":\"1437\"}},\"id\":\"1436\",\"type\":\"GlyphRenderer\"},{\"attributes\":{\"line_color\":\"orange\",\"x\":{\"field\":\"x\"},\"y\":{\"field\":\"y\"}},\"id\":\"1154\",\"type\":\"Line\"},{\"attributes\":{\"data_source\":{\"id\":\"1158\"},\"glyph\":{\"id\":\"1159\"},\"hover_glyph\":null,\"muted_glyph\":null,\"nonselection_glyph\":{\"id\":\"1160\"},\"selection_glyph\":null,\"view\":{\"id\":\"1162\"}},\"id\":\"1161\",\"type\":\"GlyphRenderer\"},{\"attributes\":{\"line_alpha\":0.1,\"line_color\":\"orange\",\"x\":{\"field\":\"x\"},\"y\":{\"field\":\"y\"}},\"id\":\"1440\",\"type\":\"Line\"},{\"attributes\":{},\"id\":\"1967\",\"type\":\"Selection\"},{\"attributes\":{\"data_source\":{\"id\":\"1148\"},\"glyph\":{\"id\":\"1149\"},\"hover_glyph\":null,\"muted_glyph\":null,\"nonselection_glyph\":{\"id\":\"1150\"},\"selection_glyph\":null,\"view\":{\"id\":\"1152\"}},\"id\":\"1151\",\"type\":\"GlyphRenderer\"},{\"attributes\":{\"source\":{\"id\":\"1218\"}},\"id\":\"1222\",\"type\":\"CDSView\"},{\"attributes\":{},\"id\":\"2055\",\"type\":\"Selection\"},{\"attributes\":{\"data\":{\"x\":[8.0,8.0],\"y\":[0,0.18390112513315407]},\"selected\":{\"id\":\"1881\"},\"selection_policy\":{\"id\":\"1882\"}},\"id\":\"1153\",\"type\":\"ColumnDataSource\"},{\"attributes\":{\"data\":{\"x\":[6.0,6.0],\"y\":[0,0.109851487551521]},\"selected\":{\"id\":\"1981\"},\"selection_policy\":{\"id\":\"1982\"}},\"id\":\"1443\",\"type\":\"ColumnDataSource\"},{\"attributes\":{\"data_source\":{\"id\":\"1153\"},\"glyph\":{\"id\":\"1154\"},\"hover_glyph\":null,\"muted_glyph\":null,\"nonselection_glyph\":{\"id\":\"1155\"},\"selection_glyph\":null,\"view\":{\"id\":\"1157\"}},\"id\":\"1156\",\"type\":\"GlyphRenderer\"},{\"attributes\":{\"fill_alpha\":0.2,\"fill_color\":\"orange\",\"x\":{\"field\":\"x\"},\"y1\":{\"field\":\"y1\"},\"y2\":{\"field\":\"y2\"}},\"id\":\"1419\",\"type\":\"VArea\"},{\"attributes\":{},\"id\":\"1175\",\"type\":\"BasicTicker\"},{\"attributes\":{\"line_color\":\"orange\",\"x\":{\"field\":\"x\"},\"y\":{\"field\":\"y\"}},\"id\":\"1424\",\"type\":\"Line\"},{\"attributes\":{\"fill_alpha\":0.1,\"fill_color\":\"orange\",\"x\":{\"field\":\"x\"},\"y1\":{\"field\":\"y1\"},\"y2\":{\"field\":\"y2\"}},\"id\":\"1435\",\"type\":\"VArea\"},{\"attributes\":{},\"id\":\"1917\",\"type\":\"Selection\"},{\"attributes\":{},\"id\":\"1986\",\"type\":\"UnionRenderers\"},{\"attributes\":{\"source\":{\"id\":\"1153\"}},\"id\":\"1157\",\"type\":\"CDSView\"},{\"attributes\":{\"source\":{\"id\":\"1248\"}},\"id\":\"1252\",\"type\":\"CDSView\"},{\"attributes\":{\"data\":{\"x\":[2.0,3.0],\"y1\":[0,0],\"y2\":[0.109851487551521,0.109851487551521]},\"selected\":{\"id\":\"1965\"},\"selection_policy\":{\"id\":\"1966\"}},\"id\":\"1403\",\"type\":\"ColumnDataSource\"},{\"attributes\":{\"data\":{\"x\":[7.0,8.0],\"y1\":[0,0],\"y2\":[0.18390112513315407,0.18390112513315407]},\"selected\":{\"id\":\"1883\"},\"selection_policy\":{\"id\":\"1884\"}},\"id\":\"1158\",\"type\":\"ColumnDataSource\"},{\"attributes\":{\"source\":{\"id\":\"1398\"}},\"id\":\"1402\",\"type\":\"CDSView\"},{\"attributes\":{\"source\":{\"id\":\"1158\"}},\"id\":\"1162\",\"type\":\"CDSView\"},{\"attributes\":{\"line_alpha\":0.1,\"line_color\":\"orange\",\"x\":{\"field\":\"x\"},\"y\":{\"field\":\"y\"}},\"id\":\"1400\",\"type\":\"Line\"},{\"attributes\":{},\"id\":\"1166\",\"type\":\"DataRange1d\"},{\"attributes\":{\"fill_alpha\":0.2,\"fill_color\":\"orange\",\"x\":{\"field\":\"x\"},\"y1\":{\"field\":\"y1\"},\"y2\":{\"field\":\"y2\"}},\"id\":\"1404\",\"type\":\"VArea\"},{\"attributes\":{\"data_source\":{\"id\":\"1218\"},\"glyph\":{\"id\":\"1219\"},\"hover_glyph\":null,\"muted_glyph\":null,\"nonselection_glyph\":{\"id\":\"1220\"},\"selection_glyph\":null,\"view\":{\"id\":\"1222\"}},\"id\":\"1221\",\"type\":\"GlyphRenderer\"},{\"attributes\":{},\"id\":\"1168\",\"type\":\"DataRange1d\"},{\"attributes\":{\"source\":{\"id\":\"1443\"}},\"id\":\"1447\",\"type\":\"CDSView\"},{\"attributes\":{\"axis_label\":\"density\",\"formatter\":{\"id\":\"1813\"},\"ticker\":{\"id\":\"1179\"}},\"id\":\"1178\",\"type\":\"LinearAxis\"},{\"attributes\":{\"data\":{\"x\":[3.0,4.0],\"y1\":[0,0],\"y2\":[0.109851487551521,0.109851487551521]},\"selected\":{\"id\":\"1971\"},\"selection_policy\":{\"id\":\"1972\"}},\"id\":\"1418\",\"type\":\"ColumnDataSource\"},{\"attributes\":{\"source\":{\"id\":\"1223\"}},\"id\":\"1227\",\"type\":\"CDSView\"},{\"attributes\":{\"source\":{\"id\":\"1418\"}},\"id\":\"1422\",\"type\":\"CDSView\"},{\"attributes\":{\"data_source\":{\"id\":\"1398\"},\"glyph\":{\"id\":\"1399\"},\"hover_glyph\":null,\"muted_glyph\":null,\"nonselection_glyph\":{\"id\":\"1400\"},\"selection_glyph\":null,\"view\":{\"id\":\"1402\"}},\"id\":\"1401\",\"type\":\"GlyphRenderer\"},{\"attributes\":{},\"id\":\"1995\",\"type\":\"Selection\"},{\"attributes\":{},\"id\":\"2059\",\"type\":\"Selection\"},{\"attributes\":{\"text\":\"mutations = 3\"},\"id\":\"1164\",\"type\":\"Title\"},{\"attributes\":{\"source\":{\"id\":\"1393\"}},\"id\":\"1397\",\"type\":\"CDSView\"},{\"attributes\":{\"axis_label\":\"\\u0394E [k_BT]\",\"formatter\":{\"id\":\"1815\"},\"ticker\":{\"id\":\"1175\"}},\"id\":\"1174\",\"type\":\"LinearAxis\"},{\"attributes\":{\"data\":{\"x\":[3.0,3.0],\"y\":[0,0.109851487551521]},\"selected\":{\"id\":\"1963\"},\"selection_policy\":{\"id\":\"1964\"}},\"id\":\"1398\",\"type\":\"ColumnDataSource\"},{\"attributes\":{},\"id\":\"1170\",\"type\":\"LinearScale\"},{\"attributes\":{\"data_source\":{\"id\":\"1393\"},\"glyph\":{\"id\":\"1394\"},\"hover_glyph\":null,\"muted_glyph\":null,\"nonselection_glyph\":{\"id\":\"1395\"},\"selection_glyph\":null,\"view\":{\"id\":\"1397\"}},\"id\":\"1396\",\"type\":\"GlyphRenderer\"},{\"attributes\":{},\"id\":\"1179\",\"type\":\"BasicTicker\"},{\"attributes\":{\"source\":{\"id\":\"1413\"}},\"id\":\"1417\",\"type\":\"CDSView\"},{\"attributes\":{},\"id\":\"1172\",\"type\":\"LinearScale\"},{\"attributes\":{\"axis\":{\"id\":\"1174\"},\"ticker\":null},\"id\":\"1177\",\"type\":\"Grid\"},{\"attributes\":{\"fill_alpha\":0.1,\"fill_color\":\"orange\",\"x\":{\"field\":\"x\"},\"y1\":{\"field\":\"y1\"},\"y2\":{\"field\":\"y2\"}},\"id\":\"1420\",\"type\":\"VArea\"},{\"attributes\":{\"data\":{\"x\":[2.0,2.0],\"y\":[0,0.109851487551521]},\"selected\":{\"id\":\"1961\"},\"selection_policy\":{\"id\":\"1962\"}},\"id\":\"1393\",\"type\":\"ColumnDataSource\"},{\"attributes\":{\"line_alpha\":0.1,\"line_color\":\"orange\",\"x\":{\"field\":\"x\"},\"y\":{\"field\":\"y\"}},\"id\":\"1250\",\"type\":\"Line\"},{\"attributes\":{\"axis\":{\"id\":\"1178\"},\"dimension\":1,\"ticker\":null},\"id\":\"1181\",\"type\":\"Grid\"},{\"attributes\":{\"line_color\":\"orange\",\"x\":{\"field\":\"x\"},\"y\":{\"field\":\"y\"}},\"id\":\"1399\",\"type\":\"Line\"},{\"attributes\":{},\"id\":\"2061\",\"type\":\"Selection\"},{\"attributes\":{\"line_color\":\"orange\",\"x\":{\"field\":\"x\"},\"y\":{\"field\":\"y\"}},\"id\":\"1239\",\"type\":\"Line\"},{\"attributes\":{\"data\":{\"x\":[1.0,2.0],\"y1\":[0,0],\"y2\":[0.109851487551521,0.109851487551521]},\"selected\":{\"id\":\"1959\"},\"selection_policy\":{\"id\":\"1960\"}},\"id\":\"1388\",\"type\":\"ColumnDataSource\"},{\"attributes\":{},\"id\":\"2054\",\"type\":\"UnionRenderers\"},{\"attributes\":{\"source\":{\"id\":\"1383\"}},\"id\":\"1387\",\"type\":\"CDSView\"},{\"attributes\":{\"data\":{\"x\":[7.0,7.0],\"y\":[0,0.18390112513315407]},\"selected\":{\"id\":\"1879\"},\"selection_policy\":{\"id\":\"1880\"}},\"id\":\"1148\",\"type\":\"ColumnDataSource\"},{\"attributes\":{\"line_alpha\":0.1,\"line_color\":\"orange\",\"x\":{\"field\":\"x\"},\"y\":{\"field\":\"y\"}},\"id\":\"1385\",\"type\":\"Line\"},{\"attributes\":{\"fill_alpha\":0.2,\"fill_color\":\"orange\",\"x\":{\"field\":\"x\"},\"y1\":{\"field\":\"y1\"},\"y2\":{\"field\":\"y2\"}},\"id\":\"1389\",\"type\":\"VArea\"},{\"attributes\":{\"data_source\":{\"id\":\"1448\"},\"glyph\":{\"id\":\"1449\"},\"hover_glyph\":null,\"muted_glyph\":null,\"nonselection_glyph\":{\"id\":\"1450\"},\"selection_glyph\":null,\"view\":{\"id\":\"1452\"}},\"id\":\"1451\",\"type\":\"GlyphRenderer\"},{\"attributes\":{\"source\":{\"id\":\"1133\"}},\"id\":\"1137\",\"type\":\"CDSView\"},{\"attributes\":{\"fill_alpha\":0.1,\"fill_color\":\"orange\",\"x\":{\"field\":\"x\"},\"y1\":{\"field\":\"y1\"},\"y2\":{\"field\":\"y2\"}},\"id\":\"1160\",\"type\":\"VArea\"},{\"attributes\":{\"data\":{\"x\":[5.0,5.0],\"y\":[0,0.109851487551521]},\"selected\":{\"id\":\"1979\"},\"selection_policy\":{\"id\":\"1980\"}},\"id\":\"1438\",\"type\":\"ColumnDataSource\"},{\"attributes\":{},\"id\":\"2062\",\"type\":\"UnionRenderers\"},{\"attributes\":{\"data_source\":{\"id\":\"1383\"},\"glyph\":{\"id\":\"1384\"},\"hover_glyph\":null,\"muted_glyph\":null,\"nonselection_glyph\":{\"id\":\"1385\"},\"selection_glyph\":null,\"view\":{\"id\":\"1387\"}},\"id\":\"1386\",\"type\":\"GlyphRenderer\"},{\"attributes\":{\"data\":{\"x\":[6.0,6.0],\"y\":[0,0.18390112513315407]},\"selected\":{\"id\":\"1873\"},\"selection_policy\":{\"id\":\"1874\"}},\"id\":\"1133\",\"type\":\"ColumnDataSource\"},{\"attributes\":{\"data\":{\"x\":[6.0,7.0],\"y1\":[0,0],\"y2\":[0.18390112513315407,0.18390112513315407]},\"selected\":{\"id\":\"1877\"},\"selection_policy\":{\"id\":\"1878\"}},\"id\":\"1143\",\"type\":\"ColumnDataSource\"},{\"attributes\":{\"line_alpha\":0.1,\"line_color\":\"orange\",\"x\":{\"field\":\"x\"},\"y\":{\"field\":\"y\"}},\"id\":\"1395\",\"type\":\"Line\"},{\"attributes\":{},\"id\":\"2105\",\"type\":\"Selection\"},{\"attributes\":{\"source\":{\"id\":\"1378\"}},\"id\":\"1382\",\"type\":\"CDSView\"},{\"attributes\":{\"line_alpha\":0.1,\"line_color\":\"orange\",\"x\":{\"field\":\"x\"},\"y\":{\"field\":\"y\"}},\"id\":\"1255\",\"type\":\"Line\"},{\"attributes\":{\"line_alpha\":0.1,\"line_color\":\"orange\",\"x\":{\"field\":\"x\"},\"y\":{\"field\":\"y\"}},\"id\":\"1380\",\"type\":\"Line\"},{\"attributes\":{\"data\":{\"x\":[4.0,4.0],\"y\":[0,0.1204523954086467]},\"selected\":{\"id\":\"1913\"},\"selection_policy\":{\"id\":\"1914\"}},\"id\":\"1253\",\"type\":\"ColumnDataSource\"},{\"attributes\":{\"source\":{\"id\":\"1143\"}},\"id\":\"1147\",\"type\":\"CDSView\"},{\"attributes\":{\"data\":{\"x\":[0.0,1.0],\"y1\":[0,0],\"y2\":[0.1204523954086467,0.1204523954086467]},\"selected\":{\"id\":\"1897\"},\"selection_policy\":{\"id\":\"1898\"}},\"id\":\"1213\",\"type\":\"ColumnDataSource\"},{\"attributes\":{\"data\":{\"x\":[5.0,6.0],\"y1\":[0,0],\"y2\":[0.109851487551521,0.109851487551521]},\"selected\":{\"id\":\"1983\"},\"selection_policy\":{\"id\":\"1984\"}},\"id\":\"1448\",\"type\":\"ColumnDataSource\"},{\"attributes\":{\"line_color\":\"orange\",\"x\":{\"field\":\"x\"},\"y\":{\"field\":\"y\"}},\"id\":\"1234\",\"type\":\"Line\"},{\"attributes\":{\"data\":{\"x\":[2.0,2.0],\"y\":[0,0.109851487551521]},\"selected\":{\"id\":\"1957\"},\"selection_policy\":{\"id\":\"1958\"}},\"id\":\"1383\",\"type\":\"ColumnDataSource\"},{\"attributes\":{\"line_color\":\"orange\",\"x\":{\"field\":\"x\"},\"y\":{\"field\":\"y\"}},\"id\":\"1249\",\"type\":\"Line\"},{\"attributes\":{},\"id\":\"1838\",\"type\":\"UnionRenderers\"},{\"attributes\":{},\"id\":\"2060\",\"type\":\"UnionRenderers\"},{\"attributes\":{\"source\":{\"id\":\"1433\"}},\"id\":\"1437\",\"type\":\"CDSView\"},{\"attributes\":{},\"id\":\"1993\",\"type\":\"Selection\"},{\"attributes\":{\"line_alpha\":0.1,\"line_color\":\"orange\",\"x\":{\"field\":\"x\"},\"y\":{\"field\":\"y\"}},\"id\":\"1240\",\"type\":\"Line\"},{\"attributes\":{\"line_color\":\"orange\",\"x\":{\"field\":\"x\"},\"y\":{\"field\":\"y\"}},\"id\":\"1384\",\"type\":\"Line\"},{\"attributes\":{\"data_source\":{\"id\":\"1138\"},\"glyph\":{\"id\":\"1139\"},\"hover_glyph\":null,\"muted_glyph\":null,\"nonselection_glyph\":{\"id\":\"1140\"},\"selection_glyph\":null,\"view\":{\"id\":\"1142\"}},\"id\":\"1141\",\"type\":\"GlyphRenderer\"},{\"attributes\":{\"line_color\":\"orange\",\"x\":{\"field\":\"x\"},\"y\":{\"field\":\"y\"}},\"id\":\"1149\",\"type\":\"Line\"},{\"attributes\":{\"data_source\":{\"id\":\"1378\"},\"glyph\":{\"id\":\"1379\"},\"hover_glyph\":null,\"muted_glyph\":null,\"nonselection_glyph\":{\"id\":\"1380\"},\"selection_glyph\":null,\"view\":{\"id\":\"1382\"}},\"id\":\"1381\",\"type\":\"GlyphRenderer\"},{\"attributes\":{\"data\":{\"x\":[3.0,3.0],\"y\":[0,0.1204523954086467]},\"selected\":{\"id\":\"1911\"},\"selection_policy\":{\"id\":\"1912\"}},\"id\":\"1248\",\"type\":\"ColumnDataSource\"},{\"attributes\":{},\"id\":\"2031\",\"type\":\"Selection\"},{\"attributes\":{\"data\":{\"x\":[1.0,1.0],\"y\":[0,0.109851487551521]},\"selected\":{\"id\":\"1955\"},\"selection_policy\":{\"id\":\"1956\"}},\"id\":\"1378\",\"type\":\"ColumnDataSource\"},{\"attributes\":{\"line_alpha\":0.1,\"line_color\":\"orange\",\"x\":{\"field\":\"x\"},\"y\":{\"field\":\"y\"}},\"id\":\"1140\",\"type\":\"Line\"},{\"attributes\":{\"source\":{\"id\":\"1138\"}},\"id\":\"1142\",\"type\":\"CDSView\"},{\"attributes\":{\"line_color\":\"orange\",\"x\":{\"field\":\"x\"},\"y\":{\"field\":\"y\"}},\"id\":\"1379\",\"type\":\"Line\"},{\"attributes\":{},\"id\":\"1994\",\"type\":\"UnionRenderers\"},{\"attributes\":{\"source\":{\"id\":\"1243\"}},\"id\":\"1247\",\"type\":\"CDSView\"},{\"attributes\":{},\"id\":\"1966\",\"type\":\"UnionRenderers\"},{\"attributes\":{\"line_color\":\"orange\",\"x\":{\"field\":\"x\"},\"y\":{\"field\":\"y\"}},\"id\":\"1254\",\"type\":\"Line\"},{\"attributes\":{},\"id\":\"2104\",\"type\":\"UnionRenderers\"},{\"attributes\":{\"data\":{\"x\":[2.0,3.0],\"y1\":[0,0],\"y2\":[0.1204523954086467,0.1204523954086467]},\"selected\":{\"id\":\"1909\"},\"selection_policy\":{\"id\":\"1910\"}},\"id\":\"1243\",\"type\":\"ColumnDataSource\"},{\"attributes\":{\"data_source\":{\"id\":\"1238\"},\"glyph\":{\"id\":\"1239\"},\"hover_glyph\":null,\"muted_glyph\":null,\"nonselection_glyph\":{\"id\":\"1240\"},\"selection_glyph\":null,\"view\":{\"id\":\"1242\"}},\"id\":\"1241\",\"type\":\"GlyphRenderer\"},{\"attributes\":{\"source\":{\"id\":\"1123\"}},\"id\":\"1127\",\"type\":\"CDSView\"},{\"attributes\":{\"line_alpha\":0.1,\"line_color\":\"orange\",\"x\":{\"field\":\"x\"},\"y\":{\"field\":\"y\"}},\"id\":\"1125\",\"type\":\"Line\"},{\"attributes\":{\"source\":{\"id\":\"1598\"}},\"id\":\"1602\",\"type\":\"CDSView\"},{\"attributes\":{\"data_source\":{\"id\":\"1123\"},\"glyph\":{\"id\":\"1124\"},\"hover_glyph\":null,\"muted_glyph\":null,\"nonselection_glyph\":{\"id\":\"1125\"},\"selection_glyph\":null,\"view\":{\"id\":\"1127\"}},\"id\":\"1126\",\"type\":\"GlyphRenderer\"},{\"attributes\":{},\"id\":\"1964\",\"type\":\"UnionRenderers\"},{\"attributes\":{\"data\":{\"x\":[4.0,4.0],\"y\":[0,0.18390112513315407]},\"selected\":{\"id\":\"1861\"},\"selection_policy\":{\"id\":\"1862\"}},\"id\":\"1103\",\"type\":\"ColumnDataSource\"},{\"attributes\":{\"source\":{\"id\":\"1093\"}},\"id\":\"1097\",\"type\":\"CDSView\"},{\"attributes\":{\"line_color\":\"orange\",\"x\":{\"field\":\"x\"},\"y\":{\"field\":\"y\"}},\"id\":\"1554\",\"type\":\"Line\"},{\"attributes\":{\"data\":{\"x\":[3.0,4.0],\"y1\":[0,0],\"y2\":[0.18390112513315407,0.18390112513315407]},\"selected\":{\"id\":\"1859\"},\"selection_policy\":{\"id\":\"1860\"}},\"id\":\"1098\",\"type\":\"ColumnDataSource\"},{\"attributes\":{\"data\":{\"x\":[2.0,3.0],\"y1\":[0,0],\"y2\":[0.10216672531931116,0.10216672531931116]},\"selected\":{\"id\":\"2021\"},\"selection_policy\":{\"id\":\"2022\"}},\"id\":\"1563\",\"type\":\"ColumnDataSource\"},{\"attributes\":{\"fill_alpha\":0.1,\"fill_color\":\"orange\",\"x\":{\"field\":\"x\"},\"y1\":{\"field\":\"y1\"},\"y2\":{\"field\":\"y2\"}},\"id\":\"1130\",\"type\":\"VArea\"},{\"attributes\":{\"data_source\":{\"id\":\"1093\"},\"glyph\":{\"id\":\"1094\"},\"hover_glyph\":null,\"muted_glyph\":null,\"nonselection_glyph\":{\"id\":\"1095\"},\"selection_glyph\":null,\"view\":{\"id\":\"1097\"}},\"id\":\"1096\",\"type\":\"GlyphRenderer\"},{\"attributes\":{\"line_color\":\"orange\",\"x\":{\"field\":\"x\"},\"y\":{\"field\":\"y\"}},\"id\":\"1104\",\"type\":\"Line\"},{\"attributes\":{\"line_color\":\"orange\",\"x\":{\"field\":\"x\"},\"y\":{\"field\":\"y\"}},\"id\":\"1119\",\"type\":\"Line\"},{\"attributes\":{},\"id\":\"1931\",\"type\":\"Selection\"},{\"attributes\":{\"fill_alpha\":0.2,\"fill_color\":\"orange\",\"x\":{\"field\":\"x\"},\"y1\":{\"field\":\"y1\"},\"y2\":{\"field\":\"y2\"}},\"id\":\"1114\",\"type\":\"VArea\"},{\"attributes\":{\"data_source\":{\"id\":\"1108\"},\"glyph\":{\"id\":\"1109\"},\"hover_glyph\":null,\"muted_glyph\":null,\"nonselection_glyph\":{\"id\":\"1110\"},\"selection_glyph\":null,\"view\":{\"id\":\"1112\"}},\"id\":\"1111\",\"type\":\"GlyphRenderer\"},{\"attributes\":{\"line_color\":\"orange\",\"x\":{\"field\":\"x\"},\"y\":{\"field\":\"y\"}},\"id\":\"1109\",\"type\":\"Line\"},{\"attributes\":{\"fill_alpha\":0.2,\"fill_color\":\"orange\",\"x\":{\"field\":\"x\"},\"y1\":{\"field\":\"y1\"},\"y2\":{\"field\":\"y2\"}},\"id\":\"1099\",\"type\":\"VArea\"},{\"attributes\":{\"line_alpha\":0.1,\"line_color\":\"orange\",\"x\":{\"field\":\"x\"},\"y\":{\"field\":\"y\"}},\"id\":\"1105\",\"type\":\"Line\"},{\"attributes\":{\"data_source\":{\"id\":\"1113\"},\"glyph\":{\"id\":\"1114\"},\"hover_glyph\":null,\"muted_glyph\":null,\"nonselection_glyph\":{\"id\":\"1115\"},\"selection_glyph\":null,\"view\":{\"id\":\"1117\"}},\"id\":\"1116\",\"type\":\"GlyphRenderer\"},{\"attributes\":{\"source\":{\"id\":\"1063\"}},\"id\":\"1067\",\"type\":\"CDSView\"},{\"attributes\":{\"line_alpha\":0.1,\"line_color\":\"orange\",\"x\":{\"field\":\"x\"},\"y\":{\"field\":\"y\"}},\"id\":\"1090\",\"type\":\"Line\"},{\"attributes\":{\"source\":{\"id\":\"1088\"}},\"id\":\"1092\",\"type\":\"CDSView\"},{\"attributes\":{\"data\":{\"x\":[5.0,6.0],\"y1\":[0,0],\"y2\":[0.18390112513315407,0.18390112513315407]},\"selected\":{\"id\":\"1871\"},\"selection_policy\":{\"id\":\"1872\"}},\"id\":\"1128\",\"type\":\"ColumnDataSource\"},{\"attributes\":{},\"id\":\"1932\",\"type\":\"UnionRenderers\"},{\"attributes\":{\"line_alpha\":0.1,\"line_color\":\"orange\",\"x\":{\"field\":\"x\"},\"y\":{\"field\":\"y\"}},\"id\":\"1110\",\"type\":\"Line\"},{\"attributes\":{\"source\":{\"id\":\"1108\"}},\"id\":\"1112\",\"type\":\"CDSView\"},{\"attributes\":{\"fill_alpha\":0.2,\"fill_color\":\"orange\",\"x\":{\"field\":\"x\"},\"y1\":{\"field\":\"y1\"},\"y2\":{\"field\":\"y2\"}},\"id\":\"1129\",\"type\":\"VArea\"},{\"attributes\":{\"data_source\":{\"id\":\"1103\"},\"glyph\":{\"id\":\"1104\"},\"hover_glyph\":null,\"muted_glyph\":null,\"nonselection_glyph\":{\"id\":\"1105\"},\"selection_glyph\":null,\"view\":{\"id\":\"1107\"}},\"id\":\"1106\",\"type\":\"GlyphRenderer\"},{\"attributes\":{},\"id\":\"1933\",\"type\":\"Selection\"},{\"attributes\":{\"fill_alpha\":0.1,\"fill_color\":\"orange\",\"x\":{\"field\":\"x\"},\"y1\":{\"field\":\"y1\"},\"y2\":{\"field\":\"y2\"}},\"id\":\"1565\",\"type\":\"VArea\"},{\"attributes\":{\"data_source\":{\"id\":\"1578\"},\"glyph\":{\"id\":\"1579\"},\"hover_glyph\":null,\"muted_glyph\":null,\"nonselection_glyph\":{\"id\":\"1580\"},\"selection_glyph\":null,\"view\":{\"id\":\"1582\"}},\"id\":\"1581\",\"type\":\"GlyphRenderer\"},{\"attributes\":{\"data\":{\"x\":[5.0,5.0],\"y\":[0,0.18390112513315407]},\"selected\":{\"id\":\"1863\"},\"selection_policy\":{\"id\":\"1864\"}},\"id\":\"1108\",\"type\":\"ColumnDataSource\"},{\"attributes\":{\"fill_alpha\":0.1,\"fill_color\":\"orange\",\"x\":{\"field\":\"x\"},\"y1\":{\"field\":\"y1\"},\"y2\":{\"field\":\"y2\"}},\"id\":\"1595\",\"type\":\"VArea\"},{\"attributes\":{\"source\":{\"id\":\"1103\"}},\"id\":\"1107\",\"type\":\"CDSView\"},{\"attributes\":{\"line_alpha\":0.1,\"line_color\":\"orange\",\"x\":{\"field\":\"x\"},\"y\":{\"field\":\"y\"}},\"id\":\"1560\",\"type\":\"Line\"},{\"attributes\":{\"data\":{\"x\":[4.0,4.0],\"y\":[0,0.18390112513315407]},\"selected\":{\"id\":\"1857\"},\"selection_policy\":{\"id\":\"1858\"}},\"id\":\"1093\",\"type\":\"ColumnDataSource\"},{\"attributes\":{\"line_color\":\"orange\",\"x\":{\"field\":\"x\"},\"y\":{\"field\":\"y\"}},\"id\":\"1559\",\"type\":\"Line\"},{\"attributes\":{\"source\":{\"id\":\"1573\"}},\"id\":\"1577\",\"type\":\"CDSView\"},{\"attributes\":{\"source\":{\"id\":\"1113\"}},\"id\":\"1117\",\"type\":\"CDSView\"},{\"attributes\":{\"data\":{\"x\":[2.0,2.0],\"y\":[0,0.10216672531931116]},\"selected\":{\"id\":\"2017\"},\"selection_policy\":{\"id\":\"2018\"}},\"id\":\"1553\",\"type\":\"ColumnDataSource\"},{\"attributes\":{\"source\":{\"id\":\"1128\"}},\"id\":\"1132\",\"type\":\"CDSView\"},{\"attributes\":{\"fill_alpha\":0.2,\"fill_color\":\"orange\",\"x\":{\"field\":\"x\"},\"y1\":{\"field\":\"y1\"},\"y2\":{\"field\":\"y2\"}},\"id\":\"1564\",\"type\":\"VArea\"},{\"attributes\":{\"line_color\":\"orange\",\"x\":{\"field\":\"x\"},\"y\":{\"field\":\"y\"}},\"id\":\"1124\",\"type\":\"Line\"},{\"attributes\":{\"data\":{\"x\":[3.0,4.0],\"y1\":[0,0],\"y2\":[0.10216672531931116,0.10216672531931116]},\"selected\":{\"id\":\"2027\"},\"selection_policy\":{\"id\":\"2028\"}},\"id\":\"1578\",\"type\":\"ColumnDataSource\"},{\"attributes\":{\"data_source\":{\"id\":\"1568\"},\"glyph\":{\"id\":\"1569\"},\"hover_glyph\":null,\"muted_glyph\":null,\"nonselection_glyph\":{\"id\":\"1570\"},\"selection_glyph\":null,\"view\":{\"id\":\"1572\"}},\"id\":\"1571\",\"type\":\"GlyphRenderer\"},{\"attributes\":{\"data\":{\"x\":[4.0,5.0],\"y1\":[0,0],\"y2\":[0.18390112513315407,0.18390112513315407]},\"selected\":{\"id\":\"1865\"},\"selection_policy\":{\"id\":\"1866\"}},\"id\":\"1113\",\"type\":\"ColumnDataSource\"},{\"attributes\":{\"data\":{\"x\":[3.0,3.0],\"y\":[0,0.18390112513315407]},\"selected\":{\"id\":\"1851\"},\"selection_policy\":{\"id\":\"1852\"}},\"id\":\"1078\",\"type\":\"ColumnDataSource\"},{\"attributes\":{\"line_alpha\":0.1,\"line_color\":\"orange\",\"x\":{\"field\":\"x\"},\"y\":{\"field\":\"y\"}},\"id\":\"1575\",\"type\":\"Line\"},{\"attributes\":{\"data_source\":{\"id\":\"1098\"},\"glyph\":{\"id\":\"1099\"},\"hover_glyph\":null,\"muted_glyph\":null,\"nonselection_glyph\":{\"id\":\"1100\"},\"selection_glyph\":null,\"view\":{\"id\":\"1102\"}},\"id\":\"1101\",\"type\":\"GlyphRenderer\"},{\"attributes\":{\"source\":{\"id\":\"1603\"}},\"id\":\"1607\",\"type\":\"CDSView\"},{\"attributes\":{\"data_source\":{\"id\":\"1088\"},\"glyph\":{\"id\":\"1089\"},\"hover_glyph\":null,\"muted_glyph\":null,\"nonselection_glyph\":{\"id\":\"1090\"},\"selection_glyph\":null,\"view\":{\"id\":\"1092\"}},\"id\":\"1091\",\"type\":\"GlyphRenderer\"},{\"attributes\":{\"data\":{\"x\":[3.0,3.0],\"y\":[0,0.10216672531931116]},\"selected\":{\"id\":\"2023\"},\"selection_policy\":{\"id\":\"2024\"}},\"id\":\"1568\",\"type\":\"ColumnDataSource\"},{\"attributes\":{\"data\":{\"x\":[5.0,5.0],\"y\":[0,0.18390112513315407]},\"selected\":{\"id\":\"1867\"},\"selection_policy\":{\"id\":\"1868\"}},\"id\":\"1118\",\"type\":\"ColumnDataSource\"},{\"attributes\":{\"fill_alpha\":0.1,\"fill_color\":\"orange\",\"x\":{\"field\":\"x\"},\"y1\":{\"field\":\"y1\"},\"y2\":{\"field\":\"y2\"}},\"id\":\"1610\",\"type\":\"VArea\"},{\"attributes\":{},\"id\":\"1963\",\"type\":\"Selection\"},{\"attributes\":{\"data_source\":{\"id\":\"1128\"},\"glyph\":{\"id\":\"1129\"},\"hover_glyph\":null,\"muted_glyph\":null,\"nonselection_glyph\":{\"id\":\"1130\"},\"selection_glyph\":null,\"view\":{\"id\":\"1132\"}},\"id\":\"1131\",\"type\":\"GlyphRenderer\"},{\"attributes\":{\"data_source\":{\"id\":\"1118\"},\"glyph\":{\"id\":\"1119\"},\"hover_glyph\":null,\"muted_glyph\":null,\"nonselection_glyph\":{\"id\":\"1120\"},\"selection_glyph\":null,\"view\":{\"id\":\"1122\"}},\"id\":\"1121\",\"type\":\"GlyphRenderer\"},{\"attributes\":{\"source\":{\"id\":\"1558\"}},\"id\":\"1562\",\"type\":\"CDSView\"},{\"attributes\":{\"line_color\":\"orange\",\"x\":{\"field\":\"x\"},\"y\":{\"field\":\"y\"}},\"id\":\"1064\",\"type\":\"Line\"},{\"attributes\":{\"fill_alpha\":0.1,\"fill_color\":\"orange\",\"x\":{\"field\":\"x\"},\"y1\":{\"field\":\"y1\"},\"y2\":{\"field\":\"y2\"}},\"id\":\"1070\",\"type\":\"VArea\"},{\"attributes\":{\"line_alpha\":0.1,\"line_color\":\"orange\",\"x\":{\"field\":\"x\"},\"y\":{\"field\":\"y\"}},\"id\":\"1080\",\"type\":\"Line\"},{\"attributes\":{\"data\":{\"x\":[4.0,5.0],\"y1\":[0,0],\"y2\":[0.10216672531931116,0.10216672531931116]},\"selected\":{\"id\":\"2033\"},\"selection_policy\":{\"id\":\"2034\"}},\"id\":\"1593\",\"type\":\"ColumnDataSource\"},{\"attributes\":{\"data_source\":{\"id\":\"1608\"},\"glyph\":{\"id\":\"1609\"},\"hover_glyph\":null,\"muted_glyph\":null,\"nonselection_glyph\":{\"id\":\"1610\"},\"selection_glyph\":null,\"view\":{\"id\":\"1612\"}},\"id\":\"1611\",\"type\":\"GlyphRenderer\"},{\"attributes\":{\"data\":{\"x\":[2.0,3.0],\"y1\":[0,0],\"y2\":[0.18390112513315407,0.18390112513315407]},\"selected\":{\"id\":\"1853\"},\"selection_policy\":{\"id\":\"1854\"}},\"id\":\"1083\",\"type\":\"ColumnDataSource\"},{\"attributes\":{\"source\":{\"id\":\"1083\"}},\"id\":\"1087\",\"type\":\"CDSView\"},{\"attributes\":{\"source\":{\"id\":\"1608\"}},\"id\":\"1612\",\"type\":\"CDSView\"},{\"attributes\":{\"line_color\":\"orange\",\"x\":{\"field\":\"x\"},\"y\":{\"field\":\"y\"}},\"id\":\"1094\",\"type\":\"Line\"},{\"attributes\":{\"fill_alpha\":0.2,\"fill_color\":\"orange\",\"x\":{\"field\":\"x\"},\"y1\":{\"field\":\"y1\"},\"y2\":{\"field\":\"y2\"}},\"id\":\"1609\",\"type\":\"VArea\"},{\"attributes\":{\"fill_alpha\":0.1,\"fill_color\":\"orange\",\"x\":{\"field\":\"x\"},\"y1\":{\"field\":\"y1\"},\"y2\":{\"field\":\"y2\"}},\"id\":\"1115\",\"type\":\"VArea\"},{\"attributes\":{\"data\":{\"x\":[5.0,5.0],\"y\":[0,0.10216672531931116]},\"selected\":{\"id\":\"2035\"},\"selection_policy\":{\"id\":\"2036\"}},\"id\":\"1598\",\"type\":\"ColumnDataSource\"},{\"attributes\":{\"source\":{\"id\":\"1098\"}},\"id\":\"1102\",\"type\":\"CDSView\"},{\"attributes\":{\"line_color\":\"orange\",\"x\":{\"field\":\"x\"},\"y\":{\"field\":\"y\"}},\"id\":\"1574\",\"type\":\"Line\"},{\"attributes\":{},\"id\":\"1962\",\"type\":\"UnionRenderers\"},{\"attributes\":{\"data\":{\"x\":[1.0,2.0],\"y1\":[0,0],\"y2\":[0.18390112513315407,0.18390112513315407]},\"selected\":{\"id\":\"1847\"},\"selection_policy\":{\"id\":\"1848\"}},\"id\":\"1068\",\"type\":\"ColumnDataSource\"},{\"attributes\":{\"source\":{\"id\":\"1563\"}},\"id\":\"1567\",\"type\":\"CDSView\"},{\"attributes\":{\"data_source\":{\"id\":\"1553\"},\"glyph\":{\"id\":\"1554\"},\"hover_glyph\":null,\"muted_glyph\":null,\"nonselection_glyph\":{\"id\":\"1555\"},\"selection_glyph\":null,\"view\":{\"id\":\"1557\"}},\"id\":\"1556\",\"type\":\"GlyphRenderer\"},{\"attributes\":{\"data\":{\"x\":[5.0,5.0],\"y\":[0,0.09586941819837758]},\"selected\":{\"id\":\"2087\"},\"selection_policy\":{\"id\":\"2088\"}},\"id\":\"1748\",\"type\":\"ColumnDataSource\"},{\"attributes\":{\"data\":{\"x\":[3.0,3.0],\"y\":[0,0.18390112513315407]},\"selected\":{\"id\":\"1855\"},\"selection_policy\":{\"id\":\"1856\"}},\"id\":\"1088\",\"type\":\"ColumnDataSource\"},{\"attributes\":{\"line_alpha\":0.1,\"line_color\":\"orange\",\"x\":{\"field\":\"x\"},\"y\":{\"field\":\"y\"}},\"id\":\"1555\",\"type\":\"Line\"},{\"attributes\":{\"line_alpha\":0.1,\"line_color\":\"orange\",\"x\":{\"field\":\"x\"},\"y\":{\"field\":\"y\"}},\"id\":\"1570\",\"type\":\"Line\"},{\"attributes\":{\"data_source\":{\"id\":\"1073\"},\"glyph\":{\"id\":\"1074\"},\"hover_glyph\":null,\"muted_glyph\":null,\"nonselection_glyph\":{\"id\":\"1075\"},\"selection_glyph\":null,\"view\":{\"id\":\"1077\"}},\"id\":\"1076\",\"type\":\"GlyphRenderer\"},{\"attributes\":{\"data_source\":{\"id\":\"1603\"},\"glyph\":{\"id\":\"1604\"},\"hover_glyph\":null,\"muted_glyph\":null,\"nonselection_glyph\":{\"id\":\"1605\"},\"selection_glyph\":null,\"view\":{\"id\":\"1607\"}},\"id\":\"1606\",\"type\":\"GlyphRenderer\"},{\"attributes\":{},\"id\":\"1961\",\"type\":\"Selection\"},{\"attributes\":{\"source\":{\"id\":\"1078\"}},\"id\":\"1082\",\"type\":\"CDSView\"},{\"attributes\":{\"line_alpha\":0.1,\"line_color\":\"orange\",\"x\":{\"field\":\"x\"},\"y\":{\"field\":\"y\"}},\"id\":\"1605\",\"type\":\"Line\"},{\"attributes\":{\"data_source\":{\"id\":\"1573\"},\"glyph\":{\"id\":\"1574\"},\"hover_glyph\":null,\"muted_glyph\":null,\"nonselection_glyph\":{\"id\":\"1575\"},\"selection_glyph\":null,\"view\":{\"id\":\"1577\"}},\"id\":\"1576\",\"type\":\"GlyphRenderer\"},{\"attributes\":{},\"id\":\"1809\",\"type\":\"BasicTickFormatter\"},{\"attributes\":{\"fill_alpha\":0.2,\"fill_color\":\"orange\",\"x\":{\"field\":\"x\"},\"y1\":{\"field\":\"y1\"},\"y2\":{\"field\":\"y2\"}},\"id\":\"1069\",\"type\":\"VArea\"},{\"attributes\":{\"source\":{\"id\":\"1073\"}},\"id\":\"1077\",\"type\":\"CDSView\"},{\"attributes\":{\"fill_alpha\":0.2,\"fill_color\":\"orange\",\"x\":{\"field\":\"x\"},\"y1\":{\"field\":\"y1\"},\"y2\":{\"field\":\"y2\"}},\"id\":\"1579\",\"type\":\"VArea\"},{\"attributes\":{\"line_alpha\":0.1,\"line_color\":\"orange\",\"x\":{\"field\":\"x\"},\"y\":{\"field\":\"y\"}},\"id\":\"1095\",\"type\":\"Line\"},{\"attributes\":{\"line_alpha\":0.1,\"line_color\":\"orange\",\"x\":{\"field\":\"x\"},\"y\":{\"field\":\"y\"}},\"id\":\"1065\",\"type\":\"Line\"},{\"attributes\":{\"source\":{\"id\":\"1568\"}},\"id\":\"1572\",\"type\":\"CDSView\"},{\"attributes\":{\"data_source\":{\"id\":\"1623\"},\"glyph\":{\"id\":\"1624\"},\"hover_glyph\":null,\"muted_glyph\":null,\"nonselection_glyph\":{\"id\":\"1625\"},\"selection_glyph\":null,\"view\":{\"id\":\"1627\"}},\"id\":\"1626\",\"type\":\"GlyphRenderer\"},{\"attributes\":{\"source\":{\"id\":\"1068\"}},\"id\":\"1072\",\"type\":\"CDSView\"},{\"attributes\":{\"data\":{\"x\":[4.0,4.0],\"y\":[0,0.10216672531931116]},\"selected\":{\"id\":\"2025\"},\"selection_policy\":{\"id\":\"2026\"}},\"id\":\"1573\",\"type\":\"ColumnDataSource\"},{\"attributes\":{\"line_color\":\"orange\",\"x\":{\"field\":\"x\"},\"y\":{\"field\":\"y\"}},\"id\":\"1079\",\"type\":\"Line\"},{\"attributes\":{\"data\":{\"x\":[5.0,6.0],\"y1\":[0,0],\"y2\":[0.10216672531931116,0.10216672531931116]},\"selected\":{\"id\":\"2039\"},\"selection_policy\":{\"id\":\"2040\"}},\"id\":\"1608\",\"type\":\"ColumnDataSource\"},{\"attributes\":{\"fill_alpha\":0.1,\"fill_color\":\"orange\",\"x\":{\"field\":\"x\"},\"y1\":{\"field\":\"y1\"},\"y2\":{\"field\":\"y2\"}},\"id\":\"1085\",\"type\":\"VArea\"},{\"attributes\":{\"source\":{\"id\":\"1593\"}},\"id\":\"1597\",\"type\":\"CDSView\"},{\"attributes\":{\"fill_alpha\":0.1,\"fill_color\":\"orange\",\"x\":{\"field\":\"x\"},\"y1\":{\"field\":\"y1\"},\"y2\":{\"field\":\"y2\"}},\"id\":\"1100\",\"type\":\"VArea\"},{\"attributes\":{\"data_source\":{\"id\":\"1598\"},\"glyph\":{\"id\":\"1599\"},\"hover_glyph\":null,\"muted_glyph\":null,\"nonselection_glyph\":{\"id\":\"1600\"},\"selection_glyph\":null,\"view\":{\"id\":\"1602\"}},\"id\":\"1601\",\"type\":\"GlyphRenderer\"},{\"attributes\":{\"line_color\":\"orange\",\"x\":{\"field\":\"x\"},\"y\":{\"field\":\"y\"}},\"id\":\"1074\",\"type\":\"Line\"},{\"attributes\":{},\"id\":\"1929\",\"type\":\"Selection\"},{\"attributes\":{\"data\":{\"x\":[2.0,2.0],\"y\":[0,0.18390112513315407]},\"selected\":{\"id\":\"1849\"},\"selection_policy\":{\"id\":\"1850\"}},\"id\":\"1073\",\"type\":\"ColumnDataSource\"},{\"attributes\":{\"fill_alpha\":0.1,\"fill_color\":\"orange\",\"x\":{\"field\":\"x\"},\"y1\":{\"field\":\"y1\"},\"y2\":{\"field\":\"y2\"}},\"id\":\"1580\",\"type\":\"VArea\"},{\"attributes\":{\"line_color\":\"orange\",\"x\":{\"field\":\"x\"},\"y\":{\"field\":\"y\"}},\"id\":\"1089\",\"type\":\"Line\"},{\"attributes\":{\"fill_alpha\":0.2,\"fill_color\":\"orange\",\"x\":{\"field\":\"x\"},\"y1\":{\"field\":\"y1\"},\"y2\":{\"field\":\"y2\"}},\"id\":\"1594\",\"type\":\"VArea\"},{\"attributes\":{\"data\":{\"x\":[6.0,6.0],\"y\":[0,0.10216672531931116]},\"selected\":{\"id\":\"2037\"},\"selection_policy\":{\"id\":\"2038\"}},\"id\":\"1603\",\"type\":\"ColumnDataSource\"},{\"attributes\":{\"data_source\":{\"id\":\"1083\"},\"glyph\":{\"id\":\"1084\"},\"hover_glyph\":null,\"muted_glyph\":null,\"nonselection_glyph\":{\"id\":\"1085\"},\"selection_glyph\":null,\"view\":{\"id\":\"1087\"}},\"id\":\"1086\",\"type\":\"GlyphRenderer\"},{\"attributes\":{\"line_alpha\":0.1,\"line_color\":\"orange\",\"x\":{\"field\":\"x\"},\"y\":{\"field\":\"y\"}},\"id\":\"1600\",\"type\":\"Line\"},{\"attributes\":{},\"id\":\"1831\",\"type\":\"Selection\"},{\"attributes\":{\"source\":{\"id\":\"1553\"}},\"id\":\"1557\",\"type\":\"CDSView\"},{\"attributes\":{\"line_alpha\":0.1,\"line_color\":\"orange\",\"x\":{\"field\":\"x\"},\"y\":{\"field\":\"y\"}},\"id\":\"1075\",\"type\":\"Line\"},{\"attributes\":{\"line_color\":\"orange\",\"x\":{\"field\":\"x\"},\"y\":{\"field\":\"y\"}},\"id\":\"1599\",\"type\":\"Line\"},{\"attributes\":{\"line_color\":\"orange\",\"x\":{\"field\":\"x\"},\"y\":{\"field\":\"y\"}},\"id\":\"1604\",\"type\":\"Line\"},{\"attributes\":{},\"id\":\"1930\",\"type\":\"UnionRenderers\"},{\"attributes\":{\"line_alpha\":0.1,\"line_color\":\"orange\",\"x\":{\"field\":\"x\"},\"y\":{\"field\":\"y\"}},\"id\":\"1120\",\"type\":\"Line\"},{\"attributes\":{\"line_color\":\"orange\",\"x\":{\"field\":\"x\"},\"y\":{\"field\":\"y\"}},\"id\":\"1569\",\"type\":\"Line\"},{\"attributes\":{\"data_source\":{\"id\":\"1558\"},\"glyph\":{\"id\":\"1559\"},\"hover_glyph\":null,\"muted_glyph\":null,\"nonselection_glyph\":{\"id\":\"1560\"},\"selection_glyph\":null,\"view\":{\"id\":\"1562\"}},\"id\":\"1561\",\"type\":\"GlyphRenderer\"},{\"attributes\":{\"source\":{\"id\":\"1118\"}},\"id\":\"1122\",\"type\":\"CDSView\"},{\"attributes\":{\"data\":{\"x\":[6.0,6.0],\"y\":[0,0.18390112513315407]},\"selected\":{\"id\":\"1869\"},\"selection_policy\":{\"id\":\"1870\"}},\"id\":\"1123\",\"type\":\"ColumnDataSource\"},{\"attributes\":{\"data_source\":{\"id\":\"1563\"},\"glyph\":{\"id\":\"1564\"},\"hover_glyph\":null,\"muted_glyph\":null,\"nonselection_glyph\":{\"id\":\"1565\"},\"selection_glyph\":null,\"view\":{\"id\":\"1567\"}},\"id\":\"1566\",\"type\":\"GlyphRenderer\"},{\"attributes\":{\"fill_alpha\":0.2,\"fill_color\":\"orange\",\"x\":{\"field\":\"x\"},\"y1\":{\"field\":\"y1\"},\"y2\":{\"field\":\"y2\"}},\"id\":\"1084\",\"type\":\"VArea\"},{\"attributes\":{\"data_source\":{\"id\":\"1078\"},\"glyph\":{\"id\":\"1079\"},\"hover_glyph\":null,\"muted_glyph\":null,\"nonselection_glyph\":{\"id\":\"1080\"},\"selection_glyph\":null,\"view\":{\"id\":\"1082\"}},\"id\":\"1081\",\"type\":\"GlyphRenderer\"},{\"attributes\":{\"data\":{\"x\":[3.0,3.0],\"y\":[0,0.10216672531931116]},\"selected\":{\"id\":\"2019\"},\"selection_policy\":{\"id\":\"2020\"}},\"id\":\"1558\",\"type\":\"ColumnDataSource\"},{\"attributes\":{},\"id\":\"1851\",\"type\":\"Selection\"},{\"attributes\":{},\"id\":\"1926\",\"type\":\"UnionRenderers\"},{\"attributes\":{},\"id\":\"1850\",\"type\":\"UnionRenderers\"},{\"attributes\":{},\"id\":\"1878\",\"type\":\"UnionRenderers\"},{\"attributes\":{},\"id\":\"1832\",\"type\":\"UnionRenderers\"},{\"attributes\":{\"source\":{\"id\":\"1203\"}},\"id\":\"1207\",\"type\":\"CDSView\"},{\"attributes\":{},\"id\":\"1968\",\"type\":\"UnionRenderers\"},{\"attributes\":{},\"id\":\"1886\",\"type\":\"UnionRenderers\"},{\"attributes\":{},\"id\":\"1860\",\"type\":\"UnionRenderers\"},{\"attributes\":{},\"id\":\"1852\",\"type\":\"UnionRenderers\"},{\"attributes\":{},\"id\":\"1885\",\"type\":\"Selection\"},{\"attributes\":{},\"id\":\"1879\",\"type\":\"Selection\"},{\"attributes\":{},\"id\":\"1861\",\"type\":\"Selection\"},{\"attributes\":{\"data_source\":{\"id\":\"1198\"},\"glyph\":{\"id\":\"1199\"},\"hover_glyph\":null,\"muted_glyph\":null,\"nonselection_glyph\":{\"id\":\"1200\"},\"selection_glyph\":null,\"view\":{\"id\":\"1202\"}},\"id\":\"1201\",\"type\":\"GlyphRenderer\"},{\"attributes\":{\"background_fill_color\":\"#fafafa\",\"below\":[{\"id\":\"1334\"}],\"center\":[{\"id\":\"1337\"},{\"id\":\"1341\"}],\"frame_height\":200,\"frame_width\":200,\"left\":[{\"id\":\"1338\"}],\"renderers\":[{\"id\":\"1346\"},{\"id\":\"1351\"},{\"id\":\"1356\"},{\"id\":\"1361\"},{\"id\":\"1366\"},{\"id\":\"1371\"},{\"id\":\"1376\"},{\"id\":\"1381\"},{\"id\":\"1386\"},{\"id\":\"1391\"},{\"id\":\"1396\"},{\"id\":\"1401\"},{\"id\":\"1406\"},{\"id\":\"1411\"},{\"id\":\"1416\"},{\"id\":\"1421\"},{\"id\":\"1426\"},{\"id\":\"1431\"},{\"id\":\"1436\"},{\"id\":\"1441\"},{\"id\":\"1446\"},{\"id\":\"1451\"},{\"id\":\"1456\"},{\"id\":\"1461\"},{\"id\":\"1466\"},{\"id\":\"1471\"},{\"id\":\"1476\"},{\"id\":\"1481\"}],\"title\":{\"id\":\"1324\"},\"toolbar\":{\"id\":\"1342\"},\"x_range\":{\"id\":\"1326\"},\"x_scale\":{\"id\":\"1330\"},\"y_range\":{\"id\":\"1328\"},\"y_scale\":{\"id\":\"1332\"}},\"id\":\"1323\",\"subtype\":\"Figure\",\"type\":\"Plot\"},{\"attributes\":{\"data_source\":{\"id\":\"1208\"},\"glyph\":{\"id\":\"1209\"},\"hover_glyph\":null,\"muted_glyph\":null,\"nonselection_glyph\":{\"id\":\"1210\"},\"selection_glyph\":null,\"view\":{\"id\":\"1212\"}},\"id\":\"1211\",\"type\":\"GlyphRenderer\"},{\"attributes\":{},\"id\":\"1854\",\"type\":\"UnionRenderers\"},{\"attributes\":{\"fill_alpha\":0.1,\"fill_color\":\"orange\",\"x\":{\"field\":\"x\"},\"y1\":{\"field\":\"y1\"},\"y2\":{\"field\":\"y2\"}},\"id\":\"1200\",\"type\":\"VArea\"},{\"attributes\":{},\"id\":\"1853\",\"type\":\"Selection\"},{\"attributes\":{\"fill_alpha\":0.2,\"fill_color\":\"orange\",\"x\":{\"field\":\"x\"},\"y1\":{\"field\":\"y1\"},\"y2\":{\"field\":\"y2\"}},\"id\":\"1199\",\"type\":\"VArea\"},{\"attributes\":{},\"id\":\"1856\",\"type\":\"UnionRenderers\"},{\"attributes\":{\"line_alpha\":0.1,\"line_color\":\"orange\",\"x\":{\"field\":\"x\"},\"y\":{\"field\":\"y\"}},\"id\":\"1210\",\"type\":\"Line\"},{\"attributes\":{\"line_color\":\"orange\",\"x\":{\"field\":\"x\"},\"y\":{\"field\":\"y\"}},\"id\":\"1189\",\"type\":\"Line\"},{\"attributes\":{},\"id\":\"1819\",\"type\":\"BasicTickFormatter\"},{\"attributes\":{\"source\":{\"id\":\"1188\"}},\"id\":\"1192\",\"type\":\"CDSView\"},{\"attributes\":{},\"id\":\"1880\",\"type\":\"UnionRenderers\"},{\"attributes\":{\"line_color\":\"orange\",\"x\":{\"field\":\"x\"},\"y\":{\"field\":\"y\"}},\"id\":\"1194\",\"type\":\"Line\"},{\"attributes\":{\"data_source\":{\"id\":\"1193\"},\"glyph\":{\"id\":\"1194\"},\"hover_glyph\":null,\"muted_glyph\":null,\"nonselection_glyph\":{\"id\":\"1195\"},\"selection_glyph\":null,\"view\":{\"id\":\"1197\"}},\"id\":\"1196\",\"type\":\"GlyphRenderer\"},{\"attributes\":{},\"id\":\"1855\",\"type\":\"Selection\"},{\"attributes\":{\"source\":{\"id\":\"1183\"}},\"id\":\"1187\",\"type\":\"CDSView\"},{\"attributes\":{\"data\":{\"x\":[0.0,0.0],\"y\":[0,0.1204523954086467]},\"selected\":{\"id\":\"1889\"},\"selection_policy\":{\"id\":\"1890\"}},\"id\":\"1193\",\"type\":\"ColumnDataSource\"},{\"attributes\":{\"data\":{\"x\":[0.0,0.0],\"y\":[0,0.1204523954086467]},\"selected\":{\"id\":\"1893\"},\"selection_policy\":{\"id\":\"1894\"}},\"id\":\"1203\",\"type\":\"ColumnDataSource\"},{\"attributes\":{\"line_color\":\"orange\",\"x\":{\"field\":\"x\"},\"y\":{\"field\":\"y\"}},\"id\":\"1209\",\"type\":\"Line\"},{\"attributes\":{\"line_alpha\":0.1,\"line_color\":\"orange\",\"x\":{\"field\":\"x\"},\"y\":{\"field\":\"y\"}},\"id\":\"1190\",\"type\":\"Line\"},{\"attributes\":{\"data_source\":{\"id\":\"1183\"},\"glyph\":{\"id\":\"1184\"},\"hover_glyph\":null,\"muted_glyph\":null,\"nonselection_glyph\":{\"id\":\"1185\"},\"selection_glyph\":null,\"view\":{\"id\":\"1187\"}},\"id\":\"1186\",\"type\":\"GlyphRenderer\"},{\"attributes\":{},\"id\":\"1849\",\"type\":\"Selection\"},{\"attributes\":{},\"id\":\"1925\",\"type\":\"Selection\"},{\"attributes\":{\"fill_alpha\":0.1,\"fill_color\":\"orange\",\"x\":{\"field\":\"x\"},\"y1\":{\"field\":\"y1\"},\"y2\":{\"field\":\"y2\"}},\"id\":\"1230\",\"type\":\"VArea\"},{\"attributes\":{},\"id\":\"1881\",\"type\":\"Selection\"},{\"attributes\":{\"line_alpha\":0.1,\"line_color\":\"orange\",\"x\":{\"field\":\"x\"},\"y\":{\"field\":\"y\"}},\"id\":\"1205\",\"type\":\"Line\"},{\"attributes\":{\"bottom\":{\"value\":0},\"fill_alpha\":{\"value\":0.5},\"fill_color\":{\"value\":\"navy\"},\"left\":{\"field\":\"left\"},\"line_alpha\":{\"value\":0.5},\"line_color\":{\"value\":\"white\"},\"right\":{\"field\":\"right\"},\"top\":{\"field\":\"top\"}},\"id\":\"1184\",\"type\":\"Quad\"},{\"attributes\":{\"data\":{\"x\":[-1.0,-1.0],\"y\":[0,0.1204523954086467]},\"selected\":{\"id\":\"1887\"},\"selection_policy\":{\"id\":\"1888\"}},\"id\":\"1188\",\"type\":\"ColumnDataSource\"},{\"attributes\":{\"data\":{\"left\":{\"__ndarray__\":\"hqzqvPj48b9sS6PUpRDnv5h74l60XtS/oH4GrouPtT/ouuU1eibfPxTrJMCIdOw/WnyrMuqq9D8qg0QFkBv7P/3E7usaxgBAZUg71W3+A0DNy4e+wDYHQDVP1KcTbwpAndIgkWanDUACqza93G8QQLbs3DEGDBJAai6Dpi+oE0AecCkbWUQVQNKxz4+C4BZAhvN1BKx8GEA6NRx51RgaQO52wu3+tBtAorhoYihRHUBW+g7XUe0eQAWe2qW9RCBA374tYNISIUC534Aa5+AhQJMA1NT7riJAbSEnjxB9I0BHQnpJJUskQCFjzQM6GSVA+4Mgvk7nJUDVpHN4Y7UmQK/FxjJ4gydAieYZ7YxRKEBjB22noR8pQD0owGG27SlAF0kTHMu7KkDxaWbW34krQMuKuZD0VyxApasMSwkmLUB/zF8FHvQtQFntsr8ywi5AMw4GekeQL0CHlywaLi8wQPQnVnc4ljBAYbh/1EL9MEDOSKkxTWQxQDvZ0o5XyzFAqGn862EyMkAV+iVJbJkyQA==\",\"dtype\":\"float64\",\"shape\":[50]},\"right\":{\"__ndarray__\":\"bEuj1KUQ57+Ye+JetF7Uv6B+Bq6Lj7U/6LrlNXom3z8U6yTAiHTsP1p8qzLqqvQ/KoNEBZAb+z/9xO7rGsYAQGVIO9Vt/gNAzcuHvsA2B0A1T9SnE28KQJ3SIJFmpw1AAqs2vdxvEEC27NwxBgwSQGoug6YvqBNAHnApG1lEFUDSsc+PguAWQIbzdQSsfBhAOjUcedUYGkDudsLt/rQbQKK4aGIoUR1AVvoO11HtHkAFntqlvUQgQN++LWDSEiFAud+AGufgIUCTANTU+64iQG0hJ48QfSNAR0J6SSVLJEAhY80DOhklQPuDIL5O5yVA1aRzeGO1JkCvxcYyeIMnQInmGe2MUShAYwdtp6EfKUA9KMBhtu0pQBdJExzLuypA8Wlm1t+JK0DLirmQ9FcsQKWrDEsJJi1Af8xfBR70LUBZ7bK/MsIuQDMOBnpHkC9Ah5csGi4vMED0J1Z3OJYwQGG4f9RC/TBAzkipMU1kMUA72dKOV8sxQKhp/OthMjJAFfolSWyZMkCCik+mdgAzQA==\",\"dtype\":\"float64\",\"shape\":[50]},\"top\":{\"__ndarray__\":\"VVsP0SlFUz//CJe5vudsP+Sfjf8U0nU/ekTlFoZrgj8MqVbonfySP5at7tAvgZk/D8lJi8oAoT9Qf4cfVv2mPyLSeVzuCa4/6HsVsegZsj8IXUiI4La1P0+3yvZKfLc/wyxSdVRIuD/c1UF1V2a7P5GZI0hnurw//ngdaKjlvT+RQe3NRTe+P/+kOCU5J70/bLZhD70yvj+PRwHb99W+P9pXBEtXQL4/Rl0FG3cOvj+3ujxluF+8P94teO946bk/umqpWftluT9Qf4cfVv22P8LKgkKBcrM/Dp0uzjm/sT9q9LjzY1CvP5at7tAvgak/vJbEFoynqD/BAsYZdvGjP8feTctJOaA/to4hqCcenT8HaXCiRPSWP59l/jPXEJI/szbrLQabjj++tre5uKuGPw/JSYvKAIE/JfJs/xoOfD8PyUmLygBxPzWyH9EmJ3A/8IhjRXH4ZD8PyUmLygBRP+F/mlzozVc/SttCRXc0Sz8FSX3/F/BIP0rbQkV3NCs/MZIsLvoiIj8xkiwu+iIyPw==\",\"dtype\":\"float64\",\"shape\":[50]}},\"selected\":{\"id\":\"1885\"},\"selection_policy\":{\"id\":\"1886\"}},\"id\":\"1183\",\"type\":\"ColumnDataSource\"},{\"attributes\":{},\"id\":\"1857\",\"type\":\"Selection\"},{\"attributes\":{},\"id\":\"1887\",\"type\":\"Selection\"},{\"attributes\":{\"line_color\":\"orange\",\"x\":{\"field\":\"x\"},\"y\":{\"field\":\"y\"}},\"id\":\"1204\",\"type\":\"Line\"},{\"attributes\":{},\"id\":\"1888\",\"type\":\"UnionRenderers\"},{\"attributes\":{},\"id\":\"1915\",\"type\":\"Selection\"},{\"attributes\":{\"data_source\":{\"id\":\"1213\"},\"glyph\":{\"id\":\"1214\"},\"hover_glyph\":null,\"muted_glyph\":null,\"nonselection_glyph\":{\"id\":\"1215\"},\"selection_glyph\":null,\"view\":{\"id\":\"1217\"}},\"id\":\"1216\",\"type\":\"GlyphRenderer\"},{\"attributes\":{},\"id\":\"1858\",\"type\":\"UnionRenderers\"},{\"attributes\":{},\"id\":\"1884\",\"type\":\"UnionRenderers\"},{\"attributes\":{\"data_source\":{\"id\":\"1203\"},\"glyph\":{\"id\":\"1204\"},\"hover_glyph\":null,\"muted_glyph\":null,\"nonselection_glyph\":{\"id\":\"1205\"},\"selection_glyph\":null,\"view\":{\"id\":\"1207\"}},\"id\":\"1206\",\"type\":\"GlyphRenderer\"},{\"attributes\":{\"data\":{\"x\":[-1.0,0.0],\"y1\":[0,0],\"y2\":[0.1204523954086467,0.1204523954086467]},\"selected\":{\"id\":\"1891\"},\"selection_policy\":{\"id\":\"1892\"}},\"id\":\"1198\",\"type\":\"ColumnDataSource\"},{\"attributes\":{\"data_source\":{\"id\":\"1233\"},\"glyph\":{\"id\":\"1234\"},\"hover_glyph\":null,\"muted_glyph\":null,\"nonselection_glyph\":{\"id\":\"1235\"},\"selection_glyph\":null,\"view\":{\"id\":\"1237\"}},\"id\":\"1236\",\"type\":\"GlyphRenderer\"},{\"attributes\":{},\"id\":\"1862\",\"type\":\"UnionRenderers\"},{\"attributes\":{\"bottom\":{\"value\":0},\"fill_alpha\":{\"value\":0.1},\"fill_color\":{\"value\":\"navy\"},\"left\":{\"field\":\"left\"},\"line_alpha\":{\"value\":0.1},\"line_color\":{\"value\":\"white\"},\"right\":{\"field\":\"right\"},\"top\":{\"field\":\"top\"}},\"id\":\"1185\",\"type\":\"Quad\"},{\"attributes\":{},\"id\":\"1882\",\"type\":\"UnionRenderers\"},{\"attributes\":{\"source\":{\"id\":\"1193\"}},\"id\":\"1197\",\"type\":\"CDSView\"},{\"attributes\":{\"data\":{\"x\":[2.0,2.0],\"y\":[0,0.1204523954086467]},\"selected\":{\"id\":\"1905\"},\"selection_policy\":{\"id\":\"1906\"}},\"id\":\"1233\",\"type\":\"ColumnDataSource\"},{\"attributes\":{\"line_alpha\":0.1,\"line_color\":\"orange\",\"x\":{\"field\":\"x\"},\"y\":{\"field\":\"y\"}},\"id\":\"1195\",\"type\":\"Line\"},{\"attributes\":{\"data\":{\"x\":[1.0,1.0],\"y\":[0,0.1204523954086467]},\"selected\":{\"id\":\"1895\"},\"selection_policy\":{\"id\":\"1896\"}},\"id\":\"1208\",\"type\":\"ColumnDataSource\"},{\"attributes\":{\"active_drag\":\"auto\",\"active_inspect\":\"auto\",\"active_multi\":null,\"active_scroll\":\"auto\",\"active_tap\":\"auto\"},\"id\":\"1182\",\"type\":\"Toolbar\"},{\"attributes\":{},\"id\":\"1821\",\"type\":\"BasicTickFormatter\"},{\"attributes\":{},\"id\":\"1877\",\"type\":\"Selection\"},{\"attributes\":{},\"id\":\"1859\",\"type\":\"Selection\"},{\"attributes\":{\"source\":{\"id\":\"1208\"}},\"id\":\"1212\",\"type\":\"CDSView\"},{\"attributes\":{\"source\":{\"id\":\"1228\"}},\"id\":\"1232\",\"type\":\"CDSView\"},{\"attributes\":{\"data_source\":{\"id\":\"1188\"},\"glyph\":{\"id\":\"1189\"},\"hover_glyph\":null,\"muted_glyph\":null,\"nonselection_glyph\":{\"id\":\"1190\"},\"selection_glyph\":null,\"view\":{\"id\":\"1192\"}},\"id\":\"1191\",\"type\":\"GlyphRenderer\"},{\"attributes\":{\"data_source\":{\"id\":\"1243\"},\"glyph\":{\"id\":\"1244\"},\"hover_glyph\":null,\"muted_glyph\":null,\"nonselection_glyph\":{\"id\":\"1245\"},\"selection_glyph\":null,\"view\":{\"id\":\"1247\"}},\"id\":\"1246\",\"type\":\"GlyphRenderer\"},{\"attributes\":{\"source\":{\"id\":\"1198\"}},\"id\":\"1202\",\"type\":\"CDSView\"},{\"attributes\":{},\"id\":\"1883\",\"type\":\"Selection\"},{\"attributes\":{\"axis\":{\"id\":\"1498\"},\"dimension\":1,\"ticker\":null},\"id\":\"1501\",\"type\":\"Grid\"},{\"attributes\":{},\"id\":\"1907\",\"type\":\"Selection\"},{\"attributes\":{},\"id\":\"1948\",\"type\":\"UnionRenderers\"},{\"attributes\":{},\"id\":\"1903\",\"type\":\"Selection\"},{\"attributes\":{\"data\":{\"x\":[2.0,2.0],\"y\":[0,0.10216672531931116]},\"selected\":{\"id\":\"2013\"},\"selection_policy\":{\"id\":\"2014\"}},\"id\":\"1543\",\"type\":\"ColumnDataSource\"},{\"attributes\":{},\"id\":\"1955\",\"type\":\"Selection\"},{\"attributes\":{\"data_source\":{\"id\":\"1518\"},\"glyph\":{\"id\":\"1519\"},\"hover_glyph\":null,\"muted_glyph\":null,\"nonselection_glyph\":{\"id\":\"1520\"},\"selection_glyph\":null,\"view\":{\"id\":\"1522\"}},\"id\":\"1521\",\"type\":\"GlyphRenderer\"},{\"attributes\":{},\"id\":\"1875\",\"type\":\"Selection\"},{\"attributes\":{},\"id\":\"2015\",\"type\":\"Selection\"},{\"attributes\":{},\"id\":\"2036\",\"type\":\"UnionRenderers\"},{\"attributes\":{},\"id\":\"1864\",\"type\":\"UnionRenderers\"},{\"attributes\":{},\"id\":\"2051\",\"type\":\"Selection\"},{\"attributes\":{},\"id\":\"1835\",\"type\":\"Selection\"},{\"attributes\":{\"source\":{\"id\":\"1508\"}},\"id\":\"1512\",\"type\":\"CDSView\"},{\"attributes\":{},\"id\":\"2016\",\"type\":\"UnionRenderers\"},{\"attributes\":{\"data_source\":{\"id\":\"1508\"},\"glyph\":{\"id\":\"1509\"},\"hover_glyph\":null,\"muted_glyph\":null,\"nonselection_glyph\":{\"id\":\"1510\"},\"selection_glyph\":null,\"view\":{\"id\":\"1512\"}},\"id\":\"1511\",\"type\":\"GlyphRenderer\"},{\"attributes\":{},\"id\":\"1872\",\"type\":\"UnionRenderers\"},{\"attributes\":{},\"id\":\"1960\",\"type\":\"UnionRenderers\"},{\"attributes\":{\"fill_alpha\":0.1,\"fill_color\":\"orange\",\"x\":{\"field\":\"x\"},\"y1\":{\"field\":\"y1\"},\"y2\":{\"field\":\"y2\"}},\"id\":\"1520\",\"type\":\"VArea\"},{\"attributes\":{},\"id\":\"1010\",\"type\":\"LinearScale\"},{\"attributes\":{\"source\":{\"id\":\"1543\"}},\"id\":\"1547\",\"type\":\"CDSView\"},{\"attributes\":{},\"id\":\"1906\",\"type\":\"UnionRenderers\"},{\"attributes\":{\"source\":{\"id\":\"1548\"}},\"id\":\"1552\",\"type\":\"CDSView\"},{\"attributes\":{\"source\":{\"id\":\"1588\"}},\"id\":\"1592\",\"type\":\"CDSView\"},{\"attributes\":{},\"id\":\"2052\",\"type\":\"UnionRenderers\"},{\"attributes\":{\"fill_alpha\":0.1,\"fill_color\":\"orange\",\"x\":{\"field\":\"x\"},\"y1\":{\"field\":\"y1\"},\"y2\":{\"field\":\"y2\"}},\"id\":\"1550\",\"type\":\"VArea\"},{\"attributes\":{},\"id\":\"2017\",\"type\":\"Selection\"},{\"attributes\":{},\"id\":\"2044\",\"type\":\"UnionRenderers\"},{\"attributes\":{\"data_source\":{\"id\":\"1543\"},\"glyph\":{\"id\":\"1544\"},\"hover_glyph\":null,\"muted_glyph\":null,\"nonselection_glyph\":{\"id\":\"1545\"},\"selection_glyph\":null,\"view\":{\"id\":\"1547\"}},\"id\":\"1546\",\"type\":\"GlyphRenderer\"},{\"attributes\":{},\"id\":\"2042\",\"type\":\"UnionRenderers\"},{\"attributes\":{\"fill_alpha\":0.2,\"fill_color\":\"orange\",\"x\":{\"field\":\"x\"},\"y1\":{\"field\":\"y1\"},\"y2\":{\"field\":\"y2\"}},\"id\":\"1549\",\"type\":\"VArea\"},{\"attributes\":{},\"id\":\"1956\",\"type\":\"UnionRenderers\"},{\"attributes\":{},\"id\":\"2018\",\"type\":\"UnionRenderers\"},{\"attributes\":{\"data\":{\"x\":[0.0,0.0],\"y\":[0,0.10216672531931116]},\"selected\":{\"id\":\"2005\"},\"selection_policy\":{\"id\":\"2006\"}},\"id\":\"1523\",\"type\":\"ColumnDataSource\"},{\"attributes\":{},\"id\":\"1873\",\"type\":\"Selection\"},{\"attributes\":{\"line_alpha\":0.1,\"line_color\":\"orange\",\"x\":{\"field\":\"x\"},\"y\":{\"field\":\"y\"}},\"id\":\"1515\",\"type\":\"Line\"},{\"attributes\":{},\"id\":\"1844\",\"type\":\"UnionRenderers\"},{\"attributes\":{\"background_fill_color\":\"#fafafa\",\"below\":[{\"id\":\"1014\"}],\"center\":[{\"id\":\"1017\"},{\"id\":\"1021\"}],\"frame_height\":200,\"frame_width\":200,\"left\":[{\"id\":\"1018\"}],\"renderers\":[{\"id\":\"1026\"},{\"id\":\"1031\"},{\"id\":\"1036\"},{\"id\":\"1041\"},{\"id\":\"1046\"},{\"id\":\"1051\"},{\"id\":\"1056\"},{\"id\":\"1061\"},{\"id\":\"1066\"},{\"id\":\"1071\"},{\"id\":\"1076\"},{\"id\":\"1081\"},{\"id\":\"1086\"},{\"id\":\"1091\"},{\"id\":\"1096\"},{\"id\":\"1101\"},{\"id\":\"1106\"},{\"id\":\"1111\"},{\"id\":\"1116\"},{\"id\":\"1121\"},{\"id\":\"1126\"},{\"id\":\"1131\"},{\"id\":\"1136\"},{\"id\":\"1141\"},{\"id\":\"1146\"},{\"id\":\"1151\"},{\"id\":\"1156\"},{\"id\":\"1161\"}],\"title\":{\"id\":\"1004\"},\"toolbar\":{\"id\":\"1022\"},\"x_range\":{\"id\":\"1006\"},\"x_scale\":{\"id\":\"1010\"},\"y_range\":{\"id\":\"1008\"},\"y_scale\":{\"id\":\"1012\"}},\"id\":\"1003\",\"subtype\":\"Figure\",\"type\":\"Plot\"},{\"attributes\":{\"source\":{\"id\":\"1513\"}},\"id\":\"1517\",\"type\":\"CDSView\"},{\"attributes\":{},\"id\":\"1874\",\"type\":\"UnionRenderers\"},{\"attributes\":{\"source\":{\"id\":\"1518\"}},\"id\":\"1522\",\"type\":\"CDSView\"},{\"attributes\":{\"axis_label\":\"density\",\"formatter\":{\"id\":\"1809\"},\"ticker\":{\"id\":\"1019\"}},\"id\":\"1018\",\"type\":\"LinearAxis\"},{\"attributes\":{\"axis_label\":\"density\",\"formatter\":{\"id\":\"1821\"},\"ticker\":{\"id\":\"1499\"}},\"id\":\"1498\",\"type\":\"LinearAxis\"},{\"attributes\":{},\"id\":\"1957\",\"type\":\"Selection\"},{\"attributes\":{\"fill_alpha\":0.2,\"fill_color\":\"orange\",\"x\":{\"field\":\"x\"},\"y1\":{\"field\":\"y1\"},\"y2\":{\"field\":\"y2\"}},\"id\":\"1534\",\"type\":\"VArea\"},{\"attributes\":{},\"id\":\"1911\",\"type\":\"Selection\"},{\"attributes\":{},\"id\":\"2025\",\"type\":\"Selection\"},{\"attributes\":{},\"id\":\"1845\",\"type\":\"Selection\"},{\"attributes\":{\"data_source\":{\"id\":\"1593\"},\"glyph\":{\"id\":\"1594\"},\"hover_glyph\":null,\"muted_glyph\":null,\"nonselection_glyph\":{\"id\":\"1595\"},\"selection_glyph\":null,\"view\":{\"id\":\"1597\"}},\"id\":\"1596\",\"type\":\"GlyphRenderer\"},{\"attributes\":{},\"id\":\"1958\",\"type\":\"UnionRenderers\"},{\"attributes\":{},\"id\":\"2050\",\"type\":\"UnionRenderers\"},{\"attributes\":{\"source\":{\"id\":\"1578\"}},\"id\":\"1582\",\"type\":\"CDSView\"},{\"attributes\":{},\"id\":\"2013\",\"type\":\"Selection\"},{\"attributes\":{\"line_color\":\"orange\",\"x\":{\"field\":\"x\"},\"y\":{\"field\":\"y\"}},\"id\":\"1584\",\"type\":\"Line\"},{\"attributes\":{},\"id\":\"1876\",\"type\":\"UnionRenderers\"},{\"attributes\":{},\"id\":\"2014\",\"type\":\"UnionRenderers\"},{\"attributes\":{\"data_source\":{\"id\":\"1503\"},\"glyph\":{\"id\":\"1504\"},\"hover_glyph\":null,\"muted_glyph\":null,\"nonselection_glyph\":{\"id\":\"1505\"},\"selection_glyph\":null,\"view\":{\"id\":\"1507\"}},\"id\":\"1506\",\"type\":\"GlyphRenderer\"},{\"attributes\":{\"line_color\":\"orange\",\"x\":{\"field\":\"x\"},\"y\":{\"field\":\"y\"}},\"id\":\"1719\",\"type\":\"Line\"},{\"attributes\":{},\"id\":\"1942\",\"type\":\"UnionRenderers\"},{\"attributes\":{\"bottom\":{\"value\":0},\"fill_alpha\":{\"value\":0.1},\"fill_color\":{\"value\":\"navy\"},\"left\":{\"field\":\"left\"},\"line_alpha\":{\"value\":0.1},\"line_color\":{\"value\":\"white\"},\"right\":{\"field\":\"right\"},\"top\":{\"field\":\"top\"}},\"id\":\"1505\",\"type\":\"Quad\"},{\"attributes\":{\"line_alpha\":0.1,\"line_color\":\"orange\",\"x\":{\"field\":\"x\"},\"y\":{\"field\":\"y\"}},\"id\":\"1525\",\"type\":\"Line\"},{\"attributes\":{},\"id\":\"2041\",\"type\":\"Selection\"},{\"attributes\":{\"line_alpha\":0.1,\"line_color\":\"orange\",\"x\":{\"field\":\"x\"},\"y\":{\"field\":\"y\"}},\"id\":\"1545\",\"type\":\"Line\"},{\"attributes\":{},\"id\":\"1904\",\"type\":\"UnionRenderers\"},{\"attributes\":{},\"id\":\"1863\",\"type\":\"Selection\"},{\"attributes\":{},\"id\":\"2099\",\"type\":\"Selection\"},{\"attributes\":{\"source\":{\"id\":\"1538\"}},\"id\":\"1542\",\"type\":\"CDSView\"},{\"attributes\":{},\"id\":\"1837\",\"type\":\"Selection\"},{\"attributes\":{},\"id\":\"1912\",\"type\":\"UnionRenderers\"},{\"attributes\":{\"data_source\":{\"id\":\"1533\"},\"glyph\":{\"id\":\"1534\"},\"hover_glyph\":null,\"muted_glyph\":null,\"nonselection_glyph\":{\"id\":\"1535\"},\"selection_glyph\":null,\"view\":{\"id\":\"1537\"}},\"id\":\"1536\",\"type\":\"GlyphRenderer\"},{\"attributes\":{\"data_source\":{\"id\":\"1523\"},\"glyph\":{\"id\":\"1524\"},\"hover_glyph\":null,\"muted_glyph\":null,\"nonselection_glyph\":{\"id\":\"1525\"},\"selection_glyph\":null,\"view\":{\"id\":\"1527\"}},\"id\":\"1526\",\"type\":\"GlyphRenderer\"},{\"attributes\":{},\"id\":\"1848\",\"type\":\"UnionRenderers\"},{\"attributes\":{},\"id\":\"1959\",\"type\":\"Selection\"},{\"attributes\":{\"data\":{\"x\":[1.0,1.0],\"y\":[0,0.10216672531931116]},\"selected\":{\"id\":\"2007\"},\"selection_policy\":{\"id\":\"2008\"}},\"id\":\"1528\",\"type\":\"ColumnDataSource\"},{\"attributes\":{\"line_color\":\"orange\",\"x\":{\"field\":\"x\"},\"y\":{\"field\":\"y\"}},\"id\":\"1589\",\"type\":\"Line\"},{\"attributes\":{},\"id\":\"2103\",\"type\":\"Selection\"},{\"attributes\":{\"data\":{\"x\":[5.0,5.0],\"y\":[0,0.10216672531931116]},\"selected\":{\"id\":\"2031\"},\"selection_policy\":{\"id\":\"2032\"}},\"id\":\"1588\",\"type\":\"ColumnDataSource\"},{\"attributes\":{},\"id\":\"2043\",\"type\":\"Selection\"},{\"attributes\":{\"line_alpha\":0.1,\"line_color\":\"orange\",\"x\":{\"field\":\"x\"},\"y\":{\"field\":\"y\"}},\"id\":\"1590\",\"type\":\"Line\"},{\"attributes\":{},\"id\":\"2019\",\"type\":\"Selection\"},{\"attributes\":{},\"id\":\"2100\",\"type\":\"UnionRenderers\"},{\"attributes\":{},\"id\":\"1954\",\"type\":\"UnionRenderers\"},{\"attributes\":{\"data\":{\"x\":[-1.0,-1.0],\"y\":[0,0.10216672531931116]},\"selected\":{\"id\":\"1999\"},\"selection_policy\":{\"id\":\"2000\"}},\"id\":\"1508\",\"type\":\"ColumnDataSource\"},{\"attributes\":{\"data\":{\"x\":[-1.0,0.0],\"y1\":[0,0],\"y2\":[0.10216672531931116,0.10216672531931116]},\"selected\":{\"id\":\"2003\"},\"selection_policy\":{\"id\":\"2004\"}},\"id\":\"1518\",\"type\":\"ColumnDataSource\"},{\"attributes\":{},\"id\":\"1947\",\"type\":\"Selection\"},{\"attributes\":{},\"id\":\"2101\",\"type\":\"Selection\"},{\"attributes\":{},\"id\":\"1019\",\"type\":\"BasicTicker\"},{\"attributes\":{\"line_color\":\"orange\",\"x\":{\"field\":\"x\"},\"y\":{\"field\":\"y\"}},\"id\":\"1509\",\"type\":\"Line\"},{\"attributes\":{},\"id\":\"2020\",\"type\":\"UnionRenderers\"},{\"attributes\":{\"line_alpha\":0.1,\"line_color\":\"orange\",\"x\":{\"field\":\"x\"},\"y\":{\"field\":\"y\"}},\"id\":\"1585\",\"type\":\"Line\"},{\"attributes\":{},\"id\":\"2022\",\"type\":\"UnionRenderers\"},{\"attributes\":{\"axis_label\":\"\\u0394E [k_BT]\",\"formatter\":{\"id\":\"1811\"},\"ticker\":{\"id\":\"1015\"}},\"id\":\"1014\",\"type\":\"LinearAxis\"},{\"attributes\":{\"active_drag\":\"auto\",\"active_inspect\":\"auto\",\"active_multi\":null,\"active_scroll\":\"auto\",\"active_tap\":\"auto\"},\"id\":\"1502\",\"type\":\"Toolbar\"},{\"attributes\":{},\"id\":\"1871\",\"type\":\"Selection\"},{\"attributes\":{},\"id\":\"1015\",\"type\":\"BasicTicker\"},{\"attributes\":{\"source\":{\"id\":\"1503\"}},\"id\":\"1507\",\"type\":\"CDSView\"},{\"attributes\":{},\"id\":\"1953\",\"type\":\"Selection\"},{\"attributes\":{\"data\":{\"x\":[4.0,4.0],\"y\":[0,0.10216672531931116]},\"selected\":{\"id\":\"2029\"},\"selection_policy\":{\"id\":\"2030\"}},\"id\":\"1583\",\"type\":\"ColumnDataSource\"},{\"attributes\":{\"line_color\":\"orange\",\"x\":{\"field\":\"x\"},\"y\":{\"field\":\"y\"}},\"id\":\"1514\",\"type\":\"Line\"},{\"attributes\":{},\"id\":\"1866\",\"type\":\"UnionRenderers\"},{\"attributes\":{},\"id\":\"1949\",\"type\":\"Selection\"},{\"attributes\":{\"axis\":{\"id\":\"1018\"},\"dimension\":1,\"ticker\":null},\"id\":\"1021\",\"type\":\"Grid\"},{\"attributes\":{\"data\":{\"x\":[0.0,0.0],\"y\":[0,0.10216672531931116]},\"selected\":{\"id\":\"2001\"},\"selection_policy\":{\"id\":\"2002\"}},\"id\":\"1513\",\"type\":\"ColumnDataSource\"},{\"attributes\":{},\"id\":\"2048\",\"type\":\"UnionRenderers\"},{\"attributes\":{\"background_fill_color\":\"#fafafa\",\"below\":[{\"id\":\"1654\"}],\"center\":[{\"id\":\"1657\"},{\"id\":\"1661\"}],\"frame_height\":200,\"frame_width\":200,\"left\":[{\"id\":\"1658\"}],\"renderers\":[{\"id\":\"1666\"},{\"id\":\"1671\"},{\"id\":\"1676\"},{\"id\":\"1681\"},{\"id\":\"1686\"},{\"id\":\"1691\"},{\"id\":\"1696\"},{\"id\":\"1701\"},{\"id\":\"1706\"},{\"id\":\"1711\"},{\"id\":\"1716\"},{\"id\":\"1721\"},{\"id\":\"1726\"},{\"id\":\"1731\"},{\"id\":\"1736\"},{\"id\":\"1741\"},{\"id\":\"1746\"},{\"id\":\"1751\"},{\"id\":\"1756\"},{\"id\":\"1761\"},{\"id\":\"1766\"},{\"id\":\"1771\"},{\"id\":\"1776\"},{\"id\":\"1781\"},{\"id\":\"1786\"},{\"id\":\"1791\"},{\"id\":\"1796\"},{\"id\":\"1801\"}],\"title\":{\"id\":\"1644\"},\"toolbar\":{\"id\":\"1662\"},\"x_range\":{\"id\":\"1646\"},\"x_scale\":{\"id\":\"1650\"},\"y_range\":{\"id\":\"1648\"},\"y_scale\":{\"id\":\"1652\"}},\"id\":\"1643\",\"subtype\":\"Figure\",\"type\":\"Plot\"},{\"attributes\":{},\"id\":\"1012\",\"type\":\"LinearScale\"},{\"attributes\":{},\"id\":\"1870\",\"type\":\"UnionRenderers\"},{\"attributes\":{\"line_color\":\"orange\",\"x\":{\"field\":\"x\"},\"y\":{\"field\":\"y\"}},\"id\":\"1539\",\"type\":\"Line\"},{\"attributes\":{},\"id\":\"1905\",\"type\":\"Selection\"},{\"attributes\":{\"axis\":{\"id\":\"1014\"},\"ticker\":null},\"id\":\"1017\",\"type\":\"Grid\"},{\"attributes\":{\"data\":{\"x\":[1.0,1.0],\"y\":[0,0.10216672531931116]},\"selected\":{\"id\":\"2011\"},\"selection_policy\":{\"id\":\"2012\"}},\"id\":\"1538\",\"type\":\"ColumnDataSource\"},{\"attributes\":{},\"id\":\"1843\",\"type\":\"Selection\"},{\"attributes\":{\"data_source\":{\"id\":\"1538\"},\"glyph\":{\"id\":\"1539\"},\"hover_glyph\":null,\"muted_glyph\":null,\"nonselection_glyph\":{\"id\":\"1540\"},\"selection_glyph\":null,\"view\":{\"id\":\"1542\"}},\"id\":\"1541\",\"type\":\"GlyphRenderer\"},{\"attributes\":{},\"id\":\"2021\",\"type\":\"Selection\"},{\"attributes\":{},\"id\":\"2046\",\"type\":\"UnionRenderers\"},{\"attributes\":{\"source\":{\"id\":\"1528\"}},\"id\":\"1532\",\"type\":\"CDSView\"},{\"attributes\":{\"source\":{\"id\":\"1533\"}},\"id\":\"1537\",\"type\":\"CDSView\"},{\"attributes\":{},\"id\":\"1869\",\"type\":\"Selection\"},{\"attributes\":{\"data_source\":{\"id\":\"1548\"},\"glyph\":{\"id\":\"1549\"},\"hover_glyph\":null,\"muted_glyph\":null,\"nonselection_glyph\":{\"id\":\"1550\"},\"selection_glyph\":null,\"view\":{\"id\":\"1552\"}},\"id\":\"1551\",\"type\":\"GlyphRenderer\"},{\"attributes\":{},\"id\":\"1909\",\"type\":\"Selection\"},{\"attributes\":{},\"id\":\"2045\",\"type\":\"Selection\"},{\"attributes\":{\"data_source\":{\"id\":\"1528\"},\"glyph\":{\"id\":\"1529\"},\"hover_glyph\":null,\"muted_glyph\":null,\"nonselection_glyph\":{\"id\":\"1530\"},\"selection_glyph\":null,\"view\":{\"id\":\"1532\"}},\"id\":\"1531\",\"type\":\"GlyphRenderer\"},{\"attributes\":{},\"id\":\"2024\",\"type\":\"UnionRenderers\"},{\"attributes\":{\"line_alpha\":0.1,\"line_color\":\"orange\",\"x\":{\"field\":\"x\"},\"y\":{\"field\":\"y\"}},\"id\":\"1530\",\"type\":\"Line\"},{\"attributes\":{},\"id\":\"2102\",\"type\":\"UnionRenderers\"},{\"attributes\":{\"fill_alpha\":0.1,\"fill_color\":\"orange\",\"x\":{\"field\":\"x\"},\"y1\":{\"field\":\"y1\"},\"y2\":{\"field\":\"y2\"}},\"id\":\"1535\",\"type\":\"VArea\"},{\"attributes\":{\"line_color\":\"orange\",\"x\":{\"field\":\"x\"},\"y\":{\"field\":\"y\"}},\"id\":\"1529\",\"type\":\"Line\"},{\"attributes\":{},\"id\":\"1865\",\"type\":\"Selection\"},{\"attributes\":{\"source\":{\"id\":\"1523\"}},\"id\":\"1527\",\"type\":\"CDSView\"},{\"attributes\":{},\"id\":\"1827\",\"type\":\"BasicTickFormatter\"},{\"attributes\":{},\"id\":\"2047\",\"type\":\"Selection\"},{\"attributes\":{},\"id\":\"2023\",\"type\":\"Selection\"},{\"attributes\":{\"line_alpha\":0.1,\"line_color\":\"orange\",\"x\":{\"field\":\"x\"},\"y\":{\"field\":\"y\"}},\"id\":\"1540\",\"type\":\"Line\"},{\"attributes\":{},\"id\":\"2026\",\"type\":\"UnionRenderers\"},{\"attributes\":{},\"id\":\"2028\",\"type\":\"UnionRenderers\"},{\"attributes\":{\"data_source\":{\"id\":\"1363\"},\"glyph\":{\"id\":\"1364\"},\"hover_glyph\":null,\"muted_glyph\":null,\"nonselection_glyph\":{\"id\":\"1365\"},\"selection_glyph\":null,\"view\":{\"id\":\"1367\"}},\"id\":\"1366\",\"type\":\"GlyphRenderer\"},{\"attributes\":{\"source\":{\"id\":\"1583\"}},\"id\":\"1587\",\"type\":\"CDSView\"},{\"attributes\":{},\"id\":\"1952\",\"type\":\"UnionRenderers\"},{\"attributes\":{},\"id\":\"1951\",\"type\":\"Selection\"},{\"attributes\":{\"fill_alpha\":0.2,\"fill_color\":\"orange\",\"x\":{\"field\":\"x\"},\"y1\":{\"field\":\"y1\"},\"y2\":{\"field\":\"y2\"}},\"id\":\"1519\",\"type\":\"VArea\"},{\"attributes\":{},\"id\":\"1846\",\"type\":\"UnionRenderers\"},{\"attributes\":{},\"id\":\"2049\",\"type\":\"Selection\"},{\"attributes\":{\"data_source\":{\"id\":\"1588\"},\"glyph\":{\"id\":\"1589\"},\"hover_glyph\":null,\"muted_glyph\":null,\"nonselection_glyph\":{\"id\":\"1590\"},\"selection_glyph\":null,\"view\":{\"id\":\"1592\"}},\"id\":\"1591\",\"type\":\"GlyphRenderer\"},{\"attributes\":{},\"id\":\"1867\",\"type\":\"Selection\"},{\"attributes\":{\"bottom\":{\"value\":0},\"fill_alpha\":{\"value\":0.1},\"fill_color\":{\"value\":\"navy\"},\"left\":{\"field\":\"left\"},\"line_alpha\":{\"value\":0.1},\"line_color\":{\"value\":\"white\"},\"right\":{\"field\":\"right\"},\"top\":{\"field\":\"top\"}},\"id\":\"1345\",\"type\":\"Quad\"},{\"attributes\":{\"line_color\":\"orange\",\"x\":{\"field\":\"x\"},\"y\":{\"field\":\"y\"}},\"id\":\"1524\",\"type\":\"Line\"},{\"attributes\":{\"data\":{\"x\":[0.0,1.0],\"y1\":[0,0],\"y2\":[0.10216672531931116,0.10216672531931116]},\"selected\":{\"id\":\"2009\"},\"selection_policy\":{\"id\":\"2010\"}},\"id\":\"1533\",\"type\":\"ColumnDataSource\"},{\"attributes\":{},\"id\":\"1908\",\"type\":\"UnionRenderers\"},{\"attributes\":{\"data_source\":{\"id\":\"1513\"},\"glyph\":{\"id\":\"1514\"},\"hover_glyph\":null,\"muted_glyph\":null,\"nonselection_glyph\":{\"id\":\"1515\"},\"selection_glyph\":null,\"view\":{\"id\":\"1517\"}},\"id\":\"1516\",\"type\":\"GlyphRenderer\"},{\"attributes\":{},\"id\":\"1868\",\"type\":\"UnionRenderers\"},{\"attributes\":{\"data\":{\"x\":[5.0,6.0],\"y1\":[0,0],\"y2\":[0.09586941819837758,0.09586941819837758]},\"selected\":{\"id\":\"2095\"},\"selection_policy\":{\"id\":\"2096\"}},\"id\":\"1768\",\"type\":\"ColumnDataSource\"},{\"attributes\":{\"line_alpha\":0.1,\"line_color\":\"orange\",\"x\":{\"field\":\"x\"},\"y\":{\"field\":\"y\"}},\"id\":\"1510\",\"type\":\"Line\"},{\"attributes\":{},\"id\":\"1950\",\"type\":\"UnionRenderers\"},{\"attributes\":{\"line_color\":\"orange\",\"x\":{\"field\":\"x\"},\"y\":{\"field\":\"y\"}},\"id\":\"1544\",\"type\":\"Line\"},{\"attributes\":{},\"id\":\"1008\",\"type\":\"DataRange1d\"},{\"attributes\":{},\"id\":\"1499\",\"type\":\"BasicTicker\"},{\"attributes\":{\"source\":{\"id\":\"1768\"}},\"id\":\"1772\",\"type\":\"CDSView\"},{\"attributes\":{\"data\":{\"x\":[1.0,2.0],\"y1\":[0,0],\"y2\":[0.10216672531931116,0.10216672531931116]},\"selected\":{\"id\":\"2015\"},\"selection_policy\":{\"id\":\"2016\"}},\"id\":\"1548\",\"type\":\"ColumnDataSource\"},{\"attributes\":{},\"id\":\"1910\",\"type\":\"UnionRenderers\"},{\"attributes\":{\"data_source\":{\"id\":\"1583\"},\"glyph\":{\"id\":\"1584\"},\"hover_glyph\":null,\"muted_glyph\":null,\"nonselection_glyph\":{\"id\":\"1585\"},\"selection_glyph\":null,\"view\":{\"id\":\"1587\"}},\"id\":\"1586\",\"type\":\"GlyphRenderer\"},{\"attributes\":{},\"id\":\"1847\",\"type\":\"Selection\"},{\"attributes\":{\"data\":{\"x\":[8.0,8.0],\"y\":[0,0.09586941819837758]},\"selected\":{\"id\":\"2105\"},\"selection_policy\":{\"id\":\"2106\"}},\"id\":\"1793\",\"type\":\"ColumnDataSource\"},{\"attributes\":{},\"id\":\"2078\",\"type\":\"UnionRenderers\"},{\"attributes\":{\"line_alpha\":0.1,\"line_color\":\"orange\",\"x\":{\"field\":\"x\"},\"y\":{\"field\":\"y\"}},\"id\":\"1790\",\"type\":\"Line\"},{\"attributes\":{\"fill_alpha\":0.1,\"fill_color\":\"orange\",\"x\":{\"field\":\"x\"},\"y1\":{\"field\":\"y1\"},\"y2\":{\"field\":\"y2\"}},\"id\":\"1785\",\"type\":\"VArea\"},{\"attributes\":{},\"id\":\"2063\",\"type\":\"Selection\"},{\"attributes\":{},\"id\":\"2089\",\"type\":\"Selection\"},{\"attributes\":{\"source\":{\"id\":\"1783\"}},\"id\":\"1787\",\"type\":\"CDSView\"},{\"attributes\":{\"fill_alpha\":0.2,\"fill_color\":\"orange\",\"x\":{\"field\":\"x\"},\"y1\":{\"field\":\"y1\"},\"y2\":{\"field\":\"y2\"}},\"id\":\"1694\",\"type\":\"VArea\"},{\"attributes\":{\"line_color\":\"orange\",\"x\":{\"field\":\"x\"},\"y\":{\"field\":\"y\"}},\"id\":\"1794\",\"type\":\"Line\"},{\"attributes\":{\"data\":{\"x\":[7.0,7.0],\"y\":[0,0.09586941819837758]},\"selected\":{\"id\":\"2103\"},\"selection_policy\":{\"id\":\"2104\"}},\"id\":\"1788\",\"type\":\"ColumnDataSource\"},{\"attributes\":{},\"id\":\"2064\",\"type\":\"UnionRenderers\"},{\"attributes\":{\"data_source\":{\"id\":\"1798\"},\"glyph\":{\"id\":\"1799\"},\"hover_glyph\":null,\"muted_glyph\":null,\"nonselection_glyph\":{\"id\":\"1800\"},\"selection_glyph\":null,\"view\":{\"id\":\"1802\"}},\"id\":\"1801\",\"type\":\"GlyphRenderer\"},{\"attributes\":{\"data_source\":{\"id\":\"1788\"},\"glyph\":{\"id\":\"1789\"},\"hover_glyph\":null,\"muted_glyph\":null,\"nonselection_glyph\":{\"id\":\"1790\"},\"selection_glyph\":null,\"view\":{\"id\":\"1792\"}},\"id\":\"1791\",\"type\":\"GlyphRenderer\"},{\"attributes\":{\"source\":{\"id\":\"1788\"}},\"id\":\"1792\",\"type\":\"CDSView\"},{\"attributes\":{},\"id\":\"2034\",\"type\":\"UnionRenderers\"},{\"attributes\":{},\"id\":\"2068\",\"type\":\"UnionRenderers\"},{\"attributes\":{\"data_source\":{\"id\":\"1793\"},\"glyph\":{\"id\":\"1794\"},\"hover_glyph\":null,\"muted_glyph\":null,\"nonselection_glyph\":{\"id\":\"1795\"},\"selection_glyph\":null,\"view\":{\"id\":\"1797\"}},\"id\":\"1796\",\"type\":\"GlyphRenderer\"},{\"attributes\":{},\"id\":\"2070\",\"type\":\"UnionRenderers\"},{\"attributes\":{\"fill_alpha\":0.2,\"fill_color\":\"orange\",\"x\":{\"field\":\"x\"},\"y1\":{\"field\":\"y1\"},\"y2\":{\"field\":\"y2\"}},\"id\":\"1799\",\"type\":\"VArea\"},{\"attributes\":{\"line_alpha\":0.1,\"line_color\":\"orange\",\"x\":{\"field\":\"x\"},\"y\":{\"field\":\"y\"}},\"id\":\"1795\",\"type\":\"Line\"},{\"attributes\":{},\"id\":\"2088\",\"type\":\"UnionRenderers\"},{\"attributes\":{},\"id\":\"2087\",\"type\":\"Selection\"},{\"attributes\":{\"source\":{\"id\":\"1793\"}},\"id\":\"1797\",\"type\":\"CDSView\"},{\"attributes\":{\"data\":{\"x\":[7.0,8.0],\"y1\":[0,0],\"y2\":[0.09586941819837758,0.09586941819837758]},\"selected\":{\"id\":\"2107\"},\"selection_policy\":{\"id\":\"2108\"}},\"id\":\"1798\",\"type\":\"ColumnDataSource\"},{\"attributes\":{\"source\":{\"id\":\"1798\"}},\"id\":\"1802\",\"type\":\"CDSView\"},{\"attributes\":{},\"id\":\"2033\",\"type\":\"Selection\"},{\"attributes\":{\"fill_alpha\":0.2,\"fill_color\":\"orange\",\"x\":{\"field\":\"x\"},\"y1\":{\"field\":\"y1\"},\"y2\":{\"field\":\"y2\"}},\"id\":\"1784\",\"type\":\"VArea\"},{\"attributes\":{},\"id\":\"1811\",\"type\":\"BasicTickFormatter\"},{\"attributes\":{},\"id\":\"2072\",\"type\":\"UnionRenderers\"},{\"attributes\":{\"line_color\":\"orange\",\"x\":{\"field\":\"x\"},\"y\":{\"field\":\"y\"}},\"id\":\"1779\",\"type\":\"Line\"},{\"attributes\":{},\"id\":\"2082\",\"type\":\"UnionRenderers\"},{\"attributes\":{},\"id\":\"2067\",\"type\":\"Selection\"},{\"attributes\":{},\"id\":\"2083\",\"type\":\"Selection\"},{\"attributes\":{},\"id\":\"1927\",\"type\":\"Selection\"},{\"attributes\":{},\"id\":\"2081\",\"type\":\"Selection\"},{\"attributes\":{},\"id\":\"1928\",\"type\":\"UnionRenderers\"},{\"attributes\":{\"fill_alpha\":0.2,\"fill_color\":\"orange\",\"x\":{\"field\":\"x\"},\"y1\":{\"field\":\"y1\"},\"y2\":{\"field\":\"y2\"}},\"id\":\"1769\",\"type\":\"VArea\"},{\"attributes\":{},\"id\":\"2069\",\"type\":\"Selection\"},{\"attributes\":{},\"id\":\"2074\",\"type\":\"UnionRenderers\"},{\"attributes\":{},\"id\":\"2084\",\"type\":\"UnionRenderers\"},{\"attributes\":{},\"id\":\"2090\",\"type\":\"UnionRenderers\"},{\"attributes\":{\"text\":\"mutations = 2\"},\"id\":\"1004\",\"type\":\"Title\"},{\"attributes\":{},\"id\":\"2076\",\"type\":\"UnionRenderers\"},{\"attributes\":{},\"id\":\"2077\",\"type\":\"Selection\"},{\"attributes\":{},\"id\":\"2071\",\"type\":\"Selection\"},{\"attributes\":{},\"id\":\"2066\",\"type\":\"UnionRenderers\"},{\"attributes\":{},\"id\":\"2085\",\"type\":\"Selection\"},{\"attributes\":{},\"id\":\"2080\",\"type\":\"UnionRenderers\"},{\"attributes\":{\"line_alpha\":0.1,\"line_color\":\"orange\",\"x\":{\"field\":\"x\"},\"y\":{\"field\":\"y\"}},\"id\":\"1715\",\"type\":\"Line\"},{\"attributes\":{},\"id\":\"2086\",\"type\":\"UnionRenderers\"},{\"attributes\":{},\"id\":\"1840\",\"type\":\"UnionRenderers\"},{\"attributes\":{},\"id\":\"2079\",\"type\":\"Selection\"},{\"attributes\":{},\"id\":\"2065\",\"type\":\"Selection\"},{\"attributes\":{},\"id\":\"2073\",\"type\":\"Selection\"},{\"attributes\":{\"data_source\":{\"id\":\"1723\"},\"glyph\":{\"id\":\"1724\"},\"hover_glyph\":null,\"muted_glyph\":null,\"nonselection_glyph\":{\"id\":\"1725\"},\"selection_glyph\":null,\"view\":{\"id\":\"1727\"}},\"id\":\"1726\",\"type\":\"GlyphRenderer\"},{\"attributes\":{\"line_color\":\"orange\",\"x\":{\"field\":\"x\"},\"y\":{\"field\":\"y\"}},\"id\":\"1789\",\"type\":\"Line\"},{\"attributes\":{},\"id\":\"2075\",\"type\":\"Selection\"},{\"attributes\":{\"fill_alpha\":0.1,\"fill_color\":\"orange\",\"x\":{\"field\":\"x\"},\"y1\":{\"field\":\"y1\"},\"y2\":{\"field\":\"y2\"}},\"id\":\"1800\",\"type\":\"VArea\"},{\"attributes\":{\"line_alpha\":0.1,\"line_color\":\"orange\",\"x\":{\"field\":\"x\"},\"y\":{\"field\":\"y\"}},\"id\":\"1475\",\"type\":\"Line\"},{\"attributes\":{},\"id\":\"1990\",\"type\":\"UnionRenderers\"},{\"attributes\":{\"data_source\":{\"id\":\"1473\"},\"glyph\":{\"id\":\"1474\"},\"hover_glyph\":null,\"muted_glyph\":null,\"nonselection_glyph\":{\"id\":\"1475\"},\"selection_glyph\":null,\"view\":{\"id\":\"1477\"}},\"id\":\"1476\",\"type\":\"GlyphRenderer\"},{\"attributes\":{},\"id\":\"1992\",\"type\":\"UnionRenderers\"},{\"attributes\":{\"bottom\":{\"value\":0},\"fill_alpha\":{\"value\":0.5},\"fill_color\":{\"value\":\"navy\"},\"left\":{\"field\":\"left\"},\"line_alpha\":{\"value\":0.5},\"line_color\":{\"value\":\"white\"},\"right\":{\"field\":\"right\"},\"top\":{\"field\":\"top\"}},\"id\":\"1504\",\"type\":\"Quad\"},{\"attributes\":{},\"id\":\"2002\",\"type\":\"UnionRenderers\"},{\"attributes\":{\"text\":\"mutations = 5\"},\"id\":\"1484\",\"type\":\"Title\"},{\"attributes\":{},\"id\":\"2097\",\"type\":\"Selection\"},{\"attributes\":{},\"id\":\"1492\",\"type\":\"LinearScale\"},{\"attributes\":{},\"id\":\"2098\",\"type\":\"UnionRenderers\"},{\"attributes\":{\"data\":{\"x\":[8.0,8.0],\"y\":[0,0.109851487551521]},\"selected\":{\"id\":\"1993\"},\"selection_policy\":{\"id\":\"1994\"}},\"id\":\"1473\",\"type\":\"ColumnDataSource\"},{\"attributes\":{},\"id\":\"1996\",\"type\":\"UnionRenderers\"},{\"attributes\":{\"source\":{\"id\":\"1468\"}},\"id\":\"1472\",\"type\":\"CDSView\"},{\"attributes\":{},\"id\":\"2095\",\"type\":\"Selection\"},{\"attributes\":{\"fill_alpha\":0.2,\"fill_color\":\"orange\",\"x\":{\"field\":\"x\"},\"y1\":{\"field\":\"y1\"},\"y2\":{\"field\":\"y2\"}},\"id\":\"1479\",\"type\":\"VArea\"},{\"attributes\":{\"data\":{\"x\":[7.0,8.0],\"y1\":[0,0],\"y2\":[0.109851487551521,0.109851487551521]},\"selected\":{\"id\":\"1995\"},\"selection_policy\":{\"id\":\"1996\"}},\"id\":\"1478\",\"type\":\"ColumnDataSource\"},{\"attributes\":{},\"id\":\"1970\",\"type\":\"UnionRenderers\"},{\"attributes\":{},\"id\":\"2003\",\"type\":\"Selection\"},{\"attributes\":{\"source\":{\"id\":\"1473\"}},\"id\":\"1477\",\"type\":\"CDSView\"},{\"attributes\":{\"source\":{\"id\":\"1478\"}},\"id\":\"1482\",\"type\":\"CDSView\"},{\"attributes\":{},\"id\":\"1486\",\"type\":\"DataRange1d\"},{\"attributes\":{},\"id\":\"1490\",\"type\":\"LinearScale\"},{\"attributes\":{},\"id\":\"1997\",\"type\":\"Selection\"},{\"attributes\":{},\"id\":\"1495\",\"type\":\"BasicTicker\"},{\"attributes\":{},\"id\":\"2004\",\"type\":\"UnionRenderers\"},{\"attributes\":{},\"id\":\"2106\",\"type\":\"UnionRenderers\"},{\"attributes\":{\"data\":{\"left\":{\"__ndarray__\":\"9CH7YucU1b/UmgQGQAnOP2Tef7QTj+k/CUu/s+vN9T/hpj6NTdT+P1wBX7NX7QNASK8eoIhwCEA0Xd6MufMMQJAFzzx1uxBAhtwusw39EkB8s44ppj4VQHKK7p8+gBdAZ2FOFtfBGUBdOK6MbwMcQFMPDgMIRR5AJPO2PFBDIECf3uZ3HGQhQBrKFrPohCJAlbVG7rSlI0AQoXYpgcYkQIuMpmRN5yVABnjWnxkIJ0CBYwbb5SgoQPxONhaySSlAdjpmUX5qKkDxJZaMSosrQGwRxscWrCxA5/z1AuPMLUBi6CU+r+0uQO/pqrw9BzBArN9C2qOXMEBq1dr3CSgxQCfLchVwuDFA5MAKM9ZIMkCitqJQPNkyQF+sOm6iaTNAHaLSiwj6M0Dal2qpboo0QJiNAsfUGjVAVYOa5DqrNUATeTICoTs2QNBuyh8HzDZAjmRiPW1cN0BLWvpa0+w3QAlQkng5fThAxkUqlp8NOUCEO8KzBZ45QEExWtFrLjpA/iby7tG+OkC8HIoMOE87QA==\",\"dtype\":\"float64\",\"shape\":[50]},\"right\":{\"__ndarray__\":\"1JoEBkAJzj9k3n+0E4/pPwlLv7PrzfU/4aY+jU3U/j9cAV+zV+0DQEivHqCIcAhANF3ejLnzDECQBc88dbsQQIbcLrMN/RJAfLOOKaY+FUByiu6fPoAXQGdhThbXwRlAXTiujG8DHEBTDw4DCEUeQCTztjxQQyBAn97mdxxkIUAayhaz6IQiQJW1Ru60pSNAEKF2KYHGJECLjKZkTeclQAZ41p8ZCCdAgWMG2+UoKED8TjYWskkpQHY6ZlF+aipA8SWWjEqLK0BsEcbHFqwsQOf89QLjzC1AYuglPq/tLkDv6aq8PQcwQKzfQtqjlzBAatXa9wkoMUAny3IVcLgxQOTACjPWSDJAoraiUDzZMkBfrDpuomkzQB2i0osI+jNA2pdqqW6KNECYjQLH1Bo1QFWDmuQ6qzVAE3kyAqE7NkDQbsofB8w2QI5kYj1tXDdAS1r6WtPsN0AJUJJ4OX04QMZFKpafDTlAhDvCswWeOUBBMVrRay46QP4m8u7RvjpAvByKDDhPO0B5EiIqnt87QA==\",\"dtype\":\"float64\",\"shape\":[50]},\"top\":{\"__ndarray__\":\"wCevGIdwMD89SBLGkk82P1WZ0BxgJVA/M/9PbaCFYz9Nfub/cDNyP/wq/QQVfH8/5U+2+j0ehz+oqBiGtsKRP1iPq1Ha5Zg/59bHn/eAoD9r3urosPikP961YEQkRqk/Fvcodh+yrT+DYCqeIOewP33fP0X/PbM/JZj61B+JtT+oosZAeEG3P+jNzDcav7g/GWH8N5knuj8GsLrjfeO5P5sHRye267k/dqXDfn9juT/GnkmtfBK4P5qN2HZ7QbY/pXJvRX6mtD9/XqveKSSzPyIdjbriKLE/6mLPEvjLrD843BU3bqapPxgBI0j/KaY/GjXOtDLaoT8S+6UJG+GcPxBOjS2T6pY/ePerOPW2kj8GsGTxMVSMP9+DC3UlP4U/beQRNUmygD+sVYdUikh1PyBd078F2m8/7C77gwICaz9i2pZ3d+NbPwBlz73g5VY/dStVzkS5RT/F1B3nWvZDPxsv+4MCAjs/sSevGIdwMD/PaHVzni4cPzWbo/e+yQI/AAAAAAAAAAA1m6P3vsnyPg==\",\"dtype\":\"float64\",\"shape\":[50]}},\"selected\":{\"id\":\"1997\"},\"selection_policy\":{\"id\":\"1998\"}},\"id\":\"1503\",\"type\":\"ColumnDataSource\"},{\"attributes\":{},\"id\":\"1969\",\"type\":\"Selection\"},{\"attributes\":{},\"id\":\"1488\",\"type\":\"DataRange1d\"},{\"attributes\":{},\"id\":\"1989\",\"type\":\"Selection\"},{\"attributes\":{\"fill_alpha\":0.1,\"fill_color\":\"orange\",\"x\":{\"field\":\"x\"},\"y1\":{\"field\":\"y1\"},\"y2\":{\"field\":\"y2\"}},\"id\":\"1480\",\"type\":\"VArea\"},{\"attributes\":{},\"id\":\"1978\",\"type\":\"UnionRenderers\"},{\"attributes\":{\"axis_label\":\"\\u0394E [k_BT]\",\"formatter\":{\"id\":\"1823\"},\"ticker\":{\"id\":\"1495\"}},\"id\":\"1494\",\"type\":\"LinearAxis\"},{\"attributes\":{},\"id\":\"1975\",\"type\":\"Selection\"},{\"attributes\":{},\"id\":\"2000\",\"type\":\"UnionRenderers\"},{\"attributes\":{},\"id\":\"2107\",\"type\":\"Selection\"},{\"attributes\":{\"line_color\":\"orange\",\"x\":{\"field\":\"x\"},\"y\":{\"field\":\"y\"}},\"id\":\"1474\",\"type\":\"Line\"},{\"attributes\":{},\"id\":\"2010\",\"type\":\"UnionRenderers\"},{\"attributes\":{},\"id\":\"2009\",\"type\":\"Selection\"},{\"attributes\":{},\"id\":\"1972\",\"type\":\"UnionRenderers\"},{\"attributes\":{},\"id\":\"2005\",\"type\":\"Selection\"},{\"attributes\":{\"axis\":{\"id\":\"1494\"},\"ticker\":null},\"id\":\"1497\",\"type\":\"Grid\"},{\"attributes\":{},\"id\":\"1979\",\"type\":\"Selection\"},{\"attributes\":{},\"id\":\"1971\",\"type\":\"Selection\"},{\"attributes\":{},\"id\":\"2108\",\"type\":\"UnionRenderers\"},{\"attributes\":{},\"id\":\"1973\",\"type\":\"Selection\"},{\"attributes\":{},\"id\":\"2092\",\"type\":\"UnionRenderers\"},{\"attributes\":{},\"id\":\"2091\",\"type\":\"Selection\"},{\"attributes\":{},\"id\":\"2040\",\"type\":\"UnionRenderers\"},{\"attributes\":{},\"id\":\"2007\",\"type\":\"Selection\"},{\"attributes\":{},\"id\":\"2008\",\"type\":\"UnionRenderers\"},{\"attributes\":{},\"id\":\"2006\",\"type\":\"UnionRenderers\"},{\"attributes\":{},\"id\":\"2011\",\"type\":\"Selection\"},{\"attributes\":{},\"id\":\"2030\",\"type\":\"UnionRenderers\"},{\"attributes\":{},\"id\":\"1987\",\"type\":\"Selection\"},{\"attributes\":{},\"id\":\"1976\",\"type\":\"UnionRenderers\"},{\"attributes\":{},\"id\":\"1988\",\"type\":\"UnionRenderers\"},{\"attributes\":{},\"id\":\"2001\",\"type\":\"Selection\"},{\"attributes\":{},\"id\":\"1980\",\"type\":\"UnionRenderers\"},{\"attributes\":{},\"id\":\"1977\",\"type\":\"Selection\"},{\"attributes\":{},\"id\":\"2094\",\"type\":\"UnionRenderers\"},{\"attributes\":{},\"id\":\"1999\",\"type\":\"Selection\"},{\"attributes\":{},\"id\":\"2093\",\"type\":\"Selection\"},{\"attributes\":{},\"id\":\"1998\",\"type\":\"UnionRenderers\"},{\"attributes\":{},\"id\":\"1974\",\"type\":\"UnionRenderers\"},{\"attributes\":{},\"id\":\"1991\",\"type\":\"Selection\"},{\"attributes\":{},\"id\":\"1982\",\"type\":\"UnionRenderers\"},{\"attributes\":{},\"id\":\"1815\",\"type\":\"BasicTickFormatter\"},{\"attributes\":{},\"id\":\"2096\",\"type\":\"UnionRenderers\"},{\"attributes\":{},\"id\":\"1981\",\"type\":\"Selection\"},{\"attributes\":{},\"id\":\"2012\",\"type\":\"UnionRenderers\"},{\"attributes\":{},\"id\":\"1006\",\"type\":\"DataRange1d\"},{\"attributes\":{\"data_source\":{\"id\":\"1633\"},\"glyph\":{\"id\":\"1634\"},\"hover_glyph\":null,\"muted_glyph\":null,\"nonselection_glyph\":{\"id\":\"1635\"},\"selection_glyph\":null,\"view\":{\"id\":\"1637\"}},\"id\":\"1636\",\"type\":\"GlyphRenderer\"},{\"attributes\":{\"source\":{\"id\":\"1313\"}},\"id\":\"1317\",\"type\":\"CDSView\"},{\"attributes\":{\"data_source\":{\"id\":\"1618\"},\"glyph\":{\"id\":\"1619\"},\"hover_glyph\":null,\"muted_glyph\":null,\"nonselection_glyph\":{\"id\":\"1620\"},\"selection_glyph\":null,\"view\":{\"id\":\"1622\"}},\"id\":\"1621\",\"type\":\"GlyphRenderer\"},{\"attributes\":{\"line_alpha\":0.1,\"line_color\":\"orange\",\"x\":{\"field\":\"x\"},\"y\":{\"field\":\"y\"}},\"id\":\"1280\",\"type\":\"Line\"},{\"attributes\":{},\"id\":\"1900\",\"type\":\"UnionRenderers\"},{\"attributes\":{\"fill_alpha\":0.2,\"fill_color\":\"orange\",\"x\":{\"field\":\"x\"},\"y1\":{\"field\":\"y1\"},\"y2\":{\"field\":\"y2\"}},\"id\":\"1319\",\"type\":\"VArea\"},{\"attributes\":{},\"id\":\"1899\",\"type\":\"Selection\"},{\"attributes\":{\"data\":{\"left\":{\"__ndarray__\":\"hzACU5sC8L9W8XQefSLgv4DOwHLL4X+/ONxT4etF3z/UXTl4r4XvP8dm5H80tPc/ox6sQ5Gl/z9A67kDd8sDQC7HnWUlxAdAHKOBx9O8C0AKf2UpgrUPQHytpEUY1xFAc5uWdm/TE0BqiYinxs8VQGF3etgdzBdAWGVsCXXIGUBPU146zMQbQEZBUGsjwR1APi9CnHq9H0CaDprm6NwgQJYFE38U2yFAkfyLF0DZIkCN8wSwa9cjQIjqfUiX1SRAhOH24MLTJUB/2G957tEmQHvP6BEa0CdAdsZhqkXOKEByvdpCccwpQG20U9ucyipAaavMc8jIK0BkokUM9MYsQGCZvqQfxS1AW5A3PUvDLkBXh7DVdsEvQCq/FDfRXzBAqDpRA+feMEAlto3P/F0xQKMxypsS3TFAIa0GaChcMkCfKEM0PtsyQBykfwBUWjNAmh+8zGnZM0AYm/iYf1g0QJYWNWWV1zRAE5JxMatWNUCRDa79wNU1QA+J6snWVDZAjQQnluzTNkALgGNiAlM3QA==\",\"dtype\":\"float64\",\"shape\":[50]},\"right\":{\"__ndarray__\":\"VvF0Hn0i4L+AzsByy+F/vzjcU+HrRd8/1F05eK+F7z/HZuR/NLT3P6MerEORpf8/QOu5A3fLA0Aux51lJcQHQByjgcfTvAtACn9lKYK1D0B8raRFGNcRQHOblnZv0xNAaomIp8bPFUBhd3rYHcwXQFhlbAl1yBlAT1NeOszEG0BGQVBrI8EdQD4vQpx6vR9Amg6a5ujcIECWBRN/FNshQJH8ixdA2SJAjfMEsGvXI0CI6n1Il9UkQITh9uDC0yVAf9hvee7RJkB7z+gRGtAnQHbGYapFzihAcr3aQnHMKUBttFPbnMoqQGmrzHPIyCtAZKJFDPTGLEBgmb6kH8UtQFuQNz1Lwy5AV4ew1XbBL0AqvxQ30V8wQKg6UQPn3jBAJbaNz/xdMUCjMcqbEt0xQCGtBmgoXDJAnyhDND7bMkAcpH8AVFozQJofvMxp2TNAGJv4mH9YNECWFjVlldc0QBOScTGrVjVAkQ2u/cDVNUAPierJ1lQ2QI0EJ5bs0zZAC4BjYgJTN0CI+58uGNI3QA==\",\"dtype\":\"float64\",\"shape\":[50]},\"top\":{\"__ndarray__\":\"J8WORpCKIT8g5jMjYfdNP5HfVs/uVF4/nUjRqV6cbz/rBoXGnCN8P1FpeLBPqIY/u/RQIWmQkT+En2wtwOCZPw9B73sNN6I/HOEOdDc5pj8j+BOP/0mqPxxcFGwgQ7A/jjz34GUisz98OIK99Za1P5ITZ6gkT7Y/wgnG0YujuD8iqC46/RC6P1jil9rd1Lo/SmNzIjofvD/5Ku86JOm7P/QthZQ4+bs/bB2yGwgbuz9TjugTRoC5P6dXxm3DTrg/FZakMRSetj+2K/Y+I0u0P7mSNhKjdLE/jUjRqV6crz8JGbqAYAasPxTBbnFFj6c/UQnuCy+Koz8m92MDRhegP1SF+N32Vps/J8XjlLUalT/jTlrEO/6QP1DS8oq/74c/vycszY0vgz94dtz0fg19P8sG2ylSA3U/J4pz8NX0az/2BtspUgNlP6LsEHfTmV0/opCmp/12VD+ikKan/XZEPzLZeXt8sj4/W98CllkUMD8exY5GkIoRPx7FjkaQihE/MfPtykU8HT9XXL4Ia2MHPw==\",\"dtype\":\"float64\",\"shape\":[50]}},\"selected\":{\"id\":\"1941\"},\"selection_policy\":{\"id\":\"1942\"}},\"id\":\"1343\",\"type\":\"ColumnDataSource\"},{\"attributes\":{\"line_alpha\":0.1,\"line_color\":\"orange\",\"x\":{\"field\":\"x\"},\"y\":{\"field\":\"y\"}},\"id\":\"1295\",\"type\":\"Line\"},{\"attributes\":{\"data_source\":{\"id\":\"1478\"},\"glyph\":{\"id\":\"1479\"},\"hover_glyph\":null,\"muted_glyph\":null,\"nonselection_glyph\":{\"id\":\"1480\"},\"selection_glyph\":null,\"view\":{\"id\":\"1482\"}},\"id\":\"1481\",\"type\":\"GlyphRenderer\"},{\"attributes\":{\"line_alpha\":0.1,\"line_color\":\"orange\",\"x\":{\"field\":\"x\"},\"y\":{\"field\":\"y\"}},\"id\":\"1265\",\"type\":\"Line\"},{\"attributes\":{\"fill_alpha\":0.1,\"fill_color\":\"orange\",\"x\":{\"field\":\"x\"},\"y1\":{\"field\":\"y1\"},\"y2\":{\"field\":\"y2\"}},\"id\":\"1275\",\"type\":\"VArea\"},{\"attributes\":{\"data_source\":{\"id\":\"1293\"},\"glyph\":{\"id\":\"1294\"},\"hover_glyph\":null,\"muted_glyph\":null,\"nonselection_glyph\":{\"id\":\"1295\"},\"selection_glyph\":null,\"view\":{\"id\":\"1297\"}},\"id\":\"1296\",\"type\":\"GlyphRenderer\"},{\"attributes\":{\"data\":{\"x\":[7.0,8.0],\"y1\":[0,0],\"y2\":[0.1204523954086467,0.1204523954086467]},\"selected\":{\"id\":\"1939\"},\"selection_policy\":{\"id\":\"1940\"}},\"id\":\"1318\",\"type\":\"ColumnDataSource\"},{\"attributes\":{\"data_source\":{\"id\":\"1303\"},\"glyph\":{\"id\":\"1304\"},\"hover_glyph\":null,\"muted_glyph\":null,\"nonselection_glyph\":{\"id\":\"1305\"},\"selection_glyph\":null,\"view\":{\"id\":\"1307\"}},\"id\":\"1306\",\"type\":\"GlyphRenderer\"},{\"attributes\":{\"source\":{\"id\":\"1278\"}},\"id\":\"1282\",\"type\":\"CDSView\"},{\"attributes\":{},\"id\":\"1893\",\"type\":\"Selection\"},{\"attributes\":{\"source\":{\"id\":\"1308\"}},\"id\":\"1312\",\"type\":\"CDSView\"},{\"attributes\":{\"fill_alpha\":0.2,\"fill_color\":\"orange\",\"x\":{\"field\":\"x\"},\"y1\":{\"field\":\"y1\"},\"y2\":{\"field\":\"y2\"}},\"id\":\"1639\",\"type\":\"VArea\"},{\"attributes\":{},\"id\":\"1894\",\"type\":\"UnionRenderers\"},{\"attributes\":{\"data\":{\"x\":[6.0,6.0],\"y\":[0,0.1204523954086467]},\"selected\":{\"id\":\"1929\"},\"selection_policy\":{\"id\":\"1930\"}},\"id\":\"1293\",\"type\":\"ColumnDataSource\"},{\"attributes\":{},\"id\":\"1945\",\"type\":\"Selection\"},{\"attributes\":{\"fill_alpha\":0.1,\"fill_color\":\"orange\",\"x\":{\"field\":\"x\"},\"y1\":{\"field\":\"y1\"},\"y2\":{\"field\":\"y2\"}},\"id\":\"1305\",\"type\":\"VArea\"},{\"attributes\":{\"data_source\":{\"id\":\"1283\"},\"glyph\":{\"id\":\"1284\"},\"hover_glyph\":null,\"muted_glyph\":null,\"nonselection_glyph\":{\"id\":\"1285\"},\"selection_glyph\":null,\"view\":{\"id\":\"1287\"}},\"id\":\"1286\",\"type\":\"GlyphRenderer\"},{\"attributes\":{},\"id\":\"2032\",\"type\":\"UnionRenderers\"},{\"attributes\":{\"data_source\":{\"id\":\"1313\"},\"glyph\":{\"id\":\"1314\"},\"hover_glyph\":null,\"muted_glyph\":null,\"nonselection_glyph\":{\"id\":\"1315\"},\"selection_glyph\":null,\"view\":{\"id\":\"1317\"}},\"id\":\"1316\",\"type\":\"GlyphRenderer\"},{\"attributes\":{\"line_color\":\"orange\",\"x\":{\"field\":\"x\"},\"y\":{\"field\":\"y\"}},\"id\":\"1269\",\"type\":\"Line\"},{\"attributes\":{\"source\":{\"id\":\"1288\"}},\"id\":\"1292\",\"type\":\"CDSView\"},{\"attributes\":{},\"id\":\"1817\",\"type\":\"BasicTickFormatter\"},{\"attributes\":{\"bottom\":{\"value\":0},\"fill_alpha\":{\"value\":0.5},\"fill_color\":{\"value\":\"navy\"},\"left\":{\"field\":\"left\"},\"line_alpha\":{\"value\":0.5},\"line_color\":{\"value\":\"white\"},\"right\":{\"field\":\"right\"},\"top\":{\"field\":\"top\"}},\"id\":\"1024\",\"type\":\"Quad\"},{\"attributes\":{\"source\":{\"id\":\"1283\"}},\"id\":\"1287\",\"type\":\"CDSView\"},{\"attributes\":{\"data_source\":{\"id\":\"1453\"},\"glyph\":{\"id\":\"1454\"},\"hover_glyph\":null,\"muted_glyph\":null,\"nonselection_glyph\":{\"id\":\"1455\"},\"selection_glyph\":null,\"view\":{\"id\":\"1457\"}},\"id\":\"1456\",\"type\":\"GlyphRenderer\"},{\"attributes\":{\"data\":{\"x\":[4.0,4.0],\"y\":[0,0.1204523954086467]},\"selected\":{\"id\":\"1917\"},\"selection_policy\":{\"id\":\"1918\"}},\"id\":\"1263\",\"type\":\"ColumnDataSource\"},{\"attributes\":{\"data\":{\"x\":[7.0,8.0],\"y1\":[0,0],\"y2\":[0.10216672531931116,0.10216672531931116]},\"selected\":{\"id\":\"2051\"},\"selection_policy\":{\"id\":\"2052\"}},\"id\":\"1638\",\"type\":\"ColumnDataSource\"},{\"attributes\":{},\"id\":\"1326\",\"type\":\"DataRange1d\"},{\"attributes\":{\"line_color\":\"orange\",\"x\":{\"field\":\"x\"},\"y\":{\"field\":\"y\"}},\"id\":\"1294\",\"type\":\"Line\"},{\"attributes\":{\"data\":{\"x\":[6.0,6.0],\"y\":[0,0.10216672531931116]},\"selected\":{\"id\":\"2041\"},\"selection_policy\":{\"id\":\"2042\"}},\"id\":\"1613\",\"type\":\"ColumnDataSource\"},{\"attributes\":{\"fill_alpha\":0.2,\"fill_color\":\"orange\",\"x\":{\"field\":\"x\"},\"y1\":{\"field\":\"y1\"},\"y2\":{\"field\":\"y2\"}},\"id\":\"1274\",\"type\":\"VArea\"},{\"attributes\":{\"source\":{\"id\":\"1623\"}},\"id\":\"1627\",\"type\":\"CDSView\"},{\"attributes\":{},\"id\":\"1944\",\"type\":\"UnionRenderers\"},{\"attributes\":{\"line_color\":\"orange\",\"x\":{\"field\":\"x\"},\"y\":{\"field\":\"y\"}},\"id\":\"1299\",\"type\":\"Line\"},{\"attributes\":{\"line_alpha\":0.1,\"line_color\":\"orange\",\"x\":{\"field\":\"x\"},\"y\":{\"field\":\"y\"}},\"id\":\"1620\",\"type\":\"Line\"},{\"attributes\":{},\"id\":\"1895\",\"type\":\"Selection\"},{\"attributes\":{\"text\":\"mutations = 4\"},\"id\":\"1324\",\"type\":\"Title\"},{\"attributes\":{\"line_alpha\":0.1,\"line_color\":\"orange\",\"x\":{\"field\":\"x\"},\"y\":{\"field\":\"y\"}},\"id\":\"1615\",\"type\":\"Line\"},{\"attributes\":{\"line_color\":\"orange\",\"x\":{\"field\":\"x\"},\"y\":{\"field\":\"y\"}},\"id\":\"1634\",\"type\":\"Line\"},{\"attributes\":{\"source\":{\"id\":\"1318\"}},\"id\":\"1322\",\"type\":\"CDSView\"},{\"attributes\":{\"source\":{\"id\":\"1613\"}},\"id\":\"1617\",\"type\":\"CDSView\"},{\"attributes\":{\"line_alpha\":0.1,\"line_color\":\"orange\",\"x\":{\"field\":\"x\"},\"y\":{\"field\":\"y\"}},\"id\":\"1460\",\"type\":\"Line\"},{\"attributes\":{\"data\":{\"x\":[5.0,6.0],\"y1\":[0,0],\"y2\":[0.1204523954086467,0.1204523954086467]},\"selected\":{\"id\":\"1927\"},\"selection_policy\":{\"id\":\"1928\"}},\"id\":\"1288\",\"type\":\"ColumnDataSource\"},{\"attributes\":{},\"id\":\"1896\",\"type\":\"UnionRenderers\"},{\"attributes\":{\"data_source\":{\"id\":\"1273\"},\"glyph\":{\"id\":\"1274\"},\"hover_glyph\":null,\"muted_glyph\":null,\"nonselection_glyph\":{\"id\":\"1275\"},\"selection_glyph\":null,\"view\":{\"id\":\"1277\"}},\"id\":\"1276\",\"type\":\"GlyphRenderer\"},{\"attributes\":{\"line_color\":\"orange\",\"x\":{\"field\":\"x\"},\"y\":{\"field\":\"y\"}},\"id\":\"1619\",\"type\":\"Line\"},{\"attributes\":{\"source\":{\"id\":\"1268\"}},\"id\":\"1272\",\"type\":\"CDSView\"},{\"attributes\":{\"line_alpha\":0.1,\"line_color\":\"orange\",\"x\":{\"field\":\"x\"},\"y\":{\"field\":\"y\"}},\"id\":\"1285\",\"type\":\"Line\"},{\"attributes\":{\"data\":{\"x\":[7.0,7.0],\"y\":[0,0.109851487551521]},\"selected\":{\"id\":\"1987\"},\"selection_policy\":{\"id\":\"1988\"}},\"id\":\"1458\",\"type\":\"ColumnDataSource\"},{\"attributes\":{\"line_color\":\"orange\",\"x\":{\"field\":\"x\"},\"y\":{\"field\":\"y\"}},\"id\":\"1279\",\"type\":\"Line\"},{\"attributes\":{\"source\":{\"id\":\"1628\"}},\"id\":\"1632\",\"type\":\"CDSView\"},{\"attributes\":{},\"id\":\"1891\",\"type\":\"Selection\"},{\"attributes\":{\"data_source\":{\"id\":\"1268\"},\"glyph\":{\"id\":\"1269\"},\"hover_glyph\":null,\"muted_glyph\":null,\"nonselection_glyph\":{\"id\":\"1270\"},\"selection_glyph\":null,\"view\":{\"id\":\"1272\"}},\"id\":\"1271\",\"type\":\"GlyphRenderer\"},{\"attributes\":{\"data\":{\"x\":[8.0,8.0],\"y\":[0,0.1204523954086467]},\"selected\":{\"id\":\"1937\"},\"selection_policy\":{\"id\":\"1938\"}},\"id\":\"1313\",\"type\":\"ColumnDataSource\"},{\"attributes\":{\"source\":{\"id\":\"1258\"}},\"id\":\"1262\",\"type\":\"CDSView\"},{\"attributes\":{\"source\":{\"id\":\"1458\"}},\"id\":\"1462\",\"type\":\"CDSView\"},{\"attributes\":{\"data\":{\"x\":[8.0,8.0],\"y\":[0,0.10216672531931116]},\"selected\":{\"id\":\"2049\"},\"selection_policy\":{\"id\":\"2050\"}},\"id\":\"1633\",\"type\":\"ColumnDataSource\"},{\"attributes\":{\"line_alpha\":0.1,\"line_color\":\"orange\",\"x\":{\"field\":\"x\"},\"y\":{\"field\":\"y\"}},\"id\":\"1270\",\"type\":\"Line\"},{\"attributes\":{},\"id\":\"1890\",\"type\":\"UnionRenderers\"},{\"attributes\":{\"source\":{\"id\":\"1453\"}},\"id\":\"1457\",\"type\":\"CDSView\"},{\"attributes\":{},\"id\":\"1914\",\"type\":\"UnionRenderers\"},{\"attributes\":{\"data\":{\"x\":[4.0,5.0],\"y1\":[0,0],\"y2\":[0.1204523954086467,0.1204523954086467]},\"selected\":{\"id\":\"1921\"},\"selection_policy\":{\"id\":\"1922\"}},\"id\":\"1273\",\"type\":\"ColumnDataSource\"},{\"attributes\":{\"line_alpha\":0.1,\"line_color\":\"orange\",\"x\":{\"field\":\"x\"},\"y\":{\"field\":\"y\"}},\"id\":\"1315\",\"type\":\"Line\"},{\"attributes\":{},\"id\":\"1892\",\"type\":\"UnionRenderers\"},{\"attributes\":{\"source\":{\"id\":\"1263\"}},\"id\":\"1267\",\"type\":\"CDSView\"},{\"attributes\":{},\"id\":\"1935\",\"type\":\"Selection\"},{\"attributes\":{\"data\":{\"x\":[6.0,6.0],\"y\":[0,0.1204523954086467]},\"selected\":{\"id\":\"1925\"},\"selection_policy\":{\"id\":\"1926\"}},\"id\":\"1283\",\"type\":\"ColumnDataSource\"},{\"attributes\":{\"bottom\":{\"value\":0},\"fill_alpha\":{\"value\":0.5},\"fill_color\":{\"value\":\"navy\"},\"left\":{\"field\":\"left\"},\"line_alpha\":{\"value\":0.5},\"line_color\":{\"value\":\"white\"},\"right\":{\"field\":\"right\"},\"top\":{\"field\":\"top\"}},\"id\":\"1344\",\"type\":\"Quad\"},{\"attributes\":{\"data\":{\"x\":[7.0,7.0],\"y\":[0,0.10216672531931116]},\"selected\":{\"id\":\"2043\"},\"selection_policy\":{\"id\":\"2044\"}},\"id\":\"1618\",\"type\":\"ColumnDataSource\"},{\"attributes\":{},\"id\":\"1939\",\"type\":\"Selection\"},{\"attributes\":{\"fill_alpha\":0.2,\"fill_color\":\"orange\",\"x\":{\"field\":\"x\"},\"y1\":{\"field\":\"y1\"},\"y2\":{\"field\":\"y2\"}},\"id\":\"1289\",\"type\":\"VArea\"},{\"attributes\":{\"data\":{\"x\":[6.0,6.0],\"y\":[0,0.109851487551521]},\"selected\":{\"id\":\"1985\"},\"selection_policy\":{\"id\":\"1986\"}},\"id\":\"1453\",\"type\":\"ColumnDataSource\"},{\"attributes\":{\"data_source\":{\"id\":\"1278\"},\"glyph\":{\"id\":\"1279\"},\"hover_glyph\":null,\"muted_glyph\":null,\"nonselection_glyph\":{\"id\":\"1280\"},\"selection_glyph\":null,\"view\":{\"id\":\"1282\"}},\"id\":\"1281\",\"type\":\"GlyphRenderer\"},{\"attributes\":{},\"id\":\"1901\",\"type\":\"Selection\"},{\"attributes\":{},\"id\":\"1941\",\"type\":\"Selection\"},{\"attributes\":{\"line_color\":\"orange\",\"x\":{\"field\":\"x\"},\"y\":{\"field\":\"y\"}},\"id\":\"1469\",\"type\":\"Line\"},{\"attributes\":{\"fill_alpha\":0.1,\"fill_color\":\"orange\",\"x\":{\"field\":\"x\"},\"y1\":{\"field\":\"y1\"},\"y2\":{\"field\":\"y2\"}},\"id\":\"1625\",\"type\":\"VArea\"},{\"attributes\":{},\"id\":\"1902\",\"type\":\"UnionRenderers\"},{\"attributes\":{\"data_source\":{\"id\":\"1288\"},\"glyph\":{\"id\":\"1289\"},\"hover_glyph\":null,\"muted_glyph\":null,\"nonselection_glyph\":{\"id\":\"1290\"},\"selection_glyph\":null,\"view\":{\"id\":\"1292\"}},\"id\":\"1291\",\"type\":\"GlyphRenderer\"},{\"attributes\":{\"bottom\":{\"value\":0},\"fill_alpha\":{\"value\":0.1},\"fill_color\":{\"value\":\"navy\"},\"left\":{\"field\":\"left\"},\"line_alpha\":{\"value\":0.1},\"line_color\":{\"value\":\"white\"},\"right\":{\"field\":\"right\"},\"top\":{\"field\":\"top\"}},\"id\":\"1025\",\"type\":\"Quad\"},{\"attributes\":{\"line_color\":\"orange\",\"x\":{\"field\":\"x\"},\"y\":{\"field\":\"y\"}},\"id\":\"1459\",\"type\":\"Line\"},{\"attributes\":{\"data\":{\"x\":[5.0,5.0],\"y\":[0,0.1204523954086467]},\"selected\":{\"id\":\"1923\"},\"selection_policy\":{\"id\":\"1924\"}},\"id\":\"1278\",\"type\":\"ColumnDataSource\"},{\"attributes\":{\"line_color\":\"orange\",\"x\":{\"field\":\"x\"},\"y\":{\"field\":\"y\"}},\"id\":\"1614\",\"type\":\"Line\"},{\"attributes\":{},\"id\":\"1940\",\"type\":\"UnionRenderers\"},{\"attributes\":{\"line_color\":\"orange\",\"x\":{\"field\":\"x\"},\"y\":{\"field\":\"y\"}},\"id\":\"1284\",\"type\":\"Line\"},{\"attributes\":{\"fill_alpha\":0.1,\"fill_color\":\"orange\",\"x\":{\"field\":\"x\"},\"y1\":{\"field\":\"y1\"},\"y2\":{\"field\":\"y2\"}},\"id\":\"1290\",\"type\":\"VArea\"},{\"attributes\":{},\"id\":\"1897\",\"type\":\"Selection\"},{\"attributes\":{\"source\":{\"id\":\"1273\"}},\"id\":\"1277\",\"type\":\"CDSView\"},{\"attributes\":{\"line_color\":\"orange\",\"x\":{\"field\":\"x\"},\"y\":{\"field\":\"y\"}},\"id\":\"1454\",\"type\":\"Line\"},{\"attributes\":{},\"id\":\"1984\",\"type\":\"UnionRenderers\"},{\"attributes\":{\"data_source\":{\"id\":\"1263\"},\"glyph\":{\"id\":\"1264\"},\"hover_glyph\":null,\"muted_glyph\":null,\"nonselection_glyph\":{\"id\":\"1265\"},\"selection_glyph\":null,\"view\":{\"id\":\"1267\"}},\"id\":\"1266\",\"type\":\"GlyphRenderer\"},{\"attributes\":{\"data_source\":{\"id\":\"1023\"},\"glyph\":{\"id\":\"1024\"},\"hover_glyph\":null,\"muted_glyph\":null,\"nonselection_glyph\":{\"id\":\"1025\"},\"selection_glyph\":null,\"view\":{\"id\":\"1027\"}},\"id\":\"1026\",\"type\":\"GlyphRenderer\"},{\"attributes\":{\"data\":{\"x\":[5.0,5.0],\"y\":[0,0.1204523954086467]},\"selected\":{\"id\":\"1919\"},\"selection_policy\":{\"id\":\"1920\"}},\"id\":\"1268\",\"type\":\"ColumnDataSource\"},{\"attributes\":{\"fill_alpha\":0.1,\"fill_color\":\"orange\",\"x\":{\"field\":\"x\"},\"y1\":{\"field\":\"y1\"},\"y2\":{\"field\":\"y2\"}},\"id\":\"1465\",\"type\":\"VArea\"},{\"attributes\":{\"data_source\":{\"id\":\"1463\"},\"glyph\":{\"id\":\"1464\"},\"hover_glyph\":null,\"muted_glyph\":null,\"nonselection_glyph\":{\"id\":\"1465\"},\"selection_glyph\":null,\"view\":{\"id\":\"1467\"}},\"id\":\"1466\",\"type\":\"GlyphRenderer\"},{\"attributes\":{\"data\":{\"x\":[7.0,7.0],\"y\":[0,0.1204523954086467]},\"selected\":{\"id\":\"1931\"},\"selection_policy\":{\"id\":\"1932\"}},\"id\":\"1298\",\"type\":\"ColumnDataSource\"},{\"attributes\":{\"data_source\":{\"id\":\"1613\"},\"glyph\":{\"id\":\"1614\"},\"hover_glyph\":null,\"muted_glyph\":null,\"nonselection_glyph\":{\"id\":\"1615\"},\"selection_glyph\":null,\"view\":{\"id\":\"1617\"}},\"id\":\"1616\",\"type\":\"GlyphRenderer\"},{\"attributes\":{\"data\":{\"x\":[6.0,7.0],\"y1\":[0,0],\"y2\":[0.1204523954086467,0.1204523954086467]},\"selected\":{\"id\":\"1933\"},\"selection_policy\":{\"id\":\"1934\"}},\"id\":\"1303\",\"type\":\"ColumnDataSource\"},{\"attributes\":{},\"id\":\"1936\",\"type\":\"UnionRenderers\"},{\"attributes\":{\"source\":{\"id\":\"1253\"}},\"id\":\"1257\",\"type\":\"CDSView\"},{\"attributes\":{\"fill_alpha\":0.1,\"fill_color\":\"orange\",\"x\":{\"field\":\"x\"},\"y1\":{\"field\":\"y1\"},\"y2\":{\"field\":\"y2\"}},\"id\":\"1640\",\"type\":\"VArea\"},{\"attributes\":{},\"id\":\"1898\",\"type\":\"UnionRenderers\"},{\"attributes\":{},\"id\":\"1946\",\"type\":\"UnionRenderers\"},{\"attributes\":{\"data_source\":{\"id\":\"1638\"},\"glyph\":{\"id\":\"1639\"},\"hover_glyph\":null,\"muted_glyph\":null,\"nonselection_glyph\":{\"id\":\"1640\"},\"selection_glyph\":null,\"view\":{\"id\":\"1642\"}},\"id\":\"1641\",\"type\":\"GlyphRenderer\"},{\"attributes\":{\"line_alpha\":0.1,\"line_color\":\"orange\",\"x\":{\"field\":\"x\"},\"y\":{\"field\":\"y\"}},\"id\":\"1300\",\"type\":\"Line\"},{\"attributes\":{\"source\":{\"id\":\"1298\"}},\"id\":\"1302\",\"type\":\"CDSView\"},{\"attributes\":{\"data\":{\"x\":[6.0,7.0],\"y1\":[0,0],\"y2\":[0.10216672531931116,0.10216672531931116]},\"selected\":{\"id\":\"2045\"},\"selection_policy\":{\"id\":\"2046\"}},\"id\":\"1623\",\"type\":\"ColumnDataSource\"},{\"attributes\":{\"fill_alpha\":0.2,\"fill_color\":\"orange\",\"x\":{\"field\":\"x\"},\"y1\":{\"field\":\"y1\"},\"y2\":{\"field\":\"y2\"}},\"id\":\"1304\",\"type\":\"VArea\"},{\"attributes\":{\"source\":{\"id\":\"1618\"}},\"id\":\"1622\",\"type\":\"CDSView\"},{\"attributes\":{\"line_color\":\"orange\",\"x\":{\"field\":\"x\"},\"y\":{\"field\":\"y\"}},\"id\":\"1309\",\"type\":\"Line\"},{\"attributes\":{\"fill_alpha\":0.2,\"fill_color\":\"orange\",\"x\":{\"field\":\"x\"},\"y1\":{\"field\":\"y1\"},\"y2\":{\"field\":\"y2\"}},\"id\":\"1624\",\"type\":\"VArea\"},{\"attributes\":{\"source\":{\"id\":\"1293\"}},\"id\":\"1297\",\"type\":\"CDSView\"},{\"attributes\":{},\"id\":\"1889\",\"type\":\"Selection\"},{\"attributes\":{\"data_source\":{\"id\":\"1298\"},\"glyph\":{\"id\":\"1299\"},\"hover_glyph\":null,\"muted_glyph\":null,\"nonselection_glyph\":{\"id\":\"1300\"},\"selection_glyph\":null,\"view\":{\"id\":\"1302\"}},\"id\":\"1301\",\"type\":\"GlyphRenderer\"},{\"attributes\":{\"fill_alpha\":0.1,\"fill_color\":\"orange\",\"x\":{\"field\":\"x\"},\"y1\":{\"field\":\"y1\"},\"y2\":{\"field\":\"y2\"}},\"id\":\"1450\",\"type\":\"VArea\"},{\"attributes\":{\"source\":{\"id\":\"1638\"}},\"id\":\"1642\",\"type\":\"CDSView\"},{\"attributes\":{\"line_color\":\"orange\",\"x\":{\"field\":\"x\"},\"y\":{\"field\":\"y\"}},\"id\":\"1314\",\"type\":\"Line\"},{\"attributes\":{\"source\":{\"id\":\"1463\"}},\"id\":\"1467\",\"type\":\"CDSView\"},{\"attributes\":{\"data\":{\"x\":[7.0,7.0],\"y\":[0,0.10216672531931116]},\"selected\":{\"id\":\"2047\"},\"selection_policy\":{\"id\":\"2048\"}},\"id\":\"1628\",\"type\":\"ColumnDataSource\"},{\"attributes\":{\"line_alpha\":0.1,\"line_color\":\"orange\",\"x\":{\"field\":\"x\"},\"y\":{\"field\":\"y\"}},\"id\":\"1470\",\"type\":\"Line\"},{\"attributes\":{},\"id\":\"1938\",\"type\":\"UnionRenderers\"},{\"attributes\":{},\"id\":\"1983\",\"type\":\"Selection\"},{\"attributes\":{\"data_source\":{\"id\":\"1318\"},\"glyph\":{\"id\":\"1319\"},\"hover_glyph\":null,\"muted_glyph\":null,\"nonselection_glyph\":{\"id\":\"1320\"},\"selection_glyph\":null,\"view\":{\"id\":\"1322\"}},\"id\":\"1321\",\"type\":\"GlyphRenderer\"},{\"attributes\":{\"line_alpha\":0.1,\"line_color\":\"orange\",\"x\":{\"field\":\"x\"},\"y\":{\"field\":\"y\"}},\"id\":\"1635\",\"type\":\"Line\"},{\"attributes\":{\"active_drag\":\"auto\",\"active_inspect\":\"auto\",\"active_multi\":null,\"active_scroll\":\"auto\",\"active_tap\":\"auto\"},\"id\":\"1022\",\"type\":\"Toolbar\"},{\"attributes\":{\"data_source\":{\"id\":\"1468\"},\"glyph\":{\"id\":\"1469\"},\"hover_glyph\":null,\"muted_glyph\":null,\"nonselection_glyph\":{\"id\":\"1470\"},\"selection_glyph\":null,\"view\":{\"id\":\"1472\"}},\"id\":\"1471\",\"type\":\"GlyphRenderer\"},{\"attributes\":{\"bottom\":{\"value\":0},\"fill_alpha\":{\"value\":0.5},\"fill_color\":{\"value\":\"navy\"},\"left\":{\"field\":\"left\"},\"line_alpha\":{\"value\":0.5},\"line_color\":{\"value\":\"white\"},\"right\":{\"field\":\"right\"},\"top\":{\"field\":\"top\"}},\"id\":\"1664\",\"type\":\"Quad\"},{\"attributes\":{\"source\":{\"id\":\"1303\"}},\"id\":\"1307\",\"type\":\"CDSView\"},{\"attributes\":{\"source\":{\"id\":\"1448\"}},\"id\":\"1452\",\"type\":\"CDSView\"},{\"attributes\":{\"line_color\":\"orange\",\"x\":{\"field\":\"x\"},\"y\":{\"field\":\"y\"}},\"id\":\"1629\",\"type\":\"Line\"},{\"attributes\":{\"data\":{\"left\":{\"__ndarray__\":\"WpNVrkO38r8QUO0NL1Hsv2x5L7/WM+O/kEXj4Pws1L+AhHk2xCSfvwAVFFpkSNA/JOHHe4pB4T/It4XK4l7qPzbHoYwdvvE/iLIAtMlM9j/anV/bddv6PyyJvgIiav8/P7oOFWf8AUDoL74ovUMEQJGlbTwTiwZAOxsdUGnSCEDjkMxjvxkLQIsGfHcVYQ1ANXwri2uoD0DweG3P4PcQQMQzRdmLGxJAmO4c4zY/E0BsqfTs4WIUQEJkzPaMhhVAFh+kADiqFkDq2XsK480XQL6UUxSO8RhAlE8rHjkVGkBoCgMo5DgbQDzF2jGPXBxAEoCyOzqAHUDmOopF5aMeQLr1YU+Qxx9AR9icrJ11IECxtYgxcwchQByTdLZImSFAhnBgOx4rIkDwTUzA87wiQFsrOEXJTiNAxQgkyp7gI0Av5g9PdHIkQJnD+9NJBCVAA6HnWB+WJUBuftPd9CcmQNhbv2LKuSZAQjmr559LJ0CtFpdsdd0nQBf0gvFKbyhAgdFudiABKUDrrlr79ZIpQA==\",\"dtype\":\"float64\",\"shape\":[50]},\"right\":{\"__ndarray__\":\"EFDtDS9R7L9seS+/1jPjv5BF4+D8LNS/gIR5NsQkn78AFRRaZEjQPyThx3uKQeE/yLeFyuJe6j82x6GMHb7xP4iyALTJTPY/2p1f23Xb+j8sib4CImr/Pz+6DhVn/AFA6C++KL1DBECRpW08E4sGQDsbHVBp0ghA45DMY78ZC0CLBnx3FWENQDV8K4trqA9A8Hhtz+D3EEDEM0XZixsSQJjuHOM2PxNAbKn07OFiFEBCZMz2jIYVQBYfpAA4qhZA6tl7CuPNF0C+lFMUjvEYQJRPKx45FRpAaAoDKOQ4G0A8xdoxj1wcQBKAsjs6gB1A5jqKReWjHkC69WFPkMcfQEfYnKyddSBAsbWIMXMHIUAck3S2SJkhQIZwYDseKyJA8E1MwPO8IkBbKzhFyU4jQMUIJMqe4CNAL+YPT3RyJECZw/vTSQQlQAOh51gfliVAbn7T3fQnJkDYW79iyrkmQEI5q+efSydArRaXbHXdJ0AX9ILxSm8oQIHRbnYgASlA665a+/WSKUBWjEaAyyQqQA==\",\"dtype\":\"float64\",\"shape\":[50]},\"top\":{\"__ndarray__\":\"GleinY0Fgz9TNSm9dtOGP8TxNvxIb44/xPE2/Ehvjj8aV6KdjQWjP3Aw/cUeK7A//aFWUT9mtT/iMpPBSn+zP3DqdAnFcrQ/qMj7KK5AuD8beuZ7uuHAP3Aw/cUeK8A/jJ/AVRMSwj/9fhJzEorHP/bEmi9sQsM/sQ6E5Qf5wz97XmSQEQK9P0SpGETDYr8/CleinY0Fwz/R8Tb8SG++P3gNuefxTsI/Inrme7rhwD8+nvVX/WfAP1/voAAdG7s/JREa4TNNtz/tpoJIlw68P5ExyMM01cE/z31HdfzftT/tpoJIlw68P44OhOUH+bM/eqTsTGu6uD9DOlW0znutP3qk7Exruqg/QzpVtM57rT81NSm9dtOmPz/GZS2C7KQ/I1einY0Fkz81NSm9dtOWP3cw/cUeK6A/P8ZlLYLslD/R8Tb8SG9+Pwbo3g2ZHpE/nPE2/Ehvjj/R8Tb8SG9+P101Kb1203Y/nPE2/Ehvfj9dNSm9dtN2PwAAAAAAAAAA0fE2/EhvXj81NSm9dtN2Pw==\",\"dtype\":\"float64\",\"shape\":[50]}},\"selected\":{\"id\":\"1829\"},\"selection_policy\":{\"id\":\"1830\"}},\"id\":\"1023\",\"type\":\"ColumnDataSource\"},{\"attributes\":{\"line_color\":\"orange\",\"x\":{\"field\":\"x\"},\"y\":{\"field\":\"y\"}},\"id\":\"1264\",\"type\":\"Line\"},{\"attributes\":{\"source\":{\"id\":\"1633\"}},\"id\":\"1637\",\"type\":\"CDSView\"},{\"attributes\":{\"data_source\":{\"id\":\"1628\"},\"glyph\":{\"id\":\"1629\"},\"hover_glyph\":null,\"muted_glyph\":null,\"nonselection_glyph\":{\"id\":\"1630\"},\"selection_glyph\":null,\"view\":{\"id\":\"1632\"}},\"id\":\"1631\",\"type\":\"GlyphRenderer\"},{\"attributes\":{},\"id\":\"1813\",\"type\":\"BasicTickFormatter\"},{\"attributes\":{\"line_alpha\":0.1,\"line_color\":\"orange\",\"x\":{\"field\":\"x\"},\"y\":{\"field\":\"y\"}},\"id\":\"1310\",\"type\":\"Line\"},{\"attributes\":{\"fill_alpha\":0.2,\"fill_color\":\"orange\",\"x\":{\"field\":\"x\"},\"y1\":{\"field\":\"y1\"},\"y2\":{\"field\":\"y2\"}},\"id\":\"1259\",\"type\":\"VArea\"},{\"attributes\":{\"fill_alpha\":0.2,\"fill_color\":\"orange\",\"x\":{\"field\":\"x\"},\"y1\":{\"field\":\"y1\"},\"y2\":{\"field\":\"y2\"}},\"id\":\"1449\",\"type\":\"VArea\"},{\"attributes\":{\"line_alpha\":0.1,\"line_color\":\"orange\",\"x\":{\"field\":\"x\"},\"y\":{\"field\":\"y\"}},\"id\":\"1455\",\"type\":\"Line\"},{\"attributes\":{\"fill_alpha\":0.1,\"fill_color\":\"orange\",\"x\":{\"field\":\"x\"},\"y1\":{\"field\":\"y1\"},\"y2\":{\"field\":\"y2\"}},\"id\":\"1260\",\"type\":\"VArea\"},{\"attributes\":{\"data\":{\"x\":[7.0,7.0],\"y\":[0,0.109851487551521]},\"selected\":{\"id\":\"1991\"},\"selection_policy\":{\"id\":\"1992\"}},\"id\":\"1468\",\"type\":\"ColumnDataSource\"},{\"attributes\":{\"line_alpha\":0.1,\"line_color\":\"orange\",\"x\":{\"field\":\"x\"},\"y\":{\"field\":\"y\"}},\"id\":\"1630\",\"type\":\"Line\"},{\"attributes\":{\"data_source\":{\"id\":\"1308\"},\"glyph\":{\"id\":\"1309\"},\"hover_glyph\":null,\"muted_glyph\":null,\"nonselection_glyph\":{\"id\":\"1310\"},\"selection_glyph\":null,\"view\":{\"id\":\"1312\"}},\"id\":\"1311\",\"type\":\"GlyphRenderer\"},{\"attributes\":{\"data_source\":{\"id\":\"1458\"},\"glyph\":{\"id\":\"1459\"},\"hover_glyph\":null,\"muted_glyph\":null,\"nonselection_glyph\":{\"id\":\"1460\"},\"selection_glyph\":null,\"view\":{\"id\":\"1462\"}},\"id\":\"1461\",\"type\":\"GlyphRenderer\"},{\"attributes\":{},\"id\":\"1825\",\"type\":\"BasicTickFormatter\"},{\"attributes\":{\"data\":{\"x\":[7.0,7.0],\"y\":[0,0.1204523954086467]},\"selected\":{\"id\":\"1935\"},\"selection_policy\":{\"id\":\"1936\"}},\"id\":\"1308\",\"type\":\"ColumnDataSource\"},{\"attributes\":{},\"id\":\"1934\",\"type\":\"UnionRenderers\"},{\"attributes\":{\"data\":{\"x\":[6.0,7.0],\"y1\":[0,0],\"y2\":[0.109851487551521,0.109851487551521]},\"selected\":{\"id\":\"1989\"},\"selection_policy\":{\"id\":\"1990\"}},\"id\":\"1463\",\"type\":\"ColumnDataSource\"},{\"attributes\":{},\"id\":\"1823\",\"type\":\"BasicTickFormatter\"},{\"attributes\":{\"fill_alpha\":0.1,\"fill_color\":\"orange\",\"x\":{\"field\":\"x\"},\"y1\":{\"field\":\"y1\"},\"y2\":{\"field\":\"y2\"}},\"id\":\"1320\",\"type\":\"VArea\"},{\"attributes\":{\"fill_alpha\":0.2,\"fill_color\":\"orange\",\"x\":{\"field\":\"x\"},\"y1\":{\"field\":\"y1\"},\"y2\":{\"field\":\"y2\"}},\"id\":\"1464\",\"type\":\"VArea\"},{\"attributes\":{\"data\":{\"x\":[3.0,4.0],\"y1\":[0,0],\"y2\":[0.1204523954086467,0.1204523954086467]},\"selected\":{\"id\":\"1915\"},\"selection_policy\":{\"id\":\"1916\"}},\"id\":\"1258\",\"type\":\"ColumnDataSource\"},{\"attributes\":{},\"id\":\"1937\",\"type\":\"Selection\"},{\"attributes\":{},\"id\":\"1943\",\"type\":\"Selection\"},{\"attributes\":{\"data_source\":{\"id\":\"1408\"},\"glyph\":{\"id\":\"1409\"},\"hover_glyph\":null,\"muted_glyph\":null,\"nonselection_glyph\":{\"id\":\"1410\"},\"selection_glyph\":null,\"view\":{\"id\":\"1412\"}},\"id\":\"1411\",\"type\":\"GlyphRenderer\"},{\"attributes\":{\"line_alpha\":0.1,\"line_color\":\"orange\",\"x\":{\"field\":\"x\"},\"y\":{\"field\":\"y\"}},\"id\":\"1720\",\"type\":\"Line\"},{\"attributes\":{},\"id\":\"1830\",\"type\":\"UnionRenderers\"},{\"attributes\":{},\"id\":\"1330\",\"type\":\"LinearScale\"},{\"attributes\":{\"source\":{\"id\":\"1773\"}},\"id\":\"1777\",\"type\":\"CDSView\"},{\"attributes\":{},\"id\":\"1841\",\"type\":\"Selection\"},{\"attributes\":{\"data_source\":{\"id\":\"1778\"},\"glyph\":{\"id\":\"1779\"},\"hover_glyph\":null,\"muted_glyph\":null,\"nonselection_glyph\":{\"id\":\"1780\"},\"selection_glyph\":null,\"view\":{\"id\":\"1782\"}},\"id\":\"1781\",\"type\":\"GlyphRenderer\"},{\"attributes\":{\"line_alpha\":0.1,\"line_color\":\"orange\",\"x\":{\"field\":\"x\"},\"y\":{\"field\":\"y\"}},\"id\":\"1355\",\"type\":\"Line\"},{\"attributes\":{},\"id\":\"2029\",\"type\":\"Selection\"},{\"attributes\":{\"data_source\":{\"id\":\"1698\"},\"glyph\":{\"id\":\"1699\"},\"hover_glyph\":null,\"muted_glyph\":null,\"nonselection_glyph\":{\"id\":\"1700\"},\"selection_glyph\":null,\"view\":{\"id\":\"1702\"}},\"id\":\"1701\",\"type\":\"GlyphRenderer\"},{\"attributes\":{},\"id\":\"1335\",\"type\":\"BasicTicker\"},{\"attributes\":{\"axis\":{\"id\":\"1338\"},\"dimension\":1,\"ticker\":null},\"id\":\"1341\",\"type\":\"Grid\"},{\"attributes\":{\"fill_alpha\":0.1,\"fill_color\":\"orange\",\"x\":{\"field\":\"x\"},\"y1\":{\"field\":\"y1\"},\"y2\":{\"field\":\"y2\"}},\"id\":\"1710\",\"type\":\"VArea\"},{\"attributes\":{\"fill_alpha\":0.2,\"fill_color\":\"orange\",\"x\":{\"field\":\"x\"},\"y1\":{\"field\":\"y1\"},\"y2\":{\"field\":\"y2\"}},\"id\":\"1724\",\"type\":\"VArea\"},{\"attributes\":{\"axis_label\":\"density\",\"formatter\":{\"id\":\"1817\"},\"ticker\":{\"id\":\"1339\"}},\"id\":\"1338\",\"type\":\"LinearAxis\"},{\"attributes\":{\"axis\":{\"id\":\"1654\"},\"ticker\":null},\"id\":\"1657\",\"type\":\"Grid\"},{\"attributes\":{\"data\":{\"x\":[6.0,7.0],\"y1\":[0,0],\"y2\":[0.09586941819837758,0.09586941819837758]},\"selected\":{\"id\":\"2101\"},\"selection_policy\":{\"id\":\"2102\"}},\"id\":\"1783\",\"type\":\"ColumnDataSource\"},{\"attributes\":{},\"id\":\"1328\",\"type\":\"DataRange1d\"},{\"attributes\":{\"line_alpha\":0.1,\"line_color\":\"orange\",\"x\":{\"field\":\"x\"},\"y\":{\"field\":\"y\"}},\"id\":\"1045\",\"type\":\"Line\"},{\"attributes\":{\"line_color\":\"orange\",\"x\":{\"field\":\"x\"},\"y\":{\"field\":\"y\"}},\"id\":\"1704\",\"type\":\"Line\"},{\"attributes\":{\"data_source\":{\"id\":\"1388\"},\"glyph\":{\"id\":\"1389\"},\"hover_glyph\":null,\"muted_glyph\":null,\"nonselection_glyph\":{\"id\":\"1390\"},\"selection_glyph\":null,\"view\":{\"id\":\"1392\"}},\"id\":\"1391\",\"type\":\"GlyphRenderer\"},{\"attributes\":{\"data_source\":{\"id\":\"1708\"},\"glyph\":{\"id\":\"1709\"},\"hover_glyph\":null,\"muted_glyph\":null,\"nonselection_glyph\":{\"id\":\"1710\"},\"selection_glyph\":null,\"view\":{\"id\":\"1712\"}},\"id\":\"1711\",\"type\":\"GlyphRenderer\"},{\"attributes\":{\"source\":{\"id\":\"1043\"}},\"id\":\"1047\",\"type\":\"CDSView\"},{\"attributes\":{\"data_source\":{\"id\":\"1053\"},\"glyph\":{\"id\":\"1054\"},\"hover_glyph\":null,\"muted_glyph\":null,\"nonselection_glyph\":{\"id\":\"1055\"},\"selection_glyph\":null,\"view\":{\"id\":\"1057\"}},\"id\":\"1056\",\"type\":\"GlyphRenderer\"},{\"attributes\":{\"source\":{\"id\":\"1353\"}},\"id\":\"1357\",\"type\":\"CDSView\"},{\"attributes\":{\"fill_alpha\":0.2,\"fill_color\":\"orange\",\"x\":{\"field\":\"x\"},\"y1\":{\"field\":\"y1\"},\"y2\":{\"field\":\"y2\"}},\"id\":\"1709\",\"type\":\"VArea\"},{\"attributes\":{\"axis_label\":\"\\u0394E [k_BT]\",\"formatter\":{\"id\":\"1819\"},\"ticker\":{\"id\":\"1335\"}},\"id\":\"1334\",\"type\":\"LinearAxis\"},{\"attributes\":{\"line_alpha\":0.1,\"line_color\":\"orange\",\"x\":{\"field\":\"x\"},\"y\":{\"field\":\"y\"}},\"id\":\"1705\",\"type\":\"Line\"},{\"attributes\":{\"source\":{\"id\":\"1718\"}},\"id\":\"1722\",\"type\":\"CDSView\"},{\"attributes\":{},\"id\":\"1332\",\"type\":\"LinearScale\"},{\"attributes\":{\"source\":{\"id\":\"1723\"}},\"id\":\"1727\",\"type\":\"CDSView\"},{\"attributes\":{\"data\":{\"x\":[2.0,3.0],\"y1\":[0,0],\"y2\":[0.09586941819837758,0.09586941819837758]},\"selected\":{\"id\":\"2077\"},\"selection_policy\":{\"id\":\"2078\"}},\"id\":\"1723\",\"type\":\"ColumnDataSource\"},{\"attributes\":{\"background_fill_color\":\"#fafafa\",\"below\":[{\"id\":\"1494\"}],\"center\":[{\"id\":\"1497\"},{\"id\":\"1501\"}],\"frame_height\":200,\"frame_width\":200,\"left\":[{\"id\":\"1498\"}],\"renderers\":[{\"id\":\"1506\"},{\"id\":\"1511\"},{\"id\":\"1516\"},{\"id\":\"1521\"},{\"id\":\"1526\"},{\"id\":\"1531\"},{\"id\":\"1536\"},{\"id\":\"1541\"},{\"id\":\"1546\"},{\"id\":\"1551\"},{\"id\":\"1556\"},{\"id\":\"1561\"},{\"id\":\"1566\"},{\"id\":\"1571\"},{\"id\":\"1576\"},{\"id\":\"1581\"},{\"id\":\"1586\"},{\"id\":\"1591\"},{\"id\":\"1596\"},{\"id\":\"1601\"},{\"id\":\"1606\"},{\"id\":\"1611\"},{\"id\":\"1616\"},{\"id\":\"1621\"},{\"id\":\"1626\"},{\"id\":\"1631\"},{\"id\":\"1636\"},{\"id\":\"1641\"}],\"title\":{\"id\":\"1484\"},\"toolbar\":{\"id\":\"1502\"},\"x_range\":{\"id\":\"1486\"},\"x_scale\":{\"id\":\"1490\"},\"y_range\":{\"id\":\"1488\"},\"y_scale\":{\"id\":\"1492\"}},\"id\":\"1483\",\"subtype\":\"Figure\",\"type\":\"Plot\"},{\"attributes\":{\"source\":{\"id\":\"1703\"}},\"id\":\"1707\",\"type\":\"CDSView\"},{\"attributes\":{\"source\":{\"id\":\"1758\"}},\"id\":\"1762\",\"type\":\"CDSView\"},{\"attributes\":{\"data\":{\"x\":[-1.0,0.0],\"y1\":[0,0],\"y2\":[0.109851487551521,0.109851487551521]},\"selected\":{\"id\":\"1947\"},\"selection_policy\":{\"id\":\"1948\"}},\"id\":\"1358\",\"type\":\"ColumnDataSource\"},{\"attributes\":{\"data\":{\"x\":[2.0,2.0],\"y\":[0,0.09586941819837758]},\"selected\":{\"id\":\"2069\"},\"selection_policy\":{\"id\":\"2070\"}},\"id\":\"1703\",\"type\":\"ColumnDataSource\"},{\"attributes\":{\"source\":{\"id\":\"1733\"}},\"id\":\"1737\",\"type\":\"CDSView\"},{\"attributes\":{},\"id\":\"1339\",\"type\":\"BasicTicker\"},{\"attributes\":{\"fill_alpha\":0.1,\"fill_color\":\"orange\",\"x\":{\"field\":\"x\"},\"y1\":{\"field\":\"y1\"},\"y2\":{\"field\":\"y2\"}},\"id\":\"1740\",\"type\":\"VArea\"},{\"attributes\":{\"line_alpha\":0.1,\"line_color\":\"orange\",\"x\":{\"field\":\"x\"},\"y\":{\"field\":\"y\"}},\"id\":\"1775\",\"type\":\"Line\"},{\"attributes\":{\"data\":{\"x\":[2.0,2.0],\"y\":[0,0.09586941819837758]},\"selected\":{\"id\":\"2073\"},\"selection_policy\":{\"id\":\"2074\"}},\"id\":\"1713\",\"type\":\"ColumnDataSource\"},{\"attributes\":{\"line_color\":\"orange\",\"x\":{\"field\":\"x\"},\"y\":{\"field\":\"y\"}},\"id\":\"1734\",\"type\":\"Line\"},{\"attributes\":{},\"id\":\"1655\",\"type\":\"BasicTicker\"},{\"attributes\":{\"data_source\":{\"id\":\"1058\"},\"glyph\":{\"id\":\"1059\"},\"hover_glyph\":null,\"muted_glyph\":null,\"nonselection_glyph\":{\"id\":\"1060\"},\"selection_glyph\":null,\"view\":{\"id\":\"1062\"}},\"id\":\"1061\",\"type\":\"GlyphRenderer\"},{\"attributes\":{\"axis_label\":\"density\",\"formatter\":{\"id\":\"1825\"},\"ticker\":{\"id\":\"1659\"}},\"id\":\"1658\",\"type\":\"LinearAxis\"},{\"attributes\":{\"data\":{\"x\":[0.0,1.0],\"y1\":[0,0],\"y2\":[0.109851487551521,0.109851487551521]},\"selected\":{\"id\":\"1953\"},\"selection_policy\":{\"id\":\"1954\"}},\"id\":\"1373\",\"type\":\"ColumnDataSource\"},{\"attributes\":{\"line_color\":\"orange\",\"x\":{\"field\":\"x\"},\"y\":{\"field\":\"y\"}},\"id\":\"1369\",\"type\":\"Line\"},{\"attributes\":{\"data\":{\"x\":[3.0,3.0],\"y\":[0,0.09586941819837758]},\"selected\":{\"id\":\"2079\"},\"selection_policy\":{\"id\":\"2080\"}},\"id\":\"1728\",\"type\":\"ColumnDataSource\"},{\"attributes\":{},\"id\":\"1842\",\"type\":\"UnionRenderers\"},{\"attributes\":{\"data_source\":{\"id\":\"1738\"},\"glyph\":{\"id\":\"1739\"},\"hover_glyph\":null,\"muted_glyph\":null,\"nonselection_glyph\":{\"id\":\"1740\"},\"selection_glyph\":null,\"view\":{\"id\":\"1742\"}},\"id\":\"1741\",\"type\":\"GlyphRenderer\"},{\"attributes\":{},\"id\":\"1648\",\"type\":\"DataRange1d\"},{\"attributes\":{},\"id\":\"2035\",\"type\":\"Selection\"},{\"attributes\":{},\"id\":\"1646\",\"type\":\"DataRange1d\"},{\"attributes\":{\"fill_alpha\":0.2,\"fill_color\":\"orange\",\"x\":{\"field\":\"x\"},\"y1\":{\"field\":\"y1\"},\"y2\":{\"field\":\"y2\"}},\"id\":\"1359\",\"type\":\"VArea\"},{\"attributes\":{\"line_alpha\":0.1,\"line_color\":\"orange\",\"x\":{\"field\":\"x\"},\"y\":{\"field\":\"y\"}},\"id\":\"1745\",\"type\":\"Line\"},{\"attributes\":{\"axis\":{\"id\":\"1334\"},\"ticker\":null},\"id\":\"1337\",\"type\":\"Grid\"},{\"attributes\":{\"data_source\":{\"id\":\"1678\"},\"glyph\":{\"id\":\"1679\"},\"hover_glyph\":null,\"muted_glyph\":null,\"nonselection_glyph\":{\"id\":\"1680\"},\"selection_glyph\":null,\"view\":{\"id\":\"1682\"}},\"id\":\"1681\",\"type\":\"GlyphRenderer\"},{\"attributes\":{\"data\":{\"x\":[4.0,4.0],\"y\":[0,0.09586941819837758]},\"selected\":{\"id\":\"2081\"},\"selection_policy\":{\"id\":\"2082\"}},\"id\":\"1733\",\"type\":\"ColumnDataSource\"},{\"attributes\":{\"data_source\":{\"id\":\"1668\"},\"glyph\":{\"id\":\"1669\"},\"hover_glyph\":null,\"muted_glyph\":null,\"nonselection_glyph\":{\"id\":\"1670\"},\"selection_glyph\":null,\"view\":{\"id\":\"1672\"}},\"id\":\"1671\",\"type\":\"GlyphRenderer\"},{\"attributes\":{\"data\":{\"x\":[-1.0,-1.0],\"y\":[0,0.18390112513315407]},\"selected\":{\"id\":\"1831\"},\"selection_policy\":{\"id\":\"1832\"}},\"id\":\"1028\",\"type\":\"ColumnDataSource\"},{\"attributes\":{},\"id\":\"1833\",\"type\":\"Selection\"},{\"attributes\":{\"axis\":{\"id\":\"1658\"},\"dimension\":1,\"ticker\":null},\"id\":\"1661\",\"type\":\"Grid\"},{\"attributes\":{\"line_alpha\":0.1,\"line_color\":\"orange\",\"x\":{\"field\":\"x\"},\"y\":{\"field\":\"y\"}},\"id\":\"1730\",\"type\":\"Line\"},{\"attributes\":{},\"id\":\"1839\",\"type\":\"Selection\"},{\"attributes\":{\"source\":{\"id\":\"1358\"}},\"id\":\"1362\",\"type\":\"CDSView\"},{\"attributes\":{\"source\":{\"id\":\"1728\"}},\"id\":\"1732\",\"type\":\"CDSView\"},{\"attributes\":{},\"id\":\"1834\",\"type\":\"UnionRenderers\"},{\"attributes\":{\"data_source\":{\"id\":\"1063\"},\"glyph\":{\"id\":\"1064\"},\"hover_glyph\":null,\"muted_glyph\":null,\"nonselection_glyph\":{\"id\":\"1065\"},\"selection_glyph\":null,\"view\":{\"id\":\"1067\"}},\"id\":\"1066\",\"type\":\"GlyphRenderer\"},{\"attributes\":{\"data_source\":{\"id\":\"1353\"},\"glyph\":{\"id\":\"1354\"},\"hover_glyph\":null,\"muted_glyph\":null,\"nonselection_glyph\":{\"id\":\"1355\"},\"selection_glyph\":null,\"view\":{\"id\":\"1357\"}},\"id\":\"1356\",\"type\":\"GlyphRenderer\"},{\"attributes\":{\"data_source\":{\"id\":\"1733\"},\"glyph\":{\"id\":\"1734\"},\"hover_glyph\":null,\"muted_glyph\":null,\"nonselection_glyph\":{\"id\":\"1735\"},\"selection_glyph\":null,\"view\":{\"id\":\"1737\"}},\"id\":\"1736\",\"type\":\"GlyphRenderer\"},{\"attributes\":{\"line_alpha\":0.1,\"line_color\":\"orange\",\"x\":{\"field\":\"x\"},\"y\":{\"field\":\"y\"}},\"id\":\"1700\",\"type\":\"Line\"},{\"attributes\":{\"line_color\":\"orange\",\"x\":{\"field\":\"x\"},\"y\":{\"field\":\"y\"}},\"id\":\"1744\",\"type\":\"Line\"},{\"attributes\":{\"data_source\":{\"id\":\"1343\"},\"glyph\":{\"id\":\"1344\"},\"hover_glyph\":null,\"muted_glyph\":null,\"nonselection_glyph\":{\"id\":\"1345\"},\"selection_glyph\":null,\"view\":{\"id\":\"1347\"}},\"id\":\"1346\",\"type\":\"GlyphRenderer\"},{\"attributes\":{},\"id\":\"1652\",\"type\":\"LinearScale\"},{\"attributes\":{\"data_source\":{\"id\":\"1028\"},\"glyph\":{\"id\":\"1029\"},\"hover_glyph\":null,\"muted_glyph\":null,\"nonselection_glyph\":{\"id\":\"1030\"},\"selection_glyph\":null,\"view\":{\"id\":\"1032\"}},\"id\":\"1031\",\"type\":\"GlyphRenderer\"},{\"attributes\":{\"source\":{\"id\":\"1693\"}},\"id\":\"1697\",\"type\":\"CDSView\"},{\"attributes\":{\"source\":{\"id\":\"1738\"}},\"id\":\"1742\",\"type\":\"CDSView\"},{\"attributes\":{\"active_drag\":\"auto\",\"active_inspect\":\"auto\",\"active_multi\":null,\"active_scroll\":\"auto\",\"active_tap\":\"auto\"},\"id\":\"1342\",\"type\":\"Toolbar\"},{\"attributes\":{},\"id\":\"1659\",\"type\":\"BasicTicker\"},{\"attributes\":{\"fill_alpha\":0.2,\"fill_color\":\"orange\",\"x\":{\"field\":\"x\"},\"y1\":{\"field\":\"y1\"},\"y2\":{\"field\":\"y2\"}},\"id\":\"1739\",\"type\":\"VArea\"},{\"attributes\":{\"data_source\":{\"id\":\"1693\"},\"glyph\":{\"id\":\"1694\"},\"hover_glyph\":null,\"muted_glyph\":null,\"nonselection_glyph\":{\"id\":\"1695\"},\"selection_glyph\":null,\"view\":{\"id\":\"1697\"}},\"id\":\"1696\",\"type\":\"GlyphRenderer\"},{\"attributes\":{\"line_color\":\"orange\",\"x\":{\"field\":\"x\"},\"y\":{\"field\":\"y\"}},\"id\":\"1349\",\"type\":\"Line\"},{\"attributes\":{\"line_alpha\":0.1,\"line_color\":\"orange\",\"x\":{\"field\":\"x\"},\"y\":{\"field\":\"y\"}},\"id\":\"1735\",\"type\":\"Line\"},{\"attributes\":{\"data_source\":{\"id\":\"1368\"},\"glyph\":{\"id\":\"1369\"},\"hover_glyph\":null,\"muted_glyph\":null,\"nonselection_glyph\":{\"id\":\"1370\"},\"selection_glyph\":null,\"view\":{\"id\":\"1372\"}},\"id\":\"1371\",\"type\":\"GlyphRenderer\"},{\"attributes\":{\"data\":{\"x\":[0.0,1.0],\"y1\":[0,0],\"y2\":[0.09586941819837758,0.09586941819837758]},\"selected\":{\"id\":\"2065\"},\"selection_policy\":{\"id\":\"2066\"}},\"id\":\"1693\",\"type\":\"ColumnDataSource\"},{\"attributes\":{\"data\":{\"x\":[4.0,4.0],\"y\":[0,0.09586941819837758]},\"selected\":{\"id\":\"2085\"},\"selection_policy\":{\"id\":\"2086\"}},\"id\":\"1743\",\"type\":\"ColumnDataSource\"},{\"attributes\":{\"data\":{\"x\":[0.0,0.0],\"y\":[0,0.109851487551521]},\"selected\":{\"id\":\"1945\"},\"selection_policy\":{\"id\":\"1946\"}},\"id\":\"1353\",\"type\":\"ColumnDataSource\"},{\"attributes\":{\"fill_alpha\":0.1,\"fill_color\":\"orange\",\"x\":{\"field\":\"x\"},\"y1\":{\"field\":\"y1\"},\"y2\":{\"field\":\"y2\"}},\"id\":\"1755\",\"type\":\"VArea\"},{\"attributes\":{},\"id\":\"1916\",\"type\":\"UnionRenderers\"},{\"attributes\":{\"line_alpha\":0.1,\"line_color\":\"orange\",\"x\":{\"field\":\"x\"},\"y\":{\"field\":\"y\"}},\"id\":\"1350\",\"type\":\"Line\"},{\"attributes\":{\"fill_alpha\":0.2,\"fill_color\":\"orange\",\"x\":{\"field\":\"x\"},\"y1\":{\"field\":\"y1\"},\"y2\":{\"field\":\"y2\"}},\"id\":\"1679\",\"type\":\"VArea\"},{\"attributes\":{\"line_color\":\"orange\",\"x\":{\"field\":\"x\"},\"y\":{\"field\":\"y\"}},\"id\":\"1749\",\"type\":\"Line\"},{\"attributes\":{\"line_color\":\"orange\",\"x\":{\"field\":\"x\"},\"y\":{\"field\":\"y\"}},\"id\":\"1364\",\"type\":\"Line\"},{\"attributes\":{\"source\":{\"id\":\"1688\"}},\"id\":\"1692\",\"type\":\"CDSView\"},{\"attributes\":{},\"id\":\"1829\",\"type\":\"Selection\"},{\"attributes\":{\"line_color\":\"orange\",\"x\":{\"field\":\"x\"},\"y\":{\"field\":\"y\"}},\"id\":\"1029\",\"type\":\"Line\"},{\"attributes\":{\"line_color\":\"orange\",\"x\":{\"field\":\"x\"},\"y\":{\"field\":\"y\"}},\"id\":\"1699\",\"type\":\"Line\"},{\"attributes\":{\"data\":{\"x\":[3.0,4.0],\"y1\":[0,0],\"y2\":[0.09586941819837758,0.09586941819837758]},\"selected\":{\"id\":\"2083\"},\"selection_policy\":{\"id\":\"2084\"}},\"id\":\"1738\",\"type\":\"ColumnDataSource\"},{\"attributes\":{\"data_source\":{\"id\":\"1753\"},\"glyph\":{\"id\":\"1754\"},\"hover_glyph\":null,\"muted_glyph\":null,\"nonselection_glyph\":{\"id\":\"1755\"},\"selection_glyph\":null,\"view\":{\"id\":\"1757\"}},\"id\":\"1756\",\"type\":\"GlyphRenderer\"},{\"attributes\":{\"line_alpha\":0.1,\"line_color\":\"orange\",\"x\":{\"field\":\"x\"},\"y\":{\"field\":\"y\"}},\"id\":\"1060\",\"type\":\"Line\"},{\"attributes\":{\"source\":{\"id\":\"1348\"}},\"id\":\"1352\",\"type\":\"CDSView\"},{\"attributes\":{\"fill_alpha\":0.2,\"fill_color\":\"orange\",\"x\":{\"field\":\"x\"},\"y1\":{\"field\":\"y1\"},\"y2\":{\"field\":\"y2\"}},\"id\":\"1054\",\"type\":\"VArea\"},{\"attributes\":{\"data\":{\"x\":[1.0,1.0],\"y\":[0,0.09586941819837758]},\"selected\":{\"id\":\"2067\"},\"selection_policy\":{\"id\":\"2068\"}},\"id\":\"1698\",\"type\":\"ColumnDataSource\"},{\"attributes\":{\"source\":{\"id\":\"1743\"}},\"id\":\"1747\",\"type\":\"CDSView\"},{\"attributes\":{\"data_source\":{\"id\":\"1048\"},\"glyph\":{\"id\":\"1049\"},\"hover_glyph\":null,\"muted_glyph\":null,\"nonselection_glyph\":{\"id\":\"1050\"},\"selection_glyph\":null,\"view\":{\"id\":\"1052\"}},\"id\":\"1051\",\"type\":\"GlyphRenderer\"},{\"attributes\":{\"line_alpha\":0.1,\"line_color\":\"orange\",\"x\":{\"field\":\"x\"},\"y\":{\"field\":\"y\"}},\"id\":\"1370\",\"type\":\"Line\"},{\"attributes\":{\"line_alpha\":0.1,\"line_color\":\"orange\",\"x\":{\"field\":\"x\"},\"y\":{\"field\":\"y\"}},\"id\":\"1690\",\"type\":\"Line\"},{\"attributes\":{\"fill_alpha\":0.1,\"fill_color\":\"orange\",\"x\":{\"field\":\"x\"},\"y1\":{\"field\":\"y1\"},\"y2\":{\"field\":\"y2\"}},\"id\":\"1055\",\"type\":\"VArea\"},{\"attributes\":{\"fill_alpha\":0.1,\"fill_color\":\"orange\",\"x\":{\"field\":\"x\"},\"y1\":{\"field\":\"y1\"},\"y2\":{\"field\":\"y2\"}},\"id\":\"1375\",\"type\":\"VArea\"},{\"attributes\":{\"fill_alpha\":0.1,\"fill_color\":\"orange\",\"x\":{\"field\":\"x\"},\"y1\":{\"field\":\"y1\"},\"y2\":{\"field\":\"y2\"}},\"id\":\"1695\",\"type\":\"VArea\"},{\"attributes\":{\"data_source\":{\"id\":\"1743\"},\"glyph\":{\"id\":\"1744\"},\"hover_glyph\":null,\"muted_glyph\":null,\"nonselection_glyph\":{\"id\":\"1745\"},\"selection_glyph\":null,\"view\":{\"id\":\"1747\"}},\"id\":\"1746\",\"type\":\"GlyphRenderer\"},{\"attributes\":{\"source\":{\"id\":\"1023\"}},\"id\":\"1027\",\"type\":\"CDSView\"},{\"attributes\":{\"data\":{\"x\":[-1.0,0.0],\"y1\":[0,0],\"y2\":[0.09586941819837758,0.09586941819837758]},\"selected\":{\"id\":\"2059\"},\"selection_policy\":{\"id\":\"2060\"}},\"id\":\"1678\",\"type\":\"ColumnDataSource\"},{\"attributes\":{\"data_source\":{\"id\":\"1748\"},\"glyph\":{\"id\":\"1749\"},\"hover_glyph\":null,\"muted_glyph\":null,\"nonselection_glyph\":{\"id\":\"1750\"},\"selection_glyph\":null,\"view\":{\"id\":\"1752\"}},\"id\":\"1751\",\"type\":\"GlyphRenderer\"},{\"attributes\":{\"data\":{\"x\":[0.0,0.0],\"y\":[0,0.18390112513315407]},\"selected\":{\"id\":\"1837\"},\"selection_policy\":{\"id\":\"1838\"}},\"id\":\"1043\",\"type\":\"ColumnDataSource\"},{\"attributes\":{\"source\":{\"id\":\"1673\"}},\"id\":\"1677\",\"type\":\"CDSView\"},{\"attributes\":{\"source\":{\"id\":\"1368\"}},\"id\":\"1372\",\"type\":\"CDSView\"},{\"attributes\":{\"source\":{\"id\":\"1678\"}},\"id\":\"1682\",\"type\":\"CDSView\"},{\"attributes\":{\"line_color\":\"orange\",\"x\":{\"field\":\"x\"},\"y\":{\"field\":\"y\"}},\"id\":\"1759\",\"type\":\"Line\"},{\"attributes\":{\"line_color\":\"orange\",\"x\":{\"field\":\"x\"},\"y\":{\"field\":\"y\"}},\"id\":\"1049\",\"type\":\"Line\"},{\"attributes\":{\"source\":{\"id\":\"1343\"}},\"id\":\"1347\",\"type\":\"CDSView\"},{\"attributes\":{\"fill_alpha\":0.2,\"fill_color\":\"orange\",\"x\":{\"field\":\"x\"},\"y1\":{\"field\":\"y1\"},\"y2\":{\"field\":\"y2\"}},\"id\":\"1754\",\"type\":\"VArea\"},{\"attributes\":{\"data_source\":{\"id\":\"1683\"},\"glyph\":{\"id\":\"1684\"},\"hover_glyph\":null,\"muted_glyph\":null,\"nonselection_glyph\":{\"id\":\"1685\"},\"selection_glyph\":null,\"view\":{\"id\":\"1687\"}},\"id\":\"1686\",\"type\":\"GlyphRenderer\"},{\"attributes\":{\"data\":{\"x\":[1.0,1.0],\"y\":[0,0.18390112513315407]},\"selected\":{\"id\":\"1843\"},\"selection_policy\":{\"id\":\"1844\"}},\"id\":\"1058\",\"type\":\"ColumnDataSource\"},{\"attributes\":{\"line_color\":\"orange\",\"x\":{\"field\":\"x\"},\"y\":{\"field\":\"y\"}},\"id\":\"1414\",\"type\":\"Line\"},{\"attributes\":{\"data\":{\"x\":[0.0,1.0],\"y1\":[0,0],\"y2\":[0.18390112513315407,0.18390112513315407]},\"selected\":{\"id\":\"1841\"},\"selection_policy\":{\"id\":\"1842\"}},\"id\":\"1053\",\"type\":\"ColumnDataSource\"},{\"attributes\":{\"line_alpha\":0.1,\"line_color\":\"orange\",\"x\":{\"field\":\"x\"},\"y\":{\"field\":\"y\"}},\"id\":\"1675\",\"type\":\"Line\"},{\"attributes\":{\"line_alpha\":0.1,\"line_color\":\"orange\",\"x\":{\"field\":\"x\"},\"y\":{\"field\":\"y\"}},\"id\":\"1750\",\"type\":\"Line\"},{\"attributes\":{\"line_color\":\"orange\",\"x\":{\"field\":\"x\"},\"y\":{\"field\":\"y\"}},\"id\":\"1684\",\"type\":\"Line\"},{\"attributes\":{\"source\":{\"id\":\"1748\"}},\"id\":\"1752\",\"type\":\"CDSView\"},{\"attributes\":{},\"id\":\"1918\",\"type\":\"UnionRenderers\"},{\"attributes\":{\"data_source\":{\"id\":\"1663\"},\"glyph\":{\"id\":\"1664\"},\"hover_glyph\":null,\"muted_glyph\":null,\"nonselection_glyph\":{\"id\":\"1665\"},\"selection_glyph\":null,\"view\":{\"id\":\"1667\"}},\"id\":\"1666\",\"type\":\"GlyphRenderer\"},{\"attributes\":{\"source\":{\"id\":\"1038\"}},\"id\":\"1042\",\"type\":\"CDSView\"},{\"attributes\":{\"data\":{\"x\":[4.0,5.0],\"y1\":[0,0],\"y2\":[0.09586941819837758,0.09586941819837758]},\"selected\":{\"id\":\"2089\"},\"selection_policy\":{\"id\":\"2090\"}},\"id\":\"1753\",\"type\":\"ColumnDataSource\"},{\"attributes\":{\"data_source\":{\"id\":\"1038\"},\"glyph\":{\"id\":\"1039\"},\"hover_glyph\":null,\"muted_glyph\":null,\"nonselection_glyph\":{\"id\":\"1040\"},\"selection_glyph\":null,\"view\":{\"id\":\"1042\"}},\"id\":\"1041\",\"type\":\"GlyphRenderer\"},{\"attributes\":{\"line_alpha\":0.1,\"line_color\":\"orange\",\"x\":{\"field\":\"x\"},\"y\":{\"field\":\"y\"}},\"id\":\"1415\",\"type\":\"Line\"},{\"attributes\":{\"data\":{\"x\":[1.0,1.0],\"y\":[0,0.09586941819837758]},\"selected\":{\"id\":\"2063\"},\"selection_policy\":{\"id\":\"2064\"}},\"id\":\"1688\",\"type\":\"ColumnDataSource\"},{\"attributes\":{\"data_source\":{\"id\":\"1763\"},\"glyph\":{\"id\":\"1764\"},\"hover_glyph\":null,\"muted_glyph\":null,\"nonselection_glyph\":{\"id\":\"1765\"},\"selection_glyph\":null,\"view\":{\"id\":\"1767\"}},\"id\":\"1766\",\"type\":\"GlyphRenderer\"},{\"attributes\":{\"source\":{\"id\":\"1753\"}},\"id\":\"1757\",\"type\":\"CDSView\"},{\"attributes\":{},\"id\":\"2039\",\"type\":\"Selection\"},{\"attributes\":{\"data\":{\"x\":[2.0,2.0],\"y\":[0,0.18390112513315407]},\"selected\":{\"id\":\"1845\"},\"selection_policy\":{\"id\":\"1846\"}},\"id\":\"1063\",\"type\":\"ColumnDataSource\"},{\"attributes\":{\"data\":{\"x\":[-1.0,-1.0],\"y\":[0,0.09586941819837758]},\"selected\":{\"id\":\"2055\"},\"selection_policy\":{\"id\":\"2056\"}},\"id\":\"1668\",\"type\":\"ColumnDataSource\"},{\"attributes\":{\"fill_alpha\":0.1,\"fill_color\":\"orange\",\"x\":{\"field\":\"x\"},\"y1\":{\"field\":\"y1\"},\"y2\":{\"field\":\"y2\"}},\"id\":\"1770\",\"type\":\"VArea\"},{\"attributes\":{\"data\":{\"x\":[-1.0,0.0],\"y1\":[0,0],\"y2\":[0.18390112513315407,0.18390112513315407]},\"selected\":{\"id\":\"1835\"},\"selection_policy\":{\"id\":\"1836\"}},\"id\":\"1038\",\"type\":\"ColumnDataSource\"},{\"attributes\":{\"line_color\":\"orange\",\"x\":{\"field\":\"x\"},\"y\":{\"field\":\"y\"}},\"id\":\"1714\",\"type\":\"Line\"},{\"attributes\":{\"line_color\":\"orange\",\"x\":{\"field\":\"x\"},\"y\":{\"field\":\"y\"}},\"id\":\"1764\",\"type\":\"Line\"},{\"attributes\":{\"line_color\":\"orange\",\"x\":{\"field\":\"x\"},\"y\":{\"field\":\"y\"}},\"id\":\"1669\",\"type\":\"Line\"},{\"attributes\":{\"data\":{\"x\":[5.0,5.0],\"y\":[0,0.09586941819837758]},\"selected\":{\"id\":\"2091\"},\"selection_policy\":{\"id\":\"2092\"}},\"id\":\"1758\",\"type\":\"ColumnDataSource\"},{\"attributes\":{},\"id\":\"2037\",\"type\":\"Selection\"},{\"attributes\":{\"data\":{\"x\":[6.0,6.0],\"y\":[0,0.09586941819837758]},\"selected\":{\"id\":\"2093\"},\"selection_policy\":{\"id\":\"2094\"}},\"id\":\"1763\",\"type\":\"ColumnDataSource\"},{\"attributes\":{},\"id\":\"1919\",\"type\":\"Selection\"},{\"attributes\":{},\"id\":\"2038\",\"type\":\"UnionRenderers\"},{\"attributes\":{\"data_source\":{\"id\":\"1768\"},\"glyph\":{\"id\":\"1769\"},\"hover_glyph\":null,\"muted_glyph\":null,\"nonselection_glyph\":{\"id\":\"1770\"},\"selection_glyph\":null,\"view\":{\"id\":\"1772\"}},\"id\":\"1771\",\"type\":\"GlyphRenderer\"},{\"attributes\":{\"bottom\":{\"value\":0},\"fill_alpha\":{\"value\":0.1},\"fill_color\":{\"value\":\"navy\"},\"left\":{\"field\":\"left\"},\"line_alpha\":{\"value\":0.1},\"line_color\":{\"value\":\"white\"},\"right\":{\"field\":\"right\"},\"top\":{\"field\":\"top\"}},\"id\":\"1665\",\"type\":\"Quad\"},{\"attributes\":{\"data_source\":{\"id\":\"1418\"},\"glyph\":{\"id\":\"1419\"},\"hover_glyph\":null,\"muted_glyph\":null,\"nonselection_glyph\":{\"id\":\"1420\"},\"selection_glyph\":null,\"view\":{\"id\":\"1422\"}},\"id\":\"1421\",\"type\":\"GlyphRenderer\"},{\"attributes\":{\"fill_alpha\":0.1,\"fill_color\":\"orange\",\"x\":{\"field\":\"x\"},\"y1\":{\"field\":\"y1\"},\"y2\":{\"field\":\"y2\"}},\"id\":\"1040\",\"type\":\"VArea\"},{\"attributes\":{\"data\":{\"left\":{\"__ndarray__\":\"tnJhamzr4j/Qa/+Id+jyP0Yeztw4W/w/XmhOGP3mAkCYwTXCXaAHQNQaHWy+WQxABzoCi4+JEECl5vXfP+YSQEKT6TTwQhVA3z/diaCfF0B97NDeUPwZQBqZxDMBWRxAt0W4iLG1HkAq+dXuMIkgQHnPTxmJtyFAx6XJQ+HlIkAWfENuORQkQGVSvZiRQiVAsyg3w+lwJkAC/7DtQZ8nQFHVKhiazShAn6ukQvL7KUDugR5tSiorQD1YmJeiWCxAiy4SwvqGLUDaBIzsUrUuQCnbBRer4y9AvNi/oAGJMEDkw/y1LSAxQAuvOctZtzFAMpp24IVOMkBahbP1seUyQIFw8ArefDNAqFstIAoUNEDQRmo1Nqs0QPcxp0piQjVAHh3kX47ZNUBGCCF1unA2QG3zXYrmBzdAlN6anxKfN0C8yde0PjY4QOO0FMpqzThACqBR35ZkOUAyi470wvs5QFl2ywnvkjpAgGEIHxsqO0CoTEU0R8E7QM83gklzWDxA9iK/Xp/vPEAeDvxzy4Y9QA==\",\"dtype\":\"float64\",\"shape\":[50]},\"right\":{\"__ndarray__\":\"0Gv/iHfo8j9GHs7cOFv8P15oThj95gJAmME1wl2gB0DUGh1svlkMQAc6AouPiRBApeb13z/mEkBCk+k08EIVQN8/3YmgnxdAfezQ3lD8GUAamcQzAVkcQLdFuIixtR5AKvnV7jCJIEB5z08ZibchQMelyUPh5SJAFnxDbjkUJEBlUr2YkUIlQLMoN8PpcCZAAv+w7UGfJ0BR1SoYms0oQJ+rpELy+ylA7oEebUoqK0A9WJiXolgsQIsuEsL6hi1A2gSM7FK1LkAp2wUXq+MvQLzYv6ABiTBA5MP8tS0gMUALrznLWbcxQDKaduCFTjJAWoWz9bHlMkCBcPAK3nwzQKhbLSAKFDRA0EZqNTarNED3MadKYkI1QB4d5F+O2TVARgghdbpwNkBt812K5gc3QJTemp8SnzdAvMnXtD42OEDjtBTKas04QAqgUd+WZDlAMouO9ML7OUBZdssJ75I6QIBhCB8bKjtAqExFNEfBO0DPN4JJc1g8QPYiv16f7zxAHg78c8uGPUBF+TiJ9x0+QA==\",\"dtype\":\"float64\",\"shape\":[50]},\"top\":{\"__ndarray__\":\"acU2tmarGj/V+YJCgDk2Pw9Z00qwAEk/IL1H22HyVT+QaPhxd/lkP0H8lAbBTnM/nj2kIgOvfD8HyVHcR0uGP9iieSumoo8/NXl+ETD0lj/tnMifirqbPyrv611mjaI/JzoFWyjcpT+waVnqaPuqP22sRd2iKq8/QmCf3EYesj/fqK9nNa2zP95jEhl5NbU/Q4zhlxPztj8LJzgaGbu3P9HmtQFxGLg/eDzZ7+WKuD+hdTdgppi3P3l6HbmkXLc/K38477gxtj+grWDjHWC0P6kqU0D6WrM/goduS66msD9zEFCzKPqtPypsAfR97qk/5n1kai64pj+FrCv21BmiP9cS+Lw97Zw/IMQByR1lmD+8dQvV/dyTPzGYeIxg1I0/SRYT4x6NiD//iayal3eBP2DqXRu5QHo//0Xj0GV5cj+s31x8c3JoP7H+psoBZGA/k0PRDCVkVT/3wWtj4xxQP1Vz+RC9x0Y/ScU2tmarKj93xTa2ZqsqP6zfXHxzcig/ScU2tmarGj9PLs/OmccBPw==\",\"dtype\":\"float64\",\"shape\":[50]}},\"selected\":{\"id\":\"2053\"},\"selection_policy\":{\"id\":\"2054\"}},\"id\":\"1663\",\"type\":\"ColumnDataSource\"},{\"attributes\":{\"line_alpha\":0.1,\"line_color\":\"orange\",\"x\":{\"field\":\"x\"},\"y\":{\"field\":\"y\"}},\"id\":\"1760\",\"type\":\"Line\"},{\"attributes\":{},\"id\":\"1920\",\"type\":\"UnionRenderers\"},{\"attributes\":{},\"id\":\"1923\",\"type\":\"Selection\"},{\"attributes\":{\"data\":{\"x\":[1.0,1.0],\"y\":[0,0.109851487551521]},\"selected\":{\"id\":\"1951\"},\"selection_policy\":{\"id\":\"1952\"}},\"id\":\"1368\",\"type\":\"ColumnDataSource\"},{\"attributes\":{\"line_color\":\"orange\",\"x\":{\"field\":\"x\"},\"y\":{\"field\":\"y\"}},\"id\":\"1774\",\"type\":\"Line\"},{\"attributes\":{},\"id\":\"2027\",\"type\":\"Selection\"},{\"attributes\":{\"data_source\":{\"id\":\"1348\"},\"glyph\":{\"id\":\"1349\"},\"hover_glyph\":null,\"muted_glyph\":null,\"nonselection_glyph\":{\"id\":\"1350\"},\"selection_glyph\":null,\"view\":{\"id\":\"1352\"}},\"id\":\"1351\",\"type\":\"GlyphRenderer\"},{\"attributes\":{\"fill_alpha\":0.1,\"fill_color\":\"orange\",\"x\":{\"field\":\"x\"},\"y1\":{\"field\":\"y1\"},\"y2\":{\"field\":\"y2\"}},\"id\":\"1680\",\"type\":\"VArea\"},{\"attributes\":{\"data_source\":{\"id\":\"1758\"},\"glyph\":{\"id\":\"1759\"},\"hover_glyph\":null,\"muted_glyph\":null,\"nonselection_glyph\":{\"id\":\"1760\"},\"selection_glyph\":null,\"view\":{\"id\":\"1762\"}},\"id\":\"1761\",\"type\":\"GlyphRenderer\"},{\"attributes\":{\"source\":{\"id\":\"1403\"}},\"id\":\"1407\",\"type\":\"CDSView\"},{\"attributes\":{\"line_color\":\"orange\",\"x\":{\"field\":\"x\"},\"y\":{\"field\":\"y\"}},\"id\":\"1674\",\"type\":\"Line\"},{\"attributes\":{\"data_source\":{\"id\":\"1403\"},\"glyph\":{\"id\":\"1404\"},\"hover_glyph\":null,\"muted_glyph\":null,\"nonselection_glyph\":{\"id\":\"1405\"},\"selection_glyph\":null,\"view\":{\"id\":\"1407\"}},\"id\":\"1406\",\"type\":\"GlyphRenderer\"},{\"attributes\":{\"data\":{\"x\":[0.0,0.0],\"y\":[0,0.09586941819837758]},\"selected\":{\"id\":\"2057\"},\"selection_policy\":{\"id\":\"2058\"}},\"id\":\"1673\",\"type\":\"ColumnDataSource\"},{\"attributes\":{},\"id\":\"1913\",\"type\":\"Selection\"},{\"attributes\":{\"data\":{\"x\":[7.0,7.0],\"y\":[0,0.09586941819837758]},\"selected\":{\"id\":\"2099\"},\"selection_policy\":{\"id\":\"2100\"}},\"id\":\"1778\",\"type\":\"ColumnDataSource\"},{\"attributes\":{\"line_color\":\"orange\",\"x\":{\"field\":\"x\"},\"y\":{\"field\":\"y\"}},\"id\":\"1034\",\"type\":\"Line\"},{\"attributes\":{\"line_color\":\"orange\",\"x\":{\"field\":\"x\"},\"y\":{\"field\":\"y\"}},\"id\":\"1354\",\"type\":\"Line\"},{\"attributes\":{\"line_alpha\":0.1,\"line_color\":\"orange\",\"x\":{\"field\":\"x\"},\"y\":{\"field\":\"y\"}},\"id\":\"1670\",\"type\":\"Line\"},{\"attributes\":{\"fill_alpha\":0.1,\"fill_color\":\"orange\",\"x\":{\"field\":\"x\"},\"y1\":{\"field\":\"y1\"},\"y2\":{\"field\":\"y2\"}},\"id\":\"1360\",\"type\":\"VArea\"},{\"attributes\":{\"source\":{\"id\":\"1668\"}},\"id\":\"1672\",\"type\":\"CDSView\"},{\"attributes\":{\"data\":{\"x\":[3.0,3.0],\"y\":[0,0.09586941819837758]},\"selected\":{\"id\":\"2075\"},\"selection_policy\":{\"id\":\"2076\"}},\"id\":\"1718\",\"type\":\"ColumnDataSource\"},{\"attributes\":{\"data_source\":{\"id\":\"1673\"},\"glyph\":{\"id\":\"1674\"},\"hover_glyph\":null,\"muted_glyph\":null,\"nonselection_glyph\":{\"id\":\"1675\"},\"selection_glyph\":null,\"view\":{\"id\":\"1677\"}},\"id\":\"1676\",\"type\":\"GlyphRenderer\"},{\"attributes\":{\"source\":{\"id\":\"1408\"}},\"id\":\"1412\",\"type\":\"CDSView\"},{\"attributes\":{\"fill_alpha\":0.1,\"fill_color\":\"orange\",\"x\":{\"field\":\"x\"},\"y1\":{\"field\":\"y1\"},\"y2\":{\"field\":\"y2\"}},\"id\":\"1725\",\"type\":\"VArea\"},{\"attributes\":{\"source\":{\"id\":\"1713\"}},\"id\":\"1717\",\"type\":\"CDSView\"},{\"attributes\":{},\"id\":\"1836\",\"type\":\"UnionRenderers\"},{\"attributes\":{},\"id\":\"1921\",\"type\":\"Selection\"},{\"attributes\":{\"line_alpha\":0.1,\"line_color\":\"orange\",\"x\":{\"field\":\"x\"},\"y\":{\"field\":\"y\"}},\"id\":\"1365\",\"type\":\"Line\"},{\"attributes\":{\"line_alpha\":0.1,\"line_color\":\"orange\",\"x\":{\"field\":\"x\"},\"y\":{\"field\":\"y\"}},\"id\":\"1685\",\"type\":\"Line\"},{\"attributes\":{},\"id\":\"1922\",\"type\":\"UnionRenderers\"},{\"attributes\":{\"data\":{\"x\":[0.0,0.0],\"y\":[0,0.18390112513315407]},\"selected\":{\"id\":\"1833\"},\"selection_policy\":{\"id\":\"1834\"}},\"id\":\"1033\",\"type\":\"ColumnDataSource\"},{\"attributes\":{\"line_alpha\":0.1,\"line_color\":\"orange\",\"x\":{\"field\":\"x\"},\"y\":{\"field\":\"y\"}},\"id\":\"1410\",\"type\":\"Line\"},{\"attributes\":{\"source\":{\"id\":\"1683\"}},\"id\":\"1687\",\"type\":\"CDSView\"},{\"attributes\":{\"data_source\":{\"id\":\"1728\"},\"glyph\":{\"id\":\"1729\"},\"hover_glyph\":null,\"muted_glyph\":null,\"nonselection_glyph\":{\"id\":\"1730\"},\"selection_glyph\":null,\"view\":{\"id\":\"1732\"}},\"id\":\"1731\",\"type\":\"GlyphRenderer\"},{\"attributes\":{\"data\":{\"x\":[4.0,4.0],\"y\":[0,0.109851487551521]},\"selected\":{\"id\":\"1969\"},\"selection_policy\":{\"id\":\"1970\"}},\"id\":\"1413\",\"type\":\"ColumnDataSource\"},{\"attributes\":{\"source\":{\"id\":\"1698\"}},\"id\":\"1702\",\"type\":\"CDSView\"},{\"attributes\":{\"data_source\":{\"id\":\"1688\"},\"glyph\":{\"id\":\"1689\"},\"hover_glyph\":null,\"muted_glyph\":null,\"nonselection_glyph\":{\"id\":\"1690\"},\"selection_glyph\":null,\"view\":{\"id\":\"1692\"}},\"id\":\"1691\",\"type\":\"GlyphRenderer\"},{\"attributes\":{\"data_source\":{\"id\":\"1783\"},\"glyph\":{\"id\":\"1784\"},\"hover_glyph\":null,\"muted_glyph\":null,\"nonselection_glyph\":{\"id\":\"1785\"},\"selection_glyph\":null,\"view\":{\"id\":\"1787\"}},\"id\":\"1786\",\"type\":\"GlyphRenderer\"},{\"attributes\":{\"source\":{\"id\":\"1058\"}},\"id\":\"1062\",\"type\":\"CDSView\"},{\"attributes\":{\"data_source\":{\"id\":\"1773\"},\"glyph\":{\"id\":\"1774\"},\"hover_glyph\":null,\"muted_glyph\":null,\"nonselection_glyph\":{\"id\":\"1775\"},\"selection_glyph\":null,\"view\":{\"id\":\"1777\"}},\"id\":\"1776\",\"type\":\"GlyphRenderer\"},{\"attributes\":{\"line_alpha\":0.1,\"line_color\":\"orange\",\"x\":{\"field\":\"x\"},\"y\":{\"field\":\"y\"}},\"id\":\"1050\",\"type\":\"Line\"},{\"attributes\":{\"source\":{\"id\":\"1373\"}},\"id\":\"1377\",\"type\":\"CDSView\"},{\"attributes\":{\"source\":{\"id\":\"1048\"}},\"id\":\"1052\",\"type\":\"CDSView\"},{\"attributes\":{\"data\":{\"x\":[-1.0,-1.0],\"y\":[0,0.109851487551521]},\"selected\":{\"id\":\"1943\"},\"selection_policy\":{\"id\":\"1944\"}},\"id\":\"1348\",\"type\":\"ColumnDataSource\"},{\"attributes\":{\"line_color\":\"orange\",\"x\":{\"field\":\"x\"},\"y\":{\"field\":\"y\"}},\"id\":\"1409\",\"type\":\"Line\"},{\"attributes\":{\"line_color\":\"orange\",\"x\":{\"field\":\"x\"},\"y\":{\"field\":\"y\"}},\"id\":\"1059\",\"type\":\"Line\"},{\"attributes\":{\"data\":{\"x\":[3.0,3.0],\"y\":[0,0.109851487551521]},\"selected\":{\"id\":\"1967\"},\"selection_policy\":{\"id\":\"1968\"}},\"id\":\"1408\",\"type\":\"ColumnDataSource\"},{\"attributes\":{\"data\":{\"x\":[0.0,0.0],\"y\":[0,0.09586941819837758]},\"selected\":{\"id\":\"2061\"},\"selection_policy\":{\"id\":\"2062\"}},\"id\":\"1683\",\"type\":\"ColumnDataSource\"},{\"attributes\":{\"data_source\":{\"id\":\"1703\"},\"glyph\":{\"id\":\"1704\"},\"hover_glyph\":null,\"muted_glyph\":null,\"nonselection_glyph\":{\"id\":\"1705\"},\"selection_glyph\":null,\"view\":{\"id\":\"1707\"}},\"id\":\"1706\",\"type\":\"GlyphRenderer\"},{\"attributes\":{\"line_color\":\"orange\",\"x\":{\"field\":\"x\"},\"y\":{\"field\":\"y\"}},\"id\":\"1689\",\"type\":\"Line\"},{\"attributes\":{\"line_alpha\":0.1,\"line_color\":\"orange\",\"x\":{\"field\":\"x\"},\"y\":{\"field\":\"y\"}},\"id\":\"1765\",\"type\":\"Line\"},{\"attributes\":{\"data_source\":{\"id\":\"1068\"},\"glyph\":{\"id\":\"1069\"},\"hover_glyph\":null,\"muted_glyph\":null,\"nonselection_glyph\":{\"id\":\"1070\"},\"selection_glyph\":null,\"view\":{\"id\":\"1072\"}},\"id\":\"1071\",\"type\":\"GlyphRenderer\"},{\"attributes\":{\"data_source\":{\"id\":\"1358\"},\"glyph\":{\"id\":\"1359\"},\"hover_glyph\":null,\"muted_glyph\":null,\"nonselection_glyph\":{\"id\":\"1360\"},\"selection_glyph\":null,\"view\":{\"id\":\"1362\"}},\"id\":\"1361\",\"type\":\"GlyphRenderer\"},{\"attributes\":{\"data_source\":{\"id\":\"1718\"},\"glyph\":{\"id\":\"1719\"},\"hover_glyph\":null,\"muted_glyph\":null,\"nonselection_glyph\":{\"id\":\"1720\"},\"selection_glyph\":null,\"view\":{\"id\":\"1722\"}},\"id\":\"1721\",\"type\":\"GlyphRenderer\"},{\"attributes\":{\"background_fill_color\":\"#fafafa\",\"below\":[{\"id\":\"1174\"}],\"center\":[{\"id\":\"1177\"},{\"id\":\"1181\"}],\"frame_height\":200,\"frame_width\":200,\"left\":[{\"id\":\"1178\"}],\"renderers\":[{\"id\":\"1186\"},{\"id\":\"1191\"},{\"id\":\"1196\"},{\"id\":\"1201\"},{\"id\":\"1206\"},{\"id\":\"1211\"},{\"id\":\"1216\"},{\"id\":\"1221\"},{\"id\":\"1226\"},{\"id\":\"1231\"},{\"id\":\"1236\"},{\"id\":\"1241\"},{\"id\":\"1246\"},{\"id\":\"1251\"},{\"id\":\"1256\"},{\"id\":\"1261\"},{\"id\":\"1266\"},{\"id\":\"1271\"},{\"id\":\"1276\"},{\"id\":\"1281\"},{\"id\":\"1286\"},{\"id\":\"1291\"},{\"id\":\"1296\"},{\"id\":\"1301\"},{\"id\":\"1306\"},{\"id\":\"1311\"},{\"id\":\"1316\"},{\"id\":\"1321\"}],\"title\":{\"id\":\"1164\"},\"toolbar\":{\"id\":\"1182\"},\"x_range\":{\"id\":\"1166\"},\"x_scale\":{\"id\":\"1170\"},\"y_range\":{\"id\":\"1168\"},\"y_scale\":{\"id\":\"1172\"}},\"id\":\"1163\",\"subtype\":\"Figure\",\"type\":\"Plot\"},{\"attributes\":{\"text\":\"mutations = 6\"},\"id\":\"1644\",\"type\":\"Title\"},{\"attributes\":{\"fill_alpha\":0.2,\"fill_color\":\"orange\",\"x\":{\"field\":\"x\"},\"y1\":{\"field\":\"y1\"},\"y2\":{\"field\":\"y2\"}},\"id\":\"1374\",\"type\":\"VArea\"},{\"attributes\":{},\"id\":\"1650\",\"type\":\"LinearScale\"},{\"attributes\":{\"source\":{\"id\":\"1053\"}},\"id\":\"1057\",\"type\":\"CDSView\"},{\"attributes\":{\"source\":{\"id\":\"1763\"}},\"id\":\"1767\",\"type\":\"CDSView\"},{\"attributes\":{\"data_source\":{\"id\":\"1413\"},\"glyph\":{\"id\":\"1414\"},\"hover_glyph\":null,\"muted_glyph\":null,\"nonselection_glyph\":{\"id\":\"1415\"},\"selection_glyph\":null,\"view\":{\"id\":\"1417\"}},\"id\":\"1416\",\"type\":\"GlyphRenderer\"},{\"attributes\":{\"active_drag\":\"auto\",\"active_inspect\":\"auto\",\"active_multi\":null,\"active_scroll\":\"auto\",\"active_tap\":\"auto\"},\"id\":\"1662\",\"type\":\"Toolbar\"},{\"attributes\":{\"source\":{\"id\":\"1033\"}},\"id\":\"1037\",\"type\":\"CDSView\"},{\"attributes\":{\"axis_label\":\"\\u0394E [k_BT]\",\"formatter\":{\"id\":\"1827\"},\"ticker\":{\"id\":\"1655\"}},\"id\":\"1654\",\"type\":\"LinearAxis\"},{\"attributes\":{\"fill_alpha\":0.2,\"fill_color\":\"orange\",\"x\":{\"field\":\"x\"},\"y1\":{\"field\":\"y1\"},\"y2\":{\"field\":\"y2\"}},\"id\":\"1039\",\"type\":\"VArea\"},{\"attributes\":{\"source\":{\"id\":\"1363\"}},\"id\":\"1367\",\"type\":\"CDSView\"},{\"attributes\":{\"data_source\":{\"id\":\"1033\"},\"glyph\":{\"id\":\"1034\"},\"hover_glyph\":null,\"muted_glyph\":null,\"nonselection_glyph\":{\"id\":\"1035\"},\"selection_glyph\":null,\"view\":{\"id\":\"1037\"}},\"id\":\"1036\",\"type\":\"GlyphRenderer\"},{\"attributes\":{\"data_source\":{\"id\":\"1373\"},\"glyph\":{\"id\":\"1374\"},\"hover_glyph\":null,\"muted_glyph\":null,\"nonselection_glyph\":{\"id\":\"1375\"},\"selection_glyph\":null,\"view\":{\"id\":\"1377\"}},\"id\":\"1376\",\"type\":\"GlyphRenderer\"},{\"attributes\":{\"source\":{\"id\":\"1708\"}},\"id\":\"1712\",\"type\":\"CDSView\"},{\"attributes\":{\"line_color\":\"orange\",\"x\":{\"field\":\"x\"},\"y\":{\"field\":\"y\"}},\"id\":\"1044\",\"type\":\"Line\"},{\"attributes\":{\"data\":{\"x\":[0.0,0.0],\"y\":[0,0.109851487551521]},\"selected\":{\"id\":\"1949\"},\"selection_policy\":{\"id\":\"1950\"}},\"id\":\"1363\",\"type\":\"ColumnDataSource\"},{\"attributes\":{\"source\":{\"id\":\"1663\"}},\"id\":\"1667\",\"type\":\"CDSView\"},{\"attributes\":{\"data_source\":{\"id\":\"1713\"},\"glyph\":{\"id\":\"1714\"},\"hover_glyph\":null,\"muted_glyph\":null,\"nonselection_glyph\":{\"id\":\"1715\"},\"selection_glyph\":null,\"view\":{\"id\":\"1717\"}},\"id\":\"1716\",\"type\":\"GlyphRenderer\"},{\"attributes\":{\"line_alpha\":0.1,\"line_color\":\"orange\",\"x\":{\"field\":\"x\"},\"y\":{\"field\":\"y\"}},\"id\":\"1035\",\"type\":\"Line\"},{\"attributes\":{\"data\":{\"x\":[6.0,6.0],\"y\":[0,0.09586941819837758]},\"selected\":{\"id\":\"2097\"},\"selection_policy\":{\"id\":\"2098\"}},\"id\":\"1773\",\"type\":\"ColumnDataSource\"},{\"attributes\":{\"data\":{\"x\":[1.0,1.0],\"y\":[0,0.18390112513315407]},\"selected\":{\"id\":\"1839\"},\"selection_policy\":{\"id\":\"1840\"}},\"id\":\"1048\",\"type\":\"ColumnDataSource\"},{\"attributes\":{\"data\":{\"x\":[1.0,2.0],\"y1\":[0,0],\"y2\":[0.09586941819837758,0.09586941819837758]},\"selected\":{\"id\":\"2071\"},\"selection_policy\":{\"id\":\"2072\"}},\"id\":\"1708\",\"type\":\"ColumnDataSource\"},{\"attributes\":{\"line_alpha\":0.1,\"line_color\":\"orange\",\"x\":{\"field\":\"x\"},\"y\":{\"field\":\"y\"}},\"id\":\"1780\",\"type\":\"Line\"},{\"attributes\":{\"line_alpha\":0.1,\"line_color\":\"orange\",\"x\":{\"field\":\"x\"},\"y\":{\"field\":\"y\"}},\"id\":\"1030\",\"type\":\"Line\"},{\"attributes\":{\"source\":{\"id\":\"1778\"}},\"id\":\"1782\",\"type\":\"CDSView\"},{\"attributes\":{\"source\":{\"id\":\"1028\"}},\"id\":\"1032\",\"type\":\"CDSView\"},{\"attributes\":{\"data_source\":{\"id\":\"1043\"},\"glyph\":{\"id\":\"1044\"},\"hover_glyph\":null,\"muted_glyph\":null,\"nonselection_glyph\":{\"id\":\"1045\"},\"selection_glyph\":null,\"view\":{\"id\":\"1047\"}},\"id\":\"1046\",\"type\":\"GlyphRenderer\"}],\"root_ids\":[\"1803\"]},\"title\":\"Bokeh Application\",\"version\":\"2.0.2\"}};\n",
       "  var render_items = [{\"docid\":\"ab3790a1-c732-42ca-a5c2-280e55205942\",\"root_ids\":[\"1803\"],\"roots\":{\"1803\":\"d43c5f67-48dd-4ba9-9bdc-47a6658aff6f\"}}];\n",
       "  root.Bokeh.embed.embed_items_notebook(docs_json, render_items);\n",
       "\n",
       "  }\n",
       "  if (root.Bokeh !== undefined) {\n",
       "    embed_document(root);\n",
       "  } else {\n",
       "    var attempts = 0;\n",
       "    var timer = setInterval(function(root) {\n",
       "      if (root.Bokeh !== undefined) {\n",
       "        clearInterval(timer);\n",
       "        embed_document(root);\n",
       "      } else {\n",
       "        attempts++;\n",
       "        if (attempts > 100) {\n",
       "          clearInterval(timer);\n",
       "          console.log(\"Bokeh: ERROR: Unable to run BokehJS code because BokehJS library is missing\");\n",
       "        }\n",
       "      }\n",
       "    }, 10, root)\n",
       "  }\n",
       "})(window);"
      ],
      "application/vnd.bokehjs_exec.v0+json": ""
     },
     "metadata": {
      "application/vnd.bokehjs_exec.v0+json": {
       "id": "1803"
      }
     },
     "output_type": "display_data"
    }
   ],
   "source": [
    "p_list = []\n",
    "for i in range(2, 7):\n",
    "    p = figure(title=\"mutations = {}\".format(i), frame_height=200, frame_width=200,\n",
    "               tools='', background_fill_color=\"#fafafa\", y_axis_label=\"density\",\n",
    "              x_axis_label=\"ΔE [k_BT]\")\n",
    "    energies = df.loc[df.mutations == i, \"energy\"].values\n",
    "    hist, edges = np.histogram(energies, density=True, bins=50)\n",
    "    p.quad(top=hist, bottom=0, left=edges[:-1], right=edges[1:],\n",
    "          fill_color=\"navy\", line_color=\"white\", alpha=0.5)\n",
    "    for (b1, b2) in bins:\n",
    "        p.line(x=[b1, b1], y=[0, np.max(hist)], color=\"orange\")\n",
    "        p.line(x=[b2, b2], y=[0, np.max(hist)], color=\"orange\")\n",
    "        p.varea(x=[b1, b2], y1=[0, 0], y2=[np.max(hist), np.max(hist)], alpha=0.2, color=\"orange\")\n",
    "        \n",
    "    p_list.append(p)\n",
    "    \n",
    "bokeh.io.show(\n",
    "    grid(p_list, nrows=1)\n",
    ")\n",
    "    "
   ]
  },
  {
   "cell_type": "markdown",
   "metadata": {},
   "source": [
    "Now we need to filter the sequences for the bins"
   ]
  },
  {
   "cell_type": "code",
   "execution_count": 15,
   "metadata": {},
   "outputs": [
    {
     "data": {
      "text/html": [
       "<div>\n",
       "<style scoped>\n",
       "    .dataframe tbody tr th:only-of-type {\n",
       "        vertical-align: middle;\n",
       "    }\n",
       "\n",
       "    .dataframe tbody tr th {\n",
       "        vertical-align: top;\n",
       "    }\n",
       "\n",
       "    .dataframe thead th {\n",
       "        text-align: right;\n",
       "    }\n",
       "</style>\n",
       "<table border=\"1\" class=\"dataframe\">\n",
       "  <thead>\n",
       "    <tr style=\"text-align: right;\">\n",
       "      <th></th>\n",
       "      <th>seq</th>\n",
       "      <th>mutations</th>\n",
       "      <th>energy</th>\n",
       "      <th>bin</th>\n",
       "    </tr>\n",
       "  </thead>\n",
       "  <tbody>\n",
       "    <tr>\n",
       "      <th>92341</th>\n",
       "      <td>ttcTGTGAGgGGcTAACAAcT</td>\n",
       "      <td>6</td>\n",
       "      <td>7.976949</td>\n",
       "      <td>8</td>\n",
       "    </tr>\n",
       "    <tr>\n",
       "      <th>92342</th>\n",
       "      <td>ttcTGTGAGgGGtTAACAtTT</td>\n",
       "      <td>6</td>\n",
       "      <td>7.807922</td>\n",
       "      <td>8</td>\n",
       "    </tr>\n",
       "    <tr>\n",
       "      <th>92343</th>\n",
       "      <td>ttcTGTGAGgGaATAAaAATT</td>\n",
       "      <td>6</td>\n",
       "      <td>7.728838</td>\n",
       "      <td>8</td>\n",
       "    </tr>\n",
       "    <tr>\n",
       "      <th>92344</th>\n",
       "      <td>ttcTGTGgGCGGATcACAAcT</td>\n",
       "      <td>6</td>\n",
       "      <td>7.780272</td>\n",
       "      <td>8</td>\n",
       "    </tr>\n",
       "    <tr>\n",
       "      <th>92345</th>\n",
       "      <td>ttccGTGAGCGaATAAtAATT</td>\n",
       "      <td>6</td>\n",
       "      <td>7.826131</td>\n",
       "      <td>8</td>\n",
       "    </tr>\n",
       "    <tr>\n",
       "      <th>92346</th>\n",
       "      <td>ttcgGTGAGCGGATAAaAAgT</td>\n",
       "      <td>6</td>\n",
       "      <td>7.399369</td>\n",
       "      <td>8</td>\n",
       "    </tr>\n",
       "    <tr>\n",
       "      <th>92347</th>\n",
       "      <td>ttgTGTGAaCGGcTAACAtTT</td>\n",
       "      <td>6</td>\n",
       "      <td>7.084705</td>\n",
       "      <td>8</td>\n",
       "    </tr>\n",
       "    <tr>\n",
       "      <th>92348</th>\n",
       "      <td>ttgTGaGAaCGGATAACAAgT</td>\n",
       "      <td>6</td>\n",
       "      <td>7.663886</td>\n",
       "      <td>8</td>\n",
       "    </tr>\n",
       "    <tr>\n",
       "      <th>92349</th>\n",
       "      <td>ttgTGcGAcCGGATAACAtTT</td>\n",
       "      <td>6</td>\n",
       "      <td>7.885602</td>\n",
       "      <td>8</td>\n",
       "    </tr>\n",
       "    <tr>\n",
       "      <th>92350</th>\n",
       "      <td>ttgaGTGAGCGGATAAtAcTT</td>\n",
       "      <td>6</td>\n",
       "      <td>7.411149</td>\n",
       "      <td>8</td>\n",
       "    </tr>\n",
       "  </tbody>\n",
       "</table>\n",
       "</div>"
      ],
      "text/plain": [
       "                         seq  mutations    energy  bin\n",
       "92341  ttcTGTGAGgGGcTAACAAcT          6  7.976949    8\n",
       "92342  ttcTGTGAGgGGtTAACAtTT          6  7.807922    8\n",
       "92343  ttcTGTGAGgGaATAAaAATT          6  7.728838    8\n",
       "92344  ttcTGTGgGCGGATcACAAcT          6  7.780272    8\n",
       "92345  ttccGTGAGCGaATAAtAATT          6  7.826131    8\n",
       "92346  ttcgGTGAGCGGATAAaAAgT          6  7.399369    8\n",
       "92347  ttgTGTGAaCGGcTAACAtTT          6  7.084705    8\n",
       "92348  ttgTGaGAaCGGATAACAAgT          6  7.663886    8\n",
       "92349  ttgTGcGAcCGGATAACAtTT          6  7.885602    8\n",
       "92350  ttgaGTGAGCGGATAAtAcTT          6  7.411149    8"
      ]
     },
     "execution_count": 15,
     "metadata": {},
     "output_type": "execute_result"
    }
   ],
   "source": [
    "# Temporary list of sub data frames\n",
    "df_list = []\n",
    "\n",
    "# Iterate through bins\n",
    "for i, (x,y) in enumerate(bins):\n",
    "    # Copy data frame with sequnces within the bin\n",
    "    temp_df = copy.deepcopy(df.loc[[x < E < y for E in df[\"energy\"] ], :])\n",
    "    \n",
    "    # Append column with bin number\n",
    "    temp_df[\"bin\"] = np.ones(len(temp_df), dtype=int) * i\n",
    "    \n",
    "    # Append to temporary list\n",
    "    df_list.append(temp_df)\n",
    "\n",
    "# Combine data frames again\n",
    "binned_df = pd.concat(df_list, ignore_index=True)\n",
    "\n",
    "# Show first 10 rows\n",
    "binned_df.tail(10)"
   ]
  },
  {
   "cell_type": "markdown",
   "metadata": {},
   "source": [
    "Now we need to select mutants from the bins. We want to try to get an equal number of sequences for each number of mutations per bin. However, some bins are sparsely populated by some type of mutants. Therefore we choose a maximal number of sequences per mutation type per bin. If there are more sequences in a bin, we randomly select sequences."
   ]
  },
  {
   "cell_type": "code",
   "execution_count": 16,
   "metadata": {},
   "outputs": [],
   "source": [
    "def select_seqs(df, ind_bin, num_seqs):\n",
    "    # Compute number of sequences per mutant\n",
    "    seqs_per_mut = np.floor(num_seqs / len(df.mutations.unique()))\n",
    "    \n",
    "    # Count number of sequences per number of mutations\n",
    "    count_df = df.groupby([\"mutations\", \"bin\"]).size().to_frame(name=\"num_mutants\").reset_index()\n",
    "    count_df = count_df.loc[count_df[\"bin\"] == ind_bin, :]\n",
    "    \n",
    "    # Prepare data frame to return\n",
    "    ret_df = pd.DataFrame(columns=[\"seq\", \"mutations\", \"energy\", \"bin\"])\n",
    "    \n",
    "    # Iterate through mutants\n",
    "    for i in df.mutations.unique():\n",
    "        # If there are not enough sequences, take all\n",
    "        if i in count_df.mutations.values:\n",
    "            if count_df.loc[count_df[\"mutations\"] == i, \"num_mutants\"].values < seqs_per_mut:\n",
    "                ret_df = pd.concat([ret_df, df.loc[(df[\"mutations\"] == i) & (df[\"bin\"] == ind_bin), :]], ignore_index=True)\n",
    "            else:\n",
    "                # Randomly choose mutants\n",
    "                indices = df.loc[(df[\"mutations\"] == i) & (df[\"bin\"] == ind_bin), :].index.to_numpy(dtype=int)\n",
    "                selected_indices = np.random.choice(indices, size=int(seqs_per_mut), replace=False)\n",
    "                ret_df = pd.concat([ret_df, df.iloc[selected_indices]])\n",
    "    return ret_df"
   ]
  },
  {
   "cell_type": "markdown",
   "metadata": {},
   "source": [
    "Now we only need to apply the function to each bin and collect sequences. "
   ]
  },
  {
   "cell_type": "code",
   "execution_count": 17,
   "metadata": {},
   "outputs": [
    {
     "data": {
      "text/html": [
       "<div>\n",
       "<style scoped>\n",
       "    .dataframe tbody tr th:only-of-type {\n",
       "        vertical-align: middle;\n",
       "    }\n",
       "\n",
       "    .dataframe tbody tr th {\n",
       "        vertical-align: top;\n",
       "    }\n",
       "\n",
       "    .dataframe thead th {\n",
       "        text-align: right;\n",
       "    }\n",
       "</style>\n",
       "<table border=\"1\" class=\"dataframe\">\n",
       "  <thead>\n",
       "    <tr style=\"text-align: right;\">\n",
       "      <th></th>\n",
       "      <th>seq</th>\n",
       "      <th>mutations</th>\n",
       "      <th>energy</th>\n",
       "      <th>bin</th>\n",
       "    </tr>\n",
       "  </thead>\n",
       "  <tbody>\n",
       "    <tr>\n",
       "      <th>0</th>\n",
       "      <td>cATTGTGAGCGGATcACAATT</td>\n",
       "      <td>2</td>\n",
       "      <td>-0.069192</td>\n",
       "      <td>0</td>\n",
       "    </tr>\n",
       "    <tr>\n",
       "      <th>1</th>\n",
       "      <td>cATTGTGAGCGGATAACAAaT</td>\n",
       "      <td>2</td>\n",
       "      <td>-0.028948</td>\n",
       "      <td>0</td>\n",
       "    </tr>\n",
       "    <tr>\n",
       "      <th>2</th>\n",
       "      <td>cATTGTGAGCGGATAACAATg</td>\n",
       "      <td>2</td>\n",
       "      <td>-0.621844</td>\n",
       "      <td>0</td>\n",
       "    </tr>\n",
       "    <tr>\n",
       "      <th>3</th>\n",
       "      <td>AcTTGTGAGCGGATAACAATc</td>\n",
       "      <td>2</td>\n",
       "      <td>-0.520312</td>\n",
       "      <td>0</td>\n",
       "    </tr>\n",
       "    <tr>\n",
       "      <th>4</th>\n",
       "      <td>AAaTGTGAGCGGATAACAATc</td>\n",
       "      <td>2</td>\n",
       "      <td>-0.637571</td>\n",
       "      <td>0</td>\n",
       "    </tr>\n",
       "  </tbody>\n",
       "</table>\n",
       "</div>"
      ],
      "text/plain": [
       "                     seq mutations    energy bin\n",
       "0  cATTGTGAGCGGATcACAATT         2 -0.069192   0\n",
       "1  cATTGTGAGCGGATAACAAaT         2 -0.028948   0\n",
       "2  cATTGTGAGCGGATAACAATg         2 -0.621844   0\n",
       "3  AcTTGTGAGCGGATAACAATc         2 -0.520312   0\n",
       "4  AAaTGTGAGCGGATAACAATc         2 -0.637571   0"
      ]
     },
     "execution_count": 17,
     "metadata": {},
     "output_type": "execute_result"
    }
   ],
   "source": [
    "O1_mutants_df_list = []\n",
    "for Bin in range(len(bins)):\n",
    "    O1_mutants_df_list.append(select_seqs(binned_df, Bin, 400))\n",
    "O1_mutants_df = pd.concat(O1_mutants_df_list, ignore_index=True)\n",
    "O1_mutants_df.head()"
   ]
  },
  {
   "cell_type": "markdown",
   "metadata": {},
   "source": [
    "Let's see how many sequences we have."
   ]
  },
  {
   "cell_type": "code",
   "execution_count": 18,
   "metadata": {},
   "outputs": [
    {
     "data": {
      "text/plain": [
       "3196"
      ]
     },
     "execution_count": 18,
     "metadata": {},
     "output_type": "execute_result"
    }
   ],
   "source": [
    "len(O1_mutants_df.seq.values)"
   ]
  },
  {
   "cell_type": "markdown",
   "metadata": {},
   "source": [
    "Finally, we add all single mutants back to the oligo pool."
   ]
  },
  {
   "cell_type": "code",
   "execution_count": 19,
   "metadata": {},
   "outputs": [],
   "source": [
    "df_1[\"energy\"] = df_1['seq'].apply(energy_from_sequence, args= (O1_matrix, ))\n",
    "df_1[\"bin\"] = \"x\"\n",
    "O1_mutants_df = pd.concat([O1_mutants_df, df_1], ignore_index=True)"
   ]
  },
  {
   "cell_type": "markdown",
   "metadata": {},
   "source": [
    "Now we only need to add the lacUV5 sequence to each mutant to get the final constructs. We also add the wildtype operator sequences, and add the energy predicted by Hernan's paper."
   ]
  },
  {
   "cell_type": "code",
   "execution_count": 20,
   "metadata": {},
   "outputs": [
    {
     "data": {
      "text/html": [
       "<div>\n",
       "<style scoped>\n",
       "    .dataframe tbody tr th:only-of-type {\n",
       "        vertical-align: middle;\n",
       "    }\n",
       "\n",
       "    .dataframe tbody tr th {\n",
       "        vertical-align: top;\n",
       "    }\n",
       "\n",
       "    .dataframe thead th {\n",
       "        text-align: right;\n",
       "    }\n",
       "</style>\n",
       "<table border=\"1\" class=\"dataframe\">\n",
       "  <thead>\n",
       "    <tr style=\"text-align: right;\">\n",
       "      <th></th>\n",
       "      <th>seq</th>\n",
       "      <th>mutations</th>\n",
       "      <th>energy</th>\n",
       "      <th>bin</th>\n",
       "      <th>construct</th>\n",
       "      <th>primer_added</th>\n",
       "    </tr>\n",
       "  </thead>\n",
       "  <tbody>\n",
       "    <tr>\n",
       "      <th>0</th>\n",
       "      <td>TCGAGTTTACACTTTATGCTTCCGGCTCGTATAATGTGTGGcATTG...</td>\n",
       "      <td>2</td>\n",
       "      <td>-0.069192</td>\n",
       "      <td>0</td>\n",
       "      <td>lacUV5+O1_mutant</td>\n",
       "      <td>False</td>\n",
       "    </tr>\n",
       "    <tr>\n",
       "      <th>1</th>\n",
       "      <td>TCGAGTTTACACTTTATGCTTCCGGCTCGTATAATGTGTGGcATTG...</td>\n",
       "      <td>2</td>\n",
       "      <td>-0.028948</td>\n",
       "      <td>0</td>\n",
       "      <td>lacUV5+O1_mutant</td>\n",
       "      <td>False</td>\n",
       "    </tr>\n",
       "    <tr>\n",
       "      <th>2</th>\n",
       "      <td>TCGAGTTTACACTTTATGCTTCCGGCTCGTATAATGTGTGGcATTG...</td>\n",
       "      <td>2</td>\n",
       "      <td>-0.621844</td>\n",
       "      <td>0</td>\n",
       "      <td>lacUV5+O1_mutant</td>\n",
       "      <td>False</td>\n",
       "    </tr>\n",
       "    <tr>\n",
       "      <th>3</th>\n",
       "      <td>TCGAGTTTACACTTTATGCTTCCGGCTCGTATAATGTGTGGAcTTG...</td>\n",
       "      <td>2</td>\n",
       "      <td>-0.520312</td>\n",
       "      <td>0</td>\n",
       "      <td>lacUV5+O1_mutant</td>\n",
       "      <td>False</td>\n",
       "    </tr>\n",
       "    <tr>\n",
       "      <th>4</th>\n",
       "      <td>TCGAGTTTACACTTTATGCTTCCGGCTCGTATAATGTGTGGAAaTG...</td>\n",
       "      <td>2</td>\n",
       "      <td>-0.637571</td>\n",
       "      <td>0</td>\n",
       "      <td>lacUV5+O1_mutant</td>\n",
       "      <td>False</td>\n",
       "    </tr>\n",
       "  </tbody>\n",
       "</table>\n",
       "</div>"
      ],
      "text/plain": [
       "                                                 seq mutations    energy bin  \\\n",
       "0  TCGAGTTTACACTTTATGCTTCCGGCTCGTATAATGTGTGGcATTG...         2 -0.069192   0   \n",
       "1  TCGAGTTTACACTTTATGCTTCCGGCTCGTATAATGTGTGGcATTG...         2 -0.028948   0   \n",
       "2  TCGAGTTTACACTTTATGCTTCCGGCTCGTATAATGTGTGGcATTG...         2 -0.621844   0   \n",
       "3  TCGAGTTTACACTTTATGCTTCCGGCTCGTATAATGTGTGGAcTTG...         2 -0.520312   0   \n",
       "4  TCGAGTTTACACTTTATGCTTCCGGCTCGTATAATGTGTGGAAaTG...         2 -0.637571   0   \n",
       "\n",
       "          construct  primer_added  \n",
       "0  lacUV5+O1_mutant         False  \n",
       "1  lacUV5+O1_mutant         False  \n",
       "2  lacUV5+O1_mutant         False  \n",
       "3  lacUV5+O1_mutant         False  \n",
       "4  lacUV5+O1_mutant         False  "
      ]
     },
     "execution_count": 20,
     "metadata": {},
     "output_type": "execute_result"
    }
   ],
   "source": [
    "oligos = copy.deepcopy(O1_mutants_df)\n",
    "oligos['construct'] = \"lacUV5+O1_mutant\"\n",
    "oligos.seq = [lacUV5 + seq for seq in oligos.seq]\n",
    "for i in range(10):\n",
    "    oligos = oligos.append(\n",
    "        pd.DataFrame(\n",
    "            [[lacUV5_O1, 0, 0, \"x\", \"lacUV5+O1\"],\n",
    "             [lacUV5_O2, 0, 1.4, \"x\", \"lacUV5+O2\"],\n",
    "             [lacUV5_O3, 0, 5.6, \"x\", \"lacUV5+O3\"]\n",
    "            ], \n",
    "            columns=['seq', 'mutations', 'energy', 'bin', 'construct']), \n",
    "        ignore_index=True\n",
    "    )\n",
    "oligos['primer_added'] = False\n",
    "oligos.head()"
   ]
  },
  {
   "cell_type": "markdown",
   "metadata": {},
   "source": [
    "Finally store the dataframe in the data folder."
   ]
  },
  {
   "cell_type": "code",
   "execution_count": 21,
   "metadata": {},
   "outputs": [
    {
     "data": {
      "text/html": [
       "<div>\n",
       "<style scoped>\n",
       "    .dataframe tbody tr th:only-of-type {\n",
       "        vertical-align: middle;\n",
       "    }\n",
       "\n",
       "    .dataframe tbody tr th {\n",
       "        vertical-align: top;\n",
       "    }\n",
       "\n",
       "    .dataframe thead th {\n",
       "        text-align: right;\n",
       "    }\n",
       "</style>\n",
       "<table border=\"1\" class=\"dataframe\">\n",
       "  <thead>\n",
       "    <tr style=\"text-align: right;\">\n",
       "      <th></th>\n",
       "      <th>seq</th>\n",
       "      <th>mutations</th>\n",
       "      <th>energy</th>\n",
       "      <th>bin</th>\n",
       "      <th>construct</th>\n",
       "      <th>primer_added</th>\n",
       "    </tr>\n",
       "  </thead>\n",
       "  <tbody>\n",
       "    <tr>\n",
       "      <th>0</th>\n",
       "      <td>TCGAGTTTACACTTTATGCTTCCGGCTCGTATAATGTGTGGcATTG...</td>\n",
       "      <td>2</td>\n",
       "      <td>-0.069192</td>\n",
       "      <td>0</td>\n",
       "      <td>lacUV5+O1_mutant</td>\n",
       "      <td>False</td>\n",
       "    </tr>\n",
       "    <tr>\n",
       "      <th>1</th>\n",
       "      <td>TCGAGTTTACACTTTATGCTTCCGGCTCGTATAATGTGTGGcATTG...</td>\n",
       "      <td>2</td>\n",
       "      <td>-0.028948</td>\n",
       "      <td>0</td>\n",
       "      <td>lacUV5+O1_mutant</td>\n",
       "      <td>False</td>\n",
       "    </tr>\n",
       "    <tr>\n",
       "      <th>2</th>\n",
       "      <td>TCGAGTTTACACTTTATGCTTCCGGCTCGTATAATGTGTGGcATTG...</td>\n",
       "      <td>2</td>\n",
       "      <td>-0.621844</td>\n",
       "      <td>0</td>\n",
       "      <td>lacUV5+O1_mutant</td>\n",
       "      <td>False</td>\n",
       "    </tr>\n",
       "    <tr>\n",
       "      <th>3</th>\n",
       "      <td>TCGAGTTTACACTTTATGCTTCCGGCTCGTATAATGTGTGGAcTTG...</td>\n",
       "      <td>2</td>\n",
       "      <td>-0.520312</td>\n",
       "      <td>0</td>\n",
       "      <td>lacUV5+O1_mutant</td>\n",
       "      <td>False</td>\n",
       "    </tr>\n",
       "    <tr>\n",
       "      <th>4</th>\n",
       "      <td>TCGAGTTTACACTTTATGCTTCCGGCTCGTATAATGTGTGGAAaTG...</td>\n",
       "      <td>2</td>\n",
       "      <td>-0.637571</td>\n",
       "      <td>0</td>\n",
       "      <td>lacUV5+O1_mutant</td>\n",
       "      <td>False</td>\n",
       "    </tr>\n",
       "    <tr>\n",
       "      <th>...</th>\n",
       "      <td>...</td>\n",
       "      <td>...</td>\n",
       "      <td>...</td>\n",
       "      <td>...</td>\n",
       "      <td>...</td>\n",
       "      <td>...</td>\n",
       "    </tr>\n",
       "    <tr>\n",
       "      <th>3284</th>\n",
       "      <td>TCGAGTTTACACTTTATGCTTCCGGCTCGTATAATGTGTGGAAATG...</td>\n",
       "      <td>0</td>\n",
       "      <td>1.400000</td>\n",
       "      <td>x</td>\n",
       "      <td>lacUV5+O2</td>\n",
       "      <td>False</td>\n",
       "    </tr>\n",
       "    <tr>\n",
       "      <th>3285</th>\n",
       "      <td>TCGAGTTTACACTTTATGCTTCCGGCTCGTATAATGTGTGGGGCAG...</td>\n",
       "      <td>0</td>\n",
       "      <td>5.600000</td>\n",
       "      <td>x</td>\n",
       "      <td>lacUV5+O3</td>\n",
       "      <td>False</td>\n",
       "    </tr>\n",
       "    <tr>\n",
       "      <th>3286</th>\n",
       "      <td>TCGAGTTTACACTTTATGCTTCCGGCTCGTATAATGTGTGGAATTG...</td>\n",
       "      <td>0</td>\n",
       "      <td>0.000000</td>\n",
       "      <td>x</td>\n",
       "      <td>lacUV5+O1</td>\n",
       "      <td>False</td>\n",
       "    </tr>\n",
       "    <tr>\n",
       "      <th>3287</th>\n",
       "      <td>TCGAGTTTACACTTTATGCTTCCGGCTCGTATAATGTGTGGAAATG...</td>\n",
       "      <td>0</td>\n",
       "      <td>1.400000</td>\n",
       "      <td>x</td>\n",
       "      <td>lacUV5+O2</td>\n",
       "      <td>False</td>\n",
       "    </tr>\n",
       "    <tr>\n",
       "      <th>3288</th>\n",
       "      <td>TCGAGTTTACACTTTATGCTTCCGGCTCGTATAATGTGTGGGGCAG...</td>\n",
       "      <td>0</td>\n",
       "      <td>5.600000</td>\n",
       "      <td>x</td>\n",
       "      <td>lacUV5+O3</td>\n",
       "      <td>False</td>\n",
       "    </tr>\n",
       "  </tbody>\n",
       "</table>\n",
       "<p>3289 rows × 6 columns</p>\n",
       "</div>"
      ],
      "text/plain": [
       "                                                    seq mutations    energy  \\\n",
       "0     TCGAGTTTACACTTTATGCTTCCGGCTCGTATAATGTGTGGcATTG...         2 -0.069192   \n",
       "1     TCGAGTTTACACTTTATGCTTCCGGCTCGTATAATGTGTGGcATTG...         2 -0.028948   \n",
       "2     TCGAGTTTACACTTTATGCTTCCGGCTCGTATAATGTGTGGcATTG...         2 -0.621844   \n",
       "3     TCGAGTTTACACTTTATGCTTCCGGCTCGTATAATGTGTGGAcTTG...         2 -0.520312   \n",
       "4     TCGAGTTTACACTTTATGCTTCCGGCTCGTATAATGTGTGGAAaTG...         2 -0.637571   \n",
       "...                                                 ...       ...       ...   \n",
       "3284  TCGAGTTTACACTTTATGCTTCCGGCTCGTATAATGTGTGGAAATG...         0  1.400000   \n",
       "3285  TCGAGTTTACACTTTATGCTTCCGGCTCGTATAATGTGTGGGGCAG...         0  5.600000   \n",
       "3286  TCGAGTTTACACTTTATGCTTCCGGCTCGTATAATGTGTGGAATTG...         0  0.000000   \n",
       "3287  TCGAGTTTACACTTTATGCTTCCGGCTCGTATAATGTGTGGAAATG...         0  1.400000   \n",
       "3288  TCGAGTTTACACTTTATGCTTCCGGCTCGTATAATGTGTGGGGCAG...         0  5.600000   \n",
       "\n",
       "     bin         construct  primer_added  \n",
       "0      0  lacUV5+O1_mutant         False  \n",
       "1      0  lacUV5+O1_mutant         False  \n",
       "2      0  lacUV5+O1_mutant         False  \n",
       "3      0  lacUV5+O1_mutant         False  \n",
       "4      0  lacUV5+O1_mutant         False  \n",
       "...   ..               ...           ...  \n",
       "3284   x         lacUV5+O2         False  \n",
       "3285   x         lacUV5+O3         False  \n",
       "3286   x         lacUV5+O1         False  \n",
       "3287   x         lacUV5+O2         False  \n",
       "3288   x         lacUV5+O3         False  \n",
       "\n",
       "[3289 rows x 6 columns]"
      ]
     },
     "execution_count": 21,
     "metadata": {},
     "output_type": "execute_result"
    }
   ],
   "source": [
    "oligos"
   ]
  },
  {
   "cell_type": "code",
   "execution_count": 22,
   "metadata": {},
   "outputs": [],
   "source": [
    "oligos.to_csv(\"../../../../data/twist_order/lacI_sequences.csv\")"
   ]
  },
  {
   "cell_type": "markdown",
   "metadata": {},
   "source": [
    "## Computational environment"
   ]
  },
  {
   "cell_type": "code",
   "execution_count": 23,
   "metadata": {},
   "outputs": [
    {
     "name": "stdout",
     "output_type": "stream",
     "text": [
      "CPython 3.8.5\n",
      "IPython 7.19.0\n",
      "\n",
      "numpy 1.18.1\n",
      "pandas 1.2.0\n",
      "wgregseq 0.0.1\n",
      "bokeh 2.0.2\n"
     ]
    }
   ],
   "source": [
    "%load_ext watermark\n",
    "%watermark -v -p numpy,pandas,wgregseq,bokeh"
   ]
  },
  {
   "cell_type": "code",
   "execution_count": null,
   "metadata": {},
   "outputs": [],
   "source": []
  }
 ],
 "metadata": {
  "kernelspec": {
   "display_name": "Python 3",
   "language": "python",
   "name": "python3"
  },
  "language_info": {
   "codemirror_mode": {
    "name": "ipython",
    "version": 3
   },
   "file_extension": ".py",
   "mimetype": "text/x-python",
   "name": "python",
   "nbconvert_exporter": "python",
   "pygments_lexer": "ipython3",
   "version": "3.8.5"
  }
 },
 "nbformat": 4,
 "nbformat_minor": 4
}
