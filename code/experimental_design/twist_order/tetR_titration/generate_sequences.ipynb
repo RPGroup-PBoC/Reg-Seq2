{
 "cells": [
  {
   "cell_type": "markdown",
   "metadata": {},
   "source": [
    "# Exploring Regulatory Sequence of *tetR*/*tetA* in Tn10 "
   ]
  },
  {
   "cell_type": "markdown",
   "metadata": {},
   "source": [
    "(c) 2020 Tom Röschinger. This work is licensed under a [Creative Commons Attribution License CC-BY 4.0](https://creativecommons.org/licenses/by/4.0/). All code contained herein is licensed under an [MIT license](https://opensource.org/licenses/MIT)."
   ]
  },
  {
   "cell_type": "markdown",
   "metadata": {},
   "source": [
    "***"
   ]
  },
  {
   "cell_type": "markdown",
   "metadata": {},
   "source": [
    "In this notebook we look at the transposon **tn10**, which contains a natural system for the expression of *tetA*, which is regulated by *tetR*."
   ]
  },
  {
   "cell_type": "code",
   "execution_count": 1,
   "metadata": {},
   "outputs": [],
   "source": [
    "import wgregseq\n",
    "\n",
    "# Include these if package is manipulated while running the notebook\n",
    "%load_ext autoreload\n",
    "%autoreload 2\n",
    "\n",
    "import pandas as pd\n",
    "import numpy as np"
   ]
  },
  {
   "cell_type": "markdown",
   "metadata": {},
   "source": [
    "First we read the FASTA file obtained from Genebank."
   ]
  },
  {
   "cell_type": "code",
   "execution_count": 2,
   "metadata": {},
   "outputs": [],
   "source": [
    "with open (\"tn10.fasta\", \"r\") as file:\n",
    "    data = file.read().split('\\n')[1:]\n",
    "    sequence = \"\".join(data)"
   ]
  },
  {
   "cell_type": "markdown",
   "metadata": {},
   "source": [
    "Organization of tetR/tetA regulation:\n",
    "- two operators that can be bound independently by TetR\n",
    "- tetA is repressed by both tetO1 and tetO2\n",
    "- tetR is repressed only by tetO1\n",
    "- Affinity of tetO2 to TetR is about twice as high as tetO1"
   ]
  },
  {
   "cell_type": "markdown",
   "metadata": {},
   "source": [
    "![](tn10_tet.png)"
   ]
  },
  {
   "cell_type": "markdown",
   "metadata": {},
   "source": [
    "From Genebank, we can find the positions for *tetA* and *tetR*. The repressor gene is reversed, so we will have to obtain the complementary sequence in case we are interested in the actual sequences."
   ]
  },
  {
   "cell_type": "code",
   "execution_count": 3,
   "metadata": {},
   "outputs": [],
   "source": [
    "# Exact positions from Genebank\n",
    "tetR_pos = [4702, 5328]\n",
    "tetA_pos = [5407, 6612]"
   ]
  },
  {
   "cell_type": "markdown",
   "metadata": {},
   "source": [
    "For simple access, let's extract the region between the two genes, which contains all regulatory elements."
   ]
  },
  {
   "cell_type": "code",
   "execution_count": 4,
   "metadata": {},
   "outputs": [
    {
     "data": {
      "text/plain": [
       "'TAATTCCTAATTTTTGTTGACACTCTATCATTGATAGAGTTATTTTACCACTCCCTATCAGTGATAGAGAAAAGTGAA'"
      ]
     },
     "execution_count": 4,
     "metadata": {},
     "output_type": "execute_result"
    }
   ],
   "source": [
    "intergenic_region = sequence[5328:5407-1]\n",
    "intergenic_region_rev = wgregseq.complement_seq(intergenic_region, rev=True)\n",
    "intergenic_region"
   ]
  },
  {
   "cell_type": "code",
   "execution_count": 5,
   "metadata": {},
   "outputs": [
    {
     "data": {
      "text/plain": [
       "78"
      ]
     },
     "execution_count": 5,
     "metadata": {},
     "output_type": "execute_result"
    }
   ],
   "source": [
    "len(intergenic_region)"
   ]
  },
  {
   "cell_type": "markdown",
   "metadata": {},
   "source": [
    "Let's extract the sequences for the operators and promoters to confirm we found the right indices."
   ]
  },
  {
   "cell_type": "code",
   "execution_count": 6,
   "metadata": {},
   "outputs": [
    {
     "name": "stdout",
     "output_type": "stream",
     "text": [
      "tetO1:  ACTCTATCATTGATAGAGT\n",
      "tetO2:  TCCCTATCAGTGATAGAGA\n"
     ]
    }
   ],
   "source": [
    "tetO1 = intergenic_region[21:40]\n",
    "print(\"tetO1: \", tetO1)\n",
    "\n",
    "tetO2 = intergenic_region[51:70]\n",
    "print(\"tetO2: \", tetO2)"
   ]
  },
  {
   "cell_type": "code",
   "execution_count": 7,
   "metadata": {},
   "outputs": [
    {
     "data": {
      "text/plain": [
       "'ACTCTATCAATGATAGAGT'"
      ]
     },
     "execution_count": 7,
     "metadata": {},
     "output_type": "execute_result"
    }
   ],
   "source": [
    "rev_tetO1 = wgregseq.complement_seq(tetO1, rev=True)\n",
    "rev_tetO1"
   ]
  },
  {
   "cell_type": "code",
   "execution_count": 8,
   "metadata": {},
   "outputs": [
    {
     "data": {
      "text/plain": [
       "'TCTCTATCACTGATAGGGA'"
      ]
     },
     "execution_count": 8,
     "metadata": {},
     "output_type": "execute_result"
    }
   ],
   "source": [
    "rev_tetO2 = wgregseq.complement_seq(tetO2, rev=True)\n",
    "rev_tetO2"
   ]
  },
  {
   "cell_type": "code",
   "execution_count": 9,
   "metadata": {},
   "outputs": [
    {
     "data": {
      "text/plain": [
       "'TTGACACTCTATCATTGATAGAGTTATTTTACCACTC'"
      ]
     },
     "execution_count": 9,
     "metadata": {},
     "output_type": "execute_result"
    }
   ],
   "source": [
    "P_tetA = intergenic_region[16:53]\n",
    "P_tetA"
   ]
  },
  {
   "cell_type": "code",
   "execution_count": 10,
   "metadata": {},
   "outputs": [
    {
     "data": {
      "text/plain": [
       "'TTCTCTATCACTGATAGGGAGTGGTAAAATAACTCTAT'"
      ]
     },
     "execution_count": 10,
     "metadata": {},
     "output_type": "execute_result"
    }
   ],
   "source": [
    "P_tetR1 = intergenic_region_rev[7:45]\n",
    "P_tetR1"
   ]
  },
  {
   "cell_type": "code",
   "execution_count": 11,
   "metadata": {},
   "outputs": [
    {
     "data": {
      "text/plain": [
       "'TGGTAAAATAACTCTATCAATGATAGAGTGTCAACAA'"
      ]
     },
     "execution_count": 11,
     "metadata": {},
     "output_type": "execute_result"
    }
   ],
   "source": [
    "P_tetR2 = intergenic_region_rev[28:65]\n",
    "P_tetR2"
   ]
  },
  {
   "cell_type": "markdown",
   "metadata": {},
   "source": [
    "These all look fine. Let's assign the lacUV5 sequence from Brewster 2012 to a variable, so we can add it to the mutated sequences later on."
   ]
  },
  {
   "cell_type": "code",
   "execution_count": 12,
   "metadata": {},
   "outputs": [],
   "source": [
    "lacUV5 = 'TCGAGTTTACACTTTATGCTTCCGGCTCGTATAATGTGTGG'"
   ]
  },
  {
   "cell_type": "markdown",
   "metadata": {},
   "source": [
    "## Constructs"
   ]
  },
  {
   "cell_type": "markdown",
   "metadata": {},
   "source": [
    "All constructs which are include a tet operator need to be integrated into a cell which expresses the tet repressor. However, the inserts which only have the promoter should be observed in the absence of the repressor to identify the binding energy matrix for the -10/-35 regions."
   ]
  },
  {
   "cell_type": "markdown",
   "metadata": {},
   "source": [
    "### LacUV5 + individual operators downstream"
   ]
  },
  {
   "cell_type": "markdown",
   "metadata": {},
   "source": [
    "First we mutate the operator sequences and put them downstream of lacUV5, such that we obtain a simple repression motif. Therefore, we use the function `wgregseq.mutations_det` to generate single and double mutants of each operator. We include all single mutants and 400 single mutants. The function guarantees that only unique sequences are returned, so no duplicates."
   ]
  },
  {
   "cell_type": "markdown",
   "metadata": {},
   "source": [
    "First the tetO1 single mutants."
   ]
  },
  {
   "cell_type": "code",
   "execution_count": 13,
   "metadata": {},
   "outputs": [
    {
     "data": {
      "text/html": [
       "<div>\n",
       "<style scoped>\n",
       "    .dataframe tbody tr th:only-of-type {\n",
       "        vertical-align: middle;\n",
       "    }\n",
       "\n",
       "    .dataframe tbody tr th {\n",
       "        vertical-align: top;\n",
       "    }\n",
       "\n",
       "    .dataframe thead th {\n",
       "        text-align: right;\n",
       "    }\n",
       "</style>\n",
       "<table border=\"1\" class=\"dataframe\">\n",
       "  <thead>\n",
       "    <tr style=\"text-align: right;\">\n",
       "      <th></th>\n",
       "      <th>seq</th>\n",
       "      <th>construct</th>\n",
       "    </tr>\n",
       "  </thead>\n",
       "  <tbody>\n",
       "    <tr>\n",
       "      <th>0</th>\n",
       "      <td>cCTCTATCATTGATAGAGT</td>\n",
       "      <td>lacUV5_tetO1 single mutant</td>\n",
       "    </tr>\n",
       "    <tr>\n",
       "      <th>1</th>\n",
       "      <td>AaTCTATCATTGATAGAGT</td>\n",
       "      <td>lacUV5_tetO1 single mutant</td>\n",
       "    </tr>\n",
       "    <tr>\n",
       "      <th>2</th>\n",
       "      <td>ACaCTATCATTGATAGAGT</td>\n",
       "      <td>lacUV5_tetO1 single mutant</td>\n",
       "    </tr>\n",
       "    <tr>\n",
       "      <th>3</th>\n",
       "      <td>ACTaTATCATTGATAGAGT</td>\n",
       "      <td>lacUV5_tetO1 single mutant</td>\n",
       "    </tr>\n",
       "    <tr>\n",
       "      <th>4</th>\n",
       "      <td>ACTCaATCATTGATAGAGT</td>\n",
       "      <td>lacUV5_tetO1 single mutant</td>\n",
       "    </tr>\n",
       "  </tbody>\n",
       "</table>\n",
       "</div>"
      ],
      "text/plain": [
       "                   seq                   construct\n",
       "0  cCTCTATCATTGATAGAGT  lacUV5_tetO1 single mutant\n",
       "1  AaTCTATCATTGATAGAGT  lacUV5_tetO1 single mutant\n",
       "2  ACaCTATCATTGATAGAGT  lacUV5_tetO1 single mutant\n",
       "3  ACTaTATCATTGATAGAGT  lacUV5_tetO1 single mutant\n",
       "4  ACTCaATCATTGATAGAGT  lacUV5_tetO1 single mutant"
      ]
     },
     "execution_count": 13,
     "metadata": {},
     "output_type": "execute_result"
    }
   ],
   "source": [
    "# Obtain mutants\n",
    "mutants_single = wgregseq.mutations_det(tetO1, mut_per_seq=1)\n",
    "\n",
    "# Store sequences in data frame\n",
    "tetO1_df_single = pd.DataFrame({\"seq\":mutants_single})\n",
    "\n",
    "# Add description column\n",
    "tetO1_df_single[\"construct\"] = \"lacUV5_tetO1 single mutant\"\n",
    "\n",
    "# Show first 5 rows\n",
    "tetO1_df_single.head()"
   ]
  },
  {
   "cell_type": "markdown",
   "metadata": {},
   "source": [
    "Second the tetO1 double mutants."
   ]
  },
  {
   "cell_type": "code",
   "execution_count": 15,
   "metadata": {},
   "outputs": [
    {
     "data": {
      "text/html": [
       "<div>\n",
       "<style scoped>\n",
       "    .dataframe tbody tr th:only-of-type {\n",
       "        vertical-align: middle;\n",
       "    }\n",
       "\n",
       "    .dataframe tbody tr th {\n",
       "        vertical-align: top;\n",
       "    }\n",
       "\n",
       "    .dataframe thead th {\n",
       "        text-align: right;\n",
       "    }\n",
       "</style>\n",
       "<table border=\"1\" class=\"dataframe\">\n",
       "  <thead>\n",
       "    <tr style=\"text-align: right;\">\n",
       "      <th></th>\n",
       "      <th>seq</th>\n",
       "      <th>construct</th>\n",
       "    </tr>\n",
       "  </thead>\n",
       "  <tbody>\n",
       "    <tr>\n",
       "      <th>0</th>\n",
       "      <td>ACTCTgTCATcGATAGAGT</td>\n",
       "      <td>lacUV5_tetO1 double mutant</td>\n",
       "    </tr>\n",
       "    <tr>\n",
       "      <th>1</th>\n",
       "      <td>ACTtTATCATTGATAGAGc</td>\n",
       "      <td>lacUV5_tetO1 double mutant</td>\n",
       "    </tr>\n",
       "    <tr>\n",
       "      <th>2</th>\n",
       "      <td>ACTCTATCATTGATAGtGa</td>\n",
       "      <td>lacUV5_tetO1 double mutant</td>\n",
       "    </tr>\n",
       "    <tr>\n",
       "      <th>3</th>\n",
       "      <td>ACTCTATaATTGgTAGAGT</td>\n",
       "      <td>lacUV5_tetO1 double mutant</td>\n",
       "    </tr>\n",
       "    <tr>\n",
       "      <th>4</th>\n",
       "      <td>ACTCTATCATaGAaAGAGT</td>\n",
       "      <td>lacUV5_tetO1 double mutant</td>\n",
       "    </tr>\n",
       "  </tbody>\n",
       "</table>\n",
       "</div>"
      ],
      "text/plain": [
       "                   seq                   construct\n",
       "0  ACTCTgTCATcGATAGAGT  lacUV5_tetO1 double mutant\n",
       "1  ACTtTATCATTGATAGAGc  lacUV5_tetO1 double mutant\n",
       "2  ACTCTATCATTGATAGtGa  lacUV5_tetO1 double mutant\n",
       "3  ACTCTATaATTGgTAGAGT  lacUV5_tetO1 double mutant\n",
       "4  ACTCTATCATaGAaAGAGT  lacUV5_tetO1 double mutant"
      ]
     },
     "execution_count": 15,
     "metadata": {},
     "output_type": "execute_result"
    }
   ],
   "source": [
    "# Obtain mutants\n",
    "mutants_double_O1 = wgregseq.mutations_det(tetO1, mut_per_seq=2, num_mutants=1000, site_start=-20)\n",
    "\n",
    "# Store sequences in data frame\n",
    "tetO1_df_double = pd.DataFrame({\"seq\":mutants_double_O1})\n",
    "\n",
    "# Add description column\n",
    "tetO1_df_double[\"construct\"] = \"lacUV5_tetO1 double mutant\"\n",
    "\n",
    "# Show first 5 rows\n",
    "tetO1_df_double.head()"
   ]
  },
  {
   "cell_type": "markdown",
   "metadata": {},
   "source": [
    "Since we are downsampling the double mutants, we should make sure that we obtain sufficient mutational coverage across the sequence. Hence, we use `wgregseq.mutation_coverage` to compute the mutation rate at each position. If there are positions which significantly vary of 0.1, we either have to rerun the function which generates the mutations, or take a larger sample size."
   ]
  },
  {
   "cell_type": "code",
   "execution_count": 16,
   "metadata": {},
   "outputs": [
    {
     "data": {
      "text/plain": [
       "array([0.105, 0.106, 0.099, 0.109, 0.105, 0.116, 0.117, 0.103, 0.106,\n",
       "       0.106, 0.11 , 0.1  , 0.108, 0.092, 0.106, 0.112, 0.094, 0.105,\n",
       "       0.101])"
      ]
     },
     "execution_count": 16,
     "metadata": {},
     "output_type": "execute_result"
    }
   ],
   "source": [
    "wgregseq.mutation_coverage(tetO1, mutants_double_O1)"
   ]
  },
  {
   "cell_type": "markdown",
   "metadata": {},
   "source": [
    "Now we can generate the mutants for tetO2 as well."
   ]
  },
  {
   "cell_type": "code",
   "execution_count": 17,
   "metadata": {},
   "outputs": [],
   "source": [
    "# Single mutants\n",
    "mutants_single_O2 = wgregseq.mutations_det(tetO2, mut_per_seq=1)\n",
    "tetO2_df_single = pd.DataFrame({\"seq\":mutants_single})\n",
    "tetO2_df_single[\"construct\"] = \"lacUV5_tetO2 single mutant\"\n",
    "\n",
    "# Double mutants\n",
    "mutants_double_O2 = wgregseq.mutations_det(tetO2, mut_per_seq=2, num_mutants=1000)\n",
    "tetO2_df_double = pd.DataFrame({\"seq\":mutants_double_O2})\n",
    "tetO2_df_double[\"construct\"] = \"lacUV5_tetO2 double mutant\""
   ]
  },
  {
   "cell_type": "markdown",
   "metadata": {},
   "source": [
    "Again, before we proceed we should check the mutation coverage."
   ]
  },
  {
   "cell_type": "code",
   "execution_count": 18,
   "metadata": {},
   "outputs": [
    {
     "data": {
      "text/plain": [
       "array([0.11 , 0.094, 0.094, 0.098, 0.112, 0.102, 0.105, 0.1  , 0.098,\n",
       "       0.113, 0.108, 0.102, 0.11 , 0.11 , 0.105, 0.109, 0.11 , 0.112,\n",
       "       0.108])"
      ]
     },
     "execution_count": 18,
     "metadata": {},
     "output_type": "execute_result"
    }
   ],
   "source": [
    "wgregseq.mutation_coverage(tetO2, mutants_double_O2)"
   ]
  },
  {
   "cell_type": "markdown",
   "metadata": {},
   "source": [
    "Finally, we combine all sequences into a single data frame, and attach the lacUV5 promoter directly upstream of the mutated operators."
   ]
  },
  {
   "cell_type": "code",
   "execution_count": 20,
   "metadata": {},
   "outputs": [
    {
     "data": {
      "text/html": [
       "<div>\n",
       "<style scoped>\n",
       "    .dataframe tbody tr th:only-of-type {\n",
       "        vertical-align: middle;\n",
       "    }\n",
       "\n",
       "    .dataframe tbody tr th {\n",
       "        vertical-align: top;\n",
       "    }\n",
       "\n",
       "    .dataframe thead th {\n",
       "        text-align: right;\n",
       "    }\n",
       "</style>\n",
       "<table border=\"1\" class=\"dataframe\">\n",
       "  <thead>\n",
       "    <tr style=\"text-align: right;\">\n",
       "      <th></th>\n",
       "      <th>seq</th>\n",
       "      <th>construct</th>\n",
       "    </tr>\n",
       "  </thead>\n",
       "  <tbody>\n",
       "    <tr>\n",
       "      <th>0</th>\n",
       "      <td>TCGAGTTTACACTTTATGCTTCCGGCTCGTATAATGTGTGGcCTCT...</td>\n",
       "      <td>lacUV5_tetO1 single mutant</td>\n",
       "    </tr>\n",
       "    <tr>\n",
       "      <th>1</th>\n",
       "      <td>TCGAGTTTACACTTTATGCTTCCGGCTCGTATAATGTGTGGAaTCT...</td>\n",
       "      <td>lacUV5_tetO1 single mutant</td>\n",
       "    </tr>\n",
       "    <tr>\n",
       "      <th>2</th>\n",
       "      <td>TCGAGTTTACACTTTATGCTTCCGGCTCGTATAATGTGTGGACaCT...</td>\n",
       "      <td>lacUV5_tetO1 single mutant</td>\n",
       "    </tr>\n",
       "    <tr>\n",
       "      <th>3</th>\n",
       "      <td>TCGAGTTTACACTTTATGCTTCCGGCTCGTATAATGTGTGGACTaT...</td>\n",
       "      <td>lacUV5_tetO1 single mutant</td>\n",
       "    </tr>\n",
       "    <tr>\n",
       "      <th>4</th>\n",
       "      <td>TCGAGTTTACACTTTATGCTTCCGGCTCGTATAATGTGTGGACTCa...</td>\n",
       "      <td>lacUV5_tetO1 single mutant</td>\n",
       "    </tr>\n",
       "    <tr>\n",
       "      <th>...</th>\n",
       "      <td>...</td>\n",
       "      <td>...</td>\n",
       "    </tr>\n",
       "    <tr>\n",
       "      <th>2109</th>\n",
       "      <td>TCGAGTTTACACTTTATGCTTCCGGCTCGTATAATGTGTGGTCCCg...</td>\n",
       "      <td>lacUV5_tetO2 double mutant</td>\n",
       "    </tr>\n",
       "    <tr>\n",
       "      <th>2110</th>\n",
       "      <td>TCGAGTTTACACTTTATGCTTCCGGCTCGTATAATGTGTGGTCCCT...</td>\n",
       "      <td>lacUV5_tetO2 double mutant</td>\n",
       "    </tr>\n",
       "    <tr>\n",
       "      <th>2111</th>\n",
       "      <td>TCGAGTTTACACTTTATGCTTCCGGCTCGTATAATGTGTGGTCCCT...</td>\n",
       "      <td>lacUV5_tetO2 double mutant</td>\n",
       "    </tr>\n",
       "    <tr>\n",
       "      <th>2112</th>\n",
       "      <td>TCGAGTTTACACTTTATGCTTCCGGCTCGTATAATGTGTGGTCCCT...</td>\n",
       "      <td>lacUV5_tetO2 double mutant</td>\n",
       "    </tr>\n",
       "    <tr>\n",
       "      <th>2113</th>\n",
       "      <td>TCGAGTTTACACTTTATGCTTCCGGCTCGTATAATGTGTGGgCCCT...</td>\n",
       "      <td>lacUV5_tetO2 double mutant</td>\n",
       "    </tr>\n",
       "  </tbody>\n",
       "</table>\n",
       "<p>2114 rows × 2 columns</p>\n",
       "</div>"
      ],
      "text/plain": [
       "                                                    seq  \\\n",
       "0     TCGAGTTTACACTTTATGCTTCCGGCTCGTATAATGTGTGGcCTCT...   \n",
       "1     TCGAGTTTACACTTTATGCTTCCGGCTCGTATAATGTGTGGAaTCT...   \n",
       "2     TCGAGTTTACACTTTATGCTTCCGGCTCGTATAATGTGTGGACaCT...   \n",
       "3     TCGAGTTTACACTTTATGCTTCCGGCTCGTATAATGTGTGGACTaT...   \n",
       "4     TCGAGTTTACACTTTATGCTTCCGGCTCGTATAATGTGTGGACTCa...   \n",
       "...                                                 ...   \n",
       "2109  TCGAGTTTACACTTTATGCTTCCGGCTCGTATAATGTGTGGTCCCg...   \n",
       "2110  TCGAGTTTACACTTTATGCTTCCGGCTCGTATAATGTGTGGTCCCT...   \n",
       "2111  TCGAGTTTACACTTTATGCTTCCGGCTCGTATAATGTGTGGTCCCT...   \n",
       "2112  TCGAGTTTACACTTTATGCTTCCGGCTCGTATAATGTGTGGTCCCT...   \n",
       "2113  TCGAGTTTACACTTTATGCTTCCGGCTCGTATAATGTGTGGgCCCT...   \n",
       "\n",
       "                       construct  \n",
       "0     lacUV5_tetO1 single mutant  \n",
       "1     lacUV5_tetO1 single mutant  \n",
       "2     lacUV5_tetO1 single mutant  \n",
       "3     lacUV5_tetO1 single mutant  \n",
       "4     lacUV5_tetO1 single mutant  \n",
       "...                          ...  \n",
       "2109  lacUV5_tetO2 double mutant  \n",
       "2110  lacUV5_tetO2 double mutant  \n",
       "2111  lacUV5_tetO2 double mutant  \n",
       "2112  lacUV5_tetO2 double mutant  \n",
       "2113  lacUV5_tetO2 double mutant  \n",
       "\n",
       "[2114 rows x 2 columns]"
      ]
     },
     "execution_count": 20,
     "metadata": {},
     "output_type": "execute_result"
    }
   ],
   "source": [
    "# Combine data frames\n",
    "tet_df = pd.concat([tetO1_df_single, tetO1_df_double, tetO2_df_single, tetO2_df_double], ignore_index=True)\n",
    "\n",
    "# Attach lacUV5 to each sequence\n",
    "tet_df.seq = [lacUV5 + seq for seq in tet_df.seq]\n",
    "\n",
    "# Print first 5 rows\n",
    "tet_df"
   ]
  },
  {
   "cell_type": "markdown",
   "metadata": {},
   "source": [
    "This data frame will be included in the final file for the twist order. Therefore, we need to include a column which contains the information if we already added primers to the sequences. Then we save the table as `csv` file in the appropriate folder in this repository."
   ]
  },
  {
   "cell_type": "code",
   "execution_count": 21,
   "metadata": {},
   "outputs": [],
   "source": [
    "# Add column\n",
    "tet_df['primer_added'] = False\n",
    "\n",
    "# Store file\n",
    "tet_df.to_csv(\"../../../../data/twist_order/lacUV5_tetOx_single_double_mutants.csv\")"
   ]
  },
  {
   "cell_type": "markdown",
   "metadata": {},
   "source": [
    "## Native Promoter sequences"
   ]
  },
  {
   "cell_type": "markdown",
   "metadata": {},
   "source": [
    "Next, we design the constructs which contain the native promoter sequences. The goal here is to obtain an energy matrix for the RNAP binding sites. We do not need to be bothered about the operator binding sites, since we can integrate these constructs into strains which do not express the tet repressor and therefore the operators are not bound. In the paper there are two promoters annotated, but since we want to obtain data for the promoters individually, we will randomize the -10/-35 region of the opposing promoter if possible."
   ]
  },
  {
   "cell_type": "markdown",
   "metadata": {},
   "source": [
    "First we consider the promoter P_tetR1. Since the -35 region of P_tetR2 overlaps with the -10 of P_tetR2, we can only randomize the -10. Note that we are looking at the reverse sequence, since *tetR* is transcribed in the reverse direction."
   ]
  },
  {
   "cell_type": "code",
   "execution_count": 22,
   "metadata": {},
   "outputs": [
    {
     "data": {
      "text/plain": [
       "'TTCACTTTTCTCTATCACTGATAGGGAGTGGTAAAATAACTCTATCAATGttgtagggccaagggaAATTAGGAATTA'"
      ]
     },
     "execution_count": 22,
     "metadata": {},
     "output_type": "execute_result"
    }
   ],
   "source": [
    "# Obtain reversed intergenic region as list to manipulate positions\n",
    "randomized_R2 = list(intergenic_region_rev)\n",
    "\n",
    "# Randomize -10 of P_tetR2\n",
    "randomized_R2[50:66] = list(wgregseq.gen_rand_seq(16).lower())\n",
    "\n",
    "# Recombine into string\n",
    "randomized_R2 = \"\".join(randomized_R2)\n",
    "\n",
    "# Print result\n",
    "randomized_R2"
   ]
  },
  {
   "cell_type": "markdown",
   "metadata": {},
   "source": [
    "Now we can generate mutations in P_tetR1. We'll randomly mutate the RNAP binding site at an average 0.1 rate (the actual number of mutants is picked from a Poisson distribution with mean `len(sequence) * rate`. The number of mutations can also be fixed, refer to the docstring of the function.) After generating mutations, we check the mutation coverage."
   ]
  },
  {
   "cell_type": "code",
   "execution_count": 25,
   "metadata": {},
   "outputs": [
    {
     "data": {
      "text/plain": [
       "array([0.10431154, 0.10639777, 0.09735744, 0.10709318, 0.11196106,\n",
       "       0.09527121, 0.0876217 , 0.10987483, 0.10570236, 0.10570236,\n",
       "       0.09805285, 0.10083449, 0.10500695, 0.11196106, 0.09179416,\n",
       "       0.10361613, 0.10013908, 0.10222531, 0.10222531, 0.10431154,\n",
       "       0.09179416, 0.10292072, 0.09874826, 0.09735744, 0.09944367,\n",
       "       0.1077886 , 0.10987483, 0.09388039, 0.1147427 , 0.10292072,\n",
       "       0.10570236, 0.10709318, 0.10013908, 0.10570236, 0.10987483,\n",
       "       0.1015299 , 0.10848401, 0.10500695, 0.10500695, 0.10292072])"
      ]
     },
     "execution_count": 25,
     "metadata": {},
     "output_type": "execute_result"
    }
   ],
   "source": [
    "# Generate mutants\n",
    "PR1_mutants = np.unique(wgregseq.mutations_rand(randomized_R2, 1500, 0.1, site_start=6, site_end=46))\n",
    "\n",
    "# Check mutation coverage\n",
    "wgregseq.mutation_coverage(randomized_R2, PR1_mutants, site_start=6, site_end=46)"
   ]
  },
  {
   "cell_type": "markdown",
   "metadata": {},
   "source": [
    "Next, we mutate the P_tetR2 region. Therefore, we first have to randomize the -35 region of P_tetR1. "
   ]
  },
  {
   "cell_type": "code",
   "execution_count": 26,
   "metadata": {},
   "outputs": [
    {
     "data": {
      "text/plain": [
       "'TTCACTgagaatgctgtaggcaTAGGGAGTGGTAAAATAACTCTATCAATGATAGAGTGTCAACAAAAATTAGGAATTA'"
      ]
     },
     "execution_count": 26,
     "metadata": {},
     "output_type": "execute_result"
    }
   ],
   "source": [
    "# Obtain reversed intergentic region as list\n",
    "randomized_R1 = list(intergenic_region_rev)\n",
    "\n",
    "# Randomize P_tetR1 -35 region\n",
    "randomized_R1[6:21] = list(wgregseq.gen_rand_seq(16).lower())\n",
    "\n",
    "# Recombine into string\n",
    "randomized_R1 = \"\".join(randomized_R1)\n",
    "\n",
    "# Print sequence\n",
    "randomized_R1"
   ]
  },
  {
   "cell_type": "markdown",
   "metadata": {},
   "source": [
    "Again, we generate mutants of the RNAP binding site and compute the mutation rate per position as quality control."
   ]
  },
  {
   "cell_type": "code",
   "execution_count": 27,
   "metadata": {},
   "outputs": [
    {
     "data": {
      "text/plain": [
       "array([0.09992963, 0.10415201, 0.10344828, 0.10696692, 0.11611541,\n",
       "       0.10907811, 0.10626319, 0.09078114, 0.11400422, 0.10978184,\n",
       "       0.10626319, 0.10063336, 0.10133709, 0.11681914, 0.08937368,\n",
       "       0.10767065, 0.10274455, 0.09992963, 0.09429979, 0.1111893 ,\n",
       "       0.10274455, 0.09781844, 0.09570725, 0.12033779, 0.10274455,\n",
       "       0.09078114, 0.10696692, 0.09500352, 0.10415201, 0.10274455,\n",
       "       0.10696692, 0.09148487, 0.10837438, 0.10063336, 0.11189303,\n",
       "       0.11259676, 0.08796622, 0.10274455, 0.11048557])"
      ]
     },
     "execution_count": 27,
     "metadata": {},
     "output_type": "execute_result"
    }
   ],
   "source": [
    "# Generate mutants\n",
    "PR2_mutants = np.unique(wgregseq.mutations_rand(randomized_R1, 1500, 0.1, site_start=27, site_end=66))\n",
    "\n",
    "# Compute mutation rate per position\n",
    "wgregseq.mutation_coverage(randomized_R1, PR2_mutants, site_start=27, site_end=66)"
   ]
  },
  {
   "cell_type": "markdown",
   "metadata": {},
   "source": [
    "Finally, we get mutants for the P_tetA sequence. Since this is the only RNAP binding site in the forward direction, we do not need to randomize anything of the sequence prior to generating mutants."
   ]
  },
  {
   "cell_type": "code",
   "execution_count": 28,
   "metadata": {},
   "outputs": [
    {
     "data": {
      "text/plain": [
       "array([0.09239517, 0.11229566, 0.108742  , 0.11940299, 0.10447761,\n",
       "       0.108742  , 0.10660981, 0.10447761, 0.09737029, 0.09950249,\n",
       "       0.11513859, 0.10376688, 0.10447761, 0.09168443, 0.11869225,\n",
       "       0.10163468, 0.11158493, 0.10732054, 0.10518834, 0.108742  ,\n",
       "       0.108742  , 0.10163468, 0.09950249, 0.11656006, 0.11158493,\n",
       "       0.10447761, 0.09381663, 0.09665956, 0.12153518, 0.10732054,\n",
       "       0.09808102, 0.10945274, 0.09168443, 0.12508884, 0.11016347,\n",
       "       0.11513859, 0.10447761])"
      ]
     },
     "execution_count": 28,
     "metadata": {},
     "output_type": "execute_result"
    }
   ],
   "source": [
    "# Generate mutants\n",
    "PA_mutants = np.unique(wgregseq.mutations_rand(intergenic_region, 1500, 0.1, site_start=16, site_end=53))\n",
    "\n",
    "# Compute mutation rate per position\n",
    "wgregseq.mutation_coverage(intergenic_region, PA_mutants, site_start=16, site_end=53)"
   ]
  },
  {
   "cell_type": "markdown",
   "metadata": {},
   "source": [
    "We combine all generated sequences into a data frame and add the necessary columns. Also we add a column that indicates if there is a region in the sequence that was randomized on top of the mutations in the sequence of interest."
   ]
  },
  {
   "cell_type": "code",
   "execution_count": 29,
   "metadata": {},
   "outputs": [
    {
     "data": {
      "text/html": [
       "<div>\n",
       "<style scoped>\n",
       "    .dataframe tbody tr th:only-of-type {\n",
       "        vertical-align: middle;\n",
       "    }\n",
       "\n",
       "    .dataframe tbody tr th {\n",
       "        vertical-align: top;\n",
       "    }\n",
       "\n",
       "    .dataframe thead th {\n",
       "        text-align: right;\n",
       "    }\n",
       "</style>\n",
       "<table border=\"1\" class=\"dataframe\">\n",
       "  <thead>\n",
       "    <tr style=\"text-align: right;\">\n",
       "      <th></th>\n",
       "      <th>seq</th>\n",
       "      <th>primer_added</th>\n",
       "      <th>construct</th>\n",
       "      <th>note</th>\n",
       "    </tr>\n",
       "  </thead>\n",
       "  <tbody>\n",
       "    <tr>\n",
       "      <th>0</th>\n",
       "      <td>TTCACTTTTCTCTATCACTGATAGGGAGTGGTAAAATAACTCTATC...</td>\n",
       "      <td>False</td>\n",
       "      <td>P_tetR1</td>\n",
       "      <td>P_tetR2 -10 region randomized</td>\n",
       "    </tr>\n",
       "    <tr>\n",
       "      <th>1</th>\n",
       "      <td>TTCACTTTTCTCTATCACTGATAGGGAGTGGTAAAATAACTCTATa...</td>\n",
       "      <td>False</td>\n",
       "      <td>P_tetR1</td>\n",
       "      <td>P_tetR2 -10 region randomized</td>\n",
       "    </tr>\n",
       "    <tr>\n",
       "      <th>2</th>\n",
       "      <td>TTCACTTTTCTCTATCACTGATAGGGAGTGGTAAAATAACTCTATg...</td>\n",
       "      <td>False</td>\n",
       "      <td>P_tetR1</td>\n",
       "      <td>P_tetR2 -10 region randomized</td>\n",
       "    </tr>\n",
       "    <tr>\n",
       "      <th>3</th>\n",
       "      <td>TTCACTTTTCTCTATCACTGATAGGGAGTGGTAAAATAACTCTATt...</td>\n",
       "      <td>False</td>\n",
       "      <td>P_tetR1</td>\n",
       "      <td>P_tetR2 -10 region randomized</td>\n",
       "    </tr>\n",
       "    <tr>\n",
       "      <th>4</th>\n",
       "      <td>TTCACTTTTCTCTATCACTGATAGGGAGTGGTAAAATAACTCTAgC...</td>\n",
       "      <td>False</td>\n",
       "      <td>P_tetR1</td>\n",
       "      <td>P_tetR2 -10 region randomized</td>\n",
       "    </tr>\n",
       "    <tr>\n",
       "      <th>...</th>\n",
       "      <td>...</td>\n",
       "      <td>...</td>\n",
       "      <td>...</td>\n",
       "      <td>...</td>\n",
       "    </tr>\n",
       "    <tr>\n",
       "      <th>4261</th>\n",
       "      <td>TAATTCCTAATTTTTGgTcACACTCaATCATTGATgGAGTTcTgTT...</td>\n",
       "      <td>False</td>\n",
       "      <td>P_tetA</td>\n",
       "      <td></td>\n",
       "    </tr>\n",
       "    <tr>\n",
       "      <th>4262</th>\n",
       "      <td>TAATTCCTAATTTTTGgTcACAgTCgATCATTGATAGAGTTATTTT...</td>\n",
       "      <td>False</td>\n",
       "      <td>P_tetA</td>\n",
       "      <td></td>\n",
       "    </tr>\n",
       "    <tr>\n",
       "      <th>4263</th>\n",
       "      <td>TAATTCCTAATTTTTGgcGACtCTCTATCATTcAcAGAGTTATTTT...</td>\n",
       "      <td>False</td>\n",
       "      <td>P_tetA</td>\n",
       "      <td></td>\n",
       "    </tr>\n",
       "    <tr>\n",
       "      <th>4264</th>\n",
       "      <td>TAATTCCTAATTTTTGggGACACTCTATCATTGATAtAGTTATTTT...</td>\n",
       "      <td>False</td>\n",
       "      <td>P_tetA</td>\n",
       "      <td></td>\n",
       "    </tr>\n",
       "    <tr>\n",
       "      <th>4265</th>\n",
       "      <td>TAATTCCTAATTTTTGggGACACTaTATCATTGcTAaAGTTATTTT...</td>\n",
       "      <td>False</td>\n",
       "      <td>P_tetA</td>\n",
       "      <td></td>\n",
       "    </tr>\n",
       "  </tbody>\n",
       "</table>\n",
       "<p>4266 rows × 4 columns</p>\n",
       "</div>"
      ],
      "text/plain": [
       "                                                    seq  primer_added  \\\n",
       "0     TTCACTTTTCTCTATCACTGATAGGGAGTGGTAAAATAACTCTATC...         False   \n",
       "1     TTCACTTTTCTCTATCACTGATAGGGAGTGGTAAAATAACTCTATa...         False   \n",
       "2     TTCACTTTTCTCTATCACTGATAGGGAGTGGTAAAATAACTCTATg...         False   \n",
       "3     TTCACTTTTCTCTATCACTGATAGGGAGTGGTAAAATAACTCTATt...         False   \n",
       "4     TTCACTTTTCTCTATCACTGATAGGGAGTGGTAAAATAACTCTAgC...         False   \n",
       "...                                                 ...           ...   \n",
       "4261  TAATTCCTAATTTTTGgTcACACTCaATCATTGATgGAGTTcTgTT...         False   \n",
       "4262  TAATTCCTAATTTTTGgTcACAgTCgATCATTGATAGAGTTATTTT...         False   \n",
       "4263  TAATTCCTAATTTTTGgcGACtCTCTATCATTcAcAGAGTTATTTT...         False   \n",
       "4264  TAATTCCTAATTTTTGggGACACTCTATCATTGATAtAGTTATTTT...         False   \n",
       "4265  TAATTCCTAATTTTTGggGACACTaTATCATTGcTAaAGTTATTTT...         False   \n",
       "\n",
       "     construct                           note  \n",
       "0      P_tetR1  P_tetR2 -10 region randomized  \n",
       "1      P_tetR1  P_tetR2 -10 region randomized  \n",
       "2      P_tetR1  P_tetR2 -10 region randomized  \n",
       "3      P_tetR1  P_tetR2 -10 region randomized  \n",
       "4      P_tetR1  P_tetR2 -10 region randomized  \n",
       "...        ...                            ...  \n",
       "4261    P_tetA                                 \n",
       "4262    P_tetA                                 \n",
       "4263    P_tetA                                 \n",
       "4264    P_tetA                                 \n",
       "4265    P_tetA                                 \n",
       "\n",
       "[4266 rows x 4 columns]"
      ]
     },
     "execution_count": 29,
     "metadata": {},
     "output_type": "execute_result"
    }
   ],
   "source": [
    "# Define individual data frames\n",
    "dfR1 = pd.DataFrame({'seq': PR1_mutants, 'primer_added' : False, 'construct' : \"P_tetR1\", 'note': \"P_tetR2 -10 region randomized\"})\n",
    "dfR2 = pd.DataFrame({'seq': PR2_mutants, 'primer_added' : False, 'construct' : \"P_tetR2\", 'note': \"P_tetR1 -35 region randomized\"})\n",
    "dfA = pd.DataFrame({'seq': PA_mutants, 'primer_added' : False, 'construct' : \"P_tetA\", 'note': \"\"})\n",
    "\n",
    "# Combine data frames\n",
    "df_promoters = pd.concat([dfR1, dfR2, dfA], ignore_index=True)\n",
    "df_promoters"
   ]
  },
  {
   "cell_type": "markdown",
   "metadata": {},
   "source": [
    "The combined data frame is saved in the appropriate folder where we are combining the individual constructs into a final order."
   ]
  },
  {
   "cell_type": "code",
   "execution_count": 30,
   "metadata": {},
   "outputs": [],
   "source": [
    "df_promoters.to_csv(\"../../../../data/twist_order/natural_tet_promoters_mutated.csv\")"
   ]
  },
  {
   "cell_type": "markdown",
   "metadata": {},
   "source": [
    "## Computational environment"
   ]
  },
  {
   "cell_type": "code",
   "execution_count": 27,
   "metadata": {},
   "outputs": [
    {
     "name": "stdout",
     "output_type": "stream",
     "text": [
      "CPython 3.8.5\n",
      "IPython 7.10.0\n",
      "\n",
      "pandas 1.0.3\n",
      "wgregseq 0.0.1\n"
     ]
    }
   ],
   "source": [
    "%load_ext watermark\n",
    "%watermark -v -p pandas,wgregseq"
   ]
  }
 ],
 "metadata": {
  "kernelspec": {
   "display_name": "Python 3",
   "language": "python",
   "name": "python3"
  },
  "language_info": {
   "codemirror_mode": {
    "name": "ipython",
    "version": 3
   },
   "file_extension": ".py",
   "mimetype": "text/x-python",
   "name": "python",
   "nbconvert_exporter": "python",
   "pygments_lexer": "ipython3",
   "version": "3.8.5"
  }
 },
 "nbformat": 4,
 "nbformat_minor": 4
}
