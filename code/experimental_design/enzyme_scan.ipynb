{
 "cells": [
  {
   "cell_type": "markdown",
   "metadata": {},
   "source": [
    "# Scan sequences for restriction sites"
   ]
  },
  {
   "cell_type": "code",
   "execution_count": 1,
   "metadata": {},
   "outputs": [],
   "source": [
    "import wgregseq"
   ]
  },
  {
   "cell_type": "markdown",
   "metadata": {},
   "source": [
    "First, we scan a list of sequences for restriction sites of a single enzyme. This returns a list of positions in each sequence where this site is found."
   ]
  },
  {
   "cell_type": "code",
   "execution_count": 2,
   "metadata": {},
   "outputs": [
    {
     "data": {
      "text/plain": [
       "[[4, 14], [5]]"
      ]
     },
     "execution_count": 2,
     "metadata": {},
     "output_type": "execute_result"
    }
   ],
   "source": [
    "x = wgregseq.find_restriction_sites(\"EcoRI\", [\"AAGAATTCAAAAGAATTCAAAA\", \"AAAGAATTCAAAAAAA\"])\n",
    "x"
   ]
  },
  {
   "cell_type": "markdown",
   "metadata": {},
   "source": [
    "Next, we scan a list of sequences for multiple enzymes, and check how many restriction sites can be found in the entire library for each enzyme."
   ]
  },
  {
   "cell_type": "code",
   "execution_count": 12,
   "metadata": {},
   "outputs": [
    {
     "data": {
      "text/plain": [
       "array([0., 2.])"
      ]
     },
     "execution_count": 12,
     "metadata": {},
     "output_type": "execute_result"
    }
   ],
   "source": [
    "wgregseq.scan_enzymes([\"AAGAATTCaaaagAaTTCAAAA\", \"AAAGAATTCAAaaaaA\".lower()], enzymes=[\"SalI\", \"EcoRI\"])"
   ]
  },
  {
   "cell_type": "markdown",
   "metadata": {},
   "source": [
    "We can also run the scan for all available enzymes. This is done automatically if we don't give a list of enzymes as input."
   ]
  },
  {
   "cell_type": "code",
   "execution_count": 13,
   "metadata": {},
   "outputs": [],
   "source": [
    "num_sites, enzymes = wgregseq.scan_enzymes([\"AAGAATTCAAAAGAATTCAAAA\", \"AAAGAATTCAAAAAAA\"])"
   ]
  },
  {
   "cell_type": "code",
   "execution_count": 14,
   "metadata": {},
   "outputs": [
    {
     "name": "stdout",
     "output_type": "stream",
     "text": [
      "AbaSI C\n",
      "AgsI TTSAA\n",
      "Sse9I AATT\n",
      "XapI RAATTY\n",
      "MluCI AATT\n",
      "MspJI CNNR\n",
      "ApoI RAATTY\n",
      "EcoRI GAATTC\n",
      "AcsI RAATTY\n",
      "TasI AATT\n"
     ]
    }
   ],
   "source": [
    "for i, enz in enumerate(enzymes):\n",
    "    if num_sites[i] > 0:\n",
    "        print(enz, enz.site)"
   ]
  },
  {
   "cell_type": "markdown",
   "metadata": {},
   "source": [
    "## Computing Environment"
   ]
  },
  {
   "cell_type": "code",
   "execution_count": 6,
   "metadata": {},
   "outputs": [
    {
     "name": "stdout",
     "output_type": "stream",
     "text": [
      "CPython 3.8.5\n",
      "IPython 7.10.0\n",
      "\n",
      "wgregseq 0.0.1\n",
      "numpy 1.18.1\n",
      "pandas 1.0.3\n"
     ]
    }
   ],
   "source": [
    "%load_ext watermark\n",
    "%watermark -v -p wgregseq,numpy,pandas"
   ]
  }
 ],
 "metadata": {
  "kernelspec": {
   "display_name": "Python",
   "language": "python",
   "name": "base"
  },
  "language_info": {
   "codemirror_mode": {
    "name": "ipython",
    "version": 3
   },
   "file_extension": ".py",
   "mimetype": "text/x-python",
   "name": "python",
   "nbconvert_exporter": "python",
   "pygments_lexer": "ipython3",
   "version": "3.8.5"
  }
 },
 "nbformat": 4,
 "nbformat_minor": 4
}
