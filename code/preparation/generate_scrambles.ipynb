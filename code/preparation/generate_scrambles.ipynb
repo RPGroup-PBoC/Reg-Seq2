{
 "cells": [
  {
   "cell_type": "markdown",
   "metadata": {},
   "source": [
    "# Generating mutation scrambles of different sizes."
   ]
  },
  {
   "cell_type": "markdown",
   "metadata": {},
   "source": [
    "(c) 2020 Tom Röschinger. This work is licensed under a [Creative Commons Attribution License CC-BY 4.0](https://creativecommons.org/licenses/by/4.0/). All code contained herein is licensed under an [MIT license](https://opensource.org/licenses/MIT)."
   ]
  },
  {
   "cell_type": "code",
   "execution_count": 6,
   "metadata": {},
   "outputs": [
    {
     "name": "stdout",
     "output_type": "stream",
     "text": [
      "The autoreload extension is already loaded. To reload it, use:\n",
      "  %reload_ext autoreload\n"
     ]
    }
   ],
   "source": [
    "import wgregseq\n",
    "%load_ext autoreload\n",
    "%autoreload 2\n",
    "\n",
    "import numpy as np\n",
    "import pandas as pd\n",
    "\n",
    "# Set default plotting style\n",
    "wgregseq.plotting_style();"
   ]
  },
  {
   "cell_type": "code",
   "execution_count": 7,
   "metadata": {},
   "outputs": [
    {
     "data": {
      "text/html": [
       "<div>\n",
       "<style scoped>\n",
       "    .dataframe tbody tr th:only-of-type {\n",
       "        vertical-align: middle;\n",
       "    }\n",
       "\n",
       "    .dataframe tbody tr th {\n",
       "        vertical-align: top;\n",
       "    }\n",
       "\n",
       "    .dataframe thead th {\n",
       "        text-align: right;\n",
       "    }\n",
       "</style>\n",
       "<table border=\"1\" class=\"dataframe\">\n",
       "  <thead>\n",
       "    <tr style=\"text-align: right;\">\n",
       "      <th></th>\n",
       "      <th>name</th>\n",
       "      <th>start_site</th>\n",
       "      <th>rev</th>\n",
       "      <th>geneseq</th>\n",
       "      <th>ssdiff</th>\n",
       "      <th>offset</th>\n",
       "    </tr>\n",
       "  </thead>\n",
       "  <tbody>\n",
       "    <tr>\n",
       "      <th>0</th>\n",
       "      <td>fdoH</td>\n",
       "      <td>4085867.0</td>\n",
       "      <td>rev</td>\n",
       "      <td>CATTATGGTATTCTGTTACAAACCCTTCCTGGATGGAGGGAAATTG...</td>\n",
       "      <td>0.0</td>\n",
       "      <td>0.0</td>\n",
       "    </tr>\n",
       "    <tr>\n",
       "      <th>1</th>\n",
       "      <td>sdaB</td>\n",
       "      <td>2928035.0</td>\n",
       "      <td>fwd</td>\n",
       "      <td>TACATATATTGCGCGCCCCGGAAGAAGTCAGATGTCGTTTAATGGG...</td>\n",
       "      <td>0.0</td>\n",
       "      <td>0.0</td>\n",
       "    </tr>\n",
       "    <tr>\n",
       "      <th>2</th>\n",
       "      <td>thiM</td>\n",
       "      <td>2185451.0</td>\n",
       "      <td>rev</td>\n",
       "      <td>TCTGGATGTCGTTCTGAAGGTGCTGGATTCATATATCAAATAATTT...</td>\n",
       "      <td>0.0</td>\n",
       "      <td>0.0</td>\n",
       "    </tr>\n",
       "    <tr>\n",
       "      <th>3</th>\n",
       "      <td>yedJ</td>\n",
       "      <td>2033449.0</td>\n",
       "      <td>rev</td>\n",
       "      <td>TTTTTCCTGTATTCACTGCCGTTGCGCAAAATTTATCTATTTGTTC...</td>\n",
       "      <td>0.0</td>\n",
       "      <td>0.0</td>\n",
       "    </tr>\n",
       "    <tr>\n",
       "      <th>4</th>\n",
       "      <td>ykgE</td>\n",
       "      <td>321511.0</td>\n",
       "      <td>fwd</td>\n",
       "      <td>TCGATTTCCCCATAAAATGTGAGCGATGCCGAAAGAAATAAAATTA...</td>\n",
       "      <td>0.0</td>\n",
       "      <td>0.0</td>\n",
       "    </tr>\n",
       "  </tbody>\n",
       "</table>\n",
       "</div>"
      ],
      "text/plain": [
       "   name  start_site  rev                                            geneseq  \\\n",
       "0  fdoH   4085867.0  rev  CATTATGGTATTCTGTTACAAACCCTTCCTGGATGGAGGGAAATTG...   \n",
       "1  sdaB   2928035.0  fwd  TACATATATTGCGCGCCCCGGAAGAAGTCAGATGTCGTTTAATGGG...   \n",
       "2  thiM   2185451.0  rev  TCTGGATGTCGTTCTGAAGGTGCTGGATTCATATATCAAATAATTT...   \n",
       "3  yedJ   2033449.0  rev  TTTTTCCTGTATTCACTGCCGTTGCGCAAAATTTATCTATTTGTTC...   \n",
       "4  ykgE    321511.0  fwd  TCGATTTCCCCATAAAATGTGAGCGATGCCGAAAGAAATAAAATTA...   \n",
       "\n",
       "   ssdiff  offset  \n",
       "0     0.0     0.0  \n",
       "1     0.0     0.0  \n",
       "2     0.0     0.0  \n",
       "3     0.0     0.0  \n",
       "4     0.0     0.0  "
      ]
     },
     "execution_count": 7,
     "metadata": {},
     "output_type": "execute_result"
    }
   ],
   "source": [
    "df = pd.read_csv(\"../../data/RegSeq/wtsequences.csv\", index_col=0).reset_index(drop=True)\n",
    "df.head()"
   ]
  },
  {
   "cell_type": "markdown",
   "metadata": {},
   "source": [
    "Let's read out the wild type sequence for *ykgE*."
   ]
  },
  {
   "cell_type": "code",
   "execution_count": 16,
   "metadata": {},
   "outputs": [],
   "source": [
    "sequence = df.loc[df[\"name\"] == \"ykgE\", \"geneseq\"].values[0][0:20]"
   ]
  },
  {
   "cell_type": "code",
   "execution_count": 17,
   "metadata": {},
   "outputs": [
    {
     "data": {
      "text/plain": [
       "array(['TCGATTTCCCCATAAAATGT', 'TCGTTACCCTCATAAAATGT',\n",
       "       'TCGATATCCCCATTAAATGT', 'TCGATTTCCCGATAAAATCT'], dtype='<U160')"
      ]
     },
     "execution_count": 17,
     "metadata": {},
     "output_type": "execute_result"
    }
   ],
   "source": [
    "wgregseq.create_scrambles(sequence, 10, 5, 100)"
   ]
  },
  {
   "cell_type": "markdown",
   "metadata": {},
   "source": [
    "## Computing Environment"
   ]
  },
  {
   "cell_type": "code",
   "execution_count": 18,
   "metadata": {},
   "outputs": [
    {
     "name": "stdout",
     "output_type": "stream",
     "text": [
      "CPython 3.8.1\n",
      "IPython 7.16.1\n",
      "\n",
      "wgregseq 0.0.1\n",
      "numpy 1.18.1\n",
      "pandas 1.0.3\n"
     ]
    }
   ],
   "source": [
    "%load_ext watermark\n",
    "%watermark -v -p wgregseq,numpy,pandas"
   ]
  }
 ],
 "metadata": {
  "kernelspec": {
   "display_name": "Python 3.8",
   "language": "python",
   "name": "py38"
  },
  "language_info": {
   "codemirror_mode": {
    "name": "ipython",
    "version": 3
   },
   "file_extension": ".py",
   "mimetype": "text/x-python",
   "name": "python",
   "nbconvert_exporter": "python",
   "pygments_lexer": "ipython3",
   "version": "3.8.1"
  }
 },
 "nbformat": 4,
 "nbformat_minor": 4
}
