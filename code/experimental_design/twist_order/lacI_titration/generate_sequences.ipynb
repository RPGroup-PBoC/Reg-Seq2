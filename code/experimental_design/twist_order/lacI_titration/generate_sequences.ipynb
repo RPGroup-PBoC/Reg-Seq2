{
 "cells": [
  {
   "cell_type": "markdown",
   "metadata": {},
   "source": [
    "# Generating LacI operator constructs"
   ]
  },
  {
   "cell_type": "markdown",
   "metadata": {},
   "source": [
    "(c) 2020 Tom Röschinger. This work is licensed under a [Creative Commons Attribution License CC-BY 4.0](https://creativecommons.org/licenses/by/4.0/). All code contained herein is licensed under an [MIT license](https://opensource.org/licenses/MIT)."
   ]
  },
  {
   "cell_type": "markdown",
   "metadata": {},
   "source": [
    "***"
   ]
  },
  {
   "cell_type": "markdown",
   "metadata": {},
   "source": [
    "In this notebook we create mutants from the O1-sequence, which is a strong binding site for lacI. The goal is to explore the accuracy of RNA-seq and compare predicted binding energies with the ones obtained from these mutants in RNA-seq. Also, we can easily include plenty of sequences with many mutations and can test the limits of linear binding energy matrices, i.e., for how many mutations can the energy matrix accurately predict the energy (given that RNA-seq is precise for small number of mutations)."
   ]
  },
  {
   "cell_type": "code",
   "execution_count": 96,
   "metadata": {},
   "outputs": [
    {
     "name": "stdout",
     "output_type": "stream",
     "text": [
      "The autoreload extension is already loaded. To reload it, use:\n",
      "  %reload_ext autoreload\n"
     ]
    },
    {
     "data": {
      "text/html": [
       "\n",
       "    <div class=\"bk-root\">\n",
       "        <a href=\"https://bokeh.org\" target=\"_blank\" class=\"bk-logo bk-logo-small bk-logo-notebook\"></a>\n",
       "        <span id=\"14271\">Loading BokehJS ...</span>\n",
       "    </div>"
      ]
     },
     "metadata": {},
     "output_type": "display_data"
    },
    {
     "data": {
      "application/javascript": [
       "\n",
       "(function(root) {\n",
       "  function now() {\n",
       "    return new Date();\n",
       "  }\n",
       "\n",
       "  var force = true;\n",
       "\n",
       "  if (typeof root._bokeh_onload_callbacks === \"undefined\" || force === true) {\n",
       "    root._bokeh_onload_callbacks = [];\n",
       "    root._bokeh_is_loading = undefined;\n",
       "  }\n",
       "\n",
       "  var JS_MIME_TYPE = 'application/javascript';\n",
       "  var HTML_MIME_TYPE = 'text/html';\n",
       "  var EXEC_MIME_TYPE = 'application/vnd.bokehjs_exec.v0+json';\n",
       "  var CLASS_NAME = 'output_bokeh rendered_html';\n",
       "\n",
       "  /**\n",
       "   * Render data to the DOM node\n",
       "   */\n",
       "  function render(props, node) {\n",
       "    var script = document.createElement(\"script\");\n",
       "    node.appendChild(script);\n",
       "  }\n",
       "\n",
       "  /**\n",
       "   * Handle when an output is cleared or removed\n",
       "   */\n",
       "  function handleClearOutput(event, handle) {\n",
       "    var cell = handle.cell;\n",
       "\n",
       "    var id = cell.output_area._bokeh_element_id;\n",
       "    var server_id = cell.output_area._bokeh_server_id;\n",
       "    // Clean up Bokeh references\n",
       "    if (id != null && id in Bokeh.index) {\n",
       "      Bokeh.index[id].model.document.clear();\n",
       "      delete Bokeh.index[id];\n",
       "    }\n",
       "\n",
       "    if (server_id !== undefined) {\n",
       "      // Clean up Bokeh references\n",
       "      var cmd = \"from bokeh.io.state import curstate; print(curstate().uuid_to_server['\" + server_id + \"'].get_sessions()[0].document.roots[0]._id)\";\n",
       "      cell.notebook.kernel.execute(cmd, {\n",
       "        iopub: {\n",
       "          output: function(msg) {\n",
       "            var id = msg.content.text.trim();\n",
       "            if (id in Bokeh.index) {\n",
       "              Bokeh.index[id].model.document.clear();\n",
       "              delete Bokeh.index[id];\n",
       "            }\n",
       "          }\n",
       "        }\n",
       "      });\n",
       "      // Destroy server and session\n",
       "      var cmd = \"import bokeh.io.notebook as ion; ion.destroy_server('\" + server_id + \"')\";\n",
       "      cell.notebook.kernel.execute(cmd);\n",
       "    }\n",
       "  }\n",
       "\n",
       "  /**\n",
       "   * Handle when a new output is added\n",
       "   */\n",
       "  function handleAddOutput(event, handle) {\n",
       "    var output_area = handle.output_area;\n",
       "    var output = handle.output;\n",
       "\n",
       "    // limit handleAddOutput to display_data with EXEC_MIME_TYPE content only\n",
       "    if ((output.output_type != \"display_data\") || (!output.data.hasOwnProperty(EXEC_MIME_TYPE))) {\n",
       "      return\n",
       "    }\n",
       "\n",
       "    var toinsert = output_area.element.find(\".\" + CLASS_NAME.split(' ')[0]);\n",
       "\n",
       "    if (output.metadata[EXEC_MIME_TYPE][\"id\"] !== undefined) {\n",
       "      toinsert[toinsert.length - 1].firstChild.textContent = output.data[JS_MIME_TYPE];\n",
       "      // store reference to embed id on output_area\n",
       "      output_area._bokeh_element_id = output.metadata[EXEC_MIME_TYPE][\"id\"];\n",
       "    }\n",
       "    if (output.metadata[EXEC_MIME_TYPE][\"server_id\"] !== undefined) {\n",
       "      var bk_div = document.createElement(\"div\");\n",
       "      bk_div.innerHTML = output.data[HTML_MIME_TYPE];\n",
       "      var script_attrs = bk_div.children[0].attributes;\n",
       "      for (var i = 0; i < script_attrs.length; i++) {\n",
       "        toinsert[toinsert.length - 1].firstChild.setAttribute(script_attrs[i].name, script_attrs[i].value);\n",
       "        toinsert[toinsert.length - 1].firstChild.textContent = bk_div.children[0].textContent\n",
       "      }\n",
       "      // store reference to server id on output_area\n",
       "      output_area._bokeh_server_id = output.metadata[EXEC_MIME_TYPE][\"server_id\"];\n",
       "    }\n",
       "  }\n",
       "\n",
       "  function register_renderer(events, OutputArea) {\n",
       "\n",
       "    function append_mime(data, metadata, element) {\n",
       "      // create a DOM node to render to\n",
       "      var toinsert = this.create_output_subarea(\n",
       "        metadata,\n",
       "        CLASS_NAME,\n",
       "        EXEC_MIME_TYPE\n",
       "      );\n",
       "      this.keyboard_manager.register_events(toinsert);\n",
       "      // Render to node\n",
       "      var props = {data: data, metadata: metadata[EXEC_MIME_TYPE]};\n",
       "      render(props, toinsert[toinsert.length - 1]);\n",
       "      element.append(toinsert);\n",
       "      return toinsert\n",
       "    }\n",
       "\n",
       "    /* Handle when an output is cleared or removed */\n",
       "    events.on('clear_output.CodeCell', handleClearOutput);\n",
       "    events.on('delete.Cell', handleClearOutput);\n",
       "\n",
       "    /* Handle when a new output is added */\n",
       "    events.on('output_added.OutputArea', handleAddOutput);\n",
       "\n",
       "    /**\n",
       "     * Register the mime type and append_mime function with output_area\n",
       "     */\n",
       "    OutputArea.prototype.register_mime_type(EXEC_MIME_TYPE, append_mime, {\n",
       "      /* Is output safe? */\n",
       "      safe: true,\n",
       "      /* Index of renderer in `output_area.display_order` */\n",
       "      index: 0\n",
       "    });\n",
       "  }\n",
       "\n",
       "  // register the mime type if in Jupyter Notebook environment and previously unregistered\n",
       "  if (root.Jupyter !== undefined) {\n",
       "    var events = require('base/js/events');\n",
       "    var OutputArea = require('notebook/js/outputarea').OutputArea;\n",
       "\n",
       "    if (OutputArea.prototype.mime_types().indexOf(EXEC_MIME_TYPE) == -1) {\n",
       "      register_renderer(events, OutputArea);\n",
       "    }\n",
       "  }\n",
       "\n",
       "  \n",
       "  if (typeof (root._bokeh_timeout) === \"undefined\" || force === true) {\n",
       "    root._bokeh_timeout = Date.now() + 5000;\n",
       "    root._bokeh_failed_load = false;\n",
       "  }\n",
       "\n",
       "  var NB_LOAD_WARNING = {'data': {'text/html':\n",
       "     \"<div style='background-color: #fdd'>\\n\"+\n",
       "     \"<p>\\n\"+\n",
       "     \"BokehJS does not appear to have successfully loaded. If loading BokehJS from CDN, this \\n\"+\n",
       "     \"may be due to a slow or bad network connection. Possible fixes:\\n\"+\n",
       "     \"</p>\\n\"+\n",
       "     \"<ul>\\n\"+\n",
       "     \"<li>re-rerun `output_notebook()` to attempt to load from CDN again, or</li>\\n\"+\n",
       "     \"<li>use INLINE resources instead, as so:</li>\\n\"+\n",
       "     \"</ul>\\n\"+\n",
       "     \"<code>\\n\"+\n",
       "     \"from bokeh.resources import INLINE\\n\"+\n",
       "     \"output_notebook(resources=INLINE)\\n\"+\n",
       "     \"</code>\\n\"+\n",
       "     \"</div>\"}};\n",
       "\n",
       "  function display_loaded() {\n",
       "    var el = document.getElementById(\"14271\");\n",
       "    if (el != null) {\n",
       "      el.textContent = \"BokehJS is loading...\";\n",
       "    }\n",
       "    if (root.Bokeh !== undefined) {\n",
       "      if (el != null) {\n",
       "        el.textContent = \"BokehJS \" + root.Bokeh.version + \" successfully loaded.\";\n",
       "      }\n",
       "    } else if (Date.now() < root._bokeh_timeout) {\n",
       "      setTimeout(display_loaded, 100)\n",
       "    }\n",
       "  }\n",
       "\n",
       "\n",
       "  function run_callbacks() {\n",
       "    try {\n",
       "      root._bokeh_onload_callbacks.forEach(function(callback) {\n",
       "        if (callback != null)\n",
       "          callback();\n",
       "      });\n",
       "    } finally {\n",
       "      delete root._bokeh_onload_callbacks\n",
       "    }\n",
       "    console.debug(\"Bokeh: all callbacks have finished\");\n",
       "  }\n",
       "\n",
       "  function load_libs(css_urls, js_urls, callback) {\n",
       "    if (css_urls == null) css_urls = [];\n",
       "    if (js_urls == null) js_urls = [];\n",
       "\n",
       "    root._bokeh_onload_callbacks.push(callback);\n",
       "    if (root._bokeh_is_loading > 0) {\n",
       "      console.debug(\"Bokeh: BokehJS is being loaded, scheduling callback at\", now());\n",
       "      return null;\n",
       "    }\n",
       "    if (js_urls == null || js_urls.length === 0) {\n",
       "      run_callbacks();\n",
       "      return null;\n",
       "    }\n",
       "    console.debug(\"Bokeh: BokehJS not loaded, scheduling load and callback at\", now());\n",
       "    root._bokeh_is_loading = css_urls.length + js_urls.length;\n",
       "\n",
       "    function on_load() {\n",
       "      root._bokeh_is_loading--;\n",
       "      if (root._bokeh_is_loading === 0) {\n",
       "        console.debug(\"Bokeh: all BokehJS libraries/stylesheets loaded\");\n",
       "        run_callbacks()\n",
       "      }\n",
       "    }\n",
       "\n",
       "    function on_error() {\n",
       "      console.error(\"failed to load \" + url);\n",
       "    }\n",
       "\n",
       "    for (var i = 0; i < css_urls.length; i++) {\n",
       "      var url = css_urls[i];\n",
       "      const element = document.createElement(\"link\");\n",
       "      element.onload = on_load;\n",
       "      element.onerror = on_error;\n",
       "      element.rel = \"stylesheet\";\n",
       "      element.type = \"text/css\";\n",
       "      element.href = url;\n",
       "      console.debug(\"Bokeh: injecting link tag for BokehJS stylesheet: \", url);\n",
       "      document.body.appendChild(element);\n",
       "    }\n",
       "\n",
       "    const hashes = {\"https://cdn.bokeh.org/bokeh/release/bokeh-2.0.2.min.js\": \"ufR9RFnRs6lniiaFvtJziE0YeidtAgBRH6ux2oUItHw5WTvE1zuk9uzhUU/FJXDp\", \"https://cdn.bokeh.org/bokeh/release/bokeh-widgets-2.0.2.min.js\": \"8QM/PGWBT+IssZuRcDcjzwIh1mkOmJSoNMmyYDZbCfXJg3Ap1lEvdVgFuSAwhb/J\", \"https://cdn.bokeh.org/bokeh/release/bokeh-tables-2.0.2.min.js\": \"Jm8cH3Rg0P6UeZhVY5cLy1WzKajUT9KImCY+76hEqrcJt59/d8GPvFHjCkYgnSIn\", \"https://cdn.bokeh.org/bokeh/release/bokeh-gl-2.0.2.min.js\": \"Ozhzj+SI7ywm74aOI/UajcWz+C0NjsPunEVyVIrxzYkB+jA+2tUw8x5xJCbVtK5I\"};\n",
       "\n",
       "    for (var i = 0; i < js_urls.length; i++) {\n",
       "      var url = js_urls[i];\n",
       "      var element = document.createElement('script');\n",
       "      element.onload = on_load;\n",
       "      element.onerror = on_error;\n",
       "      element.async = false;\n",
       "      element.src = url;\n",
       "      if (url in hashes) {\n",
       "        element.crossOrigin = \"anonymous\";\n",
       "        element.integrity = \"sha384-\" + hashes[url];\n",
       "      }\n",
       "      console.debug(\"Bokeh: injecting script tag for BokehJS library: \", url);\n",
       "      document.head.appendChild(element);\n",
       "    }\n",
       "  };\n",
       "\n",
       "  function inject_raw_css(css) {\n",
       "    const element = document.createElement(\"style\");\n",
       "    element.appendChild(document.createTextNode(css));\n",
       "    document.body.appendChild(element);\n",
       "  }\n",
       "\n",
       "  \n",
       "  var js_urls = [\"https://cdn.bokeh.org/bokeh/release/bokeh-2.0.2.min.js\", \"https://cdn.bokeh.org/bokeh/release/bokeh-widgets-2.0.2.min.js\", \"https://cdn.bokeh.org/bokeh/release/bokeh-tables-2.0.2.min.js\", \"https://cdn.bokeh.org/bokeh/release/bokeh-gl-2.0.2.min.js\", \"https://unpkg.com/@holoviz/panel@^0.9.5/dist/panel.min.js\"];\n",
       "  var css_urls = [];\n",
       "  \n",
       "\n",
       "  var inline_js = [\n",
       "    function(Bokeh) {\n",
       "      inject_raw_css(\".widget-box {\\n\\tmin-height: 20px;\\n\\tbackground-color: #f5f5f5;\\n\\tborder: 1px solid #e3e3e3 !important;\\n\\tborder-radius: 4px;\\n\\t-webkit-box-shadow: inset 0 1px 1px rgba(0,0,0,.05);\\n\\tbox-shadow: inset 0 1px 1px rgba(0,0,0,.05);\\n\\toverflow-x: hidden;\\n\\toverflow-y: hidden;\\n}\\n\\n.scrollable {\\n  overflow: scroll;\\n}\\n\\nprogress {\\n\\tappearance: none;\\n\\t-moz-appearance: none;\\n\\t-webkit-appearance: none;\\n\\n\\tborder: none;\\n\\theight: 20px;\\n\\tbackground-color: whiteSmoke;\\n\\tborder-radius: 3px;\\n\\tbox-shadow: 0 2px 3px rgba(0,0,0,.5) inset;\\n\\tcolor: royalblue;\\n\\tposition: relative;\\n\\tmargin: 0 0 1.5em;\\n}\\n\\nprogress[value]::-webkit-progress-bar {\\n\\tbackground-color: whiteSmoke;\\n\\tborder-radius: 3px;\\n\\tbox-shadow: 0 2px 3px rgba(0,0,0,.5) inset;\\n}\\n\\nprogress[value]::-webkit-progress-value {\\n\\tposition: relative;\\n\\n\\tbackground-size: 35px 20px, 100% 100%, 100% 100%;\\n\\tborder-radius:3px;\\n}\\n\\nprogress.active:not([value])::before {\\n\\tbackground-position: 10%;\\n\\tanimation-name: stripes;\\n\\tanimation-duration: 3s;\\n\\tanimation-timing-function: linear;\\n\\tanimation-iteration-count: infinite;\\n}\\n\\nprogress[value]::-moz-progress-bar {\\n\\tbackground-size: 35px 20px, 100% 100%, 100% 100%;\\n\\tborder-radius:3px;\\n}\\n\\nprogress:not([value])::-moz-progress-bar {\\n\\tborder-radius:3px;\\n\\tbackground:\\n\\tlinear-gradient(-45deg, transparent 33%, rgba(0, 0, 0, 0.2) 33%, rgba(0, 0, 0, 0.2) 66%, transparent 66%) left/2.5em 1.5em;\\n\\n}\\n\\nprogress.active:not([value])::-moz-progress-bar {\\n\\tbackground-position: 10%;\\n\\tanimation-name: stripes;\\n\\tanimation-duration: 3s;\\n\\tanimation-timing-function: linear;\\n\\tanimation-iteration-count: infinite;\\n}\\n\\nprogress.active:not([value])::-webkit-progress-bar {\\n\\tbackground-position: 10%;\\n\\tanimation-name: stripes;\\n\\tanimation-duration: 3s;\\n\\tanimation-timing-function: linear;\\n\\tanimation-iteration-count: infinite;\\n}\\n\\nprogress.primary[value]::-webkit-progress-value { background-color: #007bff; }\\nprogress.primary:not([value])::before { background-color: #007bff; }\\nprogress.primary:not([value])::-webkit-progress-bar { background-color: #007bff; }\\nprogress.primary::-moz-progress-bar { background-color: #007bff; }\\n\\nprogress.secondary[value]::-webkit-progress-value { background-color: #6c757d; }\\nprogress.secondary:not([value])::before { background-color: #6c757d; }\\nprogress.secondary:not([value])::-webkit-progress-bar { background-color: #6c757d; }\\nprogress.secondary::-moz-progress-bar { background-color: #6c757d; }\\n\\nprogress.success[value]::-webkit-progress-value { background-color: #28a745; }\\nprogress.success:not([value])::before { background-color: #28a745; }\\nprogress.success:not([value])::-webkit-progress-bar { background-color: #28a745; }\\nprogress.success::-moz-progress-bar { background-color: #28a745; }\\n\\nprogress.danger[value]::-webkit-progress-value { background-color: #dc3545; }\\nprogress.danger:not([value])::before { background-color: #dc3545; }\\nprogress.danger:not([value])::-webkit-progress-bar { background-color: #dc3545; }\\nprogress.danger::-moz-progress-bar { background-color: #dc3545; }\\n\\nprogress.warning[value]::-webkit-progress-value { background-color: #ffc107; }\\nprogress.warning:not([value])::before { background-color: #ffc107; }\\nprogress.warning:not([value])::-webkit-progress-bar { background-color: #ffc107; }\\nprogress.warning::-moz-progress-bar { background-color: #ffc107; }\\n\\nprogress.info[value]::-webkit-progress-value { background-color: #17a2b8; }\\nprogress.info:not([value])::before { background-color: #17a2b8; }\\nprogress.info:not([value])::-webkit-progress-bar { background-color: #17a2b8; }\\nprogress.info::-moz-progress-bar { background-color: #17a2b8; }\\n\\nprogress.light[value]::-webkit-progress-value { background-color: #f8f9fa; }\\nprogress.light:not([value])::before { background-color: #f8f9fa; }\\nprogress.light:not([value])::-webkit-progress-bar { background-color: #f8f9fa; }\\nprogress.light::-moz-progress-bar { background-color: #f8f9fa; }\\n\\nprogress.dark[value]::-webkit-progress-value { background-color: #343a40; }\\nprogress.dark:not([value])::-webkit-progress-bar { background-color: #343a40; }\\nprogress.dark:not([value])::before { background-color: #343a40; }\\nprogress.dark::-moz-progress-bar { background-color: #343a40; }\\n\\nprogress:not([value])::-webkit-progress-bar {\\n\\tborder-radius: 3px;\\n\\tbackground:\\n\\tlinear-gradient(-45deg, transparent 33%, rgba(0, 0, 0, 0.2) 33%, rgba(0, 0, 0, 0.2) 66%, transparent 66%) left/2.5em 1.5em;\\n}\\nprogress:not([value])::before {\\n\\tcontent:\\\" \\\";\\n\\tposition:absolute;\\n\\theight: 20px;\\n\\ttop:0;\\n\\tleft:0;\\n\\tright:0;\\n\\tbottom:0;\\n\\tborder-radius: 3px;\\n\\tbackground:\\n\\tlinear-gradient(-45deg, transparent 33%, rgba(0, 0, 0, 0.2) 33%, rgba(0, 0, 0, 0.2) 66%, transparent 66%) left/2.5em 1.5em;\\n}\\n\\n@keyframes stripes {\\n  from {background-position: 0%}\\n  to {background-position: 100%}\\n}\");\n",
       "    },\n",
       "    function(Bokeh) {\n",
       "      inject_raw_css(\".codehilite .hll { background-color: #ffffcc }\\n.codehilite  { background: #f8f8f8; }\\n.codehilite .c { color: #408080; font-style: italic } /* Comment */\\n.codehilite .err { border: 1px solid #FF0000 } /* Error */\\n.codehilite .k { color: #008000; font-weight: bold } /* Keyword */\\n.codehilite .o { color: #666666 } /* Operator */\\n.codehilite .ch { color: #408080; font-style: italic } /* Comment.Hashbang */\\n.codehilite .cm { color: #408080; font-style: italic } /* Comment.Multiline */\\n.codehilite .cp { color: #BC7A00 } /* Comment.Preproc */\\n.codehilite .cpf { color: #408080; font-style: italic } /* Comment.PreprocFile */\\n.codehilite .c1 { color: #408080; font-style: italic } /* Comment.Single */\\n.codehilite .cs { color: #408080; font-style: italic } /* Comment.Special */\\n.codehilite .gd { color: #A00000 } /* Generic.Deleted */\\n.codehilite .ge { font-style: italic } /* Generic.Emph */\\n.codehilite .gr { color: #FF0000 } /* Generic.Error */\\n.codehilite .gh { color: #000080; font-weight: bold } /* Generic.Heading */\\n.codehilite .gi { color: #00A000 } /* Generic.Inserted */\\n.codehilite .go { color: #888888 } /* Generic.Output */\\n.codehilite .gp { color: #000080; font-weight: bold } /* Generic.Prompt */\\n.codehilite .gs { font-weight: bold } /* Generic.Strong */\\n.codehilite .gu { color: #800080; font-weight: bold } /* Generic.Subheading */\\n.codehilite .gt { color: #0044DD } /* Generic.Traceback */\\n.codehilite .kc { color: #008000; font-weight: bold } /* Keyword.Constant */\\n.codehilite .kd { color: #008000; font-weight: bold } /* Keyword.Declaration */\\n.codehilite .kn { color: #008000; font-weight: bold } /* Keyword.Namespace */\\n.codehilite .kp { color: #008000 } /* Keyword.Pseudo */\\n.codehilite .kr { color: #008000; font-weight: bold } /* Keyword.Reserved */\\n.codehilite .kt { color: #B00040 } /* Keyword.Type */\\n.codehilite .m { color: #666666 } /* Literal.Number */\\n.codehilite .s { color: #BA2121 } /* Literal.String */\\n.codehilite .na { color: #7D9029 } /* Name.Attribute */\\n.codehilite .nb { color: #008000 } /* Name.Builtin */\\n.codehilite .nc { color: #0000FF; font-weight: bold } /* Name.Class */\\n.codehilite .no { color: #880000 } /* Name.Constant */\\n.codehilite .nd { color: #AA22FF } /* Name.Decorator */\\n.codehilite .ni { color: #999999; font-weight: bold } /* Name.Entity */\\n.codehilite .ne { color: #D2413A; font-weight: bold } /* Name.Exception */\\n.codehilite .nf { color: #0000FF } /* Name.Function */\\n.codehilite .nl { color: #A0A000 } /* Name.Label */\\n.codehilite .nn { color: #0000FF; font-weight: bold } /* Name.Namespace */\\n.codehilite .nt { color: #008000; font-weight: bold } /* Name.Tag */\\n.codehilite .nv { color: #19177C } /* Name.Variable */\\n.codehilite .ow { color: #AA22FF; font-weight: bold } /* Operator.Word */\\n.codehilite .w { color: #bbbbbb } /* Text.Whitespace */\\n.codehilite .mb { color: #666666 } /* Literal.Number.Bin */\\n.codehilite .mf { color: #666666 } /* Literal.Number.Float */\\n.codehilite .mh { color: #666666 } /* Literal.Number.Hex */\\n.codehilite .mi { color: #666666 } /* Literal.Number.Integer */\\n.codehilite .mo { color: #666666 } /* Literal.Number.Oct */\\n.codehilite .sa { color: #BA2121 } /* Literal.String.Affix */\\n.codehilite .sb { color: #BA2121 } /* Literal.String.Backtick */\\n.codehilite .sc { color: #BA2121 } /* Literal.String.Char */\\n.codehilite .dl { color: #BA2121 } /* Literal.String.Delimiter */\\n.codehilite .sd { color: #BA2121; font-style: italic } /* Literal.String.Doc */\\n.codehilite .s2 { color: #BA2121 } /* Literal.String.Double */\\n.codehilite .se { color: #BB6622; font-weight: bold } /* Literal.String.Escape */\\n.codehilite .sh { color: #BA2121 } /* Literal.String.Heredoc */\\n.codehilite .si { color: #BB6688; font-weight: bold } /* Literal.String.Interpol */\\n.codehilite .sx { color: #008000 } /* Literal.String.Other */\\n.codehilite .sr { color: #BB6688 } /* Literal.String.Regex */\\n.codehilite .s1 { color: #BA2121 } /* Literal.String.Single */\\n.codehilite .ss { color: #19177C } /* Literal.String.Symbol */\\n.codehilite .bp { color: #008000 } /* Name.Builtin.Pseudo */\\n.codehilite .fm { color: #0000FF } /* Name.Function.Magic */\\n.codehilite .vc { color: #19177C } /* Name.Variable.Class */\\n.codehilite .vg { color: #19177C } /* Name.Variable.Global */\\n.codehilite .vi { color: #19177C } /* Name.Variable.Instance */\\n.codehilite .vm { color: #19177C } /* Name.Variable.Magic */\\n.codehilite .il { color: #666666 } /* Literal.Number.Integer.Long */\\n\\n.markdown h1 { margin-block-start: 0.34em }\\n.markdown h2 { margin-block-start: 0.42em }\\n.markdown h3 { margin-block-start: 0.5em }\\n.markdown h4 { margin-block-start: 0.67em }\\n.markdown h5 { margin-block-start: 0.84em }\\n.markdown h6 { margin-block-start: 1.17em }\\n.markdown ul { padding-inline-start: 2em }\\n.markdown ol { padding-inline-start: 2em }\\n.markdown strong { font-weight: 600 }\\n.markdown a { color: -webkit-link }\\n.markdown a { color: -moz-hyperlinkText }\\n\");\n",
       "    },\n",
       "    function(Bokeh) {\n",
       "      inject_raw_css(\".json-formatter-row {\\n  font-family: monospace;\\n}\\n.json-formatter-row,\\n.json-formatter-row a,\\n.json-formatter-row a:hover {\\n  color: black;\\n  text-decoration: none;\\n}\\n.json-formatter-row .json-formatter-row {\\n  margin-left: 1rem;\\n}\\n.json-formatter-row .json-formatter-children.json-formatter-empty {\\n  opacity: 0.5;\\n  margin-left: 1rem;\\n}\\n.json-formatter-row .json-formatter-children.json-formatter-empty:after {\\n  display: none;\\n}\\n.json-formatter-row .json-formatter-children.json-formatter-empty.json-formatter-object:after {\\n  content: \\\"No properties\\\";\\n}\\n.json-formatter-row .json-formatter-children.json-formatter-empty.json-formatter-array:after {\\n  content: \\\"[]\\\";\\n}\\n.json-formatter-row .json-formatter-string,\\n.json-formatter-row .json-formatter-stringifiable {\\n  color: green;\\n  white-space: pre;\\n  word-wrap: break-word;\\n}\\n.json-formatter-row .json-formatter-number {\\n  color: blue;\\n}\\n.json-formatter-row .json-formatter-boolean {\\n  color: red;\\n}\\n.json-formatter-row .json-formatter-null {\\n  color: #855A00;\\n}\\n.json-formatter-row .json-formatter-undefined {\\n  color: #ca0b69;\\n}\\n.json-formatter-row .json-formatter-function {\\n  color: #FF20ED;\\n}\\n.json-formatter-row .json-formatter-date {\\n  background-color: rgba(0, 0, 0, 0.05);\\n}\\n.json-formatter-row .json-formatter-url {\\n  text-decoration: underline;\\n  color: blue;\\n  cursor: pointer;\\n}\\n.json-formatter-row .json-formatter-bracket {\\n  color: blue;\\n}\\n.json-formatter-row .json-formatter-key {\\n  color: #00008B;\\n  padding-right: 0.2rem;\\n}\\n.json-formatter-row .json-formatter-toggler-link {\\n  cursor: pointer;\\n}\\n.json-formatter-row .json-formatter-toggler {\\n  line-height: 1.2rem;\\n  font-size: 0.7rem;\\n  vertical-align: middle;\\n  opacity: 0.6;\\n  cursor: pointer;\\n  padding-right: 0.2rem;\\n}\\n.json-formatter-row .json-formatter-toggler:after {\\n  display: inline-block;\\n  transition: transform 100ms ease-in;\\n  content: \\\"\\\\25BA\\\";\\n}\\n.json-formatter-row > a > .json-formatter-preview-text {\\n  opacity: 0;\\n  transition: opacity 0.15s ease-in;\\n  font-style: italic;\\n}\\n.json-formatter-row:hover > a > .json-formatter-preview-text {\\n  opacity: 0.6;\\n}\\n.json-formatter-row.json-formatter-open > .json-formatter-toggler-link .json-formatter-toggler:after {\\n  transform: rotate(90deg);\\n}\\n.json-formatter-row.json-formatter-open > .json-formatter-children:after {\\n  display: inline-block;\\n}\\n.json-formatter-row.json-formatter-open > a > .json-formatter-preview-text {\\n  display: none;\\n}\\n.json-formatter-row.json-formatter-open.json-formatter-empty:after {\\n  display: block;\\n}\\n.json-formatter-dark.json-formatter-row {\\n  font-family: monospace;\\n}\\n.json-formatter-dark.json-formatter-row,\\n.json-formatter-dark.json-formatter-row a,\\n.json-formatter-dark.json-formatter-row a:hover {\\n  color: white;\\n  text-decoration: none;\\n}\\n.json-formatter-dark.json-formatter-row .json-formatter-row {\\n  margin-left: 1rem;\\n}\\n.json-formatter-dark.json-formatter-row .json-formatter-children.json-formatter-empty {\\n  opacity: 0.5;\\n  margin-left: 1rem;\\n}\\n.json-formatter-dark.json-formatter-row .json-formatter-children.json-formatter-empty:after {\\n  display: none;\\n}\\n.json-formatter-dark.json-formatter-row .json-formatter-children.json-formatter-empty.json-formatter-object:after {\\n  content: \\\"No properties\\\";\\n}\\n.json-formatter-dark.json-formatter-row .json-formatter-children.json-formatter-empty.json-formatter-array:after {\\n  content: \\\"[]\\\";\\n}\\n.json-formatter-dark.json-formatter-row .json-formatter-string,\\n.json-formatter-dark.json-formatter-row .json-formatter-stringifiable {\\n  color: #31F031;\\n  white-space: pre;\\n  word-wrap: break-word;\\n}\\n.json-formatter-dark.json-formatter-row .json-formatter-number {\\n  color: #66C2FF;\\n}\\n.json-formatter-dark.json-formatter-row .json-formatter-boolean {\\n  color: #EC4242;\\n}\\n.json-formatter-dark.json-formatter-row .json-formatter-null {\\n  color: #EEC97D;\\n}\\n.json-formatter-dark.json-formatter-row .json-formatter-undefined {\\n  color: #ef8fbe;\\n}\\n.json-formatter-dark.json-formatter-row .json-formatter-function {\\n  color: #FD48CB;\\n}\\n.json-formatter-dark.json-formatter-row .json-formatter-date {\\n  background-color: rgba(255, 255, 255, 0.05);\\n}\\n.json-formatter-dark.json-formatter-row .json-formatter-url {\\n  text-decoration: underline;\\n  color: #027BFF;\\n  cursor: pointer;\\n}\\n.json-formatter-dark.json-formatter-row .json-formatter-bracket {\\n  color: #9494FF;\\n}\\n.json-formatter-dark.json-formatter-row .json-formatter-key {\\n  color: #23A0DB;\\n  padding-right: 0.2rem;\\n}\\n.json-formatter-dark.json-formatter-row .json-formatter-toggler-link {\\n  cursor: pointer;\\n}\\n.json-formatter-dark.json-formatter-row .json-formatter-toggler {\\n  line-height: 1.2rem;\\n  font-size: 0.7rem;\\n  vertical-align: middle;\\n  opacity: 0.6;\\n  cursor: pointer;\\n  padding-right: 0.2rem;\\n}\\n.json-formatter-dark.json-formatter-row .json-formatter-toggler:after {\\n  display: inline-block;\\n  transition: transform 100ms ease-in;\\n  content: \\\"\\\\25BA\\\";\\n}\\n.json-formatter-dark.json-formatter-row > a > .json-formatter-preview-text {\\n  opacity: 0;\\n  transition: opacity 0.15s ease-in;\\n  font-style: italic;\\n}\\n.json-formatter-dark.json-formatter-row:hover > a > .json-formatter-preview-text {\\n  opacity: 0.6;\\n}\\n.json-formatter-dark.json-formatter-row.json-formatter-open > .json-formatter-toggler-link .json-formatter-toggler:after {\\n  transform: rotate(90deg);\\n}\\n.json-formatter-dark.json-formatter-row.json-formatter-open > .json-formatter-children:after {\\n  display: inline-block;\\n}\\n.json-formatter-dark.json-formatter-row.json-formatter-open > a > .json-formatter-preview-text {\\n  display: none;\\n}\\n.json-formatter-dark.json-formatter-row.json-formatter-open.json-formatter-empty:after {\\n  display: block;\\n}\\n\");\n",
       "    },\n",
       "    function(Bokeh) {\n",
       "      inject_raw_css(\"table.panel-df {\\n    margin-left: auto;\\n    margin-right: auto;\\n    border: none;\\n    border-collapse: collapse;\\n    border-spacing: 0;\\n    color: black;\\n    font-size: 12px;\\n    table-layout: fixed;\\n    width: 100%;\\n}\\n\\n.panel-df tr, th, td {\\n    text-align: right;\\n    vertical-align: middle;\\n    padding: 0.5em 0.5em !important;\\n    line-height: normal;\\n    white-space: normal;\\n    max-width: none;\\n    border: none;\\n}\\n\\n.panel-df tbody {\\n    display: table-row-group;\\n    vertical-align: middle;\\n    border-color: inherit;\\n}\\n\\n.panel-df tbody tr:nth-child(odd) {\\n    background: #f5f5f5;\\n}\\n\\n.panel-df thead {\\n    border-bottom: 1px solid black;\\n    vertical-align: bottom;\\n}\\n\\n.panel-df tr:hover {\\n    background: lightblue !important;\\n    cursor: pointer;\\n}\\n\");\n",
       "    },\n",
       "    function(Bokeh) {\n",
       "      Bokeh.set_log_level(\"info\");\n",
       "    },\n",
       "    function(Bokeh) {\n",
       "    \n",
       "    \n",
       "    }\n",
       "  ];\n",
       "\n",
       "  function run_inline_js() {\n",
       "    \n",
       "    if (root.Bokeh !== undefined || force === true) {\n",
       "      \n",
       "    for (var i = 0; i < inline_js.length; i++) {\n",
       "      inline_js[i].call(root, root.Bokeh);\n",
       "    }\n",
       "    if (force === true) {\n",
       "        display_loaded();\n",
       "      }} else if (Date.now() < root._bokeh_timeout) {\n",
       "      setTimeout(run_inline_js, 100);\n",
       "    } else if (!root._bokeh_failed_load) {\n",
       "      console.log(\"Bokeh: BokehJS failed to load within specified timeout.\");\n",
       "      root._bokeh_failed_load = true;\n",
       "    } else if (force !== true) {\n",
       "      var cell = $(document.getElementById(\"14271\")).parents('.cell').data().cell;\n",
       "      cell.output_area.append_execute_result(NB_LOAD_WARNING)\n",
       "    }\n",
       "\n",
       "  }\n",
       "\n",
       "  if (root._bokeh_is_loading === 0) {\n",
       "    console.debug(\"Bokeh: BokehJS loaded, going straight to plotting\");\n",
       "    run_inline_js();\n",
       "  } else {\n",
       "    load_libs(css_urls, js_urls, function() {\n",
       "      console.debug(\"Bokeh: BokehJS plotting callback run at\", now());\n",
       "      run_inline_js();\n",
       "    });\n",
       "  }\n",
       "}(window));"
      ],
      "application/vnd.bokehjs_load.v0+json": "\n(function(root) {\n  function now() {\n    return new Date();\n  }\n\n  var force = true;\n\n  if (typeof root._bokeh_onload_callbacks === \"undefined\" || force === true) {\n    root._bokeh_onload_callbacks = [];\n    root._bokeh_is_loading = undefined;\n  }\n\n  \n\n  \n  if (typeof (root._bokeh_timeout) === \"undefined\" || force === true) {\n    root._bokeh_timeout = Date.now() + 5000;\n    root._bokeh_failed_load = false;\n  }\n\n  var NB_LOAD_WARNING = {'data': {'text/html':\n     \"<div style='background-color: #fdd'>\\n\"+\n     \"<p>\\n\"+\n     \"BokehJS does not appear to have successfully loaded. If loading BokehJS from CDN, this \\n\"+\n     \"may be due to a slow or bad network connection. Possible fixes:\\n\"+\n     \"</p>\\n\"+\n     \"<ul>\\n\"+\n     \"<li>re-rerun `output_notebook()` to attempt to load from CDN again, or</li>\\n\"+\n     \"<li>use INLINE resources instead, as so:</li>\\n\"+\n     \"</ul>\\n\"+\n     \"<code>\\n\"+\n     \"from bokeh.resources import INLINE\\n\"+\n     \"output_notebook(resources=INLINE)\\n\"+\n     \"</code>\\n\"+\n     \"</div>\"}};\n\n  function display_loaded() {\n    var el = document.getElementById(\"14271\");\n    if (el != null) {\n      el.textContent = \"BokehJS is loading...\";\n    }\n    if (root.Bokeh !== undefined) {\n      if (el != null) {\n        el.textContent = \"BokehJS \" + root.Bokeh.version + \" successfully loaded.\";\n      }\n    } else if (Date.now() < root._bokeh_timeout) {\n      setTimeout(display_loaded, 100)\n    }\n  }\n\n\n  function run_callbacks() {\n    try {\n      root._bokeh_onload_callbacks.forEach(function(callback) {\n        if (callback != null)\n          callback();\n      });\n    } finally {\n      delete root._bokeh_onload_callbacks\n    }\n    console.debug(\"Bokeh: all callbacks have finished\");\n  }\n\n  function load_libs(css_urls, js_urls, callback) {\n    if (css_urls == null) css_urls = [];\n    if (js_urls == null) js_urls = [];\n\n    root._bokeh_onload_callbacks.push(callback);\n    if (root._bokeh_is_loading > 0) {\n      console.debug(\"Bokeh: BokehJS is being loaded, scheduling callback at\", now());\n      return null;\n    }\n    if (js_urls == null || js_urls.length === 0) {\n      run_callbacks();\n      return null;\n    }\n    console.debug(\"Bokeh: BokehJS not loaded, scheduling load and callback at\", now());\n    root._bokeh_is_loading = css_urls.length + js_urls.length;\n\n    function on_load() {\n      root._bokeh_is_loading--;\n      if (root._bokeh_is_loading === 0) {\n        console.debug(\"Bokeh: all BokehJS libraries/stylesheets loaded\");\n        run_callbacks()\n      }\n    }\n\n    function on_error() {\n      console.error(\"failed to load \" + url);\n    }\n\n    for (var i = 0; i < css_urls.length; i++) {\n      var url = css_urls[i];\n      const element = document.createElement(\"link\");\n      element.onload = on_load;\n      element.onerror = on_error;\n      element.rel = \"stylesheet\";\n      element.type = \"text/css\";\n      element.href = url;\n      console.debug(\"Bokeh: injecting link tag for BokehJS stylesheet: \", url);\n      document.body.appendChild(element);\n    }\n\n    const hashes = {\"https://cdn.bokeh.org/bokeh/release/bokeh-2.0.2.min.js\": \"ufR9RFnRs6lniiaFvtJziE0YeidtAgBRH6ux2oUItHw5WTvE1zuk9uzhUU/FJXDp\", \"https://cdn.bokeh.org/bokeh/release/bokeh-widgets-2.0.2.min.js\": \"8QM/PGWBT+IssZuRcDcjzwIh1mkOmJSoNMmyYDZbCfXJg3Ap1lEvdVgFuSAwhb/J\", \"https://cdn.bokeh.org/bokeh/release/bokeh-tables-2.0.2.min.js\": \"Jm8cH3Rg0P6UeZhVY5cLy1WzKajUT9KImCY+76hEqrcJt59/d8GPvFHjCkYgnSIn\", \"https://cdn.bokeh.org/bokeh/release/bokeh-gl-2.0.2.min.js\": \"Ozhzj+SI7ywm74aOI/UajcWz+C0NjsPunEVyVIrxzYkB+jA+2tUw8x5xJCbVtK5I\"};\n\n    for (var i = 0; i < js_urls.length; i++) {\n      var url = js_urls[i];\n      var element = document.createElement('script');\n      element.onload = on_load;\n      element.onerror = on_error;\n      element.async = false;\n      element.src = url;\n      if (url in hashes) {\n        element.crossOrigin = \"anonymous\";\n        element.integrity = \"sha384-\" + hashes[url];\n      }\n      console.debug(\"Bokeh: injecting script tag for BokehJS library: \", url);\n      document.head.appendChild(element);\n    }\n  };\n\n  function inject_raw_css(css) {\n    const element = document.createElement(\"style\");\n    element.appendChild(document.createTextNode(css));\n    document.body.appendChild(element);\n  }\n\n  \n  var js_urls = [\"https://cdn.bokeh.org/bokeh/release/bokeh-2.0.2.min.js\", \"https://cdn.bokeh.org/bokeh/release/bokeh-widgets-2.0.2.min.js\", \"https://cdn.bokeh.org/bokeh/release/bokeh-tables-2.0.2.min.js\", \"https://cdn.bokeh.org/bokeh/release/bokeh-gl-2.0.2.min.js\", \"https://unpkg.com/@holoviz/panel@^0.9.5/dist/panel.min.js\"];\n  var css_urls = [];\n  \n\n  var inline_js = [\n    function(Bokeh) {\n      inject_raw_css(\".widget-box {\\n\\tmin-height: 20px;\\n\\tbackground-color: #f5f5f5;\\n\\tborder: 1px solid #e3e3e3 !important;\\n\\tborder-radius: 4px;\\n\\t-webkit-box-shadow: inset 0 1px 1px rgba(0,0,0,.05);\\n\\tbox-shadow: inset 0 1px 1px rgba(0,0,0,.05);\\n\\toverflow-x: hidden;\\n\\toverflow-y: hidden;\\n}\\n\\n.scrollable {\\n  overflow: scroll;\\n}\\n\\nprogress {\\n\\tappearance: none;\\n\\t-moz-appearance: none;\\n\\t-webkit-appearance: none;\\n\\n\\tborder: none;\\n\\theight: 20px;\\n\\tbackground-color: whiteSmoke;\\n\\tborder-radius: 3px;\\n\\tbox-shadow: 0 2px 3px rgba(0,0,0,.5) inset;\\n\\tcolor: royalblue;\\n\\tposition: relative;\\n\\tmargin: 0 0 1.5em;\\n}\\n\\nprogress[value]::-webkit-progress-bar {\\n\\tbackground-color: whiteSmoke;\\n\\tborder-radius: 3px;\\n\\tbox-shadow: 0 2px 3px rgba(0,0,0,.5) inset;\\n}\\n\\nprogress[value]::-webkit-progress-value {\\n\\tposition: relative;\\n\\n\\tbackground-size: 35px 20px, 100% 100%, 100% 100%;\\n\\tborder-radius:3px;\\n}\\n\\nprogress.active:not([value])::before {\\n\\tbackground-position: 10%;\\n\\tanimation-name: stripes;\\n\\tanimation-duration: 3s;\\n\\tanimation-timing-function: linear;\\n\\tanimation-iteration-count: infinite;\\n}\\n\\nprogress[value]::-moz-progress-bar {\\n\\tbackground-size: 35px 20px, 100% 100%, 100% 100%;\\n\\tborder-radius:3px;\\n}\\n\\nprogress:not([value])::-moz-progress-bar {\\n\\tborder-radius:3px;\\n\\tbackground:\\n\\tlinear-gradient(-45deg, transparent 33%, rgba(0, 0, 0, 0.2) 33%, rgba(0, 0, 0, 0.2) 66%, transparent 66%) left/2.5em 1.5em;\\n\\n}\\n\\nprogress.active:not([value])::-moz-progress-bar {\\n\\tbackground-position: 10%;\\n\\tanimation-name: stripes;\\n\\tanimation-duration: 3s;\\n\\tanimation-timing-function: linear;\\n\\tanimation-iteration-count: infinite;\\n}\\n\\nprogress.active:not([value])::-webkit-progress-bar {\\n\\tbackground-position: 10%;\\n\\tanimation-name: stripes;\\n\\tanimation-duration: 3s;\\n\\tanimation-timing-function: linear;\\n\\tanimation-iteration-count: infinite;\\n}\\n\\nprogress.primary[value]::-webkit-progress-value { background-color: #007bff; }\\nprogress.primary:not([value])::before { background-color: #007bff; }\\nprogress.primary:not([value])::-webkit-progress-bar { background-color: #007bff; }\\nprogress.primary::-moz-progress-bar { background-color: #007bff; }\\n\\nprogress.secondary[value]::-webkit-progress-value { background-color: #6c757d; }\\nprogress.secondary:not([value])::before { background-color: #6c757d; }\\nprogress.secondary:not([value])::-webkit-progress-bar { background-color: #6c757d; }\\nprogress.secondary::-moz-progress-bar { background-color: #6c757d; }\\n\\nprogress.success[value]::-webkit-progress-value { background-color: #28a745; }\\nprogress.success:not([value])::before { background-color: #28a745; }\\nprogress.success:not([value])::-webkit-progress-bar { background-color: #28a745; }\\nprogress.success::-moz-progress-bar { background-color: #28a745; }\\n\\nprogress.danger[value]::-webkit-progress-value { background-color: #dc3545; }\\nprogress.danger:not([value])::before { background-color: #dc3545; }\\nprogress.danger:not([value])::-webkit-progress-bar { background-color: #dc3545; }\\nprogress.danger::-moz-progress-bar { background-color: #dc3545; }\\n\\nprogress.warning[value]::-webkit-progress-value { background-color: #ffc107; }\\nprogress.warning:not([value])::before { background-color: #ffc107; }\\nprogress.warning:not([value])::-webkit-progress-bar { background-color: #ffc107; }\\nprogress.warning::-moz-progress-bar { background-color: #ffc107; }\\n\\nprogress.info[value]::-webkit-progress-value { background-color: #17a2b8; }\\nprogress.info:not([value])::before { background-color: #17a2b8; }\\nprogress.info:not([value])::-webkit-progress-bar { background-color: #17a2b8; }\\nprogress.info::-moz-progress-bar { background-color: #17a2b8; }\\n\\nprogress.light[value]::-webkit-progress-value { background-color: #f8f9fa; }\\nprogress.light:not([value])::before { background-color: #f8f9fa; }\\nprogress.light:not([value])::-webkit-progress-bar { background-color: #f8f9fa; }\\nprogress.light::-moz-progress-bar { background-color: #f8f9fa; }\\n\\nprogress.dark[value]::-webkit-progress-value { background-color: #343a40; }\\nprogress.dark:not([value])::-webkit-progress-bar { background-color: #343a40; }\\nprogress.dark:not([value])::before { background-color: #343a40; }\\nprogress.dark::-moz-progress-bar { background-color: #343a40; }\\n\\nprogress:not([value])::-webkit-progress-bar {\\n\\tborder-radius: 3px;\\n\\tbackground:\\n\\tlinear-gradient(-45deg, transparent 33%, rgba(0, 0, 0, 0.2) 33%, rgba(0, 0, 0, 0.2) 66%, transparent 66%) left/2.5em 1.5em;\\n}\\nprogress:not([value])::before {\\n\\tcontent:\\\" \\\";\\n\\tposition:absolute;\\n\\theight: 20px;\\n\\ttop:0;\\n\\tleft:0;\\n\\tright:0;\\n\\tbottom:0;\\n\\tborder-radius: 3px;\\n\\tbackground:\\n\\tlinear-gradient(-45deg, transparent 33%, rgba(0, 0, 0, 0.2) 33%, rgba(0, 0, 0, 0.2) 66%, transparent 66%) left/2.5em 1.5em;\\n}\\n\\n@keyframes stripes {\\n  from {background-position: 0%}\\n  to {background-position: 100%}\\n}\");\n    },\n    function(Bokeh) {\n      inject_raw_css(\".codehilite .hll { background-color: #ffffcc }\\n.codehilite  { background: #f8f8f8; }\\n.codehilite .c { color: #408080; font-style: italic } /* Comment */\\n.codehilite .err { border: 1px solid #FF0000 } /* Error */\\n.codehilite .k { color: #008000; font-weight: bold } /* Keyword */\\n.codehilite .o { color: #666666 } /* Operator */\\n.codehilite .ch { color: #408080; font-style: italic } /* Comment.Hashbang */\\n.codehilite .cm { color: #408080; font-style: italic } /* Comment.Multiline */\\n.codehilite .cp { color: #BC7A00 } /* Comment.Preproc */\\n.codehilite .cpf { color: #408080; font-style: italic } /* Comment.PreprocFile */\\n.codehilite .c1 { color: #408080; font-style: italic } /* Comment.Single */\\n.codehilite .cs { color: #408080; font-style: italic } /* Comment.Special */\\n.codehilite .gd { color: #A00000 } /* Generic.Deleted */\\n.codehilite .ge { font-style: italic } /* Generic.Emph */\\n.codehilite .gr { color: #FF0000 } /* Generic.Error */\\n.codehilite .gh { color: #000080; font-weight: bold } /* Generic.Heading */\\n.codehilite .gi { color: #00A000 } /* Generic.Inserted */\\n.codehilite .go { color: #888888 } /* Generic.Output */\\n.codehilite .gp { color: #000080; font-weight: bold } /* Generic.Prompt */\\n.codehilite .gs { font-weight: bold } /* Generic.Strong */\\n.codehilite .gu { color: #800080; font-weight: bold } /* Generic.Subheading */\\n.codehilite .gt { color: #0044DD } /* Generic.Traceback */\\n.codehilite .kc { color: #008000; font-weight: bold } /* Keyword.Constant */\\n.codehilite .kd { color: #008000; font-weight: bold } /* Keyword.Declaration */\\n.codehilite .kn { color: #008000; font-weight: bold } /* Keyword.Namespace */\\n.codehilite .kp { color: #008000 } /* Keyword.Pseudo */\\n.codehilite .kr { color: #008000; font-weight: bold } /* Keyword.Reserved */\\n.codehilite .kt { color: #B00040 } /* Keyword.Type */\\n.codehilite .m { color: #666666 } /* Literal.Number */\\n.codehilite .s { color: #BA2121 } /* Literal.String */\\n.codehilite .na { color: #7D9029 } /* Name.Attribute */\\n.codehilite .nb { color: #008000 } /* Name.Builtin */\\n.codehilite .nc { color: #0000FF; font-weight: bold } /* Name.Class */\\n.codehilite .no { color: #880000 } /* Name.Constant */\\n.codehilite .nd { color: #AA22FF } /* Name.Decorator */\\n.codehilite .ni { color: #999999; font-weight: bold } /* Name.Entity */\\n.codehilite .ne { color: #D2413A; font-weight: bold } /* Name.Exception */\\n.codehilite .nf { color: #0000FF } /* Name.Function */\\n.codehilite .nl { color: #A0A000 } /* Name.Label */\\n.codehilite .nn { color: #0000FF; font-weight: bold } /* Name.Namespace */\\n.codehilite .nt { color: #008000; font-weight: bold } /* Name.Tag */\\n.codehilite .nv { color: #19177C } /* Name.Variable */\\n.codehilite .ow { color: #AA22FF; font-weight: bold } /* Operator.Word */\\n.codehilite .w { color: #bbbbbb } /* Text.Whitespace */\\n.codehilite .mb { color: #666666 } /* Literal.Number.Bin */\\n.codehilite .mf { color: #666666 } /* Literal.Number.Float */\\n.codehilite .mh { color: #666666 } /* Literal.Number.Hex */\\n.codehilite .mi { color: #666666 } /* Literal.Number.Integer */\\n.codehilite .mo { color: #666666 } /* Literal.Number.Oct */\\n.codehilite .sa { color: #BA2121 } /* Literal.String.Affix */\\n.codehilite .sb { color: #BA2121 } /* Literal.String.Backtick */\\n.codehilite .sc { color: #BA2121 } /* Literal.String.Char */\\n.codehilite .dl { color: #BA2121 } /* Literal.String.Delimiter */\\n.codehilite .sd { color: #BA2121; font-style: italic } /* Literal.String.Doc */\\n.codehilite .s2 { color: #BA2121 } /* Literal.String.Double */\\n.codehilite .se { color: #BB6622; font-weight: bold } /* Literal.String.Escape */\\n.codehilite .sh { color: #BA2121 } /* Literal.String.Heredoc */\\n.codehilite .si { color: #BB6688; font-weight: bold } /* Literal.String.Interpol */\\n.codehilite .sx { color: #008000 } /* Literal.String.Other */\\n.codehilite .sr { color: #BB6688 } /* Literal.String.Regex */\\n.codehilite .s1 { color: #BA2121 } /* Literal.String.Single */\\n.codehilite .ss { color: #19177C } /* Literal.String.Symbol */\\n.codehilite .bp { color: #008000 } /* Name.Builtin.Pseudo */\\n.codehilite .fm { color: #0000FF } /* Name.Function.Magic */\\n.codehilite .vc { color: #19177C } /* Name.Variable.Class */\\n.codehilite .vg { color: #19177C } /* Name.Variable.Global */\\n.codehilite .vi { color: #19177C } /* Name.Variable.Instance */\\n.codehilite .vm { color: #19177C } /* Name.Variable.Magic */\\n.codehilite .il { color: #666666 } /* Literal.Number.Integer.Long */\\n\\n.markdown h1 { margin-block-start: 0.34em }\\n.markdown h2 { margin-block-start: 0.42em }\\n.markdown h3 { margin-block-start: 0.5em }\\n.markdown h4 { margin-block-start: 0.67em }\\n.markdown h5 { margin-block-start: 0.84em }\\n.markdown h6 { margin-block-start: 1.17em }\\n.markdown ul { padding-inline-start: 2em }\\n.markdown ol { padding-inline-start: 2em }\\n.markdown strong { font-weight: 600 }\\n.markdown a { color: -webkit-link }\\n.markdown a { color: -moz-hyperlinkText }\\n\");\n    },\n    function(Bokeh) {\n      inject_raw_css(\".json-formatter-row {\\n  font-family: monospace;\\n}\\n.json-formatter-row,\\n.json-formatter-row a,\\n.json-formatter-row a:hover {\\n  color: black;\\n  text-decoration: none;\\n}\\n.json-formatter-row .json-formatter-row {\\n  margin-left: 1rem;\\n}\\n.json-formatter-row .json-formatter-children.json-formatter-empty {\\n  opacity: 0.5;\\n  margin-left: 1rem;\\n}\\n.json-formatter-row .json-formatter-children.json-formatter-empty:after {\\n  display: none;\\n}\\n.json-formatter-row .json-formatter-children.json-formatter-empty.json-formatter-object:after {\\n  content: \\\"No properties\\\";\\n}\\n.json-formatter-row .json-formatter-children.json-formatter-empty.json-formatter-array:after {\\n  content: \\\"[]\\\";\\n}\\n.json-formatter-row .json-formatter-string,\\n.json-formatter-row .json-formatter-stringifiable {\\n  color: green;\\n  white-space: pre;\\n  word-wrap: break-word;\\n}\\n.json-formatter-row .json-formatter-number {\\n  color: blue;\\n}\\n.json-formatter-row .json-formatter-boolean {\\n  color: red;\\n}\\n.json-formatter-row .json-formatter-null {\\n  color: #855A00;\\n}\\n.json-formatter-row .json-formatter-undefined {\\n  color: #ca0b69;\\n}\\n.json-formatter-row .json-formatter-function {\\n  color: #FF20ED;\\n}\\n.json-formatter-row .json-formatter-date {\\n  background-color: rgba(0, 0, 0, 0.05);\\n}\\n.json-formatter-row .json-formatter-url {\\n  text-decoration: underline;\\n  color: blue;\\n  cursor: pointer;\\n}\\n.json-formatter-row .json-formatter-bracket {\\n  color: blue;\\n}\\n.json-formatter-row .json-formatter-key {\\n  color: #00008B;\\n  padding-right: 0.2rem;\\n}\\n.json-formatter-row .json-formatter-toggler-link {\\n  cursor: pointer;\\n}\\n.json-formatter-row .json-formatter-toggler {\\n  line-height: 1.2rem;\\n  font-size: 0.7rem;\\n  vertical-align: middle;\\n  opacity: 0.6;\\n  cursor: pointer;\\n  padding-right: 0.2rem;\\n}\\n.json-formatter-row .json-formatter-toggler:after {\\n  display: inline-block;\\n  transition: transform 100ms ease-in;\\n  content: \\\"\\\\25BA\\\";\\n}\\n.json-formatter-row > a > .json-formatter-preview-text {\\n  opacity: 0;\\n  transition: opacity 0.15s ease-in;\\n  font-style: italic;\\n}\\n.json-formatter-row:hover > a > .json-formatter-preview-text {\\n  opacity: 0.6;\\n}\\n.json-formatter-row.json-formatter-open > .json-formatter-toggler-link .json-formatter-toggler:after {\\n  transform: rotate(90deg);\\n}\\n.json-formatter-row.json-formatter-open > .json-formatter-children:after {\\n  display: inline-block;\\n}\\n.json-formatter-row.json-formatter-open > a > .json-formatter-preview-text {\\n  display: none;\\n}\\n.json-formatter-row.json-formatter-open.json-formatter-empty:after {\\n  display: block;\\n}\\n.json-formatter-dark.json-formatter-row {\\n  font-family: monospace;\\n}\\n.json-formatter-dark.json-formatter-row,\\n.json-formatter-dark.json-formatter-row a,\\n.json-formatter-dark.json-formatter-row a:hover {\\n  color: white;\\n  text-decoration: none;\\n}\\n.json-formatter-dark.json-formatter-row .json-formatter-row {\\n  margin-left: 1rem;\\n}\\n.json-formatter-dark.json-formatter-row .json-formatter-children.json-formatter-empty {\\n  opacity: 0.5;\\n  margin-left: 1rem;\\n}\\n.json-formatter-dark.json-formatter-row .json-formatter-children.json-formatter-empty:after {\\n  display: none;\\n}\\n.json-formatter-dark.json-formatter-row .json-formatter-children.json-formatter-empty.json-formatter-object:after {\\n  content: \\\"No properties\\\";\\n}\\n.json-formatter-dark.json-formatter-row .json-formatter-children.json-formatter-empty.json-formatter-array:after {\\n  content: \\\"[]\\\";\\n}\\n.json-formatter-dark.json-formatter-row .json-formatter-string,\\n.json-formatter-dark.json-formatter-row .json-formatter-stringifiable {\\n  color: #31F031;\\n  white-space: pre;\\n  word-wrap: break-word;\\n}\\n.json-formatter-dark.json-formatter-row .json-formatter-number {\\n  color: #66C2FF;\\n}\\n.json-formatter-dark.json-formatter-row .json-formatter-boolean {\\n  color: #EC4242;\\n}\\n.json-formatter-dark.json-formatter-row .json-formatter-null {\\n  color: #EEC97D;\\n}\\n.json-formatter-dark.json-formatter-row .json-formatter-undefined {\\n  color: #ef8fbe;\\n}\\n.json-formatter-dark.json-formatter-row .json-formatter-function {\\n  color: #FD48CB;\\n}\\n.json-formatter-dark.json-formatter-row .json-formatter-date {\\n  background-color: rgba(255, 255, 255, 0.05);\\n}\\n.json-formatter-dark.json-formatter-row .json-formatter-url {\\n  text-decoration: underline;\\n  color: #027BFF;\\n  cursor: pointer;\\n}\\n.json-formatter-dark.json-formatter-row .json-formatter-bracket {\\n  color: #9494FF;\\n}\\n.json-formatter-dark.json-formatter-row .json-formatter-key {\\n  color: #23A0DB;\\n  padding-right: 0.2rem;\\n}\\n.json-formatter-dark.json-formatter-row .json-formatter-toggler-link {\\n  cursor: pointer;\\n}\\n.json-formatter-dark.json-formatter-row .json-formatter-toggler {\\n  line-height: 1.2rem;\\n  font-size: 0.7rem;\\n  vertical-align: middle;\\n  opacity: 0.6;\\n  cursor: pointer;\\n  padding-right: 0.2rem;\\n}\\n.json-formatter-dark.json-formatter-row .json-formatter-toggler:after {\\n  display: inline-block;\\n  transition: transform 100ms ease-in;\\n  content: \\\"\\\\25BA\\\";\\n}\\n.json-formatter-dark.json-formatter-row > a > .json-formatter-preview-text {\\n  opacity: 0;\\n  transition: opacity 0.15s ease-in;\\n  font-style: italic;\\n}\\n.json-formatter-dark.json-formatter-row:hover > a > .json-formatter-preview-text {\\n  opacity: 0.6;\\n}\\n.json-formatter-dark.json-formatter-row.json-formatter-open > .json-formatter-toggler-link .json-formatter-toggler:after {\\n  transform: rotate(90deg);\\n}\\n.json-formatter-dark.json-formatter-row.json-formatter-open > .json-formatter-children:after {\\n  display: inline-block;\\n}\\n.json-formatter-dark.json-formatter-row.json-formatter-open > a > .json-formatter-preview-text {\\n  display: none;\\n}\\n.json-formatter-dark.json-formatter-row.json-formatter-open.json-formatter-empty:after {\\n  display: block;\\n}\\n\");\n    },\n    function(Bokeh) {\n      inject_raw_css(\"table.panel-df {\\n    margin-left: auto;\\n    margin-right: auto;\\n    border: none;\\n    border-collapse: collapse;\\n    border-spacing: 0;\\n    color: black;\\n    font-size: 12px;\\n    table-layout: fixed;\\n    width: 100%;\\n}\\n\\n.panel-df tr, th, td {\\n    text-align: right;\\n    vertical-align: middle;\\n    padding: 0.5em 0.5em !important;\\n    line-height: normal;\\n    white-space: normal;\\n    max-width: none;\\n    border: none;\\n}\\n\\n.panel-df tbody {\\n    display: table-row-group;\\n    vertical-align: middle;\\n    border-color: inherit;\\n}\\n\\n.panel-df tbody tr:nth-child(odd) {\\n    background: #f5f5f5;\\n}\\n\\n.panel-df thead {\\n    border-bottom: 1px solid black;\\n    vertical-align: bottom;\\n}\\n\\n.panel-df tr:hover {\\n    background: lightblue !important;\\n    cursor: pointer;\\n}\\n\");\n    },\n    function(Bokeh) {\n      Bokeh.set_log_level(\"info\");\n    },\n    function(Bokeh) {\n    \n    \n    }\n  ];\n\n  function run_inline_js() {\n    \n    if (root.Bokeh !== undefined || force === true) {\n      \n    for (var i = 0; i < inline_js.length; i++) {\n      inline_js[i].call(root, root.Bokeh);\n    }\n    if (force === true) {\n        display_loaded();\n      }} else if (Date.now() < root._bokeh_timeout) {\n      setTimeout(run_inline_js, 100);\n    } else if (!root._bokeh_failed_load) {\n      console.log(\"Bokeh: BokehJS failed to load within specified timeout.\");\n      root._bokeh_failed_load = true;\n    } else if (force !== true) {\n      var cell = $(document.getElementById(\"14271\")).parents('.cell').data().cell;\n      cell.output_area.append_execute_result(NB_LOAD_WARNING)\n    }\n\n  }\n\n  if (root._bokeh_is_loading === 0) {\n    console.debug(\"Bokeh: BokehJS loaded, going straight to plotting\");\n    run_inline_js();\n  } else {\n    load_libs(css_urls, js_urls, function() {\n      console.debug(\"Bokeh: BokehJS plotting callback run at\", now());\n      run_inline_js();\n    });\n  }\n}(window));"
     },
     "metadata": {},
     "output_type": "display_data"
    }
   ],
   "source": [
    "import wgregseq\n",
    "\n",
    "# Include these if package is manipulated while running the notebook\n",
    "%load_ext autoreload\n",
    "%autoreload 2\n",
    "\n",
    "import pandas as pd\n",
    "import numpy as np\n",
    "import copy\n",
    "\n",
    "from bokeh.plotting import figure\n",
    "from bokeh.models import ColumnDataSource\n",
    "from bokeh.layouts import grid\n",
    "\n",
    "import bokeh.io\n",
    "\n",
    "bokeh.io.output_notebook()"
   ]
  },
  {
   "cell_type": "markdown",
   "metadata": {},
   "source": [
    "First we assign the sequences of interest. We'll mostly use the strongest operator O1, but will also include the unmutated sequences for O2 and O3. The mutants for O1 will be chosen depending on their predicted binding energy. Therefore, we import the binding energy matrix calculated in Barnes 2019."
   ]
  },
  {
   "cell_type": "code",
   "execution_count": 165,
   "metadata": {},
   "outputs": [],
   "source": [
    "# Operator sequences\n",
    "O1 = 'AATTGTGAGCGGATAACAATT'\n",
    "O2 = 'AAATGTGAGCGAGTAACAACC'\n",
    "O3 = 'GGCAGTGAGCGCAACGCAATT'\n",
    "\n",
    "# Promoter\n",
    "lacUV5 = 'TCGAGTTTACACTTTATGCTTCCGGCTCGTATAATGTGTGG'\n",
    "\n",
    "# Combining promoter and operators\n",
    "lacUV5_O1 = lacUV5 + O1\n",
    "lacUV5_O2 = lacUV5 + O2\n",
    "lacUV5_O3 = lacUV5 + O3\n",
    "\n",
    "# Obtain binding energy matrix for O1\n",
    "O1_matrix = np.load(\"../../../../data/O1_matrix.npy\")"
   ]
  },
  {
   "cell_type": "markdown",
   "metadata": {},
   "source": [
    "We write a function to evaluate the energy matrix for a sequence. Therefore, the letters are transformed into an index."
   ]
  },
  {
   "cell_type": "code",
   "execution_count": 155,
   "metadata": {},
   "outputs": [],
   "source": [
    "def energy_from_sequence(sequence, matrix):\n",
    "    seq_list = list(sequence.upper())\n",
    "    num_seq = [seq_dict[x] for x in seq_list]\n",
    "    energy = sum([matrix[i, num_seq[i]] for i in range(len(sequence))])\n",
    "    return energy"
   ]
  },
  {
   "cell_type": "markdown",
   "metadata": {},
   "source": [
    "We also need to define the dictionary which translates nucleotides into indices."
   ]
  },
  {
   "cell_type": "code",
   "execution_count": 154,
   "metadata": {},
   "outputs": [],
   "source": [
    "seq_dict, _ = wgregseq.choose_dict(\"dna\")"
   ]
  },
  {
   "cell_type": "markdown",
   "metadata": {},
   "source": [
    "Now we can generate mutants. Therefore we generate all single, double mutants and triple mutants using the function which creates all possible mutants and then chooses, to prevent duplicates, at ensure we obtain every mutant."
   ]
  },
  {
   "cell_type": "code",
   "execution_count": 166,
   "metadata": {},
   "outputs": [],
   "source": [
    "mutants_single = wgregseq.mutations_det(O1, mut_per_seq=1)\n",
    "mutants_double = wgregseq.mutations_det(O1, mut_per_seq=2)\n",
    "mutants_triple = wgregseq.mutations_det(O1, mut_per_seq=3)"
   ]
  },
  {
   "cell_type": "markdown",
   "metadata": {},
   "source": [
    "For higher order mutants we don't have to worried too much about duplicates and can randomly generate mutants (while keeping the number of mutations fixed). "
   ]
  },
  {
   "cell_type": "code",
   "execution_count": 104,
   "metadata": {},
   "outputs": [],
   "source": [
    "mutants_quadruple = np.unique(wgregseq.mutations_rand(O1, rate=0.2, num_mutants=100000, number_fixed=True))\n",
    "mutants_quintuple = np.unique(wgregseq.mutations_rand(O1, rate=0.25, num_mutants=100000, number_fixed=True))\n",
    "mutants_sextuple = np.unique(wgregseq.mutations_rand(O1, rate=0.3, num_mutants=100000, number_fixed=True))"
   ]
  },
  {
   "cell_type": "markdown",
   "metadata": {},
   "source": [
    "Let's quickly confirm that we obtained plenty of unique mutants to choose from."
   ]
  },
  {
   "cell_type": "code",
   "execution_count": 167,
   "metadata": {},
   "outputs": [
    {
     "name": "stdout",
     "output_type": "stream",
     "text": [
      "Number of unique quadruple mutants: 90362\n",
      "Number of unique quintuple mutants: 98971\n",
      "Number of unique sextuple mutants: 99878\n"
     ]
    }
   ],
   "source": [
    "print(\"Number of unique quadruple mutants: {}\".format(len(mutants_quadruple)))\n",
    "print(\"Number of unique quintuple mutants: {}\".format(len(mutants_quintuple)))\n",
    "print(\"Number of unique sextuple mutants: {}\".format(len(mutants_sextuple)))"
   ]
  },
  {
   "cell_type": "markdown",
   "metadata": {},
   "source": [
    "Let's write all the mutants into a dataframe. We exclude the single mutants for now, since we want to use all of those anyways, so we add them back to the pool in the end."
   ]
  },
  {
   "cell_type": "code",
   "execution_count": 113,
   "metadata": {},
   "outputs": [],
   "source": [
    "df_1 = pd.DataFrame({\"seq\": mutants_single, \"mutations\": 1})\n",
    "df_2 = pd.DataFrame({\"seq\": mutants_double, \"mutations\": 2})\n",
    "df_3 = pd.DataFrame({\"seq\": mutants_triple, \"mutations\": 3})\n",
    "df_4 = pd.DataFrame({\"seq\": mutants_quadruple, \"mutations\": 4})\n",
    "df_5 = pd.DataFrame({\"seq\": mutants_quintuple, \"mutations\": 5})\n",
    "df_6 = pd.DataFrame({\"seq\": mutants_sextuple, \"mutations\": 6})\n",
    "df = pd.concat([df_2, df_3, df_4, df_5, df_6], ignore_index=True)"
   ]
  },
  {
   "cell_type": "markdown",
   "metadata": {},
   "source": [
    "Now we can compute the difference in energy matrix for every mutant and add it to the data frame."
   ]
  },
  {
   "cell_type": "code",
   "execution_count": 169,
   "metadata": {},
   "outputs": [
    {
     "data": {
      "text/html": [
       "<div>\n",
       "<style scoped>\n",
       "    .dataframe tbody tr th:only-of-type {\n",
       "        vertical-align: middle;\n",
       "    }\n",
       "\n",
       "    .dataframe tbody tr th {\n",
       "        vertical-align: top;\n",
       "    }\n",
       "\n",
       "    .dataframe thead th {\n",
       "        text-align: right;\n",
       "    }\n",
       "</style>\n",
       "<table border=\"1\" class=\"dataframe\">\n",
       "  <thead>\n",
       "    <tr style=\"text-align: right;\">\n",
       "      <th></th>\n",
       "      <th>seq</th>\n",
       "      <th>mutations</th>\n",
       "      <th>energy</th>\n",
       "    </tr>\n",
       "  </thead>\n",
       "  <tbody>\n",
       "    <tr>\n",
       "      <th>327006</th>\n",
       "      <td>ttgctTGAGCGGAgAACAATT</td>\n",
       "      <td>6</td>\n",
       "      <td>12.892082</td>\n",
       "    </tr>\n",
       "    <tr>\n",
       "      <th>327007</th>\n",
       "      <td>ttggGTGAGCGGATcAtAATT</td>\n",
       "      <td>6</td>\n",
       "      <td>6.803030</td>\n",
       "    </tr>\n",
       "    <tr>\n",
       "      <th>327008</th>\n",
       "      <td>ttggGTGAGCGaATcACAATT</td>\n",
       "      <td>6</td>\n",
       "      <td>5.820889</td>\n",
       "    </tr>\n",
       "    <tr>\n",
       "      <th>327009</th>\n",
       "      <td>ttggGTGAaCGGATAACAAgT</td>\n",
       "      <td>6</td>\n",
       "      <td>7.533097</td>\n",
       "    </tr>\n",
       "    <tr>\n",
       "      <th>327010</th>\n",
       "      <td>ttggGgGgGCGGATAACAATT</td>\n",
       "      <td>6</td>\n",
       "      <td>11.719174</td>\n",
       "    </tr>\n",
       "  </tbody>\n",
       "</table>\n",
       "</div>"
      ],
      "text/plain": [
       "                          seq  mutations     energy\n",
       "327006  ttgctTGAGCGGAgAACAATT          6  12.892082\n",
       "327007  ttggGTGAGCGGATcAtAATT          6   6.803030\n",
       "327008  ttggGTGAGCGaATcACAATT          6   5.820889\n",
       "327009  ttggGTGAaCGGATAACAAgT          6   7.533097\n",
       "327010  ttggGgGgGCGGATAACAATT          6  11.719174"
      ]
     },
     "execution_count": 169,
     "metadata": {},
     "output_type": "execute_result"
    }
   ],
   "source": [
    "# Compute energies and add column containing values\n",
    "df[\"energy\"] = df['seq'].apply(energy_from_sequence, args= (O1_matrix, ))\n",
    "\n",
    "# Show last five rows\n",
    "df.tail()"
   ]
  },
  {
   "cell_type": "markdown",
   "metadata": {},
   "source": [
    "Now we have to choose which sequences we include in the experiment. Therefore we choose bins of binding energies, within we choose an equal number of sequences from each number of mutations. By choosing bins, we reduce the bias from the distribution of mutants, getting a more even coverage of energies."
   ]
  },
  {
   "cell_type": "code",
   "execution_count": 171,
   "metadata": {},
   "outputs": [
    {
     "data": {
      "text/plain": [
       "[(-1.0, 0.0),\n",
       " (0.0, 1.0),\n",
       " (1.0, 2.0),\n",
       " (2.0, 3.0),\n",
       " (3.0, 4.0),\n",
       " (4.0, 5.0),\n",
       " (5.0, 6.0),\n",
       " (6.0, 7.0),\n",
       " (7.0, 8.0)]"
      ]
     },
     "execution_count": 171,
     "metadata": {},
     "output_type": "execute_result"
    }
   ],
   "source": [
    "# Bin width\n",
    "gap = 1\n",
    "\n",
    "# Minimal and maximal energies\n",
    "Min, Max = -0.5, 7.5\n",
    "\n",
    "# Generate 9 bins\n",
    "bins = [(i-gap/2, i+gap/2) for i in np.linspace(Min, Max, num=9)]\n",
    "\n",
    "# Show bins\n",
    "bins"
   ]
  },
  {
   "cell_type": "markdown",
   "metadata": {},
   "source": [
    "Let's have a look on how the mutants are distributed."
   ]
  },
  {
   "cell_type": "code",
   "execution_count": 172,
   "metadata": {},
   "outputs": [
    {
     "data": {
      "text/html": [
       "\n",
       "\n",
       "\n",
       "\n",
       "\n",
       "\n",
       "  <div class=\"bk-root\" id=\"0dc7b180-6d4e-426b-b9aa-857d375d0402\" data-root-id=\"27845\"></div>\n"
      ]
     },
     "metadata": {},
     "output_type": "display_data"
    },
    {
     "data": {
      "application/javascript": [
       "(function(root) {\n",
       "  function embed_document(root) {\n",
       "    \n",
       "  var docs_json = {\"04fb1b61-7b09-4010-b855-f79650fd25c0\":{\"roots\":{\"references\":[{\"attributes\":{\"children\":[[{\"id\":\"27045\"},0,0,1,1],[{\"id\":\"27205\"},0,1,1,1],[{\"id\":\"27365\"},0,2,1,1],[{\"id\":\"27525\"},0,3,1,1],[{\"id\":\"27685\"},0,4,1,1]]},\"id\":\"27845\",\"type\":\"GridBox\"},{\"attributes\":{\"source\":{\"id\":\"27610\"}},\"id\":\"27614\",\"type\":\"CDSView\"},{\"attributes\":{},\"id\":\"30057\",\"type\":\"Selection\"},{\"attributes\":{\"line_color\":\"orange\",\"x\":{\"field\":\"x\"},\"y\":{\"field\":\"y\"}},\"id\":\"27176\",\"type\":\"Line\"},{\"attributes\":{\"data\":{\"x\":[4.0,4.0],\"y\":[0,0.10273275819437086]},\"selected\":{\"id\":\"30203\"},\"selection_policy\":{\"id\":\"30202\"}},\"id\":\"27615\",\"type\":\"ColumnDataSource\"},{\"attributes\":{},\"id\":\"30043\",\"type\":\"Selection\"},{\"attributes\":{\"fill_alpha\":0.1,\"fill_color\":\"orange\",\"x\":{\"field\":\"x\"},\"y1\":{\"field\":\"y1\"},\"y2\":{\"field\":\"y2\"}},\"id\":\"27187\",\"type\":\"VArea\"},{\"attributes\":{\"fill_alpha\":0.1,\"fill_color\":\"orange\",\"x\":{\"field\":\"x\"},\"y1\":{\"field\":\"y1\"},\"y2\":{\"field\":\"y2\"}},\"id\":\"27622\",\"type\":\"VArea\"},{\"attributes\":{\"line_color\":\"orange\",\"x\":{\"field\":\"x\"},\"y\":{\"field\":\"y\"}},\"id\":\"27181\",\"type\":\"Line\"},{\"attributes\":{\"line_color\":\"orange\",\"x\":{\"field\":\"x\"},\"y\":{\"field\":\"y\"}},\"id\":\"27616\",\"type\":\"Line\"},{\"attributes\":{\"data\":{\"x\":[7.0,7.0],\"y\":[0,0.18390112513315407]},\"selected\":{\"id\":\"30053\"},\"selection_policy\":{\"id\":\"30052\"}},\"id\":\"27180\",\"type\":\"ColumnDataSource\"},{\"attributes\":{\"data_source\":{\"id\":\"27080\"},\"glyph\":{\"id\":\"27081\"},\"hover_glyph\":null,\"muted_glyph\":null,\"nonselection_glyph\":{\"id\":\"27082\"},\"selection_glyph\":null,\"view\":{\"id\":\"27084\"}},\"id\":\"27083\",\"type\":\"GlyphRenderer\"},{\"attributes\":{\"data_source\":{\"id\":\"27615\"},\"glyph\":{\"id\":\"27616\"},\"hover_glyph\":null,\"muted_glyph\":null,\"nonselection_glyph\":{\"id\":\"27617\"},\"selection_glyph\":null,\"view\":{\"id\":\"27619\"}},\"id\":\"27618\",\"type\":\"GlyphRenderer\"},{\"attributes\":{},\"id\":\"30166\",\"type\":\"UnionRenderers\"},{\"attributes\":{\"line_alpha\":0.1,\"line_color\":\"orange\",\"x\":{\"field\":\"x\"},\"y\":{\"field\":\"y\"}},\"id\":\"27177\",\"type\":\"Line\"},{\"attributes\":{\"line_color\":\"orange\",\"x\":{\"field\":\"x\"},\"y\":{\"field\":\"y\"}},\"id\":\"27626\",\"type\":\"Line\"},{\"attributes\":{\"source\":{\"id\":\"27175\"}},\"id\":\"27179\",\"type\":\"CDSView\"},{\"attributes\":{},\"id\":\"30167\",\"type\":\"Selection\"},{\"attributes\":{\"data_source\":{\"id\":\"27180\"},\"glyph\":{\"id\":\"27181\"},\"hover_glyph\":null,\"muted_glyph\":null,\"nonselection_glyph\":{\"id\":\"27182\"},\"selection_glyph\":null,\"view\":{\"id\":\"27184\"}},\"id\":\"27183\",\"type\":\"GlyphRenderer\"},{\"attributes\":{\"fill_alpha\":0.2,\"fill_color\":\"orange\",\"x\":{\"field\":\"x\"},\"y1\":{\"field\":\"y1\"},\"y2\":{\"field\":\"y2\"}},\"id\":\"27621\",\"type\":\"VArea\"},{\"attributes\":{},\"id\":\"30264\",\"type\":\"UnionRenderers\"},{\"attributes\":{\"line_color\":\"orange\",\"x\":{\"field\":\"x\"},\"y\":{\"field\":\"y\"}},\"id\":\"27191\",\"type\":\"Line\"},{\"attributes\":{\"line_alpha\":0.1,\"line_color\":\"orange\",\"x\":{\"field\":\"x\"},\"y\":{\"field\":\"y\"}},\"id\":\"27617\",\"type\":\"Line\"},{\"attributes\":{},\"id\":\"30058\",\"type\":\"UnionRenderers\"},{\"attributes\":{\"source\":{\"id\":\"27615\"}},\"id\":\"27619\",\"type\":\"CDSView\"},{\"attributes\":{},\"id\":\"30265\",\"type\":\"Selection\"},{\"attributes\":{},\"id\":\"30280\",\"type\":\"UnionRenderers\"},{\"attributes\":{\"fill_alpha\":0.2,\"fill_color\":\"orange\",\"x\":{\"field\":\"x\"},\"y1\":{\"field\":\"y1\"},\"y2\":{\"field\":\"y2\"}},\"id\":\"27186\",\"type\":\"VArea\"},{\"attributes\":{\"data\":{\"x\":[3.0,4.0],\"y1\":[0,0],\"y2\":[0.10273275819437086,0.10273275819437086]},\"selected\":{\"id\":\"30205\"},\"selection_policy\":{\"id\":\"30204\"}},\"id\":\"27620\",\"type\":\"ColumnDataSource\"},{\"attributes\":{},\"id\":\"30059\",\"type\":\"Selection\"},{\"attributes\":{\"line_alpha\":0.1,\"line_color\":\"orange\",\"x\":{\"field\":\"x\"},\"y\":{\"field\":\"y\"}},\"id\":\"27182\",\"type\":\"Line\"},{\"attributes\":{\"source\":{\"id\":\"27620\"}},\"id\":\"27624\",\"type\":\"CDSView\"},{\"attributes\":{},\"id\":\"30044\",\"type\":\"UnionRenderers\"},{\"attributes\":{\"source\":{\"id\":\"27180\"}},\"id\":\"27184\",\"type\":\"CDSView\"},{\"attributes\":{\"fill_alpha\":0.1,\"fill_color\":\"orange\",\"x\":{\"field\":\"x\"},\"y1\":{\"field\":\"y1\"},\"y2\":{\"field\":\"y2\"}},\"id\":\"27637\",\"type\":\"VArea\"},{\"attributes\":{\"data\":{\"x\":[6.0,7.0],\"y1\":[0,0],\"y2\":[0.18390112513315407,0.18390112513315407]},\"selected\":{\"id\":\"30055\"},\"selection_policy\":{\"id\":\"30054\"}},\"id\":\"27185\",\"type\":\"ColumnDataSource\"},{\"attributes\":{\"line_color\":\"orange\",\"x\":{\"field\":\"x\"},\"y\":{\"field\":\"y\"}},\"id\":\"27631\",\"type\":\"Line\"},{\"attributes\":{},\"id\":\"30045\",\"type\":\"Selection\"},{\"attributes\":{\"source\":{\"id\":\"27185\"}},\"id\":\"27189\",\"type\":\"CDSView\"},{\"attributes\":{\"fill_alpha\":0.1,\"fill_color\":\"orange\",\"x\":{\"field\":\"x\"},\"y1\":{\"field\":\"y1\"},\"y2\":{\"field\":\"y2\"}},\"id\":\"27202\",\"type\":\"VArea\"},{\"attributes\":{\"data\":{\"x\":[4.0,4.0],\"y\":[0,0.10273275819437086]},\"selected\":{\"id\":\"30207\"},\"selection_policy\":{\"id\":\"30206\"}},\"id\":\"27625\",\"type\":\"ColumnDataSource\"},{\"attributes\":{\"data_source\":{\"id\":\"27635\"},\"glyph\":{\"id\":\"27636\"},\"hover_glyph\":null,\"muted_glyph\":null,\"nonselection_glyph\":{\"id\":\"27637\"},\"selection_glyph\":null,\"view\":{\"id\":\"27639\"}},\"id\":\"27638\",\"type\":\"GlyphRenderer\"},{\"attributes\":{\"line_color\":\"orange\",\"x\":{\"field\":\"x\"},\"y\":{\"field\":\"y\"}},\"id\":\"27196\",\"type\":\"Line\"},{\"attributes\":{\"data_source\":{\"id\":\"27625\"},\"glyph\":{\"id\":\"27626\"},\"hover_glyph\":null,\"muted_glyph\":null,\"nonselection_glyph\":{\"id\":\"27627\"},\"selection_glyph\":null,\"view\":{\"id\":\"27629\"}},\"id\":\"27628\",\"type\":\"GlyphRenderer\"},{\"attributes\":{},\"id\":\"30168\",\"type\":\"UnionRenderers\"},{\"attributes\":{},\"id\":\"30281\",\"type\":\"Selection\"},{\"attributes\":{\"data\":{\"x\":[7.0,7.0],\"y\":[0,0.18390112513315407]},\"selected\":{\"id\":\"30057\"},\"selection_policy\":{\"id\":\"30056\"}},\"id\":\"27190\",\"type\":\"ColumnDataSource\"},{\"attributes\":{\"data\":{\"x\":[5.0,5.0],\"y\":[0,0.10273275819437086]},\"selected\":{\"id\":\"30209\"},\"selection_policy\":{\"id\":\"30208\"}},\"id\":\"27630\",\"type\":\"ColumnDataSource\"},{\"attributes\":{},\"id\":\"30266\",\"type\":\"UnionRenderers\"},{\"attributes\":{\"data_source\":{\"id\":\"27200\"},\"glyph\":{\"id\":\"27201\"},\"hover_glyph\":null,\"muted_glyph\":null,\"nonselection_glyph\":{\"id\":\"27202\"},\"selection_glyph\":null,\"view\":{\"id\":\"27204\"}},\"id\":\"27203\",\"type\":\"GlyphRenderer\"},{\"attributes\":{},\"id\":\"30060\",\"type\":\"UnionRenderers\"},{\"attributes\":{},\"id\":\"30169\",\"type\":\"Selection\"},{\"attributes\":{\"data_source\":{\"id\":\"27190\"},\"glyph\":{\"id\":\"27191\"},\"hover_glyph\":null,\"muted_glyph\":null,\"nonselection_glyph\":{\"id\":\"27192\"},\"selection_glyph\":null,\"view\":{\"id\":\"27194\"}},\"id\":\"27193\",\"type\":\"GlyphRenderer\"},{\"attributes\":{\"line_alpha\":0.1,\"line_color\":\"orange\",\"x\":{\"field\":\"x\"},\"y\":{\"field\":\"y\"}},\"id\":\"27627\",\"type\":\"Line\"},{\"attributes\":{},\"id\":\"30267\",\"type\":\"Selection\"},{\"attributes\":{\"data\":{\"x\":[8.0,8.0],\"y\":[0,0.18390112513315407]},\"selected\":{\"id\":\"30059\"},\"selection_policy\":{\"id\":\"30058\"}},\"id\":\"27195\",\"type\":\"ColumnDataSource\"},{\"attributes\":{\"source\":{\"id\":\"27625\"}},\"id\":\"27629\",\"type\":\"CDSView\"},{\"attributes\":{},\"id\":\"30061\",\"type\":\"Selection\"},{\"attributes\":{\"data_source\":{\"id\":\"27630\"},\"glyph\":{\"id\":\"27631\"},\"hover_glyph\":null,\"muted_glyph\":null,\"nonselection_glyph\":{\"id\":\"27632\"},\"selection_glyph\":null,\"view\":{\"id\":\"27634\"}},\"id\":\"27633\",\"type\":\"GlyphRenderer\"},{\"attributes\":{},\"id\":\"30046\",\"type\":\"UnionRenderers\"},{\"attributes\":{\"line_alpha\":0.1,\"line_color\":\"orange\",\"x\":{\"field\":\"x\"},\"y\":{\"field\":\"y\"}},\"id\":\"27192\",\"type\":\"Line\"},{\"attributes\":{\"line_color\":\"orange\",\"x\":{\"field\":\"x\"},\"y\":{\"field\":\"y\"}},\"id\":\"27641\",\"type\":\"Line\"},{\"attributes\":{\"source\":{\"id\":\"27190\"}},\"id\":\"27194\",\"type\":\"CDSView\"},{\"attributes\":{},\"id\":\"30047\",\"type\":\"Selection\"},{\"attributes\":{\"data_source\":{\"id\":\"27195\"},\"glyph\":{\"id\":\"27196\"},\"hover_glyph\":null,\"muted_glyph\":null,\"nonselection_glyph\":{\"id\":\"27197\"},\"selection_glyph\":null,\"view\":{\"id\":\"27199\"}},\"id\":\"27198\",\"type\":\"GlyphRenderer\"},{\"attributes\":{\"fill_alpha\":0.2,\"fill_color\":\"orange\",\"x\":{\"field\":\"x\"},\"y1\":{\"field\":\"y1\"},\"y2\":{\"field\":\"y2\"}},\"id\":\"27636\",\"type\":\"VArea\"},{\"attributes\":{},\"id\":\"27217\",\"type\":\"BasicTicker\"},{\"attributes\":{\"line_alpha\":0.1,\"line_color\":\"orange\",\"x\":{\"field\":\"x\"},\"y\":{\"field\":\"y\"}},\"id\":\"27632\",\"type\":\"Line\"},{\"attributes\":{\"source\":{\"id\":\"27630\"}},\"id\":\"27634\",\"type\":\"CDSView\"},{\"attributes\":{\"fill_alpha\":0.2,\"fill_color\":\"orange\",\"x\":{\"field\":\"x\"},\"y1\":{\"field\":\"y1\"},\"y2\":{\"field\":\"y2\"}},\"id\":\"27201\",\"type\":\"VArea\"},{\"attributes\":{\"data\":{\"x\":[4.0,5.0],\"y1\":[0,0],\"y2\":[0.10273275819437086,0.10273275819437086]},\"selected\":{\"id\":\"30211\"},\"selection_policy\":{\"id\":\"30210\"}},\"id\":\"27635\",\"type\":\"ColumnDataSource\"},{\"attributes\":{},\"id\":\"30170\",\"type\":\"UnionRenderers\"},{\"attributes\":{\"line_alpha\":0.1,\"line_color\":\"orange\",\"x\":{\"field\":\"x\"},\"y\":{\"field\":\"y\"}},\"id\":\"27197\",\"type\":\"Line\"},{\"attributes\":{\"source\":{\"id\":\"27635\"}},\"id\":\"27639\",\"type\":\"CDSView\"},{\"attributes\":{\"source\":{\"id\":\"27195\"}},\"id\":\"27199\",\"type\":\"CDSView\"},{\"attributes\":{\"fill_alpha\":0.1,\"fill_color\":\"orange\",\"x\":{\"field\":\"x\"},\"y1\":{\"field\":\"y1\"},\"y2\":{\"field\":\"y2\"}},\"id\":\"27652\",\"type\":\"VArea\"},{\"attributes\":{},\"id\":\"30171\",\"type\":\"Selection\"},{\"attributes\":{\"data\":{\"x\":[7.0,8.0],\"y1\":[0,0],\"y2\":[0.18390112513315407,0.18390112513315407]},\"selected\":{\"id\":\"30061\"},\"selection_policy\":{\"id\":\"30060\"}},\"id\":\"27200\",\"type\":\"ColumnDataSource\"},{\"attributes\":{\"line_color\":\"orange\",\"x\":{\"field\":\"x\"},\"y\":{\"field\":\"y\"}},\"id\":\"27646\",\"type\":\"Line\"},{\"attributes\":{},\"id\":\"30268\",\"type\":\"UnionRenderers\"},{\"attributes\":{\"source\":{\"id\":\"27200\"}},\"id\":\"27204\",\"type\":\"CDSView\"},{\"attributes\":{},\"id\":\"27208\",\"type\":\"DataRange1d\"},{\"attributes\":{\"data\":{\"x\":[5.0,5.0],\"y\":[0,0.10273275819437086]},\"selected\":{\"id\":\"30213\"},\"selection_policy\":{\"id\":\"30212\"}},\"id\":\"27640\",\"type\":\"ColumnDataSource\"},{\"attributes\":{},\"id\":\"30048\",\"type\":\"UnionRenderers\"},{\"attributes\":{},\"id\":\"27210\",\"type\":\"DataRange1d\"},{\"attributes\":{\"data_source\":{\"id\":\"27650\"},\"glyph\":{\"id\":\"27651\"},\"hover_glyph\":null,\"muted_glyph\":null,\"nonselection_glyph\":{\"id\":\"27652\"},\"selection_glyph\":null,\"view\":{\"id\":\"27654\"}},\"id\":\"27653\",\"type\":\"GlyphRenderer\"},{\"attributes\":{},\"id\":\"30269\",\"type\":\"Selection\"},{\"attributes\":{\"axis_label\":\"density\",\"formatter\":{\"id\":\"29991\"},\"ticker\":{\"id\":\"27221\"}},\"id\":\"27220\",\"type\":\"LinearAxis\"},{\"attributes\":{\"data_source\":{\"id\":\"27640\"},\"glyph\":{\"id\":\"27641\"},\"hover_glyph\":null,\"muted_glyph\":null,\"nonselection_glyph\":{\"id\":\"27642\"},\"selection_glyph\":null,\"view\":{\"id\":\"27644\"}},\"id\":\"27643\",\"type\":\"GlyphRenderer\"},{\"attributes\":{},\"id\":\"30049\",\"type\":\"Selection\"},{\"attributes\":{\"bottom\":{\"value\":0},\"fill_alpha\":{\"value\":0.1},\"fill_color\":{\"value\":\"navy\"},\"left\":{\"field\":\"left\"},\"line_alpha\":{\"value\":0.1},\"line_color\":{\"value\":\"white\"},\"right\":{\"field\":\"right\"},\"top\":{\"field\":\"top\"}},\"id\":\"27227\",\"type\":\"Quad\"},{\"attributes\":{\"data\":{\"x\":[6.0,6.0],\"y\":[0,0.10273275819437086]},\"selected\":{\"id\":\"30215\"},\"selection_policy\":{\"id\":\"30214\"}},\"id\":\"27645\",\"type\":\"ColumnDataSource\"},{\"attributes\":{\"text\":\"mutations = 3\"},\"id\":\"27206\",\"type\":\"Title\"},{\"attributes\":{\"line_alpha\":0.1,\"line_color\":\"orange\",\"x\":{\"field\":\"x\"},\"y\":{\"field\":\"y\"}},\"id\":\"27642\",\"type\":\"Line\"},{\"attributes\":{\"axis_label\":\"\\u0394E [k_BT]\",\"formatter\":{\"id\":\"29993\"},\"ticker\":{\"id\":\"27217\"}},\"id\":\"27216\",\"type\":\"LinearAxis\"},{\"attributes\":{\"source\":{\"id\":\"27640\"}},\"id\":\"27644\",\"type\":\"CDSView\"},{\"attributes\":{},\"id\":\"30172\",\"type\":\"UnionRenderers\"},{\"attributes\":{},\"id\":\"27212\",\"type\":\"LinearScale\"},{\"attributes\":{\"data_source\":{\"id\":\"27645\"},\"glyph\":{\"id\":\"27646\"},\"hover_glyph\":null,\"muted_glyph\":null,\"nonselection_glyph\":{\"id\":\"27647\"},\"selection_glyph\":null,\"view\":{\"id\":\"27649\"}},\"id\":\"27648\",\"type\":\"GlyphRenderer\"},{\"attributes\":{},\"id\":\"30062\",\"type\":\"UnionRenderers\"},{\"attributes\":{},\"id\":\"27221\",\"type\":\"BasicTicker\"},{\"attributes\":{},\"id\":\"29999\",\"type\":\"BasicTickFormatter\"},{\"attributes\":{\"line_color\":\"orange\",\"x\":{\"field\":\"x\"},\"y\":{\"field\":\"y\"}},\"id\":\"27656\",\"type\":\"Line\"},{\"attributes\":{},\"id\":\"27214\",\"type\":\"LinearScale\"},{\"attributes\":{},\"id\":\"30063\",\"type\":\"Selection\"},{\"attributes\":{},\"id\":\"30173\",\"type\":\"Selection\"},{\"attributes\":{\"axis\":{\"id\":\"27216\"},\"ticker\":null},\"id\":\"27219\",\"type\":\"Grid\"},{\"attributes\":{\"fill_alpha\":0.2,\"fill_color\":\"orange\",\"x\":{\"field\":\"x\"},\"y1\":{\"field\":\"y1\"},\"y2\":{\"field\":\"y2\"}},\"id\":\"27651\",\"type\":\"VArea\"},{\"attributes\":{},\"id\":\"30270\",\"type\":\"UnionRenderers\"},{\"attributes\":{\"line_alpha\":0.1,\"line_color\":\"orange\",\"x\":{\"field\":\"x\"},\"y\":{\"field\":\"y\"}},\"id\":\"27647\",\"type\":\"Line\"},{\"attributes\":{},\"id\":\"30271\",\"type\":\"Selection\"},{\"attributes\":{\"source\":{\"id\":\"27645\"}},\"id\":\"27649\",\"type\":\"CDSView\"},{\"attributes\":{\"data\":{\"x\":[5.0,6.0],\"y1\":[0,0],\"y2\":[0.10273275819437086,0.10273275819437086]},\"selected\":{\"id\":\"30217\"},\"selection_policy\":{\"id\":\"30216\"}},\"id\":\"27650\",\"type\":\"ColumnDataSource\"},{\"attributes\":{},\"id\":\"30050\",\"type\":\"UnionRenderers\"},{\"attributes\":{\"axis\":{\"id\":\"27220\"},\"dimension\":1,\"ticker\":null},\"id\":\"27223\",\"type\":\"Grid\"},{\"attributes\":{\"source\":{\"id\":\"27650\"}},\"id\":\"27654\",\"type\":\"CDSView\"},{\"attributes\":{\"background_fill_color\":\"#fafafa\",\"below\":[{\"id\":\"27376\"}],\"center\":[{\"id\":\"27379\"},{\"id\":\"27383\"}],\"frame_height\":200,\"frame_width\":200,\"left\":[{\"id\":\"27380\"}],\"renderers\":[{\"id\":\"27388\"},{\"id\":\"27393\"},{\"id\":\"27398\"},{\"id\":\"27403\"},{\"id\":\"27408\"},{\"id\":\"27413\"},{\"id\":\"27418\"},{\"id\":\"27423\"},{\"id\":\"27428\"},{\"id\":\"27433\"},{\"id\":\"27438\"},{\"id\":\"27443\"},{\"id\":\"27448\"},{\"id\":\"27453\"},{\"id\":\"27458\"},{\"id\":\"27463\"},{\"id\":\"27468\"},{\"id\":\"27473\"},{\"id\":\"27478\"},{\"id\":\"27483\"},{\"id\":\"27488\"},{\"id\":\"27493\"},{\"id\":\"27498\"},{\"id\":\"27503\"},{\"id\":\"27508\"},{\"id\":\"27513\"},{\"id\":\"27518\"},{\"id\":\"27523\"}],\"title\":{\"id\":\"27366\"},\"toolbar\":{\"id\":\"27384\"},\"x_range\":{\"id\":\"27368\"},\"x_scale\":{\"id\":\"27372\"},\"y_range\":{\"id\":\"27370\"},\"y_scale\":{\"id\":\"27374\"}},\"id\":\"27365\",\"subtype\":\"Figure\",\"type\":\"Plot\"},{\"attributes\":{\"fill_alpha\":0.1,\"fill_color\":\"orange\",\"x\":{\"field\":\"x\"},\"y1\":{\"field\":\"y1\"},\"y2\":{\"field\":\"y2\"}},\"id\":\"27667\",\"type\":\"VArea\"},{\"attributes\":{},\"id\":\"30051\",\"type\":\"Selection\"},{\"attributes\":{\"active_drag\":\"auto\",\"active_inspect\":\"auto\",\"active_multi\":null,\"active_scroll\":\"auto\",\"active_tap\":\"auto\"},\"id\":\"27224\",\"type\":\"Toolbar\"},{\"attributes\":{},\"id\":\"30001\",\"type\":\"BasicTickFormatter\"},{\"attributes\":{\"line_color\":\"orange\",\"x\":{\"field\":\"x\"},\"y\":{\"field\":\"y\"}},\"id\":\"27661\",\"type\":\"Line\"},{\"attributes\":{\"line_color\":\"orange\",\"x\":{\"field\":\"x\"},\"y\":{\"field\":\"y\"}},\"id\":\"27251\",\"type\":\"Line\"},{\"attributes\":{\"data\":{\"x\":[6.0,6.0],\"y\":[0,0.10273275819437086]},\"selected\":{\"id\":\"30219\"},\"selection_policy\":{\"id\":\"30218\"}},\"id\":\"27655\",\"type\":\"ColumnDataSource\"},{\"attributes\":{\"data_source\":{\"id\":\"27665\"},\"glyph\":{\"id\":\"27666\"},\"hover_glyph\":null,\"muted_glyph\":null,\"nonselection_glyph\":{\"id\":\"27667\"},\"selection_glyph\":null,\"view\":{\"id\":\"27669\"}},\"id\":\"27668\",\"type\":\"GlyphRenderer\"},{\"attributes\":{\"line_alpha\":0.1,\"line_color\":\"orange\",\"x\":{\"field\":\"x\"},\"y\":{\"field\":\"y\"}},\"id\":\"27252\",\"type\":\"Line\"},{\"attributes\":{\"data_source\":{\"id\":\"27245\"},\"glyph\":{\"id\":\"27246\"},\"hover_glyph\":null,\"muted_glyph\":null,\"nonselection_glyph\":{\"id\":\"27247\"},\"selection_glyph\":null,\"view\":{\"id\":\"27249\"}},\"id\":\"27248\",\"type\":\"GlyphRenderer\"},{\"attributes\":{\"data_source\":{\"id\":\"27655\"},\"glyph\":{\"id\":\"27656\"},\"hover_glyph\":null,\"muted_glyph\":null,\"nonselection_glyph\":{\"id\":\"27657\"},\"selection_glyph\":null,\"view\":{\"id\":\"27659\"}},\"id\":\"27658\",\"type\":\"GlyphRenderer\"},{\"attributes\":{},\"id\":\"30064\",\"type\":\"UnionRenderers\"},{\"attributes\":{\"data_source\":{\"id\":\"27255\"},\"glyph\":{\"id\":\"27256\"},\"hover_glyph\":null,\"muted_glyph\":null,\"nonselection_glyph\":{\"id\":\"27257\"},\"selection_glyph\":null,\"view\":{\"id\":\"27259\"}},\"id\":\"27258\",\"type\":\"GlyphRenderer\"},{\"attributes\":{\"data\":{\"x\":[7.0,7.0],\"y\":[0,0.10273275819437086]},\"selected\":{\"id\":\"30221\"},\"selection_policy\":{\"id\":\"30220\"}},\"id\":\"27660\",\"type\":\"ColumnDataSource\"},{\"attributes\":{},\"id\":\"30272\",\"type\":\"UnionRenderers\"},{\"attributes\":{\"line_color\":\"orange\",\"x\":{\"field\":\"x\"},\"y\":{\"field\":\"y\"}},\"id\":\"27246\",\"type\":\"Line\"},{\"attributes\":{},\"id\":\"30065\",\"type\":\"Selection\"},{\"attributes\":{},\"id\":\"30273\",\"type\":\"Selection\"},{\"attributes\":{\"data\":{\"x\":[1.0,1.0],\"y\":[0,0.1204523954086467]},\"selected\":{\"id\":\"30073\"},\"selection_policy\":{\"id\":\"30072\"}},\"id\":\"27250\",\"type\":\"ColumnDataSource\"},{\"attributes\":{\"line_alpha\":0.1,\"line_color\":\"orange\",\"x\":{\"field\":\"x\"},\"y\":{\"field\":\"y\"}},\"id\":\"27657\",\"type\":\"Line\"},{\"attributes\":{\"line_alpha\":0.1,\"line_color\":\"orange\",\"x\":{\"field\":\"x\"},\"y\":{\"field\":\"y\"}},\"id\":\"27247\",\"type\":\"Line\"},{\"attributes\":{\"source\":{\"id\":\"27655\"}},\"id\":\"27659\",\"type\":\"CDSView\"},{\"attributes\":{},\"id\":\"30052\",\"type\":\"UnionRenderers\"},{\"attributes\":{\"data_source\":{\"id\":\"27660\"},\"glyph\":{\"id\":\"27661\"},\"hover_glyph\":null,\"muted_glyph\":null,\"nonselection_glyph\":{\"id\":\"27662\"},\"selection_glyph\":null,\"view\":{\"id\":\"27664\"}},\"id\":\"27663\",\"type\":\"GlyphRenderer\"},{\"attributes\":{\"source\":{\"id\":\"27245\"}},\"id\":\"27249\",\"type\":\"CDSView\"},{\"attributes\":{\"line_color\":\"orange\",\"x\":{\"field\":\"x\"},\"y\":{\"field\":\"y\"}},\"id\":\"27671\",\"type\":\"Line\"},{\"attributes\":{},\"id\":\"30053\",\"type\":\"Selection\"},{\"attributes\":{},\"id\":\"30174\",\"type\":\"UnionRenderers\"},{\"attributes\":{\"source\":{\"id\":\"27240\"}},\"id\":\"27244\",\"type\":\"CDSView\"},{\"attributes\":{\"fill_alpha\":0.2,\"fill_color\":\"orange\",\"x\":{\"field\":\"x\"},\"y1\":{\"field\":\"y1\"},\"y2\":{\"field\":\"y2\"}},\"id\":\"27666\",\"type\":\"VArea\"},{\"attributes\":{\"data\":{\"x\":[0.0,0.0],\"y\":[0,0.1204523954086467]},\"selected\":{\"id\":\"30071\"},\"selection_policy\":{\"id\":\"30070\"}},\"id\":\"27245\",\"type\":\"ColumnDataSource\"},{\"attributes\":{\"line_alpha\":0.1,\"line_color\":\"orange\",\"x\":{\"field\":\"x\"},\"y\":{\"field\":\"y\"}},\"id\":\"27662\",\"type\":\"Line\"},{\"attributes\":{},\"id\":\"30175\",\"type\":\"Selection\"},{\"attributes\":{\"fill_alpha\":0.1,\"fill_color\":\"orange\",\"x\":{\"field\":\"x\"},\"y1\":{\"field\":\"y1\"},\"y2\":{\"field\":\"y2\"}},\"id\":\"27242\",\"type\":\"VArea\"},{\"attributes\":{\"source\":{\"id\":\"27660\"}},\"id\":\"27664\",\"type\":\"CDSView\"},{\"attributes\":{\"bottom\":{\"value\":0},\"fill_alpha\":{\"value\":0.5},\"fill_color\":{\"value\":\"navy\"},\"left\":{\"field\":\"left\"},\"line_alpha\":{\"value\":0.5},\"line_color\":{\"value\":\"white\"},\"right\":{\"field\":\"right\"},\"top\":{\"field\":\"top\"}},\"id\":\"27226\",\"type\":\"Quad\"},{\"attributes\":{\"data\":{\"x\":[6.0,7.0],\"y1\":[0,0],\"y2\":[0.10273275819437086,0.10273275819437086]},\"selected\":{\"id\":\"30223\"},\"selection_policy\":{\"id\":\"30222\"}},\"id\":\"27665\",\"type\":\"ColumnDataSource\"},{\"attributes\":{},\"id\":\"30066\",\"type\":\"UnionRenderers\"},{\"attributes\":{\"data_source\":{\"id\":\"27250\"},\"glyph\":{\"id\":\"27251\"},\"hover_glyph\":null,\"muted_glyph\":null,\"nonselection_glyph\":{\"id\":\"27252\"},\"selection_glyph\":null,\"view\":{\"id\":\"27254\"}},\"id\":\"27253\",\"type\":\"GlyphRenderer\"},{\"attributes\":{\"source\":{\"id\":\"27665\"}},\"id\":\"27669\",\"type\":\"CDSView\"},{\"attributes\":{\"data\":{\"left\":{\"__ndarray__\":\"hqzqvPj48b9sS6PUpRDnv5h74l60XtS/oH4GrouPtT/ouuU1eibfPxTrJMCIdOw/WnyrMuqq9D8qg0QFkBv7P/3E7usaxgBAZUg71W3+A0DNy4e+wDYHQDVP1KcTbwpAndIgkWanDUACqza93G8QQLbs3DEGDBJAai6Dpi+oE0AecCkbWUQVQNKxz4+C4BZAhvN1BKx8GEA6NRx51RgaQO52wu3+tBtAorhoYihRHUBW+g7XUe0eQAWe2qW9RCBA374tYNISIUC534Aa5+AhQJMA1NT7riJAbSEnjxB9I0BHQnpJJUskQCFjzQM6GSVA+4Mgvk7nJUDVpHN4Y7UmQK/FxjJ4gydAieYZ7YxRKEBjB22noR8pQD0owGG27SlAF0kTHMu7KkDxaWbW34krQMuKuZD0VyxApasMSwkmLUB/zF8FHvQtQFntsr8ywi5AMw4GekeQL0CHlywaLi8wQPQnVnc4ljBAYbh/1EL9MEDOSKkxTWQxQDvZ0o5XyzFAqGn862EyMkAV+iVJbJkyQA==\",\"dtype\":\"float64\",\"shape\":[50]},\"right\":{\"__ndarray__\":\"bEuj1KUQ57+Ye+JetF7Uv6B+Bq6Lj7U/6LrlNXom3z8U6yTAiHTsP1p8qzLqqvQ/KoNEBZAb+z/9xO7rGsYAQGVIO9Vt/gNAzcuHvsA2B0A1T9SnE28KQJ3SIJFmpw1AAqs2vdxvEEC27NwxBgwSQGoug6YvqBNAHnApG1lEFUDSsc+PguAWQIbzdQSsfBhAOjUcedUYGkDudsLt/rQbQKK4aGIoUR1AVvoO11HtHkAFntqlvUQgQN++LWDSEiFAud+AGufgIUCTANTU+64iQG0hJ48QfSNAR0J6SSVLJEAhY80DOhklQPuDIL5O5yVA1aRzeGO1JkCvxcYyeIMnQInmGe2MUShAYwdtp6EfKUA9KMBhtu0pQBdJExzLuypA8Wlm1t+JK0DLirmQ9FcsQKWrDEsJJi1Af8xfBR70LUBZ7bK/MsIuQDMOBnpHkC9Ah5csGi4vMED0J1Z3OJYwQGG4f9RC/TBAzkipMU1kMUA72dKOV8sxQKhp/OthMjJAFfolSWyZMkCCik+mdgAzQA==\",\"dtype\":\"float64\",\"shape\":[50]},\"top\":{\"__ndarray__\":\"VVsP0SlFUz//CJe5vudsP+Sfjf8U0nU/ekTlFoZrgj8MqVbonfySP5at7tAvgZk/D8lJi8oAoT9Qf4cfVv2mPyLSeVzuCa4/6HsVsegZsj8IXUiI4La1P0+3yvZKfLc/wyxSdVRIuD/c1UF1V2a7P5GZI0hnurw//ngdaKjlvT+RQe3NRTe+P/+kOCU5J70/bLZhD70yvj+PRwHb99W+P9pXBEtXQL4/Rl0FG3cOvj+3ujxluF+8P94teO946bk/umqpWftluT9Qf4cfVv22P8LKgkKBcrM/Dp0uzjm/sT9q9LjzY1CvP5at7tAvgak/vJbEFoynqD/BAsYZdvGjP8feTctJOaA/to4hqCcenT8HaXCiRPSWP59l/jPXEJI/szbrLQabjj++tre5uKuGPw/JSYvKAIE/JfJs/xoOfD8PyUmLygBxPzWyH9EmJ3A/8IhjRXH4ZD8PyUmLygBRP+F/mlzozVc/SttCRXc0Sz8FSX3/F/BIP0rbQkV3NCs/MZIsLvoiIj8xkiwu+iIyPw==\",\"dtype\":\"float64\",\"shape\":[50]}},\"selected\":{\"id\":\"30063\"},\"selection_policy\":{\"id\":\"30062\"}},\"id\":\"27225\",\"type\":\"ColumnDataSource\"},{\"attributes\":{\"source\":{\"id\":\"27680\"}},\"id\":\"27684\",\"type\":\"CDSView\"},{\"attributes\":{},\"id\":\"30067\",\"type\":\"Selection\"},{\"attributes\":{\"data_source\":{\"id\":\"27230\"},\"glyph\":{\"id\":\"27231\"},\"hover_glyph\":null,\"muted_glyph\":null,\"nonselection_glyph\":{\"id\":\"27232\"},\"selection_glyph\":null,\"view\":{\"id\":\"27234\"}},\"id\":\"27233\",\"type\":\"GlyphRenderer\"},{\"attributes\":{\"line_color\":\"orange\",\"x\":{\"field\":\"x\"},\"y\":{\"field\":\"y\"}},\"id\":\"27676\",\"type\":\"Line\"},{\"attributes\":{},\"id\":\"30274\",\"type\":\"UnionRenderers\"},{\"attributes\":{\"line_alpha\":0.1,\"line_color\":\"orange\",\"x\":{\"field\":\"x\"},\"y\":{\"field\":\"y\"}},\"id\":\"27237\",\"type\":\"Line\"},{\"attributes\":{},\"id\":\"30054\",\"type\":\"UnionRenderers\"},{\"attributes\":{},\"id\":\"30275\",\"type\":\"Selection\"},{\"attributes\":{\"source\":{\"id\":\"27225\"}},\"id\":\"27229\",\"type\":\"CDSView\"},{\"attributes\":{\"data\":{\"x\":[7.0,7.0],\"y\":[0,0.10273275819437086]},\"selected\":{\"id\":\"30225\"},\"selection_policy\":{\"id\":\"30224\"}},\"id\":\"27670\",\"type\":\"ColumnDataSource\"},{\"attributes\":{\"data_source\":{\"id\":\"27225\"},\"glyph\":{\"id\":\"27226\"},\"hover_glyph\":null,\"muted_glyph\":null,\"nonselection_glyph\":{\"id\":\"27227\"},\"selection_glyph\":null,\"view\":{\"id\":\"27229\"}},\"id\":\"27228\",\"type\":\"GlyphRenderer\"},{\"attributes\":{\"data_source\":{\"id\":\"27680\"},\"glyph\":{\"id\":\"27681\"},\"hover_glyph\":null,\"muted_glyph\":null,\"nonselection_glyph\":{\"id\":\"27682\"},\"selection_glyph\":null,\"view\":{\"id\":\"27684\"}},\"id\":\"27683\",\"type\":\"GlyphRenderer\"},{\"attributes\":{},\"id\":\"30055\",\"type\":\"Selection\"},{\"attributes\":{\"data_source\":{\"id\":\"27240\"},\"glyph\":{\"id\":\"27241\"},\"hover_glyph\":null,\"muted_glyph\":null,\"nonselection_glyph\":{\"id\":\"27242\"},\"selection_glyph\":null,\"view\":{\"id\":\"27244\"}},\"id\":\"27243\",\"type\":\"GlyphRenderer\"},{\"attributes\":{\"data_source\":{\"id\":\"27670\"},\"glyph\":{\"id\":\"27671\"},\"hover_glyph\":null,\"muted_glyph\":null,\"nonselection_glyph\":{\"id\":\"27672\"},\"selection_glyph\":null,\"view\":{\"id\":\"27674\"}},\"id\":\"27673\",\"type\":\"GlyphRenderer\"},{\"attributes\":{\"data\":{\"x\":[8.0,8.0],\"y\":[0,0.10273275819437086]},\"selected\":{\"id\":\"30227\"},\"selection_policy\":{\"id\":\"30226\"}},\"id\":\"27675\",\"type\":\"ColumnDataSource\"},{\"attributes\":{\"data\":{\"x\":[-1.0,-1.0],\"y\":[0,0.1204523954086467]},\"selected\":{\"id\":\"30065\"},\"selection_policy\":{\"id\":\"30064\"}},\"id\":\"27230\",\"type\":\"ColumnDataSource\"},{\"attributes\":{},\"id\":\"30176\",\"type\":\"UnionRenderers\"},{\"attributes\":{\"line_color\":\"orange\",\"x\":{\"field\":\"x\"},\"y\":{\"field\":\"y\"}},\"id\":\"27231\",\"type\":\"Line\"},{\"attributes\":{\"line_alpha\":0.1,\"line_color\":\"orange\",\"x\":{\"field\":\"x\"},\"y\":{\"field\":\"y\"}},\"id\":\"27672\",\"type\":\"Line\"},{\"attributes\":{\"source\":{\"id\":\"27235\"}},\"id\":\"27239\",\"type\":\"CDSView\"},{\"attributes\":{\"source\":{\"id\":\"27670\"}},\"id\":\"27674\",\"type\":\"CDSView\"},{\"attributes\":{},\"id\":\"30068\",\"type\":\"UnionRenderers\"},{\"attributes\":{\"data_source\":{\"id\":\"27675\"},\"glyph\":{\"id\":\"27676\"},\"hover_glyph\":null,\"muted_glyph\":null,\"nonselection_glyph\":{\"id\":\"27677\"},\"selection_glyph\":null,\"view\":{\"id\":\"27679\"}},\"id\":\"27678\",\"type\":\"GlyphRenderer\"},{\"attributes\":{\"line_color\":\"orange\",\"x\":{\"field\":\"x\"},\"y\":{\"field\":\"y\"}},\"id\":\"27236\",\"type\":\"Line\"},{\"attributes\":{},\"id\":\"30177\",\"type\":\"Selection\"},{\"attributes\":{\"data\":{\"x\":[0.0,0.0],\"y\":[0,0.1204523954086467]},\"selected\":{\"id\":\"30067\"},\"selection_policy\":{\"id\":\"30066\"}},\"id\":\"27235\",\"type\":\"ColumnDataSource\"},{\"attributes\":{\"fill_alpha\":0.2,\"fill_color\":\"orange\",\"x\":{\"field\":\"x\"},\"y1\":{\"field\":\"y1\"},\"y2\":{\"field\":\"y2\"}},\"id\":\"27681\",\"type\":\"VArea\"},{\"attributes\":{},\"id\":\"30069\",\"type\":\"Selection\"},{\"attributes\":{},\"id\":\"30276\",\"type\":\"UnionRenderers\"},{\"attributes\":{\"line_alpha\":0.1,\"line_color\":\"orange\",\"x\":{\"field\":\"x\"},\"y\":{\"field\":\"y\"}},\"id\":\"27232\",\"type\":\"Line\"},{\"attributes\":{\"fill_alpha\":0.1,\"fill_color\":\"orange\",\"x\":{\"field\":\"x\"},\"y1\":{\"field\":\"y1\"},\"y2\":{\"field\":\"y2\"}},\"id\":\"27682\",\"type\":\"VArea\"},{\"attributes\":{},\"id\":\"30277\",\"type\":\"Selection\"},{\"attributes\":{\"source\":{\"id\":\"27230\"}},\"id\":\"27234\",\"type\":\"CDSView\"},{\"attributes\":{\"line_alpha\":0.1,\"line_color\":\"orange\",\"x\":{\"field\":\"x\"},\"y\":{\"field\":\"y\"}},\"id\":\"27677\",\"type\":\"Line\"},{\"attributes\":{\"data_source\":{\"id\":\"27235\"},\"glyph\":{\"id\":\"27236\"},\"hover_glyph\":null,\"muted_glyph\":null,\"nonselection_glyph\":{\"id\":\"27237\"},\"selection_glyph\":null,\"view\":{\"id\":\"27239\"}},\"id\":\"27238\",\"type\":\"GlyphRenderer\"},{\"attributes\":{\"source\":{\"id\":\"27675\"}},\"id\":\"27679\",\"type\":\"CDSView\"},{\"attributes\":{},\"id\":\"30056\",\"type\":\"UnionRenderers\"},{\"attributes\":{\"data\":{\"x\":[-1.0,0.0],\"y1\":[0,0],\"y2\":[0.1204523954086467,0.1204523954086467]},\"selected\":{\"id\":\"30069\"},\"selection_policy\":{\"id\":\"30068\"}},\"id\":\"27240\",\"type\":\"ColumnDataSource\"},{\"attributes\":{\"data\":{\"x\":[7.0,8.0],\"y1\":[0,0],\"y2\":[0.10273275819437086,0.10273275819437086]},\"selected\":{\"id\":\"30229\"},\"selection_policy\":{\"id\":\"30228\"}},\"id\":\"27680\",\"type\":\"ColumnDataSource\"},{\"attributes\":{\"line_color\":\"orange\",\"x\":{\"field\":\"x\"},\"y\":{\"field\":\"y\"}},\"id\":\"27321\",\"type\":\"Line\"},{\"attributes\":{},\"id\":\"30249\",\"type\":\"Selection\"},{\"attributes\":{\"line_alpha\":0.1,\"line_color\":\"orange\",\"x\":{\"field\":\"x\"},\"y\":{\"field\":\"y\"}},\"id\":\"27322\",\"type\":\"Line\"},{\"attributes\":{},\"id\":\"30234\",\"type\":\"UnionRenderers\"},{\"attributes\":{\"fill_alpha\":0.1,\"fill_color\":\"orange\",\"x\":{\"field\":\"x\"},\"y1\":{\"field\":\"y1\"},\"y2\":{\"field\":\"y2\"}},\"id\":\"27332\",\"type\":\"VArea\"},{\"attributes\":{},\"id\":\"30235\",\"type\":\"Selection\"},{\"attributes\":{\"source\":{\"id\":\"27320\"}},\"id\":\"27324\",\"type\":\"CDSView\"},{\"attributes\":{\"line_color\":\"orange\",\"x\":{\"field\":\"x\"},\"y\":{\"field\":\"y\"}},\"id\":\"27326\",\"type\":\"Line\"},{\"attributes\":{\"data\":{\"x\":[6.0,6.0],\"y\":[0,0.1204523954086467]},\"selected\":{\"id\":\"30103\"},\"selection_policy\":{\"id\":\"30102\"}},\"id\":\"27325\",\"type\":\"ColumnDataSource\"},{\"attributes\":{\"data_source\":{\"id\":\"27325\"},\"glyph\":{\"id\":\"27326\"},\"hover_glyph\":null,\"muted_glyph\":null,\"nonselection_glyph\":{\"id\":\"27327\"},\"selection_glyph\":null,\"view\":{\"id\":\"27329\"}},\"id\":\"27328\",\"type\":\"GlyphRenderer\"},{\"attributes\":{\"line_color\":\"orange\",\"x\":{\"field\":\"x\"},\"y\":{\"field\":\"y\"}},\"id\":\"27336\",\"type\":\"Line\"},{\"attributes\":{\"fill_alpha\":0.2,\"fill_color\":\"orange\",\"x\":{\"field\":\"x\"},\"y1\":{\"field\":\"y1\"},\"y2\":{\"field\":\"y2\"}},\"id\":\"27331\",\"type\":\"VArea\"},{\"attributes\":{\"line_alpha\":0.1,\"line_color\":\"orange\",\"x\":{\"field\":\"x\"},\"y\":{\"field\":\"y\"}},\"id\":\"27327\",\"type\":\"Line\"},{\"attributes\":{},\"id\":\"30250\",\"type\":\"UnionRenderers\"},{\"attributes\":{\"source\":{\"id\":\"27325\"}},\"id\":\"27329\",\"type\":\"CDSView\"},{\"attributes\":{},\"id\":\"30236\",\"type\":\"UnionRenderers\"},{\"attributes\":{\"data\":{\"x\":[5.0,6.0],\"y1\":[0,0],\"y2\":[0.1204523954086467,0.1204523954086467]},\"selected\":{\"id\":\"30105\"},\"selection_policy\":{\"id\":\"30104\"}},\"id\":\"27330\",\"type\":\"ColumnDataSource\"},{\"attributes\":{},\"id\":\"30251\",\"type\":\"Selection\"},{\"attributes\":{\"source\":{\"id\":\"27330\"}},\"id\":\"27334\",\"type\":\"CDSView\"},{\"attributes\":{},\"id\":\"30237\",\"type\":\"Selection\"},{\"attributes\":{\"fill_alpha\":0.1,\"fill_color\":\"orange\",\"x\":{\"field\":\"x\"},\"y1\":{\"field\":\"y1\"},\"y2\":{\"field\":\"y2\"}},\"id\":\"27347\",\"type\":\"VArea\"},{\"attributes\":{\"line_color\":\"orange\",\"x\":{\"field\":\"x\"},\"y\":{\"field\":\"y\"}},\"id\":\"27341\",\"type\":\"Line\"},{\"attributes\":{\"data\":{\"x\":[6.0,6.0],\"y\":[0,0.1204523954086467]},\"selected\":{\"id\":\"30107\"},\"selection_policy\":{\"id\":\"30106\"}},\"id\":\"27335\",\"type\":\"ColumnDataSource\"},{\"attributes\":{\"data_source\":{\"id\":\"27345\"},\"glyph\":{\"id\":\"27346\"},\"hover_glyph\":null,\"muted_glyph\":null,\"nonselection_glyph\":{\"id\":\"27347\"},\"selection_glyph\":null,\"view\":{\"id\":\"27349\"}},\"id\":\"27348\",\"type\":\"GlyphRenderer\"},{\"attributes\":{\"data_source\":{\"id\":\"27335\"},\"glyph\":{\"id\":\"27336\"},\"hover_glyph\":null,\"muted_glyph\":null,\"nonselection_glyph\":{\"id\":\"27337\"},\"selection_glyph\":null,\"view\":{\"id\":\"27339\"}},\"id\":\"27338\",\"type\":\"GlyphRenderer\"},{\"attributes\":{\"data\":{\"x\":[7.0,7.0],\"y\":[0,0.1204523954086467]},\"selected\":{\"id\":\"30109\"},\"selection_policy\":{\"id\":\"30108\"}},\"id\":\"27340\",\"type\":\"ColumnDataSource\"},{\"attributes\":{},\"id\":\"30252\",\"type\":\"UnionRenderers\"},{\"attributes\":{\"line_alpha\":0.1,\"line_color\":\"orange\",\"x\":{\"field\":\"x\"},\"y\":{\"field\":\"y\"}},\"id\":\"27337\",\"type\":\"Line\"},{\"attributes\":{\"source\":{\"id\":\"27335\"}},\"id\":\"27339\",\"type\":\"CDSView\"},{\"attributes\":{},\"id\":\"30253\",\"type\":\"Selection\"},{\"attributes\":{\"data_source\":{\"id\":\"27340\"},\"glyph\":{\"id\":\"27341\"},\"hover_glyph\":null,\"muted_glyph\":null,\"nonselection_glyph\":{\"id\":\"27342\"},\"selection_glyph\":null,\"view\":{\"id\":\"27344\"}},\"id\":\"27343\",\"type\":\"GlyphRenderer\"},{\"attributes\":{},\"id\":\"30238\",\"type\":\"UnionRenderers\"},{\"attributes\":{\"line_color\":\"orange\",\"x\":{\"field\":\"x\"},\"y\":{\"field\":\"y\"}},\"id\":\"27351\",\"type\":\"Line\"},{\"attributes\":{},\"id\":\"30239\",\"type\":\"Selection\"},{\"attributes\":{\"fill_alpha\":0.2,\"fill_color\":\"orange\",\"x\":{\"field\":\"x\"},\"y1\":{\"field\":\"y1\"},\"y2\":{\"field\":\"y2\"}},\"id\":\"27346\",\"type\":\"VArea\"},{\"attributes\":{\"line_alpha\":0.1,\"line_color\":\"orange\",\"x\":{\"field\":\"x\"},\"y\":{\"field\":\"y\"}},\"id\":\"27342\",\"type\":\"Line\"},{\"attributes\":{\"source\":{\"id\":\"27340\"}},\"id\":\"27344\",\"type\":\"CDSView\"},{\"attributes\":{\"data\":{\"x\":[6.0,7.0],\"y1\":[0,0],\"y2\":[0.1204523954086467,0.1204523954086467]},\"selected\":{\"id\":\"30111\"},\"selection_policy\":{\"id\":\"30110\"}},\"id\":\"27345\",\"type\":\"ColumnDataSource\"},{\"attributes\":{\"source\":{\"id\":\"27345\"}},\"id\":\"27349\",\"type\":\"CDSView\"},{\"attributes\":{\"fill_alpha\":0.1,\"fill_color\":\"orange\",\"x\":{\"field\":\"x\"},\"y1\":{\"field\":\"y1\"},\"y2\":{\"field\":\"y2\"}},\"id\":\"27362\",\"type\":\"VArea\"},{\"attributes\":{},\"id\":\"30254\",\"type\":\"UnionRenderers\"},{\"attributes\":{},\"id\":\"30284\",\"type\":\"UnionRenderers\"},{\"attributes\":{\"line_color\":\"orange\",\"x\":{\"field\":\"x\"},\"y\":{\"field\":\"y\"}},\"id\":\"27356\",\"type\":\"Line\"},{\"attributes\":{},\"id\":\"30255\",\"type\":\"Selection\"},{\"attributes\":{\"data\":{\"x\":[7.0,7.0],\"y\":[0,0.1204523954086467]},\"selected\":{\"id\":\"30113\"},\"selection_policy\":{\"id\":\"30112\"}},\"id\":\"27350\",\"type\":\"ColumnDataSource\"},{\"attributes\":{},\"id\":\"30240\",\"type\":\"UnionRenderers\"},{\"attributes\":{\"data_source\":{\"id\":\"27360\"},\"glyph\":{\"id\":\"27361\"},\"hover_glyph\":null,\"muted_glyph\":null,\"nonselection_glyph\":{\"id\":\"27362\"},\"selection_glyph\":null,\"view\":{\"id\":\"27364\"}},\"id\":\"27363\",\"type\":\"GlyphRenderer\"},{\"attributes\":{\"data_source\":{\"id\":\"27350\"},\"glyph\":{\"id\":\"27351\"},\"hover_glyph\":null,\"muted_glyph\":null,\"nonselection_glyph\":{\"id\":\"27352\"},\"selection_glyph\":null,\"view\":{\"id\":\"27354\"}},\"id\":\"27353\",\"type\":\"GlyphRenderer\"},{\"attributes\":{},\"id\":\"30241\",\"type\":\"Selection\"},{\"attributes\":{\"data\":{\"x\":[8.0,8.0],\"y\":[0,0.1204523954086467]},\"selected\":{\"id\":\"30115\"},\"selection_policy\":{\"id\":\"30114\"}},\"id\":\"27355\",\"type\":\"ColumnDataSource\"},{\"attributes\":{\"line_alpha\":0.1,\"line_color\":\"orange\",\"x\":{\"field\":\"x\"},\"y\":{\"field\":\"y\"}},\"id\":\"27352\",\"type\":\"Line\"},{\"attributes\":{},\"id\":\"30006\",\"type\":\"UnionRenderers\"},{\"attributes\":{\"source\":{\"id\":\"27350\"}},\"id\":\"27354\",\"type\":\"CDSView\"},{\"attributes\":{\"data_source\":{\"id\":\"27355\"},\"glyph\":{\"id\":\"27356\"},\"hover_glyph\":null,\"muted_glyph\":null,\"nonselection_glyph\":{\"id\":\"27357\"},\"selection_glyph\":null,\"view\":{\"id\":\"27359\"}},\"id\":\"27358\",\"type\":\"GlyphRenderer\"},{\"attributes\":{},\"id\":\"29995\",\"type\":\"BasicTickFormatter\"},{\"attributes\":{},\"id\":\"30007\",\"type\":\"Selection\"},{\"attributes\":{},\"id\":\"27377\",\"type\":\"BasicTicker\"},{\"attributes\":{\"fill_alpha\":0.2,\"fill_color\":\"orange\",\"x\":{\"field\":\"x\"},\"y1\":{\"field\":\"y1\"},\"y2\":{\"field\":\"y2\"}},\"id\":\"27361\",\"type\":\"VArea\"},{\"attributes\":{},\"id\":\"30256\",\"type\":\"UnionRenderers\"},{\"attributes\":{\"line_alpha\":0.1,\"line_color\":\"orange\",\"x\":{\"field\":\"x\"},\"y\":{\"field\":\"y\"}},\"id\":\"27357\",\"type\":\"Line\"},{\"attributes\":{},\"id\":\"30242\",\"type\":\"UnionRenderers\"},{\"attributes\":{\"source\":{\"id\":\"27355\"}},\"id\":\"27359\",\"type\":\"CDSView\"},{\"attributes\":{},\"id\":\"30257\",\"type\":\"Selection\"},{\"attributes\":{\"data\":{\"x\":[7.0,8.0],\"y1\":[0,0],\"y2\":[0.1204523954086467,0.1204523954086467]},\"selected\":{\"id\":\"30117\"},\"selection_policy\":{\"id\":\"30116\"}},\"id\":\"27360\",\"type\":\"ColumnDataSource\"},{\"attributes\":{},\"id\":\"30243\",\"type\":\"Selection\"},{\"attributes\":{\"source\":{\"id\":\"27360\"}},\"id\":\"27364\",\"type\":\"CDSView\"},{\"attributes\":{},\"id\":\"27368\",\"type\":\"DataRange1d\"},{\"attributes\":{},\"id\":\"29997\",\"type\":\"BasicTickFormatter\"},{\"attributes\":{},\"id\":\"27370\",\"type\":\"DataRange1d\"},{\"attributes\":{},\"id\":\"30112\",\"type\":\"UnionRenderers\"},{\"attributes\":{\"axis_label\":\"density\",\"formatter\":{\"id\":\"29995\"},\"ticker\":{\"id\":\"27381\"}},\"id\":\"27380\",\"type\":\"LinearAxis\"},{\"attributes\":{},\"id\":\"30008\",\"type\":\"UnionRenderers\"},{\"attributes\":{\"data\":{\"left\":{\"__ndarray__\":\"365uJ9eV8L+GucAICrrgv4BTBalwGYK/6o54gz4p4D+RmcpkcU3wP63r2IdDhvg/5J5z1YpfAEDyx/rm83sEQADxgfhcmAhADhoJCsa0DECOIciNl2gQQBW2ixbMdhJAnEpPnwCFFEAj3xIoNZMWQKpz1rBpoRhAMQiaOZ6vGkC4nF3C0r0cQEAxIUsHzB5A42Ly6R1tIEAmLVQuOHQhQGr3tXJSeyJArsEXt2yCI0Dxi3n7hokkQDRW2z+hkCVAeCA9hLuXJkC86p7I1Z4nQP+0AA3wpShAQn9iUQqtKUCGScSVJLQqQMoTJto+uytADd6HHlnCLEBQqOlic8ktQJRyS6eN0C5A2Dyt66fXL0COgwcYYW8wQK9oODru8jBA0U1pXHt2MUDzMpp+CPoxQBQYy6CVfTJANv37wiIBM0BY4izlr4QzQHrHXQc9CDRAnKyOKcqLNEC9kb9LVw81QN928G3kkjVAAVwhkHEWNkAiQVKy/pk2QEQmg9SLHTdAZgu09hihN0CI8OQYpiQ4QA==\",\"dtype\":\"float64\",\"shape\":[50]},\"right\":{\"__ndarray__\":\"hrnACAq64L+AUwWpcBmCv+qOeIM+KeA/kZnKZHFN8D+t69iHQ4b4P+Sec9WKXwBA8sf65vN7BEAA8YH4XJgIQA4aCQrGtAxAjiHIjZdoEEAVtosWzHYSQJxKT58AhRRAI98SKDWTFkCqc9awaaEYQDEImjmerxpAuJxdwtK9HEBAMSFLB8weQONi8ukdbSBAJi1ULjh0IUBq97VyUnsiQK7BF7dsgiNA8Yt5+4aJJEA0Vts/oZAlQHggPYS7lyZAvOqeyNWeJ0D/tAAN8KUoQEJ/YlEKrSlAhknElSS0KkDKEybaPrsrQA3ehx5ZwixAUKjpYnPJLUCUckunjdAuQNg8reun1y9AjoMHGGFvMECvaDg67vIwQNFNaVx7djFA8zKafgj6MUAUGMuglX0yQDb9+8IiATNAWOIs5a+EM0B6x10HPQg0QJysjinKizRAvZG/S1cPNUDfdvBt5JI1QAFcIZBxFjZAIkFSsv6ZNkBEJoPUix03QGYLtPYYoTdAiPDkGKYkOECq1RU7M6g4QA==\",\"dtype\":\"float64\",\"shape\":[50]},\"top\":{\"__ndarray__\":\"lySiu1PCMz9LI5sJ1u5MPxcth9EpSV0/385QpvarcD8XLYfRKUl9P2IbsJOLCYg/66CpUHSgkz8rv2QYwaGbP9ZSRuGbHqM/0a6JO9CVpz9FmLHIN4msPymC6ZfLXbE/mjIGt/qvsz+/ISbprWK1P9/0fSQTOrc/hArQxT68uT+8oaDAxZK6PzhQQ85wF7s/mfCB4HSuuz8hPOpduBm8PxaVOCbM2Ls/5GQa7/+uuj+Hkz/1WFS4Pz/vCZASc7Y/3GIk7sbZtD9s4Smltn2yPxzTOXgup64/Hr9kGMGhqz+nKJbeW12nPzQcslStm6Q/S5+wHwEcoD/0Ip45EJ6aP4PKVGJYIJU/o9g8bkoGkT+IppnUKW+IP7I1f1lmYIQ/u8NdLCV+eT8XcwL78ZR2P6YPw3kuOmw/X/3xmwRZYj8W2zdg3xxhP9U2c5l9o00/TTh6S/t2RD8DXiO5zAw/PzDWQXy17zA/3A/DeS46HD/rcgL78ZQGP+tyAvvxlAY/AAAAAAAAAADrcgL78ZT2Pg==\",\"dtype\":\"float64\",\"shape\":[50]}},\"selected\":{\"id\":\"30119\"},\"selection_policy\":{\"id\":\"30118\"}},\"id\":\"27385\",\"type\":\"ColumnDataSource\"},{\"attributes\":{\"text\":\"mutations = 4\"},\"id\":\"27366\",\"type\":\"Title\"},{\"attributes\":{},\"id\":\"30009\",\"type\":\"Selection\"},{\"attributes\":{\"axis_label\":\"\\u0394E [k_BT]\",\"formatter\":{\"id\":\"29997\"},\"ticker\":{\"id\":\"27377\"}},\"id\":\"27376\",\"type\":\"LinearAxis\"},{\"attributes\":{},\"id\":\"30258\",\"type\":\"UnionRenderers\"},{\"attributes\":{},\"id\":\"27372\",\"type\":\"LinearScale\"},{\"attributes\":{},\"id\":\"27381\",\"type\":\"BasicTicker\"},{\"attributes\":{},\"id\":\"30259\",\"type\":\"Selection\"},{\"attributes\":{},\"id\":\"27374\",\"type\":\"LinearScale\"},{\"attributes\":{},\"id\":\"30244\",\"type\":\"UnionRenderers\"},{\"attributes\":{\"axis\":{\"id\":\"27376\"},\"ticker\":null},\"id\":\"27379\",\"type\":\"Grid\"},{\"attributes\":{},\"id\":\"30245\",\"type\":\"Selection\"},{\"attributes\":{\"axis\":{\"id\":\"27380\"},\"dimension\":1,\"ticker\":null},\"id\":\"27383\",\"type\":\"Grid\"},{\"attributes\":{},\"id\":\"30010\",\"type\":\"UnionRenderers\"},{\"attributes\":{\"data_source\":{\"id\":\"27385\"},\"glyph\":{\"id\":\"27386\"},\"hover_glyph\":null,\"muted_glyph\":null,\"nonselection_glyph\":{\"id\":\"27387\"},\"selection_glyph\":null,\"view\":{\"id\":\"27389\"}},\"id\":\"27388\",\"type\":\"GlyphRenderer\"},{\"attributes\":{\"active_drag\":\"auto\",\"active_inspect\":\"auto\",\"active_multi\":null,\"active_scroll\":\"auto\",\"active_tap\":\"auto\"},\"id\":\"27384\",\"type\":\"Toolbar\"},{\"attributes\":{},\"id\":\"30011\",\"type\":\"Selection\"},{\"attributes\":{\"bottom\":{\"value\":0},\"fill_alpha\":{\"value\":0.1},\"fill_color\":{\"value\":\"navy\"},\"left\":{\"field\":\"left\"},\"line_alpha\":{\"value\":0.1},\"line_color\":{\"value\":\"white\"},\"right\":{\"field\":\"right\"},\"top\":{\"field\":\"top\"}},\"id\":\"27387\",\"type\":\"Quad\"},{\"attributes\":{},\"id\":\"30260\",\"type\":\"UnionRenderers\"},{\"attributes\":{\"line_alpha\":0.1,\"line_color\":\"orange\",\"x\":{\"field\":\"x\"},\"y\":{\"field\":\"y\"}},\"id\":\"27427\",\"type\":\"Line\"},{\"attributes\":{},\"id\":\"30261\",\"type\":\"Selection\"},{\"attributes\":{\"line_color\":\"orange\",\"x\":{\"field\":\"x\"},\"y\":{\"field\":\"y\"}},\"id\":\"27426\",\"type\":\"Line\"},{\"attributes\":{},\"id\":\"30246\",\"type\":\"UnionRenderers\"},{\"attributes\":{\"data\":{\"x\":[1.0,1.0],\"y\":[0,0.10976745884748641]},\"selected\":{\"id\":\"30133\"},\"selection_policy\":{\"id\":\"30132\"}},\"id\":\"27420\",\"type\":\"ColumnDataSource\"},{\"attributes\":{},\"id\":\"30247\",\"type\":\"Selection\"},{\"attributes\":{\"data\":{\"x\":[2.0,2.0],\"y\":[0,0.10976745884748641]},\"selected\":{\"id\":\"30135\"},\"selection_policy\":{\"id\":\"30134\"}},\"id\":\"27425\",\"type\":\"ColumnDataSource\"},{\"attributes\":{\"line_alpha\":0.1,\"line_color\":\"orange\",\"x\":{\"field\":\"x\"},\"y\":{\"field\":\"y\"}},\"id\":\"27422\",\"type\":\"Line\"},{\"attributes\":{\"line_color\":\"orange\",\"x\":{\"field\":\"x\"},\"y\":{\"field\":\"y\"}},\"id\":\"27421\",\"type\":\"Line\"},{\"attributes\":{},\"id\":\"30012\",\"type\":\"UnionRenderers\"},{\"attributes\":{\"source\":{\"id\":\"27420\"}},\"id\":\"27424\",\"type\":\"CDSView\"},{\"attributes\":{\"data_source\":{\"id\":\"27430\"},\"glyph\":{\"id\":\"27431\"},\"hover_glyph\":null,\"muted_glyph\":null,\"nonselection_glyph\":{\"id\":\"27432\"},\"selection_glyph\":null,\"view\":{\"id\":\"27434\"}},\"id\":\"27433\",\"type\":\"GlyphRenderer\"},{\"attributes\":{},\"id\":\"30013\",\"type\":\"Selection\"},{\"attributes\":{\"source\":{\"id\":\"27415\"}},\"id\":\"27419\",\"type\":\"CDSView\"},{\"attributes\":{\"data_source\":{\"id\":\"27420\"},\"glyph\":{\"id\":\"27421\"},\"hover_glyph\":null,\"muted_glyph\":null,\"nonselection_glyph\":{\"id\":\"27422\"},\"selection_glyph\":null,\"view\":{\"id\":\"27424\"}},\"id\":\"27423\",\"type\":\"GlyphRenderer\"},{\"attributes\":{\"data_source\":{\"id\":\"27415\"},\"glyph\":{\"id\":\"27416\"},\"hover_glyph\":null,\"muted_glyph\":null,\"nonselection_glyph\":{\"id\":\"27417\"},\"selection_glyph\":null,\"view\":{\"id\":\"27419\"}},\"id\":\"27418\",\"type\":\"GlyphRenderer\"},{\"attributes\":{},\"id\":\"30262\",\"type\":\"UnionRenderers\"},{\"attributes\":{\"bottom\":{\"value\":0},\"fill_alpha\":{\"value\":0.5},\"fill_color\":{\"value\":\"navy\"},\"left\":{\"field\":\"left\"},\"line_alpha\":{\"value\":0.5},\"line_color\":{\"value\":\"white\"},\"right\":{\"field\":\"right\"},\"top\":{\"field\":\"top\"}},\"id\":\"27386\",\"type\":\"Quad\"},{\"attributes\":{},\"id\":\"30248\",\"type\":\"UnionRenderers\"},{\"attributes\":{\"data_source\":{\"id\":\"27425\"},\"glyph\":{\"id\":\"27426\"},\"hover_glyph\":null,\"muted_glyph\":null,\"nonselection_glyph\":{\"id\":\"27427\"},\"selection_glyph\":null,\"view\":{\"id\":\"27429\"}},\"id\":\"27428\",\"type\":\"GlyphRenderer\"},{\"attributes\":{},\"id\":\"30263\",\"type\":\"Selection\"},{\"attributes\":{},\"id\":\"30135\",\"type\":\"Selection\"},{\"attributes\":{\"data_source\":{\"id\":\"27075\"},\"glyph\":{\"id\":\"27076\"},\"hover_glyph\":null,\"muted_glyph\":null,\"nonselection_glyph\":{\"id\":\"27077\"},\"selection_glyph\":null,\"view\":{\"id\":\"27079\"}},\"id\":\"27078\",\"type\":\"GlyphRenderer\"},{\"attributes\":{\"line_color\":\"orange\",\"x\":{\"field\":\"x\"},\"y\":{\"field\":\"y\"}},\"id\":\"27071\",\"type\":\"Line\"},{\"attributes\":{\"data\":{\"x\":[4.0,4.0],\"y\":[0,0.10976745884748641]},\"selected\":{\"id\":\"30151\"},\"selection_policy\":{\"id\":\"30150\"}},\"id\":\"27465\",\"type\":\"ColumnDataSource\"},{\"attributes\":{},\"id\":\"29987\",\"type\":\"BasicTickFormatter\"},{\"attributes\":{},\"id\":\"29989\",\"type\":\"BasicTickFormatter\"},{\"attributes\":{\"fill_alpha\":0.1,\"fill_color\":\"orange\",\"x\":{\"field\":\"x\"},\"y1\":{\"field\":\"y1\"},\"y2\":{\"field\":\"y2\"}},\"id\":\"27477\",\"type\":\"VArea\"},{\"attributes\":{\"data\":{\"x\":[7.0,7.0],\"y\":[0,0.09515698697710769]},\"selected\":{\"id\":\"30281\"},\"selection_policy\":{\"id\":\"30280\"}},\"id\":\"27830\",\"type\":\"ColumnDataSource\"},{\"attributes\":{\"line_color\":\"orange\",\"x\":{\"field\":\"x\"},\"y\":{\"field\":\"y\"}},\"id\":\"27471\",\"type\":\"Line\"},{\"attributes\":{\"line_color\":\"orange\",\"x\":{\"field\":\"x\"},\"y\":{\"field\":\"y\"}},\"id\":\"27831\",\"type\":\"Line\"},{\"attributes\":{\"axis_label\":\"density\",\"formatter\":{\"id\":\"29987\"},\"ticker\":{\"id\":\"27061\"}},\"id\":\"27060\",\"type\":\"LinearAxis\"},{\"attributes\":{\"data_source\":{\"id\":\"27830\"},\"glyph\":{\"id\":\"27831\"},\"hover_glyph\":null,\"muted_glyph\":null,\"nonselection_glyph\":{\"id\":\"27832\"},\"selection_glyph\":null,\"view\":{\"id\":\"27834\"}},\"id\":\"27833\",\"type\":\"GlyphRenderer\"},{\"attributes\":{\"data\":{\"x\":[5.0,5.0],\"y\":[0,0.10976745884748641]},\"selected\":{\"id\":\"30153\"},\"selection_policy\":{\"id\":\"30152\"}},\"id\":\"27470\",\"type\":\"ColumnDataSource\"},{\"attributes\":{\"line_alpha\":0.1,\"line_color\":\"orange\",\"x\":{\"field\":\"x\"},\"y\":{\"field\":\"y\"}},\"id\":\"27467\",\"type\":\"Line\"},{\"attributes\":{\"fill_alpha\":0.1,\"fill_color\":\"orange\",\"x\":{\"field\":\"x\"},\"y1\":{\"field\":\"y1\"},\"y2\":{\"field\":\"y2\"}},\"id\":\"27842\",\"type\":\"VArea\"},{\"attributes\":{\"source\":{\"id\":\"27465\"}},\"id\":\"27469\",\"type\":\"CDSView\"},{\"attributes\":{\"line_color\":\"orange\",\"x\":{\"field\":\"x\"},\"y\":{\"field\":\"y\"}},\"id\":\"27836\",\"type\":\"Line\"},{\"attributes\":{},\"id\":\"30222\",\"type\":\"UnionRenderers\"},{\"attributes\":{\"data_source\":{\"id\":\"27470\"},\"glyph\":{\"id\":\"27471\"},\"hover_glyph\":null,\"muted_glyph\":null,\"nonselection_glyph\":{\"id\":\"27472\"},\"selection_glyph\":null,\"view\":{\"id\":\"27474\"}},\"id\":\"27473\",\"type\":\"GlyphRenderer\"},{\"attributes\":{\"data\":{\"x\":[8.0,8.0],\"y\":[0,0.09515698697710769]},\"selected\":{\"id\":\"30283\"},\"selection_policy\":{\"id\":\"30282\"}},\"id\":\"27835\",\"type\":\"ColumnDataSource\"},{\"attributes\":{\"line_color\":\"orange\",\"x\":{\"field\":\"x\"},\"y\":{\"field\":\"y\"}},\"id\":\"27481\",\"type\":\"Line\"},{\"attributes\":{},\"id\":\"30223\",\"type\":\"Selection\"},{\"attributes\":{\"line_alpha\":0.1,\"line_color\":\"orange\",\"x\":{\"field\":\"x\"},\"y\":{\"field\":\"y\"}},\"id\":\"27832\",\"type\":\"Line\"},{\"attributes\":{\"fill_alpha\":0.2,\"fill_color\":\"orange\",\"x\":{\"field\":\"x\"},\"y1\":{\"field\":\"y1\"},\"y2\":{\"field\":\"y2\"}},\"id\":\"27476\",\"type\":\"VArea\"},{\"attributes\":{\"source\":{\"id\":\"27830\"}},\"id\":\"27834\",\"type\":\"CDSView\"},{\"attributes\":{\"data_source\":{\"id\":\"27835\"},\"glyph\":{\"id\":\"27836\"},\"hover_glyph\":null,\"muted_glyph\":null,\"nonselection_glyph\":{\"id\":\"27837\"},\"selection_glyph\":null,\"view\":{\"id\":\"27839\"}},\"id\":\"27838\",\"type\":\"GlyphRenderer\"},{\"attributes\":{\"line_alpha\":0.1,\"line_color\":\"orange\",\"x\":{\"field\":\"x\"},\"y\":{\"field\":\"y\"}},\"id\":\"27472\",\"type\":\"Line\"},{\"attributes\":{\"source\":{\"id\":\"27470\"}},\"id\":\"27474\",\"type\":\"CDSView\"},{\"attributes\":{\"data\":{\"x\":[4.0,5.0],\"y1\":[0,0],\"y2\":[0.10976745884748641,0.10976745884748641]},\"selected\":{\"id\":\"30155\"},\"selection_policy\":{\"id\":\"30154\"}},\"id\":\"27475\",\"type\":\"ColumnDataSource\"},{\"attributes\":{\"source\":{\"id\":\"27475\"}},\"id\":\"27479\",\"type\":\"CDSView\"},{\"attributes\":{\"fill_alpha\":0.2,\"fill_color\":\"orange\",\"x\":{\"field\":\"x\"},\"y1\":{\"field\":\"y1\"},\"y2\":{\"field\":\"y2\"}},\"id\":\"27841\",\"type\":\"VArea\"},{\"attributes\":{\"fill_alpha\":0.1,\"fill_color\":\"orange\",\"x\":{\"field\":\"x\"},\"y1\":{\"field\":\"y1\"},\"y2\":{\"field\":\"y2\"}},\"id\":\"27492\",\"type\":\"VArea\"},{\"attributes\":{\"line_alpha\":0.1,\"line_color\":\"orange\",\"x\":{\"field\":\"x\"},\"y\":{\"field\":\"y\"}},\"id\":\"27837\",\"type\":\"Line\"},{\"attributes\":{\"line_color\":\"orange\",\"x\":{\"field\":\"x\"},\"y\":{\"field\":\"y\"}},\"id\":\"27486\",\"type\":\"Line\"},{\"attributes\":{\"source\":{\"id\":\"27835\"}},\"id\":\"27839\",\"type\":\"CDSView\"},{\"attributes\":{\"data\":{\"x\":[7.0,8.0],\"y1\":[0,0],\"y2\":[0.09515698697710769,0.09515698697710769]},\"selected\":{\"id\":\"30285\"},\"selection_policy\":{\"id\":\"30284\"}},\"id\":\"27840\",\"type\":\"ColumnDataSource\"},{\"attributes\":{\"data\":{\"x\":[5.0,5.0],\"y\":[0,0.10976745884748641]},\"selected\":{\"id\":\"30157\"},\"selection_policy\":{\"id\":\"30156\"}},\"id\":\"27480\",\"type\":\"ColumnDataSource\"},{\"attributes\":{\"source\":{\"id\":\"27840\"}},\"id\":\"27844\",\"type\":\"CDSView\"},{\"attributes\":{\"data_source\":{\"id\":\"27490\"},\"glyph\":{\"id\":\"27491\"},\"hover_glyph\":null,\"muted_glyph\":null,\"nonselection_glyph\":{\"id\":\"27492\"},\"selection_glyph\":null,\"view\":{\"id\":\"27494\"}},\"id\":\"27493\",\"type\":\"GlyphRenderer\"},{\"attributes\":{},\"id\":\"30224\",\"type\":\"UnionRenderers\"},{\"attributes\":{\"data_source\":{\"id\":\"27480\"},\"glyph\":{\"id\":\"27481\"},\"hover_glyph\":null,\"muted_glyph\":null,\"nonselection_glyph\":{\"id\":\"27482\"},\"selection_glyph\":null,\"view\":{\"id\":\"27484\"}},\"id\":\"27483\",\"type\":\"GlyphRenderer\"},{\"attributes\":{},\"id\":\"30145\",\"type\":\"Selection\"},{\"attributes\":{\"data\":{\"x\":[6.0,6.0],\"y\":[0,0.10976745884748641]},\"selected\":{\"id\":\"30159\"},\"selection_policy\":{\"id\":\"30158\"}},\"id\":\"27485\",\"type\":\"ColumnDataSource\"},{\"attributes\":{},\"id\":\"30225\",\"type\":\"Selection\"},{\"attributes\":{},\"id\":\"27052\",\"type\":\"LinearScale\"},{\"attributes\":{\"data_source\":{\"id\":\"27070\"},\"glyph\":{\"id\":\"27071\"},\"hover_glyph\":null,\"muted_glyph\":null,\"nonselection_glyph\":{\"id\":\"27072\"},\"selection_glyph\":null,\"view\":{\"id\":\"27074\"}},\"id\":\"27073\",\"type\":\"GlyphRenderer\"},{\"attributes\":{\"line_alpha\":0.1,\"line_color\":\"orange\",\"x\":{\"field\":\"x\"},\"y\":{\"field\":\"y\"}},\"id\":\"27482\",\"type\":\"Line\"},{\"attributes\":{\"source\":{\"id\":\"27480\"}},\"id\":\"27484\",\"type\":\"CDSView\"},{\"attributes\":{\"data_source\":{\"id\":\"27485\"},\"glyph\":{\"id\":\"27486\"},\"hover_glyph\":null,\"muted_glyph\":null,\"nonselection_glyph\":{\"id\":\"27487\"},\"selection_glyph\":null,\"view\":{\"id\":\"27489\"}},\"id\":\"27488\",\"type\":\"GlyphRenderer\"},{\"attributes\":{\"line_color\":\"orange\",\"x\":{\"field\":\"x\"},\"y\":{\"field\":\"y\"}},\"id\":\"27496\",\"type\":\"Line\"},{\"attributes\":{\"fill_alpha\":0.2,\"fill_color\":\"orange\",\"x\":{\"field\":\"x\"},\"y1\":{\"field\":\"y1\"},\"y2\":{\"field\":\"y2\"}},\"id\":\"27491\",\"type\":\"VArea\"},{\"attributes\":{},\"id\":\"30144\",\"type\":\"UnionRenderers\"},{\"attributes\":{\"line_alpha\":0.1,\"line_color\":\"orange\",\"x\":{\"field\":\"x\"},\"y\":{\"field\":\"y\"}},\"id\":\"27487\",\"type\":\"Line\"},{\"attributes\":{\"source\":{\"id\":\"27485\"}},\"id\":\"27489\",\"type\":\"CDSView\"},{\"attributes\":{},\"id\":\"30226\",\"type\":\"UnionRenderers\"},{\"attributes\":{\"data\":{\"x\":[5.0,6.0],\"y1\":[0,0],\"y2\":[0.10976745884748641,0.10976745884748641]},\"selected\":{\"id\":\"30161\"},\"selection_policy\":{\"id\":\"30160\"}},\"id\":\"27490\",\"type\":\"ColumnDataSource\"},{\"attributes\":{\"source\":{\"id\":\"27490\"}},\"id\":\"27494\",\"type\":\"CDSView\"},{\"attributes\":{},\"id\":\"30227\",\"type\":\"Selection\"},{\"attributes\":{\"fill_alpha\":0.1,\"fill_color\":\"orange\",\"x\":{\"field\":\"x\"},\"y1\":{\"field\":\"y1\"},\"y2\":{\"field\":\"y2\"}},\"id\":\"27507\",\"type\":\"VArea\"},{\"attributes\":{\"line_color\":\"orange\",\"x\":{\"field\":\"x\"},\"y\":{\"field\":\"y\"}},\"id\":\"27501\",\"type\":\"Line\"},{\"attributes\":{\"data\":{\"x\":[6.0,6.0],\"y\":[0,0.10976745884748641]},\"selected\":{\"id\":\"30163\"},\"selection_policy\":{\"id\":\"30162\"}},\"id\":\"27495\",\"type\":\"ColumnDataSource\"},{\"attributes\":{\"data_source\":{\"id\":\"27505\"},\"glyph\":{\"id\":\"27506\"},\"hover_glyph\":null,\"muted_glyph\":null,\"nonselection_glyph\":{\"id\":\"27507\"},\"selection_glyph\":null,\"view\":{\"id\":\"27509\"}},\"id\":\"27508\",\"type\":\"GlyphRenderer\"},{\"attributes\":{\"data_source\":{\"id\":\"27495\"},\"glyph\":{\"id\":\"27496\"},\"hover_glyph\":null,\"muted_glyph\":null,\"nonselection_glyph\":{\"id\":\"27497\"},\"selection_glyph\":null,\"view\":{\"id\":\"27499\"}},\"id\":\"27498\",\"type\":\"GlyphRenderer\"},{\"attributes\":{\"data\":{\"x\":[7.0,7.0],\"y\":[0,0.10976745884748641]},\"selected\":{\"id\":\"30165\"},\"selection_policy\":{\"id\":\"30164\"}},\"id\":\"27500\",\"type\":\"ColumnDataSource\"},{\"attributes\":{},\"id\":\"30142\",\"type\":\"UnionRenderers\"},{\"attributes\":{\"line_alpha\":0.1,\"line_color\":\"orange\",\"x\":{\"field\":\"x\"},\"y\":{\"field\":\"y\"}},\"id\":\"27497\",\"type\":\"Line\"},{\"attributes\":{},\"id\":\"30228\",\"type\":\"UnionRenderers\"},{\"attributes\":{\"source\":{\"id\":\"27495\"}},\"id\":\"27499\",\"type\":\"CDSView\"},{\"attributes\":{\"data_source\":{\"id\":\"27500\"},\"glyph\":{\"id\":\"27501\"},\"hover_glyph\":null,\"muted_glyph\":null,\"nonselection_glyph\":{\"id\":\"27502\"},\"selection_glyph\":null,\"view\":{\"id\":\"27504\"}},\"id\":\"27503\",\"type\":\"GlyphRenderer\"},{\"attributes\":{},\"id\":\"30229\",\"type\":\"Selection\"},{\"attributes\":{\"line_color\":\"orange\",\"x\":{\"field\":\"x\"},\"y\":{\"field\":\"y\"}},\"id\":\"27511\",\"type\":\"Line\"},{\"attributes\":{\"fill_alpha\":0.2,\"fill_color\":\"orange\",\"x\":{\"field\":\"x\"},\"y1\":{\"field\":\"y1\"},\"y2\":{\"field\":\"y2\"}},\"id\":\"27506\",\"type\":\"VArea\"},{\"attributes\":{\"line_alpha\":0.1,\"line_color\":\"orange\",\"x\":{\"field\":\"x\"},\"y\":{\"field\":\"y\"}},\"id\":\"27502\",\"type\":\"Line\"},{\"attributes\":{\"source\":{\"id\":\"27500\"}},\"id\":\"27504\",\"type\":\"CDSView\"},{\"attributes\":{\"data\":{\"x\":[6.0,7.0],\"y1\":[0,0],\"y2\":[0.10976745884748641,0.10976745884748641]},\"selected\":{\"id\":\"30167\"},\"selection_policy\":{\"id\":\"30166\"}},\"id\":\"27505\",\"type\":\"ColumnDataSource\"},{\"attributes\":{\"source\":{\"id\":\"27505\"}},\"id\":\"27509\",\"type\":\"CDSView\"},{\"attributes\":{\"fill_alpha\":0.1,\"fill_color\":\"orange\",\"x\":{\"field\":\"x\"},\"y1\":{\"field\":\"y1\"},\"y2\":{\"field\":\"y2\"}},\"id\":\"27522\",\"type\":\"VArea\"},{\"attributes\":{},\"id\":\"30143\",\"type\":\"Selection\"},{\"attributes\":{\"line_color\":\"orange\",\"x\":{\"field\":\"x\"},\"y\":{\"field\":\"y\"}},\"id\":\"27516\",\"type\":\"Line\"},{\"attributes\":{},\"id\":\"30140\",\"type\":\"UnionRenderers\"},{\"attributes\":{\"data\":{\"x\":[7.0,7.0],\"y\":[0,0.10976745884748641]},\"selected\":{\"id\":\"30169\"},\"selection_policy\":{\"id\":\"30168\"}},\"id\":\"27510\",\"type\":\"ColumnDataSource\"},{\"attributes\":{\"data_source\":{\"id\":\"27520\"},\"glyph\":{\"id\":\"27521\"},\"hover_glyph\":null,\"muted_glyph\":null,\"nonselection_glyph\":{\"id\":\"27522\"},\"selection_glyph\":null,\"view\":{\"id\":\"27524\"}},\"id\":\"27523\",\"type\":\"GlyphRenderer\"},{\"attributes\":{\"data_source\":{\"id\":\"27510\"},\"glyph\":{\"id\":\"27511\"},\"hover_glyph\":null,\"muted_glyph\":null,\"nonselection_glyph\":{\"id\":\"27512\"},\"selection_glyph\":null,\"view\":{\"id\":\"27514\"}},\"id\":\"27513\",\"type\":\"GlyphRenderer\"},{\"attributes\":{\"data\":{\"x\":[8.0,8.0],\"y\":[0,0.10976745884748641]},\"selected\":{\"id\":\"30171\"},\"selection_policy\":{\"id\":\"30170\"}},\"id\":\"27515\",\"type\":\"ColumnDataSource\"},{\"attributes\":{\"line_alpha\":0.1,\"line_color\":\"orange\",\"x\":{\"field\":\"x\"},\"y\":{\"field\":\"y\"}},\"id\":\"27512\",\"type\":\"Line\"},{\"attributes\":{},\"id\":\"30141\",\"type\":\"Selection\"},{\"attributes\":{\"source\":{\"id\":\"27510\"}},\"id\":\"27514\",\"type\":\"CDSView\"},{\"attributes\":{\"data_source\":{\"id\":\"27515\"},\"glyph\":{\"id\":\"27516\"},\"hover_glyph\":null,\"muted_glyph\":null,\"nonselection_glyph\":{\"id\":\"27517\"},\"selection_glyph\":null,\"view\":{\"id\":\"27519\"}},\"id\":\"27518\",\"type\":\"GlyphRenderer\"},{\"attributes\":{},\"id\":\"27537\",\"type\":\"BasicTicker\"},{\"attributes\":{},\"id\":\"30138\",\"type\":\"UnionRenderers\"},{\"attributes\":{},\"id\":\"30230\",\"type\":\"UnionRenderers\"},{\"attributes\":{\"axis\":{\"id\":\"27056\"},\"ticker\":null},\"id\":\"27059\",\"type\":\"Grid\"},{\"attributes\":{\"fill_alpha\":0.2,\"fill_color\":\"orange\",\"x\":{\"field\":\"x\"},\"y1\":{\"field\":\"y1\"},\"y2\":{\"field\":\"y2\"}},\"id\":\"27521\",\"type\":\"VArea\"},{\"attributes\":{},\"id\":\"30231\",\"type\":\"Selection\"},{\"attributes\":{\"line_alpha\":0.1,\"line_color\":\"orange\",\"x\":{\"field\":\"x\"},\"y\":{\"field\":\"y\"}},\"id\":\"27517\",\"type\":\"Line\"},{\"attributes\":{\"source\":{\"id\":\"27515\"}},\"id\":\"27519\",\"type\":\"CDSView\"},{\"attributes\":{\"data\":{\"x\":[7.0,8.0],\"y1\":[0,0],\"y2\":[0.10976745884748641,0.10976745884748641]},\"selected\":{\"id\":\"30173\"},\"selection_policy\":{\"id\":\"30172\"}},\"id\":\"27520\",\"type\":\"ColumnDataSource\"},{\"attributes\":{\"source\":{\"id\":\"27520\"}},\"id\":\"27524\",\"type\":\"CDSView\"},{\"attributes\":{},\"id\":\"27528\",\"type\":\"DataRange1d\"},{\"attributes\":{},\"id\":\"30139\",\"type\":\"Selection\"},{\"attributes\":{},\"id\":\"27530\",\"type\":\"DataRange1d\"},{\"attributes\":{\"axis_label\":\"density\",\"formatter\":{\"id\":\"29999\"},\"ticker\":{\"id\":\"27541\"}},\"id\":\"27540\",\"type\":\"LinearAxis\"},{\"attributes\":{},\"id\":\"27057\",\"type\":\"BasicTicker\"},{\"attributes\":{\"data\":{\"left\":{\"__ndarray__\":\"YOdksWZn4b8A7y+JEnB5PxynifsmzeE/LXcA6baz8T/MGjxU2oD6Pzbfu9/+pgFABbFZlZANBkDUgvdKInQKQKRUlQC02g5AOpMZ26KgEUAifOi169MTQAllt5A0BxZA8U2Ga306GEDZNlVGxm0aQMAfJCEPoRxAqAjz+1fUHkDI+GBr0IMgQDxtyNh0nSFAsOEvRhm3IkAkVpezvdAjQJjK/iBi6iRACz9mjgYEJkB/s837qh0nQPMnNWlPNyhAZ5yc1vNQKUDbEAREmGoqQE+Fa7E8hCtAw/nSHuGdLEA2bjqMhbctQKriofkp0S5AHlcJZ87qL0DJZThqOYIwQAMg7KALDzFAPdqf192bMUB3lFMOsCgyQLFOB0WCtTJA6wi7e1RCM0Alw26yJs8zQF99Iun4WzRAmTfWH8voNEDT8YlWnXU1QAysPY1vAjZARmbxw0GPNkCAIKX6Exw3QLraWDHmqDdA9JQMaLg1OEAuT8CeisI4QGgJdNVcTzlAosMnDC/cOUDcfdtCAWk6QA==\",\"dtype\":\"float64\",\"shape\":[50]},\"right\":{\"__ndarray__\":\"AO8viRJweT8cp4n7Js3hPy13AOm2s/E/zBo8VNqA+j8237vf/qYBQAWxWZWQDQZA1IL3SiJ0CkCkVJUAtNoOQDqTGduioBFAInzotevTE0AJZbeQNAcWQPFNhmt9OhhA2TZVRsZtGkDAHyQhD6EcQKgI8/tX1B5AyPhga9CDIEA8bcjYdJ0hQLDhL0YZtyJAJFaXs73QI0CYyv4gYuokQAs/Zo4GBCZAf7PN+6odJ0DzJzVpTzcoQGecnNbzUClA2xAERJhqKkBPhWuxPIQrQMP50h7hnSxANm46jIW3LUCq4qH5KdEuQB5XCWfO6i9AyWU4ajmCMEADIOygCw8xQD3an9fdmzFAd5RTDrAoMkCxTgdFgrUyQOsIu3tUQjNAJcNusibPM0BffSLp+Fs0QJk31h/L6DRA0/GJVp11NUAMrD2NbwI2QEZm8cNBjzZAgCCl+hMcN0C62lgx5qg3QPSUDGi4NThALk/AnorCOEBoCXTVXE85QKLDJwwv3DlA3H3bQgFpOkAWOI950/U6QA==\",\"dtype\":\"float64\",\"shape\":[50]},\"top\":{\"__ndarray__\":\"XeVF3vjjHD/qqkwFJd82P1uv64p7DkI/XcqYNDp5Vz+4eu9+3b9vP2HYJGmtSnU/mVr0q1jigj+rE6vzTI2MP/BepCqBlJM/SnB1HvXfmz9+PHMKjGOhP5ERQrtmsaY/xQjztufPqj+lVShDV1ivPyJVmA2mA7I/FT3hTZmysz8TFWWIwyW2P3RqyqrzoLc/NpdFxEBAuT/+NayssUy6PwPUheNWG7o/0wa65ZFluT+8H/5WavS4P9Qn8BCuCbg/f8kLg247tj/d20c2Cr+0P2zdMTIRybI/2+9t5axMsT9J+iim9yCvP47Ij8p0gKo/DKq/U1mhpT82g960O76iP8dlDLfegp0/V8NSmoCQmD9L0lqH7RySP3GR27Ch9Y4/+SZjX+LLhj8JgYZ1J2WCP0RA9qUJu3k/+Qu2tSNhcT8rbLSm+qplPzW3vtYANWI/aDgjWoSUWT+SZxUhpHtKP8vp5GNPEzg/PO6D6aVCMz/nqkwFJd82P1rlRd744xw/PO6D6aVCAz9a5UXe+OMMPw==\",\"dtype\":\"float64\",\"shape\":[50]}},\"selected\":{\"id\":\"30175\"},\"selection_policy\":{\"id\":\"30174\"}},\"id\":\"27545\",\"type\":\"ColumnDataSource\"},{\"attributes\":{\"bottom\":{\"value\":0},\"fill_alpha\":{\"value\":0.5},\"fill_color\":{\"value\":\"navy\"},\"left\":{\"field\":\"left\"},\"line_alpha\":{\"value\":0.5},\"line_color\":{\"value\":\"white\"},\"right\":{\"field\":\"right\"},\"top\":{\"field\":\"top\"}},\"id\":\"27546\",\"type\":\"Quad\"},{\"attributes\":{\"text\":\"mutations = 5\"},\"id\":\"27526\",\"type\":\"Title\"},{\"attributes\":{\"axis_label\":\"\\u0394E [k_BT]\",\"formatter\":{\"id\":\"30001\"},\"ticker\":{\"id\":\"27537\"}},\"id\":\"27536\",\"type\":\"LinearAxis\"},{\"attributes\":{},\"id\":\"30232\",\"type\":\"UnionRenderers\"},{\"attributes\":{},\"id\":\"27532\",\"type\":\"LinearScale\"},{\"attributes\":{},\"id\":\"27541\",\"type\":\"BasicTicker\"},{\"attributes\":{},\"id\":\"30233\",\"type\":\"Selection\"},{\"attributes\":{},\"id\":\"27534\",\"type\":\"LinearScale\"},{\"attributes\":{\"axis\":{\"id\":\"27536\"},\"ticker\":null},\"id\":\"27539\",\"type\":\"Grid\"},{\"attributes\":{},\"id\":\"30136\",\"type\":\"UnionRenderers\"},{\"attributes\":{\"axis\":{\"id\":\"27540\"},\"dimension\":1,\"ticker\":null},\"id\":\"27543\",\"type\":\"Grid\"},{\"attributes\":{\"active_drag\":\"auto\",\"active_inspect\":\"auto\",\"active_multi\":null,\"active_scroll\":\"auto\",\"active_tap\":\"auto\"},\"id\":\"27544\",\"type\":\"Toolbar\"},{\"attributes\":{},\"id\":\"30137\",\"type\":\"Selection\"},{\"attributes\":{\"line_color\":\"orange\",\"x\":{\"field\":\"x\"},\"y\":{\"field\":\"y\"}},\"id\":\"27261\",\"type\":\"Line\"},{\"attributes\":{\"line_color\":\"orange\",\"x\":{\"field\":\"x\"},\"y\":{\"field\":\"y\"}},\"id\":\"27756\",\"type\":\"Line\"},{\"attributes\":{\"fill_alpha\":0.2,\"fill_color\":\"orange\",\"x\":{\"field\":\"x\"},\"y1\":{\"field\":\"y1\"},\"y2\":{\"field\":\"y2\"}},\"id\":\"27241\",\"type\":\"VArea\"},{\"attributes\":{\"fill_alpha\":0.2,\"fill_color\":\"orange\",\"x\":{\"field\":\"x\"},\"y1\":{\"field\":\"y1\"},\"y2\":{\"field\":\"y2\"}},\"id\":\"27751\",\"type\":\"VArea\"},{\"attributes\":{\"source\":{\"id\":\"27745\"}},\"id\":\"27749\",\"type\":\"CDSView\"},{\"attributes\":{\"fill_alpha\":0.1,\"fill_color\":\"orange\",\"x\":{\"field\":\"x\"},\"y1\":{\"field\":\"y1\"},\"y2\":{\"field\":\"y2\"}},\"id\":\"27257\",\"type\":\"VArea\"},{\"attributes\":{\"line_alpha\":0.1,\"line_color\":\"orange\",\"x\":{\"field\":\"x\"},\"y\":{\"field\":\"y\"}},\"id\":\"27747\",\"type\":\"Line\"},{\"attributes\":{\"source\":{\"id\":\"27250\"}},\"id\":\"27254\",\"type\":\"CDSView\"},{\"attributes\":{\"fill_alpha\":0.1,\"fill_color\":\"orange\",\"x\":{\"field\":\"x\"},\"y1\":{\"field\":\"y1\"},\"y2\":{\"field\":\"y2\"}},\"id\":\"27752\",\"type\":\"VArea\"},{\"attributes\":{\"data\":{\"x\":[0.0,1.0],\"y1\":[0,0],\"y2\":[0.1204523954086467,0.1204523954086467]},\"selected\":{\"id\":\"30075\"},\"selection_policy\":{\"id\":\"30074\"}},\"id\":\"27255\",\"type\":\"ColumnDataSource\"},{\"attributes\":{\"data\":{\"x\":[1.0,2.0],\"y1\":[0,0],\"y2\":[0.09515698697710769,0.09515698697710769]},\"selected\":{\"id\":\"30249\"},\"selection_policy\":{\"id\":\"30248\"}},\"id\":\"27750\",\"type\":\"ColumnDataSource\"},{\"attributes\":{\"fill_alpha\":0.2,\"fill_color\":\"orange\",\"x\":{\"field\":\"x\"},\"y1\":{\"field\":\"y1\"},\"y2\":{\"field\":\"y2\"}},\"id\":\"27256\",\"type\":\"VArea\"},{\"attributes\":{\"source\":{\"id\":\"27750\"}},\"id\":\"27754\",\"type\":\"CDSView\"},{\"attributes\":{\"source\":{\"id\":\"27255\"}},\"id\":\"27259\",\"type\":\"CDSView\"},{\"attributes\":{\"fill_alpha\":0.1,\"fill_color\":\"orange\",\"x\":{\"field\":\"x\"},\"y1\":{\"field\":\"y1\"},\"y2\":{\"field\":\"y2\"}},\"id\":\"27767\",\"type\":\"VArea\"},{\"attributes\":{\"data\":{\"x\":[1.0,1.0],\"y\":[0,0.1204523954086467]},\"selected\":{\"id\":\"30077\"},\"selection_policy\":{\"id\":\"30076\"}},\"id\":\"27260\",\"type\":\"ColumnDataSource\"},{\"attributes\":{\"line_color\":\"orange\",\"x\":{\"field\":\"x\"},\"y\":{\"field\":\"y\"}},\"id\":\"27761\",\"type\":\"Line\"},{\"attributes\":{\"line_color\":\"orange\",\"x\":{\"field\":\"x\"},\"y\":{\"field\":\"y\"}},\"id\":\"27266\",\"type\":\"Line\"},{\"attributes\":{\"data_source\":{\"id\":\"27270\"},\"glyph\":{\"id\":\"27271\"},\"hover_glyph\":null,\"muted_glyph\":null,\"nonselection_glyph\":{\"id\":\"27272\"},\"selection_glyph\":null,\"view\":{\"id\":\"27274\"}},\"id\":\"27273\",\"type\":\"GlyphRenderer\"},{\"attributes\":{\"data\":{\"x\":[2.0,2.0],\"y\":[0,0.09515698697710769]},\"selected\":{\"id\":\"30251\"},\"selection_policy\":{\"id\":\"30250\"}},\"id\":\"27755\",\"type\":\"ColumnDataSource\"},{\"attributes\":{\"data_source\":{\"id\":\"27260\"},\"glyph\":{\"id\":\"27261\"},\"hover_glyph\":null,\"muted_glyph\":null,\"nonselection_glyph\":{\"id\":\"27262\"},\"selection_glyph\":null,\"view\":{\"id\":\"27264\"}},\"id\":\"27263\",\"type\":\"GlyphRenderer\"},{\"attributes\":{\"data_source\":{\"id\":\"27765\"},\"glyph\":{\"id\":\"27766\"},\"hover_glyph\":null,\"muted_glyph\":null,\"nonselection_glyph\":{\"id\":\"27767\"},\"selection_glyph\":null,\"view\":{\"id\":\"27769\"}},\"id\":\"27768\",\"type\":\"GlyphRenderer\"},{\"attributes\":{\"data_source\":{\"id\":\"27755\"},\"glyph\":{\"id\":\"27756\"},\"hover_glyph\":null,\"muted_glyph\":null,\"nonselection_glyph\":{\"id\":\"27757\"},\"selection_glyph\":null,\"view\":{\"id\":\"27759\"}},\"id\":\"27758\",\"type\":\"GlyphRenderer\"},{\"attributes\":{\"fill_alpha\":0.1,\"fill_color\":\"orange\",\"x\":{\"field\":\"x\"},\"y1\":{\"field\":\"y1\"},\"y2\":{\"field\":\"y2\"}},\"id\":\"27272\",\"type\":\"VArea\"},{\"attributes\":{\"data\":{\"x\":[3.0,3.0],\"y\":[0,0.09515698697710769]},\"selected\":{\"id\":\"30253\"},\"selection_policy\":{\"id\":\"30252\"}},\"id\":\"27760\",\"type\":\"ColumnDataSource\"},{\"attributes\":{\"data\":{\"x\":[2.0,2.0],\"y\":[0,0.1204523954086467]},\"selected\":{\"id\":\"30079\"},\"selection_policy\":{\"id\":\"30078\"}},\"id\":\"27265\",\"type\":\"ColumnDataSource\"},{\"attributes\":{\"line_alpha\":0.1,\"line_color\":\"orange\",\"x\":{\"field\":\"x\"},\"y\":{\"field\":\"y\"}},\"id\":\"27757\",\"type\":\"Line\"},{\"attributes\":{\"line_alpha\":0.1,\"line_color\":\"orange\",\"x\":{\"field\":\"x\"},\"y\":{\"field\":\"y\"}},\"id\":\"27262\",\"type\":\"Line\"},{\"attributes\":{\"source\":{\"id\":\"27755\"}},\"id\":\"27759\",\"type\":\"CDSView\"},{\"attributes\":{\"data_source\":{\"id\":\"27760\"},\"glyph\":{\"id\":\"27761\"},\"hover_glyph\":null,\"muted_glyph\":null,\"nonselection_glyph\":{\"id\":\"27762\"},\"selection_glyph\":null,\"view\":{\"id\":\"27764\"}},\"id\":\"27763\",\"type\":\"GlyphRenderer\"},{\"attributes\":{\"source\":{\"id\":\"27260\"}},\"id\":\"27264\",\"type\":\"CDSView\"},{\"attributes\":{\"data_source\":{\"id\":\"27265\"},\"glyph\":{\"id\":\"27266\"},\"hover_glyph\":null,\"muted_glyph\":null,\"nonselection_glyph\":{\"id\":\"27267\"},\"selection_glyph\":null,\"view\":{\"id\":\"27269\"}},\"id\":\"27268\",\"type\":\"GlyphRenderer\"},{\"attributes\":{\"fill_alpha\":0.1,\"fill_color\":\"orange\",\"x\":{\"field\":\"x\"},\"y1\":{\"field\":\"y1\"},\"y2\":{\"field\":\"y2\"}},\"id\":\"27797\",\"type\":\"VArea\"},{\"attributes\":{\"line_color\":\"orange\",\"x\":{\"field\":\"x\"},\"y\":{\"field\":\"y\"}},\"id\":\"27276\",\"type\":\"Line\"},{\"attributes\":{\"fill_alpha\":0.2,\"fill_color\":\"orange\",\"x\":{\"field\":\"x\"},\"y1\":{\"field\":\"y1\"},\"y2\":{\"field\":\"y2\"}},\"id\":\"27766\",\"type\":\"VArea\"},{\"attributes\":{\"fill_alpha\":0.2,\"fill_color\":\"orange\",\"x\":{\"field\":\"x\"},\"y1\":{\"field\":\"y1\"},\"y2\":{\"field\":\"y2\"}},\"id\":\"27271\",\"type\":\"VArea\"},{\"attributes\":{\"line_alpha\":0.1,\"line_color\":\"orange\",\"x\":{\"field\":\"x\"},\"y\":{\"field\":\"y\"}},\"id\":\"27762\",\"type\":\"Line\"},{\"attributes\":{\"line_alpha\":0.1,\"line_color\":\"orange\",\"x\":{\"field\":\"x\"},\"y\":{\"field\":\"y\"}},\"id\":\"27267\",\"type\":\"Line\"},{\"attributes\":{\"source\":{\"id\":\"27760\"}},\"id\":\"27764\",\"type\":\"CDSView\"},{\"attributes\":{\"source\":{\"id\":\"27265\"}},\"id\":\"27269\",\"type\":\"CDSView\"},{\"attributes\":{\"data\":{\"x\":[2.0,3.0],\"y1\":[0,0],\"y2\":[0.09515698697710769,0.09515698697710769]},\"selected\":{\"id\":\"30255\"},\"selection_policy\":{\"id\":\"30254\"}},\"id\":\"27765\",\"type\":\"ColumnDataSource\"},{\"attributes\":{\"data\":{\"x\":[1.0,2.0],\"y1\":[0,0],\"y2\":[0.1204523954086467,0.1204523954086467]},\"selected\":{\"id\":\"30081\"},\"selection_policy\":{\"id\":\"30080\"}},\"id\":\"27270\",\"type\":\"ColumnDataSource\"},{\"attributes\":{\"fill_alpha\":0.2,\"fill_color\":\"orange\",\"x\":{\"field\":\"x\"},\"y1\":{\"field\":\"y1\"},\"y2\":{\"field\":\"y2\"}},\"id\":\"27781\",\"type\":\"VArea\"},{\"attributes\":{\"source\":{\"id\":\"27270\"}},\"id\":\"27274\",\"type\":\"CDSView\"},{\"attributes\":{\"data\":{\"x\":[3.0,4.0],\"y1\":[0,0],\"y2\":[0.09515698697710769,0.09515698697710769]},\"selected\":{\"id\":\"30261\"},\"selection_policy\":{\"id\":\"30260\"}},\"id\":\"27780\",\"type\":\"ColumnDataSource\"},{\"attributes\":{\"fill_alpha\":0.1,\"fill_color\":\"orange\",\"x\":{\"field\":\"x\"},\"y1\":{\"field\":\"y1\"},\"y2\":{\"field\":\"y2\"}},\"id\":\"27287\",\"type\":\"VArea\"},{\"attributes\":{\"line_color\":\"orange\",\"x\":{\"field\":\"x\"},\"y\":{\"field\":\"y\"}},\"id\":\"27791\",\"type\":\"Line\"},{\"attributes\":{\"line_color\":\"orange\",\"x\":{\"field\":\"x\"},\"y\":{\"field\":\"y\"}},\"id\":\"27281\",\"type\":\"Line\"},{\"attributes\":{\"fill_alpha\":0.1,\"fill_color\":\"orange\",\"x\":{\"field\":\"x\"},\"y1\":{\"field\":\"y1\"},\"y2\":{\"field\":\"y2\"}},\"id\":\"27782\",\"type\":\"VArea\"},{\"attributes\":{\"data\":{\"x\":[2.0,2.0],\"y\":[0,0.1204523954086467]},\"selected\":{\"id\":\"30083\"},\"selection_policy\":{\"id\":\"30082\"}},\"id\":\"27275\",\"type\":\"ColumnDataSource\"},{\"attributes\":{\"line_color\":\"orange\",\"x\":{\"field\":\"x\"},\"y\":{\"field\":\"y\"}},\"id\":\"27786\",\"type\":\"Line\"},{\"attributes\":{\"data_source\":{\"id\":\"27285\"},\"glyph\":{\"id\":\"27286\"},\"hover_glyph\":null,\"muted_glyph\":null,\"nonselection_glyph\":{\"id\":\"27287\"},\"selection_glyph\":null,\"view\":{\"id\":\"27289\"}},\"id\":\"27288\",\"type\":\"GlyphRenderer\"},{\"attributes\":{\"source\":{\"id\":\"27780\"}},\"id\":\"27784\",\"type\":\"CDSView\"},{\"attributes\":{\"data_source\":{\"id\":\"27275\"},\"glyph\":{\"id\":\"27276\"},\"hover_glyph\":null,\"muted_glyph\":null,\"nonselection_glyph\":{\"id\":\"27277\"},\"selection_glyph\":null,\"view\":{\"id\":\"27279\"}},\"id\":\"27278\",\"type\":\"GlyphRenderer\"},{\"attributes\":{\"data\":{\"x\":[3.0,3.0],\"y\":[0,0.1204523954086467]},\"selected\":{\"id\":\"30085\"},\"selection_policy\":{\"id\":\"30084\"}},\"id\":\"27280\",\"type\":\"ColumnDataSource\"},{\"attributes\":{\"data\":{\"x\":[4.0,4.0],\"y\":[0,0.09515698697710769]},\"selected\":{\"id\":\"30263\"},\"selection_policy\":{\"id\":\"30262\"}},\"id\":\"27785\",\"type\":\"ColumnDataSource\"},{\"attributes\":{\"data_source\":{\"id\":\"27795\"},\"glyph\":{\"id\":\"27796\"},\"hover_glyph\":null,\"muted_glyph\":null,\"nonselection_glyph\":{\"id\":\"27797\"},\"selection_glyph\":null,\"view\":{\"id\":\"27799\"}},\"id\":\"27798\",\"type\":\"GlyphRenderer\"},{\"attributes\":{\"data_source\":{\"id\":\"27785\"},\"glyph\":{\"id\":\"27786\"},\"hover_glyph\":null,\"muted_glyph\":null,\"nonselection_glyph\":{\"id\":\"27787\"},\"selection_glyph\":null,\"view\":{\"id\":\"27789\"}},\"id\":\"27788\",\"type\":\"GlyphRenderer\"},{\"attributes\":{\"line_alpha\":0.1,\"line_color\":\"orange\",\"x\":{\"field\":\"x\"},\"y\":{\"field\":\"y\"}},\"id\":\"27277\",\"type\":\"Line\"},{\"attributes\":{\"source\":{\"id\":\"27075\"}},\"id\":\"27079\",\"type\":\"CDSView\"},{\"attributes\":{\"source\":{\"id\":\"27275\"}},\"id\":\"27279\",\"type\":\"CDSView\"},{\"attributes\":{\"data\":{\"x\":[5.0,5.0],\"y\":[0,0.09515698697710769]},\"selected\":{\"id\":\"30265\"},\"selection_policy\":{\"id\":\"30264\"}},\"id\":\"27790\",\"type\":\"ColumnDataSource\"},{\"attributes\":{\"data_source\":{\"id\":\"27280\"},\"glyph\":{\"id\":\"27281\"},\"hover_glyph\":null,\"muted_glyph\":null,\"nonselection_glyph\":{\"id\":\"27282\"},\"selection_glyph\":null,\"view\":{\"id\":\"27284\"}},\"id\":\"27283\",\"type\":\"GlyphRenderer\"},{\"attributes\":{\"source\":{\"id\":\"27080\"}},\"id\":\"27084\",\"type\":\"CDSView\"},{\"attributes\":{\"line_color\":\"orange\",\"x\":{\"field\":\"x\"},\"y\":{\"field\":\"y\"}},\"id\":\"27291\",\"type\":\"Line\"},{\"attributes\":{\"line_alpha\":0.1,\"line_color\":\"orange\",\"x\":{\"field\":\"x\"},\"y\":{\"field\":\"y\"}},\"id\":\"27787\",\"type\":\"Line\"},{\"attributes\":{\"data\":{\"x\":[2.0,2.0],\"y\":[0,0.18390112513315407]},\"selected\":{\"id\":\"30023\"},\"selection_policy\":{\"id\":\"30022\"}},\"id\":\"27105\",\"type\":\"ColumnDataSource\"},{\"attributes\":{\"source\":{\"id\":\"27785\"}},\"id\":\"27789\",\"type\":\"CDSView\"},{\"attributes\":{\"data_source\":{\"id\":\"27790\"},\"glyph\":{\"id\":\"27791\"},\"hover_glyph\":null,\"muted_glyph\":null,\"nonselection_glyph\":{\"id\":\"27792\"},\"selection_glyph\":null,\"view\":{\"id\":\"27794\"}},\"id\":\"27793\",\"type\":\"GlyphRenderer\"},{\"attributes\":{\"source\":{\"id\":\"27090\"}},\"id\":\"27094\",\"type\":\"CDSView\"},{\"attributes\":{\"fill_alpha\":0.2,\"fill_color\":\"orange\",\"x\":{\"field\":\"x\"},\"y1\":{\"field\":\"y1\"},\"y2\":{\"field\":\"y2\"}},\"id\":\"27286\",\"type\":\"VArea\"},{\"attributes\":{\"line_alpha\":0.1,\"line_color\":\"orange\",\"x\":{\"field\":\"x\"},\"y\":{\"field\":\"y\"}},\"id\":\"27282\",\"type\":\"Line\"},{\"attributes\":{\"line_color\":\"orange\",\"x\":{\"field\":\"x\"},\"y\":{\"field\":\"y\"}},\"id\":\"27801\",\"type\":\"Line\"},{\"attributes\":{\"line_alpha\":0.1,\"line_color\":\"orange\",\"x\":{\"field\":\"x\"},\"y\":{\"field\":\"y\"}},\"id\":\"27077\",\"type\":\"Line\"},{\"attributes\":{\"source\":{\"id\":\"27280\"}},\"id\":\"27284\",\"type\":\"CDSView\"},{\"attributes\":{\"data\":{\"x\":[2.0,3.0],\"y1\":[0,0],\"y2\":[0.1204523954086467,0.1204523954086467]},\"selected\":{\"id\":\"30087\"},\"selection_policy\":{\"id\":\"30086\"}},\"id\":\"27285\",\"type\":\"ColumnDataSource\"},{\"attributes\":{\"fill_alpha\":0.2,\"fill_color\":\"orange\",\"x\":{\"field\":\"x\"},\"y1\":{\"field\":\"y1\"},\"y2\":{\"field\":\"y2\"}},\"id\":\"27796\",\"type\":\"VArea\"},{\"attributes\":{\"data_source\":{\"id\":\"27095\"},\"glyph\":{\"id\":\"27096\"},\"hover_glyph\":null,\"muted_glyph\":null,\"nonselection_glyph\":{\"id\":\"27097\"},\"selection_glyph\":null,\"view\":{\"id\":\"27099\"}},\"id\":\"27098\",\"type\":\"GlyphRenderer\"},{\"attributes\":{\"source\":{\"id\":\"27285\"}},\"id\":\"27289\",\"type\":\"CDSView\"},{\"attributes\":{\"line_alpha\":0.1,\"line_color\":\"orange\",\"x\":{\"field\":\"x\"},\"y\":{\"field\":\"y\"}},\"id\":\"27792\",\"type\":\"Line\"},{\"attributes\":{\"fill_alpha\":0.2,\"fill_color\":\"orange\",\"x\":{\"field\":\"x\"},\"y1\":{\"field\":\"y1\"},\"y2\":{\"field\":\"y2\"}},\"id\":\"27081\",\"type\":\"VArea\"},{\"attributes\":{\"fill_alpha\":0.1,\"fill_color\":\"orange\",\"x\":{\"field\":\"x\"},\"y1\":{\"field\":\"y1\"},\"y2\":{\"field\":\"y2\"}},\"id\":\"27302\",\"type\":\"VArea\"},{\"attributes\":{\"source\":{\"id\":\"27790\"}},\"id\":\"27794\",\"type\":\"CDSView\"},{\"attributes\":{\"line_alpha\":0.1,\"line_color\":\"orange\",\"x\":{\"field\":\"x\"},\"y\":{\"field\":\"y\"}},\"id\":\"27092\",\"type\":\"Line\"},{\"attributes\":{\"line_color\":\"orange\",\"x\":{\"field\":\"x\"},\"y\":{\"field\":\"y\"}},\"id\":\"27296\",\"type\":\"Line\"},{\"attributes\":{\"data\":{\"x\":[4.0,5.0],\"y1\":[0,0],\"y2\":[0.09515698697710769,0.09515698697710769]},\"selected\":{\"id\":\"30267\"},\"selection_policy\":{\"id\":\"30266\"}},\"id\":\"27795\",\"type\":\"ColumnDataSource\"},{\"attributes\":{\"source\":{\"id\":\"27095\"}},\"id\":\"27099\",\"type\":\"CDSView\"},{\"attributes\":{\"source\":{\"id\":\"27795\"}},\"id\":\"27799\",\"type\":\"CDSView\"},{\"attributes\":{\"line_color\":\"orange\",\"x\":{\"field\":\"x\"},\"y\":{\"field\":\"y\"}},\"id\":\"27101\",\"type\":\"Line\"},{\"attributes\":{\"data\":{\"x\":[3.0,3.0],\"y\":[0,0.1204523954086467]},\"selected\":{\"id\":\"30089\"},\"selection_policy\":{\"id\":\"30088\"}},\"id\":\"27290\",\"type\":\"ColumnDataSource\"},{\"attributes\":{\"fill_alpha\":0.1,\"fill_color\":\"orange\",\"x\":{\"field\":\"x\"},\"y1\":{\"field\":\"y1\"},\"y2\":{\"field\":\"y2\"}},\"id\":\"27812\",\"type\":\"VArea\"},{\"attributes\":{\"data_source\":{\"id\":\"27300\"},\"glyph\":{\"id\":\"27301\"},\"hover_glyph\":null,\"muted_glyph\":null,\"nonselection_glyph\":{\"id\":\"27302\"},\"selection_glyph\":null,\"view\":{\"id\":\"27304\"}},\"id\":\"27303\",\"type\":\"GlyphRenderer\"},{\"attributes\":{\"fill_alpha\":0.1,\"fill_color\":\"orange\",\"x\":{\"field\":\"x\"},\"y1\":{\"field\":\"y1\"},\"y2\":{\"field\":\"y2\"}},\"id\":\"27097\",\"type\":\"VArea\"},{\"attributes\":{\"line_color\":\"orange\",\"x\":{\"field\":\"x\"},\"y\":{\"field\":\"y\"}},\"id\":\"27806\",\"type\":\"Line\"},{\"attributes\":{\"data_source\":{\"id\":\"27290\"},\"glyph\":{\"id\":\"27291\"},\"hover_glyph\":null,\"muted_glyph\":null,\"nonselection_glyph\":{\"id\":\"27292\"},\"selection_glyph\":null,\"view\":{\"id\":\"27294\"}},\"id\":\"27293\",\"type\":\"GlyphRenderer\"},{\"attributes\":{\"fill_alpha\":0.2,\"fill_color\":\"orange\",\"x\":{\"field\":\"x\"},\"y1\":{\"field\":\"y1\"},\"y2\":{\"field\":\"y2\"}},\"id\":\"27096\",\"type\":\"VArea\"},{\"attributes\":{\"data\":{\"x\":[4.0,4.0],\"y\":[0,0.1204523954086467]},\"selected\":{\"id\":\"30091\"},\"selection_policy\":{\"id\":\"30090\"}},\"id\":\"27295\",\"type\":\"ColumnDataSource\"},{\"attributes\":{\"data\":{\"x\":[5.0,5.0],\"y\":[0,0.09515698697710769]},\"selected\":{\"id\":\"30269\"},\"selection_policy\":{\"id\":\"30268\"}},\"id\":\"27800\",\"type\":\"ColumnDataSource\"},{\"attributes\":{\"data_source\":{\"id\":\"27810\"},\"glyph\":{\"id\":\"27811\"},\"hover_glyph\":null,\"muted_glyph\":null,\"nonselection_glyph\":{\"id\":\"27812\"},\"selection_glyph\":null,\"view\":{\"id\":\"27814\"}},\"id\":\"27813\",\"type\":\"GlyphRenderer\"},{\"attributes\":{\"data_source\":{\"id\":\"27800\"},\"glyph\":{\"id\":\"27801\"},\"hover_glyph\":null,\"muted_glyph\":null,\"nonselection_glyph\":{\"id\":\"27802\"},\"selection_glyph\":null,\"view\":{\"id\":\"27804\"}},\"id\":\"27803\",\"type\":\"GlyphRenderer\"},{\"attributes\":{\"bottom\":{\"value\":0},\"fill_alpha\":{\"value\":0.1},\"fill_color\":{\"value\":\"navy\"},\"left\":{\"field\":\"left\"},\"line_alpha\":{\"value\":0.1},\"line_color\":{\"value\":\"white\"},\"right\":{\"field\":\"right\"},\"top\":{\"field\":\"top\"}},\"id\":\"27067\",\"type\":\"Quad\"},{\"attributes\":{\"line_alpha\":0.1,\"line_color\":\"orange\",\"x\":{\"field\":\"x\"},\"y\":{\"field\":\"y\"}},\"id\":\"27292\",\"type\":\"Line\"},{\"attributes\":{\"source\":{\"id\":\"27290\"}},\"id\":\"27294\",\"type\":\"CDSView\"},{\"attributes\":{\"data\":{\"x\":[6.0,6.0],\"y\":[0,0.09515698697710769]},\"selected\":{\"id\":\"30271\"},\"selection_policy\":{\"id\":\"30270\"}},\"id\":\"27805\",\"type\":\"ColumnDataSource\"},{\"attributes\":{\"data_source\":{\"id\":\"27295\"},\"glyph\":{\"id\":\"27296\"},\"hover_glyph\":null,\"muted_glyph\":null,\"nonselection_glyph\":{\"id\":\"27297\"},\"selection_glyph\":null,\"view\":{\"id\":\"27299\"}},\"id\":\"27298\",\"type\":\"GlyphRenderer\"},{\"attributes\":{\"data\":{\"x\":[0.0,1.0],\"y1\":[0,0],\"y2\":[0.18390112513315407,0.18390112513315407]},\"selected\":{\"id\":\"30019\"},\"selection_policy\":{\"id\":\"30018\"}},\"id\":\"27095\",\"type\":\"ColumnDataSource\"},{\"attributes\":{\"data\":{\"x\":[-1.0,0.0],\"y1\":[0,0],\"y2\":[0.18390112513315407,0.18390112513315407]},\"selected\":{\"id\":\"30013\"},\"selection_policy\":{\"id\":\"30012\"}},\"id\":\"27080\",\"type\":\"ColumnDataSource\"},{\"attributes\":{\"line_color\":\"orange\",\"x\":{\"field\":\"x\"},\"y\":{\"field\":\"y\"}},\"id\":\"27306\",\"type\":\"Line\"},{\"attributes\":{\"line_alpha\":0.1,\"line_color\":\"orange\",\"x\":{\"field\":\"x\"},\"y\":{\"field\":\"y\"}},\"id\":\"27802\",\"type\":\"Line\"},{\"attributes\":{\"line_color\":\"orange\",\"x\":{\"field\":\"x\"},\"y\":{\"field\":\"y\"}},\"id\":\"27091\",\"type\":\"Line\"},{\"attributes\":{\"source\":{\"id\":\"27800\"}},\"id\":\"27804\",\"type\":\"CDSView\"},{\"attributes\":{\"data_source\":{\"id\":\"27805\"},\"glyph\":{\"id\":\"27806\"},\"hover_glyph\":null,\"muted_glyph\":null,\"nonselection_glyph\":{\"id\":\"27807\"},\"selection_glyph\":null,\"view\":{\"id\":\"27809\"}},\"id\":\"27808\",\"type\":\"GlyphRenderer\"},{\"attributes\":{\"data\":{\"x\":[0.0,0.0],\"y\":[0,0.18390112513315407]},\"selected\":{\"id\":\"30015\"},\"selection_policy\":{\"id\":\"30014\"}},\"id\":\"27085\",\"type\":\"ColumnDataSource\"},{\"attributes\":{\"fill_alpha\":0.2,\"fill_color\":\"orange\",\"x\":{\"field\":\"x\"},\"y1\":{\"field\":\"y1\"},\"y2\":{\"field\":\"y2\"}},\"id\":\"27301\",\"type\":\"VArea\"},{\"attributes\":{\"source\":{\"id\":\"27065\"}},\"id\":\"27069\",\"type\":\"CDSView\"},{\"attributes\":{\"line_alpha\":0.1,\"line_color\":\"orange\",\"x\":{\"field\":\"x\"},\"y\":{\"field\":\"y\"}},\"id\":\"27297\",\"type\":\"Line\"},{\"attributes\":{\"line_color\":\"orange\",\"x\":{\"field\":\"x\"},\"y\":{\"field\":\"y\"}},\"id\":\"27816\",\"type\":\"Line\"},{\"attributes\":{\"fill_alpha\":0.1,\"fill_color\":\"orange\",\"x\":{\"field\":\"x\"},\"y1\":{\"field\":\"y1\"},\"y2\":{\"field\":\"y2\"}},\"id\":\"27082\",\"type\":\"VArea\"},{\"attributes\":{\"source\":{\"id\":\"27295\"}},\"id\":\"27299\",\"type\":\"CDSView\"},{\"attributes\":{\"line_color\":\"orange\",\"x\":{\"field\":\"x\"},\"y\":{\"field\":\"y\"}},\"id\":\"27076\",\"type\":\"Line\"},{\"attributes\":{\"data\":{\"x\":[3.0,4.0],\"y1\":[0,0],\"y2\":[0.1204523954086467,0.1204523954086467]},\"selected\":{\"id\":\"30093\"},\"selection_policy\":{\"id\":\"30092\"}},\"id\":\"27300\",\"type\":\"ColumnDataSource\"},{\"attributes\":{\"fill_alpha\":0.2,\"fill_color\":\"orange\",\"x\":{\"field\":\"x\"},\"y1\":{\"field\":\"y1\"},\"y2\":{\"field\":\"y2\"}},\"id\":\"27811\",\"type\":\"VArea\"},{\"attributes\":{\"source\":{\"id\":\"27300\"}},\"id\":\"27304\",\"type\":\"CDSView\"},{\"attributes\":{\"line_alpha\":0.1,\"line_color\":\"orange\",\"x\":{\"field\":\"x\"},\"y\":{\"field\":\"y\"}},\"id\":\"27807\",\"type\":\"Line\"},{\"attributes\":{\"data\":{\"x\":[1.0,1.0],\"y\":[0,0.18390112513315407]},\"selected\":{\"id\":\"30017\"},\"selection_policy\":{\"id\":\"30016\"}},\"id\":\"27090\",\"type\":\"ColumnDataSource\"},{\"attributes\":{\"fill_alpha\":0.1,\"fill_color\":\"orange\",\"x\":{\"field\":\"x\"},\"y1\":{\"field\":\"y1\"},\"y2\":{\"field\":\"y2\"}},\"id\":\"27317\",\"type\":\"VArea\"},{\"attributes\":{\"source\":{\"id\":\"27805\"}},\"id\":\"27809\",\"type\":\"CDSView\"},{\"attributes\":{\"data_source\":{\"id\":\"27085\"},\"glyph\":{\"id\":\"27086\"},\"hover_glyph\":null,\"muted_glyph\":null,\"nonselection_glyph\":{\"id\":\"27087\"},\"selection_glyph\":null,\"view\":{\"id\":\"27089\"}},\"id\":\"27088\",\"type\":\"GlyphRenderer\"},{\"attributes\":{\"line_color\":\"orange\",\"x\":{\"field\":\"x\"},\"y\":{\"field\":\"y\"}},\"id\":\"27311\",\"type\":\"Line\"},{\"attributes\":{\"data\":{\"x\":[5.0,6.0],\"y1\":[0,0],\"y2\":[0.09515698697710769,0.09515698697710769]},\"selected\":{\"id\":\"30273\"},\"selection_policy\":{\"id\":\"30272\"}},\"id\":\"27810\",\"type\":\"ColumnDataSource\"},{\"attributes\":{\"background_fill_color\":\"#fafafa\",\"below\":[{\"id\":\"27216\"}],\"center\":[{\"id\":\"27219\"},{\"id\":\"27223\"}],\"frame_height\":200,\"frame_width\":200,\"left\":[{\"id\":\"27220\"}],\"renderers\":[{\"id\":\"27228\"},{\"id\":\"27233\"},{\"id\":\"27238\"},{\"id\":\"27243\"},{\"id\":\"27248\"},{\"id\":\"27253\"},{\"id\":\"27258\"},{\"id\":\"27263\"},{\"id\":\"27268\"},{\"id\":\"27273\"},{\"id\":\"27278\"},{\"id\":\"27283\"},{\"id\":\"27288\"},{\"id\":\"27293\"},{\"id\":\"27298\"},{\"id\":\"27303\"},{\"id\":\"27308\"},{\"id\":\"27313\"},{\"id\":\"27318\"},{\"id\":\"27323\"},{\"id\":\"27328\"},{\"id\":\"27333\"},{\"id\":\"27338\"},{\"id\":\"27343\"},{\"id\":\"27348\"},{\"id\":\"27353\"},{\"id\":\"27358\"},{\"id\":\"27363\"}],\"title\":{\"id\":\"27206\"},\"toolbar\":{\"id\":\"27224\"},\"x_range\":{\"id\":\"27208\"},\"x_scale\":{\"id\":\"27212\"},\"y_range\":{\"id\":\"27210\"},\"y_scale\":{\"id\":\"27214\"}},\"id\":\"27205\",\"subtype\":\"Figure\",\"type\":\"Plot\"},{\"attributes\":{\"source\":{\"id\":\"27810\"}},\"id\":\"27814\",\"type\":\"CDSView\"},{\"attributes\":{\"data_source\":{\"id\":\"27105\"},\"glyph\":{\"id\":\"27106\"},\"hover_glyph\":null,\"muted_glyph\":null,\"nonselection_glyph\":{\"id\":\"27107\"},\"selection_glyph\":null,\"view\":{\"id\":\"27109\"}},\"id\":\"27108\",\"type\":\"GlyphRenderer\"},{\"attributes\":{\"data\":{\"x\":[4.0,4.0],\"y\":[0,0.1204523954086467]},\"selected\":{\"id\":\"30095\"},\"selection_policy\":{\"id\":\"30094\"}},\"id\":\"27305\",\"type\":\"ColumnDataSource\"},{\"attributes\":{\"fill_alpha\":0.1,\"fill_color\":\"orange\",\"x\":{\"field\":\"x\"},\"y1\":{\"field\":\"y1\"},\"y2\":{\"field\":\"y2\"}},\"id\":\"27827\",\"type\":\"VArea\"},{\"attributes\":{\"data_source\":{\"id\":\"27315\"},\"glyph\":{\"id\":\"27316\"},\"hover_glyph\":null,\"muted_glyph\":null,\"nonselection_glyph\":{\"id\":\"27317\"},\"selection_glyph\":null,\"view\":{\"id\":\"27319\"}},\"id\":\"27318\",\"type\":\"GlyphRenderer\"},{\"attributes\":{\"line_color\":\"orange\",\"x\":{\"field\":\"x\"},\"y\":{\"field\":\"y\"}},\"id\":\"27821\",\"type\":\"Line\"},{\"attributes\":{\"data_source\":{\"id\":\"27305\"},\"glyph\":{\"id\":\"27306\"},\"hover_glyph\":null,\"muted_glyph\":null,\"nonselection_glyph\":{\"id\":\"27307\"},\"selection_glyph\":null,\"view\":{\"id\":\"27309\"}},\"id\":\"27308\",\"type\":\"GlyphRenderer\"},{\"attributes\":{\"data\":{\"left\":{\"__ndarray__\":\"WpNVrkO38r8QUO0NL1Hsv2x5L7/WM+O/kEXj4Pws1L+AhHk2xCSfvwAVFFpkSNA/JOHHe4pB4T/It4XK4l7qPzbHoYwdvvE/iLIAtMlM9j/anV/bddv6PyyJvgIiav8/P7oOFWf8AUDoL74ovUMEQJGlbTwTiwZAOxsdUGnSCEDjkMxjvxkLQIsGfHcVYQ1ANXwri2uoD0DweG3P4PcQQMQzRdmLGxJAmO4c4zY/E0BsqfTs4WIUQEJkzPaMhhVAFh+kADiqFkDq2XsK480XQL6UUxSO8RhAlE8rHjkVGkBoCgMo5DgbQDzF2jGPXBxAEoCyOzqAHUDmOopF5aMeQLr1YU+Qxx9AR9icrJ11IECxtYgxcwchQByTdLZImSFAhnBgOx4rIkDwTUzA87wiQFsrOEXJTiNAxQgkyp7gI0Av5g9PdHIkQJnD+9NJBCVAA6HnWB+WJUBuftPd9CcmQNhbv2LKuSZAQjmr559LJ0CtFpdsdd0nQBf0gvFKbyhAgdFudiABKUDrrlr79ZIpQA==\",\"dtype\":\"float64\",\"shape\":[50]},\"right\":{\"__ndarray__\":\"EFDtDS9R7L9seS+/1jPjv5BF4+D8LNS/gIR5NsQkn78AFRRaZEjQPyThx3uKQeE/yLeFyuJe6j82x6GMHb7xP4iyALTJTPY/2p1f23Xb+j8sib4CImr/Pz+6DhVn/AFA6C++KL1DBECRpW08E4sGQDsbHVBp0ghA45DMY78ZC0CLBnx3FWENQDV8K4trqA9A8Hhtz+D3EEDEM0XZixsSQJjuHOM2PxNAbKn07OFiFEBCZMz2jIYVQBYfpAA4qhZA6tl7CuPNF0C+lFMUjvEYQJRPKx45FRpAaAoDKOQ4G0A8xdoxj1wcQBKAsjs6gB1A5jqKReWjHkC69WFPkMcfQEfYnKyddSBAsbWIMXMHIUAck3S2SJkhQIZwYDseKyJA8E1MwPO8IkBbKzhFyU4jQMUIJMqe4CNAL+YPT3RyJECZw/vTSQQlQAOh51gfliVAbn7T3fQnJkDYW79iyrkmQEI5q+efSydArRaXbHXdJ0AX9ILxSm8oQIHRbnYgASlA665a+/WSKUBWjEaAyyQqQA==\",\"dtype\":\"float64\",\"shape\":[50]},\"top\":{\"__ndarray__\":\"GleinY0Fgz9TNSm9dtOGP8TxNvxIb44/xPE2/Ehvjj8aV6KdjQWjP3Aw/cUeK7A//aFWUT9mtT/iMpPBSn+zP3DqdAnFcrQ/qMj7KK5AuD8beuZ7uuHAP3Aw/cUeK8A/jJ/AVRMSwj/9fhJzEorHP/bEmi9sQsM/sQ6E5Qf5wz97XmSQEQK9P0SpGETDYr8/CleinY0Fwz/R8Tb8SG++P3gNuefxTsI/Inrme7rhwD8+nvVX/WfAP1/voAAdG7s/JREa4TNNtz/tpoJIlw68P5ExyMM01cE/z31HdfzftT/tpoJIlw68P44OhOUH+bM/eqTsTGu6uD9DOlW0znutP3qk7Exruqg/QzpVtM57rT81NSm9dtOmPz/GZS2C7KQ/I1einY0Fkz81NSm9dtOWP3cw/cUeK6A/P8ZlLYLslD/R8Tb8SG9+Pwbo3g2ZHpE/nPE2/Ehvjj/R8Tb8SG9+P101Kb1203Y/nPE2/Ehvfj9dNSm9dtN2PwAAAAAAAAAA0fE2/EhvXj81NSm9dtN2Pw==\",\"dtype\":\"float64\",\"shape\":[50]}},\"selected\":{\"id\":\"30007\"},\"selection_policy\":{\"id\":\"30006\"}},\"id\":\"27065\",\"type\":\"ColumnDataSource\"},{\"attributes\":{\"line_color\":\"orange\",\"x\":{\"field\":\"x\"},\"y\":{\"field\":\"y\"}},\"id\":\"27086\",\"type\":\"Line\"},{\"attributes\":{\"data\":{\"x\":[5.0,5.0],\"y\":[0,0.1204523954086467]},\"selected\":{\"id\":\"30097\"},\"selection_policy\":{\"id\":\"30096\"}},\"id\":\"27310\",\"type\":\"ColumnDataSource\"},{\"attributes\":{\"data\":{\"x\":[6.0,6.0],\"y\":[0,0.09515698697710769]},\"selected\":{\"id\":\"30275\"},\"selection_policy\":{\"id\":\"30274\"}},\"id\":\"27815\",\"type\":\"ColumnDataSource\"},{\"attributes\":{\"data_source\":{\"id\":\"27825\"},\"glyph\":{\"id\":\"27826\"},\"hover_glyph\":null,\"muted_glyph\":null,\"nonselection_glyph\":{\"id\":\"27827\"},\"selection_glyph\":null,\"view\":{\"id\":\"27829\"}},\"id\":\"27828\",\"type\":\"GlyphRenderer\"},{\"attributes\":{\"line_alpha\":0.1,\"line_color\":\"orange\",\"x\":{\"field\":\"x\"},\"y\":{\"field\":\"y\"}},\"id\":\"27087\",\"type\":\"Line\"},{\"attributes\":{\"data_source\":{\"id\":\"27065\"},\"glyph\":{\"id\":\"27066\"},\"hover_glyph\":null,\"muted_glyph\":null,\"nonselection_glyph\":{\"id\":\"27067\"},\"selection_glyph\":null,\"view\":{\"id\":\"27069\"}},\"id\":\"27068\",\"type\":\"GlyphRenderer\"},{\"attributes\":{\"data_source\":{\"id\":\"27815\"},\"glyph\":{\"id\":\"27816\"},\"hover_glyph\":null,\"muted_glyph\":null,\"nonselection_glyph\":{\"id\":\"27817\"},\"selection_glyph\":null,\"view\":{\"id\":\"27819\"}},\"id\":\"27818\",\"type\":\"GlyphRenderer\"},{\"attributes\":{\"line_alpha\":0.1,\"line_color\":\"orange\",\"x\":{\"field\":\"x\"},\"y\":{\"field\":\"y\"}},\"id\":\"27307\",\"type\":\"Line\"},{\"attributes\":{\"data\":{\"x\":[0.0,0.0],\"y\":[0,0.18390112513315407]},\"selected\":{\"id\":\"30011\"},\"selection_policy\":{\"id\":\"30010\"}},\"id\":\"27075\",\"type\":\"ColumnDataSource\"},{\"attributes\":{\"source\":{\"id\":\"27305\"}},\"id\":\"27309\",\"type\":\"CDSView\"},{\"attributes\":{\"data\":{\"x\":[7.0,7.0],\"y\":[0,0.09515698697710769]},\"selected\":{\"id\":\"30277\"},\"selection_policy\":{\"id\":\"30276\"}},\"id\":\"27820\",\"type\":\"ColumnDataSource\"},{\"attributes\":{\"data_source\":{\"id\":\"27310\"},\"glyph\":{\"id\":\"27311\"},\"hover_glyph\":null,\"muted_glyph\":null,\"nonselection_glyph\":{\"id\":\"27312\"},\"selection_glyph\":null,\"view\":{\"id\":\"27314\"}},\"id\":\"27313\",\"type\":\"GlyphRenderer\"},{\"attributes\":{\"data_source\":{\"id\":\"27330\"},\"glyph\":{\"id\":\"27331\"},\"hover_glyph\":null,\"muted_glyph\":null,\"nonselection_glyph\":{\"id\":\"27332\"},\"selection_glyph\":null,\"view\":{\"id\":\"27334\"}},\"id\":\"27333\",\"type\":\"GlyphRenderer\"},{\"attributes\":{\"data\":{\"x\":[1.0,1.0],\"y\":[0,0.18390112513315407]},\"selected\":{\"id\":\"30021\"},\"selection_policy\":{\"id\":\"30020\"}},\"id\":\"27100\",\"type\":\"ColumnDataSource\"},{\"attributes\":{\"line_alpha\":0.1,\"line_color\":\"orange\",\"x\":{\"field\":\"x\"},\"y\":{\"field\":\"y\"}},\"id\":\"27817\",\"type\":\"Line\"},{\"attributes\":{\"data\":{\"x\":[-1.0,-1.0],\"y\":[0,0.18390112513315407]},\"selected\":{\"id\":\"30009\"},\"selection_policy\":{\"id\":\"30008\"}},\"id\":\"27070\",\"type\":\"ColumnDataSource\"},{\"attributes\":{\"source\":{\"id\":\"27815\"}},\"id\":\"27819\",\"type\":\"CDSView\"},{\"attributes\":{\"data_source\":{\"id\":\"27820\"},\"glyph\":{\"id\":\"27821\"},\"hover_glyph\":null,\"muted_glyph\":null,\"nonselection_glyph\":{\"id\":\"27822\"},\"selection_glyph\":null,\"view\":{\"id\":\"27824\"}},\"id\":\"27823\",\"type\":\"GlyphRenderer\"},{\"attributes\":{\"fill_alpha\":0.2,\"fill_color\":\"orange\",\"x\":{\"field\":\"x\"},\"y1\":{\"field\":\"y1\"},\"y2\":{\"field\":\"y2\"}},\"id\":\"27316\",\"type\":\"VArea\"},{\"attributes\":{\"data_source\":{\"id\":\"27110\"},\"glyph\":{\"id\":\"27111\"},\"hover_glyph\":null,\"muted_glyph\":null,\"nonselection_glyph\":{\"id\":\"27112\"},\"selection_glyph\":null,\"view\":{\"id\":\"27114\"}},\"id\":\"27113\",\"type\":\"GlyphRenderer\"},{\"attributes\":{\"line_alpha\":0.1,\"line_color\":\"orange\",\"x\":{\"field\":\"x\"},\"y\":{\"field\":\"y\"}},\"id\":\"27312\",\"type\":\"Line\"},{\"attributes\":{\"data\":{\"x\":[6.0,7.0],\"y1\":[0,0],\"y2\":[0.09515698697710769,0.09515698697710769]},\"selected\":{\"id\":\"30279\"},\"selection_policy\":{\"id\":\"30278\"}},\"id\":\"27825\",\"type\":\"ColumnDataSource\"},{\"attributes\":{\"source\":{\"id\":\"27100\"}},\"id\":\"27104\",\"type\":\"CDSView\"},{\"attributes\":{\"source\":{\"id\":\"27310\"}},\"id\":\"27314\",\"type\":\"CDSView\"},{\"attributes\":{\"data\":{\"x\":[4.0,5.0],\"y1\":[0,0],\"y2\":[0.1204523954086467,0.1204523954086467]},\"selected\":{\"id\":\"30099\"},\"selection_policy\":{\"id\":\"30098\"}},\"id\":\"27315\",\"type\":\"ColumnDataSource\"},{\"attributes\":{\"fill_alpha\":0.2,\"fill_color\":\"orange\",\"x\":{\"field\":\"x\"},\"y1\":{\"field\":\"y1\"},\"y2\":{\"field\":\"y2\"}},\"id\":\"27826\",\"type\":\"VArea\"},{\"attributes\":{\"line_alpha\":0.1,\"line_color\":\"orange\",\"x\":{\"field\":\"x\"},\"y\":{\"field\":\"y\"}},\"id\":\"27102\",\"type\":\"Line\"},{\"attributes\":{\"source\":{\"id\":\"27315\"}},\"id\":\"27319\",\"type\":\"CDSView\"},{\"attributes\":{\"line_alpha\":0.1,\"line_color\":\"orange\",\"x\":{\"field\":\"x\"},\"y\":{\"field\":\"y\"}},\"id\":\"27822\",\"type\":\"Line\"},{\"attributes\":{\"data_source\":{\"id\":\"27320\"},\"glyph\":{\"id\":\"27321\"},\"hover_glyph\":null,\"muted_glyph\":null,\"nonselection_glyph\":{\"id\":\"27322\"},\"selection_glyph\":null,\"view\":{\"id\":\"27324\"}},\"id\":\"27323\",\"type\":\"GlyphRenderer\"},{\"attributes\":{\"data_source\":{\"id\":\"27100\"},\"glyph\":{\"id\":\"27101\"},\"hover_glyph\":null,\"muted_glyph\":null,\"nonselection_glyph\":{\"id\":\"27102\"},\"selection_glyph\":null,\"view\":{\"id\":\"27104\"}},\"id\":\"27103\",\"type\":\"GlyphRenderer\"},{\"attributes\":{\"source\":{\"id\":\"27820\"}},\"id\":\"27824\",\"type\":\"CDSView\"},{\"attributes\":{\"data_source\":{\"id\":\"27840\"},\"glyph\":{\"id\":\"27841\"},\"hover_glyph\":null,\"muted_glyph\":null,\"nonselection_glyph\":{\"id\":\"27842\"},\"selection_glyph\":null,\"view\":{\"id\":\"27844\"}},\"id\":\"27843\",\"type\":\"GlyphRenderer\"},{\"attributes\":{\"source\":{\"id\":\"27085\"}},\"id\":\"27089\",\"type\":\"CDSView\"},{\"attributes\":{\"data_source\":{\"id\":\"27090\"},\"glyph\":{\"id\":\"27091\"},\"hover_glyph\":null,\"muted_glyph\":null,\"nonselection_glyph\":{\"id\":\"27092\"},\"selection_glyph\":null,\"view\":{\"id\":\"27094\"}},\"id\":\"27093\",\"type\":\"GlyphRenderer\"},{\"attributes\":{\"data\":{\"x\":[5.0,5.0],\"y\":[0,0.1204523954086467]},\"selected\":{\"id\":\"30101\"},\"selection_policy\":{\"id\":\"30100\"}},\"id\":\"27320\",\"type\":\"ColumnDataSource\"},{\"attributes\":{\"source\":{\"id\":\"27825\"}},\"id\":\"27829\",\"type\":\"CDSView\"},{\"attributes\":{},\"id\":\"27048\",\"type\":\"DataRange1d\"},{\"attributes\":{\"line_color\":\"orange\",\"x\":{\"field\":\"x\"},\"y\":{\"field\":\"y\"}},\"id\":\"27116\",\"type\":\"Line\"},{\"attributes\":{},\"id\":\"30193\",\"type\":\"Selection\"},{\"attributes\":{\"line_color\":\"orange\",\"x\":{\"field\":\"x\"},\"y\":{\"field\":\"y\"}},\"id\":\"27106\",\"type\":\"Line\"},{\"attributes\":{},\"id\":\"27050\",\"type\":\"DataRange1d\"},{\"attributes\":{\"text\":\"mutations = 6\"},\"id\":\"27686\",\"type\":\"Title\"},{\"attributes\":{\"fill_alpha\":0.1,\"fill_color\":\"orange\",\"x\":{\"field\":\"x\"},\"y1\":{\"field\":\"y1\"},\"y2\":{\"field\":\"y2\"}},\"id\":\"27112\",\"type\":\"VArea\"},{\"attributes\":{\"bottom\":{\"value\":0},\"fill_alpha\":{\"value\":0.1},\"fill_color\":{\"value\":\"navy\"},\"left\":{\"field\":\"left\"},\"line_alpha\":{\"value\":0.1},\"line_color\":{\"value\":\"white\"},\"right\":{\"field\":\"right\"},\"top\":{\"field\":\"top\"}},\"id\":\"27707\",\"type\":\"Quad\"},{\"attributes\":{},\"id\":\"30084\",\"type\":\"UnionRenderers\"},{\"attributes\":{\"axis_label\":\"density\",\"formatter\":{\"id\":\"30003\"},\"ticker\":{\"id\":\"27701\"}},\"id\":\"27700\",\"type\":\"LinearAxis\"},{\"attributes\":{\"bottom\":{\"value\":0},\"fill_alpha\":{\"value\":0.5},\"fill_color\":{\"value\":\"navy\"},\"left\":{\"field\":\"left\"},\"line_alpha\":{\"value\":0.5},\"line_color\":{\"value\":\"white\"},\"right\":{\"field\":\"right\"},\"top\":{\"field\":\"top\"}},\"id\":\"27066\",\"type\":\"Quad\"},{\"attributes\":{\"fill_alpha\":0.2,\"fill_color\":\"orange\",\"x\":{\"field\":\"x\"},\"y1\":{\"field\":\"y1\"},\"y2\":{\"field\":\"y2\"}},\"id\":\"27111\",\"type\":\"VArea\"},{\"attributes\":{},\"id\":\"27697\",\"type\":\"BasicTicker\"},{\"attributes\":{},\"id\":\"27688\",\"type\":\"DataRange1d\"},{\"attributes\":{\"data\":{\"x\":[6.0,6.0],\"y\":[0,0.18390112513315407]},\"selected\":{\"id\":\"30047\"},\"selection_policy\":{\"id\":\"30046\"}},\"id\":\"27165\",\"type\":\"ColumnDataSource\"},{\"attributes\":{},\"id\":\"30085\",\"type\":\"Selection\"},{\"attributes\":{},\"id\":\"27690\",\"type\":\"DataRange1d\"},{\"attributes\":{\"line_alpha\":0.1,\"line_color\":\"orange\",\"x\":{\"field\":\"x\"},\"y\":{\"field\":\"y\"}},\"id\":\"27107\",\"type\":\"Line\"},{\"attributes\":{},\"id\":\"30201\",\"type\":\"Selection\"},{\"attributes\":{\"axis_label\":\"\\u0394E [k_BT]\",\"formatter\":{\"id\":\"30005\"},\"ticker\":{\"id\":\"27697\"}},\"id\":\"27696\",\"type\":\"LinearAxis\"},{\"attributes\":{\"source\":{\"id\":\"27105\"}},\"id\":\"27109\",\"type\":\"CDSView\"},{\"attributes\":{\"axis_label\":\"\\u0394E [k_BT]\",\"formatter\":{\"id\":\"29989\"},\"ticker\":{\"id\":\"27057\"}},\"id\":\"27056\",\"type\":\"LinearAxis\"},{\"attributes\":{},\"id\":\"27692\",\"type\":\"LinearScale\"},{\"attributes\":{\"data\":{\"x\":[1.0,2.0],\"y1\":[0,0],\"y2\":[0.18390112513315407,0.18390112513315407]},\"selected\":{\"id\":\"30025\"},\"selection_policy\":{\"id\":\"30024\"}},\"id\":\"27110\",\"type\":\"ColumnDataSource\"},{\"attributes\":{\"source\":{\"id\":\"27110\"}},\"id\":\"27114\",\"type\":\"CDSView\"},{\"attributes\":{},\"id\":\"27701\",\"type\":\"BasicTicker\"},{\"attributes\":{},\"id\":\"30208\",\"type\":\"UnionRenderers\"},{\"attributes\":{},\"id\":\"27694\",\"type\":\"LinearScale\"},{\"attributes\":{\"fill_alpha\":0.1,\"fill_color\":\"orange\",\"x\":{\"field\":\"x\"},\"y1\":{\"field\":\"y1\"},\"y2\":{\"field\":\"y2\"}},\"id\":\"27127\",\"type\":\"VArea\"},{\"attributes\":{},\"id\":\"30209\",\"type\":\"Selection\"},{\"attributes\":{\"text\":\"mutations = 2\"},\"id\":\"27046\",\"type\":\"Title\"},{\"attributes\":{\"axis\":{\"id\":\"27696\"},\"ticker\":null},\"id\":\"27699\",\"type\":\"Grid\"},{\"attributes\":{\"line_color\":\"orange\",\"x\":{\"field\":\"x\"},\"y\":{\"field\":\"y\"}},\"id\":\"27121\",\"type\":\"Line\"},{\"attributes\":{\"background_fill_color\":\"#fafafa\",\"below\":[{\"id\":\"27056\"}],\"center\":[{\"id\":\"27059\"},{\"id\":\"27063\"}],\"frame_height\":200,\"frame_width\":200,\"left\":[{\"id\":\"27060\"}],\"renderers\":[{\"id\":\"27068\"},{\"id\":\"27073\"},{\"id\":\"27078\"},{\"id\":\"27083\"},{\"id\":\"27088\"},{\"id\":\"27093\"},{\"id\":\"27098\"},{\"id\":\"27103\"},{\"id\":\"27108\"},{\"id\":\"27113\"},{\"id\":\"27118\"},{\"id\":\"27123\"},{\"id\":\"27128\"},{\"id\":\"27133\"},{\"id\":\"27138\"},{\"id\":\"27143\"},{\"id\":\"27148\"},{\"id\":\"27153\"},{\"id\":\"27158\"},{\"id\":\"27163\"},{\"id\":\"27168\"},{\"id\":\"27173\"},{\"id\":\"27178\"},{\"id\":\"27183\"},{\"id\":\"27188\"},{\"id\":\"27193\"},{\"id\":\"27198\"},{\"id\":\"27203\"}],\"title\":{\"id\":\"27046\"},\"toolbar\":{\"id\":\"27064\"},\"x_range\":{\"id\":\"27048\"},\"x_scale\":{\"id\":\"27052\"},\"y_range\":{\"id\":\"27050\"},\"y_scale\":{\"id\":\"27054\"}},\"id\":\"27045\",\"subtype\":\"Figure\",\"type\":\"Plot\"},{\"attributes\":{},\"id\":\"30194\",\"type\":\"UnionRenderers\"},{\"attributes\":{\"data\":{\"x\":[2.0,2.0],\"y\":[0,0.18390112513315407]},\"selected\":{\"id\":\"30027\"},\"selection_policy\":{\"id\":\"30026\"}},\"id\":\"27115\",\"type\":\"ColumnDataSource\"},{\"attributes\":{},\"id\":\"30086\",\"type\":\"UnionRenderers\"},{\"attributes\":{},\"id\":\"30195\",\"type\":\"Selection\"},{\"attributes\":{\"data_source\":{\"id\":\"27125\"},\"glyph\":{\"id\":\"27126\"},\"hover_glyph\":null,\"muted_glyph\":null,\"nonselection_glyph\":{\"id\":\"27127\"},\"selection_glyph\":null,\"view\":{\"id\":\"27129\"}},\"id\":\"27128\",\"type\":\"GlyphRenderer\"},{\"attributes\":{\"data_source\":{\"id\":\"27115\"},\"glyph\":{\"id\":\"27116\"},\"hover_glyph\":null,\"muted_glyph\":null,\"nonselection_glyph\":{\"id\":\"27117\"},\"selection_glyph\":null,\"view\":{\"id\":\"27119\"}},\"id\":\"27118\",\"type\":\"GlyphRenderer\"},{\"attributes\":{\"axis\":{\"id\":\"27700\"},\"dimension\":1,\"ticker\":null},\"id\":\"27703\",\"type\":\"Grid\"},{\"attributes\":{},\"id\":\"30087\",\"type\":\"Selection\"},{\"attributes\":{\"data\":{\"x\":[3.0,3.0],\"y\":[0,0.18390112513315407]},\"selected\":{\"id\":\"30029\"},\"selection_policy\":{\"id\":\"30028\"}},\"id\":\"27120\",\"type\":\"ColumnDataSource\"},{\"attributes\":{\"active_drag\":\"auto\",\"active_inspect\":\"auto\",\"active_multi\":null,\"active_scroll\":\"auto\",\"active_tap\":\"auto\"},\"id\":\"27704\",\"type\":\"Toolbar\"},{\"attributes\":{\"line_alpha\":0.1,\"line_color\":\"orange\",\"x\":{\"field\":\"x\"},\"y\":{\"field\":\"y\"}},\"id\":\"27117\",\"type\":\"Line\"},{\"attributes\":{\"source\":{\"id\":\"27115\"}},\"id\":\"27119\",\"type\":\"CDSView\"},{\"attributes\":{\"data\":{\"x\":[3.0,3.0],\"y\":[0,0.09515698697710769]},\"selected\":{\"id\":\"30257\"},\"selection_policy\":{\"id\":\"30256\"}},\"id\":\"27770\",\"type\":\"ColumnDataSource\"},{\"attributes\":{},\"id\":\"30210\",\"type\":\"UnionRenderers\"},{\"attributes\":{\"data_source\":{\"id\":\"27120\"},\"glyph\":{\"id\":\"27121\"},\"hover_glyph\":null,\"muted_glyph\":null,\"nonselection_glyph\":{\"id\":\"27122\"},\"selection_glyph\":null,\"view\":{\"id\":\"27124\"}},\"id\":\"27123\",\"type\":\"GlyphRenderer\"},{\"attributes\":{\"line_alpha\":0.1,\"line_color\":\"orange\",\"x\":{\"field\":\"x\"},\"y\":{\"field\":\"y\"}},\"id\":\"27772\",\"type\":\"Line\"},{\"attributes\":{\"line_color\":\"orange\",\"x\":{\"field\":\"x\"},\"y\":{\"field\":\"y\"}},\"id\":\"27131\",\"type\":\"Line\"},{\"attributes\":{\"data\":{\"x\":[4.0,4.0],\"y\":[0,0.09515698697710769]},\"selected\":{\"id\":\"30259\"},\"selection_policy\":{\"id\":\"30258\"}},\"id\":\"27775\",\"type\":\"ColumnDataSource\"},{\"attributes\":{},\"id\":\"30211\",\"type\":\"Selection\"},{\"attributes\":{\"data_source\":{\"id\":\"27770\"},\"glyph\":{\"id\":\"27771\"},\"hover_glyph\":null,\"muted_glyph\":null,\"nonselection_glyph\":{\"id\":\"27772\"},\"selection_glyph\":null,\"view\":{\"id\":\"27774\"}},\"id\":\"27773\",\"type\":\"GlyphRenderer\"},{\"attributes\":{\"fill_alpha\":0.2,\"fill_color\":\"orange\",\"x\":{\"field\":\"x\"},\"y1\":{\"field\":\"y1\"},\"y2\":{\"field\":\"y2\"}},\"id\":\"27126\",\"type\":\"VArea\"},{\"attributes\":{},\"id\":\"30196\",\"type\":\"UnionRenderers\"},{\"attributes\":{\"data_source\":{\"id\":\"27775\"},\"glyph\":{\"id\":\"27776\"},\"hover_glyph\":null,\"muted_glyph\":null,\"nonselection_glyph\":{\"id\":\"27777\"},\"selection_glyph\":null,\"view\":{\"id\":\"27779\"}},\"id\":\"27778\",\"type\":\"GlyphRenderer\"},{\"attributes\":{\"line_alpha\":0.1,\"line_color\":\"orange\",\"x\":{\"field\":\"x\"},\"y\":{\"field\":\"y\"}},\"id\":\"27122\",\"type\":\"Line\"},{\"attributes\":{},\"id\":\"30197\",\"type\":\"Selection\"},{\"attributes\":{\"source\":{\"id\":\"27120\"}},\"id\":\"27124\",\"type\":\"CDSView\"},{\"attributes\":{\"source\":{\"id\":\"27770\"}},\"id\":\"27774\",\"type\":\"CDSView\"},{\"attributes\":{\"data\":{\"x\":[2.0,3.0],\"y1\":[0,0],\"y2\":[0.18390112513315407,0.18390112513315407]},\"selected\":{\"id\":\"30031\"},\"selection_policy\":{\"id\":\"30030\"}},\"id\":\"27125\",\"type\":\"ColumnDataSource\"},{\"attributes\":{\"line_color\":\"orange\",\"x\":{\"field\":\"x\"},\"y\":{\"field\":\"y\"}},\"id\":\"27776\",\"type\":\"Line\"},{\"attributes\":{},\"id\":\"30088\",\"type\":\"UnionRenderers\"},{\"attributes\":{\"source\":{\"id\":\"27125\"}},\"id\":\"27129\",\"type\":\"CDSView\"},{\"attributes\":{\"line_alpha\":0.1,\"line_color\":\"orange\",\"x\":{\"field\":\"x\"},\"y\":{\"field\":\"y\"}},\"id\":\"27777\",\"type\":\"Line\"},{\"attributes\":{\"data_source\":{\"id\":\"27175\"},\"glyph\":{\"id\":\"27176\"},\"hover_glyph\":null,\"muted_glyph\":null,\"nonselection_glyph\":{\"id\":\"27177\"},\"selection_glyph\":null,\"view\":{\"id\":\"27179\"}},\"id\":\"27178\",\"type\":\"GlyphRenderer\"},{\"attributes\":{\"data_source\":{\"id\":\"27780\"},\"glyph\":{\"id\":\"27781\"},\"hover_glyph\":null,\"muted_glyph\":null,\"nonselection_glyph\":{\"id\":\"27782\"},\"selection_glyph\":null,\"view\":{\"id\":\"27784\"}},\"id\":\"27783\",\"type\":\"GlyphRenderer\"},{\"attributes\":{\"source\":{\"id\":\"27070\"}},\"id\":\"27074\",\"type\":\"CDSView\"},{\"attributes\":{\"fill_alpha\":0.1,\"fill_color\":\"orange\",\"x\":{\"field\":\"x\"},\"y1\":{\"field\":\"y1\"},\"y2\":{\"field\":\"y2\"}},\"id\":\"27142\",\"type\":\"VArea\"},{\"attributes\":{},\"id\":\"30089\",\"type\":\"Selection\"},{\"attributes\":{\"line_color\":\"orange\",\"x\":{\"field\":\"x\"},\"y\":{\"field\":\"y\"}},\"id\":\"27136\",\"type\":\"Line\"},{\"attributes\":{\"source\":{\"id\":\"27765\"}},\"id\":\"27769\",\"type\":\"CDSView\"},{\"attributes\":{\"line_color\":\"orange\",\"x\":{\"field\":\"x\"},\"y\":{\"field\":\"y\"}},\"id\":\"27771\",\"type\":\"Line\"},{\"attributes\":{\"data\":{\"x\":[3.0,3.0],\"y\":[0,0.18390112513315407]},\"selected\":{\"id\":\"30033\"},\"selection_policy\":{\"id\":\"30032\"}},\"id\":\"27130\",\"type\":\"ColumnDataSource\"},{\"attributes\":{\"bottom\":{\"value\":0},\"fill_alpha\":{\"value\":0.5},\"fill_color\":{\"value\":\"navy\"},\"left\":{\"field\":\"left\"},\"line_alpha\":{\"value\":0.5},\"line_color\":{\"value\":\"white\"},\"right\":{\"field\":\"right\"},\"top\":{\"field\":\"top\"}},\"id\":\"27706\",\"type\":\"Quad\"},{\"attributes\":{},\"id\":\"30212\",\"type\":\"UnionRenderers\"},{\"attributes\":{\"data_source\":{\"id\":\"27140\"},\"glyph\":{\"id\":\"27141\"},\"hover_glyph\":null,\"muted_glyph\":null,\"nonselection_glyph\":{\"id\":\"27142\"},\"selection_glyph\":null,\"view\":{\"id\":\"27144\"}},\"id\":\"27143\",\"type\":\"GlyphRenderer\"},{\"attributes\":{\"source\":{\"id\":\"27775\"}},\"id\":\"27779\",\"type\":\"CDSView\"},{\"attributes\":{},\"id\":\"30198\",\"type\":\"UnionRenderers\"},{\"attributes\":{\"data_source\":{\"id\":\"27130\"},\"glyph\":{\"id\":\"27131\"},\"hover_glyph\":null,\"muted_glyph\":null,\"nonselection_glyph\":{\"id\":\"27132\"},\"selection_glyph\":null,\"view\":{\"id\":\"27134\"}},\"id\":\"27133\",\"type\":\"GlyphRenderer\"},{\"attributes\":{\"data\":{\"left\":{\"__ndarray__\":\"mPCmti97zr9UwE6NNpfYPz0+fD0BG/A/Zcyk1zQQ+j9GreY4tAICQFr0+gVO/QZAbjsP0+f3C0BBwRHQQHkQQMvkm7aN9hJAVQgmndpzFUDfK7CDJ/EXQGlPOmp0bhpA83LEUMHrHEB9lk43DmkfQARd7I4t8yBAyW4xAtQxIkCOgHZ1enAjQFOSu+ggryRAGKQAXMftJUDdtUXPbSwnQKLHikIUayhAZ9nPtbqpKUAs6xQpYegqQPH8WZwHJyxAtg6fD65lLUB7IOSCVKQuQEAyKfb64i9AAyK3tNCQMEDlqlnuIzAxQMcz/Cd3zzFAqryeYcpuMkCNRUGbHQ4zQG/O49RwrTNAUVeGDsRMNEA04ChIF+w0QBdpy4FqizVA+fFtu70qNkDbehD1EMo2QL4Dsy5kaTdAoYxVaLcIOECDFfihCqg4QGWemttdRzlASCc9FbHmOUArsN9OBIY6QA05gohXJTtA78EkwqrEO0DSSsf7/WM8QLXTaTVRAz1Al1wMb6SiPUB55a6o90E+QA==\",\"dtype\":\"float64\",\"shape\":[50]},\"right\":{\"__ndarray__\":\"VMBOjTaX2D89Pnw9ARvwP2XMpNc0EPo/Rq3mOLQCAkBa9PoFTv0GQG47D9Pn9wtAQcER0EB5EEDL5Ju2jfYSQFUIJp3acxVA3yuwgyfxF0BpTzpqdG4aQPNyxFDB6xxAfZZONw5pH0AEXeyOLfMgQMluMQLUMSJAjoB2dXpwI0BTkrvoIK8kQBikAFzH7SVA3bVFz20sJ0Cix4pCFGsoQGfZz7W6qSlALOsUKWHoKkDx/FmcBycsQLYOnw+uZS1AeyDkglSkLkBAMin2+uIvQAMit7TQkDBA5apZ7iMwMUDHM/wnd88xQKq8nmHKbjJAjUVBmx0OM0BvzuPUcK0zQFFXhg7ETDRANOAoSBfsNEAXacuBaos1QPnxbbu9KjZA23oQ9RDKNkC+A7MuZGk3QKGMVWi3CDhAgxX4oQqoOEBlnprbXUc5QEgnPRWx5jlAK7DfTgSGOkANOYKIVyU7QO/BJMKqxDtA0krH+/1jPEC102k1UQM9QJdcDG+koj1AeeWuqPdBPkBcblHiSuE+QA==\",\"dtype\":\"float64\",\"shape\":[50]},\"top\":{\"__ndarray__\":\"MBxK5W3e8D4wHErlbd4QP0gq79ekTSk/mbAdES+BQz8SbXRUYWVRPx70xs38nGU/MBxK5W3ecD/eooq+ABSAP7LcYsE5wYc/r+nR01YqkT9+Enkr2W+WP7vv9Dg9qJ4/ieAauN24oj+mTGJ8KZmnPx5XV3bPC6w/YUiTFAKcsD/gI7skp1OyP9Fv+A7OYrQ/nzTfANC8tj9veyYWJtO3PzfnWzppsbc/eOOnwk43uD+VdQ1TNVy4P5o/7piRLLc/9r//j6Frtj96LFiiBMi0P96ALTkOSLI/zjs1UPyusD+aMBo7nsatP7gXeFCu6ak/bBJ5K9lvpj9N7Ew+v6ahP30gFc4LXpw/5b//j6Frlj/wp4CT0QyRP+bSiLeg0Yo/RC17kCRGgz9cYBfiTP58P1OBQ1igx3I/N+dXu98zbD8gbXRUYWVhP4iwHREvgVM/uW2YlHJpSz9rUnLvFY9EP5mImvm9Pzg/NCrv16RNKT8ro5xeCRYVPz4cSuVt3hA/AAAAAAAAAAAjHErlbd4APw==\",\"dtype\":\"float64\",\"shape\":[50]}},\"selected\":{\"id\":\"30231\"},\"selection_policy\":{\"id\":\"30230\"}},\"id\":\"27705\",\"type\":\"ColumnDataSource\"},{\"attributes\":{},\"id\":\"30213\",\"type\":\"Selection\"},{\"attributes\":{\"data_source\":{\"id\":\"27710\"},\"glyph\":{\"id\":\"27711\"},\"hover_glyph\":null,\"muted_glyph\":null,\"nonselection_glyph\":{\"id\":\"27712\"},\"selection_glyph\":null,\"view\":{\"id\":\"27714\"}},\"id\":\"27713\",\"type\":\"GlyphRenderer\"},{\"attributes\":{\"data\":{\"x\":[4.0,4.0],\"y\":[0,0.18390112513315407]},\"selected\":{\"id\":\"30035\"},\"selection_policy\":{\"id\":\"30034\"}},\"id\":\"27135\",\"type\":\"ColumnDataSource\"},{\"attributes\":{},\"id\":\"30199\",\"type\":\"Selection\"},{\"attributes\":{\"source\":{\"id\":\"27740\"}},\"id\":\"27744\",\"type\":\"CDSView\"},{\"attributes\":{\"line_alpha\":0.1,\"line_color\":\"orange\",\"x\":{\"field\":\"x\"},\"y\":{\"field\":\"y\"}},\"id\":\"27132\",\"type\":\"Line\"},{\"attributes\":{\"source\":{\"id\":\"27705\"}},\"id\":\"27709\",\"type\":\"CDSView\"},{\"attributes\":{},\"id\":\"30090\",\"type\":\"UnionRenderers\"},{\"attributes\":{\"data_source\":{\"id\":\"27705\"},\"glyph\":{\"id\":\"27706\"},\"hover_glyph\":null,\"muted_glyph\":null,\"nonselection_glyph\":{\"id\":\"27707\"},\"selection_glyph\":null,\"view\":{\"id\":\"27709\"}},\"id\":\"27708\",\"type\":\"GlyphRenderer\"},{\"attributes\":{\"source\":{\"id\":\"27130\"}},\"id\":\"27134\",\"type\":\"CDSView\"},{\"attributes\":{\"data_source\":{\"id\":\"27135\"},\"glyph\":{\"id\":\"27136\"},\"hover_glyph\":null,\"muted_glyph\":null,\"nonselection_glyph\":{\"id\":\"27137\"},\"selection_glyph\":null,\"view\":{\"id\":\"27139\"}},\"id\":\"27138\",\"type\":\"GlyphRenderer\"},{\"attributes\":{\"data_source\":{\"id\":\"27720\"},\"glyph\":{\"id\":\"27721\"},\"hover_glyph\":null,\"muted_glyph\":null,\"nonselection_glyph\":{\"id\":\"27722\"},\"selection_glyph\":null,\"view\":{\"id\":\"27724\"}},\"id\":\"27723\",\"type\":\"GlyphRenderer\"},{\"attributes\":{},\"id\":\"30091\",\"type\":\"Selection\"},{\"attributes\":{\"line_color\":\"orange\",\"x\":{\"field\":\"x\"},\"y\":{\"field\":\"y\"}},\"id\":\"27146\",\"type\":\"Line\"},{\"attributes\":{},\"id\":\"30003\",\"type\":\"BasicTickFormatter\"},{\"attributes\":{\"data\":{\"x\":[-1.0,-1.0],\"y\":[0,0.09515698697710769]},\"selected\":{\"id\":\"30233\"},\"selection_policy\":{\"id\":\"30232\"}},\"id\":\"27710\",\"type\":\"ColumnDataSource\"},{\"attributes\":{\"line_color\":\"orange\",\"x\":{\"field\":\"x\"},\"y\":{\"field\":\"y\"}},\"id\":\"27711\",\"type\":\"Line\"},{\"attributes\":{\"fill_alpha\":0.2,\"fill_color\":\"orange\",\"x\":{\"field\":\"x\"},\"y1\":{\"field\":\"y1\"},\"y2\":{\"field\":\"y2\"}},\"id\":\"27141\",\"type\":\"VArea\"},{\"attributes\":{\"fill_alpha\":0.1,\"fill_color\":\"orange\",\"x\":{\"field\":\"x\"},\"y1\":{\"field\":\"y1\"},\"y2\":{\"field\":\"y2\"}},\"id\":\"27722\",\"type\":\"VArea\"},{\"attributes\":{},\"id\":\"30214\",\"type\":\"UnionRenderers\"},{\"attributes\":{\"line_alpha\":0.1,\"line_color\":\"orange\",\"x\":{\"field\":\"x\"},\"y\":{\"field\":\"y\"}},\"id\":\"27137\",\"type\":\"Line\"},{\"attributes\":{\"line_color\":\"orange\",\"x\":{\"field\":\"x\"},\"y\":{\"field\":\"y\"}},\"id\":\"27716\",\"type\":\"Line\"},{\"attributes\":{\"source\":{\"id\":\"27135\"}},\"id\":\"27139\",\"type\":\"CDSView\"},{\"attributes\":{\"data\":{\"x\":[0.0,0.0],\"y\":[0,0.09515698697710769]},\"selected\":{\"id\":\"30235\"},\"selection_policy\":{\"id\":\"30234\"}},\"id\":\"27715\",\"type\":\"ColumnDataSource\"},{\"attributes\":{},\"id\":\"30215\",\"type\":\"Selection\"},{\"attributes\":{\"data\":{\"x\":[6.0,6.0],\"y\":[0,0.18390112513315407]},\"selected\":{\"id\":\"30051\"},\"selection_policy\":{\"id\":\"30050\"}},\"id\":\"27175\",\"type\":\"ColumnDataSource\"},{\"attributes\":{},\"id\":\"30200\",\"type\":\"UnionRenderers\"},{\"attributes\":{\"data\":{\"x\":[3.0,4.0],\"y1\":[0,0],\"y2\":[0.18390112513315407,0.18390112513315407]},\"selected\":{\"id\":\"30037\"},\"selection_policy\":{\"id\":\"30036\"}},\"id\":\"27140\",\"type\":\"ColumnDataSource\"},{\"attributes\":{\"line_alpha\":0.1,\"line_color\":\"orange\",\"x\":{\"field\":\"x\"},\"y\":{\"field\":\"y\"}},\"id\":\"27712\",\"type\":\"Line\"},{\"attributes\":{\"line_alpha\":0.1,\"line_color\":\"orange\",\"x\":{\"field\":\"x\"},\"y\":{\"field\":\"y\"}},\"id\":\"27152\",\"type\":\"Line\"},{\"attributes\":{\"source\":{\"id\":\"27710\"}},\"id\":\"27714\",\"type\":\"CDSView\"},{\"attributes\":{},\"id\":\"30092\",\"type\":\"UnionRenderers\"},{\"attributes\":{\"data_source\":{\"id\":\"27715\"},\"glyph\":{\"id\":\"27716\"},\"hover_glyph\":null,\"muted_glyph\":null,\"nonselection_glyph\":{\"id\":\"27717\"},\"selection_glyph\":null,\"view\":{\"id\":\"27719\"}},\"id\":\"27718\",\"type\":\"GlyphRenderer\"},{\"attributes\":{\"source\":{\"id\":\"27140\"}},\"id\":\"27144\",\"type\":\"CDSView\"},{\"attributes\":{},\"id\":\"30005\",\"type\":\"BasicTickFormatter\"},{\"attributes\":{\"fill_alpha\":0.1,\"fill_color\":\"orange\",\"x\":{\"field\":\"x\"},\"y1\":{\"field\":\"y1\"},\"y2\":{\"field\":\"y2\"}},\"id\":\"27157\",\"type\":\"VArea\"},{\"attributes\":{\"line_color\":\"orange\",\"x\":{\"field\":\"x\"},\"y\":{\"field\":\"y\"}},\"id\":\"27726\",\"type\":\"Line\"},{\"attributes\":{},\"id\":\"30093\",\"type\":\"Selection\"},{\"attributes\":{\"line_color\":\"orange\",\"x\":{\"field\":\"x\"},\"y\":{\"field\":\"y\"}},\"id\":\"27151\",\"type\":\"Line\"},{\"attributes\":{\"fill_alpha\":0.2,\"fill_color\":\"orange\",\"x\":{\"field\":\"x\"},\"y1\":{\"field\":\"y1\"},\"y2\":{\"field\":\"y2\"}},\"id\":\"27721\",\"type\":\"VArea\"},{\"attributes\":{\"data\":{\"x\":[4.0,4.0],\"y\":[0,0.18390112513315407]},\"selected\":{\"id\":\"30039\"},\"selection_policy\":{\"id\":\"30038\"}},\"id\":\"27145\",\"type\":\"ColumnDataSource\"},{\"attributes\":{\"data_source\":{\"id\":\"27155\"},\"glyph\":{\"id\":\"27156\"},\"hover_glyph\":null,\"muted_glyph\":null,\"nonselection_glyph\":{\"id\":\"27157\"},\"selection_glyph\":null,\"view\":{\"id\":\"27159\"}},\"id\":\"27158\",\"type\":\"GlyphRenderer\"},{\"attributes\":{\"line_alpha\":0.1,\"line_color\":\"orange\",\"x\":{\"field\":\"x\"},\"y\":{\"field\":\"y\"}},\"id\":\"27717\",\"type\":\"Line\"},{\"attributes\":{},\"id\":\"30216\",\"type\":\"UnionRenderers\"},{\"attributes\":{\"data_source\":{\"id\":\"27145\"},\"glyph\":{\"id\":\"27146\"},\"hover_glyph\":null,\"muted_glyph\":null,\"nonselection_glyph\":{\"id\":\"27147\"},\"selection_glyph\":null,\"view\":{\"id\":\"27149\"}},\"id\":\"27148\",\"type\":\"GlyphRenderer\"},{\"attributes\":{\"source\":{\"id\":\"27715\"}},\"id\":\"27719\",\"type\":\"CDSView\"},{\"attributes\":{\"data\":{\"x\":[5.0,5.0],\"y\":[0,0.18390112513315407]},\"selected\":{\"id\":\"30041\"},\"selection_policy\":{\"id\":\"30040\"}},\"id\":\"27150\",\"type\":\"ColumnDataSource\"},{\"attributes\":{\"data\":{\"x\":[-1.0,0.0],\"y1\":[0,0],\"y2\":[0.09515698697710769,0.09515698697710769]},\"selected\":{\"id\":\"30237\"},\"selection_policy\":{\"id\":\"30236\"}},\"id\":\"27720\",\"type\":\"ColumnDataSource\"},{\"attributes\":{},\"id\":\"30217\",\"type\":\"Selection\"},{\"attributes\":{\"line_alpha\":0.1,\"line_color\":\"orange\",\"x\":{\"field\":\"x\"},\"y\":{\"field\":\"y\"}},\"id\":\"27147\",\"type\":\"Line\"},{\"attributes\":{\"source\":{\"id\":\"27720\"}},\"id\":\"27724\",\"type\":\"CDSView\"},{\"attributes\":{},\"id\":\"30202\",\"type\":\"UnionRenderers\"},{\"attributes\":{\"data\":{\"x\":[0.0,1.0],\"y1\":[0,0],\"y2\":[0.09515698697710769,0.09515698697710769]},\"selected\":{\"id\":\"30243\"},\"selection_policy\":{\"id\":\"30242\"}},\"id\":\"27735\",\"type\":\"ColumnDataSource\"},{\"attributes\":{\"source\":{\"id\":\"27145\"}},\"id\":\"27149\",\"type\":\"CDSView\"},{\"attributes\":{\"line_color\":\"orange\",\"x\":{\"field\":\"x\"},\"y\":{\"field\":\"y\"}},\"id\":\"27731\",\"type\":\"Line\"},{\"attributes\":{},\"id\":\"30203\",\"type\":\"Selection\"},{\"attributes\":{\"data_source\":{\"id\":\"27150\"},\"glyph\":{\"id\":\"27151\"},\"hover_glyph\":null,\"muted_glyph\":null,\"nonselection_glyph\":{\"id\":\"27152\"},\"selection_glyph\":null,\"view\":{\"id\":\"27154\"}},\"id\":\"27153\",\"type\":\"GlyphRenderer\"},{\"attributes\":{\"line_color\":\"orange\",\"x\":{\"field\":\"x\"},\"y\":{\"field\":\"y\"}},\"id\":\"27161\",\"type\":\"Line\"},{\"attributes\":{\"data\":{\"x\":[0.0,0.0],\"y\":[0,0.09515698697710769]},\"selected\":{\"id\":\"30239\"},\"selection_policy\":{\"id\":\"30238\"}},\"id\":\"27725\",\"type\":\"ColumnDataSource\"},{\"attributes\":{},\"id\":\"30094\",\"type\":\"UnionRenderers\"},{\"attributes\":{\"data_source\":{\"id\":\"27735\"},\"glyph\":{\"id\":\"27736\"},\"hover_glyph\":null,\"muted_glyph\":null,\"nonselection_glyph\":{\"id\":\"27737\"},\"selection_glyph\":null,\"view\":{\"id\":\"27739\"}},\"id\":\"27738\",\"type\":\"GlyphRenderer\"},{\"attributes\":{\"data_source\":{\"id\":\"27725\"},\"glyph\":{\"id\":\"27726\"},\"hover_glyph\":null,\"muted_glyph\":null,\"nonselection_glyph\":{\"id\":\"27727\"},\"selection_glyph\":null,\"view\":{\"id\":\"27729\"}},\"id\":\"27728\",\"type\":\"GlyphRenderer\"},{\"attributes\":{\"fill_alpha\":0.2,\"fill_color\":\"orange\",\"x\":{\"field\":\"x\"},\"y1\":{\"field\":\"y1\"},\"y2\":{\"field\":\"y2\"}},\"id\":\"27156\",\"type\":\"VArea\"},{\"attributes\":{},\"id\":\"30095\",\"type\":\"Selection\"},{\"attributes\":{\"source\":{\"id\":\"27150\"}},\"id\":\"27154\",\"type\":\"CDSView\"},{\"attributes\":{\"data\":{\"x\":[1.0,1.0],\"y\":[0,0.09515698697710769]},\"selected\":{\"id\":\"30241\"},\"selection_policy\":{\"id\":\"30240\"}},\"id\":\"27730\",\"type\":\"ColumnDataSource\"},{\"attributes\":{\"data\":{\"x\":[4.0,5.0],\"y1\":[0,0],\"y2\":[0.18390112513315407,0.18390112513315407]},\"selected\":{\"id\":\"30043\"},\"selection_policy\":{\"id\":\"30042\"}},\"id\":\"27155\",\"type\":\"ColumnDataSource\"},{\"attributes\":{\"source\":{\"id\":\"27155\"}},\"id\":\"27159\",\"type\":\"CDSView\"},{\"attributes\":{\"line_alpha\":0.1,\"line_color\":\"orange\",\"x\":{\"field\":\"x\"},\"y\":{\"field\":\"y\"}},\"id\":\"27727\",\"type\":\"Line\"},{\"attributes\":{\"fill_alpha\":0.1,\"fill_color\":\"orange\",\"x\":{\"field\":\"x\"},\"y1\":{\"field\":\"y1\"},\"y2\":{\"field\":\"y2\"}},\"id\":\"27172\",\"type\":\"VArea\"},{\"attributes\":{\"source\":{\"id\":\"27725\"}},\"id\":\"27729\",\"type\":\"CDSView\"},{\"attributes\":{},\"id\":\"30218\",\"type\":\"UnionRenderers\"},{\"attributes\":{\"data_source\":{\"id\":\"27730\"},\"glyph\":{\"id\":\"27731\"},\"hover_glyph\":null,\"muted_glyph\":null,\"nonselection_glyph\":{\"id\":\"27732\"},\"selection_glyph\":null,\"view\":{\"id\":\"27734\"}},\"id\":\"27733\",\"type\":\"GlyphRenderer\"},{\"attributes\":{\"line_color\":\"orange\",\"x\":{\"field\":\"x\"},\"y\":{\"field\":\"y\"}},\"id\":\"27166\",\"type\":\"Line\"},{\"attributes\":{},\"id\":\"30204\",\"type\":\"UnionRenderers\"},{\"attributes\":{\"fill_alpha\":0.2,\"fill_color\":\"orange\",\"x\":{\"field\":\"x\"},\"y1\":{\"field\":\"y1\"},\"y2\":{\"field\":\"y2\"}},\"id\":\"27736\",\"type\":\"VArea\"},{\"attributes\":{},\"id\":\"30219\",\"type\":\"Selection\"},{\"attributes\":{\"data\":{\"x\":[5.0,5.0],\"y\":[0,0.18390112513315407]},\"selected\":{\"id\":\"30045\"},\"selection_policy\":{\"id\":\"30044\"}},\"id\":\"27160\",\"type\":\"ColumnDataSource\"},{\"attributes\":{\"fill_alpha\":0.1,\"fill_color\":\"orange\",\"x\":{\"field\":\"x\"},\"y1\":{\"field\":\"y1\"},\"y2\":{\"field\":\"y2\"}},\"id\":\"27737\",\"type\":\"VArea\"},{\"attributes\":{},\"id\":\"30205\",\"type\":\"Selection\"},{\"attributes\":{\"data_source\":{\"id\":\"27170\"},\"glyph\":{\"id\":\"27171\"},\"hover_glyph\":null,\"muted_glyph\":null,\"nonselection_glyph\":{\"id\":\"27172\"},\"selection_glyph\":null,\"view\":{\"id\":\"27174\"}},\"id\":\"27173\",\"type\":\"GlyphRenderer\"},{\"attributes\":{\"line_alpha\":0.1,\"line_color\":\"orange\",\"x\":{\"field\":\"x\"},\"y\":{\"field\":\"y\"}},\"id\":\"27732\",\"type\":\"Line\"},{\"attributes\":{\"data_source\":{\"id\":\"27160\"},\"glyph\":{\"id\":\"27161\"},\"hover_glyph\":null,\"muted_glyph\":null,\"nonselection_glyph\":{\"id\":\"27162\"},\"selection_glyph\":null,\"view\":{\"id\":\"27164\"}},\"id\":\"27163\",\"type\":\"GlyphRenderer\"},{\"attributes\":{\"source\":{\"id\":\"27730\"}},\"id\":\"27734\",\"type\":\"CDSView\"},{\"attributes\":{},\"id\":\"30096\",\"type\":\"UnionRenderers\"},{\"attributes\":{\"data_source\":{\"id\":\"27185\"},\"glyph\":{\"id\":\"27186\"},\"hover_glyph\":null,\"muted_glyph\":null,\"nonselection_glyph\":{\"id\":\"27187\"},\"selection_glyph\":null,\"view\":{\"id\":\"27189\"}},\"id\":\"27188\",\"type\":\"GlyphRenderer\"},{\"attributes\":{\"line_color\":\"orange\",\"x\":{\"field\":\"x\"},\"y\":{\"field\":\"y\"}},\"id\":\"27741\",\"type\":\"Line\"},{\"attributes\":{\"source\":{\"id\":\"27735\"}},\"id\":\"27739\",\"type\":\"CDSView\"},{\"attributes\":{},\"id\":\"30097\",\"type\":\"Selection\"},{\"attributes\":{\"line_alpha\":0.1,\"line_color\":\"orange\",\"x\":{\"field\":\"x\"},\"y\":{\"field\":\"y\"}},\"id\":\"27162\",\"type\":\"Line\"},{\"attributes\":{\"data\":{\"x\":[1.0,1.0],\"y\":[0,0.09515698697710769]},\"selected\":{\"id\":\"30245\"},\"selection_policy\":{\"id\":\"30244\"}},\"id\":\"27740\",\"type\":\"ColumnDataSource\"},{\"attributes\":{\"source\":{\"id\":\"27160\"}},\"id\":\"27164\",\"type\":\"CDSView\"},{\"attributes\":{\"line_color\":\"orange\",\"x\":{\"field\":\"x\"},\"y\":{\"field\":\"y\"}},\"id\":\"27746\",\"type\":\"Line\"},{\"attributes\":{\"data_source\":{\"id\":\"27165\"},\"glyph\":{\"id\":\"27166\"},\"hover_glyph\":null,\"muted_glyph\":null,\"nonselection_glyph\":{\"id\":\"27167\"},\"selection_glyph\":null,\"view\":{\"id\":\"27169\"}},\"id\":\"27168\",\"type\":\"GlyphRenderer\"},{\"attributes\":{\"data_source\":{\"id\":\"27750\"},\"glyph\":{\"id\":\"27751\"},\"hover_glyph\":null,\"muted_glyph\":null,\"nonselection_glyph\":{\"id\":\"27752\"},\"selection_glyph\":null,\"view\":{\"id\":\"27754\"}},\"id\":\"27753\",\"type\":\"GlyphRenderer\"},{\"attributes\":{\"data_source\":{\"id\":\"27740\"},\"glyph\":{\"id\":\"27741\"},\"hover_glyph\":null,\"muted_glyph\":null,\"nonselection_glyph\":{\"id\":\"27742\"},\"selection_glyph\":null,\"view\":{\"id\":\"27744\"}},\"id\":\"27743\",\"type\":\"GlyphRenderer\"},{\"attributes\":{\"source\":{\"id\":\"27170\"}},\"id\":\"27174\",\"type\":\"CDSView\"},{\"attributes\":{},\"id\":\"30220\",\"type\":\"UnionRenderers\"},{\"attributes\":{\"data_source\":{\"id\":\"27745\"},\"glyph\":{\"id\":\"27746\"},\"hover_glyph\":null,\"muted_glyph\":null,\"nonselection_glyph\":{\"id\":\"27747\"},\"selection_glyph\":null,\"view\":{\"id\":\"27749\"}},\"id\":\"27748\",\"type\":\"GlyphRenderer\"},{\"attributes\":{\"fill_alpha\":0.2,\"fill_color\":\"orange\",\"x\":{\"field\":\"x\"},\"y1\":{\"field\":\"y1\"},\"y2\":{\"field\":\"y2\"}},\"id\":\"27171\",\"type\":\"VArea\"},{\"attributes\":{},\"id\":\"30221\",\"type\":\"Selection\"},{\"attributes\":{\"line_alpha\":0.1,\"line_color\":\"orange\",\"x\":{\"field\":\"x\"},\"y\":{\"field\":\"y\"}},\"id\":\"27167\",\"type\":\"Line\"},{\"attributes\":{},\"id\":\"30206\",\"type\":\"UnionRenderers\"},{\"attributes\":{\"source\":{\"id\":\"27165\"}},\"id\":\"27169\",\"type\":\"CDSView\"},{\"attributes\":{\"data\":{\"x\":[2.0,2.0],\"y\":[0,0.09515698697710769]},\"selected\":{\"id\":\"30247\"},\"selection_policy\":{\"id\":\"30246\"}},\"id\":\"27745\",\"type\":\"ColumnDataSource\"},{\"attributes\":{\"data\":{\"x\":[5.0,6.0],\"y1\":[0,0],\"y2\":[0.18390112513315407,0.18390112513315407]},\"selected\":{\"id\":\"30049\"},\"selection_policy\":{\"id\":\"30048\"}},\"id\":\"27170\",\"type\":\"ColumnDataSource\"},{\"attributes\":{\"line_alpha\":0.1,\"line_color\":\"orange\",\"x\":{\"field\":\"x\"},\"y\":{\"field\":\"y\"}},\"id\":\"27742\",\"type\":\"Line\"},{\"attributes\":{},\"id\":\"30098\",\"type\":\"UnionRenderers\"},{\"attributes\":{},\"id\":\"30207\",\"type\":\"Selection\"},{\"attributes\":{},\"id\":\"30178\",\"type\":\"UnionRenderers\"},{\"attributes\":{},\"id\":\"30028\",\"type\":\"UnionRenderers\"},{\"attributes\":{},\"id\":\"30179\",\"type\":\"Selection\"},{\"attributes\":{},\"id\":\"30029\",\"type\":\"Selection\"},{\"attributes\":{},\"id\":\"30014\",\"type\":\"UnionRenderers\"},{\"attributes\":{},\"id\":\"30126\",\"type\":\"UnionRenderers\"},{\"attributes\":{},\"id\":\"30015\",\"type\":\"Selection\"},{\"attributes\":{},\"id\":\"30127\",\"type\":\"Selection\"},{\"attributes\":{},\"id\":\"30180\",\"type\":\"UnionRenderers\"},{\"attributes\":{},\"id\":\"30030\",\"type\":\"UnionRenderers\"},{\"attributes\":{},\"id\":\"30181\",\"type\":\"Selection\"},{\"attributes\":{},\"id\":\"30031\",\"type\":\"Selection\"},{\"attributes\":{},\"id\":\"30016\",\"type\":\"UnionRenderers\"},{\"attributes\":{},\"id\":\"30128\",\"type\":\"UnionRenderers\"},{\"attributes\":{},\"id\":\"30017\",\"type\":\"Selection\"},{\"attributes\":{},\"id\":\"30129\",\"type\":\"Selection\"},{\"attributes\":{},\"id\":\"30182\",\"type\":\"UnionRenderers\"},{\"attributes\":{},\"id\":\"30032\",\"type\":\"UnionRenderers\"},{\"attributes\":{},\"id\":\"30018\",\"type\":\"UnionRenderers\"},{\"attributes\":{},\"id\":\"30130\",\"type\":\"UnionRenderers\"},{\"attributes\":{},\"id\":\"30183\",\"type\":\"Selection\"},{\"attributes\":{},\"id\":\"30033\",\"type\":\"Selection\"},{\"attributes\":{},\"id\":\"30019\",\"type\":\"Selection\"},{\"attributes\":{},\"id\":\"30131\",\"type\":\"Selection\"},{\"attributes\":{},\"id\":\"27061\",\"type\":\"BasicTicker\"},{\"attributes\":{},\"id\":\"30184\",\"type\":\"UnionRenderers\"},{\"attributes\":{},\"id\":\"30034\",\"type\":\"UnionRenderers\"},{\"attributes\":{},\"id\":\"30185\",\"type\":\"Selection\"},{\"attributes\":{},\"id\":\"30035\",\"type\":\"Selection\"},{\"attributes\":{},\"id\":\"30020\",\"type\":\"UnionRenderers\"},{\"attributes\":{},\"id\":\"30132\",\"type\":\"UnionRenderers\"},{\"attributes\":{\"active_drag\":\"auto\",\"active_inspect\":\"auto\",\"active_multi\":null,\"active_scroll\":\"auto\",\"active_tap\":\"auto\"},\"id\":\"27064\",\"type\":\"Toolbar\"},{\"attributes\":{},\"id\":\"30021\",\"type\":\"Selection\"},{\"attributes\":{},\"id\":\"30133\",\"type\":\"Selection\"},{\"attributes\":{},\"id\":\"29991\",\"type\":\"BasicTickFormatter\"},{\"attributes\":{},\"id\":\"30186\",\"type\":\"UnionRenderers\"},{\"attributes\":{},\"id\":\"30036\",\"type\":\"UnionRenderers\"},{\"attributes\":{\"axis\":{\"id\":\"27060\"},\"dimension\":1,\"ticker\":null},\"id\":\"27063\",\"type\":\"Grid\"},{\"attributes\":{},\"id\":\"30187\",\"type\":\"Selection\"},{\"attributes\":{},\"id\":\"30037\",\"type\":\"Selection\"},{\"attributes\":{},\"id\":\"27054\",\"type\":\"LinearScale\"},{\"attributes\":{},\"id\":\"30022\",\"type\":\"UnionRenderers\"},{\"attributes\":{},\"id\":\"30134\",\"type\":\"UnionRenderers\"},{\"attributes\":{},\"id\":\"29993\",\"type\":\"BasicTickFormatter\"},{\"attributes\":{},\"id\":\"30023\",\"type\":\"Selection\"},{\"attributes\":{},\"id\":\"30146\",\"type\":\"UnionRenderers\"},{\"attributes\":{},\"id\":\"30147\",\"type\":\"Selection\"},{\"attributes\":{},\"id\":\"30188\",\"type\":\"UnionRenderers\"},{\"attributes\":{},\"id\":\"30038\",\"type\":\"UnionRenderers\"},{\"attributes\":{},\"id\":\"30024\",\"type\":\"UnionRenderers\"},{\"attributes\":{},\"id\":\"30189\",\"type\":\"Selection\"},{\"attributes\":{},\"id\":\"30039\",\"type\":\"Selection\"},{\"attributes\":{},\"id\":\"30025\",\"type\":\"Selection\"},{\"attributes\":{},\"id\":\"30148\",\"type\":\"UnionRenderers\"},{\"attributes\":{},\"id\":\"30149\",\"type\":\"Selection\"},{\"attributes\":{},\"id\":\"30190\",\"type\":\"UnionRenderers\"},{\"attributes\":{},\"id\":\"30040\",\"type\":\"UnionRenderers\"},{\"attributes\":{},\"id\":\"30191\",\"type\":\"Selection\"},{\"attributes\":{},\"id\":\"30041\",\"type\":\"Selection\"},{\"attributes\":{},\"id\":\"30026\",\"type\":\"UnionRenderers\"},{\"attributes\":{},\"id\":\"30027\",\"type\":\"Selection\"},{\"attributes\":{},\"id\":\"30150\",\"type\":\"UnionRenderers\"},{\"attributes\":{},\"id\":\"30192\",\"type\":\"UnionRenderers\"},{\"attributes\":{},\"id\":\"30042\",\"type\":\"UnionRenderers\"},{\"attributes\":{},\"id\":\"30151\",\"type\":\"Selection\"},{\"attributes\":{\"source\":{\"id\":\"27385\"}},\"id\":\"27389\",\"type\":\"CDSView\"},{\"attributes\":{\"source\":{\"id\":\"27595\"}},\"id\":\"27599\",\"type\":\"CDSView\"},{\"attributes\":{},\"id\":\"30113\",\"type\":\"Selection\"},{\"attributes\":{\"background_fill_color\":\"#fafafa\",\"below\":[{\"id\":\"27696\"}],\"center\":[{\"id\":\"27699\"},{\"id\":\"27703\"}],\"frame_height\":200,\"frame_width\":200,\"left\":[{\"id\":\"27700\"}],\"renderers\":[{\"id\":\"27708\"},{\"id\":\"27713\"},{\"id\":\"27718\"},{\"id\":\"27723\"},{\"id\":\"27728\"},{\"id\":\"27733\"},{\"id\":\"27738\"},{\"id\":\"27743\"},{\"id\":\"27748\"},{\"id\":\"27753\"},{\"id\":\"27758\"},{\"id\":\"27763\"},{\"id\":\"27768\"},{\"id\":\"27773\"},{\"id\":\"27778\"},{\"id\":\"27783\"},{\"id\":\"27788\"},{\"id\":\"27793\"},{\"id\":\"27798\"},{\"id\":\"27803\"},{\"id\":\"27808\"},{\"id\":\"27813\"},{\"id\":\"27818\"},{\"id\":\"27823\"},{\"id\":\"27828\"},{\"id\":\"27833\"},{\"id\":\"27838\"},{\"id\":\"27843\"}],\"title\":{\"id\":\"27686\"},\"toolbar\":{\"id\":\"27704\"},\"x_range\":{\"id\":\"27688\"},\"x_scale\":{\"id\":\"27692\"},\"y_range\":{\"id\":\"27690\"},\"y_scale\":{\"id\":\"27694\"}},\"id\":\"27685\",\"subtype\":\"Figure\",\"type\":\"Plot\"},{\"attributes\":{\"data_source\":{\"id\":\"27400\"},\"glyph\":{\"id\":\"27401\"},\"hover_glyph\":null,\"muted_glyph\":null,\"nonselection_glyph\":{\"id\":\"27402\"},\"selection_glyph\":null,\"view\":{\"id\":\"27404\"}},\"id\":\"27403\",\"type\":\"GlyphRenderer\"},{\"attributes\":{},\"id\":\"30099\",\"type\":\"Selection\"},{\"attributes\":{\"background_fill_color\":\"#fafafa\",\"below\":[{\"id\":\"27536\"}],\"center\":[{\"id\":\"27539\"},{\"id\":\"27543\"}],\"frame_height\":200,\"frame_width\":200,\"left\":[{\"id\":\"27540\"}],\"renderers\":[{\"id\":\"27548\"},{\"id\":\"27553\"},{\"id\":\"27558\"},{\"id\":\"27563\"},{\"id\":\"27568\"},{\"id\":\"27573\"},{\"id\":\"27578\"},{\"id\":\"27583\"},{\"id\":\"27588\"},{\"id\":\"27593\"},{\"id\":\"27598\"},{\"id\":\"27603\"},{\"id\":\"27608\"},{\"id\":\"27613\"},{\"id\":\"27618\"},{\"id\":\"27623\"},{\"id\":\"27628\"},{\"id\":\"27633\"},{\"id\":\"27638\"},{\"id\":\"27643\"},{\"id\":\"27648\"},{\"id\":\"27653\"},{\"id\":\"27658\"},{\"id\":\"27663\"},{\"id\":\"27668\"},{\"id\":\"27673\"},{\"id\":\"27678\"},{\"id\":\"27683\"}],\"title\":{\"id\":\"27526\"},\"toolbar\":{\"id\":\"27544\"},\"x_range\":{\"id\":\"27528\"},\"x_scale\":{\"id\":\"27532\"},\"y_range\":{\"id\":\"27530\"},\"y_scale\":{\"id\":\"27534\"}},\"id\":\"27525\",\"subtype\":\"Figure\",\"type\":\"Plot\"},{\"attributes\":{\"line_alpha\":0.1,\"line_color\":\"orange\",\"x\":{\"field\":\"x\"},\"y\":{\"field\":\"y\"}},\"id\":\"27072\",\"type\":\"Line\"},{\"attributes\":{\"line_alpha\":0.1,\"line_color\":\"orange\",\"x\":{\"field\":\"x\"},\"y\":{\"field\":\"y\"}},\"id\":\"27602\",\"type\":\"Line\"},{\"attributes\":{\"data_source\":{\"id\":\"27390\"},\"glyph\":{\"id\":\"27391\"},\"hover_glyph\":null,\"muted_glyph\":null,\"nonselection_glyph\":{\"id\":\"27392\"},\"selection_glyph\":null,\"view\":{\"id\":\"27394\"}},\"id\":\"27393\",\"type\":\"GlyphRenderer\"},{\"attributes\":{\"line_alpha\":0.1,\"line_color\":\"orange\",\"x\":{\"field\":\"x\"},\"y\":{\"field\":\"y\"}},\"id\":\"27597\",\"type\":\"Line\"},{\"attributes\":{},\"id\":\"30070\",\"type\":\"UnionRenderers\"},{\"attributes\":{},\"id\":\"30278\",\"type\":\"UnionRenderers\"},{\"attributes\":{\"data_source\":{\"id\":\"27600\"},\"glyph\":{\"id\":\"27601\"},\"hover_glyph\":null,\"muted_glyph\":null,\"nonselection_glyph\":{\"id\":\"27602\"},\"selection_glyph\":null,\"view\":{\"id\":\"27604\"}},\"id\":\"27603\",\"type\":\"GlyphRenderer\"},{\"attributes\":{\"data\":{\"x\":[-1.0,-1.0],\"y\":[0,0.10976745884748641]},\"selected\":{\"id\":\"30121\"},\"selection_policy\":{\"id\":\"30120\"}},\"id\":\"27390\",\"type\":\"ColumnDataSource\"},{\"attributes\":{\"line_color\":\"orange\",\"x\":{\"field\":\"x\"},\"y\":{\"field\":\"y\"}},\"id\":\"27391\",\"type\":\"Line\"},{\"attributes\":{\"fill_alpha\":0.2,\"fill_color\":\"orange\",\"x\":{\"field\":\"x\"},\"y1\":{\"field\":\"y1\"},\"y2\":{\"field\":\"y2\"}},\"id\":\"27606\",\"type\":\"VArea\"},{\"attributes\":{},\"id\":\"30071\",\"type\":\"Selection\"},{\"attributes\":{\"fill_alpha\":0.1,\"fill_color\":\"orange\",\"x\":{\"field\":\"x\"},\"y1\":{\"field\":\"y1\"},\"y2\":{\"field\":\"y2\"}},\"id\":\"27402\",\"type\":\"VArea\"},{\"attributes\":{\"source\":{\"id\":\"27600\"}},\"id\":\"27604\",\"type\":\"CDSView\"},{\"attributes\":{},\"id\":\"30152\",\"type\":\"UnionRenderers\"},{\"attributes\":{\"data_source\":{\"id\":\"27620\"},\"glyph\":{\"id\":\"27621\"},\"hover_glyph\":null,\"muted_glyph\":null,\"nonselection_glyph\":{\"id\":\"27622\"},\"selection_glyph\":null,\"view\":{\"id\":\"27624\"}},\"id\":\"27623\",\"type\":\"GlyphRenderer\"},{\"attributes\":{\"line_color\":\"orange\",\"x\":{\"field\":\"x\"},\"y\":{\"field\":\"y\"}},\"id\":\"27396\",\"type\":\"Line\"},{\"attributes\":{},\"id\":\"30114\",\"type\":\"UnionRenderers\"},{\"attributes\":{\"data\":{\"x\":[0.0,0.0],\"y\":[0,0.10976745884748641]},\"selected\":{\"id\":\"30123\"},\"selection_policy\":{\"id\":\"30122\"}},\"id\":\"27395\",\"type\":\"ColumnDataSource\"},{\"attributes\":{\"data\":{\"x\":[2.0,3.0],\"y1\":[0,0],\"y2\":[0.10273275819437086,0.10273275819437086]},\"selected\":{\"id\":\"30199\"},\"selection_policy\":{\"id\":\"30198\"}},\"id\":\"27605\",\"type\":\"ColumnDataSource\"},{\"attributes\":{},\"id\":\"30153\",\"type\":\"Selection\"},{\"attributes\":{},\"id\":\"30115\",\"type\":\"Selection\"},{\"attributes\":{\"line_alpha\":0.1,\"line_color\":\"orange\",\"x\":{\"field\":\"x\"},\"y\":{\"field\":\"y\"}},\"id\":\"27392\",\"type\":\"Line\"},{\"attributes\":{\"line_color\":\"orange\",\"x\":{\"field\":\"x\"},\"y\":{\"field\":\"y\"}},\"id\":\"27596\",\"type\":\"Line\"},{\"attributes\":{},\"id\":\"30100\",\"type\":\"UnionRenderers\"},{\"attributes\":{\"source\":{\"id\":\"27390\"}},\"id\":\"27394\",\"type\":\"CDSView\"},{\"attributes\":{\"line_color\":\"orange\",\"x\":{\"field\":\"x\"},\"y\":{\"field\":\"y\"}},\"id\":\"27601\",\"type\":\"Line\"},{\"attributes\":{\"data_source\":{\"id\":\"27395\"},\"glyph\":{\"id\":\"27396\"},\"hover_glyph\":null,\"muted_glyph\":null,\"nonselection_glyph\":{\"id\":\"27397\"},\"selection_glyph\":null,\"view\":{\"id\":\"27399\"}},\"id\":\"27398\",\"type\":\"GlyphRenderer\"},{\"attributes\":{\"data\":{\"x\":[3.0,3.0],\"y\":[0,0.10273275819437086]},\"selected\":{\"id\":\"30197\"},\"selection_policy\":{\"id\":\"30196\"}},\"id\":\"27600\",\"type\":\"ColumnDataSource\"},{\"attributes\":{},\"id\":\"30101\",\"type\":\"Selection\"},{\"attributes\":{\"line_color\":\"orange\",\"x\":{\"field\":\"x\"},\"y\":{\"field\":\"y\"}},\"id\":\"27406\",\"type\":\"Line\"},{\"attributes\":{\"source\":{\"id\":\"27605\"}},\"id\":\"27609\",\"type\":\"CDSView\"},{\"attributes\":{},\"id\":\"30072\",\"type\":\"UnionRenderers\"},{\"attributes\":{\"fill_alpha\":0.2,\"fill_color\":\"orange\",\"x\":{\"field\":\"x\"},\"y1\":{\"field\":\"y1\"},\"y2\":{\"field\":\"y2\"}},\"id\":\"27401\",\"type\":\"VArea\"},{\"attributes\":{\"bottom\":{\"value\":0},\"fill_alpha\":{\"value\":0.1},\"fill_color\":{\"value\":\"navy\"},\"left\":{\"field\":\"left\"},\"line_alpha\":{\"value\":0.1},\"line_color\":{\"value\":\"white\"},\"right\":{\"field\":\"right\"},\"top\":{\"field\":\"top\"}},\"id\":\"27547\",\"type\":\"Quad\"},{\"attributes\":{\"data_source\":{\"id\":\"27550\"},\"glyph\":{\"id\":\"27551\"},\"hover_glyph\":null,\"muted_glyph\":null,\"nonselection_glyph\":{\"id\":\"27552\"},\"selection_glyph\":null,\"view\":{\"id\":\"27554\"}},\"id\":\"27553\",\"type\":\"GlyphRenderer\"},{\"attributes\":{\"line_alpha\":0.1,\"line_color\":\"orange\",\"x\":{\"field\":\"x\"},\"y\":{\"field\":\"y\"}},\"id\":\"27397\",\"type\":\"Line\"},{\"attributes\":{},\"id\":\"30073\",\"type\":\"Selection\"},{\"attributes\":{\"source\":{\"id\":\"27395\"}},\"id\":\"27399\",\"type\":\"CDSView\"},{\"attributes\":{\"line_color\":\"orange\",\"x\":{\"field\":\"x\"},\"y\":{\"field\":\"y\"}},\"id\":\"27611\",\"type\":\"Line\"},{\"attributes\":{},\"id\":\"30154\",\"type\":\"UnionRenderers\"},{\"attributes\":{\"data\":{\"x\":[-1.0,0.0],\"y1\":[0,0],\"y2\":[0.10976745884748641,0.10976745884748641]},\"selected\":{\"id\":\"30125\"},\"selection_policy\":{\"id\":\"30124\"}},\"id\":\"27400\",\"type\":\"ColumnDataSource\"},{\"attributes\":{\"source\":{\"id\":\"27545\"}},\"id\":\"27549\",\"type\":\"CDSView\"},{\"attributes\":{},\"id\":\"30116\",\"type\":\"UnionRenderers\"},{\"attributes\":{\"data_source\":{\"id\":\"27545\"},\"glyph\":{\"id\":\"27546\"},\"hover_glyph\":null,\"muted_glyph\":null,\"nonselection_glyph\":{\"id\":\"27547\"},\"selection_glyph\":null,\"view\":{\"id\":\"27549\"}},\"id\":\"27548\",\"type\":\"GlyphRenderer\"},{\"attributes\":{\"source\":{\"id\":\"27400\"}},\"id\":\"27404\",\"type\":\"CDSView\"},{\"attributes\":{},\"id\":\"30155\",\"type\":\"Selection\"},{\"attributes\":{\"data_source\":{\"id\":\"27560\"},\"glyph\":{\"id\":\"27561\"},\"hover_glyph\":null,\"muted_glyph\":null,\"nonselection_glyph\":{\"id\":\"27562\"},\"selection_glyph\":null,\"view\":{\"id\":\"27564\"}},\"id\":\"27563\",\"type\":\"GlyphRenderer\"},{\"attributes\":{\"data\":{\"x\":[0.0,1.0],\"y1\":[0,0],\"y2\":[0.10976745884748641,0.10976745884748641]},\"selected\":{\"id\":\"30131\"},\"selection_policy\":{\"id\":\"30130\"}},\"id\":\"27415\",\"type\":\"ColumnDataSource\"},{\"attributes\":{},\"id\":\"30117\",\"type\":\"Selection\"},{\"attributes\":{\"line_color\":\"orange\",\"x\":{\"field\":\"x\"},\"y\":{\"field\":\"y\"}},\"id\":\"27411\",\"type\":\"Line\"},{\"attributes\":{},\"id\":\"30102\",\"type\":\"UnionRenderers\"},{\"attributes\":{\"data\":{\"x\":[-1.0,-1.0],\"y\":[0,0.10273275819437086]},\"selected\":{\"id\":\"30177\"},\"selection_policy\":{\"id\":\"30176\"}},\"id\":\"27550\",\"type\":\"ColumnDataSource\"},{\"attributes\":{\"data\":{\"x\":[0.0,0.0],\"y\":[0,0.10976745884748641]},\"selected\":{\"id\":\"30127\"},\"selection_policy\":{\"id\":\"30126\"}},\"id\":\"27405\",\"type\":\"ColumnDataSource\"},{\"attributes\":{\"line_color\":\"orange\",\"x\":{\"field\":\"x\"},\"y\":{\"field\":\"y\"}},\"id\":\"27551\",\"type\":\"Line\"},{\"attributes\":{},\"id\":\"30103\",\"type\":\"Selection\"},{\"attributes\":{\"source\":{\"id\":\"27425\"}},\"id\":\"27429\",\"type\":\"CDSView\"},{\"attributes\":{\"fill_alpha\":0.1,\"fill_color\":\"orange\",\"x\":{\"field\":\"x\"},\"y1\":{\"field\":\"y1\"},\"y2\":{\"field\":\"y2\"}},\"id\":\"27562\",\"type\":\"VArea\"},{\"attributes\":{\"data_source\":{\"id\":\"27405\"},\"glyph\":{\"id\":\"27406\"},\"hover_glyph\":null,\"muted_glyph\":null,\"nonselection_glyph\":{\"id\":\"27407\"},\"selection_glyph\":null,\"view\":{\"id\":\"27409\"}},\"id\":\"27408\",\"type\":\"GlyphRenderer\"},{\"attributes\":{\"line_color\":\"orange\",\"x\":{\"field\":\"x\"},\"y\":{\"field\":\"y\"}},\"id\":\"27556\",\"type\":\"Line\"},{\"attributes\":{},\"id\":\"30074\",\"type\":\"UnionRenderers\"},{\"attributes\":{\"data\":{\"x\":[1.0,1.0],\"y\":[0,0.10976745884748641]},\"selected\":{\"id\":\"30129\"},\"selection_policy\":{\"id\":\"30128\"}},\"id\":\"27410\",\"type\":\"ColumnDataSource\"},{\"attributes\":{\"data\":{\"x\":[0.0,0.0],\"y\":[0,0.10273275819437086]},\"selected\":{\"id\":\"30179\"},\"selection_policy\":{\"id\":\"30178\"}},\"id\":\"27555\",\"type\":\"ColumnDataSource\"},{\"attributes\":{},\"id\":\"30075\",\"type\":\"Selection\"},{\"attributes\":{},\"id\":\"30282\",\"type\":\"UnionRenderers\"},{\"attributes\":{\"line_alpha\":0.1,\"line_color\":\"orange\",\"x\":{\"field\":\"x\"},\"y\":{\"field\":\"y\"}},\"id\":\"27407\",\"type\":\"Line\"},{\"attributes\":{\"line_alpha\":0.1,\"line_color\":\"orange\",\"x\":{\"field\":\"x\"},\"y\":{\"field\":\"y\"}},\"id\":\"27552\",\"type\":\"Line\"},{\"attributes\":{\"source\":{\"id\":\"27405\"}},\"id\":\"27409\",\"type\":\"CDSView\"},{\"attributes\":{\"source\":{\"id\":\"27550\"}},\"id\":\"27554\",\"type\":\"CDSView\"},{\"attributes\":{},\"id\":\"30283\",\"type\":\"Selection\"},{\"attributes\":{\"data_source\":{\"id\":\"27410\"},\"glyph\":{\"id\":\"27411\"},\"hover_glyph\":null,\"muted_glyph\":null,\"nonselection_glyph\":{\"id\":\"27412\"},\"selection_glyph\":null,\"view\":{\"id\":\"27414\"}},\"id\":\"27413\",\"type\":\"GlyphRenderer\"},{\"attributes\":{\"data_source\":{\"id\":\"27555\"},\"glyph\":{\"id\":\"27556\"},\"hover_glyph\":null,\"muted_glyph\":null,\"nonselection_glyph\":{\"id\":\"27557\"},\"selection_glyph\":null,\"view\":{\"id\":\"27559\"}},\"id\":\"27558\",\"type\":\"GlyphRenderer\"},{\"attributes\":{},\"id\":\"30156\",\"type\":\"UnionRenderers\"},{\"attributes\":{\"fill_alpha\":0.2,\"fill_color\":\"orange\",\"x\":{\"field\":\"x\"},\"y1\":{\"field\":\"y1\"},\"y2\":{\"field\":\"y2\"}},\"id\":\"27416\",\"type\":\"VArea\"},{\"attributes\":{\"line_color\":\"orange\",\"x\":{\"field\":\"x\"},\"y\":{\"field\":\"y\"}},\"id\":\"27566\",\"type\":\"Line\"},{\"attributes\":{\"fill_alpha\":0.1,\"fill_color\":\"orange\",\"x\":{\"field\":\"x\"},\"y1\":{\"field\":\"y1\"},\"y2\":{\"field\":\"y2\"}},\"id\":\"27417\",\"type\":\"VArea\"},{\"attributes\":{},\"id\":\"30104\",\"type\":\"UnionRenderers\"},{\"attributes\":{},\"id\":\"30157\",\"type\":\"Selection\"},{\"attributes\":{\"fill_alpha\":0.2,\"fill_color\":\"orange\",\"x\":{\"field\":\"x\"},\"y1\":{\"field\":\"y1\"},\"y2\":{\"field\":\"y2\"}},\"id\":\"27561\",\"type\":\"VArea\"},{\"attributes\":{\"line_alpha\":0.1,\"line_color\":\"orange\",\"x\":{\"field\":\"x\"},\"y\":{\"field\":\"y\"}},\"id\":\"27412\",\"type\":\"Line\"},{\"attributes\":{},\"id\":\"30105\",\"type\":\"Selection\"},{\"attributes\":{\"source\":{\"id\":\"27410\"}},\"id\":\"27414\",\"type\":\"CDSView\"},{\"attributes\":{\"line_alpha\":0.1,\"line_color\":\"orange\",\"x\":{\"field\":\"x\"},\"y\":{\"field\":\"y\"}},\"id\":\"27557\",\"type\":\"Line\"},{\"attributes\":{\"source\":{\"id\":\"27430\"}},\"id\":\"27434\",\"type\":\"CDSView\"},{\"attributes\":{\"source\":{\"id\":\"27555\"}},\"id\":\"27559\",\"type\":\"CDSView\"},{\"attributes\":{},\"id\":\"30279\",\"type\":\"Selection\"},{\"attributes\":{\"data\":{\"x\":[-1.0,0.0],\"y1\":[0,0],\"y2\":[0.10273275819437086,0.10273275819437086]},\"selected\":{\"id\":\"30181\"},\"selection_policy\":{\"id\":\"30180\"}},\"id\":\"27560\",\"type\":\"ColumnDataSource\"},{\"attributes\":{\"fill_alpha\":0.1,\"fill_color\":\"orange\",\"x\":{\"field\":\"x\"},\"y1\":{\"field\":\"y1\"},\"y2\":{\"field\":\"y2\"}},\"id\":\"27447\",\"type\":\"VArea\"},{\"attributes\":{\"source\":{\"id\":\"27560\"}},\"id\":\"27564\",\"type\":\"CDSView\"},{\"attributes\":{},\"id\":\"30076\",\"type\":\"UnionRenderers\"},{\"attributes\":{\"data\":{\"x\":[1.0,2.0],\"y1\":[0,0],\"y2\":[0.10976745884748641,0.10976745884748641]},\"selected\":{\"id\":\"30137\"},\"selection_policy\":{\"id\":\"30136\"}},\"id\":\"27430\",\"type\":\"ColumnDataSource\"},{\"attributes\":{\"data\":{\"x\":[0.0,1.0],\"y1\":[0,0],\"y2\":[0.10273275819437086,0.10273275819437086]},\"selected\":{\"id\":\"30187\"},\"selection_policy\":{\"id\":\"30186\"}},\"id\":\"27575\",\"type\":\"ColumnDataSource\"},{\"attributes\":{},\"id\":\"30118\",\"type\":\"UnionRenderers\"},{\"attributes\":{\"line_color\":\"orange\",\"x\":{\"field\":\"x\"},\"y\":{\"field\":\"y\"}},\"id\":\"27436\",\"type\":\"Line\"},{\"attributes\":{\"line_color\":\"orange\",\"x\":{\"field\":\"x\"},\"y\":{\"field\":\"y\"}},\"id\":\"27571\",\"type\":\"Line\"},{\"attributes\":{},\"id\":\"30077\",\"type\":\"Selection\"},{\"attributes\":{\"fill_alpha\":0.1,\"fill_color\":\"orange\",\"x\":{\"field\":\"x\"},\"y1\":{\"field\":\"y1\"},\"y2\":{\"field\":\"y2\"}},\"id\":\"27432\",\"type\":\"VArea\"},{\"attributes\":{},\"id\":\"30119\",\"type\":\"Selection\"},{\"attributes\":{},\"id\":\"30158\",\"type\":\"UnionRenderers\"},{\"attributes\":{\"fill_alpha\":0.2,\"fill_color\":\"orange\",\"x\":{\"field\":\"x\"},\"y1\":{\"field\":\"y1\"},\"y2\":{\"field\":\"y2\"}},\"id\":\"27431\",\"type\":\"VArea\"},{\"attributes\":{\"data\":{\"x\":[0.0,0.0],\"y\":[0,0.10273275819437086]},\"selected\":{\"id\":\"30183\"},\"selection_policy\":{\"id\":\"30182\"}},\"id\":\"27565\",\"type\":\"ColumnDataSource\"},{\"attributes\":{},\"id\":\"30285\",\"type\":\"Selection\"},{\"attributes\":{\"data_source\":{\"id\":\"27575\"},\"glyph\":{\"id\":\"27576\"},\"hover_glyph\":null,\"muted_glyph\":null,\"nonselection_glyph\":{\"id\":\"27577\"},\"selection_glyph\":null,\"view\":{\"id\":\"27579\"}},\"id\":\"27578\",\"type\":\"GlyphRenderer\"},{\"attributes\":{\"line_color\":\"orange\",\"x\":{\"field\":\"x\"},\"y\":{\"field\":\"y\"}},\"id\":\"27441\",\"type\":\"Line\"},{\"attributes\":{},\"id\":\"30159\",\"type\":\"Selection\"},{\"attributes\":{\"data_source\":{\"id\":\"27565\"},\"glyph\":{\"id\":\"27566\"},\"hover_glyph\":null,\"muted_glyph\":null,\"nonselection_glyph\":{\"id\":\"27567\"},\"selection_glyph\":null,\"view\":{\"id\":\"27569\"}},\"id\":\"27568\",\"type\":\"GlyphRenderer\"},{\"attributes\":{\"data\":{\"x\":[2.0,2.0],\"y\":[0,0.10976745884748641]},\"selected\":{\"id\":\"30139\"},\"selection_policy\":{\"id\":\"30138\"}},\"id\":\"27435\",\"type\":\"ColumnDataSource\"},{\"attributes\":{\"data\":{\"x\":[1.0,1.0],\"y\":[0,0.10273275819437086]},\"selected\":{\"id\":\"30185\"},\"selection_policy\":{\"id\":\"30184\"}},\"id\":\"27570\",\"type\":\"ColumnDataSource\"},{\"attributes\":{},\"id\":\"30106\",\"type\":\"UnionRenderers\"},{\"attributes\":{\"data_source\":{\"id\":\"27445\"},\"glyph\":{\"id\":\"27446\"},\"hover_glyph\":null,\"muted_glyph\":null,\"nonselection_glyph\":{\"id\":\"27447\"},\"selection_glyph\":null,\"view\":{\"id\":\"27449\"}},\"id\":\"27448\",\"type\":\"GlyphRenderer\"},{\"attributes\":{\"data_source\":{\"id\":\"27435\"},\"glyph\":{\"id\":\"27436\"},\"hover_glyph\":null,\"muted_glyph\":null,\"nonselection_glyph\":{\"id\":\"27437\"},\"selection_glyph\":null,\"view\":{\"id\":\"27439\"}},\"id\":\"27438\",\"type\":\"GlyphRenderer\"},{\"attributes\":{\"line_alpha\":0.1,\"line_color\":\"orange\",\"x\":{\"field\":\"x\"},\"y\":{\"field\":\"y\"}},\"id\":\"27567\",\"type\":\"Line\"},{\"attributes\":{},\"id\":\"30107\",\"type\":\"Selection\"},{\"attributes\":{\"data\":{\"x\":[3.0,3.0],\"y\":[0,0.10976745884748641]},\"selected\":{\"id\":\"30141\"},\"selection_policy\":{\"id\":\"30140\"}},\"id\":\"27440\",\"type\":\"ColumnDataSource\"},{\"attributes\":{\"source\":{\"id\":\"27565\"}},\"id\":\"27569\",\"type\":\"CDSView\"},{\"attributes\":{\"data_source\":{\"id\":\"27570\"},\"glyph\":{\"id\":\"27571\"},\"hover_glyph\":null,\"muted_glyph\":null,\"nonselection_glyph\":{\"id\":\"27572\"},\"selection_glyph\":null,\"view\":{\"id\":\"27574\"}},\"id\":\"27573\",\"type\":\"GlyphRenderer\"},{\"attributes\":{},\"id\":\"30078\",\"type\":\"UnionRenderers\"},{\"attributes\":{\"line_alpha\":0.1,\"line_color\":\"orange\",\"x\":{\"field\":\"x\"},\"y\":{\"field\":\"y\"}},\"id\":\"27437\",\"type\":\"Line\"},{\"attributes\":{\"fill_alpha\":0.2,\"fill_color\":\"orange\",\"x\":{\"field\":\"x\"},\"y1\":{\"field\":\"y1\"},\"y2\":{\"field\":\"y2\"}},\"id\":\"27576\",\"type\":\"VArea\"},{\"attributes\":{\"source\":{\"id\":\"27435\"}},\"id\":\"27439\",\"type\":\"CDSView\"},{\"attributes\":{\"fill_alpha\":0.1,\"fill_color\":\"orange\",\"x\":{\"field\":\"x\"},\"y1\":{\"field\":\"y1\"},\"y2\":{\"field\":\"y2\"}},\"id\":\"27577\",\"type\":\"VArea\"},{\"attributes\":{},\"id\":\"30079\",\"type\":\"Selection\"},{\"attributes\":{\"data_source\":{\"id\":\"27440\"},\"glyph\":{\"id\":\"27441\"},\"hover_glyph\":null,\"muted_glyph\":null,\"nonselection_glyph\":{\"id\":\"27442\"},\"selection_glyph\":null,\"view\":{\"id\":\"27444\"}},\"id\":\"27443\",\"type\":\"GlyphRenderer\"},{\"attributes\":{\"line_alpha\":0.1,\"line_color\":\"orange\",\"x\":{\"field\":\"x\"},\"y\":{\"field\":\"y\"}},\"id\":\"27572\",\"type\":\"Line\"},{\"attributes\":{},\"id\":\"30120\",\"type\":\"UnionRenderers\"},{\"attributes\":{\"line_color\":\"orange\",\"x\":{\"field\":\"x\"},\"y\":{\"field\":\"y\"}},\"id\":\"27451\",\"type\":\"Line\"},{\"attributes\":{\"source\":{\"id\":\"27570\"}},\"id\":\"27574\",\"type\":\"CDSView\"},{\"attributes\":{},\"id\":\"30160\",\"type\":\"UnionRenderers\"},{\"attributes\":{\"line_color\":\"orange\",\"x\":{\"field\":\"x\"},\"y\":{\"field\":\"y\"}},\"id\":\"27581\",\"type\":\"Line\"},{\"attributes\":{},\"id\":\"30121\",\"type\":\"Selection\"},{\"attributes\":{},\"id\":\"30161\",\"type\":\"Selection\"},{\"attributes\":{\"fill_alpha\":0.2,\"fill_color\":\"orange\",\"x\":{\"field\":\"x\"},\"y1\":{\"field\":\"y1\"},\"y2\":{\"field\":\"y2\"}},\"id\":\"27446\",\"type\":\"VArea\"},{\"attributes\":{\"source\":{\"id\":\"27575\"}},\"id\":\"27579\",\"type\":\"CDSView\"},{\"attributes\":{\"line_alpha\":0.1,\"line_color\":\"orange\",\"x\":{\"field\":\"x\"},\"y\":{\"field\":\"y\"}},\"id\":\"27442\",\"type\":\"Line\"},{\"attributes\":{\"data\":{\"x\":[1.0,1.0],\"y\":[0,0.10273275819437086]},\"selected\":{\"id\":\"30189\"},\"selection_policy\":{\"id\":\"30188\"}},\"id\":\"27580\",\"type\":\"ColumnDataSource\"},{\"attributes\":{},\"id\":\"30108\",\"type\":\"UnionRenderers\"},{\"attributes\":{\"source\":{\"id\":\"27440\"}},\"id\":\"27444\",\"type\":\"CDSView\"},{\"attributes\":{\"line_color\":\"orange\",\"x\":{\"field\":\"x\"},\"y\":{\"field\":\"y\"}},\"id\":\"27586\",\"type\":\"Line\"},{\"attributes\":{\"data_source\":{\"id\":\"27590\"},\"glyph\":{\"id\":\"27591\"},\"hover_glyph\":null,\"muted_glyph\":null,\"nonselection_glyph\":{\"id\":\"27592\"},\"selection_glyph\":null,\"view\":{\"id\":\"27594\"}},\"id\":\"27593\",\"type\":\"GlyphRenderer\"},{\"attributes\":{\"data\":{\"x\":[2.0,3.0],\"y1\":[0,0],\"y2\":[0.10976745884748641,0.10976745884748641]},\"selected\":{\"id\":\"30143\"},\"selection_policy\":{\"id\":\"30142\"}},\"id\":\"27445\",\"type\":\"ColumnDataSource\"},{\"attributes\":{},\"id\":\"30109\",\"type\":\"Selection\"},{\"attributes\":{\"data_source\":{\"id\":\"27580\"},\"glyph\":{\"id\":\"27581\"},\"hover_glyph\":null,\"muted_glyph\":null,\"nonselection_glyph\":{\"id\":\"27582\"},\"selection_glyph\":null,\"view\":{\"id\":\"27584\"}},\"id\":\"27583\",\"type\":\"GlyphRenderer\"},{\"attributes\":{\"source\":{\"id\":\"27445\"}},\"id\":\"27449\",\"type\":\"CDSView\"},{\"attributes\":{\"fill_alpha\":0.1,\"fill_color\":\"orange\",\"x\":{\"field\":\"x\"},\"y1\":{\"field\":\"y1\"},\"y2\":{\"field\":\"y2\"}},\"id\":\"27462\",\"type\":\"VArea\"},{\"attributes\":{\"fill_alpha\":0.1,\"fill_color\":\"orange\",\"x\":{\"field\":\"x\"},\"y1\":{\"field\":\"y1\"},\"y2\":{\"field\":\"y2\"}},\"id\":\"27592\",\"type\":\"VArea\"},{\"attributes\":{},\"id\":\"30080\",\"type\":\"UnionRenderers\"},{\"attributes\":{\"line_color\":\"orange\",\"x\":{\"field\":\"x\"},\"y\":{\"field\":\"y\"}},\"id\":\"27456\",\"type\":\"Line\"},{\"attributes\":{\"data\":{\"x\":[2.0,2.0],\"y\":[0,0.10273275819437086]},\"selected\":{\"id\":\"30191\"},\"selection_policy\":{\"id\":\"30190\"}},\"id\":\"27585\",\"type\":\"ColumnDataSource\"},{\"attributes\":{},\"id\":\"30081\",\"type\":\"Selection\"},{\"attributes\":{\"data\":{\"x\":[3.0,3.0],\"y\":[0,0.10976745884748641]},\"selected\":{\"id\":\"30145\"},\"selection_policy\":{\"id\":\"30144\"}},\"id\":\"27450\",\"type\":\"ColumnDataSource\"},{\"attributes\":{},\"id\":\"30122\",\"type\":\"UnionRenderers\"},{\"attributes\":{\"data_source\":{\"id\":\"27460\"},\"glyph\":{\"id\":\"27461\"},\"hover_glyph\":null,\"muted_glyph\":null,\"nonselection_glyph\":{\"id\":\"27462\"},\"selection_glyph\":null,\"view\":{\"id\":\"27464\"}},\"id\":\"27463\",\"type\":\"GlyphRenderer\"},{\"attributes\":{\"line_alpha\":0.1,\"line_color\":\"orange\",\"x\":{\"field\":\"x\"},\"y\":{\"field\":\"y\"}},\"id\":\"27582\",\"type\":\"Line\"},{\"attributes\":{\"data_source\":{\"id\":\"27450\"},\"glyph\":{\"id\":\"27451\"},\"hover_glyph\":null,\"muted_glyph\":null,\"nonselection_glyph\":{\"id\":\"27452\"},\"selection_glyph\":null,\"view\":{\"id\":\"27454\"}},\"id\":\"27453\",\"type\":\"GlyphRenderer\"},{\"attributes\":{\"source\":{\"id\":\"27580\"}},\"id\":\"27584\",\"type\":\"CDSView\"},{\"attributes\":{},\"id\":\"30123\",\"type\":\"Selection\"},{\"attributes\":{\"data\":{\"x\":[4.0,4.0],\"y\":[0,0.10976745884748641]},\"selected\":{\"id\":\"30147\"},\"selection_policy\":{\"id\":\"30146\"}},\"id\":\"27455\",\"type\":\"ColumnDataSource\"},{\"attributes\":{\"data\":{\"x\":[3.0,3.0],\"y\":[0,0.10273275819437086]},\"selected\":{\"id\":\"30201\"},\"selection_policy\":{\"id\":\"30200\"}},\"id\":\"27610\",\"type\":\"ColumnDataSource\"},{\"attributes\":{},\"id\":\"30162\",\"type\":\"UnionRenderers\"},{\"attributes\":{\"data_source\":{\"id\":\"27585\"},\"glyph\":{\"id\":\"27586\"},\"hover_glyph\":null,\"muted_glyph\":null,\"nonselection_glyph\":{\"id\":\"27587\"},\"selection_glyph\":null,\"view\":{\"id\":\"27589\"}},\"id\":\"27588\",\"type\":\"GlyphRenderer\"},{\"attributes\":{},\"id\":\"30110\",\"type\":\"UnionRenderers\"},{\"attributes\":{},\"id\":\"30163\",\"type\":\"Selection\"},{\"attributes\":{\"data_source\":{\"id\":\"27610\"},\"glyph\":{\"id\":\"27611\"},\"hover_glyph\":null,\"muted_glyph\":null,\"nonselection_glyph\":{\"id\":\"27612\"},\"selection_glyph\":null,\"view\":{\"id\":\"27614\"}},\"id\":\"27613\",\"type\":\"GlyphRenderer\"},{\"attributes\":{\"line_alpha\":0.1,\"line_color\":\"orange\",\"x\":{\"field\":\"x\"},\"y\":{\"field\":\"y\"}},\"id\":\"27452\",\"type\":\"Line\"},{\"attributes\":{\"source\":{\"id\":\"27450\"}},\"id\":\"27454\",\"type\":\"CDSView\"},{\"attributes\":{},\"id\":\"30111\",\"type\":\"Selection\"},{\"attributes\":{\"data_source\":{\"id\":\"27455\"},\"glyph\":{\"id\":\"27456\"},\"hover_glyph\":null,\"muted_glyph\":null,\"nonselection_glyph\":{\"id\":\"27457\"},\"selection_glyph\":null,\"view\":{\"id\":\"27459\"}},\"id\":\"27458\",\"type\":\"GlyphRenderer\"},{\"attributes\":{\"fill_alpha\":0.2,\"fill_color\":\"orange\",\"x\":{\"field\":\"x\"},\"y1\":{\"field\":\"y1\"},\"y2\":{\"field\":\"y2\"}},\"id\":\"27591\",\"type\":\"VArea\"},{\"attributes\":{\"line_color\":\"orange\",\"x\":{\"field\":\"x\"},\"y\":{\"field\":\"y\"}},\"id\":\"27466\",\"type\":\"Line\"},{\"attributes\":{\"line_alpha\":0.1,\"line_color\":\"orange\",\"x\":{\"field\":\"x\"},\"y\":{\"field\":\"y\"}},\"id\":\"27587\",\"type\":\"Line\"},{\"attributes\":{\"source\":{\"id\":\"27585\"}},\"id\":\"27589\",\"type\":\"CDSView\"},{\"attributes\":{\"fill_alpha\":0.2,\"fill_color\":\"orange\",\"x\":{\"field\":\"x\"},\"y1\":{\"field\":\"y1\"},\"y2\":{\"field\":\"y2\"}},\"id\":\"27461\",\"type\":\"VArea\"},{\"attributes\":{\"data\":{\"x\":[1.0,2.0],\"y1\":[0,0],\"y2\":[0.10273275819437086,0.10273275819437086]},\"selected\":{\"id\":\"30193\"},\"selection_policy\":{\"id\":\"30192\"}},\"id\":\"27590\",\"type\":\"ColumnDataSource\"},{\"attributes\":{},\"id\":\"30082\",\"type\":\"UnionRenderers\"},{\"attributes\":{\"line_alpha\":0.1,\"line_color\":\"orange\",\"x\":{\"field\":\"x\"},\"y\":{\"field\":\"y\"}},\"id\":\"27457\",\"type\":\"Line\"},{\"attributes\":{\"source\":{\"id\":\"27590\"}},\"id\":\"27594\",\"type\":\"CDSView\"},{\"attributes\":{},\"id\":\"30124\",\"type\":\"UnionRenderers\"},{\"attributes\":{\"source\":{\"id\":\"27455\"}},\"id\":\"27459\",\"type\":\"CDSView\"},{\"attributes\":{\"fill_alpha\":0.1,\"fill_color\":\"orange\",\"x\":{\"field\":\"x\"},\"y1\":{\"field\":\"y1\"},\"y2\":{\"field\":\"y2\"}},\"id\":\"27607\",\"type\":\"VArea\"},{\"attributes\":{},\"id\":\"30083\",\"type\":\"Selection\"},{\"attributes\":{\"data\":{\"x\":[3.0,4.0],\"y1\":[0,0],\"y2\":[0.10976745884748641,0.10976745884748641]},\"selected\":{\"id\":\"30149\"},\"selection_policy\":{\"id\":\"30148\"}},\"id\":\"27460\",\"type\":\"ColumnDataSource\"},{\"attributes\":{\"line_alpha\":0.1,\"line_color\":\"orange\",\"x\":{\"field\":\"x\"},\"y\":{\"field\":\"y\"}},\"id\":\"27612\",\"type\":\"Line\"},{\"attributes\":{},\"id\":\"30125\",\"type\":\"Selection\"},{\"attributes\":{\"source\":{\"id\":\"27460\"}},\"id\":\"27464\",\"type\":\"CDSView\"},{\"attributes\":{},\"id\":\"30164\",\"type\":\"UnionRenderers\"},{\"attributes\":{\"data_source\":{\"id\":\"27465\"},\"glyph\":{\"id\":\"27466\"},\"hover_glyph\":null,\"muted_glyph\":null,\"nonselection_glyph\":{\"id\":\"27467\"},\"selection_glyph\":null,\"view\":{\"id\":\"27469\"}},\"id\":\"27468\",\"type\":\"GlyphRenderer\"},{\"attributes\":{\"data\":{\"x\":[2.0,2.0],\"y\":[0,0.10273275819437086]},\"selected\":{\"id\":\"30195\"},\"selection_policy\":{\"id\":\"30194\"}},\"id\":\"27595\",\"type\":\"ColumnDataSource\"},{\"attributes\":{},\"id\":\"30165\",\"type\":\"Selection\"},{\"attributes\":{\"data_source\":{\"id\":\"27605\"},\"glyph\":{\"id\":\"27606\"},\"hover_glyph\":null,\"muted_glyph\":null,\"nonselection_glyph\":{\"id\":\"27607\"},\"selection_glyph\":null,\"view\":{\"id\":\"27609\"}},\"id\":\"27608\",\"type\":\"GlyphRenderer\"},{\"attributes\":{\"data_source\":{\"id\":\"27595\"},\"glyph\":{\"id\":\"27596\"},\"hover_glyph\":null,\"muted_glyph\":null,\"nonselection_glyph\":{\"id\":\"27597\"},\"selection_glyph\":null,\"view\":{\"id\":\"27599\"}},\"id\":\"27598\",\"type\":\"GlyphRenderer\"},{\"attributes\":{\"data_source\":{\"id\":\"27475\"},\"glyph\":{\"id\":\"27476\"},\"hover_glyph\":null,\"muted_glyph\":null,\"nonselection_glyph\":{\"id\":\"27477\"},\"selection_glyph\":null,\"view\":{\"id\":\"27479\"}},\"id\":\"27478\",\"type\":\"GlyphRenderer\"}],\"root_ids\":[\"27845\"]},\"title\":\"Bokeh Application\",\"version\":\"2.0.2\"}};\n",
       "  var render_items = [{\"docid\":\"04fb1b61-7b09-4010-b855-f79650fd25c0\",\"root_ids\":[\"27845\"],\"roots\":{\"27845\":\"0dc7b180-6d4e-426b-b9aa-857d375d0402\"}}];\n",
       "  root.Bokeh.embed.embed_items_notebook(docs_json, render_items);\n",
       "\n",
       "  }\n",
       "  if (root.Bokeh !== undefined) {\n",
       "    embed_document(root);\n",
       "  } else {\n",
       "    var attempts = 0;\n",
       "    var timer = setInterval(function(root) {\n",
       "      if (root.Bokeh !== undefined) {\n",
       "        clearInterval(timer);\n",
       "        embed_document(root);\n",
       "      } else {\n",
       "        attempts++;\n",
       "        if (attempts > 100) {\n",
       "          clearInterval(timer);\n",
       "          console.log(\"Bokeh: ERROR: Unable to run BokehJS code because BokehJS library is missing\");\n",
       "        }\n",
       "      }\n",
       "    }, 10, root)\n",
       "  }\n",
       "})(window);"
      ],
      "application/vnd.bokehjs_exec.v0+json": ""
     },
     "metadata": {
      "application/vnd.bokehjs_exec.v0+json": {
       "id": "27845"
      }
     },
     "output_type": "display_data"
    }
   ],
   "source": [
    "p_list = []\n",
    "for i in range(2, 7):\n",
    "    p = figure(title=\"mutations = {}\".format(i), frame_height=200, frame_width=200,\n",
    "               tools='', background_fill_color=\"#fafafa\", y_axis_label=\"density\",\n",
    "              x_axis_label=\"ΔE [k_BT]\")\n",
    "    energies = df.loc[df.mutations == i, \"energy\"].values\n",
    "    hist, edges = np.histogram(energies, density=True, bins=50)\n",
    "    p.quad(top=hist, bottom=0, left=edges[:-1], right=edges[1:],\n",
    "          fill_color=\"navy\", line_color=\"white\", alpha=0.5)\n",
    "    for (b1, b2) in bins:\n",
    "        p.line(x=[b1, b1], y=[0, np.max(hist)], color=\"orange\")\n",
    "        p.line(x=[b2, b2], y=[0, np.max(hist)], color=\"orange\")\n",
    "        p.varea(x=[b1, b2], y1=[0, 0], y2=[np.max(hist), np.max(hist)], alpha=0.2, color=\"orange\")\n",
    "        \n",
    "    p_list.append(p)\n",
    "    \n",
    "bokeh.io.show(\n",
    "    grid(p_list, nrows=1)\n",
    ")\n",
    "    "
   ]
  },
  {
   "cell_type": "markdown",
   "metadata": {},
   "source": [
    "Now we need to filter the sequences for the bins"
   ]
  },
  {
   "cell_type": "code",
   "execution_count": 177,
   "metadata": {},
   "outputs": [
    {
     "data": {
      "text/html": [
       "<div>\n",
       "<style scoped>\n",
       "    .dataframe tbody tr th:only-of-type {\n",
       "        vertical-align: middle;\n",
       "    }\n",
       "\n",
       "    .dataframe tbody tr th {\n",
       "        vertical-align: top;\n",
       "    }\n",
       "\n",
       "    .dataframe thead th {\n",
       "        text-align: right;\n",
       "    }\n",
       "</style>\n",
       "<table border=\"1\" class=\"dataframe\">\n",
       "  <thead>\n",
       "    <tr style=\"text-align: right;\">\n",
       "      <th></th>\n",
       "      <th>seq</th>\n",
       "      <th>mutations</th>\n",
       "      <th>energy</th>\n",
       "      <th>bin</th>\n",
       "    </tr>\n",
       "  </thead>\n",
       "  <tbody>\n",
       "    <tr>\n",
       "      <th>0</th>\n",
       "      <td>cATTGTGAGCGGATcACAATT</td>\n",
       "      <td>2</td>\n",
       "      <td>-0.069192</td>\n",
       "      <td>0</td>\n",
       "    </tr>\n",
       "    <tr>\n",
       "      <th>1</th>\n",
       "      <td>cATTGTGAGCGGATAACAAaT</td>\n",
       "      <td>2</td>\n",
       "      <td>-0.028948</td>\n",
       "      <td>0</td>\n",
       "    </tr>\n",
       "    <tr>\n",
       "      <th>2</th>\n",
       "      <td>cATTGTGAGCGGATAACAATg</td>\n",
       "      <td>2</td>\n",
       "      <td>-0.621844</td>\n",
       "      <td>0</td>\n",
       "    </tr>\n",
       "    <tr>\n",
       "      <th>3</th>\n",
       "      <td>AcTTGTGAGCGGATAACAATc</td>\n",
       "      <td>2</td>\n",
       "      <td>-0.520312</td>\n",
       "      <td>0</td>\n",
       "    </tr>\n",
       "    <tr>\n",
       "      <th>4</th>\n",
       "      <td>AAaTGTGAGCGGATAACAATc</td>\n",
       "      <td>2</td>\n",
       "      <td>-0.637571</td>\n",
       "      <td>0</td>\n",
       "    </tr>\n",
       "    <tr>\n",
       "      <th>5</th>\n",
       "      <td>AAaTGTGAGCGGATAACAATg</td>\n",
       "      <td>2</td>\n",
       "      <td>-0.089674</td>\n",
       "      <td>0</td>\n",
       "    </tr>\n",
       "    <tr>\n",
       "      <th>6</th>\n",
       "      <td>AATTGTGAGCGGATcACAATg</td>\n",
       "      <td>2</td>\n",
       "      <td>-0.459736</td>\n",
       "      <td>0</td>\n",
       "    </tr>\n",
       "    <tr>\n",
       "      <th>7</th>\n",
       "      <td>AATTGTGAGCGGATAcCAATc</td>\n",
       "      <td>2</td>\n",
       "      <td>-0.543543</td>\n",
       "      <td>0</td>\n",
       "    </tr>\n",
       "    <tr>\n",
       "      <th>8</th>\n",
       "      <td>AATTGTGAGCGGATAACAAac</td>\n",
       "      <td>2</td>\n",
       "      <td>-0.967390</td>\n",
       "      <td>0</td>\n",
       "    </tr>\n",
       "    <tr>\n",
       "      <th>9</th>\n",
       "      <td>AATTGTGAGCGGATAACAAag</td>\n",
       "      <td>2</td>\n",
       "      <td>-0.419492</td>\n",
       "      <td>0</td>\n",
       "    </tr>\n",
       "  </tbody>\n",
       "</table>\n",
       "</div>"
      ],
      "text/plain": [
       "                     seq  mutations    energy  bin\n",
       "0  cATTGTGAGCGGATcACAATT          2 -0.069192    0\n",
       "1  cATTGTGAGCGGATAACAAaT          2 -0.028948    0\n",
       "2  cATTGTGAGCGGATAACAATg          2 -0.621844    0\n",
       "3  AcTTGTGAGCGGATAACAATc          2 -0.520312    0\n",
       "4  AAaTGTGAGCGGATAACAATc          2 -0.637571    0\n",
       "5  AAaTGTGAGCGGATAACAATg          2 -0.089674    0\n",
       "6  AATTGTGAGCGGATcACAATg          2 -0.459736    0\n",
       "7  AATTGTGAGCGGATAcCAATc          2 -0.543543    0\n",
       "8  AATTGTGAGCGGATAACAAac          2 -0.967390    0\n",
       "9  AATTGTGAGCGGATAACAAag          2 -0.419492    0"
      ]
     },
     "execution_count": 177,
     "metadata": {},
     "output_type": "execute_result"
    }
   ],
   "source": [
    "# Temporary list of sub data frames\n",
    "df_list = []\n",
    "\n",
    "# Iterate through bins\n",
    "for i, (x,y) in enumerate(bins):\n",
    "    # Copy data frame with sequnces within the bin\n",
    "    temp_df = copy.deepcopy(df.loc[[x < E < y for E in df[\"energy\"] ], :])\n",
    "    \n",
    "    # Append column with bin number\n",
    "    temp_df[\"bin\"] = np.ones(len(temp_df), dtype=int) * i\n",
    "    \n",
    "    # Append to temporary list\n",
    "    df_list.append(temp_df)\n",
    "\n",
    "# Combine data frames again\n",
    "binned_df = pd.concat(df_list, ignore_index=True)\n",
    "\n",
    "# Show first 10 rows\n",
    "binned_df.head(10)"
   ]
  },
  {
   "cell_type": "markdown",
   "metadata": {},
   "source": [
    "Now we need to select mutants from the bins. We want to try to get an equal number of sequences for each number of mutations per bin. However, some bins are sparsely populated by some type of mutants. Therefore we choose a maximal number of sequences per mutation type per bin. If there are more sequences in a bin, we randomly select sequences."
   ]
  },
  {
   "cell_type": "code",
   "execution_count": 178,
   "metadata": {},
   "outputs": [],
   "source": [
    "def select_seqs(df, ind_bin, num_seqs):\n",
    "    # Compute number of sequences per mutant\n",
    "    seqs_per_mut = np.floor(num_seqs / len(df.mutations.unique()))\n",
    "    \n",
    "    # Count number of sequences per number of mutations\n",
    "    count_df = df.groupby([\"mutations\", \"bin\"]).size().to_frame(name=\"num_mutants\").reset_index()\n",
    "    count_df = count_df.loc[count_df[\"bin\"] == ind_bin, :]\n",
    "    \n",
    "    # Prepare data frame to return\n",
    "    ret_df = pd.DataFrame(columns=[\"seq\", \"mutations\", \"energy\", \"bin\"])\n",
    "    \n",
    "    # Iterate through mutants\n",
    "    for i in df.mutations.unique():\n",
    "        # If there are not enough sequences, take all\n",
    "        if count_df.loc[count_df[\"mutations\"] == i, \"num_mutants\"].values < seqs_per_mut:\n",
    "            ret_df = pd.concat([ret_df, df.loc[(df[\"mutations\"] == i) & (df[\"bin\"] == ind_bin), :]], ignore_index=True)\n",
    "        else:\n",
    "            # Randomly choose mutants\n",
    "            indices = df.loc[(df[\"mutations\"] == i) & (df[\"bin\"] == ind_bin), :].index.to_numpy(dtype=int)\n",
    "            selected_indices = np.random.choice(indices, size=int(seqs_per_mut), replace=False)\n",
    "            ret_df = pd.concat([ret_df, df.iloc[selected_indices]])\n",
    "    return ret_df"
   ]
  },
  {
   "cell_type": "markdown",
   "metadata": {},
   "source": [
    "Now we only need to apply the function to each bin and collect sequences. "
   ]
  },
  {
   "cell_type": "code",
   "execution_count": 181,
   "metadata": {},
   "outputs": [
    {
     "data": {
      "text/html": [
       "<div>\n",
       "<style scoped>\n",
       "    .dataframe tbody tr th:only-of-type {\n",
       "        vertical-align: middle;\n",
       "    }\n",
       "\n",
       "    .dataframe tbody tr th {\n",
       "        vertical-align: top;\n",
       "    }\n",
       "\n",
       "    .dataframe thead th {\n",
       "        text-align: right;\n",
       "    }\n",
       "</style>\n",
       "<table border=\"1\" class=\"dataframe\">\n",
       "  <thead>\n",
       "    <tr style=\"text-align: right;\">\n",
       "      <th></th>\n",
       "      <th>seq</th>\n",
       "      <th>mutations</th>\n",
       "      <th>energy</th>\n",
       "      <th>bin</th>\n",
       "    </tr>\n",
       "  </thead>\n",
       "  <tbody>\n",
       "    <tr>\n",
       "      <th>0</th>\n",
       "      <td>cATTGTGAGCGGATAACAATg</td>\n",
       "      <td>2</td>\n",
       "      <td>-0.621844</td>\n",
       "      <td>0</td>\n",
       "    </tr>\n",
       "    <tr>\n",
       "      <th>1</th>\n",
       "      <td>AAgTGTGAGCGGATAACAATg</td>\n",
       "      <td>2</td>\n",
       "      <td>-0.148508</td>\n",
       "      <td>0</td>\n",
       "    </tr>\n",
       "    <tr>\n",
       "      <th>2</th>\n",
       "      <td>AATTGTGAGCGGATAACAAag</td>\n",
       "      <td>2</td>\n",
       "      <td>-0.419492</td>\n",
       "      <td>0</td>\n",
       "    </tr>\n",
       "    <tr>\n",
       "      <th>3</th>\n",
       "      <td>AATTGTGAGCGGATAACAAgc</td>\n",
       "      <td>2</td>\n",
       "      <td>-0.308252</td>\n",
       "      <td>0</td>\n",
       "    </tr>\n",
       "    <tr>\n",
       "      <th>4</th>\n",
       "      <td>AtTTGTGAGCGGATAACAATc</td>\n",
       "      <td>2</td>\n",
       "      <td>-0.931444</td>\n",
       "      <td>0</td>\n",
       "    </tr>\n",
       "  </tbody>\n",
       "</table>\n",
       "</div>"
      ],
      "text/plain": [
       "                     seq mutations    energy bin\n",
       "0  cATTGTGAGCGGATAACAATg         2 -0.621844   0\n",
       "1  AAgTGTGAGCGGATAACAATg         2 -0.148508   0\n",
       "2  AATTGTGAGCGGATAACAAag         2 -0.419492   0\n",
       "3  AATTGTGAGCGGATAACAAgc         2 -0.308252   0\n",
       "4  AtTTGTGAGCGGATAACAATc         2 -0.931444   0"
      ]
     },
     "execution_count": 181,
     "metadata": {},
     "output_type": "execute_result"
    }
   ],
   "source": [
    "O1_mutants_df_list = []\n",
    "for Bin in range(len(bins)):\n",
    "    O1_mutants_df_list.append(select_seqs(binned_df, Bin, 110))\n",
    "\n",
    "O1_mutants_df = pd.concat(O1_mutants_df_list, ignore_index=True)\n",
    "O1_mutants_df.head()"
   ]
  },
  {
   "cell_type": "markdown",
   "metadata": {},
   "source": [
    "Let's see how many sequences we have."
   ]
  },
  {
   "cell_type": "code",
   "execution_count": 182,
   "metadata": {},
   "outputs": [
    {
     "data": {
      "text/plain": [
       "935"
      ]
     },
     "execution_count": 182,
     "metadata": {},
     "output_type": "execute_result"
    }
   ],
   "source": [
    "len(O1_mutants_df.seq.values)"
   ]
  },
  {
   "cell_type": "markdown",
   "metadata": {},
   "source": [
    "Finally, we add all single mutants back to the oligo pool."
   ]
  },
  {
   "cell_type": "code",
   "execution_count": 183,
   "metadata": {},
   "outputs": [],
   "source": [
    "df_1[\"energy\"] = df_1['seq'].apply(energy_from_sequence, args= (O1_matrix, ))\n",
    "df_1[\"bin\"] = \"x\"\n",
    "O1_mutants_df = pd.concat([O1_mutants_df, df_1], ignore_index=True)"
   ]
  },
  {
   "cell_type": "markdown",
   "metadata": {},
   "source": [
    "Now we only need to add the lacUV5 sequence to each mutant to get the final constructs. We also add the wildtype operator sequences, and add the energy predicted by Hernan's paper."
   ]
  },
  {
   "cell_type": "code",
   "execution_count": 184,
   "metadata": {},
   "outputs": [
    {
     "data": {
      "text/html": [
       "<div>\n",
       "<style scoped>\n",
       "    .dataframe tbody tr th:only-of-type {\n",
       "        vertical-align: middle;\n",
       "    }\n",
       "\n",
       "    .dataframe tbody tr th {\n",
       "        vertical-align: top;\n",
       "    }\n",
       "\n",
       "    .dataframe thead th {\n",
       "        text-align: right;\n",
       "    }\n",
       "</style>\n",
       "<table border=\"1\" class=\"dataframe\">\n",
       "  <thead>\n",
       "    <tr style=\"text-align: right;\">\n",
       "      <th></th>\n",
       "      <th>seq</th>\n",
       "      <th>mutations</th>\n",
       "      <th>energy</th>\n",
       "      <th>bin</th>\n",
       "      <th>construct</th>\n",
       "      <th>primer_added</th>\n",
       "    </tr>\n",
       "  </thead>\n",
       "  <tbody>\n",
       "    <tr>\n",
       "      <th>0</th>\n",
       "      <td>TCGAGTTTACACTTTATGCTTCCGGCTCGTATAATGTGTGGcATTG...</td>\n",
       "      <td>2</td>\n",
       "      <td>-0.621844</td>\n",
       "      <td>0</td>\n",
       "      <td>lacUV5+O1_mutant</td>\n",
       "      <td>False</td>\n",
       "    </tr>\n",
       "    <tr>\n",
       "      <th>1</th>\n",
       "      <td>TCGAGTTTACACTTTATGCTTCCGGCTCGTATAATGTGTGGAAgTG...</td>\n",
       "      <td>2</td>\n",
       "      <td>-0.148508</td>\n",
       "      <td>0</td>\n",
       "      <td>lacUV5+O1_mutant</td>\n",
       "      <td>False</td>\n",
       "    </tr>\n",
       "    <tr>\n",
       "      <th>2</th>\n",
       "      <td>TCGAGTTTACACTTTATGCTTCCGGCTCGTATAATGTGTGGAATTG...</td>\n",
       "      <td>2</td>\n",
       "      <td>-0.419492</td>\n",
       "      <td>0</td>\n",
       "      <td>lacUV5+O1_mutant</td>\n",
       "      <td>False</td>\n",
       "    </tr>\n",
       "    <tr>\n",
       "      <th>3</th>\n",
       "      <td>TCGAGTTTACACTTTATGCTTCCGGCTCGTATAATGTGTGGAATTG...</td>\n",
       "      <td>2</td>\n",
       "      <td>-0.308252</td>\n",
       "      <td>0</td>\n",
       "      <td>lacUV5+O1_mutant</td>\n",
       "      <td>False</td>\n",
       "    </tr>\n",
       "    <tr>\n",
       "      <th>4</th>\n",
       "      <td>TCGAGTTTACACTTTATGCTTCCGGCTCGTATAATGTGTGGAtTTG...</td>\n",
       "      <td>2</td>\n",
       "      <td>-0.931444</td>\n",
       "      <td>0</td>\n",
       "      <td>lacUV5+O1_mutant</td>\n",
       "      <td>False</td>\n",
       "    </tr>\n",
       "  </tbody>\n",
       "</table>\n",
       "</div>"
      ],
      "text/plain": [
       "                                                 seq mutations    energy bin  \\\n",
       "0  TCGAGTTTACACTTTATGCTTCCGGCTCGTATAATGTGTGGcATTG...         2 -0.621844   0   \n",
       "1  TCGAGTTTACACTTTATGCTTCCGGCTCGTATAATGTGTGGAAgTG...         2 -0.148508   0   \n",
       "2  TCGAGTTTACACTTTATGCTTCCGGCTCGTATAATGTGTGGAATTG...         2 -0.419492   0   \n",
       "3  TCGAGTTTACACTTTATGCTTCCGGCTCGTATAATGTGTGGAATTG...         2 -0.308252   0   \n",
       "4  TCGAGTTTACACTTTATGCTTCCGGCTCGTATAATGTGTGGAtTTG...         2 -0.931444   0   \n",
       "\n",
       "          construct  primer_added  \n",
       "0  lacUV5+O1_mutant         False  \n",
       "1  lacUV5+O1_mutant         False  \n",
       "2  lacUV5+O1_mutant         False  \n",
       "3  lacUV5+O1_mutant         False  \n",
       "4  lacUV5+O1_mutant         False  "
      ]
     },
     "execution_count": 184,
     "metadata": {},
     "output_type": "execute_result"
    }
   ],
   "source": [
    "oligos = copy.deepcopy(O1_mutants_df)\n",
    "oligos['construct'] = \"lacUV5+O1_mutant\"\n",
    "oligos.seq = [lacUV5 + seq for seq in oligos.seq]\n",
    "oligos = oligos.append(\n",
    "    pd.DataFrame(\n",
    "        [[lacUV5_O1, 0, 0, \"x\", \"lacUV5+O1\"],\n",
    "         [lacUV5_O2, 0, 1.4, \"x\", \"lacUV5+O2\"],\n",
    "         [lacUV5_O3, 0, 5.6, \"x\", \"lacUV5+O3\"]\n",
    "        ], \n",
    "        columns=['seq', 'mutations', 'energy', 'bin', 'construct']), \n",
    "    ignore_index=True\n",
    ")\n",
    "oligos['primer_added'] = False\n",
    "oligos.head()"
   ]
  },
  {
   "cell_type": "code",
   "execution_count": 185,
   "metadata": {},
   "outputs": [
    {
     "data": {
      "text/html": [
       "<div>\n",
       "<style scoped>\n",
       "    .dataframe tbody tr th:only-of-type {\n",
       "        vertical-align: middle;\n",
       "    }\n",
       "\n",
       "    .dataframe tbody tr th {\n",
       "        vertical-align: top;\n",
       "    }\n",
       "\n",
       "    .dataframe thead th {\n",
       "        text-align: right;\n",
       "    }\n",
       "</style>\n",
       "<table border=\"1\" class=\"dataframe\">\n",
       "  <thead>\n",
       "    <tr style=\"text-align: right;\">\n",
       "      <th></th>\n",
       "      <th>seq</th>\n",
       "      <th>mutations</th>\n",
       "      <th>energy</th>\n",
       "      <th>bin</th>\n",
       "      <th>construct</th>\n",
       "      <th>primer_added</th>\n",
       "    </tr>\n",
       "  </thead>\n",
       "  <tbody>\n",
       "    <tr>\n",
       "      <th>996</th>\n",
       "      <td>TCGAGTTTACACTTTATGCTTCCGGCTCGTATAATGTGTGGAATTG...</td>\n",
       "      <td>1</td>\n",
       "      <td>0.745840</td>\n",
       "      <td>x</td>\n",
       "      <td>lacUV5+O1_mutant</td>\n",
       "      <td>False</td>\n",
       "    </tr>\n",
       "    <tr>\n",
       "      <th>997</th>\n",
       "      <td>TCGAGTTTACACTTTATGCTTCCGGCTCGTATAATGTGTGGAATTG...</td>\n",
       "      <td>1</td>\n",
       "      <td>-0.506194</td>\n",
       "      <td>x</td>\n",
       "      <td>lacUV5+O1_mutant</td>\n",
       "      <td>False</td>\n",
       "    </tr>\n",
       "    <tr>\n",
       "      <th>998</th>\n",
       "      <td>TCGAGTTTACACTTTATGCTTCCGGCTCGTATAATGTGTGGAATTG...</td>\n",
       "      <td>0</td>\n",
       "      <td>0.000000</td>\n",
       "      <td>x</td>\n",
       "      <td>lacUV5+O1</td>\n",
       "      <td>False</td>\n",
       "    </tr>\n",
       "    <tr>\n",
       "      <th>999</th>\n",
       "      <td>TCGAGTTTACACTTTATGCTTCCGGCTCGTATAATGTGTGGAAATG...</td>\n",
       "      <td>0</td>\n",
       "      <td>1.400000</td>\n",
       "      <td>x</td>\n",
       "      <td>lacUV5+O2</td>\n",
       "      <td>False</td>\n",
       "    </tr>\n",
       "    <tr>\n",
       "      <th>1000</th>\n",
       "      <td>TCGAGTTTACACTTTATGCTTCCGGCTCGTATAATGTGTGGGGCAG...</td>\n",
       "      <td>0</td>\n",
       "      <td>5.600000</td>\n",
       "      <td>x</td>\n",
       "      <td>lacUV5+O3</td>\n",
       "      <td>False</td>\n",
       "    </tr>\n",
       "  </tbody>\n",
       "</table>\n",
       "</div>"
      ],
      "text/plain": [
       "                                                    seq mutations    energy  \\\n",
       "996   TCGAGTTTACACTTTATGCTTCCGGCTCGTATAATGTGTGGAATTG...         1  0.745840   \n",
       "997   TCGAGTTTACACTTTATGCTTCCGGCTCGTATAATGTGTGGAATTG...         1 -0.506194   \n",
       "998   TCGAGTTTACACTTTATGCTTCCGGCTCGTATAATGTGTGGAATTG...         0  0.000000   \n",
       "999   TCGAGTTTACACTTTATGCTTCCGGCTCGTATAATGTGTGGAAATG...         0  1.400000   \n",
       "1000  TCGAGTTTACACTTTATGCTTCCGGCTCGTATAATGTGTGGGGCAG...         0  5.600000   \n",
       "\n",
       "     bin         construct  primer_added  \n",
       "996    x  lacUV5+O1_mutant         False  \n",
       "997    x  lacUV5+O1_mutant         False  \n",
       "998    x         lacUV5+O1         False  \n",
       "999    x         lacUV5+O2         False  \n",
       "1000   x         lacUV5+O3         False  "
      ]
     },
     "execution_count": 185,
     "metadata": {},
     "output_type": "execute_result"
    }
   ],
   "source": [
    "oligos.tail()"
   ]
  },
  {
   "cell_type": "markdown",
   "metadata": {},
   "source": [
    "Finally store the dataframe in the data folder."
   ]
  },
  {
   "cell_type": "code",
   "execution_count": 186,
   "metadata": {},
   "outputs": [],
   "source": [
    "oligos.to_csv(\"../../../../data/twist_order/lacI_sequences.csv\")"
   ]
  },
  {
   "cell_type": "markdown",
   "metadata": {},
   "source": [
    "## Computational environment"
   ]
  },
  {
   "cell_type": "code",
   "execution_count": 187,
   "metadata": {},
   "outputs": [
    {
     "name": "stdout",
     "output_type": "stream",
     "text": [
      "The watermark extension is already loaded. To reload it, use:\n",
      "  %reload_ext watermark\n",
      "CPython 3.8.5\n",
      "IPython 7.10.0\n",
      "\n",
      "numpy 1.18.1\n",
      "pandas 1.0.3\n",
      "wgregseq 0.0.1\n",
      "bokeh 2.0.2\n"
     ]
    }
   ],
   "source": [
    "%load_ext watermark\n",
    "%watermark -v -p numpy,pandas,wgregseq,bokeh"
   ]
  },
  {
   "cell_type": "code",
   "execution_count": null,
   "metadata": {},
   "outputs": [],
   "source": []
  }
 ],
 "metadata": {
  "kernelspec": {
   "display_name": "Python 3",
   "language": "python",
   "name": "python3"
  },
  "language_info": {
   "codemirror_mode": {
    "name": "ipython",
    "version": 3
   },
   "file_extension": ".py",
   "mimetype": "text/x-python",
   "name": "python",
   "nbconvert_exporter": "python",
   "pygments_lexer": "ipython3",
   "version": "3.8.5"
  }
 },
 "nbformat": 4,
 "nbformat_minor": 4
}
