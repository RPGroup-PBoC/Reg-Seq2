{
 "cells": [
  {
   "cell_type": "markdown",
   "metadata": {},
   "source": [
    "# Thermodynamic Model to predict gene expression."
   ]
  },
  {
   "cell_type": "markdown",
   "metadata": {},
   "source": [
    "(c) 2020 Tom Röschinger. This work is licensed under a [Creative Commons Attribution License CC-BY 4.0](https://creativecommons.org/licenses/by/4.0/). All code contained herein is licensed under an [MIT license](https://opensource.org/licenses/MIT)."
   ]
  },
  {
   "cell_type": "code",
   "execution_count": 2,
   "metadata": {},
   "outputs": [
    {
     "name": "stdout",
     "output_type": "stream",
     "text": [
      "The autoreload extension is already loaded. To reload it, use:\n",
      "  %reload_ext autoreload\n"
     ]
    }
   ],
   "source": [
    "import wgregseq\n",
    "%load_ext autoreload\n",
    "%autoreload 2\n",
    "\n",
    "import numpy as np\n",
    "import pandas as pd\n",
    "\n",
    "import matplotlib.pyplot as plt\n",
    "\n",
    "# Set default plotting style\n",
    "wgregseq.plotting_style();"
   ]
  },
  {
   "cell_type": "markdown",
   "metadata": {},
   "source": [
    "In this notebook we write down a thermodynamic model to predict gene expression for promoter sequences. The goal is to use these predictions, and try to identify locations of binding sites, without knowing the underlying energy matrix for the binding site."
   ]
  },
  {
   "cell_type": "markdown",
   "metadata": {},
   "source": [
    "### Input\n",
    "\n",
    "The input into the model is the binding energy of a transcription factor. This binding energy is given by an energy matrix that might be created arbitrarily, and by the sequence, which might contain single mutations or scrambles. Since the binding energy is the only thing that is going to vary between the sequences, "
   ]
  },
  {
   "cell_type": "markdown",
   "metadata": {},
   "source": [
    "## Simple repression motif"
   ]
  },
  {
   "cell_type": "markdown",
   "metadata": {},
   "source": [
    "From [Chure et al., 2019](https://www.pnas.org/content/116/37/18275.short) the fold change in expression due to the simple repression motif is given by\n",
    "\n",
    "\\begin{equation}\n",
    "    \\text{fold-change} = \\left( 1 + e^{-\\beta\\Delta \\epsilon_{RA} +\\log\\left( R_A/N_{NS} \\right) } \\right)^{-1},\n",
    "\\end{equation}\n",
    "\n",
    "where $R_A$ is the repressor copy number, $N_{NS}$ the number of non-specific binding sites and $\\Delta \\epsilon_{RA}$ the binding energy of the repressor to the specific site compared to non-specific background. Since we are interested in the change in binding energy due to mutation, let's look at that."
   ]
  },
  {
   "cell_type": "markdown",
   "metadata": {},
   "source": [
    "Labeling fold change by $f$, we can write (for the wild type)\n",
    "\n",
    "$$\n",
    "-\\log (1/f^{\\text{(wt)}} -1) + \\log (R_A/N_{NS}) = \\beta\\Delta\\epsilon_{RA}^{\\text{(wt)}}.\n",
    "$$\n",
    "\n",
    "Now, let's write the difference in binding energies. A nice thing is that the repressor copy number and number of non-specific binding sites cancels,\n",
    "\n",
    "$$\n",
    "-\\log (1/f^{\\text{(wt)}} -1) + \\log (1/f^{\\text{(mut)}} -1) = \\beta(\\Delta\\epsilon_{RA}^{\\text{(wt)}} - \\Delta\\epsilon_{RA}^{\\text{(mut)}}).\n",
    "$$"
   ]
  },
  {
   "cell_type": "code",
   "execution_count": null,
   "metadata": {},
   "outputs": [],
   "source": []
  }
 ],
 "metadata": {
  "kernelspec": {
   "display_name": "Python 3",
   "language": "python",
   "name": "python3"
  },
  "language_info": {
   "codemirror_mode": {
    "name": "ipython",
    "version": 3
   },
   "file_extension": ".py",
   "mimetype": "text/x-python",
   "name": "python",
   "nbconvert_exporter": "python",
   "pygments_lexer": "ipython3",
   "version": "3.8.2"
  }
 },
 "nbformat": 4,
 "nbformat_minor": 4
}
