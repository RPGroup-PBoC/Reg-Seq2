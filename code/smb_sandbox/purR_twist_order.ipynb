{
 "cells": [
  {
   "cell_type": "markdown",
   "metadata": {},
   "source": [
    "# Designing purR sequences"
   ]
  },
  {
   "cell_type": "markdown",
   "metadata": {},
   "source": [
    "(c) 2020 Tom Röschinger and Suzy Beeler. This work is licensed under a [Creative Commons Attribution License CC-BY 4.0](https://creativecommons.org/licenses/by/4.0/). All code contained herein is licensed under an [MIT license](https://opensource.org/licenses/MIT)."
   ]
  },
  {
   "cell_type": "code",
   "execution_count": 1,
   "metadata": {},
   "outputs": [
    {
     "name": "stderr",
     "output_type": "stream",
     "text": [
      "\n",
      "Bad key savefig.frameon in file /Users/sbeeler/anaconda3/lib/python3.7/site-packages/matplotlib/mpl-data/stylelib/_classic_test.mplstyle, line 421 ('savefig.frameon : True')\n",
      "You probably need to get an updated matplotlibrc file from\n",
      "https://github.com/matplotlib/matplotlib/blob/v3.3.2/matplotlibrc.template\n",
      "or from the matplotlib source distribution\n",
      "\n",
      "Bad key verbose.level in file /Users/sbeeler/anaconda3/lib/python3.7/site-packages/matplotlib/mpl-data/stylelib/_classic_test.mplstyle, line 472 ('verbose.level  : silent      # one of silent, helpful, debug, debug-annoying')\n",
      "You probably need to get an updated matplotlibrc file from\n",
      "https://github.com/matplotlib/matplotlib/blob/v3.3.2/matplotlibrc.template\n",
      "or from the matplotlib source distribution\n",
      "\n",
      "Bad key verbose.fileo in file /Users/sbeeler/anaconda3/lib/python3.7/site-packages/matplotlib/mpl-data/stylelib/_classic_test.mplstyle, line 473 ('verbose.fileo  : sys.stdout  # a log filename, sys.stdout or sys.stderr')\n",
      "You probably need to get an updated matplotlibrc file from\n",
      "https://github.com/matplotlib/matplotlib/blob/v3.3.2/matplotlibrc.template\n",
      "or from the matplotlib source distribution\n",
      "In /Users/sbeeler/anaconda3/lib/python3.7/site-packages/matplotlib/mpl-data/stylelib/_classic_test.mplstyle: \n",
      "The text.latex.preview rcparam was deprecated in Matplotlib 3.3 and will be removed two minor releases later.\n",
      "In /Users/sbeeler/anaconda3/lib/python3.7/site-packages/matplotlib/mpl-data/stylelib/_classic_test.mplstyle: \n",
      "The mathtext.fallback_to_cm rcparam was deprecated in Matplotlib 3.3 and will be removed two minor releases later.\n",
      "In /Users/sbeeler/anaconda3/lib/python3.7/site-packages/matplotlib/mpl-data/stylelib/_classic_test.mplstyle: Support for setting the 'mathtext.fallback_to_cm' rcParam is deprecated since 3.3 and will be removed two minor releases later; use 'mathtext.fallback : 'cm' instead.\n",
      "In /Users/sbeeler/anaconda3/lib/python3.7/site-packages/matplotlib/mpl-data/stylelib/_classic_test.mplstyle: \n",
      "The validate_bool_maybe_none function was deprecated in Matplotlib 3.3 and will be removed two minor releases later.\n",
      "In /Users/sbeeler/anaconda3/lib/python3.7/site-packages/matplotlib/mpl-data/stylelib/_classic_test.mplstyle: \n",
      "The savefig.jpeg_quality rcparam was deprecated in Matplotlib 3.3 and will be removed two minor releases later.\n",
      "In /Users/sbeeler/anaconda3/lib/python3.7/site-packages/matplotlib/mpl-data/stylelib/_classic_test.mplstyle: \n",
      "The keymap.all_axes rcparam was deprecated in Matplotlib 3.3 and will be removed two minor releases later.\n",
      "In /Users/sbeeler/anaconda3/lib/python3.7/site-packages/matplotlib/mpl-data/stylelib/_classic_test.mplstyle: \n",
      "The animation.avconv_path rcparam was deprecated in Matplotlib 3.3 and will be removed two minor releases later.\n",
      "In /Users/sbeeler/anaconda3/lib/python3.7/site-packages/matplotlib/mpl-data/stylelib/_classic_test.mplstyle: \n",
      "The animation.avconv_args rcparam was deprecated in Matplotlib 3.3 and will be removed two minor releases later.\n"
     ]
    }
   ],
   "source": [
    "import wgregseq\n",
    "%load_ext autoreload\n",
    "%autoreload 2\n",
    "\n",
    "import pandas as pd"
   ]
  },
  {
   "cell_type": "markdown",
   "metadata": {},
   "source": [
    "Define the sequences we want to work with:\n",
    "\n",
    "- `lacUV5_purR_overlap`: TCGAG**TTTACA**C<u>ACGCAAACGTTTTCGT</u>G**TATAAT**GTGTGG \n",
    "- `lacUV5_purR_downstream`: TCGAG**TTTACA**CTTTATGCTTCCGGCTCG**TATAAT**GTGTGG<u>ACGCAAACGTTTTCGT</u>\n",
    "\n",
    "With the -10 and -35 sites in bold for reference, and the purR binding site underlined."
   ]
  },
  {
   "cell_type": "code",
   "execution_count": 2,
   "metadata": {},
   "outputs": [],
   "source": [
    "lacUV5_purR_overlap = \"TCGAGTTTACACACGCAAACGTTTTCGTGTATAATGTGTGG\"\n",
    "lacUV5_purR_downstream = \"TCGAGTTTACACTTTATGCTTCCGGCTCGTATAATGTGTGGACGCAAACGTTTTCGT\""
   ]
  },
  {
   "cell_type": "markdown",
   "metadata": {},
   "source": [
    "Let's make sure to figure out which region of each sequence we want to mutate (i.e. just the purR binding site):"
   ]
  },
  {
   "cell_type": "code",
   "execution_count": 3,
   "metadata": {},
   "outputs": [
    {
     "data": {
      "text/plain": [
       "'ACGCAAACGTTTTCGT'"
      ]
     },
     "execution_count": 3,
     "metadata": {},
     "output_type": "execute_result"
    }
   ],
   "source": [
    "lacUV5_purR_overlap[12:28]"
   ]
  },
  {
   "cell_type": "code",
   "execution_count": 4,
   "metadata": {},
   "outputs": [
    {
     "data": {
      "text/plain": [
       "'ACGCAAACGTTTTCGT'"
      ]
     },
     "execution_count": 4,
     "metadata": {},
     "output_type": "execute_result"
    }
   ],
   "source": [
    "lacUV5_purR_downstream[-16:]"
   ]
  },
  {
   "cell_type": "markdown",
   "metadata": {},
   "source": [
    "## Constructs"
   ]
  },
  {
   "cell_type": "markdown",
   "metadata": {},
   "source": [
    "### LacUV5 with operator downstream"
   ]
  },
  {
   "cell_type": "code",
   "execution_count": 5,
   "metadata": {},
   "outputs": [
    {
     "data": {
      "text/html": [
       "<div>\n",
       "<style scoped>\n",
       "    .dataframe tbody tr th:only-of-type {\n",
       "        vertical-align: middle;\n",
       "    }\n",
       "\n",
       "    .dataframe tbody tr th {\n",
       "        vertical-align: top;\n",
       "    }\n",
       "\n",
       "    .dataframe thead th {\n",
       "        text-align: right;\n",
       "    }\n",
       "</style>\n",
       "<table border=\"1\" class=\"dataframe\">\n",
       "  <thead>\n",
       "    <tr style=\"text-align: right;\">\n",
       "      <th></th>\n",
       "      <th>seq</th>\n",
       "      <th>description</th>\n",
       "    </tr>\n",
       "  </thead>\n",
       "  <tbody>\n",
       "    <tr>\n",
       "      <th>44</th>\n",
       "      <td>TCGAGTTTACACTTTATGCTTCCGGCTCGTATAATGTGTGGACGCA...</td>\n",
       "      <td>lacUV5 purR downstream single mutant</td>\n",
       "    </tr>\n",
       "    <tr>\n",
       "      <th>45</th>\n",
       "      <td>TCGAGTTTACACTTTATGCTTCCGGCTCGTATAATGTGTGGACGCA...</td>\n",
       "      <td>lacUV5 purR downstream single mutant</td>\n",
       "    </tr>\n",
       "    <tr>\n",
       "      <th>46</th>\n",
       "      <td>TCGAGTTTACACTTTATGCTTCCGGCTCGTATAATGTGTGGACGCA...</td>\n",
       "      <td>lacUV5 purR downstream single mutant</td>\n",
       "    </tr>\n",
       "    <tr>\n",
       "      <th>47</th>\n",
       "      <td>TCGAGTTTACACTTTATGCTTCCGGCTCGTATAATGTGTGGACGCA...</td>\n",
       "      <td>lacUV5 purR downstream single mutant</td>\n",
       "    </tr>\n",
       "    <tr>\n",
       "      <th>48</th>\n",
       "      <td>TCGAGTTTACACTTTATGCTTCCGGCTCGTATAATGTGTGGACGCA...</td>\n",
       "      <td>lacUV5 purR downstream single mutant</td>\n",
       "    </tr>\n",
       "  </tbody>\n",
       "</table>\n",
       "</div>"
      ],
      "text/plain": [
       "                                                  seq  \\\n",
       "44  TCGAGTTTACACTTTATGCTTCCGGCTCGTATAATGTGTGGACGCA...   \n",
       "45  TCGAGTTTACACTTTATGCTTCCGGCTCGTATAATGTGTGGACGCA...   \n",
       "46  TCGAGTTTACACTTTATGCTTCCGGCTCGTATAATGTGTGGACGCA...   \n",
       "47  TCGAGTTTACACTTTATGCTTCCGGCTCGTATAATGTGTGGACGCA...   \n",
       "48  TCGAGTTTACACTTTATGCTTCCGGCTCGTATAATGTGTGGACGCA...   \n",
       "\n",
       "                             description  \n",
       "44  lacUV5 purR downstream single mutant  \n",
       "45  lacUV5 purR downstream single mutant  \n",
       "46  lacUV5 purR downstream single mutant  \n",
       "47  lacUV5 purR downstream single mutant  \n",
       "48  lacUV5 purR downstream single mutant  "
      ]
     },
     "execution_count": 5,
     "metadata": {},
     "output_type": "execute_result"
    }
   ],
   "source": [
    "mutants_single = wgregseq.mutations_det(lacUV5_purR_downstream, mut_per_seq=1, site_start=-16, keep_wildtype=True)\n",
    "downstream_df_single = pd.DataFrame({\"seq\":mutants_single})\n",
    "downstream_df_single[\"description\"] = \"lacUV5 purR downstream single mutant\"\n",
    "downstream_df_single.tail()"
   ]
  },
  {
   "cell_type": "code",
   "execution_count": 6,
   "metadata": {},
   "outputs": [
    {
     "data": {
      "text/html": [
       "<div>\n",
       "<style scoped>\n",
       "    .dataframe tbody tr th:only-of-type {\n",
       "        vertical-align: middle;\n",
       "    }\n",
       "\n",
       "    .dataframe tbody tr th {\n",
       "        vertical-align: top;\n",
       "    }\n",
       "\n",
       "    .dataframe thead th {\n",
       "        text-align: right;\n",
       "    }\n",
       "</style>\n",
       "<table border=\"1\" class=\"dataframe\">\n",
       "  <thead>\n",
       "    <tr style=\"text-align: right;\">\n",
       "      <th></th>\n",
       "      <th>seq</th>\n",
       "      <th>description</th>\n",
       "    </tr>\n",
       "  </thead>\n",
       "  <tbody>\n",
       "    <tr>\n",
       "      <th>1075</th>\n",
       "      <td>TCGAGTTTACACTTTATGCTTCCGGCTCGTATAATGTGTGGACGCA...</td>\n",
       "      <td>lacUV5 purR downstream double mutant</td>\n",
       "    </tr>\n",
       "    <tr>\n",
       "      <th>1076</th>\n",
       "      <td>TCGAGTTTACACTTTATGCTTCCGGCTCGTATAATGTGTGGACGCA...</td>\n",
       "      <td>lacUV5 purR downstream double mutant</td>\n",
       "    </tr>\n",
       "    <tr>\n",
       "      <th>1077</th>\n",
       "      <td>TCGAGTTTACACTTTATGCTTCCGGCTCGTATAATGTGTGGACGCA...</td>\n",
       "      <td>lacUV5 purR downstream double mutant</td>\n",
       "    </tr>\n",
       "    <tr>\n",
       "      <th>1078</th>\n",
       "      <td>TCGAGTTTACACTTTATGCTTCCGGCTCGTATAATGTGTGGACGCA...</td>\n",
       "      <td>lacUV5 purR downstream double mutant</td>\n",
       "    </tr>\n",
       "    <tr>\n",
       "      <th>1079</th>\n",
       "      <td>TCGAGTTTACACTTTATGCTTCCGGCTCGTATAATGTGTGGACGCA...</td>\n",
       "      <td>lacUV5 purR downstream double mutant</td>\n",
       "    </tr>\n",
       "  </tbody>\n",
       "</table>\n",
       "</div>"
      ],
      "text/plain": [
       "                                                    seq  \\\n",
       "1075  TCGAGTTTACACTTTATGCTTCCGGCTCGTATAATGTGTGGACGCA...   \n",
       "1076  TCGAGTTTACACTTTATGCTTCCGGCTCGTATAATGTGTGGACGCA...   \n",
       "1077  TCGAGTTTACACTTTATGCTTCCGGCTCGTATAATGTGTGGACGCA...   \n",
       "1078  TCGAGTTTACACTTTATGCTTCCGGCTCGTATAATGTGTGGACGCA...   \n",
       "1079  TCGAGTTTACACTTTATGCTTCCGGCTCGTATAATGTGTGGACGCA...   \n",
       "\n",
       "                               description  \n",
       "1075  lacUV5 purR downstream double mutant  \n",
       "1076  lacUV5 purR downstream double mutant  \n",
       "1077  lacUV5 purR downstream double mutant  \n",
       "1078  lacUV5 purR downstream double mutant  \n",
       "1079  lacUV5 purR downstream double mutant  "
      ]
     },
     "execution_count": 6,
     "metadata": {},
     "output_type": "execute_result"
    }
   ],
   "source": [
    "mutants_double = wgregseq.mutations_det(lacUV5_purR_downstream, mut_per_seq=2, site_start=-16)\n",
    "downstream_df_double = pd.DataFrame({\"seq\":mutants_double})\n",
    "downstream_df_double[\"description\"] = \"lacUV5 purR downstream double mutant\"\n",
    "downstream_df_double.tail()"
   ]
  },
  {
   "cell_type": "markdown",
   "metadata": {},
   "source": [
    "### LacUV5 with operator overlapping "
   ]
  },
  {
   "cell_type": "code",
   "execution_count": 7,
   "metadata": {},
   "outputs": [
    {
     "data": {
      "text/html": [
       "<div>\n",
       "<style scoped>\n",
       "    .dataframe tbody tr th:only-of-type {\n",
       "        vertical-align: middle;\n",
       "    }\n",
       "\n",
       "    .dataframe tbody tr th {\n",
       "        vertical-align: top;\n",
       "    }\n",
       "\n",
       "    .dataframe thead th {\n",
       "        text-align: right;\n",
       "    }\n",
       "</style>\n",
       "<table border=\"1\" class=\"dataframe\">\n",
       "  <thead>\n",
       "    <tr style=\"text-align: right;\">\n",
       "      <th></th>\n",
       "      <th>seq</th>\n",
       "      <th>description</th>\n",
       "    </tr>\n",
       "  </thead>\n",
       "  <tbody>\n",
       "    <tr>\n",
       "      <th>44</th>\n",
       "      <td>TCGAGTTTACACACGCAAACGTTgTCGTGTATAATGTGTGG</td>\n",
       "      <td>lacUV5 purR overlap single mutant</td>\n",
       "    </tr>\n",
       "    <tr>\n",
       "      <th>45</th>\n",
       "      <td>TCGAGTTTACACACGCAAACGTTTgCGTGTATAATGTGTGG</td>\n",
       "      <td>lacUV5 purR overlap single mutant</td>\n",
       "    </tr>\n",
       "    <tr>\n",
       "      <th>46</th>\n",
       "      <td>TCGAGTTTACACACGCAAACGTTTTtGTGTATAATGTGTGG</td>\n",
       "      <td>lacUV5 purR overlap single mutant</td>\n",
       "    </tr>\n",
       "    <tr>\n",
       "      <th>47</th>\n",
       "      <td>TCGAGTTTACACACGCAAACGTTTTCtTGTATAATGTGTGG</td>\n",
       "      <td>lacUV5 purR overlap single mutant</td>\n",
       "    </tr>\n",
       "    <tr>\n",
       "      <th>48</th>\n",
       "      <td>TCGAGTTTACACACGCAAACGTTTTCGgGTATAATGTGTGG</td>\n",
       "      <td>lacUV5 purR overlap single mutant</td>\n",
       "    </tr>\n",
       "  </tbody>\n",
       "</table>\n",
       "</div>"
      ],
      "text/plain": [
       "                                          seq  \\\n",
       "44  TCGAGTTTACACACGCAAACGTTgTCGTGTATAATGTGTGG   \n",
       "45  TCGAGTTTACACACGCAAACGTTTgCGTGTATAATGTGTGG   \n",
       "46  TCGAGTTTACACACGCAAACGTTTTtGTGTATAATGTGTGG   \n",
       "47  TCGAGTTTACACACGCAAACGTTTTCtTGTATAATGTGTGG   \n",
       "48  TCGAGTTTACACACGCAAACGTTTTCGgGTATAATGTGTGG   \n",
       "\n",
       "                          description  \n",
       "44  lacUV5 purR overlap single mutant  \n",
       "45  lacUV5 purR overlap single mutant  \n",
       "46  lacUV5 purR overlap single mutant  \n",
       "47  lacUV5 purR overlap single mutant  \n",
       "48  lacUV5 purR overlap single mutant  "
      ]
     },
     "execution_count": 7,
     "metadata": {},
     "output_type": "execute_result"
    }
   ],
   "source": [
    "mutants_single = wgregseq.mutations_det(lacUV5_purR_overlap, mut_per_seq=1, site_start=12, site_end=28, keep_wildtype=True)\n",
    "overlap_df_single = pd.DataFrame({\"seq\":mutants_single})\n",
    "overlap_df_single[\"description\"] = \"lacUV5 purR overlap single mutant\"\n",
    "overlap_df_single.tail()"
   ]
  },
  {
   "cell_type": "code",
   "execution_count": 8,
   "metadata": {},
   "outputs": [
    {
     "data": {
      "text/html": [
       "<div>\n",
       "<style scoped>\n",
       "    .dataframe tbody tr th:only-of-type {\n",
       "        vertical-align: middle;\n",
       "    }\n",
       "\n",
       "    .dataframe tbody tr th {\n",
       "        vertical-align: top;\n",
       "    }\n",
       "\n",
       "    .dataframe thead th {\n",
       "        text-align: right;\n",
       "    }\n",
       "</style>\n",
       "<table border=\"1\" class=\"dataframe\">\n",
       "  <thead>\n",
       "    <tr style=\"text-align: right;\">\n",
       "      <th></th>\n",
       "      <th>seq</th>\n",
       "      <th>description</th>\n",
       "    </tr>\n",
       "  </thead>\n",
       "  <tbody>\n",
       "    <tr>\n",
       "      <th>1075</th>\n",
       "      <td>TCGAGTTTACACACGCAAACGTTTTttTGTATAATGTGTGG</td>\n",
       "      <td>lacUV5 purR overlap double mutant</td>\n",
       "    </tr>\n",
       "    <tr>\n",
       "      <th>1076</th>\n",
       "      <td>TCGAGTTTACACACGCAAACGTTTTtGgGTATAATGTGTGG</td>\n",
       "      <td>lacUV5 purR overlap double mutant</td>\n",
       "    </tr>\n",
       "    <tr>\n",
       "      <th>1077</th>\n",
       "      <td>TCGAGTTTACACACGCAAACGTTTTCtaGTATAATGTGTGG</td>\n",
       "      <td>lacUV5 purR overlap double mutant</td>\n",
       "    </tr>\n",
       "    <tr>\n",
       "      <th>1078</th>\n",
       "      <td>TCGAGTTTACACACGCAAACGTTTTCtcGTATAATGTGTGG</td>\n",
       "      <td>lacUV5 purR overlap double mutant</td>\n",
       "    </tr>\n",
       "    <tr>\n",
       "      <th>1079</th>\n",
       "      <td>TCGAGTTTACACACGCAAACGTTTTCtgGTATAATGTGTGG</td>\n",
       "      <td>lacUV5 purR overlap double mutant</td>\n",
       "    </tr>\n",
       "  </tbody>\n",
       "</table>\n",
       "</div>"
      ],
      "text/plain": [
       "                                            seq  \\\n",
       "1075  TCGAGTTTACACACGCAAACGTTTTttTGTATAATGTGTGG   \n",
       "1076  TCGAGTTTACACACGCAAACGTTTTtGgGTATAATGTGTGG   \n",
       "1077  TCGAGTTTACACACGCAAACGTTTTCtaGTATAATGTGTGG   \n",
       "1078  TCGAGTTTACACACGCAAACGTTTTCtcGTATAATGTGTGG   \n",
       "1079  TCGAGTTTACACACGCAAACGTTTTCtgGTATAATGTGTGG   \n",
       "\n",
       "                            description  \n",
       "1075  lacUV5 purR overlap double mutant  \n",
       "1076  lacUV5 purR overlap double mutant  \n",
       "1077  lacUV5 purR overlap double mutant  \n",
       "1078  lacUV5 purR overlap double mutant  \n",
       "1079  lacUV5 purR overlap double mutant  "
      ]
     },
     "execution_count": 8,
     "metadata": {},
     "output_type": "execute_result"
    }
   ],
   "source": [
    "mutants_double = wgregseq.mutations_det(lacUV5_purR_overlap, mut_per_seq=2, site_start=12, site_end=28)\n",
    "overlap_df_double = pd.DataFrame({\"seq\":mutants_double})\n",
    "overlap_df_double[\"description\"] = \"lacUV5 purR overlap double mutant\"\n",
    "overlap_df_double.tail()"
   ]
  },
  {
   "cell_type": "markdown",
   "metadata": {},
   "source": [
    "### Combine them all"
   ]
  },
  {
   "cell_type": "code",
   "execution_count": 9,
   "metadata": {},
   "outputs": [
    {
     "data": {
      "text/html": [
       "<div>\n",
       "<style scoped>\n",
       "    .dataframe tbody tr th:only-of-type {\n",
       "        vertical-align: middle;\n",
       "    }\n",
       "\n",
       "    .dataframe tbody tr th {\n",
       "        vertical-align: top;\n",
       "    }\n",
       "\n",
       "    .dataframe thead th {\n",
       "        text-align: right;\n",
       "    }\n",
       "</style>\n",
       "<table border=\"1\" class=\"dataframe\">\n",
       "  <thead>\n",
       "    <tr style=\"text-align: right;\">\n",
       "      <th></th>\n",
       "      <th>seq</th>\n",
       "      <th>description</th>\n",
       "    </tr>\n",
       "  </thead>\n",
       "  <tbody>\n",
       "    <tr>\n",
       "      <th>2253</th>\n",
       "      <td>TCGAGTTTACACACGCAAACGTTTTttTGTATAATGTGTGG</td>\n",
       "      <td>lacUV5 purR overlap double mutant</td>\n",
       "    </tr>\n",
       "    <tr>\n",
       "      <th>2254</th>\n",
       "      <td>TCGAGTTTACACACGCAAACGTTTTtGgGTATAATGTGTGG</td>\n",
       "      <td>lacUV5 purR overlap double mutant</td>\n",
       "    </tr>\n",
       "    <tr>\n",
       "      <th>2255</th>\n",
       "      <td>TCGAGTTTACACACGCAAACGTTTTCtaGTATAATGTGTGG</td>\n",
       "      <td>lacUV5 purR overlap double mutant</td>\n",
       "    </tr>\n",
       "    <tr>\n",
       "      <th>2256</th>\n",
       "      <td>TCGAGTTTACACACGCAAACGTTTTCtcGTATAATGTGTGG</td>\n",
       "      <td>lacUV5 purR overlap double mutant</td>\n",
       "    </tr>\n",
       "    <tr>\n",
       "      <th>2257</th>\n",
       "      <td>TCGAGTTTACACACGCAAACGTTTTCtgGTATAATGTGTGG</td>\n",
       "      <td>lacUV5 purR overlap double mutant</td>\n",
       "    </tr>\n",
       "  </tbody>\n",
       "</table>\n",
       "</div>"
      ],
      "text/plain": [
       "                                            seq  \\\n",
       "2253  TCGAGTTTACACACGCAAACGTTTTttTGTATAATGTGTGG   \n",
       "2254  TCGAGTTTACACACGCAAACGTTTTtGgGTATAATGTGTGG   \n",
       "2255  TCGAGTTTACACACGCAAACGTTTTCtaGTATAATGTGTGG   \n",
       "2256  TCGAGTTTACACACGCAAACGTTTTCtcGTATAATGTGTGG   \n",
       "2257  TCGAGTTTACACACGCAAACGTTTTCtgGTATAATGTGTGG   \n",
       "\n",
       "                            description  \n",
       "2253  lacUV5 purR overlap double mutant  \n",
       "2254  lacUV5 purR overlap double mutant  \n",
       "2255  lacUV5 purR overlap double mutant  \n",
       "2256  lacUV5 purR overlap double mutant  \n",
       "2257  lacUV5 purR overlap double mutant  "
      ]
     },
     "execution_count": 9,
     "metadata": {},
     "output_type": "execute_result"
    }
   ],
   "source": [
    "purR_df = pd.concat([downstream_df_single, downstream_df_double, overlap_df_single, overlap_df_double], ignore_index=True)\n",
    "purR_df.tail()"
   ]
  },
  {
   "cell_type": "code",
   "execution_count": 10,
   "metadata": {},
   "outputs": [],
   "source": [
    "purR_df.to_csv(\"purR_twist_order.csv\")"
   ]
  },
  {
   "cell_type": "code",
   "execution_count": null,
   "metadata": {},
   "outputs": [],
   "source": []
  }
 ],
 "metadata": {
  "kernelspec": {
   "display_name": "Python 3",
   "language": "python",
   "name": "python3"
  },
  "language_info": {
   "codemirror_mode": {
    "name": "ipython",
    "version": 3
   },
   "file_extension": ".py",
   "mimetype": "text/x-python",
   "name": "python",
   "nbconvert_exporter": "python",
   "pygments_lexer": "ipython3",
   "version": "3.7.9"
  }
 },
 "nbformat": 4,
 "nbformat_minor": 4
}
