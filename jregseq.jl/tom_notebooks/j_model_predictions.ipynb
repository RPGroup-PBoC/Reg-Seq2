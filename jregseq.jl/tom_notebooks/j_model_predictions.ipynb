{
 "cells": [
  {
   "cell_type": "markdown",
   "metadata": {},
   "source": [
    "# Modeling Expression"
   ]
  },
  {
   "cell_type": "markdown",
   "metadata": {},
   "source": [
    "(c) 2020 Tom Röschinger. This work is licensed under a [Creative Commons Attribution License CC-BY 4.0](https://creativecommons.org/licenses/by/4.0/). All code contained herein is licensed under an [MIT license](https://opensource.org/licenses/MIT)."
   ]
  },
  {
   "cell_type": "code",
   "execution_count": 1,
   "metadata": {},
   "outputs": [
    {
     "name": "stderr",
     "output_type": "stream",
     "text": [
      "┌ Info: Precompiling jregseq [b34a420d-223d-4b4e-9114-30d66f31796f]\n",
      "└ @ Base loading.jl:1278\n"
     ]
    },
    {
     "data": {
      "text/html": [
       "<script>\n",
       "// Immediately-invoked-function-expression to avoid global variables.\n",
       "(function() {\n",
       "    var warning_div = document.getElementById(\"webio-warning-6055536858684277704\");\n",
       "    var hide = function () {\n",
       "        var script = document.getElementById(\"webio-setup-16868275291436199125\");\n",
       "        var parent = script && script.parentElement;\n",
       "        var grandparent = parent && parent.parentElement;\n",
       "        if (grandparent) {\n",
       "            grandparent.style.display = \"none\";\n",
       "        }\n",
       "        warning_div.style.display = \"none\";\n",
       "    };\n",
       "    if (typeof Jupyter !== \"undefined\") {\n",
       "        console.log(\"WebIO detected Jupyter notebook environment.\");\n",
       "        // Jupyter notebook.\n",
       "        var extensions = (\n",
       "            Jupyter\n",
       "            && Jupyter.notebook.config.data\n",
       "            && Jupyter.notebook.config.data.load_extensions\n",
       "        );\n",
       "        if (extensions && extensions[\"webio-jupyter-notebook\"]) {\n",
       "            // Extension already loaded.\n",
       "            console.log(\"Jupyter WebIO nbextension detected; not loading ad-hoc.\");\n",
       "            hide();\n",
       "            return;\n",
       "        }\n",
       "    } else if (window.location.pathname.includes(\"/lab\")) {\n",
       "        // Guessing JupyterLa\n",
       "        console.log(\"Jupyter Lab detected; make sure the @webio/jupyter-lab-provider labextension is installed.\");\n",
       "        hide();\n",
       "        return;\n",
       "    }\n",
       "})();\n",
       "\n",
       "</script>\n",
       "<p\n",
       "    id=\"webio-warning-6055536858684277704\"\n",
       "    class=\"output_text output_stderr\"\n",
       "    style=\"padding: 1em; font-weight: bold;\"\n",
       ">\n",
       "    Unable to load WebIO. Please make sure WebIO works for your Jupyter client.\n",
       "    For troubleshooting, please see <a href=\"https://juliagizmos.github.io/WebIO.jl/latest/providers/ijulia/\">\n",
       "    the WebIO/IJulia documentation</a>.\n",
       "    <!-- TODO: link to installation docs. -->\n",
       "</p>\n"
      ],
      "text/plain": [
       "HTML{String}(\"<script>\\n// Immediately-invoked-function-expression to avoid global variables.\\n(function() {\\n    var warning_div = document.getElementById(\\\"webio-warning-6055536858684277704\\\");\\n    var hide = function () {\\n        var script = document.getElementById(\\\"webio-setup-16868275291436199125\\\");\\n        var parent = script && script.parentElement;\\n        var grandparent = parent && parent.parentElement;\\n        if (grandparent) {\\n            grandparent.style.display = \\\"none\\\";\\n        }\\n        warning_div.style.display = \\\"none\\\";\\n    };\\n    if (typeof Jupyter !== \\\"undefined\\\") {\\n        console.log(\\\"WebIO detected Jupyter notebook environment.\\\");\\n        // Jupyter notebook.\\n        var extensions = (\\n            Jupyter\\n            && Jupyter.notebook.config.data\\n            && Jupyter.notebook.config.data.load_extensions\\n        );\\n        if (extensions && extensions[\\\"webio-jupyter-notebook\\\"]) {\\n            // Extension already loaded.\\n            console.log(\\\"Jupyter WebIO nbextension detected; not loading ad-hoc.\\\");\\n            hide();\\n            return;\\n        }\\n    } else if (window.location.pathname.includes(\\\"/lab\\\")) {\\n        // Guessing JupyterLa\\n        console.log(\\\"Jupyter Lab detected; make sure the @webio/jupyter-lab-provider labextension is installed.\\\");\\n        hide();\\n        return;\\n    }\\n})();\\n\\n</script>\\n<p\\n    id=\\\"webio-warning-6055536858684277704\\\"\\n    class=\\\"output_text output_stderr\\\"\\n    style=\\\"padding: 1em; font-weight: bold;\\\"\\n>\\n    Unable to load WebIO. Please make sure WebIO works for your Jupyter client.\\n    For troubleshooting, please see <a href=\\\"https://juliagizmos.github.io/WebIO.jl/latest/providers/ijulia/\\\">\\n    the WebIO/IJulia documentation</a>.\\n    <!-- TODO: link to installation docs. -->\\n</p>\\n\")"
      ]
     },
     "metadata": {},
     "output_type": "display_data"
    },
    {
     "data": {
      "text/html": [
       "<script>\n",
       "// Immediately-invoked-function-expression to avoid global variables.\n",
       "(function() {\n",
       "    var warning_div = document.getElementById(\"webio-warning-6173756806038213285\");\n",
       "    var hide = function () {\n",
       "        var script = document.getElementById(\"webio-setup-15016391094606100145\");\n",
       "        var parent = script && script.parentElement;\n",
       "        var grandparent = parent && parent.parentElement;\n",
       "        if (grandparent) {\n",
       "            grandparent.style.display = \"none\";\n",
       "        }\n",
       "        warning_div.style.display = \"none\";\n",
       "    };\n",
       "    if (typeof Jupyter !== \"undefined\") {\n",
       "        console.log(\"WebIO detected Jupyter notebook environment.\");\n",
       "        // Jupyter notebook.\n",
       "        var extensions = (\n",
       "            Jupyter\n",
       "            && Jupyter.notebook.config.data\n",
       "            && Jupyter.notebook.config.data.load_extensions\n",
       "        );\n",
       "        if (extensions && extensions[\"webio-jupyter-notebook\"]) {\n",
       "            // Extension already loaded.\n",
       "            console.log(\"Jupyter WebIO nbextension detected; not loading ad-hoc.\");\n",
       "            hide();\n",
       "            return;\n",
       "        }\n",
       "    } else if (window.location.pathname.includes(\"/lab\")) {\n",
       "        // Guessing JupyterLa\n",
       "        console.log(\"Jupyter Lab detected; make sure the @webio/jupyter-lab-provider labextension is installed.\");\n",
       "        hide();\n",
       "        return;\n",
       "    }\n",
       "})();\n",
       "\n",
       "</script>\n",
       "<p\n",
       "    id=\"webio-warning-6173756806038213285\"\n",
       "    class=\"output_text output_stderr\"\n",
       "    style=\"padding: 1em; font-weight: bold;\"\n",
       ">\n",
       "    Unable to load WebIO. Please make sure WebIO works for your Jupyter client.\n",
       "    For troubleshooting, please see <a href=\"https://juliagizmos.github.io/WebIO.jl/latest/providers/ijulia/\">\n",
       "    the WebIO/IJulia documentation</a>.\n",
       "    <!-- TODO: link to installation docs. -->\n",
       "</p>\n"
      ],
      "text/plain": [
       "HTML{String}(\"<script>\\n// Immediately-invoked-function-expression to avoid global variables.\\n(function() {\\n    var warning_div = document.getElementById(\\\"webio-warning-6173756806038213285\\\");\\n    var hide = function () {\\n        var script = document.getElementById(\\\"webio-setup-15016391094606100145\\\");\\n        var parent = script && script.parentElement;\\n        var grandparent = parent && parent.parentElement;\\n        if (grandparent) {\\n            grandparent.style.display = \\\"none\\\";\\n        }\\n        warning_div.style.display = \\\"none\\\";\\n    };\\n    if (typeof Jupyter !== \\\"undefined\\\") {\\n        console.log(\\\"WebIO detected Jupyter notebook environment.\\\");\\n        // Jupyter notebook.\\n        var extensions = (\\n            Jupyter\\n            && Jupyter.notebook.config.data\\n            && Jupyter.notebook.config.data.load_extensions\\n        );\\n        if (extensions && extensions[\\\"webio-jupyter-notebook\\\"]) {\\n            // Extension already loaded.\\n            console.log(\\\"Jupyter WebIO nbextension detected; not loading ad-hoc.\\\");\\n            hide();\\n            return;\\n        }\\n    } else if (window.location.pathname.includes(\\\"/lab\\\")) {\\n        // Guessing JupyterLa\\n        console.log(\\\"Jupyter Lab detected; make sure the @webio/jupyter-lab-provider labextension is installed.\\\");\\n        hide();\\n        return;\\n    }\\n})();\\n\\n</script>\\n<p\\n    id=\\\"webio-warning-6173756806038213285\\\"\\n    class=\\\"output_text output_stderr\\\"\\n    style=\\\"padding: 1em; font-weight: bold;\\\"\\n>\\n    Unable to load WebIO. Please make sure WebIO works for your Jupyter client.\\n    For troubleshooting, please see <a href=\\\"https://juliagizmos.github.io/WebIO.jl/latest/providers/ijulia/\\\">\\n    the WebIO/IJulia documentation</a>.\\n    <!-- TODO: link to installation docs. -->\\n</p>\\n\")"
      ]
     },
     "metadata": {},
     "output_type": "display_data"
    },
    {
     "name": "stderr",
     "output_type": "stream",
     "text": [
      "WARNING: redefinition of constant known_mimetypes. This may fail, cause incorrect answers, or produce other errors.\n",
      "WARNING: redefinition of constant singleton_instance. This may fail, cause incorrect answers, or produce other errors.\n",
      "WARNING: redefinition of constant routing_callback. This may fail, cause incorrect answers, or produce other errors.\n",
      "WARNING: redefinition of constant webio_server_config. This may fail, cause incorrect answers, or produce other errors.\n"
     ]
    },
    {
     "data": {
      "text/plain": [
       "Plots.PlotlyJSBackend()"
      ]
     },
     "execution_count": 1,
     "metadata": {},
     "output_type": "execute_result"
    }
   ],
   "source": [
    "using jregseq, CSV, DataFrames, Statistics, DelimitedFiles, Plots\n",
    "import Pandas.read_csv\n",
    "\n",
    "plotlyjs()"
   ]
  },
  {
   "cell_type": "markdown",
   "metadata": {},
   "source": [
    "Here we are going to try to predict the changes in gene expression that are occurring due to single mutations in promoter binding sites. To do that, we are going to use some data from the original [Reg-Seq experiment](https://github.com/RPGroup-PBoC/RegSeq). \n",
    "\n",
    "Here we go with a an energy matrix for *ykgE*. We have to use `Pandas` to import the table due to some weird format."
   ]
  },
  {
   "cell_type": "code",
   "execution_count": 2,
   "metadata": {},
   "outputs": [
    {
     "data": {
      "text/html": [
       "<table class=\"data-frame\"><thead><tr><th></th><th>pos</th><th>val_A</th><th>val_C</th><th>val_G</th><th>val_T</th></tr><tr><th></th><th>Int64</th><th>Float64</th><th>Float64</th><th>Float64</th><th>Float64</th></tr></thead><tbody><p>6 rows × 5 columns</p><tr><th>1</th><td>71</td><td>-0.033288</td><td>-0.014025</td><td>0.053555</td><td>-0.006242</td></tr><tr><th>2</th><td>72</td><td>-0.01692</td><td>0.010667</td><td>0.019179</td><td>-0.012926</td></tr><tr><th>3</th><td>73</td><td>-0.078306</td><td>-0.004528</td><td>-0.01223</td><td>0.095064</td></tr><tr><th>4</th><td>74</td><td>0.199515</td><td>-0.058073</td><td>-0.086813</td><td>-0.054629</td></tr><tr><th>5</th><td>75</td><td>0.033905</td><td>-0.071138</td><td>0.004644</td><td>0.032589</td></tr><tr><th>6</th><td>76</td><td>0.051868</td><td>-0.025173</td><td>-0.012584</td><td>-0.014111</td></tr></tbody></table>"
      ],
      "text/latex": [
       "\\begin{tabular}{r|ccccc}\n",
       "\t& pos & val\\_A & val\\_C & val\\_G & val\\_T\\\\\n",
       "\t\\hline\n",
       "\t& Int64 & Float64 & Float64 & Float64 & Float64\\\\\n",
       "\t\\hline\n",
       "\t1 & 71 & -0.033288 & -0.014025 & 0.053555 & -0.006242 \\\\\n",
       "\t2 & 72 & -0.01692 & 0.010667 & 0.019179 & -0.012926 \\\\\n",
       "\t3 & 73 & -0.078306 & -0.004528 & -0.01223 & 0.095064 \\\\\n",
       "\t4 & 74 & 0.199515 & -0.058073 & -0.086813 & -0.054629 \\\\\n",
       "\t5 & 75 & 0.033905 & -0.071138 & 0.004644 & 0.032589 \\\\\n",
       "\t6 & 76 & 0.051868 & -0.025173 & -0.012584 & -0.014111 \\\\\n",
       "\\end{tabular}\n"
      ],
      "text/plain": [
       "6×5 DataFrame\n",
       "│ Row │ pos   │ val_A     │ val_C     │ val_G     │ val_T     │\n",
       "│     │ \u001b[90mInt64\u001b[39m │ \u001b[90mFloat64\u001b[39m   │ \u001b[90mFloat64\u001b[39m   │ \u001b[90mFloat64\u001b[39m   │ \u001b[90mFloat64\u001b[39m   │\n",
       "├─────┼───────┼───────────┼───────────┼───────────┼───────────┤\n",
       "│ 1   │ 71    │ -0.033288 │ -0.014025 │ 0.053555  │ -0.006242 │\n",
       "│ 2   │ 72    │ -0.01692  │ 0.010667  │ 0.019179  │ -0.012926 │\n",
       "│ 3   │ 73    │ -0.078306 │ -0.004528 │ -0.01223  │ 0.095064  │\n",
       "│ 4   │ 74    │ 0.199515  │ -0.058073 │ -0.086813 │ -0.054629 │\n",
       "│ 5   │ 75    │ 0.033905  │ -0.071138 │ 0.004644  │ 0.032589  │\n",
       "│ 6   │ 76    │ 0.051868  │ -0.025173 │ -0.012584 │ -0.014111 │"
      ]
     },
     "execution_count": 2,
     "metadata": {},
     "output_type": "execute_result"
    }
   ],
   "source": [
    "df_emat = read_csv(\"../../data/RegSeq/ykgE_Anaero_71_93_energymatrix\", delim_whitespace=true) |> DataFrame;\n",
    "head(df_emat)"
   ]
  },
  {
   "cell_type": "markdown",
   "metadata": {},
   "source": [
    "We also import the sequence reads."
   ]
  },
  {
   "cell_type": "code",
   "execution_count": 3,
   "metadata": {},
   "outputs": [
    {
     "data": {
      "text/html": [
       "<table class=\"data-frame\"><thead><tr><th></th><th>ct</th><th>ct_0</th><th>ct_1</th><th>seq</th></tr><tr><th></th><th>Float64</th><th>Float64</th><th>Float64</th><th>String</th></tr></thead><tbody><p>5 rows × 4 columns</p><tr><th>1</th><td>1.0</td><td>1.0</td><td>0.0</td><td>ACAATTTCACCATAAAATGTCGGCGTTGCCGAAAGAAATAAAATGAGGTATTGCATTTGACGTTTGGATGAAAGATTTTCATTTGTCCTACAATTGCGGGGTGGTATGTGGCTAGCCCATTAAAAAAGAACGCCATATTTATTGATGATTGACACCGCGGCCCAGCCAATCTATACGCCT</td></tr><tr><th>2</th><td>1.0</td><td>1.0</td><td>0.0</td><td>ACAATTTCACCATAAAATGTCGGCGTTGCCGAAAGAAATAAAATGAGGTATTGCATTTGACGTTTGGATGAAAGATTTTCATTTGTCCTACAATTGCGGGGTGGTATGTGGCTAGCCCATTAAAAAAGAACGCCATATTTATTGATGATTGACACCGCGGGAGAGCCTCGCGTATCCCTC</td></tr><tr><th>3</th><td>1.0</td><td>1.0</td><td>0.0</td><td>ACAATTTCACCATAAAATGTCGGCGTTGCCGAAAGAAATAAAATGAGGTATTGCATTTGACGTTTGGATGAAAGATTTTCATTTGTCCTACAATTGCGGGGTGGTATGTGGCTAGCCCATTAAAAAAGAACGCCATATTTATTGATGATTGACACCGCGGGGAGGCGTCGTGCCCCTAAA</td></tr><tr><th>4</th><td>1.0</td><td>1.0</td><td>0.0</td><td>ACAATTTCACCATAAAATGTCGGCGTTGCCGAAAGAAATAAAATGAGGTATTGCATTTGACGTTTGGATGAAAGATTTTCATTTGTCCTACAATTGCGGGGTGGTATGTGGCTAGCCCATTAAAAAAGAACGCCATATTTATTGATGATTGACACCGCGGGGGGACCCTTGCTTTCTATT</td></tr><tr><th>5</th><td>1.0</td><td>1.0</td><td>0.0</td><td>ACAATTTCACCATAAAATGTCGGCGTTGCCGAAAGAAATAAAATGAGGTATTGCATTTGACGTTTGGATGAAAGATTTTCATTTGTCCTACAATTGCGGGGTGGTATGTGGCTAGCCCATTAAAAAAGAACGCCATATTTATTGATGATTGACACCGCGGTGTTCGAGTAATTTCCCTGA</td></tr></tbody></table>"
      ],
      "text/latex": [
       "\\begin{tabular}{r|cccc}\n",
       "\t& ct & ct\\_0 & ct\\_1 & seq\\\\\n",
       "\t\\hline\n",
       "\t& Float64 & Float64 & Float64 & String\\\\\n",
       "\t\\hline\n",
       "\t1 & 1.0 & 1.0 & 0.0 & ACAATTTCACCATAAAATGTCGGCGTTGCCGAAAGAAATAAAATGAGGTATTGCATTTGACGTTTGGATGAAAGATTTTCATTTGTCCTACAATTGCGGGGTGGTATGTGGCTAGCCCATTAAAAAAGAACGCCATATTTATTGATGATTGACACCGCGGCCCAGCCAATCTATACGCCT \\\\\n",
       "\t2 & 1.0 & 1.0 & 0.0 & ACAATTTCACCATAAAATGTCGGCGTTGCCGAAAGAAATAAAATGAGGTATTGCATTTGACGTTTGGATGAAAGATTTTCATTTGTCCTACAATTGCGGGGTGGTATGTGGCTAGCCCATTAAAAAAGAACGCCATATTTATTGATGATTGACACCGCGGGAGAGCCTCGCGTATCCCTC \\\\\n",
       "\t3 & 1.0 & 1.0 & 0.0 & ACAATTTCACCATAAAATGTCGGCGTTGCCGAAAGAAATAAAATGAGGTATTGCATTTGACGTTTGGATGAAAGATTTTCATTTGTCCTACAATTGCGGGGTGGTATGTGGCTAGCCCATTAAAAAAGAACGCCATATTTATTGATGATTGACACCGCGGGGAGGCGTCGTGCCCCTAAA \\\\\n",
       "\t4 & 1.0 & 1.0 & 0.0 & ACAATTTCACCATAAAATGTCGGCGTTGCCGAAAGAAATAAAATGAGGTATTGCATTTGACGTTTGGATGAAAGATTTTCATTTGTCCTACAATTGCGGGGTGGTATGTGGCTAGCCCATTAAAAAAGAACGCCATATTTATTGATGATTGACACCGCGGGGGGACCCTTGCTTTCTATT \\\\\n",
       "\t5 & 1.0 & 1.0 & 0.0 & ACAATTTCACCATAAAATGTCGGCGTTGCCGAAAGAAATAAAATGAGGTATTGCATTTGACGTTTGGATGAAAGATTTTCATTTGTCCTACAATTGCGGGGTGGTATGTGGCTAGCCCATTAAAAAAGAACGCCATATTTATTGATGATTGACACCGCGGTGTTCGAGTAATTTCCCTGA \\\\\n",
       "\\end{tabular}\n"
      ],
      "text/plain": [
       "5×4 DataFrame. Omitted printing of 1 columns\n",
       "│ Row │ ct      │ ct_0    │ ct_1    │\n",
       "│     │ \u001b[90mFloat64\u001b[39m │ \u001b[90mFloat64\u001b[39m │ \u001b[90mFloat64\u001b[39m │\n",
       "├─────┼─────────┼─────────┼─────────┤\n",
       "│ 1   │ 1.0     │ 1.0     │ 0.0     │\n",
       "│ 2   │ 1.0     │ 1.0     │ 0.0     │\n",
       "│ 3   │ 1.0     │ 1.0     │ 0.0     │\n",
       "│ 4   │ 1.0     │ 1.0     │ 0.0     │\n",
       "│ 5   │ 1.0     │ 1.0     │ 0.0     │"
      ]
     },
     "execution_count": 3,
     "metadata": {},
     "output_type": "execute_result"
    }
   ],
   "source": [
    "df_reads = read_csv(\"../../data/RegSeq/ykgEAnaerodataset_alldone_with_large\", delim_whitespace=true) |> DataFrame;\n",
    "head(df_reads, 5)"
   ]
  },
  {
   "cell_type": "markdown",
   "metadata": {},
   "source": [
    "Looking at the information footprint, we find that this binding site is the one for the repressor."
   ]
  },
  {
   "cell_type": "markdown",
   "metadata": {},
   "source": [
    "![](footprint.PNG)"
   ]
  },
  {
   "cell_type": "markdown",
   "metadata": {},
   "source": [
    "The sequences of interest contain the barcode at the end, i.e., the last 20 letters are the barcode."
   ]
  },
  {
   "cell_type": "code",
   "execution_count": 4,
   "metadata": {},
   "outputs": [
    {
     "data": {
      "text/plain": [
       "180"
      ]
     },
     "execution_count": 4,
     "metadata": {},
     "output_type": "execute_result"
    }
   ],
   "source": [
    "length(df_reads.seq[1])"
   ]
  },
  {
   "cell_type": "markdown",
   "metadata": {},
   "source": [
    "To work with the energy matrix, we convert it to an array and forget about the positions for now."
   ]
  },
  {
   "cell_type": "code",
   "execution_count": 5,
   "metadata": {},
   "outputs": [
    {
     "data": {
      "text/plain": [
       "23×4 Array{Float64,2}:\n",
       " -0.033288  -0.014025   0.053555  -0.006242\n",
       " -0.01692    0.010667   0.019179  -0.012926\n",
       " -0.078306  -0.004528  -0.01223    0.095064\n",
       "  0.199515  -0.058073  -0.086813  -0.054629\n",
       "  0.033905  -0.071138   0.004644   0.032589\n",
       "  0.051868  -0.025173  -0.012584  -0.014111\n",
       "  0.089666  -0.029124  -0.013974  -0.046568\n",
       " -0.072368  -0.056475  -0.03225    0.161093\n",
       " -0.00548    0.010865   0.006917  -0.012302\n",
       " -0.028776   0.035087  -0.01494    0.008628\n",
       " -0.017268   0.017855   0.046747  -0.047335\n",
       "  0.053466  -0.008786   0.01635   -0.06103\n",
       "  0.025561  -0.013208   0.045536  -0.057889\n",
       " -0.003096   0.036267  -0.040278   0.007107\n",
       "  0.044523   0.043059  -0.0035    -0.084082\n",
       "  0.017119  -0.046369  -0.001753   0.031002\n",
       " -0.017918  -0.00874    0.025971   0.000687\n",
       "  0.038592  -0.028786   0.009415  -0.019221\n",
       " -0.072817  -0.009082   0.060168   0.021731\n",
       "  0.028964  -0.07278    0.026844   0.016972\n",
       " -0.042122   0.017107   0.027542  -0.002526\n",
       " -0.046036   0.035937   0.005203   0.004896\n",
       " -0.038327   0.031758   0.012417  -0.005848"
      ]
     },
     "execution_count": 5,
     "metadata": {},
     "output_type": "execute_result"
    }
   ],
   "source": [
    "emat = convert(Matrix, df_emat)[:, 2:5]"
   ]
  },
  {
   "cell_type": "markdown",
   "metadata": {},
   "source": [
    "This energy matrix is in arbitrary units, as are most inferred energy matrices from Reg-Seq. Transforming the entries to real energies seems to be a hard task, so for this toy model we are simply setting the minimal energy per position to 0 and multiply the remaining values by a constant such that the average energy contribution of a mutation is about 2kBT."
   ]
  },
  {
   "cell_type": "code",
   "execution_count": 6,
   "metadata": {},
   "outputs": [
    {
     "data": {
      "text/plain": [
       "23×4 Array{Float64,2}:\n",
       "  0.0       1.04794   4.72439    1.47134\n",
       "  0.0       1.50077   1.96384    0.217279\n",
       "  0.0       4.01363   3.59463    9.43158\n",
       " 15.5767    1.5635    0.0        1.75086\n",
       "  5.71449   0.0       4.12265    5.6429\n",
       "  4.19114   0.0       0.68486    0.601789\n",
       "  7.41133   0.948979  1.77316    0.0\n",
       "  0.0       0.864603  2.18248   12.7006\n",
       "  0.371127  1.26032   1.04554    0.0\n",
       "  0.0       3.47424   0.752699   2.03483\n",
       "  1.63569   3.54643   5.1182     0.0\n",
       "  6.22875   2.84215   4.20959    0.0\n",
       "  4.5398    2.43071   5.62647    0.0\n",
       "  2.02276   4.16416   0.0        2.57781\n",
       "  6.9963    6.91666   4.38378    0.0\n",
       "  3.45384   0.0       2.42718    4.2091\n",
       "  0.0       0.499297  2.38763    1.01214\n",
       "  3.66546   0.0       2.07819    0.52035\n",
       "  0.0       3.46728   7.23458    5.14355\n",
       "  5.53502   0.0       5.41969    4.88264\n",
       "  0.0       3.22214   3.78982    2.15408\n",
       "  0.0       4.45945   2.78748    2.77078\n",
       "  0.0       3.81273   2.76055    1.76691"
      ]
     },
     "execution_count": 6,
     "metadata": {},
     "output_type": "execute_result"
    }
   ],
   "source": [
    "# Subtract minimum per row\n",
    "emat = emat .- minimum(emat, dims=2)\n",
    "\n",
    "# Compute mean (and correct for 3 mutations)\n",
    "Z = mean(emat) / 4 * 3\n",
    "\n",
    "# Renormalize\n",
    "emat = emat ./ Z * 2"
   ]
  },
  {
   "cell_type": "markdown",
   "metadata": {},
   "source": [
    "I don't know yet how far away this is from anything correct, but we will go forward with this for the lack of a better alternative. Next we need to generate all single mutants from the wild type sequence. Let's assume for now that the wild type sequence is the one with the optimal letter at each position, although we know that this very likely not the case."
   ]
  },
  {
   "cell_type": "code",
   "execution_count": 7,
   "metadata": {},
   "outputs": [
    {
     "data": {
      "text/plain": [
       "23-element Array{Int64,1}:\n",
       " 1\n",
       " 1\n",
       " 1\n",
       " 3\n",
       " 2\n",
       " 2\n",
       " 4\n",
       " 1\n",
       " 4\n",
       " 1\n",
       " 4\n",
       " 4\n",
       " 4\n",
       " 3\n",
       " 4\n",
       " 2\n",
       " 1\n",
       " 2\n",
       " 1\n",
       " 2\n",
       " 1\n",
       " 1\n",
       " 1"
      ]
     },
     "execution_count": 7,
     "metadata": {},
     "output_type": "execute_result"
    }
   ],
   "source": [
    "wildtype = [i[2] for i in argmin(emat, dims=2)][:]"
   ]
  },
  {
   "cell_type": "code",
   "execution_count": 8,
   "metadata": {},
   "outputs": [
    {
     "data": {
      "text/plain": [
       "70-element Array{Array{Int64,1},1}:\n",
       " [1, 1, 1, 3, 2, 2, 4, 1, 4, 1  …  3, 4, 2, 1, 2, 1, 2, 1, 1, 1]\n",
       " [2, 1, 1, 3, 2, 2, 4, 1, 4, 1  …  3, 4, 2, 1, 2, 1, 2, 1, 1, 1]\n",
       " [3, 1, 1, 3, 2, 2, 4, 1, 4, 1  …  3, 4, 2, 1, 2, 1, 2, 1, 1, 1]\n",
       " [4, 1, 1, 3, 2, 2, 4, 1, 4, 1  …  3, 4, 2, 1, 2, 1, 2, 1, 1, 1]\n",
       " [1, 2, 1, 3, 2, 2, 4, 1, 4, 1  …  3, 4, 2, 1, 2, 1, 2, 1, 1, 1]\n",
       " [1, 3, 1, 3, 2, 2, 4, 1, 4, 1  …  3, 4, 2, 1, 2, 1, 2, 1, 1, 1]\n",
       " [1, 4, 1, 3, 2, 2, 4, 1, 4, 1  …  3, 4, 2, 1, 2, 1, 2, 1, 1, 1]\n",
       " [1, 1, 2, 3, 2, 2, 4, 1, 4, 1  …  3, 4, 2, 1, 2, 1, 2, 1, 1, 1]\n",
       " [1, 1, 3, 3, 2, 2, 4, 1, 4, 1  …  3, 4, 2, 1, 2, 1, 2, 1, 1, 1]\n",
       " [1, 1, 4, 3, 2, 2, 4, 1, 4, 1  …  3, 4, 2, 1, 2, 1, 2, 1, 1, 1]\n",
       " [1, 1, 1, 1, 2, 2, 4, 1, 4, 1  …  3, 4, 2, 1, 2, 1, 2, 1, 1, 1]\n",
       " [1, 1, 1, 2, 2, 2, 4, 1, 4, 1  …  3, 4, 2, 1, 2, 1, 2, 1, 1, 1]\n",
       " [1, 1, 1, 4, 2, 2, 4, 1, 4, 1  …  3, 4, 2, 1, 2, 1, 2, 1, 1, 1]\n",
       " ⋮\n",
       " [1, 1, 1, 3, 2, 2, 4, 1, 4, 1  …  3, 4, 2, 1, 2, 1, 1, 1, 1, 1]\n",
       " [1, 1, 1, 3, 2, 2, 4, 1, 4, 1  …  3, 4, 2, 1, 2, 1, 3, 1, 1, 1]\n",
       " [1, 1, 1, 3, 2, 2, 4, 1, 4, 1  …  3, 4, 2, 1, 2, 1, 4, 1, 1, 1]\n",
       " [1, 1, 1, 3, 2, 2, 4, 1, 4, 1  …  3, 4, 2, 1, 2, 1, 2, 2, 1, 1]\n",
       " [1, 1, 1, 3, 2, 2, 4, 1, 4, 1  …  3, 4, 2, 1, 2, 1, 2, 3, 1, 1]\n",
       " [1, 1, 1, 3, 2, 2, 4, 1, 4, 1  …  3, 4, 2, 1, 2, 1, 2, 4, 1, 1]\n",
       " [1, 1, 1, 3, 2, 2, 4, 1, 4, 1  …  3, 4, 2, 1, 2, 1, 2, 1, 2, 1]\n",
       " [1, 1, 1, 3, 2, 2, 4, 1, 4, 1  …  3, 4, 2, 1, 2, 1, 2, 1, 3, 1]\n",
       " [1, 1, 1, 3, 2, 2, 4, 1, 4, 1  …  3, 4, 2, 1, 2, 1, 2, 1, 4, 1]\n",
       " [1, 1, 1, 3, 2, 2, 4, 1, 4, 1  …  3, 4, 2, 1, 2, 1, 2, 1, 1, 2]\n",
       " [1, 1, 1, 3, 2, 2, 4, 1, 4, 1  …  3, 4, 2, 1, 2, 1, 2, 1, 1, 3]\n",
       " [1, 1, 1, 3, 2, 2, 4, 1, 4, 1  …  3, 4, 2, 1, 2, 1, 2, 1, 1, 4]"
      ]
     },
     "execution_count": 8,
     "metadata": {},
     "output_type": "execute_result"
    }
   ],
   "source": [
    "mutants = jregseq.site_single_mutations(wildtype, alph_type=\"Numeric\")"
   ]
  },
  {
   "cell_type": "markdown",
   "metadata": {},
   "source": [
    "Now we need to compute the binding energy for all of these mutants, but that is just going to be each value of the energy matrix. However, let's write a function anyways in case we want to compute the energy of any given (integer) sequence using an energy matrix."
   ]
  },
  {
   "cell_type": "code",
   "execution_count": 9,
   "metadata": {},
   "outputs": [
    {
     "data": {
      "text/plain": [
       "get_binding_energy (generic function with 1 method)"
      ]
     },
     "execution_count": 9,
     "metadata": {},
     "output_type": "execute_result"
    }
   ],
   "source": [
    "function get_binding_energy(sequence::Array{Int64,1}, emat::Array{Float64,2})\n",
    "    energy = 0.\n",
    "    for i in 1:length(sequence)\n",
    "        energy += emat[i, sequence[i]]\n",
    "    end\n",
    "    return energy\n",
    "end\n",
    "\n"
   ]
  },
  {
   "cell_type": "code",
   "execution_count": 11,
   "metadata": {},
   "outputs": [
    {
     "data": {
      "text/html": [
       "    <script type=\"text/javascript\">\n",
       "        requirejs([\"https://cdn.plot.ly/plotly-latest.min.js\"], function(p) {\n",
       "            window.Plotly = p\n",
       "        });\n",
       "    </script>\n"
      ]
     },
     "metadata": {},
     "output_type": "display_data"
    },
    {
     "data": {
      "application/vnd.plotly.v1+json": {
       "data": [
        {
         "fill": "tozeroy",
         "fillcolor": "rgba(0, 154, 250, 1.000)",
         "hoverinfo": "none",
         "legendgroup": "y1",
         "line": {
          "color": "rgba(0, 0, 0, 1.000)",
          "dash": "solid",
          "width": 1
         },
         "mode": "lines",
         "name": "y1",
         "showlegend": true,
         "type": "scatter",
         "x": [
          0,
          0,
          2,
          2,
          0,
          0
         ],
         "xaxis": "x1",
         "y": [
          22,
          0,
          0,
          22,
          22,
          22
         ],
         "yaxis": "y1"
        },
        {
         "fill": "tozeroy",
         "fillcolor": "rgba(0, 154, 250, 1.000)",
         "hoverinfo": "none",
         "legendgroup": "y1",
         "line": {
          "color": "rgba(0, 0, 0, 1.000)",
          "dash": "solid",
          "width": 1
         },
         "mode": "lines",
         "name": "y1",
         "showlegend": false,
         "type": "scatter",
         "x": [
          2,
          2,
          4,
          4,
          2,
          2
         ],
         "xaxis": "x1",
         "y": [
          22,
          0,
          0,
          22,
          22,
          22
         ],
         "yaxis": "y1"
        },
        {
         "fill": "tozeroy",
         "fillcolor": "rgba(0, 154, 250, 1.000)",
         "hoverinfo": "none",
         "legendgroup": "y1",
         "line": {
          "color": "rgba(0, 0, 0, 1.000)",
          "dash": "solid",
          "width": 1
         },
         "mode": "lines",
         "name": "y1",
         "showlegend": false,
         "type": "scatter",
         "x": [
          4,
          4,
          6,
          6,
          4,
          4
         ],
         "xaxis": "x1",
         "y": [
          18,
          0,
          0,
          18,
          18,
          18
         ],
         "yaxis": "y1"
        },
        {
         "fill": "tozeroy",
         "fillcolor": "rgba(0, 154, 250, 1.000)",
         "hoverinfo": "none",
         "legendgroup": "y1",
         "line": {
          "color": "rgba(0, 0, 0, 1.000)",
          "dash": "solid",
          "width": 1
         },
         "mode": "lines",
         "name": "y1",
         "showlegend": false,
         "type": "scatter",
         "x": [
          6,
          6,
          8,
          8,
          6,
          6
         ],
         "xaxis": "x1",
         "y": [
          5,
          0,
          0,
          5,
          5,
          5
         ],
         "yaxis": "y1"
        },
        {
         "fill": "tozeroy",
         "fillcolor": "rgba(0, 154, 250, 1.000)",
         "hoverinfo": "none",
         "legendgroup": "y1",
         "line": {
          "color": "rgba(0, 0, 0, 1.000)",
          "dash": "solid",
          "width": 1
         },
         "mode": "lines",
         "name": "y1",
         "showlegend": false,
         "type": "scatter",
         "x": [
          8,
          8,
          10,
          10,
          8,
          8
         ],
         "xaxis": "x1",
         "y": [
          1,
          0,
          0,
          1,
          1,
          1
         ],
         "yaxis": "y1"
        },
        {
         "fill": "tozeroy",
         "fillcolor": "rgba(0, 154, 250, 1.000)",
         "hoverinfo": "none",
         "legendgroup": "y1",
         "line": {
          "color": "rgba(0, 0, 0, 1.000)",
          "dash": "solid",
          "width": 1
         },
         "mode": "lines",
         "name": "y1",
         "showlegend": false,
         "type": "scatter",
         "x": [
          10,
          10,
          12,
          12,
          10,
          10
         ],
         "xaxis": "x1",
         "y": [
          0,
          0,
          0,
          0,
          0,
          0
         ],
         "yaxis": "y1"
        },
        {
         "fill": "tozeroy",
         "fillcolor": "rgba(0, 154, 250, 1.000)",
         "hoverinfo": "none",
         "legendgroup": "y1",
         "line": {
          "color": "rgba(0, 0, 0, 1.000)",
          "dash": "solid",
          "width": 1
         },
         "mode": "lines",
         "name": "y1",
         "showlegend": false,
         "type": "scatter",
         "x": [
          12,
          12,
          14,
          14,
          12,
          12
         ],
         "xaxis": "x1",
         "y": [
          1,
          0,
          0,
          1,
          1,
          1
         ],
         "yaxis": "y1"
        },
        {
         "fill": "tozeroy",
         "fillcolor": "rgba(0, 154, 250, 1.000)",
         "hoverinfo": "none",
         "legendgroup": "y1",
         "line": {
          "color": "rgba(0, 0, 0, 1.000)",
          "dash": "solid",
          "width": 1
         },
         "mode": "lines",
         "name": "y1",
         "showlegend": false,
         "type": "scatter",
         "x": [
          14,
          14,
          16,
          16,
          14,
          14
         ],
         "xaxis": "x1",
         "y": [
          1,
          0,
          0,
          1,
          1,
          1
         ],
         "yaxis": "y1"
        }
       ],
       "layout": {
        "annotations": [],
        "height": 400,
        "legend": {
         "bgcolor": "rgba(255, 255, 255, 1.000)",
         "bordercolor": "rgba(0, 0, 0, 1.000)",
         "borderwidth": 1,
         "font": {
          "color": "rgba(0, 0, 0, 1.000)",
          "family": "sans-serif",
          "size": 11
         },
         "tracegroupgap": 0,
         "traceorder": "normal",
         "x": 1.02,
         "xanchor": "auto",
         "y": 1,
         "yanchor": "auto"
        },
        "margin": {
         "b": 20,
         "l": 0,
         "r": 0,
         "t": 20
        },
        "paper_bgcolor": "rgba(255, 255, 255, 1.000)",
        "plot_bgcolor": "rgba(255, 255, 255, 1.000)",
        "showlegend": true,
        "width": 600,
        "xaxis": {
         "anchor": "y1",
         "domain": [
          0.03619130941965587,
          0.9934383202099738
         ],
         "gridcolor": "rgba(0, 0, 0, 0.100)",
         "gridwidth": 0.5,
         "linecolor": "rgba(0, 0, 0, 1.000)",
         "mirror": false,
         "range": [
          -0.9888,
          16.9888
         ],
         "showgrid": true,
         "showline": true,
         "showticklabels": true,
         "tickangle": 0,
         "tickcolor": "rgb(0, 0, 0)",
         "tickfont": {
          "color": "rgba(0, 0, 0, 1.000)",
          "family": "sans-serif",
          "size": 11
         },
         "tickmode": "array",
         "ticks": "inside",
         "ticktext": [
          "0",
          "5",
          "10",
          "15"
         ],
         "tickvals": [
          0,
          5,
          10,
          15
         ],
         "title": "",
         "titlefont": {
          "color": "rgba(0, 0, 0, 1.000)",
          "family": "sans-serif",
          "size": 15
         },
         "type": "-",
         "visible": true,
         "zeroline": false,
         "zerolinecolor": "rgba(0, 0, 0, 1.000)"
        },
        "yaxis": {
         "anchor": "x1",
         "domain": [
          0.03762029746281716,
          0.9901574803149606
         ],
         "gridcolor": "rgba(0, 0, 0, 0.100)",
         "gridwidth": 0.5,
         "linecolor": "rgba(0, 0, 0, 1.000)",
         "mirror": false,
         "range": [
          -0.6599999999999999,
          22.66
         ],
         "showgrid": true,
         "showline": true,
         "showticklabels": true,
         "tickangle": 0,
         "tickcolor": "rgb(0, 0, 0)",
         "tickfont": {
          "color": "rgba(0, 0, 0, 1.000)",
          "family": "sans-serif",
          "size": 11
         },
         "tickmode": "array",
         "ticks": "inside",
         "ticktext": [
          "0",
          "5",
          "10",
          "15",
          "20"
         ],
         "tickvals": [
          0,
          5,
          10,
          15,
          20
         ],
         "title": "",
         "titlefont": {
          "color": "rgba(0, 0, 0, 1.000)",
          "family": "sans-serif",
          "size": 15
         },
         "type": "-",
         "visible": true,
         "zeroline": false,
         "zerolinecolor": "rgba(0, 0, 0, 1.000)"
        }
       }
      },
      "text/html": [
       "<!DOCTYPE html>\n",
       "<html>\n",
       "    <head>\n",
       "        <title>Plots.jl</title>\n",
       "        <meta http-equiv=\"content-type\" content=\"text/html; charset=UTF-8\">\n",
       "        <script src=\"https://cdn.plot.ly/plotly-latest.min.js\"></script>\n",
       "    </head>\n",
       "    <body>\n",
       "            <div id=\"a29fc37d-b6cb-43a0-a78f-a993d9274e46\" style=\"width:600px;height:400px;\"></div>\n",
       "    <script>\n",
       "    PLOT = document.getElementById('a29fc37d-b6cb-43a0-a78f-a993d9274e46');\n",
       "    Plotly.plot(PLOT, [\n",
       "    {\n",
       "        \"xaxis\": \"x1\",\n",
       "        \"fill\": \"tozeroy\",\n",
       "        \"yaxis\": \"y1\",\n",
       "        \"x\": [\n",
       "            0.0,\n",
       "            0.0,\n",
       "            2.0,\n",
       "            2.0,\n",
       "            0.0,\n",
       "            0.0\n",
       "        ],\n",
       "        \"showlegend\": true,\n",
       "        \"mode\": \"lines\",\n",
       "        \"fillcolor\": \"rgba(0, 154, 250, 1.000)\",\n",
       "        \"name\": \"y1\",\n",
       "        \"legendgroup\": \"y1\",\n",
       "        \"line\": {\n",
       "            \"color\": \"rgba(0, 0, 0, 1.000)\",\n",
       "            \"dash\": \"solid\",\n",
       "            \"width\": 1\n",
       "        },\n",
       "        \"y\": [\n",
       "            22.0,\n",
       "            0.0,\n",
       "            0.0,\n",
       "            22.0,\n",
       "            22.0,\n",
       "            22.0\n",
       "        ],\n",
       "        \"type\": \"scatter\",\n",
       "        \"hoverinfo\": \"none\"\n",
       "    },\n",
       "    {\n",
       "        \"xaxis\": \"x1\",\n",
       "        \"fill\": \"tozeroy\",\n",
       "        \"yaxis\": \"y1\",\n",
       "        \"x\": [\n",
       "            2.0,\n",
       "            2.0,\n",
       "            4.0,\n",
       "            4.0,\n",
       "            2.0,\n",
       "            2.0\n",
       "        ],\n",
       "        \"showlegend\": false,\n",
       "        \"mode\": \"lines\",\n",
       "        \"fillcolor\": \"rgba(0, 154, 250, 1.000)\",\n",
       "        \"name\": \"y1\",\n",
       "        \"legendgroup\": \"y1\",\n",
       "        \"line\": {\n",
       "            \"color\": \"rgba(0, 0, 0, 1.000)\",\n",
       "            \"dash\": \"solid\",\n",
       "            \"width\": 1\n",
       "        },\n",
       "        \"y\": [\n",
       "            22.0,\n",
       "            0.0,\n",
       "            0.0,\n",
       "            22.0,\n",
       "            22.0,\n",
       "            22.0\n",
       "        ],\n",
       "        \"type\": \"scatter\",\n",
       "        \"hoverinfo\": \"none\"\n",
       "    },\n",
       "    {\n",
       "        \"xaxis\": \"x1\",\n",
       "        \"fill\": \"tozeroy\",\n",
       "        \"yaxis\": \"y1\",\n",
       "        \"x\": [\n",
       "            4.0,\n",
       "            4.0,\n",
       "            6.0,\n",
       "            6.0,\n",
       "            4.0,\n",
       "            4.0\n",
       "        ],\n",
       "        \"showlegend\": false,\n",
       "        \"mode\": \"lines\",\n",
       "        \"fillcolor\": \"rgba(0, 154, 250, 1.000)\",\n",
       "        \"name\": \"y1\",\n",
       "        \"legendgroup\": \"y1\",\n",
       "        \"line\": {\n",
       "            \"color\": \"rgba(0, 0, 0, 1.000)\",\n",
       "            \"dash\": \"solid\",\n",
       "            \"width\": 1\n",
       "        },\n",
       "        \"y\": [\n",
       "            18.0,\n",
       "            0.0,\n",
       "            0.0,\n",
       "            18.0,\n",
       "            18.0,\n",
       "            18.0\n",
       "        ],\n",
       "        \"type\": \"scatter\",\n",
       "        \"hoverinfo\": \"none\"\n",
       "    },\n",
       "    {\n",
       "        \"xaxis\": \"x1\",\n",
       "        \"fill\": \"tozeroy\",\n",
       "        \"yaxis\": \"y1\",\n",
       "        \"x\": [\n",
       "            6.0,\n",
       "            6.0,\n",
       "            8.0,\n",
       "            8.0,\n",
       "            6.0,\n",
       "            6.0\n",
       "        ],\n",
       "        \"showlegend\": false,\n",
       "        \"mode\": \"lines\",\n",
       "        \"fillcolor\": \"rgba(0, 154, 250, 1.000)\",\n",
       "        \"name\": \"y1\",\n",
       "        \"legendgroup\": \"y1\",\n",
       "        \"line\": {\n",
       "            \"color\": \"rgba(0, 0, 0, 1.000)\",\n",
       "            \"dash\": \"solid\",\n",
       "            \"width\": 1\n",
       "        },\n",
       "        \"y\": [\n",
       "            5.0,\n",
       "            0.0,\n",
       "            0.0,\n",
       "            5.0,\n",
       "            5.0,\n",
       "            5.0\n",
       "        ],\n",
       "        \"type\": \"scatter\",\n",
       "        \"hoverinfo\": \"none\"\n",
       "    },\n",
       "    {\n",
       "        \"xaxis\": \"x1\",\n",
       "        \"fill\": \"tozeroy\",\n",
       "        \"yaxis\": \"y1\",\n",
       "        \"x\": [\n",
       "            8.0,\n",
       "            8.0,\n",
       "            10.0,\n",
       "            10.0,\n",
       "            8.0,\n",
       "            8.0\n",
       "        ],\n",
       "        \"showlegend\": false,\n",
       "        \"mode\": \"lines\",\n",
       "        \"fillcolor\": \"rgba(0, 154, 250, 1.000)\",\n",
       "        \"name\": \"y1\",\n",
       "        \"legendgroup\": \"y1\",\n",
       "        \"line\": {\n",
       "            \"color\": \"rgba(0, 0, 0, 1.000)\",\n",
       "            \"dash\": \"solid\",\n",
       "            \"width\": 1\n",
       "        },\n",
       "        \"y\": [\n",
       "            1.0,\n",
       "            0.0,\n",
       "            0.0,\n",
       "            1.0,\n",
       "            1.0,\n",
       "            1.0\n",
       "        ],\n",
       "        \"type\": \"scatter\",\n",
       "        \"hoverinfo\": \"none\"\n",
       "    },\n",
       "    {\n",
       "        \"xaxis\": \"x1\",\n",
       "        \"fill\": \"tozeroy\",\n",
       "        \"yaxis\": \"y1\",\n",
       "        \"x\": [\n",
       "            10.0,\n",
       "            10.0,\n",
       "            12.0,\n",
       "            12.0,\n",
       "            10.0,\n",
       "            10.0\n",
       "        ],\n",
       "        \"showlegend\": false,\n",
       "        \"mode\": \"lines\",\n",
       "        \"fillcolor\": \"rgba(0, 154, 250, 1.000)\",\n",
       "        \"name\": \"y1\",\n",
       "        \"legendgroup\": \"y1\",\n",
       "        \"line\": {\n",
       "            \"color\": \"rgba(0, 0, 0, 1.000)\",\n",
       "            \"dash\": \"solid\",\n",
       "            \"width\": 1\n",
       "        },\n",
       "        \"y\": [\n",
       "            0.0,\n",
       "            0.0,\n",
       "            0.0,\n",
       "            0.0,\n",
       "            0.0,\n",
       "            0.0\n",
       "        ],\n",
       "        \"type\": \"scatter\",\n",
       "        \"hoverinfo\": \"none\"\n",
       "    },\n",
       "    {\n",
       "        \"xaxis\": \"x1\",\n",
       "        \"fill\": \"tozeroy\",\n",
       "        \"yaxis\": \"y1\",\n",
       "        \"x\": [\n",
       "            12.0,\n",
       "            12.0,\n",
       "            14.0,\n",
       "            14.0,\n",
       "            12.0,\n",
       "            12.0\n",
       "        ],\n",
       "        \"showlegend\": false,\n",
       "        \"mode\": \"lines\",\n",
       "        \"fillcolor\": \"rgba(0, 154, 250, 1.000)\",\n",
       "        \"name\": \"y1\",\n",
       "        \"legendgroup\": \"y1\",\n",
       "        \"line\": {\n",
       "            \"color\": \"rgba(0, 0, 0, 1.000)\",\n",
       "            \"dash\": \"solid\",\n",
       "            \"width\": 1\n",
       "        },\n",
       "        \"y\": [\n",
       "            1.0,\n",
       "            0.0,\n",
       "            0.0,\n",
       "            1.0,\n",
       "            1.0,\n",
       "            1.0\n",
       "        ],\n",
       "        \"type\": \"scatter\",\n",
       "        \"hoverinfo\": \"none\"\n",
       "    },\n",
       "    {\n",
       "        \"xaxis\": \"x1\",\n",
       "        \"fill\": \"tozeroy\",\n",
       "        \"yaxis\": \"y1\",\n",
       "        \"x\": [\n",
       "            14.0,\n",
       "            14.0,\n",
       "            16.0,\n",
       "            16.0,\n",
       "            14.0,\n",
       "            14.0\n",
       "        ],\n",
       "        \"showlegend\": false,\n",
       "        \"mode\": \"lines\",\n",
       "        \"fillcolor\": \"rgba(0, 154, 250, 1.000)\",\n",
       "        \"name\": \"y1\",\n",
       "        \"legendgroup\": \"y1\",\n",
       "        \"line\": {\n",
       "            \"color\": \"rgba(0, 0, 0, 1.000)\",\n",
       "            \"dash\": \"solid\",\n",
       "            \"width\": 1\n",
       "        },\n",
       "        \"y\": [\n",
       "            1.0,\n",
       "            0.0,\n",
       "            0.0,\n",
       "            1.0,\n",
       "            1.0,\n",
       "            1.0\n",
       "        ],\n",
       "        \"type\": \"scatter\",\n",
       "        \"hoverinfo\": \"none\"\n",
       "    }\n",
       "]\n",
       ", {\n",
       "    \"showlegend\": true,\n",
       "    \"xaxis\": {\n",
       "        \"showticklabels\": true,\n",
       "        \"gridwidth\": 0.5,\n",
       "        \"tickvals\": [\n",
       "            0.0,\n",
       "            5.0,\n",
       "            10.0,\n",
       "            15.0\n",
       "        ],\n",
       "        \"visible\": true,\n",
       "        \"ticks\": \"inside\",\n",
       "        \"range\": [\n",
       "            -0.9888,\n",
       "            16.9888\n",
       "        ],\n",
       "        \"domain\": [\n",
       "            0.03619130941965587,\n",
       "            0.9934383202099738\n",
       "        ],\n",
       "        \"tickmode\": \"array\",\n",
       "        \"linecolor\": \"rgba(0, 0, 0, 1.000)\",\n",
       "        \"showgrid\": true,\n",
       "        \"title\": \"\",\n",
       "        \"mirror\": false,\n",
       "        \"tickangle\": 0,\n",
       "        \"showline\": true,\n",
       "        \"gridcolor\": \"rgba(0, 0, 0, 0.100)\",\n",
       "        \"titlefont\": {\n",
       "            \"color\": \"rgba(0, 0, 0, 1.000)\",\n",
       "            \"family\": \"sans-serif\",\n",
       "            \"size\": 15\n",
       "        },\n",
       "        \"tickcolor\": \"rgb(0, 0, 0)\",\n",
       "        \"ticktext\": [\n",
       "            \"0\",\n",
       "            \"5\",\n",
       "            \"10\",\n",
       "            \"15\"\n",
       "        ],\n",
       "        \"zeroline\": false,\n",
       "        \"type\": \"-\",\n",
       "        \"tickfont\": {\n",
       "            \"color\": \"rgba(0, 0, 0, 1.000)\",\n",
       "            \"family\": \"sans-serif\",\n",
       "            \"size\": 11\n",
       "        },\n",
       "        \"zerolinecolor\": \"rgba(0, 0, 0, 1.000)\",\n",
       "        \"anchor\": \"y1\"\n",
       "    },\n",
       "    \"paper_bgcolor\": \"rgba(255, 255, 255, 1.000)\",\n",
       "    \"annotations\": [],\n",
       "    \"height\": 400,\n",
       "    \"margin\": {\n",
       "        \"l\": 0,\n",
       "        \"b\": 20,\n",
       "        \"r\": 0,\n",
       "        \"t\": 20\n",
       "    },\n",
       "    \"plot_bgcolor\": \"rgba(255, 255, 255, 1.000)\",\n",
       "    \"yaxis\": {\n",
       "        \"showticklabels\": true,\n",
       "        \"gridwidth\": 0.5,\n",
       "        \"tickvals\": [\n",
       "            0.0,\n",
       "            5.0,\n",
       "            10.0,\n",
       "            15.0,\n",
       "            20.0\n",
       "        ],\n",
       "        \"visible\": true,\n",
       "        \"ticks\": \"inside\",\n",
       "        \"range\": [\n",
       "            -0.6599999999999999,\n",
       "            22.66\n",
       "        ],\n",
       "        \"domain\": [\n",
       "            0.03762029746281716,\n",
       "            0.9901574803149606\n",
       "        ],\n",
       "        \"tickmode\": \"array\",\n",
       "        \"linecolor\": \"rgba(0, 0, 0, 1.000)\",\n",
       "        \"showgrid\": true,\n",
       "        \"title\": \"\",\n",
       "        \"mirror\": false,\n",
       "        \"tickangle\": 0,\n",
       "        \"showline\": true,\n",
       "        \"gridcolor\": \"rgba(0, 0, 0, 0.100)\",\n",
       "        \"titlefont\": {\n",
       "            \"color\": \"rgba(0, 0, 0, 1.000)\",\n",
       "            \"family\": \"sans-serif\",\n",
       "            \"size\": 15\n",
       "        },\n",
       "        \"tickcolor\": \"rgb(0, 0, 0)\",\n",
       "        \"ticktext\": [\n",
       "            \"0\",\n",
       "            \"5\",\n",
       "            \"10\",\n",
       "            \"15\",\n",
       "            \"20\"\n",
       "        ],\n",
       "        \"zeroline\": false,\n",
       "        \"type\": \"-\",\n",
       "        \"tickfont\": {\n",
       "            \"color\": \"rgba(0, 0, 0, 1.000)\",\n",
       "            \"family\": \"sans-serif\",\n",
       "            \"size\": 11\n",
       "        },\n",
       "        \"zerolinecolor\": \"rgba(0, 0, 0, 1.000)\",\n",
       "        \"anchor\": \"x1\"\n",
       "    },\n",
       "    \"legend\": {\n",
       "        \"yanchor\": \"auto\",\n",
       "        \"xanchor\": \"auto\",\n",
       "        \"bordercolor\": \"rgba(0, 0, 0, 1.000)\",\n",
       "        \"bgcolor\": \"rgba(255, 255, 255, 1.000)\",\n",
       "        \"font\": {\n",
       "            \"color\": \"rgba(0, 0, 0, 1.000)\",\n",
       "            \"family\": \"sans-serif\",\n",
       "            \"size\": 11\n",
       "        },\n",
       "        \"tracegroupgap\": 0,\n",
       "        \"y\": 1.0,\n",
       "        \"borderwidth\": 1,\n",
       "        \"traceorder\": \"normal\",\n",
       "        \"x\": 1.02\n",
       "    },\n",
       "    \"width\": 600\n",
       "}\n",
       ");\n",
       "    </script>\n",
       "\n",
       "    </body>\n",
       "</html>\n"
      ]
     },
     "execution_count": 11,
     "metadata": {},
     "output_type": "execute_result"
    }
   ],
   "source": [
    "histogram([get_binding_energy(sequence, emat) for sequence in mutants])"
   ]
  },
  {
   "cell_type": "code",
   "execution_count": null,
   "metadata": {},
   "outputs": [],
   "source": []
  }
 ],
 "metadata": {
  "kernelspec": {
   "display_name": "Julia 1.5.0",
   "language": "julia",
   "name": "julia-1.5"
  },
  "language_info": {
   "file_extension": ".jl",
   "mimetype": "application/julia",
   "name": "julia",
   "version": "1.5.0"
  }
 },
 "nbformat": 4,
 "nbformat_minor": 4
}
