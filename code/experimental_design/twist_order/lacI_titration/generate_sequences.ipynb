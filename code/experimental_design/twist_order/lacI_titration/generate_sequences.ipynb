{
 "cells": [
  {
   "cell_type": "markdown",
   "metadata": {},
   "source": [
    "# Generating LacI constructs"
   ]
  },
  {
   "cell_type": "markdown",
   "metadata": {},
   "source": [
    "(c) 2020 Tom Röschinger. This work is licensed under a [Creative Commons Attribution License CC-BY 4.0](https://creativecommons.org/licenses/by/4.0/). All code contained herein is licensed under an [MIT license](https://opensource.org/licenses/MIT)."
   ]
  },
  {
   "cell_type": "code",
   "execution_count": 15,
   "metadata": {},
   "outputs": [
    {
     "name": "stdout",
     "output_type": "stream",
     "text": [
      "The autoreload extension is already loaded. To reload it, use:\n",
      "  %reload_ext autoreload\n"
     ]
    },
    {
     "data": {
      "text/html": [
       "\n",
       "    <div class=\"bk-root\">\n",
       "        <a href=\"https://bokeh.org\" target=\"_blank\" class=\"bk-logo bk-logo-small bk-logo-notebook\"></a>\n",
       "        <span id=\"1106\">Loading BokehJS ...</span>\n",
       "    </div>"
      ]
     },
     "metadata": {},
     "output_type": "display_data"
    },
    {
     "data": {
      "application/javascript": [
       "\n",
       "(function(root) {\n",
       "  function now() {\n",
       "    return new Date();\n",
       "  }\n",
       "\n",
       "  var force = true;\n",
       "\n",
       "  if (typeof root._bokeh_onload_callbacks === \"undefined\" || force === true) {\n",
       "    root._bokeh_onload_callbacks = [];\n",
       "    root._bokeh_is_loading = undefined;\n",
       "  }\n",
       "\n",
       "  var JS_MIME_TYPE = 'application/javascript';\n",
       "  var HTML_MIME_TYPE = 'text/html';\n",
       "  var EXEC_MIME_TYPE = 'application/vnd.bokehjs_exec.v0+json';\n",
       "  var CLASS_NAME = 'output_bokeh rendered_html';\n",
       "\n",
       "  /**\n",
       "   * Render data to the DOM node\n",
       "   */\n",
       "  function render(props, node) {\n",
       "    var script = document.createElement(\"script\");\n",
       "    node.appendChild(script);\n",
       "  }\n",
       "\n",
       "  /**\n",
       "   * Handle when an output is cleared or removed\n",
       "   */\n",
       "  function handleClearOutput(event, handle) {\n",
       "    var cell = handle.cell;\n",
       "\n",
       "    var id = cell.output_area._bokeh_element_id;\n",
       "    var server_id = cell.output_area._bokeh_server_id;\n",
       "    // Clean up Bokeh references\n",
       "    if (id != null && id in Bokeh.index) {\n",
       "      Bokeh.index[id].model.document.clear();\n",
       "      delete Bokeh.index[id];\n",
       "    }\n",
       "\n",
       "    if (server_id !== undefined) {\n",
       "      // Clean up Bokeh references\n",
       "      var cmd = \"from bokeh.io.state import curstate; print(curstate().uuid_to_server['\" + server_id + \"'].get_sessions()[0].document.roots[0]._id)\";\n",
       "      cell.notebook.kernel.execute(cmd, {\n",
       "        iopub: {\n",
       "          output: function(msg) {\n",
       "            var id = msg.content.text.trim();\n",
       "            if (id in Bokeh.index) {\n",
       "              Bokeh.index[id].model.document.clear();\n",
       "              delete Bokeh.index[id];\n",
       "            }\n",
       "          }\n",
       "        }\n",
       "      });\n",
       "      // Destroy server and session\n",
       "      var cmd = \"import bokeh.io.notebook as ion; ion.destroy_server('\" + server_id + \"')\";\n",
       "      cell.notebook.kernel.execute(cmd);\n",
       "    }\n",
       "  }\n",
       "\n",
       "  /**\n",
       "   * Handle when a new output is added\n",
       "   */\n",
       "  function handleAddOutput(event, handle) {\n",
       "    var output_area = handle.output_area;\n",
       "    var output = handle.output;\n",
       "\n",
       "    // limit handleAddOutput to display_data with EXEC_MIME_TYPE content only\n",
       "    if ((output.output_type != \"display_data\") || (!output.data.hasOwnProperty(EXEC_MIME_TYPE))) {\n",
       "      return\n",
       "    }\n",
       "\n",
       "    var toinsert = output_area.element.find(\".\" + CLASS_NAME.split(' ')[0]);\n",
       "\n",
       "    if (output.metadata[EXEC_MIME_TYPE][\"id\"] !== undefined) {\n",
       "      toinsert[toinsert.length - 1].firstChild.textContent = output.data[JS_MIME_TYPE];\n",
       "      // store reference to embed id on output_area\n",
       "      output_area._bokeh_element_id = output.metadata[EXEC_MIME_TYPE][\"id\"];\n",
       "    }\n",
       "    if (output.metadata[EXEC_MIME_TYPE][\"server_id\"] !== undefined) {\n",
       "      var bk_div = document.createElement(\"div\");\n",
       "      bk_div.innerHTML = output.data[HTML_MIME_TYPE];\n",
       "      var script_attrs = bk_div.children[0].attributes;\n",
       "      for (var i = 0; i < script_attrs.length; i++) {\n",
       "        toinsert[toinsert.length - 1].firstChild.setAttribute(script_attrs[i].name, script_attrs[i].value);\n",
       "        toinsert[toinsert.length - 1].firstChild.textContent = bk_div.children[0].textContent\n",
       "      }\n",
       "      // store reference to server id on output_area\n",
       "      output_area._bokeh_server_id = output.metadata[EXEC_MIME_TYPE][\"server_id\"];\n",
       "    }\n",
       "  }\n",
       "\n",
       "  function register_renderer(events, OutputArea) {\n",
       "\n",
       "    function append_mime(data, metadata, element) {\n",
       "      // create a DOM node to render to\n",
       "      var toinsert = this.create_output_subarea(\n",
       "        metadata,\n",
       "        CLASS_NAME,\n",
       "        EXEC_MIME_TYPE\n",
       "      );\n",
       "      this.keyboard_manager.register_events(toinsert);\n",
       "      // Render to node\n",
       "      var props = {data: data, metadata: metadata[EXEC_MIME_TYPE]};\n",
       "      render(props, toinsert[toinsert.length - 1]);\n",
       "      element.append(toinsert);\n",
       "      return toinsert\n",
       "    }\n",
       "\n",
       "    /* Handle when an output is cleared or removed */\n",
       "    events.on('clear_output.CodeCell', handleClearOutput);\n",
       "    events.on('delete.Cell', handleClearOutput);\n",
       "\n",
       "    /* Handle when a new output is added */\n",
       "    events.on('output_added.OutputArea', handleAddOutput);\n",
       "\n",
       "    /**\n",
       "     * Register the mime type and append_mime function with output_area\n",
       "     */\n",
       "    OutputArea.prototype.register_mime_type(EXEC_MIME_TYPE, append_mime, {\n",
       "      /* Is output safe? */\n",
       "      safe: true,\n",
       "      /* Index of renderer in `output_area.display_order` */\n",
       "      index: 0\n",
       "    });\n",
       "  }\n",
       "\n",
       "  // register the mime type if in Jupyter Notebook environment and previously unregistered\n",
       "  if (root.Jupyter !== undefined) {\n",
       "    var events = require('base/js/events');\n",
       "    var OutputArea = require('notebook/js/outputarea').OutputArea;\n",
       "\n",
       "    if (OutputArea.prototype.mime_types().indexOf(EXEC_MIME_TYPE) == -1) {\n",
       "      register_renderer(events, OutputArea);\n",
       "    }\n",
       "  }\n",
       "\n",
       "  \n",
       "  if (typeof (root._bokeh_timeout) === \"undefined\" || force === true) {\n",
       "    root._bokeh_timeout = Date.now() + 5000;\n",
       "    root._bokeh_failed_load = false;\n",
       "  }\n",
       "\n",
       "  var NB_LOAD_WARNING = {'data': {'text/html':\n",
       "     \"<div style='background-color: #fdd'>\\n\"+\n",
       "     \"<p>\\n\"+\n",
       "     \"BokehJS does not appear to have successfully loaded. If loading BokehJS from CDN, this \\n\"+\n",
       "     \"may be due to a slow or bad network connection. Possible fixes:\\n\"+\n",
       "     \"</p>\\n\"+\n",
       "     \"<ul>\\n\"+\n",
       "     \"<li>re-rerun `output_notebook()` to attempt to load from CDN again, or</li>\\n\"+\n",
       "     \"<li>use INLINE resources instead, as so:</li>\\n\"+\n",
       "     \"</ul>\\n\"+\n",
       "     \"<code>\\n\"+\n",
       "     \"from bokeh.resources import INLINE\\n\"+\n",
       "     \"output_notebook(resources=INLINE)\\n\"+\n",
       "     \"</code>\\n\"+\n",
       "     \"</div>\"}};\n",
       "\n",
       "  function display_loaded() {\n",
       "    var el = document.getElementById(\"1106\");\n",
       "    if (el != null) {\n",
       "      el.textContent = \"BokehJS is loading...\";\n",
       "    }\n",
       "    if (root.Bokeh !== undefined) {\n",
       "      if (el != null) {\n",
       "        el.textContent = \"BokehJS \" + root.Bokeh.version + \" successfully loaded.\";\n",
       "      }\n",
       "    } else if (Date.now() < root._bokeh_timeout) {\n",
       "      setTimeout(display_loaded, 100)\n",
       "    }\n",
       "  }\n",
       "\n",
       "\n",
       "  function run_callbacks() {\n",
       "    try {\n",
       "      root._bokeh_onload_callbacks.forEach(function(callback) {\n",
       "        if (callback != null)\n",
       "          callback();\n",
       "      });\n",
       "    } finally {\n",
       "      delete root._bokeh_onload_callbacks\n",
       "    }\n",
       "    console.debug(\"Bokeh: all callbacks have finished\");\n",
       "  }\n",
       "\n",
       "  function load_libs(css_urls, js_urls, callback) {\n",
       "    if (css_urls == null) css_urls = [];\n",
       "    if (js_urls == null) js_urls = [];\n",
       "\n",
       "    root._bokeh_onload_callbacks.push(callback);\n",
       "    if (root._bokeh_is_loading > 0) {\n",
       "      console.debug(\"Bokeh: BokehJS is being loaded, scheduling callback at\", now());\n",
       "      return null;\n",
       "    }\n",
       "    if (js_urls == null || js_urls.length === 0) {\n",
       "      run_callbacks();\n",
       "      return null;\n",
       "    }\n",
       "    console.debug(\"Bokeh: BokehJS not loaded, scheduling load and callback at\", now());\n",
       "    root._bokeh_is_loading = css_urls.length + js_urls.length;\n",
       "\n",
       "    function on_load() {\n",
       "      root._bokeh_is_loading--;\n",
       "      if (root._bokeh_is_loading === 0) {\n",
       "        console.debug(\"Bokeh: all BokehJS libraries/stylesheets loaded\");\n",
       "        run_callbacks()\n",
       "      }\n",
       "    }\n",
       "\n",
       "    function on_error() {\n",
       "      console.error(\"failed to load \" + url);\n",
       "    }\n",
       "\n",
       "    for (var i = 0; i < css_urls.length; i++) {\n",
       "      var url = css_urls[i];\n",
       "      const element = document.createElement(\"link\");\n",
       "      element.onload = on_load;\n",
       "      element.onerror = on_error;\n",
       "      element.rel = \"stylesheet\";\n",
       "      element.type = \"text/css\";\n",
       "      element.href = url;\n",
       "      console.debug(\"Bokeh: injecting link tag for BokehJS stylesheet: \", url);\n",
       "      document.body.appendChild(element);\n",
       "    }\n",
       "\n",
       "    const hashes = {\"https://cdn.bokeh.org/bokeh/release/bokeh-2.0.2.min.js\": \"ufR9RFnRs6lniiaFvtJziE0YeidtAgBRH6ux2oUItHw5WTvE1zuk9uzhUU/FJXDp\", \"https://cdn.bokeh.org/bokeh/release/bokeh-widgets-2.0.2.min.js\": \"8QM/PGWBT+IssZuRcDcjzwIh1mkOmJSoNMmyYDZbCfXJg3Ap1lEvdVgFuSAwhb/J\", \"https://cdn.bokeh.org/bokeh/release/bokeh-tables-2.0.2.min.js\": \"Jm8cH3Rg0P6UeZhVY5cLy1WzKajUT9KImCY+76hEqrcJt59/d8GPvFHjCkYgnSIn\", \"https://cdn.bokeh.org/bokeh/release/bokeh-gl-2.0.2.min.js\": \"Ozhzj+SI7ywm74aOI/UajcWz+C0NjsPunEVyVIrxzYkB+jA+2tUw8x5xJCbVtK5I\"};\n",
       "\n",
       "    for (var i = 0; i < js_urls.length; i++) {\n",
       "      var url = js_urls[i];\n",
       "      var element = document.createElement('script');\n",
       "      element.onload = on_load;\n",
       "      element.onerror = on_error;\n",
       "      element.async = false;\n",
       "      element.src = url;\n",
       "      if (url in hashes) {\n",
       "        element.crossOrigin = \"anonymous\";\n",
       "        element.integrity = \"sha384-\" + hashes[url];\n",
       "      }\n",
       "      console.debug(\"Bokeh: injecting script tag for BokehJS library: \", url);\n",
       "      document.head.appendChild(element);\n",
       "    }\n",
       "  };\n",
       "\n",
       "  function inject_raw_css(css) {\n",
       "    const element = document.createElement(\"style\");\n",
       "    element.appendChild(document.createTextNode(css));\n",
       "    document.body.appendChild(element);\n",
       "  }\n",
       "\n",
       "  \n",
       "  var js_urls = [\"https://cdn.bokeh.org/bokeh/release/bokeh-2.0.2.min.js\", \"https://cdn.bokeh.org/bokeh/release/bokeh-widgets-2.0.2.min.js\", \"https://cdn.bokeh.org/bokeh/release/bokeh-tables-2.0.2.min.js\", \"https://cdn.bokeh.org/bokeh/release/bokeh-gl-2.0.2.min.js\", \"https://unpkg.com/@holoviz/panel@^0.9.5/dist/panel.min.js\"];\n",
       "  var css_urls = [];\n",
       "  \n",
       "\n",
       "  var inline_js = [\n",
       "    function(Bokeh) {\n",
       "      inject_raw_css(\".widget-box {\\n\\tmin-height: 20px;\\n\\tbackground-color: #f5f5f5;\\n\\tborder: 1px solid #e3e3e3 !important;\\n\\tborder-radius: 4px;\\n\\t-webkit-box-shadow: inset 0 1px 1px rgba(0,0,0,.05);\\n\\tbox-shadow: inset 0 1px 1px rgba(0,0,0,.05);\\n\\toverflow-x: hidden;\\n\\toverflow-y: hidden;\\n}\\n\\n.scrollable {\\n  overflow: scroll;\\n}\\n\\nprogress {\\n\\tappearance: none;\\n\\t-moz-appearance: none;\\n\\t-webkit-appearance: none;\\n\\n\\tborder: none;\\n\\theight: 20px;\\n\\tbackground-color: whiteSmoke;\\n\\tborder-radius: 3px;\\n\\tbox-shadow: 0 2px 3px rgba(0,0,0,.5) inset;\\n\\tcolor: royalblue;\\n\\tposition: relative;\\n\\tmargin: 0 0 1.5em;\\n}\\n\\nprogress[value]::-webkit-progress-bar {\\n\\tbackground-color: whiteSmoke;\\n\\tborder-radius: 3px;\\n\\tbox-shadow: 0 2px 3px rgba(0,0,0,.5) inset;\\n}\\n\\nprogress[value]::-webkit-progress-value {\\n\\tposition: relative;\\n\\n\\tbackground-size: 35px 20px, 100% 100%, 100% 100%;\\n\\tborder-radius:3px;\\n}\\n\\nprogress.active:not([value])::before {\\n\\tbackground-position: 10%;\\n\\tanimation-name: stripes;\\n\\tanimation-duration: 3s;\\n\\tanimation-timing-function: linear;\\n\\tanimation-iteration-count: infinite;\\n}\\n\\nprogress[value]::-moz-progress-bar {\\n\\tbackground-size: 35px 20px, 100% 100%, 100% 100%;\\n\\tborder-radius:3px;\\n}\\n\\nprogress:not([value])::-moz-progress-bar {\\n\\tborder-radius:3px;\\n\\tbackground:\\n\\tlinear-gradient(-45deg, transparent 33%, rgba(0, 0, 0, 0.2) 33%, rgba(0, 0, 0, 0.2) 66%, transparent 66%) left/2.5em 1.5em;\\n\\n}\\n\\nprogress.active:not([value])::-moz-progress-bar {\\n\\tbackground-position: 10%;\\n\\tanimation-name: stripes;\\n\\tanimation-duration: 3s;\\n\\tanimation-timing-function: linear;\\n\\tanimation-iteration-count: infinite;\\n}\\n\\nprogress.active:not([value])::-webkit-progress-bar {\\n\\tbackground-position: 10%;\\n\\tanimation-name: stripes;\\n\\tanimation-duration: 3s;\\n\\tanimation-timing-function: linear;\\n\\tanimation-iteration-count: infinite;\\n}\\n\\nprogress.primary[value]::-webkit-progress-value { background-color: #007bff; }\\nprogress.primary:not([value])::before { background-color: #007bff; }\\nprogress.primary:not([value])::-webkit-progress-bar { background-color: #007bff; }\\nprogress.primary::-moz-progress-bar { background-color: #007bff; }\\n\\nprogress.secondary[value]::-webkit-progress-value { background-color: #6c757d; }\\nprogress.secondary:not([value])::before { background-color: #6c757d; }\\nprogress.secondary:not([value])::-webkit-progress-bar { background-color: #6c757d; }\\nprogress.secondary::-moz-progress-bar { background-color: #6c757d; }\\n\\nprogress.success[value]::-webkit-progress-value { background-color: #28a745; }\\nprogress.success:not([value])::before { background-color: #28a745; }\\nprogress.success:not([value])::-webkit-progress-bar { background-color: #28a745; }\\nprogress.success::-moz-progress-bar { background-color: #28a745; }\\n\\nprogress.danger[value]::-webkit-progress-value { background-color: #dc3545; }\\nprogress.danger:not([value])::before { background-color: #dc3545; }\\nprogress.danger:not([value])::-webkit-progress-bar { background-color: #dc3545; }\\nprogress.danger::-moz-progress-bar { background-color: #dc3545; }\\n\\nprogress.warning[value]::-webkit-progress-value { background-color: #ffc107; }\\nprogress.warning:not([value])::before { background-color: #ffc107; }\\nprogress.warning:not([value])::-webkit-progress-bar { background-color: #ffc107; }\\nprogress.warning::-moz-progress-bar { background-color: #ffc107; }\\n\\nprogress.info[value]::-webkit-progress-value { background-color: #17a2b8; }\\nprogress.info:not([value])::before { background-color: #17a2b8; }\\nprogress.info:not([value])::-webkit-progress-bar { background-color: #17a2b8; }\\nprogress.info::-moz-progress-bar { background-color: #17a2b8; }\\n\\nprogress.light[value]::-webkit-progress-value { background-color: #f8f9fa; }\\nprogress.light:not([value])::before { background-color: #f8f9fa; }\\nprogress.light:not([value])::-webkit-progress-bar { background-color: #f8f9fa; }\\nprogress.light::-moz-progress-bar { background-color: #f8f9fa; }\\n\\nprogress.dark[value]::-webkit-progress-value { background-color: #343a40; }\\nprogress.dark:not([value])::-webkit-progress-bar { background-color: #343a40; }\\nprogress.dark:not([value])::before { background-color: #343a40; }\\nprogress.dark::-moz-progress-bar { background-color: #343a40; }\\n\\nprogress:not([value])::-webkit-progress-bar {\\n\\tborder-radius: 3px;\\n\\tbackground:\\n\\tlinear-gradient(-45deg, transparent 33%, rgba(0, 0, 0, 0.2) 33%, rgba(0, 0, 0, 0.2) 66%, transparent 66%) left/2.5em 1.5em;\\n}\\nprogress:not([value])::before {\\n\\tcontent:\\\" \\\";\\n\\tposition:absolute;\\n\\theight: 20px;\\n\\ttop:0;\\n\\tleft:0;\\n\\tright:0;\\n\\tbottom:0;\\n\\tborder-radius: 3px;\\n\\tbackground:\\n\\tlinear-gradient(-45deg, transparent 33%, rgba(0, 0, 0, 0.2) 33%, rgba(0, 0, 0, 0.2) 66%, transparent 66%) left/2.5em 1.5em;\\n}\\n\\n@keyframes stripes {\\n  from {background-position: 0%}\\n  to {background-position: 100%}\\n}\");\n",
       "    },\n",
       "    function(Bokeh) {\n",
       "      inject_raw_css(\".codehilite .hll { background-color: #ffffcc }\\n.codehilite  { background: #f8f8f8; }\\n.codehilite .c { color: #408080; font-style: italic } /* Comment */\\n.codehilite .err { border: 1px solid #FF0000 } /* Error */\\n.codehilite .k { color: #008000; font-weight: bold } /* Keyword */\\n.codehilite .o { color: #666666 } /* Operator */\\n.codehilite .ch { color: #408080; font-style: italic } /* Comment.Hashbang */\\n.codehilite .cm { color: #408080; font-style: italic } /* Comment.Multiline */\\n.codehilite .cp { color: #BC7A00 } /* Comment.Preproc */\\n.codehilite .cpf { color: #408080; font-style: italic } /* Comment.PreprocFile */\\n.codehilite .c1 { color: #408080; font-style: italic } /* Comment.Single */\\n.codehilite .cs { color: #408080; font-style: italic } /* Comment.Special */\\n.codehilite .gd { color: #A00000 } /* Generic.Deleted */\\n.codehilite .ge { font-style: italic } /* Generic.Emph */\\n.codehilite .gr { color: #FF0000 } /* Generic.Error */\\n.codehilite .gh { color: #000080; font-weight: bold } /* Generic.Heading */\\n.codehilite .gi { color: #00A000 } /* Generic.Inserted */\\n.codehilite .go { color: #888888 } /* Generic.Output */\\n.codehilite .gp { color: #000080; font-weight: bold } /* Generic.Prompt */\\n.codehilite .gs { font-weight: bold } /* Generic.Strong */\\n.codehilite .gu { color: #800080; font-weight: bold } /* Generic.Subheading */\\n.codehilite .gt { color: #0044DD } /* Generic.Traceback */\\n.codehilite .kc { color: #008000; font-weight: bold } /* Keyword.Constant */\\n.codehilite .kd { color: #008000; font-weight: bold } /* Keyword.Declaration */\\n.codehilite .kn { color: #008000; font-weight: bold } /* Keyword.Namespace */\\n.codehilite .kp { color: #008000 } /* Keyword.Pseudo */\\n.codehilite .kr { color: #008000; font-weight: bold } /* Keyword.Reserved */\\n.codehilite .kt { color: #B00040 } /* Keyword.Type */\\n.codehilite .m { color: #666666 } /* Literal.Number */\\n.codehilite .s { color: #BA2121 } /* Literal.String */\\n.codehilite .na { color: #7D9029 } /* Name.Attribute */\\n.codehilite .nb { color: #008000 } /* Name.Builtin */\\n.codehilite .nc { color: #0000FF; font-weight: bold } /* Name.Class */\\n.codehilite .no { color: #880000 } /* Name.Constant */\\n.codehilite .nd { color: #AA22FF } /* Name.Decorator */\\n.codehilite .ni { color: #999999; font-weight: bold } /* Name.Entity */\\n.codehilite .ne { color: #D2413A; font-weight: bold } /* Name.Exception */\\n.codehilite .nf { color: #0000FF } /* Name.Function */\\n.codehilite .nl { color: #A0A000 } /* Name.Label */\\n.codehilite .nn { color: #0000FF; font-weight: bold } /* Name.Namespace */\\n.codehilite .nt { color: #008000; font-weight: bold } /* Name.Tag */\\n.codehilite .nv { color: #19177C } /* Name.Variable */\\n.codehilite .ow { color: #AA22FF; font-weight: bold } /* Operator.Word */\\n.codehilite .w { color: #bbbbbb } /* Text.Whitespace */\\n.codehilite .mb { color: #666666 } /* Literal.Number.Bin */\\n.codehilite .mf { color: #666666 } /* Literal.Number.Float */\\n.codehilite .mh { color: #666666 } /* Literal.Number.Hex */\\n.codehilite .mi { color: #666666 } /* Literal.Number.Integer */\\n.codehilite .mo { color: #666666 } /* Literal.Number.Oct */\\n.codehilite .sa { color: #BA2121 } /* Literal.String.Affix */\\n.codehilite .sb { color: #BA2121 } /* Literal.String.Backtick */\\n.codehilite .sc { color: #BA2121 } /* Literal.String.Char */\\n.codehilite .dl { color: #BA2121 } /* Literal.String.Delimiter */\\n.codehilite .sd { color: #BA2121; font-style: italic } /* Literal.String.Doc */\\n.codehilite .s2 { color: #BA2121 } /* Literal.String.Double */\\n.codehilite .se { color: #BB6622; font-weight: bold } /* Literal.String.Escape */\\n.codehilite .sh { color: #BA2121 } /* Literal.String.Heredoc */\\n.codehilite .si { color: #BB6688; font-weight: bold } /* Literal.String.Interpol */\\n.codehilite .sx { color: #008000 } /* Literal.String.Other */\\n.codehilite .sr { color: #BB6688 } /* Literal.String.Regex */\\n.codehilite .s1 { color: #BA2121 } /* Literal.String.Single */\\n.codehilite .ss { color: #19177C } /* Literal.String.Symbol */\\n.codehilite .bp { color: #008000 } /* Name.Builtin.Pseudo */\\n.codehilite .fm { color: #0000FF } /* Name.Function.Magic */\\n.codehilite .vc { color: #19177C } /* Name.Variable.Class */\\n.codehilite .vg { color: #19177C } /* Name.Variable.Global */\\n.codehilite .vi { color: #19177C } /* Name.Variable.Instance */\\n.codehilite .vm { color: #19177C } /* Name.Variable.Magic */\\n.codehilite .il { color: #666666 } /* Literal.Number.Integer.Long */\\n\\n.markdown h1 { margin-block-start: 0.34em }\\n.markdown h2 { margin-block-start: 0.42em }\\n.markdown h3 { margin-block-start: 0.5em }\\n.markdown h4 { margin-block-start: 0.67em }\\n.markdown h5 { margin-block-start: 0.84em }\\n.markdown h6 { margin-block-start: 1.17em }\\n.markdown ul { padding-inline-start: 2em }\\n.markdown ol { padding-inline-start: 2em }\\n.markdown strong { font-weight: 600 }\\n.markdown a { color: -webkit-link }\\n.markdown a { color: -moz-hyperlinkText }\\n\");\n",
       "    },\n",
       "    function(Bokeh) {\n",
       "      inject_raw_css(\".json-formatter-row {\\n  font-family: monospace;\\n}\\n.json-formatter-row,\\n.json-formatter-row a,\\n.json-formatter-row a:hover {\\n  color: black;\\n  text-decoration: none;\\n}\\n.json-formatter-row .json-formatter-row {\\n  margin-left: 1rem;\\n}\\n.json-formatter-row .json-formatter-children.json-formatter-empty {\\n  opacity: 0.5;\\n  margin-left: 1rem;\\n}\\n.json-formatter-row .json-formatter-children.json-formatter-empty:after {\\n  display: none;\\n}\\n.json-formatter-row .json-formatter-children.json-formatter-empty.json-formatter-object:after {\\n  content: \\\"No properties\\\";\\n}\\n.json-formatter-row .json-formatter-children.json-formatter-empty.json-formatter-array:after {\\n  content: \\\"[]\\\";\\n}\\n.json-formatter-row .json-formatter-string,\\n.json-formatter-row .json-formatter-stringifiable {\\n  color: green;\\n  white-space: pre;\\n  word-wrap: break-word;\\n}\\n.json-formatter-row .json-formatter-number {\\n  color: blue;\\n}\\n.json-formatter-row .json-formatter-boolean {\\n  color: red;\\n}\\n.json-formatter-row .json-formatter-null {\\n  color: #855A00;\\n}\\n.json-formatter-row .json-formatter-undefined {\\n  color: #ca0b69;\\n}\\n.json-formatter-row .json-formatter-function {\\n  color: #FF20ED;\\n}\\n.json-formatter-row .json-formatter-date {\\n  background-color: rgba(0, 0, 0, 0.05);\\n}\\n.json-formatter-row .json-formatter-url {\\n  text-decoration: underline;\\n  color: blue;\\n  cursor: pointer;\\n}\\n.json-formatter-row .json-formatter-bracket {\\n  color: blue;\\n}\\n.json-formatter-row .json-formatter-key {\\n  color: #00008B;\\n  padding-right: 0.2rem;\\n}\\n.json-formatter-row .json-formatter-toggler-link {\\n  cursor: pointer;\\n}\\n.json-formatter-row .json-formatter-toggler {\\n  line-height: 1.2rem;\\n  font-size: 0.7rem;\\n  vertical-align: middle;\\n  opacity: 0.6;\\n  cursor: pointer;\\n  padding-right: 0.2rem;\\n}\\n.json-formatter-row .json-formatter-toggler:after {\\n  display: inline-block;\\n  transition: transform 100ms ease-in;\\n  content: \\\"\\\\25BA\\\";\\n}\\n.json-formatter-row > a > .json-formatter-preview-text {\\n  opacity: 0;\\n  transition: opacity 0.15s ease-in;\\n  font-style: italic;\\n}\\n.json-formatter-row:hover > a > .json-formatter-preview-text {\\n  opacity: 0.6;\\n}\\n.json-formatter-row.json-formatter-open > .json-formatter-toggler-link .json-formatter-toggler:after {\\n  transform: rotate(90deg);\\n}\\n.json-formatter-row.json-formatter-open > .json-formatter-children:after {\\n  display: inline-block;\\n}\\n.json-formatter-row.json-formatter-open > a > .json-formatter-preview-text {\\n  display: none;\\n}\\n.json-formatter-row.json-formatter-open.json-formatter-empty:after {\\n  display: block;\\n}\\n.json-formatter-dark.json-formatter-row {\\n  font-family: monospace;\\n}\\n.json-formatter-dark.json-formatter-row,\\n.json-formatter-dark.json-formatter-row a,\\n.json-formatter-dark.json-formatter-row a:hover {\\n  color: white;\\n  text-decoration: none;\\n}\\n.json-formatter-dark.json-formatter-row .json-formatter-row {\\n  margin-left: 1rem;\\n}\\n.json-formatter-dark.json-formatter-row .json-formatter-children.json-formatter-empty {\\n  opacity: 0.5;\\n  margin-left: 1rem;\\n}\\n.json-formatter-dark.json-formatter-row .json-formatter-children.json-formatter-empty:after {\\n  display: none;\\n}\\n.json-formatter-dark.json-formatter-row .json-formatter-children.json-formatter-empty.json-formatter-object:after {\\n  content: \\\"No properties\\\";\\n}\\n.json-formatter-dark.json-formatter-row .json-formatter-children.json-formatter-empty.json-formatter-array:after {\\n  content: \\\"[]\\\";\\n}\\n.json-formatter-dark.json-formatter-row .json-formatter-string,\\n.json-formatter-dark.json-formatter-row .json-formatter-stringifiable {\\n  color: #31F031;\\n  white-space: pre;\\n  word-wrap: break-word;\\n}\\n.json-formatter-dark.json-formatter-row .json-formatter-number {\\n  color: #66C2FF;\\n}\\n.json-formatter-dark.json-formatter-row .json-formatter-boolean {\\n  color: #EC4242;\\n}\\n.json-formatter-dark.json-formatter-row .json-formatter-null {\\n  color: #EEC97D;\\n}\\n.json-formatter-dark.json-formatter-row .json-formatter-undefined {\\n  color: #ef8fbe;\\n}\\n.json-formatter-dark.json-formatter-row .json-formatter-function {\\n  color: #FD48CB;\\n}\\n.json-formatter-dark.json-formatter-row .json-formatter-date {\\n  background-color: rgba(255, 255, 255, 0.05);\\n}\\n.json-formatter-dark.json-formatter-row .json-formatter-url {\\n  text-decoration: underline;\\n  color: #027BFF;\\n  cursor: pointer;\\n}\\n.json-formatter-dark.json-formatter-row .json-formatter-bracket {\\n  color: #9494FF;\\n}\\n.json-formatter-dark.json-formatter-row .json-formatter-key {\\n  color: #23A0DB;\\n  padding-right: 0.2rem;\\n}\\n.json-formatter-dark.json-formatter-row .json-formatter-toggler-link {\\n  cursor: pointer;\\n}\\n.json-formatter-dark.json-formatter-row .json-formatter-toggler {\\n  line-height: 1.2rem;\\n  font-size: 0.7rem;\\n  vertical-align: middle;\\n  opacity: 0.6;\\n  cursor: pointer;\\n  padding-right: 0.2rem;\\n}\\n.json-formatter-dark.json-formatter-row .json-formatter-toggler:after {\\n  display: inline-block;\\n  transition: transform 100ms ease-in;\\n  content: \\\"\\\\25BA\\\";\\n}\\n.json-formatter-dark.json-formatter-row > a > .json-formatter-preview-text {\\n  opacity: 0;\\n  transition: opacity 0.15s ease-in;\\n  font-style: italic;\\n}\\n.json-formatter-dark.json-formatter-row:hover > a > .json-formatter-preview-text {\\n  opacity: 0.6;\\n}\\n.json-formatter-dark.json-formatter-row.json-formatter-open > .json-formatter-toggler-link .json-formatter-toggler:after {\\n  transform: rotate(90deg);\\n}\\n.json-formatter-dark.json-formatter-row.json-formatter-open > .json-formatter-children:after {\\n  display: inline-block;\\n}\\n.json-formatter-dark.json-formatter-row.json-formatter-open > a > .json-formatter-preview-text {\\n  display: none;\\n}\\n.json-formatter-dark.json-formatter-row.json-formatter-open.json-formatter-empty:after {\\n  display: block;\\n}\\n\");\n",
       "    },\n",
       "    function(Bokeh) {\n",
       "      inject_raw_css(\"table.panel-df {\\n    margin-left: auto;\\n    margin-right: auto;\\n    border: none;\\n    border-collapse: collapse;\\n    border-spacing: 0;\\n    color: black;\\n    font-size: 12px;\\n    table-layout: fixed;\\n    width: 100%;\\n}\\n\\n.panel-df tr, th, td {\\n    text-align: right;\\n    vertical-align: middle;\\n    padding: 0.5em 0.5em !important;\\n    line-height: normal;\\n    white-space: normal;\\n    max-width: none;\\n    border: none;\\n}\\n\\n.panel-df tbody {\\n    display: table-row-group;\\n    vertical-align: middle;\\n    border-color: inherit;\\n}\\n\\n.panel-df tbody tr:nth-child(odd) {\\n    background: #f5f5f5;\\n}\\n\\n.panel-df thead {\\n    border-bottom: 1px solid black;\\n    vertical-align: bottom;\\n}\\n\\n.panel-df tr:hover {\\n    background: lightblue !important;\\n    cursor: pointer;\\n}\\n\");\n",
       "    },\n",
       "    function(Bokeh) {\n",
       "      Bokeh.set_log_level(\"info\");\n",
       "    },\n",
       "    function(Bokeh) {\n",
       "    \n",
       "    \n",
       "    }\n",
       "  ];\n",
       "\n",
       "  function run_inline_js() {\n",
       "    \n",
       "    if (root.Bokeh !== undefined || force === true) {\n",
       "      \n",
       "    for (var i = 0; i < inline_js.length; i++) {\n",
       "      inline_js[i].call(root, root.Bokeh);\n",
       "    }\n",
       "    if (force === true) {\n",
       "        display_loaded();\n",
       "      }} else if (Date.now() < root._bokeh_timeout) {\n",
       "      setTimeout(run_inline_js, 100);\n",
       "    } else if (!root._bokeh_failed_load) {\n",
       "      console.log(\"Bokeh: BokehJS failed to load within specified timeout.\");\n",
       "      root._bokeh_failed_load = true;\n",
       "    } else if (force !== true) {\n",
       "      var cell = $(document.getElementById(\"1106\")).parents('.cell').data().cell;\n",
       "      cell.output_area.append_execute_result(NB_LOAD_WARNING)\n",
       "    }\n",
       "\n",
       "  }\n",
       "\n",
       "  if (root._bokeh_is_loading === 0) {\n",
       "    console.debug(\"Bokeh: BokehJS loaded, going straight to plotting\");\n",
       "    run_inline_js();\n",
       "  } else {\n",
       "    load_libs(css_urls, js_urls, function() {\n",
       "      console.debug(\"Bokeh: BokehJS plotting callback run at\", now());\n",
       "      run_inline_js();\n",
       "    });\n",
       "  }\n",
       "}(window));"
      ],
      "application/vnd.bokehjs_load.v0+json": "\n(function(root) {\n  function now() {\n    return new Date();\n  }\n\n  var force = true;\n\n  if (typeof root._bokeh_onload_callbacks === \"undefined\" || force === true) {\n    root._bokeh_onload_callbacks = [];\n    root._bokeh_is_loading = undefined;\n  }\n\n  \n\n  \n  if (typeof (root._bokeh_timeout) === \"undefined\" || force === true) {\n    root._bokeh_timeout = Date.now() + 5000;\n    root._bokeh_failed_load = false;\n  }\n\n  var NB_LOAD_WARNING = {'data': {'text/html':\n     \"<div style='background-color: #fdd'>\\n\"+\n     \"<p>\\n\"+\n     \"BokehJS does not appear to have successfully loaded. If loading BokehJS from CDN, this \\n\"+\n     \"may be due to a slow or bad network connection. Possible fixes:\\n\"+\n     \"</p>\\n\"+\n     \"<ul>\\n\"+\n     \"<li>re-rerun `output_notebook()` to attempt to load from CDN again, or</li>\\n\"+\n     \"<li>use INLINE resources instead, as so:</li>\\n\"+\n     \"</ul>\\n\"+\n     \"<code>\\n\"+\n     \"from bokeh.resources import INLINE\\n\"+\n     \"output_notebook(resources=INLINE)\\n\"+\n     \"</code>\\n\"+\n     \"</div>\"}};\n\n  function display_loaded() {\n    var el = document.getElementById(\"1106\");\n    if (el != null) {\n      el.textContent = \"BokehJS is loading...\";\n    }\n    if (root.Bokeh !== undefined) {\n      if (el != null) {\n        el.textContent = \"BokehJS \" + root.Bokeh.version + \" successfully loaded.\";\n      }\n    } else if (Date.now() < root._bokeh_timeout) {\n      setTimeout(display_loaded, 100)\n    }\n  }\n\n\n  function run_callbacks() {\n    try {\n      root._bokeh_onload_callbacks.forEach(function(callback) {\n        if (callback != null)\n          callback();\n      });\n    } finally {\n      delete root._bokeh_onload_callbacks\n    }\n    console.debug(\"Bokeh: all callbacks have finished\");\n  }\n\n  function load_libs(css_urls, js_urls, callback) {\n    if (css_urls == null) css_urls = [];\n    if (js_urls == null) js_urls = [];\n\n    root._bokeh_onload_callbacks.push(callback);\n    if (root._bokeh_is_loading > 0) {\n      console.debug(\"Bokeh: BokehJS is being loaded, scheduling callback at\", now());\n      return null;\n    }\n    if (js_urls == null || js_urls.length === 0) {\n      run_callbacks();\n      return null;\n    }\n    console.debug(\"Bokeh: BokehJS not loaded, scheduling load and callback at\", now());\n    root._bokeh_is_loading = css_urls.length + js_urls.length;\n\n    function on_load() {\n      root._bokeh_is_loading--;\n      if (root._bokeh_is_loading === 0) {\n        console.debug(\"Bokeh: all BokehJS libraries/stylesheets loaded\");\n        run_callbacks()\n      }\n    }\n\n    function on_error() {\n      console.error(\"failed to load \" + url);\n    }\n\n    for (var i = 0; i < css_urls.length; i++) {\n      var url = css_urls[i];\n      const element = document.createElement(\"link\");\n      element.onload = on_load;\n      element.onerror = on_error;\n      element.rel = \"stylesheet\";\n      element.type = \"text/css\";\n      element.href = url;\n      console.debug(\"Bokeh: injecting link tag for BokehJS stylesheet: \", url);\n      document.body.appendChild(element);\n    }\n\n    const hashes = {\"https://cdn.bokeh.org/bokeh/release/bokeh-2.0.2.min.js\": \"ufR9RFnRs6lniiaFvtJziE0YeidtAgBRH6ux2oUItHw5WTvE1zuk9uzhUU/FJXDp\", \"https://cdn.bokeh.org/bokeh/release/bokeh-widgets-2.0.2.min.js\": \"8QM/PGWBT+IssZuRcDcjzwIh1mkOmJSoNMmyYDZbCfXJg3Ap1lEvdVgFuSAwhb/J\", \"https://cdn.bokeh.org/bokeh/release/bokeh-tables-2.0.2.min.js\": \"Jm8cH3Rg0P6UeZhVY5cLy1WzKajUT9KImCY+76hEqrcJt59/d8GPvFHjCkYgnSIn\", \"https://cdn.bokeh.org/bokeh/release/bokeh-gl-2.0.2.min.js\": \"Ozhzj+SI7ywm74aOI/UajcWz+C0NjsPunEVyVIrxzYkB+jA+2tUw8x5xJCbVtK5I\"};\n\n    for (var i = 0; i < js_urls.length; i++) {\n      var url = js_urls[i];\n      var element = document.createElement('script');\n      element.onload = on_load;\n      element.onerror = on_error;\n      element.async = false;\n      element.src = url;\n      if (url in hashes) {\n        element.crossOrigin = \"anonymous\";\n        element.integrity = \"sha384-\" + hashes[url];\n      }\n      console.debug(\"Bokeh: injecting script tag for BokehJS library: \", url);\n      document.head.appendChild(element);\n    }\n  };\n\n  function inject_raw_css(css) {\n    const element = document.createElement(\"style\");\n    element.appendChild(document.createTextNode(css));\n    document.body.appendChild(element);\n  }\n\n  \n  var js_urls = [\"https://cdn.bokeh.org/bokeh/release/bokeh-2.0.2.min.js\", \"https://cdn.bokeh.org/bokeh/release/bokeh-widgets-2.0.2.min.js\", \"https://cdn.bokeh.org/bokeh/release/bokeh-tables-2.0.2.min.js\", \"https://cdn.bokeh.org/bokeh/release/bokeh-gl-2.0.2.min.js\", \"https://unpkg.com/@holoviz/panel@^0.9.5/dist/panel.min.js\"];\n  var css_urls = [];\n  \n\n  var inline_js = [\n    function(Bokeh) {\n      inject_raw_css(\".widget-box {\\n\\tmin-height: 20px;\\n\\tbackground-color: #f5f5f5;\\n\\tborder: 1px solid #e3e3e3 !important;\\n\\tborder-radius: 4px;\\n\\t-webkit-box-shadow: inset 0 1px 1px rgba(0,0,0,.05);\\n\\tbox-shadow: inset 0 1px 1px rgba(0,0,0,.05);\\n\\toverflow-x: hidden;\\n\\toverflow-y: hidden;\\n}\\n\\n.scrollable {\\n  overflow: scroll;\\n}\\n\\nprogress {\\n\\tappearance: none;\\n\\t-moz-appearance: none;\\n\\t-webkit-appearance: none;\\n\\n\\tborder: none;\\n\\theight: 20px;\\n\\tbackground-color: whiteSmoke;\\n\\tborder-radius: 3px;\\n\\tbox-shadow: 0 2px 3px rgba(0,0,0,.5) inset;\\n\\tcolor: royalblue;\\n\\tposition: relative;\\n\\tmargin: 0 0 1.5em;\\n}\\n\\nprogress[value]::-webkit-progress-bar {\\n\\tbackground-color: whiteSmoke;\\n\\tborder-radius: 3px;\\n\\tbox-shadow: 0 2px 3px rgba(0,0,0,.5) inset;\\n}\\n\\nprogress[value]::-webkit-progress-value {\\n\\tposition: relative;\\n\\n\\tbackground-size: 35px 20px, 100% 100%, 100% 100%;\\n\\tborder-radius:3px;\\n}\\n\\nprogress.active:not([value])::before {\\n\\tbackground-position: 10%;\\n\\tanimation-name: stripes;\\n\\tanimation-duration: 3s;\\n\\tanimation-timing-function: linear;\\n\\tanimation-iteration-count: infinite;\\n}\\n\\nprogress[value]::-moz-progress-bar {\\n\\tbackground-size: 35px 20px, 100% 100%, 100% 100%;\\n\\tborder-radius:3px;\\n}\\n\\nprogress:not([value])::-moz-progress-bar {\\n\\tborder-radius:3px;\\n\\tbackground:\\n\\tlinear-gradient(-45deg, transparent 33%, rgba(0, 0, 0, 0.2) 33%, rgba(0, 0, 0, 0.2) 66%, transparent 66%) left/2.5em 1.5em;\\n\\n}\\n\\nprogress.active:not([value])::-moz-progress-bar {\\n\\tbackground-position: 10%;\\n\\tanimation-name: stripes;\\n\\tanimation-duration: 3s;\\n\\tanimation-timing-function: linear;\\n\\tanimation-iteration-count: infinite;\\n}\\n\\nprogress.active:not([value])::-webkit-progress-bar {\\n\\tbackground-position: 10%;\\n\\tanimation-name: stripes;\\n\\tanimation-duration: 3s;\\n\\tanimation-timing-function: linear;\\n\\tanimation-iteration-count: infinite;\\n}\\n\\nprogress.primary[value]::-webkit-progress-value { background-color: #007bff; }\\nprogress.primary:not([value])::before { background-color: #007bff; }\\nprogress.primary:not([value])::-webkit-progress-bar { background-color: #007bff; }\\nprogress.primary::-moz-progress-bar { background-color: #007bff; }\\n\\nprogress.secondary[value]::-webkit-progress-value { background-color: #6c757d; }\\nprogress.secondary:not([value])::before { background-color: #6c757d; }\\nprogress.secondary:not([value])::-webkit-progress-bar { background-color: #6c757d; }\\nprogress.secondary::-moz-progress-bar { background-color: #6c757d; }\\n\\nprogress.success[value]::-webkit-progress-value { background-color: #28a745; }\\nprogress.success:not([value])::before { background-color: #28a745; }\\nprogress.success:not([value])::-webkit-progress-bar { background-color: #28a745; }\\nprogress.success::-moz-progress-bar { background-color: #28a745; }\\n\\nprogress.danger[value]::-webkit-progress-value { background-color: #dc3545; }\\nprogress.danger:not([value])::before { background-color: #dc3545; }\\nprogress.danger:not([value])::-webkit-progress-bar { background-color: #dc3545; }\\nprogress.danger::-moz-progress-bar { background-color: #dc3545; }\\n\\nprogress.warning[value]::-webkit-progress-value { background-color: #ffc107; }\\nprogress.warning:not([value])::before { background-color: #ffc107; }\\nprogress.warning:not([value])::-webkit-progress-bar { background-color: #ffc107; }\\nprogress.warning::-moz-progress-bar { background-color: #ffc107; }\\n\\nprogress.info[value]::-webkit-progress-value { background-color: #17a2b8; }\\nprogress.info:not([value])::before { background-color: #17a2b8; }\\nprogress.info:not([value])::-webkit-progress-bar { background-color: #17a2b8; }\\nprogress.info::-moz-progress-bar { background-color: #17a2b8; }\\n\\nprogress.light[value]::-webkit-progress-value { background-color: #f8f9fa; }\\nprogress.light:not([value])::before { background-color: #f8f9fa; }\\nprogress.light:not([value])::-webkit-progress-bar { background-color: #f8f9fa; }\\nprogress.light::-moz-progress-bar { background-color: #f8f9fa; }\\n\\nprogress.dark[value]::-webkit-progress-value { background-color: #343a40; }\\nprogress.dark:not([value])::-webkit-progress-bar { background-color: #343a40; }\\nprogress.dark:not([value])::before { background-color: #343a40; }\\nprogress.dark::-moz-progress-bar { background-color: #343a40; }\\n\\nprogress:not([value])::-webkit-progress-bar {\\n\\tborder-radius: 3px;\\n\\tbackground:\\n\\tlinear-gradient(-45deg, transparent 33%, rgba(0, 0, 0, 0.2) 33%, rgba(0, 0, 0, 0.2) 66%, transparent 66%) left/2.5em 1.5em;\\n}\\nprogress:not([value])::before {\\n\\tcontent:\\\" \\\";\\n\\tposition:absolute;\\n\\theight: 20px;\\n\\ttop:0;\\n\\tleft:0;\\n\\tright:0;\\n\\tbottom:0;\\n\\tborder-radius: 3px;\\n\\tbackground:\\n\\tlinear-gradient(-45deg, transparent 33%, rgba(0, 0, 0, 0.2) 33%, rgba(0, 0, 0, 0.2) 66%, transparent 66%) left/2.5em 1.5em;\\n}\\n\\n@keyframes stripes {\\n  from {background-position: 0%}\\n  to {background-position: 100%}\\n}\");\n    },\n    function(Bokeh) {\n      inject_raw_css(\".codehilite .hll { background-color: #ffffcc }\\n.codehilite  { background: #f8f8f8; }\\n.codehilite .c { color: #408080; font-style: italic } /* Comment */\\n.codehilite .err { border: 1px solid #FF0000 } /* Error */\\n.codehilite .k { color: #008000; font-weight: bold } /* Keyword */\\n.codehilite .o { color: #666666 } /* Operator */\\n.codehilite .ch { color: #408080; font-style: italic } /* Comment.Hashbang */\\n.codehilite .cm { color: #408080; font-style: italic } /* Comment.Multiline */\\n.codehilite .cp { color: #BC7A00 } /* Comment.Preproc */\\n.codehilite .cpf { color: #408080; font-style: italic } /* Comment.PreprocFile */\\n.codehilite .c1 { color: #408080; font-style: italic } /* Comment.Single */\\n.codehilite .cs { color: #408080; font-style: italic } /* Comment.Special */\\n.codehilite .gd { color: #A00000 } /* Generic.Deleted */\\n.codehilite .ge { font-style: italic } /* Generic.Emph */\\n.codehilite .gr { color: #FF0000 } /* Generic.Error */\\n.codehilite .gh { color: #000080; font-weight: bold } /* Generic.Heading */\\n.codehilite .gi { color: #00A000 } /* Generic.Inserted */\\n.codehilite .go { color: #888888 } /* Generic.Output */\\n.codehilite .gp { color: #000080; font-weight: bold } /* Generic.Prompt */\\n.codehilite .gs { font-weight: bold } /* Generic.Strong */\\n.codehilite .gu { color: #800080; font-weight: bold } /* Generic.Subheading */\\n.codehilite .gt { color: #0044DD } /* Generic.Traceback */\\n.codehilite .kc { color: #008000; font-weight: bold } /* Keyword.Constant */\\n.codehilite .kd { color: #008000; font-weight: bold } /* Keyword.Declaration */\\n.codehilite .kn { color: #008000; font-weight: bold } /* Keyword.Namespace */\\n.codehilite .kp { color: #008000 } /* Keyword.Pseudo */\\n.codehilite .kr { color: #008000; font-weight: bold } /* Keyword.Reserved */\\n.codehilite .kt { color: #B00040 } /* Keyword.Type */\\n.codehilite .m { color: #666666 } /* Literal.Number */\\n.codehilite .s { color: #BA2121 } /* Literal.String */\\n.codehilite .na { color: #7D9029 } /* Name.Attribute */\\n.codehilite .nb { color: #008000 } /* Name.Builtin */\\n.codehilite .nc { color: #0000FF; font-weight: bold } /* Name.Class */\\n.codehilite .no { color: #880000 } /* Name.Constant */\\n.codehilite .nd { color: #AA22FF } /* Name.Decorator */\\n.codehilite .ni { color: #999999; font-weight: bold } /* Name.Entity */\\n.codehilite .ne { color: #D2413A; font-weight: bold } /* Name.Exception */\\n.codehilite .nf { color: #0000FF } /* Name.Function */\\n.codehilite .nl { color: #A0A000 } /* Name.Label */\\n.codehilite .nn { color: #0000FF; font-weight: bold } /* Name.Namespace */\\n.codehilite .nt { color: #008000; font-weight: bold } /* Name.Tag */\\n.codehilite .nv { color: #19177C } /* Name.Variable */\\n.codehilite .ow { color: #AA22FF; font-weight: bold } /* Operator.Word */\\n.codehilite .w { color: #bbbbbb } /* Text.Whitespace */\\n.codehilite .mb { color: #666666 } /* Literal.Number.Bin */\\n.codehilite .mf { color: #666666 } /* Literal.Number.Float */\\n.codehilite .mh { color: #666666 } /* Literal.Number.Hex */\\n.codehilite .mi { color: #666666 } /* Literal.Number.Integer */\\n.codehilite .mo { color: #666666 } /* Literal.Number.Oct */\\n.codehilite .sa { color: #BA2121 } /* Literal.String.Affix */\\n.codehilite .sb { color: #BA2121 } /* Literal.String.Backtick */\\n.codehilite .sc { color: #BA2121 } /* Literal.String.Char */\\n.codehilite .dl { color: #BA2121 } /* Literal.String.Delimiter */\\n.codehilite .sd { color: #BA2121; font-style: italic } /* Literal.String.Doc */\\n.codehilite .s2 { color: #BA2121 } /* Literal.String.Double */\\n.codehilite .se { color: #BB6622; font-weight: bold } /* Literal.String.Escape */\\n.codehilite .sh { color: #BA2121 } /* Literal.String.Heredoc */\\n.codehilite .si { color: #BB6688; font-weight: bold } /* Literal.String.Interpol */\\n.codehilite .sx { color: #008000 } /* Literal.String.Other */\\n.codehilite .sr { color: #BB6688 } /* Literal.String.Regex */\\n.codehilite .s1 { color: #BA2121 } /* Literal.String.Single */\\n.codehilite .ss { color: #19177C } /* Literal.String.Symbol */\\n.codehilite .bp { color: #008000 } /* Name.Builtin.Pseudo */\\n.codehilite .fm { color: #0000FF } /* Name.Function.Magic */\\n.codehilite .vc { color: #19177C } /* Name.Variable.Class */\\n.codehilite .vg { color: #19177C } /* Name.Variable.Global */\\n.codehilite .vi { color: #19177C } /* Name.Variable.Instance */\\n.codehilite .vm { color: #19177C } /* Name.Variable.Magic */\\n.codehilite .il { color: #666666 } /* Literal.Number.Integer.Long */\\n\\n.markdown h1 { margin-block-start: 0.34em }\\n.markdown h2 { margin-block-start: 0.42em }\\n.markdown h3 { margin-block-start: 0.5em }\\n.markdown h4 { margin-block-start: 0.67em }\\n.markdown h5 { margin-block-start: 0.84em }\\n.markdown h6 { margin-block-start: 1.17em }\\n.markdown ul { padding-inline-start: 2em }\\n.markdown ol { padding-inline-start: 2em }\\n.markdown strong { font-weight: 600 }\\n.markdown a { color: -webkit-link }\\n.markdown a { color: -moz-hyperlinkText }\\n\");\n    },\n    function(Bokeh) {\n      inject_raw_css(\".json-formatter-row {\\n  font-family: monospace;\\n}\\n.json-formatter-row,\\n.json-formatter-row a,\\n.json-formatter-row a:hover {\\n  color: black;\\n  text-decoration: none;\\n}\\n.json-formatter-row .json-formatter-row {\\n  margin-left: 1rem;\\n}\\n.json-formatter-row .json-formatter-children.json-formatter-empty {\\n  opacity: 0.5;\\n  margin-left: 1rem;\\n}\\n.json-formatter-row .json-formatter-children.json-formatter-empty:after {\\n  display: none;\\n}\\n.json-formatter-row .json-formatter-children.json-formatter-empty.json-formatter-object:after {\\n  content: \\\"No properties\\\";\\n}\\n.json-formatter-row .json-formatter-children.json-formatter-empty.json-formatter-array:after {\\n  content: \\\"[]\\\";\\n}\\n.json-formatter-row .json-formatter-string,\\n.json-formatter-row .json-formatter-stringifiable {\\n  color: green;\\n  white-space: pre;\\n  word-wrap: break-word;\\n}\\n.json-formatter-row .json-formatter-number {\\n  color: blue;\\n}\\n.json-formatter-row .json-formatter-boolean {\\n  color: red;\\n}\\n.json-formatter-row .json-formatter-null {\\n  color: #855A00;\\n}\\n.json-formatter-row .json-formatter-undefined {\\n  color: #ca0b69;\\n}\\n.json-formatter-row .json-formatter-function {\\n  color: #FF20ED;\\n}\\n.json-formatter-row .json-formatter-date {\\n  background-color: rgba(0, 0, 0, 0.05);\\n}\\n.json-formatter-row .json-formatter-url {\\n  text-decoration: underline;\\n  color: blue;\\n  cursor: pointer;\\n}\\n.json-formatter-row .json-formatter-bracket {\\n  color: blue;\\n}\\n.json-formatter-row .json-formatter-key {\\n  color: #00008B;\\n  padding-right: 0.2rem;\\n}\\n.json-formatter-row .json-formatter-toggler-link {\\n  cursor: pointer;\\n}\\n.json-formatter-row .json-formatter-toggler {\\n  line-height: 1.2rem;\\n  font-size: 0.7rem;\\n  vertical-align: middle;\\n  opacity: 0.6;\\n  cursor: pointer;\\n  padding-right: 0.2rem;\\n}\\n.json-formatter-row .json-formatter-toggler:after {\\n  display: inline-block;\\n  transition: transform 100ms ease-in;\\n  content: \\\"\\\\25BA\\\";\\n}\\n.json-formatter-row > a > .json-formatter-preview-text {\\n  opacity: 0;\\n  transition: opacity 0.15s ease-in;\\n  font-style: italic;\\n}\\n.json-formatter-row:hover > a > .json-formatter-preview-text {\\n  opacity: 0.6;\\n}\\n.json-formatter-row.json-formatter-open > .json-formatter-toggler-link .json-formatter-toggler:after {\\n  transform: rotate(90deg);\\n}\\n.json-formatter-row.json-formatter-open > .json-formatter-children:after {\\n  display: inline-block;\\n}\\n.json-formatter-row.json-formatter-open > a > .json-formatter-preview-text {\\n  display: none;\\n}\\n.json-formatter-row.json-formatter-open.json-formatter-empty:after {\\n  display: block;\\n}\\n.json-formatter-dark.json-formatter-row {\\n  font-family: monospace;\\n}\\n.json-formatter-dark.json-formatter-row,\\n.json-formatter-dark.json-formatter-row a,\\n.json-formatter-dark.json-formatter-row a:hover {\\n  color: white;\\n  text-decoration: none;\\n}\\n.json-formatter-dark.json-formatter-row .json-formatter-row {\\n  margin-left: 1rem;\\n}\\n.json-formatter-dark.json-formatter-row .json-formatter-children.json-formatter-empty {\\n  opacity: 0.5;\\n  margin-left: 1rem;\\n}\\n.json-formatter-dark.json-formatter-row .json-formatter-children.json-formatter-empty:after {\\n  display: none;\\n}\\n.json-formatter-dark.json-formatter-row .json-formatter-children.json-formatter-empty.json-formatter-object:after {\\n  content: \\\"No properties\\\";\\n}\\n.json-formatter-dark.json-formatter-row .json-formatter-children.json-formatter-empty.json-formatter-array:after {\\n  content: \\\"[]\\\";\\n}\\n.json-formatter-dark.json-formatter-row .json-formatter-string,\\n.json-formatter-dark.json-formatter-row .json-formatter-stringifiable {\\n  color: #31F031;\\n  white-space: pre;\\n  word-wrap: break-word;\\n}\\n.json-formatter-dark.json-formatter-row .json-formatter-number {\\n  color: #66C2FF;\\n}\\n.json-formatter-dark.json-formatter-row .json-formatter-boolean {\\n  color: #EC4242;\\n}\\n.json-formatter-dark.json-formatter-row .json-formatter-null {\\n  color: #EEC97D;\\n}\\n.json-formatter-dark.json-formatter-row .json-formatter-undefined {\\n  color: #ef8fbe;\\n}\\n.json-formatter-dark.json-formatter-row .json-formatter-function {\\n  color: #FD48CB;\\n}\\n.json-formatter-dark.json-formatter-row .json-formatter-date {\\n  background-color: rgba(255, 255, 255, 0.05);\\n}\\n.json-formatter-dark.json-formatter-row .json-formatter-url {\\n  text-decoration: underline;\\n  color: #027BFF;\\n  cursor: pointer;\\n}\\n.json-formatter-dark.json-formatter-row .json-formatter-bracket {\\n  color: #9494FF;\\n}\\n.json-formatter-dark.json-formatter-row .json-formatter-key {\\n  color: #23A0DB;\\n  padding-right: 0.2rem;\\n}\\n.json-formatter-dark.json-formatter-row .json-formatter-toggler-link {\\n  cursor: pointer;\\n}\\n.json-formatter-dark.json-formatter-row .json-formatter-toggler {\\n  line-height: 1.2rem;\\n  font-size: 0.7rem;\\n  vertical-align: middle;\\n  opacity: 0.6;\\n  cursor: pointer;\\n  padding-right: 0.2rem;\\n}\\n.json-formatter-dark.json-formatter-row .json-formatter-toggler:after {\\n  display: inline-block;\\n  transition: transform 100ms ease-in;\\n  content: \\\"\\\\25BA\\\";\\n}\\n.json-formatter-dark.json-formatter-row > a > .json-formatter-preview-text {\\n  opacity: 0;\\n  transition: opacity 0.15s ease-in;\\n  font-style: italic;\\n}\\n.json-formatter-dark.json-formatter-row:hover > a > .json-formatter-preview-text {\\n  opacity: 0.6;\\n}\\n.json-formatter-dark.json-formatter-row.json-formatter-open > .json-formatter-toggler-link .json-formatter-toggler:after {\\n  transform: rotate(90deg);\\n}\\n.json-formatter-dark.json-formatter-row.json-formatter-open > .json-formatter-children:after {\\n  display: inline-block;\\n}\\n.json-formatter-dark.json-formatter-row.json-formatter-open > a > .json-formatter-preview-text {\\n  display: none;\\n}\\n.json-formatter-dark.json-formatter-row.json-formatter-open.json-formatter-empty:after {\\n  display: block;\\n}\\n\");\n    },\n    function(Bokeh) {\n      inject_raw_css(\"table.panel-df {\\n    margin-left: auto;\\n    margin-right: auto;\\n    border: none;\\n    border-collapse: collapse;\\n    border-spacing: 0;\\n    color: black;\\n    font-size: 12px;\\n    table-layout: fixed;\\n    width: 100%;\\n}\\n\\n.panel-df tr, th, td {\\n    text-align: right;\\n    vertical-align: middle;\\n    padding: 0.5em 0.5em !important;\\n    line-height: normal;\\n    white-space: normal;\\n    max-width: none;\\n    border: none;\\n}\\n\\n.panel-df tbody {\\n    display: table-row-group;\\n    vertical-align: middle;\\n    border-color: inherit;\\n}\\n\\n.panel-df tbody tr:nth-child(odd) {\\n    background: #f5f5f5;\\n}\\n\\n.panel-df thead {\\n    border-bottom: 1px solid black;\\n    vertical-align: bottom;\\n}\\n\\n.panel-df tr:hover {\\n    background: lightblue !important;\\n    cursor: pointer;\\n}\\n\");\n    },\n    function(Bokeh) {\n      Bokeh.set_log_level(\"info\");\n    },\n    function(Bokeh) {\n    \n    \n    }\n  ];\n\n  function run_inline_js() {\n    \n    if (root.Bokeh !== undefined || force === true) {\n      \n    for (var i = 0; i < inline_js.length; i++) {\n      inline_js[i].call(root, root.Bokeh);\n    }\n    if (force === true) {\n        display_loaded();\n      }} else if (Date.now() < root._bokeh_timeout) {\n      setTimeout(run_inline_js, 100);\n    } else if (!root._bokeh_failed_load) {\n      console.log(\"Bokeh: BokehJS failed to load within specified timeout.\");\n      root._bokeh_failed_load = true;\n    } else if (force !== true) {\n      var cell = $(document.getElementById(\"1106\")).parents('.cell').data().cell;\n      cell.output_area.append_execute_result(NB_LOAD_WARNING)\n    }\n\n  }\n\n  if (root._bokeh_is_loading === 0) {\n    console.debug(\"Bokeh: BokehJS loaded, going straight to plotting\");\n    run_inline_js();\n  } else {\n    load_libs(css_urls, js_urls, function() {\n      console.debug(\"Bokeh: BokehJS plotting callback run at\", now());\n      run_inline_js();\n    });\n  }\n}(window));"
     },
     "metadata": {},
     "output_type": "display_data"
    }
   ],
   "source": [
    "import wgregseq\n",
    "%load_ext autoreload\n",
    "%autoreload 2\n",
    "\n",
    "import pandas as pd\n",
    "import numpy as np\n",
    "import bebi103\n",
    "import copy\n",
    "\n",
    "from bokeh.plotting import figure\n",
    "from bokeh.models import ColumnDataSource\n",
    "from bokeh.layouts import grid\n",
    "\n",
    "import bokeh.io\n",
    "\n",
    "bokeh.io.output_notebook()"
   ]
  },
  {
   "cell_type": "markdown",
   "metadata": {},
   "source": [
    "Load the wild type sequences and the energy matrix from Barnes 2019."
   ]
  },
  {
   "cell_type": "code",
   "execution_count": 2,
   "metadata": {},
   "outputs": [],
   "source": [
    "O1 = 'AATTGTGAGCGGATAACAATT'\n",
    "lacUV5 = 'TCGAGTTTACACTTTATGCTTCCGGCTCGTATAATGTGTGG'\n",
    "\n",
    "lacUV5_O1 = lacUV5 + O1\n",
    "\n",
    "O1_matrix = np.array([[ 0.      ,  0.032177,  0.009131,  0.091165],\n",
    "       [ 0.      ,  0.114247,  0.071831,  0.03971 ],\n",
    "       [-0.000628,  0.064351,  0.086849,  0.      ],\n",
    "       [ 0.20005 ,  0.177245,  0.230581,  0.      ],\n",
    "       [ 0.425216,  0.447047,  0.      ,  0.485461],\n",
    "       [ 0.326155,  0.334896,  0.211105,  0.      ],\n",
    "       [ 0.359728,  0.359606,  0.      ,  0.332162],\n",
    "       [ 0.      ,  0.401932,  0.351278,  0.382362],\n",
    "       [ 0.199617,  0.140798,  0.      ,  0.306306],\n",
    "       [ 0.385491,  0.      ,  0.208968,  0.422716],\n",
    "       [ 0.363034,  0.485714,  0.      ,  0.510156],\n",
    "       [ 0.088837,  0.004424,  0.      ,  0.033584],\n",
    "       [ 0.      ,  0.135131,  0.018889,  0.217285],\n",
    "       [ 0.202876,  0.065591,  0.232629,  0.      ],\n",
    "       [ 0.      ,  0.003501,  0.100287,  0.114927],\n",
    "       [ 0.      ,  0.067364,  0.150227,  0.166777],\n",
    "       [ 0.181258,  0.      ,  0.16264 ,  0.210426],\n",
    "       [ 0.      ,  0.149875,  0.237717,  0.187568],\n",
    "       [ 0.      ,  0.107793,  0.143145,  0.029033],\n",
    "       [-0.066676,  0.082292,  0.070096,  0.      ],\n",
    "       [-0.001548, -0.063899,  0.018943,  0.      ]])"
   ]
  },
  {
   "cell_type": "markdown",
   "metadata": {},
   "source": [
    "Import the dictionary which transforms DNA into integers."
   ]
  },
  {
   "cell_type": "code",
   "execution_count": 3,
   "metadata": {},
   "outputs": [],
   "source": [
    "seq_dict, _ = wgregseq.choose_dict(\"dna\")"
   ]
  },
  {
   "cell_type": "markdown",
   "metadata": {},
   "source": [
    "Let's define a function which evaluates the energy matrix for a sequence."
   ]
  },
  {
   "cell_type": "code",
   "execution_count": 4,
   "metadata": {},
   "outputs": [],
   "source": [
    "def energy_from_sequence(sequence, matrix):\n",
    "    seq_list = list(sequence.upper())\n",
    "    num_seq = [seq_dict[x] for x in seq_list]\n",
    "    energy = sum([matrix[i, num_seq[i]] for i in range(len(sequence))])\n",
    "    return energy"
   ]
  },
  {
   "cell_type": "markdown",
   "metadata": {},
   "source": [
    "This energy matrix gives energy contributions compared to wildtype, therefore the wild type sequence should have an energy of 0."
   ]
  },
  {
   "cell_type": "code",
   "execution_count": 5,
   "metadata": {},
   "outputs": [
    {
     "data": {
      "text/plain": [
       "0.0"
      ]
     },
     "execution_count": 5,
     "metadata": {},
     "output_type": "execute_result"
    }
   ],
   "source": [
    "energy_from_sequence(O1, O1_matrix)"
   ]
  },
  {
   "cell_type": "markdown",
   "metadata": {},
   "source": [
    "Now we can generate mutants. Therefore we generate all single and double mutants, as well as 10000 triple mutants using the function which creates all possible mutants and then chooses, to prevent duplicates."
   ]
  },
  {
   "cell_type": "code",
   "execution_count": 70,
   "metadata": {},
   "outputs": [],
   "source": [
    "mutants_single = wgregseq.mutations_det(O1, mut_per_seq=1)\n",
    "mutants_double = wgregseq.mutations_det(O1, mut_per_seq=2)\n",
    "mutants_triple = wgregseq.mutations_det(O1, mut_per_seq=3, num_mutants=100000)"
   ]
  },
  {
   "cell_type": "markdown",
   "metadata": {},
   "source": [
    "For higher order mutants we don't have to worried about duplicates and can randomly generate mutants (while keeping the number of mutations fixed)."
   ]
  },
  {
   "cell_type": "code",
   "execution_count": 71,
   "metadata": {},
   "outputs": [],
   "source": [
    "mutants_quadruple = wgregseq.mutations_rand(O1, rate=0.2, num_mutants=100000, number_fixed=True)\n",
    "mutants_quintuple = wgregseq.mutations_rand(O1, rate=0.25, num_mutants=100000, number_fixed=True)\n",
    "mutants_sextuple = wgregseq.mutations_rand(O1, rate=0.3, num_mutants=100000, number_fixed=True)"
   ]
  },
  {
   "cell_type": "markdown",
   "metadata": {},
   "source": [
    "Let's write all the mutants into a dataframe. We exclude the single mutants for now, since we want to use all of those anyways, so we add them back to the pool in the end."
   ]
  },
  {
   "cell_type": "code",
   "execution_count": 72,
   "metadata": {},
   "outputs": [],
   "source": [
    "df_1 = pd.DataFrame({\"seq\": mutants_single, \"mutations\": 1})\n",
    "df_2 = pd.DataFrame({\"seq\": mutants_double, \"mutations\": 2})\n",
    "df_3 = pd.DataFrame({\"seq\": mutants_triple, \"mutations\": 3})\n",
    "df_4 = pd.DataFrame({\"seq\": mutants_quadruple, \"mutations\": 4})\n",
    "df_5 = pd.DataFrame({\"seq\": mutants_quintuple, \"mutations\": 5})\n",
    "df_6 = pd.DataFrame({\"seq\": mutants_sextuple, \"mutations\": 6})\n",
    "df = pd.concat([df_2, df_3, df_4, df_5, df_6], ignore_index=True)"
   ]
  },
  {
   "cell_type": "markdown",
   "metadata": {},
   "source": [
    "Now we can compute the difference in energy matrix for every mutant and add it to the dataframe."
   ]
  },
  {
   "cell_type": "code",
   "execution_count": 73,
   "metadata": {},
   "outputs": [
    {
     "data": {
      "text/html": [
       "<div>\n",
       "<style scoped>\n",
       "    .dataframe tbody tr th:only-of-type {\n",
       "        vertical-align: middle;\n",
       "    }\n",
       "\n",
       "    .dataframe tbody tr th {\n",
       "        vertical-align: top;\n",
       "    }\n",
       "\n",
       "    .dataframe thead th {\n",
       "        text-align: right;\n",
       "    }\n",
       "</style>\n",
       "<table border=\"1\" class=\"dataframe\">\n",
       "  <thead>\n",
       "    <tr style=\"text-align: right;\">\n",
       "      <th></th>\n",
       "      <th>seq</th>\n",
       "      <th>mutations</th>\n",
       "      <th>energy</th>\n",
       "    </tr>\n",
       "  </thead>\n",
       "  <tbody>\n",
       "    <tr>\n",
       "      <th>0</th>\n",
       "      <td>ccTTGTGAGCGGATAACAATT</td>\n",
       "      <td>2</td>\n",
       "      <td>0.146424</td>\n",
       "    </tr>\n",
       "    <tr>\n",
       "      <th>1</th>\n",
       "      <td>cAaTGTGAGCGGATAACAATT</td>\n",
       "      <td>2</td>\n",
       "      <td>0.031549</td>\n",
       "    </tr>\n",
       "    <tr>\n",
       "      <th>2</th>\n",
       "      <td>cATaGTGAGCGGATAACAATT</td>\n",
       "      <td>2</td>\n",
       "      <td>0.232227</td>\n",
       "    </tr>\n",
       "    <tr>\n",
       "      <th>3</th>\n",
       "      <td>cATTaTGAGCGGATAACAATT</td>\n",
       "      <td>2</td>\n",
       "      <td>0.457393</td>\n",
       "    </tr>\n",
       "    <tr>\n",
       "      <th>4</th>\n",
       "      <td>cATTGaGAGCGGATAACAATT</td>\n",
       "      <td>2</td>\n",
       "      <td>0.358332</td>\n",
       "    </tr>\n",
       "  </tbody>\n",
       "</table>\n",
       "</div>"
      ],
      "text/plain": [
       "                     seq  mutations    energy\n",
       "0  ccTTGTGAGCGGATAACAATT          2  0.146424\n",
       "1  cAaTGTGAGCGGATAACAATT          2  0.031549\n",
       "2  cATaGTGAGCGGATAACAATT          2  0.232227\n",
       "3  cATTaTGAGCGGATAACAATT          2  0.457393\n",
       "4  cATTGaGAGCGGATAACAATT          2  0.358332"
      ]
     },
     "execution_count": 73,
     "metadata": {},
     "output_type": "execute_result"
    }
   ],
   "source": [
    "df[\"energy\"] = df['seq'].apply(energy_from_sequence, args= (O1_matrix, ))\n",
    "df.head()"
   ]
  },
  {
   "cell_type": "markdown",
   "metadata": {},
   "source": [
    "To choose which mutants we are taking, we first try bins of binding energies."
   ]
  },
  {
   "cell_type": "code",
   "execution_count": 74,
   "metadata": {},
   "outputs": [],
   "source": [
    "bins = [(-0.05, 0.05), (0.4, 0.5), (0.85, .95)]"
   ]
  },
  {
   "cell_type": "markdown",
   "metadata": {},
   "source": [
    "Let's have a look on how the mutants are distributed."
   ]
  },
  {
   "cell_type": "code",
   "execution_count": 75,
   "metadata": {},
   "outputs": [
    {
     "data": {
      "text/html": [
       "\n",
       "\n",
       "\n",
       "\n",
       "\n",
       "\n",
       "  <div class=\"bk-root\" id=\"8ef2162b-bf4c-4343-a922-682dc71242fd\" data-root-id=\"32703\"></div>\n"
      ]
     },
     "metadata": {},
     "output_type": "display_data"
    },
    {
     "data": {
      "application/javascript": [
       "(function(root) {\n",
       "  function embed_document(root) {\n",
       "    \n",
       "  var docs_json = {\"bb1bc657-a979-432d-b3dd-8c934e9304d1\":{\"roots\":{\"references\":[{\"attributes\":{\"children\":[[{\"id\":\"32353\"},0,0,1,1],[{\"id\":\"32423\"},0,1,1,1],[{\"id\":\"32493\"},0,2,1,1],[{\"id\":\"32563\"},0,3,1,1],[{\"id\":\"32633\"},0,4,1,1]]},\"id\":\"32703\",\"type\":\"GridBox\"},{\"attributes\":{\"data\":{\"x\":[0.85,0.85],\"y\":[0,1.568856741631036]},\"selected\":{\"id\":\"34534\"},\"selection_policy\":{\"id\":\"34535\"}},\"id\":\"32478\",\"type\":\"ColumnDataSource\"},{\"attributes\":{\"source\":{\"id\":\"32473\"}},\"id\":\"32477\",\"type\":\"CDSView\"},{\"attributes\":{\"source\":{\"id\":\"32518\"}},\"id\":\"32522\",\"type\":\"CDSView\"},{\"attributes\":{\"data\":{\"x\":[0.05,0.05],\"y\":[0,1.3076690713582944]},\"selected\":{\"id\":\"34544\"},\"selection_policy\":{\"id\":\"34545\"}},\"id\":\"32523\",\"type\":\"ColumnDataSource\"},{\"attributes\":{},\"id\":\"34520\",\"type\":\"Selection\"},{\"attributes\":{\"source\":{\"id\":\"32478\"}},\"id\":\"32482\",\"type\":\"CDSView\"},{\"attributes\":{\"bottom\":{\"value\":0},\"fill_alpha\":{\"value\":0.1},\"fill_color\":{\"value\":\"navy\"},\"left\":{\"field\":\"left\"},\"line_alpha\":{\"value\":0.1},\"line_color\":{\"value\":\"white\"},\"right\":{\"field\":\"right\"},\"top\":{\"field\":\"top\"}},\"id\":\"32515\",\"type\":\"Quad\"},{\"attributes\":{},\"id\":\"34516\",\"type\":\"Selection\"},{\"attributes\":{},\"id\":\"34585\",\"type\":\"UnionRenderers\"},{\"attributes\":{\"line_color\":\"orange\",\"x\":{\"field\":\"x\"},\"y\":{\"field\":\"y\"}},\"id\":\"32479\",\"type\":\"Line\"},{\"attributes\":{},\"id\":\"34519\",\"type\":\"UnionRenderers\"},{\"attributes\":{},\"id\":\"34584\",\"type\":\"Selection\"},{\"attributes\":{\"data_source\":{\"id\":\"32488\"},\"glyph\":{\"id\":\"32489\"},\"hover_glyph\":null,\"muted_glyph\":null,\"nonselection_glyph\":{\"id\":\"32490\"},\"selection_glyph\":null,\"view\":{\"id\":\"32492\"}},\"id\":\"32491\",\"type\":\"GlyphRenderer\"},{\"attributes\":{\"data\":{\"x\":[0.4,0.5],\"y1\":[0,0],\"y2\":[1.568856741631036,1.568856741631036]},\"selected\":{\"id\":\"34532\"},\"selection_policy\":{\"id\":\"34533\"}},\"id\":\"32473\",\"type\":\"ColumnDataSource\"},{\"attributes\":{},\"id\":\"34562\",\"type\":\"Selection\"},{\"attributes\":{},\"id\":\"34564\",\"type\":\"Selection\"},{\"attributes\":{\"bottom\":{\"value\":0},\"fill_alpha\":{\"value\":0.5},\"fill_color\":{\"value\":\"navy\"},\"left\":{\"field\":\"left\"},\"line_alpha\":{\"value\":0.5},\"line_color\":{\"value\":\"white\"},\"right\":{\"field\":\"right\"},\"top\":{\"field\":\"top\"}},\"id\":\"32514\",\"type\":\"Quad\"},{\"attributes\":{\"line_alpha\":0.1,\"line_color\":\"orange\",\"x\":{\"field\":\"x\"},\"y\":{\"field\":\"y\"}},\"id\":\"32550\",\"type\":\"Line\"},{\"attributes\":{\"data\":{\"x\":[0.95,0.95],\"y\":[0,1.3076690713582944]},\"selected\":{\"id\":\"34556\"},\"selection_policy\":{\"id\":\"34557\"}},\"id\":\"32553\",\"type\":\"ColumnDataSource\"},{\"attributes\":{\"source\":{\"id\":\"32523\"}},\"id\":\"32527\",\"type\":\"CDSView\"},{\"attributes\":{\"fill_alpha\":0.1,\"fill_color\":\"orange\",\"x\":{\"field\":\"x\"},\"y1\":{\"field\":\"y1\"},\"y2\":{\"field\":\"y2\"}},\"id\":\"32475\",\"type\":\"VArea\"},{\"attributes\":{\"data\":{\"x\":[0.85,0.85],\"y\":[0,1.3076690713582944]},\"selected\":{\"id\":\"34554\"},\"selection_policy\":{\"id\":\"34555\"}},\"id\":\"32548\",\"type\":\"ColumnDataSource\"},{\"attributes\":{\"line_color\":\"orange\",\"x\":{\"field\":\"x\"},\"y\":{\"field\":\"y\"}},\"id\":\"32549\",\"type\":\"Line\"},{\"attributes\":{},\"id\":\"34565\",\"type\":\"UnionRenderers\"},{\"attributes\":{\"data\":{\"left\":{\"__ndarray__\":\"9GxWfa62wL9febGsC6q3v6wxbL10zau/NOHqQqSNkL/woAL1oH+WP4gReBZzxq4/Tmk32YomuT/sZJkT7nTBPzAVl7qWVsY/dMWUYT84yz/cOkkE9AzQP/8SyFfIfdI/IetGq5zu1D9Dw8X+cF/XP2abRFJF0Nk/iHPDpRlB3D+qS0L57bHeP+aRYCZhkeA/9/0fUMvJ4T8Iat95NQLjPxnWnqOfOuQ/K0JezQlz5T88rh33c6vmP00a3SDe4+c/XoacSkgc6T9v8lt0slTqP4BeG54cjes/kcrax4bF7D+jNprx8P3tP7OiWRtbNu8/YoeMomI38D9qPWy3l9PwP3TzS8zMb/E/fKkr4QEM8j+EXwv2NqjyP44V6wpsRPM/lsvKH6Hg8z+egao01nz0P6Y3ikkLGfU/sO1pXkC19T+4o0lzdVH2P8BZKYiq7fY/yg8Jnd+J9z/SxeixFCb4P9p7yMZJwvg/4jGo235e+T/s54fws/r5P/SdZwXplvo//FNHGh4z+z8GCicvU8/7Pw==\",\"dtype\":\"float64\",\"shape\":[50]},\"right\":{\"__ndarray__\":\"X3mxrAuqt7+sMWy9dM2rvzTh6kKkjZC/8KAC9aB/lj+IEXgWc8auP05pN9mKJrk/7GSZE+50wT8wFZe6llbGP3TFlGE/OMs/3DpJBPQM0D//EshXyH3SPyHrRquc7tQ/Q8PF/nBf1z9mm0RSRdDZP4hzw6UZQdw/qktC+e2x3j/mkWAmYZHgP/f9H1DLyeE/CGrfeTUC4z8Z1p6jnzrkPytCXs0Jc+U/PK4d93Or5j9NGt0g3uPnP16GnEpIHOk/b/JbdLJU6j+AXhueHI3rP5HK2seGxew/ozaa8fD97T+zolkbWzbvP2KHjKJiN/A/aj1st5fT8D9080vMzG/xP3ypK+EBDPI/hF8L9jao8j+OFesKbETzP5bLyh+h4PM/noGqNNZ89D+mN4pJCxn1P7DtaV5AtfU/uKNJc3VR9j/AWSmIqu32P8oPCZ3fifc/0sXosRQm+D/ae8jGScL4P+IxqNt+Xvk/7OeH8LP6+T/0nWcF6Zb6P/xTRxoeM/s/BgonL1PP+z8NwAZEiGv8Pw==\",\"dtype\":\"float64\",\"shape\":[50]},\"top\":{\"__ndarray__\":\"UoCeOydVYz8QcnBRPy+RPwMLQSuV8ZQ/NmFBuoV3sz83yoV7gKS5P9GoHdZNBsc/tmDQ7KQ9zj8EkVKOQKTUP+uFfPNBAtw/rbUaXeHS4D8iM1fSX3XjP41InLE7ruY/fyoHoJL86T/2j/2IY9TtP2m1KEHjB/A/J7dPLXgy8T+2C6CnMfDyP0gJGj8Ax/M/xIQ9rOtz9D+w9sO7seT0P9GXd2c27PQ/oYtiheG79D+FL461lbf0P5yjqBGPhvM/1R7aYnxo8z/0m63knt3wP2Pbqpt6LfA/oPIEFqdV7T+9wOgdW2jpP7jSWmmttOY/lfIWZ+uQ5D+F5m7lNJThP7pBc2sDYN4/KEmA6TdE2D/rin5N5SXTP9hUrSZO2M4/nied/2Q9yT9IYUG6hXfDPx5CX32EAsA/03F6yP5duD9fgrPWd0StPw0xtaEq4qU/QnmHRjNCoj+TVykYwNKWP7fHhM6uEo4/vaMRBeuzeD8OpBEF67N4P7fHhM6uEl4/VceEzq4SXj88cnBRPy9RPw==\",\"dtype\":\"float64\",\"shape\":[50]}},\"selected\":{\"id\":\"34540\"},\"selection_policy\":{\"id\":\"34541\"}},\"id\":\"32513\",\"type\":\"ColumnDataSource\"},{\"attributes\":{\"data_source\":{\"id\":\"32518\"},\"glyph\":{\"id\":\"32519\"},\"hover_glyph\":null,\"muted_glyph\":null,\"nonselection_glyph\":{\"id\":\"32520\"},\"selection_glyph\":null,\"view\":{\"id\":\"32522\"}},\"id\":\"32521\",\"type\":\"GlyphRenderer\"},{\"attributes\":{\"line_color\":\"orange\",\"x\":{\"field\":\"x\"},\"y\":{\"field\":\"y\"}},\"id\":\"32554\",\"type\":\"Line\"},{\"attributes\":{},\"id\":\"34515\",\"type\":\"UnionRenderers\"},{\"attributes\":{\"source\":{\"id\":\"32548\"}},\"id\":\"32552\",\"type\":\"CDSView\"},{\"attributes\":{},\"id\":\"34589\",\"type\":\"UnionRenderers\"},{\"attributes\":{\"source\":{\"id\":\"32513\"}},\"id\":\"32517\",\"type\":\"CDSView\"},{\"attributes\":{\"line_alpha\":0.1,\"line_color\":\"orange\",\"x\":{\"field\":\"x\"},\"y\":{\"field\":\"y\"}},\"id\":\"32540\",\"type\":\"Line\"},{\"attributes\":{},\"id\":\"34518\",\"type\":\"Selection\"},{\"attributes\":{\"data_source\":{\"id\":\"32548\"},\"glyph\":{\"id\":\"32549\"},\"hover_glyph\":null,\"muted_glyph\":null,\"nonselection_glyph\":{\"id\":\"32550\"},\"selection_glyph\":null,\"view\":{\"id\":\"32552\"}},\"id\":\"32551\",\"type\":\"GlyphRenderer\"},{\"attributes\":{},\"id\":\"34586\",\"type\":\"Selection\"},{\"attributes\":{\"data\":{\"x\":[0.4,0.5],\"y1\":[0,0],\"y2\":[1.3076690713582944,1.3076690713582944]},\"selected\":{\"id\":\"34552\"},\"selection_policy\":{\"id\":\"34553\"}},\"id\":\"32543\",\"type\":\"ColumnDataSource\"},{\"attributes\":{},\"id\":\"34563\",\"type\":\"UnionRenderers\"},{\"attributes\":{},\"id\":\"32496\",\"type\":\"DataRange1d\"},{\"attributes\":{\"source\":{\"id\":\"32488\"}},\"id\":\"32492\",\"type\":\"CDSView\"},{\"attributes\":{},\"id\":\"34561\",\"type\":\"UnionRenderers\"},{\"attributes\":{\"data\":{\"x\":[0.85,0.95],\"y1\":[0,0],\"y2\":[1.568856741631036,1.568856741631036]},\"selected\":{\"id\":\"34538\"},\"selection_policy\":{\"id\":\"34539\"}},\"id\":\"32488\",\"type\":\"ColumnDataSource\"},{\"attributes\":{\"data_source\":{\"id\":\"32478\"},\"glyph\":{\"id\":\"32479\"},\"hover_glyph\":null,\"muted_glyph\":null,\"nonselection_glyph\":{\"id\":\"32480\"},\"selection_glyph\":null,\"view\":{\"id\":\"32482\"}},\"id\":\"32481\",\"type\":\"GlyphRenderer\"},{\"attributes\":{},\"id\":\"34560\",\"type\":\"Selection\"},{\"attributes\":{\"data_source\":{\"id\":\"32513\"},\"glyph\":{\"id\":\"32514\"},\"hover_glyph\":null,\"muted_glyph\":null,\"nonselection_glyph\":{\"id\":\"32515\"},\"selection_glyph\":null,\"view\":{\"id\":\"32517\"}},\"id\":\"32516\",\"type\":\"GlyphRenderer\"},{\"attributes\":{\"line_alpha\":0.1,\"line_color\":\"orange\",\"x\":{\"field\":\"x\"},\"y\":{\"field\":\"y\"}},\"id\":\"32520\",\"type\":\"Line\"},{\"attributes\":{\"active_drag\":\"auto\",\"active_inspect\":\"auto\",\"active_multi\":null,\"active_scroll\":\"auto\",\"active_tap\":\"auto\"},\"id\":\"32512\",\"type\":\"Toolbar\"},{\"attributes\":{\"fill_alpha\":0.1,\"fill_color\":\"orange\",\"x\":{\"field\":\"x\"},\"y1\":{\"field\":\"y1\"},\"y2\":{\"field\":\"y2\"}},\"id\":\"32490\",\"type\":\"VArea\"},{\"attributes\":{},\"id\":\"34557\",\"type\":\"UnionRenderers\"},{\"attributes\":{\"source\":{\"id\":\"32468\"}},\"id\":\"32472\",\"type\":\"CDSView\"},{\"attributes\":{\"data_source\":{\"id\":\"32483\"},\"glyph\":{\"id\":\"32484\"},\"hover_glyph\":null,\"muted_glyph\":null,\"nonselection_glyph\":{\"id\":\"32485\"},\"selection_glyph\":null,\"view\":{\"id\":\"32487\"}},\"id\":\"32486\",\"type\":\"GlyphRenderer\"},{\"attributes\":{},\"id\":\"34590\",\"type\":\"Selection\"},{\"attributes\":{\"source\":{\"id\":\"32538\"}},\"id\":\"32542\",\"type\":\"CDSView\"},{\"attributes\":{\"data_source\":{\"id\":\"32553\"},\"glyph\":{\"id\":\"32554\"},\"hover_glyph\":null,\"muted_glyph\":null,\"nonselection_glyph\":{\"id\":\"32555\"},\"selection_glyph\":null,\"view\":{\"id\":\"32557\"}},\"id\":\"32556\",\"type\":\"GlyphRenderer\"},{\"attributes\":{\"axis\":{\"id\":\"32508\"},\"dimension\":1,\"ticker\":null},\"id\":\"32511\",\"type\":\"Grid\"},{\"attributes\":{\"line_alpha\":0.1,\"line_color\":\"orange\",\"x\":{\"field\":\"x\"},\"y\":{\"field\":\"y\"}},\"id\":\"32525\",\"type\":\"Line\"},{\"attributes\":{\"fill_alpha\":0.1,\"fill_color\":\"orange\",\"x\":{\"field\":\"x\"},\"y1\":{\"field\":\"y1\"},\"y2\":{\"field\":\"y2\"}},\"id\":\"32545\",\"type\":\"VArea\"},{\"attributes\":{\"background_fill_color\":\"#fafafa\",\"below\":[{\"id\":\"32574\"}],\"center\":[{\"id\":\"32577\"},{\"id\":\"32581\"}],\"frame_height\":200,\"frame_width\":200,\"left\":[{\"id\":\"32578\"}],\"renderers\":[{\"id\":\"32586\"},{\"id\":\"32591\"},{\"id\":\"32596\"},{\"id\":\"32601\"},{\"id\":\"32606\"},{\"id\":\"32611\"},{\"id\":\"32616\"},{\"id\":\"32621\"},{\"id\":\"32626\"},{\"id\":\"32631\"}],\"title\":{\"id\":\"32564\"},\"toolbar\":{\"id\":\"32582\"},\"x_range\":{\"id\":\"32566\"},\"x_scale\":{\"id\":\"32570\"},\"y_range\":{\"id\":\"32568\"},\"y_scale\":{\"id\":\"32572\"}},\"id\":\"32563\",\"subtype\":\"Figure\",\"type\":\"Plot\"},{\"attributes\":{\"axis\":{\"id\":\"32504\"},\"ticker\":null},\"id\":\"32507\",\"type\":\"Grid\"},{\"attributes\":{},\"id\":\"34591\",\"type\":\"UnionRenderers\"},{\"attributes\":{\"axis_label\":\"\\u0394E [k_BT]\",\"formatter\":{\"id\":\"34491\"},\"ticker\":{\"id\":\"32505\"}},\"id\":\"32504\",\"type\":\"LinearAxis\"},{\"attributes\":{},\"id\":\"34558\",\"type\":\"Selection\"},{\"attributes\":{},\"id\":\"32500\",\"type\":\"LinearScale\"},{\"attributes\":{},\"id\":\"34559\",\"type\":\"UnionRenderers\"},{\"attributes\":{},\"id\":\"32509\",\"type\":\"BasicTicker\"},{\"attributes\":{\"data\":{\"x\":[0.5,0.5],\"y\":[0,1.3076690713582944]},\"selected\":{\"id\":\"34550\"},\"selection_policy\":{\"id\":\"34551\"}},\"id\":\"32538\",\"type\":\"ColumnDataSource\"},{\"attributes\":{\"data\":{\"x\":[-0.05,-0.05],\"y\":[0,1.3076690713582944]},\"selected\":{\"id\":\"34542\"},\"selection_policy\":{\"id\":\"34543\"}},\"id\":\"32518\",\"type\":\"ColumnDataSource\"},{\"attributes\":{\"line_color\":\"orange\",\"x\":{\"field\":\"x\"},\"y\":{\"field\":\"y\"}},\"id\":\"32519\",\"type\":\"Line\"},{\"attributes\":{},\"id\":\"34514\",\"type\":\"Selection\"},{\"attributes\":{\"line_color\":\"orange\",\"x\":{\"field\":\"x\"},\"y\":{\"field\":\"y\"}},\"id\":\"32484\",\"type\":\"Line\"},{\"attributes\":{\"line_color\":\"orange\",\"x\":{\"field\":\"x\"},\"y\":{\"field\":\"y\"}},\"id\":\"32539\",\"type\":\"Line\"},{\"attributes\":{\"fill_alpha\":0.2,\"fill_color\":\"orange\",\"x\":{\"field\":\"x\"},\"y1\":{\"field\":\"y1\"},\"y2\":{\"field\":\"y2\"}},\"id\":\"32544\",\"type\":\"VArea\"},{\"attributes\":{},\"id\":\"32505\",\"type\":\"BasicTicker\"},{\"attributes\":{},\"id\":\"34588\",\"type\":\"Selection\"},{\"attributes\":{\"line_alpha\":0.1,\"line_color\":\"orange\",\"x\":{\"field\":\"x\"},\"y\":{\"field\":\"y\"}},\"id\":\"32485\",\"type\":\"Line\"},{\"attributes\":{\"text\":\"mutations = 4\"},\"id\":\"32494\",\"type\":\"Title\"},{\"attributes\":{\"data\":{\"x\":[0.95,0.95],\"y\":[0,1.568856741631036]},\"selected\":{\"id\":\"34536\"},\"selection_policy\":{\"id\":\"34537\"}},\"id\":\"32483\",\"type\":\"ColumnDataSource\"},{\"attributes\":{},\"id\":\"34517\",\"type\":\"UnionRenderers\"},{\"attributes\":{},\"id\":\"34580\",\"type\":\"Selection\"},{\"attributes\":{},\"id\":\"34555\",\"type\":\"UnionRenderers\"},{\"attributes\":{},\"id\":\"32362\",\"type\":\"LinearScale\"},{\"attributes\":{\"axis_label\":\"density\",\"formatter\":{\"id\":\"34489\"},\"ticker\":{\"id\":\"32509\"}},\"id\":\"32508\",\"type\":\"LinearAxis\"},{\"attributes\":{\"data_source\":{\"id\":\"32523\"},\"glyph\":{\"id\":\"32524\"},\"hover_glyph\":null,\"muted_glyph\":null,\"nonselection_glyph\":{\"id\":\"32525\"},\"selection_glyph\":null,\"view\":{\"id\":\"32527\"}},\"id\":\"32526\",\"type\":\"GlyphRenderer\"},{\"attributes\":{\"line_color\":\"orange\",\"x\":{\"field\":\"x\"},\"y\":{\"field\":\"y\"}},\"id\":\"32524\",\"type\":\"Line\"},{\"attributes\":{},\"id\":\"34556\",\"type\":\"Selection\"},{\"attributes\":{},\"id\":\"34582\",\"type\":\"Selection\"},{\"attributes\":{\"line_alpha\":0.1,\"line_color\":\"orange\",\"x\":{\"field\":\"x\"},\"y\":{\"field\":\"y\"}},\"id\":\"32555\",\"type\":\"Line\"},{\"attributes\":{},\"id\":\"34587\",\"type\":\"UnionRenderers\"},{\"attributes\":{},\"id\":\"34521\",\"type\":\"UnionRenderers\"},{\"attributes\":{},\"id\":\"34583\",\"type\":\"UnionRenderers\"},{\"attributes\":{},\"id\":\"32498\",\"type\":\"DataRange1d\"},{\"attributes\":{\"line_alpha\":0.1,\"line_color\":\"orange\",\"x\":{\"field\":\"x\"},\"y\":{\"field\":\"y\"}},\"id\":\"32480\",\"type\":\"Line\"},{\"attributes\":{\"fill_alpha\":0.2,\"fill_color\":\"orange\",\"x\":{\"field\":\"x\"},\"y1\":{\"field\":\"y1\"},\"y2\":{\"field\":\"y2\"}},\"id\":\"32474\",\"type\":\"VArea\"},{\"attributes\":{\"source\":{\"id\":\"32483\"}},\"id\":\"32487\",\"type\":\"CDSView\"},{\"attributes\":{\"fill_alpha\":0.2,\"fill_color\":\"orange\",\"x\":{\"field\":\"x\"},\"y1\":{\"field\":\"y1\"},\"y2\":{\"field\":\"y2\"}},\"id\":\"32489\",\"type\":\"VArea\"},{\"attributes\":{},\"id\":\"34581\",\"type\":\"UnionRenderers\"},{\"attributes\":{\"source\":{\"id\":\"32543\"}},\"id\":\"32547\",\"type\":\"CDSView\"},{\"attributes\":{},\"id\":\"34554\",\"type\":\"Selection\"},{\"attributes\":{\"data_source\":{\"id\":\"32558\"},\"glyph\":{\"id\":\"32559\"},\"hover_glyph\":null,\"muted_glyph\":null,\"nonselection_glyph\":{\"id\":\"32560\"},\"selection_glyph\":null,\"view\":{\"id\":\"32562\"}},\"id\":\"32561\",\"type\":\"GlyphRenderer\"},{\"attributes\":{},\"id\":\"32502\",\"type\":\"LinearScale\"},{\"attributes\":{\"data\":{\"x\":[0.5,0.5],\"y\":[0,1.2174642200413328]},\"selected\":{\"id\":\"34570\"},\"selection_policy\":{\"id\":\"34571\"}},\"id\":\"32608\",\"type\":\"ColumnDataSource\"},{\"attributes\":{\"data_source\":{\"id\":\"32603\"},\"glyph\":{\"id\":\"32604\"},\"hover_glyph\":null,\"muted_glyph\":null,\"nonselection_glyph\":{\"id\":\"32605\"},\"selection_glyph\":null,\"view\":{\"id\":\"32607\"}},\"id\":\"32606\",\"type\":\"GlyphRenderer\"},{\"attributes\":{\"data_source\":{\"id\":\"32613\"},\"glyph\":{\"id\":\"32614\"},\"hover_glyph\":null,\"muted_glyph\":null,\"nonselection_glyph\":{\"id\":\"32615\"},\"selection_glyph\":null,\"view\":{\"id\":\"32617\"}},\"id\":\"32616\",\"type\":\"GlyphRenderer\"},{\"attributes\":{\"data_source\":{\"id\":\"32608\"},\"glyph\":{\"id\":\"32609\"},\"hover_glyph\":null,\"muted_glyph\":null,\"nonselection_glyph\":{\"id\":\"32610\"},\"selection_glyph\":null,\"view\":{\"id\":\"32612\"}},\"id\":\"32611\",\"type\":\"GlyphRenderer\"},{\"attributes\":{\"line_color\":\"orange\",\"x\":{\"field\":\"x\"},\"y\":{\"field\":\"y\"}},\"id\":\"32609\",\"type\":\"Line\"},{\"attributes\":{\"data\":{\"x\":[0.4,0.4],\"y\":[0,1.2174642200413328]},\"selected\":{\"id\":\"34568\"},\"selection_policy\":{\"id\":\"34569\"}},\"id\":\"32603\",\"type\":\"ColumnDataSource\"},{\"attributes\":{},\"id\":\"34569\",\"type\":\"UnionRenderers\"},{\"attributes\":{\"fill_alpha\":0.2,\"fill_color\":\"orange\",\"x\":{\"field\":\"x\"},\"y1\":{\"field\":\"y1\"},\"y2\":{\"field\":\"y2\"}},\"id\":\"32614\",\"type\":\"VArea\"},{\"attributes\":{\"source\":{\"id\":\"32603\"}},\"id\":\"32607\",\"type\":\"CDSView\"},{\"attributes\":{\"source\":{\"id\":\"32613\"}},\"id\":\"32617\",\"type\":\"CDSView\"},{\"attributes\":{},\"id\":\"34568\",\"type\":\"Selection\"},{\"attributes\":{\"source\":{\"id\":\"32623\"}},\"id\":\"32627\",\"type\":\"CDSView\"},{\"attributes\":{},\"id\":\"32572\",\"type\":\"LinearScale\"},{\"attributes\":{\"source\":{\"id\":\"32553\"}},\"id\":\"32557\",\"type\":\"CDSView\"},{\"attributes\":{},\"id\":\"34567\",\"type\":\"UnionRenderers\"},{\"attributes\":{\"source\":{\"id\":\"32598\"}},\"id\":\"32602\",\"type\":\"CDSView\"},{\"attributes\":{},\"id\":\"32575\",\"type\":\"BasicTicker\"},{\"attributes\":{\"text\":\"mutations = 5\"},\"id\":\"32564\",\"type\":\"Title\"},{\"attributes\":{\"axis_label\":\"\\u0394E [k_BT]\",\"formatter\":{\"id\":\"34495\"},\"ticker\":{\"id\":\"32575\"}},\"id\":\"32574\",\"type\":\"LinearAxis\"},{\"attributes\":{\"data_source\":{\"id\":\"32623\"},\"glyph\":{\"id\":\"32624\"},\"hover_glyph\":null,\"muted_glyph\":null,\"nonselection_glyph\":{\"id\":\"32625\"},\"selection_glyph\":null,\"view\":{\"id\":\"32627\"}},\"id\":\"32626\",\"type\":\"GlyphRenderer\"},{\"attributes\":{\"axis\":{\"id\":\"32574\"},\"ticker\":null},\"id\":\"32577\",\"type\":\"Grid\"},{\"attributes\":{\"data\":{\"x\":[-0.05,0.05],\"y1\":[0,0],\"y2\":[1.2174642200413328,1.2174642200413328]},\"selected\":{\"id\":\"34566\"},\"selection_policy\":{\"id\":\"34567\"}},\"id\":\"32598\",\"type\":\"ColumnDataSource\"},{\"attributes\":{\"source\":{\"id\":\"32608\"}},\"id\":\"32612\",\"type\":\"CDSView\"},{\"attributes\":{\"data\":{\"x\":[0.85,0.85],\"y\":[0,1.2174642200413328]},\"selected\":{\"id\":\"34574\"},\"selection_policy\":{\"id\":\"34575\"}},\"id\":\"32618\",\"type\":\"ColumnDataSource\"},{\"attributes\":{\"data\":{\"x\":[0.4,0.5],\"y1\":[0,0],\"y2\":[1.2174642200413328,1.2174642200413328]},\"selected\":{\"id\":\"34572\"},\"selection_policy\":{\"id\":\"34573\"}},\"id\":\"32613\",\"type\":\"ColumnDataSource\"},{\"attributes\":{},\"id\":\"34566\",\"type\":\"Selection\"},{\"attributes\":{\"line_alpha\":0.1,\"line_color\":\"orange\",\"x\":{\"field\":\"x\"},\"y\":{\"field\":\"y\"}},\"id\":\"32595\",\"type\":\"Line\"},{\"attributes\":{\"fill_alpha\":0.1,\"fill_color\":\"orange\",\"x\":{\"field\":\"x\"},\"y1\":{\"field\":\"y1\"},\"y2\":{\"field\":\"y2\"}},\"id\":\"32600\",\"type\":\"VArea\"},{\"attributes\":{\"source\":{\"id\":\"32558\"}},\"id\":\"32562\",\"type\":\"CDSView\"},{\"attributes\":{\"axis_label\":\"density\",\"formatter\":{\"id\":\"34493\"},\"ticker\":{\"id\":\"32579\"}},\"id\":\"32578\",\"type\":\"LinearAxis\"},{\"attributes\":{\"data\":{\"left\":{\"__ndarray__\":\"9GxWfa62wL8LyW4LOzG2v1xwYTgy6qW/ACxWwzTCUT8Y05aEVQanP2h6ibFMv7Y/pMVjULf9wD8SzgJIyJvGP4DWoT/ZOcw/d2+gG/Xr0D+u82+X/brTP+Z3PxMGitY/HvwOjw5Z2T9UgN4KFyjcP4wEroYf994/YcQ+ARTj4D99hiY/mEriP5lIDn0csuM/tAr2uqAZ5T/QzN34JIHmP+uOxTap6Oc/B1GtdC1Q6T8jE5WysbfqPz/VfPA1H+w/W5dkLrqG7T91WUxsPu7uP8gNGlXhKvA/1u4NdKPe8D/kzwGTZZLxP/Kw9bEnRvI/AJLp0On58j8Oc93vq63zPxxU0Q5uYfQ/KjXFLTAV9T84FrlM8sj1P0T3rGu0fPY/UtiginYw9z9guZSpOOT3P26aiMj6l/g/fHt857xL+T+KXHAGf//5P5g9ZCVBs/o/ph5YRANn+z+0/0tjxRr8P8LgP4KHzvw/0MEzoUmC/T/eoifACzb+P+yDG9/N6f4/+mQP/o+d/z8Do4EOqSgAQA==\",\"dtype\":\"float64\",\"shape\":[50]},\"right\":{\"__ndarray__\":\"C8luCzsxtr9ccGE4MuqlvwAsVsM0wlE/GNOWhFUGpz9oeomxTL+2P6TFY1C3/cA/Es4CSMibxj+A1qE/2TnMP3dvoBv169A/rvNvl/260z/mdz8TBorWPx78Do8OWdk/VIDeChco3D+MBK6GH/feP2HEPgEU4+A/fYYmP5hK4j+ZSA59HLLjP7QK9rqgGeU/0Mzd+CSB5j/rjsU2qejnPwdRrXQtUOk/IxOVsrG36j8/1XzwNR/sP1uXZC66hu0/dVlMbD7u7j/IDRpV4SrwP9buDXSj3vA/5M8Bk2WS8T/ysPWxJ0byPwCS6dDp+fI/DnPd76ut8z8cVNEObmH0Pyo1xS0wFfU/OBa5TPLI9T9E96xrtHz2P1LYoIp2MPc/YLmUqTjk9z9umojI+pf4P3x7fOe8S/k/ilxwBn//+T+YPWQlQbP6P6YeWEQDZ/s/tP9LY8Ua/D/C4D+Ch878P9DBM6FJgv0/3qInwAs2/j/sgxvfzen+P/pkD/6Pnf8/A6OBDqkoAECKk/sdioIAQA==\",\"dtype\":\"float64\",\"shape\":[50]},\"top\":{\"__ndarray__\":\"rEXHzlJmVj/3XO50iJmDP5wmk0YLIoo/F9nng/8QpD+54haRGHOuP74BSxlgt7o/uYTAdGWXxD/T34y+5t/MP48qhcBn99E/Iv+a8Li01j9ri2WvTGbdP1IhM/W8HOI/940SQBBy5D9Q9BbnL0jnPy2e4+8srOo/iQdfvsPd7T/y3YDWfb3vP4bIT9USfvE/SbgJR0Vb8j+NZRR2iXPyP/IKEsO7evM/UFXO57tQ8z+lQMxI3gjzP1rcOFUB/fE/6GFxhGgX8T86wAN+nDTwP96MqpjlL+4/acRwBnHg6j9zA2qsgxHpP2qpG03LOeU/aIbfB4nx4j9HvxNNBtLfPyO1MOzXTto/Sqku+IVx1j8+ghBMvpTQP/iJIMaznMw/wUI9/CDTxD/3rEbIV7bAP0xwI6Fh97g/zIE2ojMEsz+9YgIa7L+mP/Jc7nSImaM/tgNEVg6ilj8fl2QLu0yUPxEXeYLn/3s/iQdfvsPdfT+JB1++w91dPz10FRu+zGA/4yaTRgsiWj+nRcfOUmZGPw==\",\"dtype\":\"float64\",\"shape\":[50]}},\"selected\":{\"id\":\"34560\"},\"selection_policy\":{\"id\":\"34561\"}},\"id\":\"32583\",\"type\":\"ColumnDataSource\"},{\"attributes\":{\"bottom\":{\"value\":0},\"fill_alpha\":{\"value\":0.1},\"fill_color\":{\"value\":\"navy\"},\"left\":{\"field\":\"left\"},\"line_alpha\":{\"value\":0.1},\"line_color\":{\"value\":\"white\"},\"right\":{\"field\":\"right\"},\"top\":{\"field\":\"top\"}},\"id\":\"32585\",\"type\":\"Quad\"},{\"attributes\":{\"source\":{\"id\":\"32628\"}},\"id\":\"32632\",\"type\":\"CDSView\"},{\"attributes\":{},\"id\":\"32570\",\"type\":\"LinearScale\"},{\"attributes\":{},\"id\":\"32579\",\"type\":\"BasicTicker\"},{\"attributes\":{\"data_source\":{\"id\":\"32618\"},\"glyph\":{\"id\":\"32619\"},\"hover_glyph\":null,\"muted_glyph\":null,\"nonselection_glyph\":{\"id\":\"32620\"},\"selection_glyph\":null,\"view\":{\"id\":\"32622\"}},\"id\":\"32621\",\"type\":\"GlyphRenderer\"},{\"attributes\":{\"fill_alpha\":0.1,\"fill_color\":\"orange\",\"x\":{\"field\":\"x\"},\"y1\":{\"field\":\"y1\"},\"y2\":{\"field\":\"y2\"}},\"id\":\"32630\",\"type\":\"VArea\"},{\"attributes\":{\"fill_alpha\":0.1,\"fill_color\":\"orange\",\"x\":{\"field\":\"x\"},\"y1\":{\"field\":\"y1\"},\"y2\":{\"field\":\"y2\"}},\"id\":\"32615\",\"type\":\"VArea\"},{\"attributes\":{\"source\":{\"id\":\"32583\"}},\"id\":\"32587\",\"type\":\"CDSView\"},{\"attributes\":{},\"id\":\"34574\",\"type\":\"Selection\"},{\"attributes\":{\"background_fill_color\":\"#fafafa\",\"below\":[{\"id\":\"32644\"}],\"center\":[{\"id\":\"32647\"},{\"id\":\"32651\"}],\"frame_height\":200,\"frame_width\":200,\"left\":[{\"id\":\"32648\"}],\"renderers\":[{\"id\":\"32656\"},{\"id\":\"32661\"},{\"id\":\"32666\"},{\"id\":\"32671\"},{\"id\":\"32676\"},{\"id\":\"32681\"},{\"id\":\"32686\"},{\"id\":\"32691\"},{\"id\":\"32696\"},{\"id\":\"32701\"}],\"title\":{\"id\":\"32634\"},\"toolbar\":{\"id\":\"32652\"},\"x_range\":{\"id\":\"32636\"},\"x_scale\":{\"id\":\"32640\"},\"y_range\":{\"id\":\"32638\"},\"y_scale\":{\"id\":\"32642\"}},\"id\":\"32633\",\"subtype\":\"Figure\",\"type\":\"Plot\"},{\"attributes\":{\"active_drag\":\"auto\",\"active_inspect\":\"auto\",\"active_multi\":null,\"active_scroll\":\"auto\",\"active_tap\":\"auto\"},\"id\":\"32582\",\"type\":\"Toolbar\"},{\"attributes\":{\"line_alpha\":0.1,\"line_color\":\"orange\",\"x\":{\"field\":\"x\"},\"y\":{\"field\":\"y\"}},\"id\":\"32620\",\"type\":\"Line\"},{\"attributes\":{\"data_source\":{\"id\":\"32628\"},\"glyph\":{\"id\":\"32629\"},\"hover_glyph\":null,\"muted_glyph\":null,\"nonselection_glyph\":{\"id\":\"32630\"},\"selection_glyph\":null,\"view\":{\"id\":\"32632\"}},\"id\":\"32631\",\"type\":\"GlyphRenderer\"},{\"attributes\":{\"fill_alpha\":0.2,\"fill_color\":\"orange\",\"x\":{\"field\":\"x\"},\"y1\":{\"field\":\"y1\"},\"y2\":{\"field\":\"y2\"}},\"id\":\"32629\",\"type\":\"VArea\"},{\"attributes\":{\"line_color\":\"orange\",\"x\":{\"field\":\"x\"},\"y\":{\"field\":\"y\"}},\"id\":\"32624\",\"type\":\"Line\"},{\"attributes\":{\"data_source\":{\"id\":\"32593\"},\"glyph\":{\"id\":\"32594\"},\"hover_glyph\":null,\"muted_glyph\":null,\"nonselection_glyph\":{\"id\":\"32595\"},\"selection_glyph\":null,\"view\":{\"id\":\"32597\"}},\"id\":\"32596\",\"type\":\"GlyphRenderer\"},{\"attributes\":{\"line_alpha\":0.1,\"line_color\":\"orange\",\"x\":{\"field\":\"x\"},\"y\":{\"field\":\"y\"}},\"id\":\"32625\",\"type\":\"Line\"},{\"attributes\":{\"fill_alpha\":0.2,\"fill_color\":\"orange\",\"x\":{\"field\":\"x\"},\"y1\":{\"field\":\"y1\"},\"y2\":{\"field\":\"y2\"}},\"id\":\"32599\",\"type\":\"VArea\"},{\"attributes\":{\"data\":{\"x\":[0.95,0.95],\"y\":[0,1.2174642200413328]},\"selected\":{\"id\":\"34576\"},\"selection_policy\":{\"id\":\"34577\"}},\"id\":\"32623\",\"type\":\"ColumnDataSource\"},{\"attributes\":{\"line_color\":\"orange\",\"x\":{\"field\":\"x\"},\"y\":{\"field\":\"y\"}},\"id\":\"32619\",\"type\":\"Line\"},{\"attributes\":{\"source\":{\"id\":\"32618\"}},\"id\":\"32622\",\"type\":\"CDSView\"},{\"attributes\":{},\"id\":\"34577\",\"type\":\"UnionRenderers\"},{\"attributes\":{\"line_alpha\":0.1,\"line_color\":\"orange\",\"x\":{\"field\":\"x\"},\"y\":{\"field\":\"y\"}},\"id\":\"32605\",\"type\":\"Line\"},{\"attributes\":{\"bottom\":{\"value\":0},\"fill_alpha\":{\"value\":0.5},\"fill_color\":{\"value\":\"navy\"},\"left\":{\"field\":\"left\"},\"line_alpha\":{\"value\":0.5},\"line_color\":{\"value\":\"white\"},\"right\":{\"field\":\"right\"},\"top\":{\"field\":\"top\"}},\"id\":\"32584\",\"type\":\"Quad\"},{\"attributes\":{\"data\":{\"x\":[0.85,0.95],\"y1\":[0,0],\"y2\":[1.2174642200413328,1.2174642200413328]},\"selected\":{\"id\":\"34578\"},\"selection_policy\":{\"id\":\"34579\"}},\"id\":\"32628\",\"type\":\"ColumnDataSource\"},{\"attributes\":{},\"id\":\"34578\",\"type\":\"Selection\"},{\"attributes\":{\"source\":{\"id\":\"32588\"}},\"id\":\"32592\",\"type\":\"CDSView\"},{\"attributes\":{},\"id\":\"34576\",\"type\":\"Selection\"},{\"attributes\":{\"axis\":{\"id\":\"32578\"},\"dimension\":1,\"ticker\":null},\"id\":\"32581\",\"type\":\"Grid\"},{\"attributes\":{\"data_source\":{\"id\":\"32583\"},\"glyph\":{\"id\":\"32584\"},\"hover_glyph\":null,\"muted_glyph\":null,\"nonselection_glyph\":{\"id\":\"32585\"},\"selection_glyph\":null,\"view\":{\"id\":\"32587\"}},\"id\":\"32586\",\"type\":\"GlyphRenderer\"},{\"attributes\":{},\"id\":\"34575\",\"type\":\"UnionRenderers\"},{\"attributes\":{\"fill_alpha\":0.2,\"fill_color\":\"orange\",\"x\":{\"field\":\"x\"},\"y1\":{\"field\":\"y1\"},\"y2\":{\"field\":\"y2\"}},\"id\":\"32559\",\"type\":\"VArea\"},{\"attributes\":{\"data_source\":{\"id\":\"32598\"},\"glyph\":{\"id\":\"32599\"},\"hover_glyph\":null,\"muted_glyph\":null,\"nonselection_glyph\":{\"id\":\"32600\"},\"selection_glyph\":null,\"view\":{\"id\":\"32602\"}},\"id\":\"32601\",\"type\":\"GlyphRenderer\"},{\"attributes\":{\"data_source\":{\"id\":\"32588\"},\"glyph\":{\"id\":\"32589\"},\"hover_glyph\":null,\"muted_glyph\":null,\"nonselection_glyph\":{\"id\":\"32590\"},\"selection_glyph\":null,\"view\":{\"id\":\"32592\"}},\"id\":\"32591\",\"type\":\"GlyphRenderer\"},{\"attributes\":{\"data\":{\"x\":[-0.05,-0.05],\"y\":[0,1.2174642200413328]},\"selected\":{\"id\":\"34562\"},\"selection_policy\":{\"id\":\"34563\"}},\"id\":\"32588\",\"type\":\"ColumnDataSource\"},{\"attributes\":{},\"id\":\"34572\",\"type\":\"Selection\"},{\"attributes\":{\"data\":{\"x\":[0.05,0.05],\"y\":[0,1.2174642200413328]},\"selected\":{\"id\":\"34564\"},\"selection_policy\":{\"id\":\"34565\"}},\"id\":\"32593\",\"type\":\"ColumnDataSource\"},{\"attributes\":{\"line_color\":\"orange\",\"x\":{\"field\":\"x\"},\"y\":{\"field\":\"y\"}},\"id\":\"32589\",\"type\":\"Line\"},{\"attributes\":{\"source\":{\"id\":\"32593\"}},\"id\":\"32597\",\"type\":\"CDSView\"},{\"attributes\":{\"line_color\":\"orange\",\"x\":{\"field\":\"x\"},\"y\":{\"field\":\"y\"}},\"id\":\"32594\",\"type\":\"Line\"},{\"attributes\":{},\"id\":\"34573\",\"type\":\"UnionRenderers\"},{\"attributes\":{\"line_alpha\":0.1,\"line_color\":\"orange\",\"x\":{\"field\":\"x\"},\"y\":{\"field\":\"y\"}},\"id\":\"32590\",\"type\":\"Line\"},{\"attributes\":{\"line_color\":\"orange\",\"x\":{\"field\":\"x\"},\"y\":{\"field\":\"y\"}},\"id\":\"32604\",\"type\":\"Line\"},{\"attributes\":{},\"id\":\"32566\",\"type\":\"DataRange1d\"},{\"attributes\":{},\"id\":\"34571\",\"type\":\"UnionRenderers\"},{\"attributes\":{},\"id\":\"32568\",\"type\":\"DataRange1d\"},{\"attributes\":{\"line_alpha\":0.1,\"line_color\":\"orange\",\"x\":{\"field\":\"x\"},\"y\":{\"field\":\"y\"}},\"id\":\"32610\",\"type\":\"Line\"},{\"attributes\":{},\"id\":\"34579\",\"type\":\"UnionRenderers\"},{\"attributes\":{\"data\":{\"x\":[0.85,0.95],\"y1\":[0,0],\"y2\":[1.3076690713582944,1.3076690713582944]},\"selected\":{\"id\":\"34558\"},\"selection_policy\":{\"id\":\"34559\"}},\"id\":\"32558\",\"type\":\"ColumnDataSource\"},{\"attributes\":{\"fill_alpha\":0.1,\"fill_color\":\"orange\",\"x\":{\"field\":\"x\"},\"y1\":{\"field\":\"y1\"},\"y2\":{\"field\":\"y2\"}},\"id\":\"32560\",\"type\":\"VArea\"},{\"attributes\":{},\"id\":\"34570\",\"type\":\"Selection\"},{\"attributes\":{},\"id\":\"34497\",\"type\":\"BasicTickFormatter\"},{\"attributes\":{},\"id\":\"34499\",\"type\":\"BasicTickFormatter\"},{\"attributes\":{},\"id\":\"34502\",\"type\":\"Selection\"},{\"attributes\":{},\"id\":\"34503\",\"type\":\"UnionRenderers\"},{\"attributes\":{},\"id\":\"34491\",\"type\":\"BasicTickFormatter\"},{\"attributes\":{},\"id\":\"34500\",\"type\":\"Selection\"},{\"attributes\":{},\"id\":\"32358\",\"type\":\"DataRange1d\"},{\"attributes\":{},\"id\":\"34501\",\"type\":\"UnionRenderers\"},{\"attributes\":{},\"id\":\"34493\",\"type\":\"BasicTickFormatter\"},{\"attributes\":{\"axis\":{\"id\":\"32438\"},\"dimension\":1,\"ticker\":null},\"id\":\"32441\",\"type\":\"Grid\"},{\"attributes\":{},\"id\":\"32439\",\"type\":\"BasicTicker\"},{\"attributes\":{\"data\":{\"x\":[0.05,0.05],\"y\":[0,1.568856741631036]},\"selected\":{\"id\":\"34524\"},\"selection_policy\":{\"id\":\"34525\"}},\"id\":\"32453\",\"type\":\"ColumnDataSource\"},{\"attributes\":{\"axis_label\":\"density\",\"formatter\":{\"id\":\"34485\"},\"ticker\":{\"id\":\"32439\"}},\"id\":\"32438\",\"type\":\"LinearAxis\"},{\"attributes\":{\"source\":{\"id\":\"32528\"}},\"id\":\"32532\",\"type\":\"CDSView\"},{\"attributes\":{\"text\":\"mutations = 3\"},\"id\":\"32424\",\"type\":\"Title\"},{\"attributes\":{\"fill_alpha\":0.2,\"fill_color\":\"orange\",\"x\":{\"field\":\"x\"},\"y1\":{\"field\":\"y1\"},\"y2\":{\"field\":\"y2\"}},\"id\":\"32459\",\"type\":\"VArea\"},{\"attributes\":{\"line_alpha\":0.1,\"line_color\":\"orange\",\"x\":{\"field\":\"x\"},\"y\":{\"field\":\"y\"}},\"id\":\"32455\",\"type\":\"Line\"},{\"attributes\":{\"line_alpha\":0.1,\"line_color\":\"orange\",\"x\":{\"field\":\"x\"},\"y\":{\"field\":\"y\"}},\"id\":\"32410\",\"type\":\"Line\"},{\"attributes\":{\"data\":{\"x\":[0.85,0.95],\"y1\":[0,0],\"y2\":[2.1141620442627715,2.1141620442627715]},\"selected\":{\"id\":\"34518\"},\"selection_policy\":{\"id\":\"34519\"}},\"id\":\"32418\",\"type\":\"ColumnDataSource\"},{\"attributes\":{\"data_source\":{\"id\":\"32458\"},\"glyph\":{\"id\":\"32459\"},\"hover_glyph\":null,\"muted_glyph\":null,\"nonselection_glyph\":{\"id\":\"32460\"},\"selection_glyph\":null,\"view\":{\"id\":\"32462\"}},\"id\":\"32461\",\"type\":\"GlyphRenderer\"},{\"attributes\":{\"fill_alpha\":0.1,\"fill_color\":\"orange\",\"x\":{\"field\":\"x\"},\"y1\":{\"field\":\"y1\"},\"y2\":{\"field\":\"y2\"}},\"id\":\"32530\",\"type\":\"VArea\"},{\"attributes\":{},\"id\":\"34481\",\"type\":\"BasicTickFormatter\"},{\"attributes\":{\"data_source\":{\"id\":\"32448\"},\"glyph\":{\"id\":\"32449\"},\"hover_glyph\":null,\"muted_glyph\":null,\"nonselection_glyph\":{\"id\":\"32450\"},\"selection_glyph\":null,\"view\":{\"id\":\"32452\"}},\"id\":\"32451\",\"type\":\"GlyphRenderer\"},{\"attributes\":{},\"id\":\"32428\",\"type\":\"DataRange1d\"},{\"attributes\":{},\"id\":\"34548\",\"type\":\"Selection\"},{\"attributes\":{\"fill_alpha\":0.2,\"fill_color\":\"orange\",\"x\":{\"field\":\"x\"},\"y1\":{\"field\":\"y1\"},\"y2\":{\"field\":\"y2\"}},\"id\":\"32404\",\"type\":\"VArea\"},{\"attributes\":{\"data_source\":{\"id\":\"32443\"},\"glyph\":{\"id\":\"32444\"},\"hover_glyph\":null,\"muted_glyph\":null,\"nonselection_glyph\":{\"id\":\"32445\"},\"selection_glyph\":null,\"view\":{\"id\":\"32447\"}},\"id\":\"32446\",\"type\":\"GlyphRenderer\"},{\"attributes\":{\"data_source\":{\"id\":\"32453\"},\"glyph\":{\"id\":\"32454\"},\"hover_glyph\":null,\"muted_glyph\":null,\"nonselection_glyph\":{\"id\":\"32455\"},\"selection_glyph\":null,\"view\":{\"id\":\"32457\"}},\"id\":\"32456\",\"type\":\"GlyphRenderer\"},{\"attributes\":{\"data_source\":{\"id\":\"32473\"},\"glyph\":{\"id\":\"32474\"},\"hover_glyph\":null,\"muted_glyph\":null,\"nonselection_glyph\":{\"id\":\"32475\"},\"selection_glyph\":null,\"view\":{\"id\":\"32477\"}},\"id\":\"32476\",\"type\":\"GlyphRenderer\"},{\"attributes\":{\"line_alpha\":0.1,\"line_color\":\"orange\",\"x\":{\"field\":\"x\"},\"y\":{\"field\":\"y\"}},\"id\":\"32400\",\"type\":\"Line\"},{\"attributes\":{},\"id\":\"34549\",\"type\":\"UnionRenderers\"},{\"attributes\":{\"data\":{\"x\":[0.95,0.95],\"y\":[0,2.1141620442627715]},\"selected\":{\"id\":\"34516\"},\"selection_policy\":{\"id\":\"34517\"}},\"id\":\"32413\",\"type\":\"ColumnDataSource\"},{\"attributes\":{\"line_color\":\"orange\",\"x\":{\"field\":\"x\"},\"y\":{\"field\":\"y\"}},\"id\":\"32449\",\"type\":\"Line\"},{\"attributes\":{\"source\":{\"id\":\"32408\"}},\"id\":\"32412\",\"type\":\"CDSView\"},{\"attributes\":{\"line_color\":\"orange\",\"x\":{\"field\":\"x\"},\"y\":{\"field\":\"y\"}},\"id\":\"32399\",\"type\":\"Line\"},{\"attributes\":{\"source\":{\"id\":\"32458\"}},\"id\":\"32462\",\"type\":\"CDSView\"},{\"attributes\":{\"source\":{\"id\":\"32443\"}},\"id\":\"32447\",\"type\":\"CDSView\"},{\"attributes\":{\"data\":{\"x\":[-0.05,0.05],\"y1\":[0,0],\"y2\":[1.568856741631036,1.568856741631036]},\"selected\":{\"id\":\"34526\"},\"selection_policy\":{\"id\":\"34527\"}},\"id\":\"32458\",\"type\":\"ColumnDataSource\"},{\"attributes\":{\"data\":{\"x\":[0.4,0.4],\"y\":[0,1.568856741631036]},\"selected\":{\"id\":\"34528\"},\"selection_policy\":{\"id\":\"34529\"}},\"id\":\"32463\",\"type\":\"ColumnDataSource\"},{\"attributes\":{\"data\":{\"x\":[0.85,0.85],\"y\":[0,2.1141620442627715]},\"selected\":{\"id\":\"34514\"},\"selection_policy\":{\"id\":\"34515\"}},\"id\":\"32408\",\"type\":\"ColumnDataSource\"},{\"attributes\":{},\"id\":\"34553\",\"type\":\"UnionRenderers\"},{\"attributes\":{\"data_source\":{\"id\":\"32398\"},\"glyph\":{\"id\":\"32399\"},\"hover_glyph\":null,\"muted_glyph\":null,\"nonselection_glyph\":{\"id\":\"32400\"},\"selection_glyph\":null,\"view\":{\"id\":\"32402\"}},\"id\":\"32401\",\"type\":\"GlyphRenderer\"},{\"attributes\":{\"axis\":{\"id\":\"32434\"},\"ticker\":null},\"id\":\"32437\",\"type\":\"Grid\"},{\"attributes\":{\"source\":{\"id\":\"32413\"}},\"id\":\"32417\",\"type\":\"CDSView\"},{\"attributes\":{\"background_fill_color\":\"#fafafa\",\"below\":[{\"id\":\"32504\"}],\"center\":[{\"id\":\"32507\"},{\"id\":\"32511\"}],\"frame_height\":200,\"frame_width\":200,\"left\":[{\"id\":\"32508\"}],\"renderers\":[{\"id\":\"32516\"},{\"id\":\"32521\"},{\"id\":\"32526\"},{\"id\":\"32531\"},{\"id\":\"32536\"},{\"id\":\"32541\"},{\"id\":\"32546\"},{\"id\":\"32551\"},{\"id\":\"32556\"},{\"id\":\"32561\"}],\"title\":{\"id\":\"32494\"},\"toolbar\":{\"id\":\"32512\"},\"x_range\":{\"id\":\"32496\"},\"x_scale\":{\"id\":\"32500\"},\"y_range\":{\"id\":\"32498\"},\"y_scale\":{\"id\":\"32502\"}},\"id\":\"32493\",\"subtype\":\"Figure\",\"type\":\"Plot\"},{\"attributes\":{},\"id\":\"34546\",\"type\":\"Selection\"},{\"attributes\":{\"source\":{\"id\":\"32398\"}},\"id\":\"32402\",\"type\":\"CDSView\"},{\"attributes\":{\"data_source\":{\"id\":\"32413\"},\"glyph\":{\"id\":\"32414\"},\"hover_glyph\":null,\"muted_glyph\":null,\"nonselection_glyph\":{\"id\":\"32415\"},\"selection_glyph\":null,\"view\":{\"id\":\"32417\"}},\"id\":\"32416\",\"type\":\"GlyphRenderer\"},{\"attributes\":{\"active_drag\":\"auto\",\"active_inspect\":\"auto\",\"active_multi\":null,\"active_scroll\":\"auto\",\"active_tap\":\"auto\"},\"id\":\"32442\",\"type\":\"Toolbar\"},{\"attributes\":{\"fill_alpha\":0.2,\"fill_color\":\"orange\",\"x\":{\"field\":\"x\"},\"y1\":{\"field\":\"y1\"},\"y2\":{\"field\":\"y2\"}},\"id\":\"32529\",\"type\":\"VArea\"},{\"attributes\":{},\"id\":\"32432\",\"type\":\"LinearScale\"},{\"attributes\":{\"data\":{\"x\":[-0.05,0.05],\"y1\":[0,0],\"y2\":[1.3076690713582944,1.3076690713582944]},\"selected\":{\"id\":\"34546\"},\"selection_policy\":{\"id\":\"34547\"}},\"id\":\"32528\",\"type\":\"ColumnDataSource\"},{\"attributes\":{\"fill_alpha\":0.1,\"fill_color\":\"orange\",\"x\":{\"field\":\"x\"},\"y1\":{\"field\":\"y1\"},\"y2\":{\"field\":\"y2\"}},\"id\":\"32405\",\"type\":\"VArea\"},{\"attributes\":{\"data\":{\"x\":[0.4,0.5],\"y1\":[0,0],\"y2\":[2.1141620442627715,2.1141620442627715]},\"selected\":{\"id\":\"34512\"},\"selection_policy\":{\"id\":\"34513\"}},\"id\":\"32403\",\"type\":\"ColumnDataSource\"},{\"attributes\":{\"source\":{\"id\":\"32453\"}},\"id\":\"32457\",\"type\":\"CDSView\"},{\"attributes\":{\"axis_label\":\"\\u0394E [k_BT]\",\"formatter\":{\"id\":\"34487\"},\"ticker\":{\"id\":\"32435\"}},\"id\":\"32434\",\"type\":\"LinearAxis\"},{\"attributes\":{\"fill_alpha\":0.2,\"fill_color\":\"orange\",\"x\":{\"field\":\"x\"},\"y1\":{\"field\":\"y1\"},\"y2\":{\"field\":\"y2\"}},\"id\":\"32419\",\"type\":\"VArea\"},{\"attributes\":{},\"id\":\"34551\",\"type\":\"UnionRenderers\"},{\"attributes\":{\"line_color\":\"orange\",\"x\":{\"field\":\"x\"},\"y\":{\"field\":\"y\"}},\"id\":\"32454\",\"type\":\"Line\"},{\"attributes\":{\"data\":{\"x\":[0.4,0.4],\"y\":[0,1.3076690713582944]},\"selected\":{\"id\":\"34548\"},\"selection_policy\":{\"id\":\"34549\"}},\"id\":\"32533\",\"type\":\"ColumnDataSource\"},{\"attributes\":{\"line_alpha\":0.1,\"line_color\":\"orange\",\"x\":{\"field\":\"x\"},\"y\":{\"field\":\"y\"}},\"id\":\"32415\",\"type\":\"Line\"},{\"attributes\":{\"source\":{\"id\":\"32393\"}},\"id\":\"32397\",\"type\":\"CDSView\"},{\"attributes\":{},\"id\":\"32435\",\"type\":\"BasicTicker\"},{\"attributes\":{},\"id\":\"32426\",\"type\":\"DataRange1d\"},{\"attributes\":{},\"id\":\"34547\",\"type\":\"UnionRenderers\"},{\"attributes\":{\"data_source\":{\"id\":\"32418\"},\"glyph\":{\"id\":\"32419\"},\"hover_glyph\":null,\"muted_glyph\":null,\"nonselection_glyph\":{\"id\":\"32420\"},\"selection_glyph\":null,\"view\":{\"id\":\"32422\"}},\"id\":\"32421\",\"type\":\"GlyphRenderer\"},{\"attributes\":{},\"id\":\"32430\",\"type\":\"LinearScale\"},{\"attributes\":{\"data_source\":{\"id\":\"32463\"},\"glyph\":{\"id\":\"32464\"},\"hover_glyph\":null,\"muted_glyph\":null,\"nonselection_glyph\":{\"id\":\"32465\"},\"selection_glyph\":null,\"view\":{\"id\":\"32467\"}},\"id\":\"32466\",\"type\":\"GlyphRenderer\"},{\"attributes\":{\"bottom\":{\"value\":0},\"fill_alpha\":{\"value\":0.5},\"fill_color\":{\"value\":\"navy\"},\"left\":{\"field\":\"left\"},\"line_alpha\":{\"value\":0.5},\"line_color\":{\"value\":\"white\"},\"right\":{\"field\":\"right\"},\"top\":{\"field\":\"top\"}},\"id\":\"32444\",\"type\":\"Quad\"},{\"attributes\":{\"fill_alpha\":0.1,\"fill_color\":\"orange\",\"x\":{\"field\":\"x\"},\"y1\":{\"field\":\"y1\"},\"y2\":{\"field\":\"y2\"}},\"id\":\"32420\",\"type\":\"VArea\"},{\"attributes\":{\"data\":{\"x\":[-0.05,-0.05],\"y\":[0,1.568856741631036]},\"selected\":{\"id\":\"34522\"},\"selection_policy\":{\"id\":\"34523\"}},\"id\":\"32448\",\"type\":\"ColumnDataSource\"},{\"attributes\":{\"source\":{\"id\":\"32448\"}},\"id\":\"32452\",\"type\":\"CDSView\"},{\"attributes\":{\"data\":{\"x\":[0.5,0.5],\"y\":[0,2.1141620442627715]},\"selected\":{\"id\":\"34510\"},\"selection_policy\":{\"id\":\"34511\"}},\"id\":\"32398\",\"type\":\"ColumnDataSource\"},{\"attributes\":{\"line_color\":\"orange\",\"x\":{\"field\":\"x\"},\"y\":{\"field\":\"y\"}},\"id\":\"32409\",\"type\":\"Line\"},{\"attributes\":{\"line_color\":\"orange\",\"x\":{\"field\":\"x\"},\"y\":{\"field\":\"y\"}},\"id\":\"32414\",\"type\":\"Line\"},{\"attributes\":{\"fill_alpha\":0.1,\"fill_color\":\"orange\",\"x\":{\"field\":\"x\"},\"y1\":{\"field\":\"y1\"},\"y2\":{\"field\":\"y2\"}},\"id\":\"32460\",\"type\":\"VArea\"},{\"attributes\":{\"data_source\":{\"id\":\"32543\"},\"glyph\":{\"id\":\"32544\"},\"hover_glyph\":null,\"muted_glyph\":null,\"nonselection_glyph\":{\"id\":\"32545\"},\"selection_glyph\":null,\"view\":{\"id\":\"32547\"}},\"id\":\"32546\",\"type\":\"GlyphRenderer\"},{\"attributes\":{},\"id\":\"34485\",\"type\":\"BasicTickFormatter\"},{\"attributes\":{\"data_source\":{\"id\":\"32533\"},\"glyph\":{\"id\":\"32534\"},\"hover_glyph\":null,\"muted_glyph\":null,\"nonselection_glyph\":{\"id\":\"32535\"},\"selection_glyph\":null,\"view\":{\"id\":\"32537\"}},\"id\":\"32536\",\"type\":\"GlyphRenderer\"},{\"attributes\":{},\"id\":\"32360\",\"type\":\"LinearScale\"},{\"attributes\":{\"source\":{\"id\":\"32403\"}},\"id\":\"32407\",\"type\":\"CDSView\"},{\"attributes\":{\"data_source\":{\"id\":\"32528\"},\"glyph\":{\"id\":\"32529\"},\"hover_glyph\":null,\"muted_glyph\":null,\"nonselection_glyph\":{\"id\":\"32530\"},\"selection_glyph\":null,\"view\":{\"id\":\"32532\"}},\"id\":\"32531\",\"type\":\"GlyphRenderer\"},{\"attributes\":{},\"id\":\"34552\",\"type\":\"Selection\"},{\"attributes\":{},\"id\":\"34483\",\"type\":\"BasicTickFormatter\"},{\"attributes\":{\"data\":{\"left\":{\"__ndarray__\":\"GowRiULLwL++8UERg6e5v0jLYBCBuLG/pEn/Hv6So7/A5efp0Kd9v2igCskTUpg/IJ1H5g0HrD8G9QT0iPK1P3wb5vSK4b0/+qDjekbowj80NFR7x9/GP27HxHtI18o/qlo1fMnOzj/z9lI+JWPRP5BAi77lXtM/LYrDPqZa1T/L0/u+ZlbXP2kdND8nUtk/B2dsv+dN2z+jsKQ/qEndP0H63L9oRd8/8KEKoJSg4D++xibgdJ7hP4zrQiBVnOI/XBBfYDWa4z8qNXugFZjkP/pZl+D1leU/yH6zINaT5j+Wo89gtpHnP2bI66CWj+g/NO0H4XaN6T8CEiQhV4vqP9I2QGE3ies/oFtcoReH7D9wgHjh94TtPz6llCHYgu4/DsqwYbiA7z9ud+ZQTD/wP9WJ9HA8vvA/PZwCkSw98T+krhCxHLzxPwvBHtEMO/I/c9Ms8fy58j/a5ToR7TjzP0H4SDHdt/M/qQpXUc029D8QHWVxvbX0P3gvc5GtNPU/30GBsZ2z9T9GVI/RjTL2Pw==\",\"dtype\":\"float64\",\"shape\":[50]},\"right\":{\"__ndarray__\":\"vvFBEYOnub9Iy2AQgbixv6RJ/x7+kqO/wOXn6dCnfb9ooArJE1KYPyCdR+YNB6w/BvUE9IjytT98G+b0iuG9P/qg43pG6MI/NDRUe8ffxj9ux8R7SNfKP6paNXzJzs4/8/ZSPiVj0T+QQIu+5V7TPy2Kwz6mWtU/y9P7vmZW1z9pHTQ/J1LZPwdnbL/nTds/o7CkP6hJ3T9B+ty/aEXfP/ChCqCUoOA/vsYm4HSe4T+M60IgVZziP1wQX2A1muM/KjV7oBWY5D/6WZfg9ZXlP8h+syDWk+Y/lqPPYLaR5z9myOuglo/oPzTtB+F2jek/AhIkIVeL6j/SNkBhN4nrP6BbXKEXh+w/cIB44feE7T8+pZQh2ILuPw7KsGG4gO8/bnfmUEw/8D/VifRwPL7wPz2cApEsPfE/pK4QsRy88T8LwR7RDDvyP3PTLPH8ufI/2uU6Ee048z9B+Egx3bfzP6kKV1HNNvQ/EB1lcb219D94L3ORrTT1P99BgbGds/U/RlSP0Y0y9j+uZp3xfbH2Pw==\",\"dtype\":\"float64\",\"shape\":[50]},\"top\":{\"__ndarray__\":\"ytPcOq4ceT/kTlpKcLhfP5XCzUhDD58/7YmRMaAlpT/aZi7xVPu0P4qoX16zyMM/tn43ae5oyD+znY3bYf7VP8Vpo+4Ludo/0TXADdHP4T9B5NuhWEXlP1gAtgr6wOo/b2hH+7po7j+tzPhdhw3xPxKuKjF0avI/Z4Abop+r8z8ZvJflRCj1PxT4OV2y2vU/LY4AERB39z++R3ZtSan3Pzb8qDwiLPg/Dbv/FCRR+D//2B/IDsz4P3ih1oYJGvk/N6yC1ZKu9z9SemZ45lr2P5naoe8nUvQ/JheQzyVw8z8YgSstYJDxP4WuSVkhRO8/YA+VWyMg6z+WZZYgNCToPxuy1e2zQuU/5i/PBkj44z+xvbf7xfHgP6lQAqZRdNo/OiX9g/Yt1j+DOhlEOdDSPzYTqTUWEdA//FdPoCucxD8MqrRF6by9PzSdBZYBDLc/HUBGKJIusT+U12HDJb+sP0rM0im/16E/uZBW5hlboD+rQ8uwCdGUP41HUDmBc4g/HUBGKJIugT8Nu8M3VMpnPw==\",\"dtype\":\"float64\",\"shape\":[50]}},\"selected\":{\"id\":\"34520\"},\"selection_policy\":{\"id\":\"34521\"}},\"id\":\"32443\",\"type\":\"ColumnDataSource\"},{\"attributes\":{},\"id\":\"34550\",\"type\":\"Selection\"},{\"attributes\":{\"bottom\":{\"value\":0},\"fill_alpha\":{\"value\":0.1},\"fill_color\":{\"value\":\"navy\"},\"left\":{\"field\":\"left\"},\"line_alpha\":{\"value\":0.1},\"line_color\":{\"value\":\"white\"},\"right\":{\"field\":\"right\"},\"top\":{\"field\":\"top\"}},\"id\":\"32445\",\"type\":\"Quad\"},{\"attributes\":{\"line_alpha\":0.1,\"line_color\":\"orange\",\"x\":{\"field\":\"x\"},\"y\":{\"field\":\"y\"}},\"id\":\"32450\",\"type\":\"Line\"},{\"attributes\":{\"source\":{\"id\":\"32418\"}},\"id\":\"32422\",\"type\":\"CDSView\"},{\"attributes\":{\"data_source\":{\"id\":\"32408\"},\"glyph\":{\"id\":\"32409\"},\"hover_glyph\":null,\"muted_glyph\":null,\"nonselection_glyph\":{\"id\":\"32410\"},\"selection_glyph\":null,\"view\":{\"id\":\"32412\"}},\"id\":\"32411\",\"type\":\"GlyphRenderer\"},{\"attributes\":{\"line_color\":\"orange\",\"x\":{\"field\":\"x\"},\"y\":{\"field\":\"y\"}},\"id\":\"32694\",\"type\":\"Line\"},{\"attributes\":{\"data_source\":{\"id\":\"32698\"},\"glyph\":{\"id\":\"32699\"},\"hover_glyph\":null,\"muted_glyph\":null,\"nonselection_glyph\":{\"id\":\"32700\"},\"selection_glyph\":null,\"view\":{\"id\":\"32702\"}},\"id\":\"32701\",\"type\":\"GlyphRenderer\"},{\"attributes\":{\"axis\":{\"id\":\"32648\"},\"dimension\":1,\"ticker\":null},\"id\":\"32651\",\"type\":\"Grid\"},{\"attributes\":{\"fill_alpha\":0.1,\"fill_color\":\"orange\",\"x\":{\"field\":\"x\"},\"y1\":{\"field\":\"y1\"},\"y2\":{\"field\":\"y2\"}},\"id\":\"32670\",\"type\":\"VArea\"},{\"attributes\":{\"active_drag\":\"auto\",\"active_inspect\":\"auto\",\"active_multi\":null,\"active_scroll\":\"auto\",\"active_tap\":\"auto\"},\"id\":\"32652\",\"type\":\"Toolbar\"},{\"attributes\":{\"data\":{\"x\":[0.85,0.85],\"y\":[0,1.1247420558373733]},\"selected\":{\"id\":\"34594\"},\"selection_policy\":{\"id\":\"34595\"}},\"id\":\"32688\",\"type\":\"ColumnDataSource\"},{\"attributes\":{\"fill_alpha\":0.2,\"fill_color\":\"orange\",\"x\":{\"field\":\"x\"},\"y1\":{\"field\":\"y1\"},\"y2\":{\"field\":\"y2\"}},\"id\":\"32669\",\"type\":\"VArea\"},{\"attributes\":{},\"id\":\"34487\",\"type\":\"BasicTickFormatter\"},{\"attributes\":{\"line_color\":\"orange\",\"x\":{\"field\":\"x\"},\"y\":{\"field\":\"y\"}},\"id\":\"32674\",\"type\":\"Line\"},{\"attributes\":{\"line_color\":\"orange\",\"x\":{\"field\":\"x\"},\"y\":{\"field\":\"y\"}},\"id\":\"32659\",\"type\":\"Line\"},{\"attributes\":{},\"id\":\"34504\",\"type\":\"Selection\"},{\"attributes\":{},\"id\":\"34489\",\"type\":\"BasicTickFormatter\"},{\"attributes\":{},\"id\":\"32649\",\"type\":\"BasicTicker\"},{\"attributes\":{},\"id\":\"32640\",\"type\":\"LinearScale\"},{\"attributes\":{\"data\":{\"x\":[0.95,0.95],\"y\":[0,1.1247420558373733]},\"selected\":{\"id\":\"34596\"},\"selection_policy\":{\"id\":\"34597\"}},\"id\":\"32693\",\"type\":\"ColumnDataSource\"},{\"attributes\":{},\"id\":\"32638\",\"type\":\"DataRange1d\"},{\"attributes\":{\"line_color\":\"orange\",\"x\":{\"field\":\"x\"},\"y\":{\"field\":\"y\"}},\"id\":\"32679\",\"type\":\"Line\"},{\"attributes\":{\"data_source\":{\"id\":\"32688\"},\"glyph\":{\"id\":\"32689\"},\"hover_glyph\":null,\"muted_glyph\":null,\"nonselection_glyph\":{\"id\":\"32690\"},\"selection_glyph\":null,\"view\":{\"id\":\"32692\"}},\"id\":\"32691\",\"type\":\"GlyphRenderer\"},{\"attributes\":{\"data_source\":{\"id\":\"32663\"},\"glyph\":{\"id\":\"32664\"},\"hover_glyph\":null,\"muted_glyph\":null,\"nonselection_glyph\":{\"id\":\"32665\"},\"selection_glyph\":null,\"view\":{\"id\":\"32667\"}},\"id\":\"32666\",\"type\":\"GlyphRenderer\"},{\"attributes\":{\"line_alpha\":0.1,\"line_color\":\"orange\",\"x\":{\"field\":\"x\"},\"y\":{\"field\":\"y\"}},\"id\":\"32665\",\"type\":\"Line\"},{\"attributes\":{\"line_alpha\":0.1,\"line_color\":\"orange\",\"x\":{\"field\":\"x\"},\"y\":{\"field\":\"y\"}},\"id\":\"32695\",\"type\":\"Line\"},{\"attributes\":{\"source\":{\"id\":\"32668\"}},\"id\":\"32672\",\"type\":\"CDSView\"},{\"attributes\":{\"fill_alpha\":0.1,\"fill_color\":\"orange\",\"x\":{\"field\":\"x\"},\"y1\":{\"field\":\"y1\"},\"y2\":{\"field\":\"y2\"}},\"id\":\"32685\",\"type\":\"VArea\"},{\"attributes\":{},\"id\":\"32645\",\"type\":\"BasicTicker\"},{\"attributes\":{},\"id\":\"34507\",\"type\":\"UnionRenderers\"},{\"attributes\":{\"axis_label\":\"\\u0394E [k_BT]\",\"formatter\":{\"id\":\"34499\"},\"ticker\":{\"id\":\"32645\"}},\"id\":\"32644\",\"type\":\"LinearAxis\"},{\"attributes\":{},\"id\":\"34511\",\"type\":\"UnionRenderers\"},{\"attributes\":{\"data_source\":{\"id\":\"32678\"},\"glyph\":{\"id\":\"32679\"},\"hover_glyph\":null,\"muted_glyph\":null,\"nonselection_glyph\":{\"id\":\"32680\"},\"selection_glyph\":null,\"view\":{\"id\":\"32682\"}},\"id\":\"32681\",\"type\":\"GlyphRenderer\"},{\"attributes\":{\"axis_label\":\"\\u0394E [k_BT]\",\"formatter\":{\"id\":\"34483\"},\"ticker\":{\"id\":\"32365\"}},\"id\":\"32364\",\"type\":\"LinearAxis\"},{\"attributes\":{\"data\":{\"left\":{\"__ndarray__\":\"9GxWfa62wL/CLDisPpG0v3D+DXeB1J6/KLbEwveblD+w2iU/HAOyP9iHmo06374/fpoHbqzdxT8Q8UGVu0vMP9IjPl7lXNE/HE/b8eyT1D9meniF9MrXP66lFRn8Ads/+NCyrAM53j8h/iegBbjgP8WT9mmJU+I/ainFMw3v4z8Pv5P9kIrlP7RUYscUJuc/WeowkZjB6D/9f/9aHF3qP6MVziSg+Os/R6uc7iOU7T/rQGu4py/vP0jrHMGVZfA/GjYEplcz8T/sgOuKGQHyP8DL0m/bzvI/kha6VJ2c8z9kYaE5X2r0PzasiB4hOPU/CPdvA+MF9j/cQVfopNP2P66MPs1mofc/gNclsihv+D9SIg2X6jz5PyRt9HusCvo/+LfbYG7Y+j/KAsNFMKb7P5xNqiryc/w/bpiRD7RB/T9C43j0dQ/+PxQuYNk33f4/5nhHvvmq/z/cYZfRXTwAQEUHC8Q+owBArqx+th8KAUAYUvKoAHEBQIH3ZZvh1wFA6pzZjcI+AkBTQk2Ao6UCQA==\",\"dtype\":\"float64\",\"shape\":[50]},\"right\":{\"__ndarray__\":\"wiw4rD6RtL9w/g13gdSevyi2xML3m5Q/sNolPxwDsj/Yh5qNOt++P36aB26s3cU/EPFBlbtLzD/SIz5e5VzRPxxP2/Hsk9Q/Znp4hfTK1z+upRUZ/AHbP/jQsqwDOd4/If4noAW44D/Fk/ZpiVPiP2opxTMN7+M/D7+T/ZCK5T+0VGLHFCbnP1nqMJGYweg//X//Whxd6j+jFc4koPjrP0ernO4jlO0/60BruKcv7z9I6xzBlWXwPxo2BKZXM/E/7IDrihkB8j/Ay9Jv287yP5IWulSdnPM/ZGGhOV9q9D82rIgeITj1Pwj3bwPjBfY/3EFX6KTT9j+ujD7NZqH3P4DXJbIob/g/UiINl+o8+T8kbfR7rAr6P/i322Bu2Po/ygLDRTCm+z+cTaoq8nP8P26YkQ+0Qf0/QuN49HUP/j8ULmDZN93+P+Z4R775qv8/3GGX0V08AEBFBwvEPqMAQK6sfrYfCgFAGFLyqABxAUCB92Wb4dcBQOqc2Y3CPgJAU0JNgKOlAkC858ByhAwDQA==\",\"dtype\":\"float64\",\"shape\":[50]},\"top\":{\"__ndarray__\":\"sB/epslOUD+A//wKqRdqP6bjuduiWII/loMZ/ZeblT+WkuKvIRmlPyprHrVnF7I/9SDXV5JNvT8VEWiELSbFP+8ylWEEscw/oNH70TD10j+da3FFVWzWP4+Vq60vmtw/mZVtM3cx4T93XRA57i/kPwjDha+UzOc/F0SB8cAF6z/uLKuzM+XsP68ovauCAPA/aO7SADRa8D9mfuKLICrxPwEkjjTCyvE/AB6khvH+8T+KKY8lOA/xPz7OaFQkofA/CFTeo0cp8D9B/HGHU//tP4jhaqWVHOs/NZhNdCor6D+y/sC9YDvlP94tP7Mwi+I/hgAiFUx73z8qU0qkSoPaPwMzwbreFdU/8K7QIcr20T+L+RJd2EvKPzLiaHglkMQ/fZZ9J+WovT+OEbsUG3u5P7gf3qbJTrA/gODEhLpyoj+CtwTk4ImcP67juduiWJI/kiN5Ho3eiD+4H96myU6AP63X5X8BwXI/Qc+smyO5az+bX53ps9RWP6m/Pci+kUM/jf/8CqkXOj+N//wKqRcqPw==\",\"dtype\":\"float64\",\"shape\":[50]}},\"selected\":{\"id\":\"34580\"},\"selection_policy\":{\"id\":\"34581\"}},\"id\":\"32653\",\"type\":\"ColumnDataSource\"},{\"attributes\":{\"data_source\":{\"id\":\"32653\"},\"glyph\":{\"id\":\"32654\"},\"hover_glyph\":null,\"muted_glyph\":null,\"nonselection_glyph\":{\"id\":\"32655\"},\"selection_glyph\":null,\"view\":{\"id\":\"32657\"}},\"id\":\"32656\",\"type\":\"GlyphRenderer\"},{\"attributes\":{},\"id\":\"34513\",\"type\":\"UnionRenderers\"},{\"attributes\":{\"bottom\":{\"value\":0},\"fill_alpha\":{\"value\":0.5},\"fill_color\":{\"value\":\"navy\"},\"left\":{\"field\":\"left\"},\"line_alpha\":{\"value\":0.5},\"line_color\":{\"value\":\"white\"},\"right\":{\"field\":\"right\"},\"top\":{\"field\":\"top\"}},\"id\":\"32654\",\"type\":\"Quad\"},{\"attributes\":{},\"id\":\"34510\",\"type\":\"Selection\"},{\"attributes\":{\"bottom\":{\"value\":0},\"fill_alpha\":{\"value\":0.1},\"fill_color\":{\"value\":\"navy\"},\"left\":{\"field\":\"left\"},\"line_alpha\":{\"value\":0.1},\"line_color\":{\"value\":\"white\"},\"right\":{\"field\":\"right\"},\"top\":{\"field\":\"top\"}},\"id\":\"32655\",\"type\":\"Quad\"},{\"attributes\":{\"source\":{\"id\":\"32693\"}},\"id\":\"32697\",\"type\":\"CDSView\"},{\"attributes\":{\"source\":{\"id\":\"32653\"}},\"id\":\"32657\",\"type\":\"CDSView\"},{\"attributes\":{\"data_source\":{\"id\":\"32658\"},\"glyph\":{\"id\":\"32659\"},\"hover_glyph\":null,\"muted_glyph\":null,\"nonselection_glyph\":{\"id\":\"32660\"},\"selection_glyph\":null,\"view\":{\"id\":\"32662\"}},\"id\":\"32661\",\"type\":\"GlyphRenderer\"},{\"attributes\":{\"fill_alpha\":0.2,\"fill_color\":\"orange\",\"x\":{\"field\":\"x\"},\"y1\":{\"field\":\"y1\"},\"y2\":{\"field\":\"y2\"}},\"id\":\"32684\",\"type\":\"VArea\"},{\"attributes\":{\"axis\":{\"id\":\"32644\"},\"ticker\":null},\"id\":\"32647\",\"type\":\"Grid\"},{\"attributes\":{\"line_alpha\":0.1,\"line_color\":\"orange\",\"x\":{\"field\":\"x\"},\"y\":{\"field\":\"y\"}},\"id\":\"32660\",\"type\":\"Line\"},{\"attributes\":{},\"id\":\"34506\",\"type\":\"Selection\"},{\"attributes\":{\"source\":{\"id\":\"32688\"}},\"id\":\"32692\",\"type\":\"CDSView\"},{\"attributes\":{\"data\":{\"x\":[0.4,0.5],\"y1\":[0,0],\"y2\":[1.1247420558373733,1.1247420558373733]},\"selected\":{\"id\":\"34592\"},\"selection_policy\":{\"id\":\"34593\"}},\"id\":\"32683\",\"type\":\"ColumnDataSource\"},{\"attributes\":{\"line_alpha\":0.1,\"line_color\":\"orange\",\"x\":{\"field\":\"x\"},\"y\":{\"field\":\"y\"}},\"id\":\"32690\",\"type\":\"Line\"},{\"attributes\":{},\"id\":\"34512\",\"type\":\"Selection\"},{\"attributes\":{\"data_source\":{\"id\":\"32683\"},\"glyph\":{\"id\":\"32684\"},\"hover_glyph\":null,\"muted_glyph\":null,\"nonselection_glyph\":{\"id\":\"32685\"},\"selection_glyph\":null,\"view\":{\"id\":\"32687\"}},\"id\":\"32686\",\"type\":\"GlyphRenderer\"},{\"attributes\":{\"source\":{\"id\":\"32673\"}},\"id\":\"32677\",\"type\":\"CDSView\"},{\"attributes\":{\"line_alpha\":0.1,\"line_color\":\"orange\",\"x\":{\"field\":\"x\"},\"y\":{\"field\":\"y\"}},\"id\":\"32680\",\"type\":\"Line\"},{\"attributes\":{\"text\":\"mutations = 6\"},\"id\":\"32634\",\"type\":\"Title\"},{\"attributes\":{\"source\":{\"id\":\"32683\"}},\"id\":\"32687\",\"type\":\"CDSView\"},{\"attributes\":{\"source\":{\"id\":\"32678\"}},\"id\":\"32682\",\"type\":\"CDSView\"},{\"attributes\":{\"line_alpha\":0.1,\"line_color\":\"orange\",\"x\":{\"field\":\"x\"},\"y\":{\"field\":\"y\"}},\"id\":\"32675\",\"type\":\"Line\"},{\"attributes\":{\"data\":{\"x\":[0.4,0.4],\"y\":[0,1.1247420558373733]},\"selected\":{\"id\":\"34588\"},\"selection_policy\":{\"id\":\"34589\"}},\"id\":\"32673\",\"type\":\"ColumnDataSource\"},{\"attributes\":{},\"id\":\"34509\",\"type\":\"UnionRenderers\"},{\"attributes\":{\"data_source\":{\"id\":\"32673\"},\"glyph\":{\"id\":\"32674\"},\"hover_glyph\":null,\"muted_glyph\":null,\"nonselection_glyph\":{\"id\":\"32675\"},\"selection_glyph\":null,\"view\":{\"id\":\"32677\"}},\"id\":\"32676\",\"type\":\"GlyphRenderer\"},{\"attributes\":{\"data\":{\"x\":[0.5,0.5],\"y\":[0,1.1247420558373733]},\"selected\":{\"id\":\"34590\"},\"selection_policy\":{\"id\":\"34591\"}},\"id\":\"32678\",\"type\":\"ColumnDataSource\"},{\"attributes\":{\"fill_alpha\":0.2,\"fill_color\":\"orange\",\"x\":{\"field\":\"x\"},\"y1\":{\"field\":\"y1\"},\"y2\":{\"field\":\"y2\"}},\"id\":\"32699\",\"type\":\"VArea\"},{\"attributes\":{\"axis_label\":\"density\",\"formatter\":{\"id\":\"34497\"},\"ticker\":{\"id\":\"32649\"}},\"id\":\"32648\",\"type\":\"LinearAxis\"},{\"attributes\":{\"data\":{\"x\":[-0.05,0.05],\"y1\":[0,0],\"y2\":[1.1247420558373733,1.1247420558373733]},\"selected\":{\"id\":\"34586\"},\"selection_policy\":{\"id\":\"34587\"}},\"id\":\"32668\",\"type\":\"ColumnDataSource\"},{\"attributes\":{\"data_source\":{\"id\":\"32693\"},\"glyph\":{\"id\":\"32694\"},\"hover_glyph\":null,\"muted_glyph\":null,\"nonselection_glyph\":{\"id\":\"32695\"},\"selection_glyph\":null,\"view\":{\"id\":\"32697\"}},\"id\":\"32696\",\"type\":\"GlyphRenderer\"},{\"attributes\":{},\"id\":\"34508\",\"type\":\"Selection\"},{\"attributes\":{\"source\":{\"id\":\"32663\"}},\"id\":\"32667\",\"type\":\"CDSView\"},{\"attributes\":{\"data\":{\"x\":[0.05,0.05],\"y\":[0,1.1247420558373733]},\"selected\":{\"id\":\"34584\"},\"selection_policy\":{\"id\":\"34585\"}},\"id\":\"32663\",\"type\":\"ColumnDataSource\"},{\"attributes\":{\"data_source\":{\"id\":\"32668\"},\"glyph\":{\"id\":\"32669\"},\"hover_glyph\":null,\"muted_glyph\":null,\"nonselection_glyph\":{\"id\":\"32670\"},\"selection_glyph\":null,\"view\":{\"id\":\"32672\"}},\"id\":\"32671\",\"type\":\"GlyphRenderer\"},{\"attributes\":{},\"id\":\"32642\",\"type\":\"LinearScale\"},{\"attributes\":{\"line_color\":\"orange\",\"x\":{\"field\":\"x\"},\"y\":{\"field\":\"y\"}},\"id\":\"32664\",\"type\":\"Line\"},{\"attributes\":{\"fill_alpha\":0.1,\"fill_color\":\"orange\",\"x\":{\"field\":\"x\"},\"y1\":{\"field\":\"y1\"},\"y2\":{\"field\":\"y2\"}},\"id\":\"32700\",\"type\":\"VArea\"},{\"attributes\":{\"data\":{\"x\":[0.85,0.95],\"y1\":[0,0],\"y2\":[1.1247420558373733,1.1247420558373733]},\"selected\":{\"id\":\"34598\"},\"selection_policy\":{\"id\":\"34599\"}},\"id\":\"32698\",\"type\":\"ColumnDataSource\"},{\"attributes\":{\"source\":{\"id\":\"32658\"}},\"id\":\"32662\",\"type\":\"CDSView\"},{\"attributes\":{\"data\":{\"x\":[-0.05,-0.05],\"y\":[0,1.1247420558373733]},\"selected\":{\"id\":\"34582\"},\"selection_policy\":{\"id\":\"34583\"}},\"id\":\"32658\",\"type\":\"ColumnDataSource\"},{\"attributes\":{},\"id\":\"32636\",\"type\":\"DataRange1d\"},{\"attributes\":{\"line_color\":\"orange\",\"x\":{\"field\":\"x\"},\"y\":{\"field\":\"y\"}},\"id\":\"32689\",\"type\":\"Line\"},{\"attributes\":{\"source\":{\"id\":\"32698\"}},\"id\":\"32702\",\"type\":\"CDSView\"},{\"attributes\":{},\"id\":\"34505\",\"type\":\"UnionRenderers\"},{\"attributes\":{},\"id\":\"34524\",\"type\":\"Selection\"},{\"attributes\":{},\"id\":\"34594\",\"type\":\"Selection\"},{\"attributes\":{},\"id\":\"34593\",\"type\":\"UnionRenderers\"},{\"attributes\":{},\"id\":\"34527\",\"type\":\"UnionRenderers\"},{\"attributes\":{},\"id\":\"34526\",\"type\":\"Selection\"},{\"attributes\":{},\"id\":\"34595\",\"type\":\"UnionRenderers\"},{\"attributes\":{},\"id\":\"34532\",\"type\":\"Selection\"},{\"attributes\":{},\"id\":\"34525\",\"type\":\"UnionRenderers\"},{\"attributes\":{},\"id\":\"34592\",\"type\":\"Selection\"},{\"attributes\":{},\"id\":\"34535\",\"type\":\"UnionRenderers\"},{\"attributes\":{},\"id\":\"34596\",\"type\":\"Selection\"},{\"attributes\":{},\"id\":\"34597\",\"type\":\"UnionRenderers\"},{\"attributes\":{},\"id\":\"34523\",\"type\":\"UnionRenderers\"},{\"attributes\":{},\"id\":\"34528\",\"type\":\"Selection\"},{\"attributes\":{},\"id\":\"34522\",\"type\":\"Selection\"},{\"attributes\":{},\"id\":\"34529\",\"type\":\"UnionRenderers\"},{\"attributes\":{},\"id\":\"34534\",\"type\":\"Selection\"},{\"attributes\":{\"source\":{\"id\":\"32533\"}},\"id\":\"32537\",\"type\":\"CDSView\"},{\"attributes\":{\"data_source\":{\"id\":\"32538\"},\"glyph\":{\"id\":\"32539\"},\"hover_glyph\":null,\"muted_glyph\":null,\"nonselection_glyph\":{\"id\":\"32540\"},\"selection_glyph\":null,\"view\":{\"id\":\"32542\"}},\"id\":\"32541\",\"type\":\"GlyphRenderer\"},{\"attributes\":{},\"id\":\"34530\",\"type\":\"Selection\"},{\"attributes\":{},\"id\":\"34533\",\"type\":\"UnionRenderers\"},{\"attributes\":{},\"id\":\"34598\",\"type\":\"Selection\"},{\"attributes\":{\"line_color\":\"orange\",\"x\":{\"field\":\"x\"},\"y\":{\"field\":\"y\"}},\"id\":\"32534\",\"type\":\"Line\"},{\"attributes\":{},\"id\":\"34531\",\"type\":\"UnionRenderers\"},{\"attributes\":{\"data\":{\"left\":{\"__ndarray__\":\"9GxWfa62wL9dr36mPam7v9KEUFIe5bW/R1oi/v4gsL94X+hTv7mkv8QUGFcBY5K/oFWC5u+1cj+QP1lK+b2bP+D0iE07Z6k//KTy+rx3sj+GzyBP3Du4PxD6TqP7/70/TpK+ew3iwT+Up9UlHcTEP9i87M8spsc/HtIDejyIyj9k5xokTGrNP1X+GOctJtA/+IgkvDWX0T+aEzCRPQjTPz2eO2ZFedQ/4ChHO03q1T+Cs1IQVVvXPyY+XuVczNg/yMhpumQ92j9qU3WPbK7bPw7egGR0H90/sGiMOXyQ3j+p+UsHwgDgP/u+0fFFueA/TIRX3Mlx4T+eSd3GTSriP+8OY7HR4uI/QNTom1Wb4z+SmW6G2VPkP+Ne9HBdDOU/NSR6W+HE5T+G6f9FZX3mP9euhTDpNec/KXQLG23u5z96OZEF8aboP8v+FvB0X+k/HcSc2vgX6j9uiSLFfNDqP79OqK8Aies/ERQumoRB7D9j2bOECPrsP7OeOW+Msu0/BWS/WRBr7j9XKUVElCPvPw==\",\"dtype\":\"float64\",\"shape\":[50]},\"right\":{\"__ndarray__\":\"Xa9+pj2pu7/ShFBSHuW1v0daIv7+ILC/eF/oU7+5pL/EFBhXAWOSv6BVgubvtXI/kD9ZSvm9mz/g9IhNO2epP/yk8vq8d7I/hs8gT9w7uD8Q+k6j+/+9P06SvnsN4sE/lKfVJR3ExD/YvOzPLKbHPx7SA3o8iMo/ZOcaJExqzT9V/hjnLSbQP/iIJLw1l9E/mhMwkT0I0z89njtmRXnUP+AoRztN6tU/grNSEFVb1z8mPl7lXMzYP8jIabpkPdo/alN1j2yu2z8O3oBkdB/dP7BojDl8kN4/qflLB8IA4D/7vtHxRbngP0yEV9zJceE/nkndxk0q4j/vDmOx0eLiP0DU6JtVm+M/kpluhtlT5D/jXvRwXQzlPzUkelvhxOU/hun/RWV95j/XroUw6TXnPyl0Cxtt7uc/ejmRBfGm6D/L/hbwdF/pPx3EnNr4F+o/bokixXzQ6j+/TqivAInrPxEULpqEQew/Y9mzhAj67D+znjlvjLLtPwVkv1kQa+4/VylFRJQj7z+m7souGNzvPw==\",\"dtype\":\"float64\",\"shape\":[50]},\"top\":{\"__ndarray__\":\"TjSaevENmD8AAAAAAAAAAE40mnrxDbg/TjSaevENyD9ONJp68Q3IP/YDSgSWidA/q2Tq8EyS3z8FkfBiEo3mPwWR8GISjeY/J5tfPl4p8D9Us4f5i+vzPwkQ3uGsavI/SjSaevEN+D+g10OS0I75P3nLr7S5rfc/XMFA2W0R/j/EbDTKzekAQDCpGB5AT/o/Q6kYHkBP+j8wqRgeQE/6PwWR8GISjfY/WrWs+1Yw/D9OQC5YCO/5PxQSA+R3r/o/5fv/KhUy/z+R49dv52/7P/6EXIX7q/Q/LBxyv8NL9D9910OS0I75P1o0mnrxDfg/VL8b16LM9T/P7UZLMwz1PxSTFWXd0e4/fddDktCO6T8sHHK/w0vkP4nVHpAFSuE/z+1GSzMM5T/neMin5MriP7HtRkszDNU/iUqdM1SL0z/P7UZLMwzVP8B67amvD8s/Q6fzG3UK0j/meu2prw/LPzk0mnrxDcg/OTSaevENuD98NJp68Q24Pyun8xt1CrI/OTSaevENqD+dNJp68Q2YPw==\",\"dtype\":\"float64\",\"shape\":[50]}},\"selected\":{\"id\":\"34500\"},\"selection_policy\":{\"id\":\"34501\"}},\"id\":\"32373\",\"type\":\"ColumnDataSource\"},{\"attributes\":{\"active_drag\":\"auto\",\"active_inspect\":\"auto\",\"active_multi\":null,\"active_scroll\":\"auto\",\"active_tap\":\"auto\"},\"id\":\"32372\",\"type\":\"Toolbar\"},{\"attributes\":{},\"id\":\"34599\",\"type\":\"UnionRenderers\"},{\"attributes\":{\"line_alpha\":0.1,\"line_color\":\"orange\",\"x\":{\"field\":\"x\"},\"y\":{\"field\":\"y\"}},\"id\":\"32535\",\"type\":\"Line\"},{\"attributes\":{\"bottom\":{\"value\":0},\"fill_alpha\":{\"value\":0.5},\"fill_color\":{\"value\":\"navy\"},\"left\":{\"field\":\"left\"},\"line_alpha\":{\"value\":0.5},\"line_color\":{\"value\":\"white\"},\"right\":{\"field\":\"right\"},\"top\":{\"field\":\"top\"}},\"id\":\"32374\",\"type\":\"Quad\"},{\"attributes\":{\"data_source\":{\"id\":\"32373\"},\"glyph\":{\"id\":\"32374\"},\"hover_glyph\":null,\"muted_glyph\":null,\"nonselection_glyph\":{\"id\":\"32375\"},\"selection_glyph\":null,\"view\":{\"id\":\"32377\"}},\"id\":\"32376\",\"type\":\"GlyphRenderer\"},{\"attributes\":{\"data\":{\"x\":[0.5,0.5],\"y\":[0,1.568856741631036]},\"selected\":{\"id\":\"34530\"},\"selection_policy\":{\"id\":\"34531\"}},\"id\":\"32468\",\"type\":\"ColumnDataSource\"},{\"attributes\":{},\"id\":\"34544\",\"type\":\"Selection\"},{\"attributes\":{\"data_source\":{\"id\":\"32468\"},\"glyph\":{\"id\":\"32469\"},\"hover_glyph\":null,\"muted_glyph\":null,\"nonselection_glyph\":{\"id\":\"32470\"},\"selection_glyph\":null,\"view\":{\"id\":\"32472\"}},\"id\":\"32471\",\"type\":\"GlyphRenderer\"},{\"attributes\":{\"data_source\":{\"id\":\"32378\"},\"glyph\":{\"id\":\"32379\"},\"hover_glyph\":null,\"muted_glyph\":null,\"nonselection_glyph\":{\"id\":\"32380\"},\"selection_glyph\":null,\"view\":{\"id\":\"32382\"}},\"id\":\"32381\",\"type\":\"GlyphRenderer\"},{\"attributes\":{\"line_color\":\"orange\",\"x\":{\"field\":\"x\"},\"y\":{\"field\":\"y\"}},\"id\":\"32394\",\"type\":\"Line\"},{\"attributes\":{\"line_color\":\"orange\",\"x\":{\"field\":\"x\"},\"y\":{\"field\":\"y\"}},\"id\":\"32464\",\"type\":\"Line\"},{\"attributes\":{\"line_alpha\":0.1,\"line_color\":\"orange\",\"x\":{\"field\":\"x\"},\"y\":{\"field\":\"y\"}},\"id\":\"32465\",\"type\":\"Line\"},{\"attributes\":{\"bottom\":{\"value\":0},\"fill_alpha\":{\"value\":0.1},\"fill_color\":{\"value\":\"navy\"},\"left\":{\"field\":\"left\"},\"line_alpha\":{\"value\":0.1},\"line_color\":{\"value\":\"white\"},\"right\":{\"field\":\"right\"},\"top\":{\"field\":\"top\"}},\"id\":\"32375\",\"type\":\"Quad\"},{\"attributes\":{\"axis\":{\"id\":\"32368\"},\"dimension\":1,\"ticker\":null},\"id\":\"32371\",\"type\":\"Grid\"},{\"attributes\":{},\"id\":\"34543\",\"type\":\"UnionRenderers\"},{\"attributes\":{\"data\":{\"x\":[-0.05,-0.05],\"y\":[0,2.1141620442627715]},\"selected\":{\"id\":\"34502\"},\"selection_policy\":{\"id\":\"34503\"}},\"id\":\"32378\",\"type\":\"ColumnDataSource\"},{\"attributes\":{},\"id\":\"34545\",\"type\":\"UnionRenderers\"},{\"attributes\":{\"line_color\":\"orange\",\"x\":{\"field\":\"x\"},\"y\":{\"field\":\"y\"}},\"id\":\"32379\",\"type\":\"Line\"},{\"attributes\":{\"data\":{\"x\":[0.4,0.4],\"y\":[0,2.1141620442627715]},\"selected\":{\"id\":\"34508\"},\"selection_policy\":{\"id\":\"34509\"}},\"id\":\"32393\",\"type\":\"ColumnDataSource\"},{\"attributes\":{},\"id\":\"34542\",\"type\":\"Selection\"},{\"attributes\":{\"source\":{\"id\":\"32383\"}},\"id\":\"32387\",\"type\":\"CDSView\"},{\"attributes\":{},\"id\":\"32365\",\"type\":\"BasicTicker\"},{\"attributes\":{\"data\":{\"x\":[0.05,0.05],\"y\":[0,2.1141620442627715]},\"selected\":{\"id\":\"34504\"},\"selection_policy\":{\"id\":\"34505\"}},\"id\":\"32383\",\"type\":\"ColumnDataSource\"},{\"attributes\":{\"axis\":{\"id\":\"32364\"},\"ticker\":null},\"id\":\"32367\",\"type\":\"Grid\"},{\"attributes\":{\"source\":{\"id\":\"32378\"}},\"id\":\"32382\",\"type\":\"CDSView\"},{\"attributes\":{\"line_alpha\":0.1,\"line_color\":\"orange\",\"x\":{\"field\":\"x\"},\"y\":{\"field\":\"y\"}},\"id\":\"32380\",\"type\":\"Line\"},{\"attributes\":{\"line_color\":\"orange\",\"x\":{\"field\":\"x\"},\"y\":{\"field\":\"y\"}},\"id\":\"32384\",\"type\":\"Line\"},{\"attributes\":{\"data_source\":{\"id\":\"32403\"},\"glyph\":{\"id\":\"32404\"},\"hover_glyph\":null,\"muted_glyph\":null,\"nonselection_glyph\":{\"id\":\"32405\"},\"selection_glyph\":null,\"view\":{\"id\":\"32407\"}},\"id\":\"32406\",\"type\":\"GlyphRenderer\"},{\"attributes\":{\"fill_alpha\":0.1,\"fill_color\":\"orange\",\"x\":{\"field\":\"x\"},\"y1\":{\"field\":\"y1\"},\"y2\":{\"field\":\"y2\"}},\"id\":\"32390\",\"type\":\"VArea\"},{\"attributes\":{},\"id\":\"34539\",\"type\":\"UnionRenderers\"},{\"attributes\":{\"data_source\":{\"id\":\"32393\"},\"glyph\":{\"id\":\"32394\"},\"hover_glyph\":null,\"muted_glyph\":null,\"nonselection_glyph\":{\"id\":\"32395\"},\"selection_glyph\":null,\"view\":{\"id\":\"32397\"}},\"id\":\"32396\",\"type\":\"GlyphRenderer\"},{\"attributes\":{\"source\":{\"id\":\"32373\"}},\"id\":\"32377\",\"type\":\"CDSView\"},{\"attributes\":{},\"id\":\"32369\",\"type\":\"BasicTicker\"},{\"attributes\":{\"data_source\":{\"id\":\"32388\"},\"glyph\":{\"id\":\"32389\"},\"hover_glyph\":null,\"muted_glyph\":null,\"nonselection_glyph\":{\"id\":\"32390\"},\"selection_glyph\":null,\"view\":{\"id\":\"32392\"}},\"id\":\"32391\",\"type\":\"GlyphRenderer\"},{\"attributes\":{\"line_color\":\"orange\",\"x\":{\"field\":\"x\"},\"y\":{\"field\":\"y\"}},\"id\":\"32469\",\"type\":\"Line\"},{\"attributes\":{\"line_alpha\":0.1,\"line_color\":\"orange\",\"x\":{\"field\":\"x\"},\"y\":{\"field\":\"y\"}},\"id\":\"32395\",\"type\":\"Line\"},{\"attributes\":{\"source\":{\"id\":\"32463\"}},\"id\":\"32467\",\"type\":\"CDSView\"},{\"attributes\":{},\"id\":\"34540\",\"type\":\"Selection\"},{\"attributes\":{\"line_alpha\":0.1,\"line_color\":\"orange\",\"x\":{\"field\":\"x\"},\"y\":{\"field\":\"y\"}},\"id\":\"32470\",\"type\":\"Line\"},{\"attributes\":{},\"id\":\"34537\",\"type\":\"UnionRenderers\"},{\"attributes\":{\"data_source\":{\"id\":\"32383\"},\"glyph\":{\"id\":\"32384\"},\"hover_glyph\":null,\"muted_glyph\":null,\"nonselection_glyph\":{\"id\":\"32385\"},\"selection_glyph\":null,\"view\":{\"id\":\"32387\"}},\"id\":\"32386\",\"type\":\"GlyphRenderer\"},{\"attributes\":{},\"id\":\"32356\",\"type\":\"DataRange1d\"},{\"attributes\":{\"background_fill_color\":\"#fafafa\",\"below\":[{\"id\":\"32364\"}],\"center\":[{\"id\":\"32367\"},{\"id\":\"32371\"}],\"frame_height\":200,\"frame_width\":200,\"left\":[{\"id\":\"32368\"}],\"renderers\":[{\"id\":\"32376\"},{\"id\":\"32381\"},{\"id\":\"32386\"},{\"id\":\"32391\"},{\"id\":\"32396\"},{\"id\":\"32401\"},{\"id\":\"32406\"},{\"id\":\"32411\"},{\"id\":\"32416\"},{\"id\":\"32421\"}],\"title\":{\"id\":\"32354\"},\"toolbar\":{\"id\":\"32372\"},\"x_range\":{\"id\":\"32356\"},\"x_scale\":{\"id\":\"32360\"},\"y_range\":{\"id\":\"32358\"},\"y_scale\":{\"id\":\"32362\"}},\"id\":\"32353\",\"subtype\":\"Figure\",\"type\":\"Plot\"},{\"attributes\":{\"text\":\"mutations = 2\"},\"id\":\"32354\",\"type\":\"Title\"},{\"attributes\":{\"line_alpha\":0.1,\"line_color\":\"orange\",\"x\":{\"field\":\"x\"},\"y\":{\"field\":\"y\"}},\"id\":\"32385\",\"type\":\"Line\"},{\"attributes\":{},\"id\":\"34541\",\"type\":\"UnionRenderers\"},{\"attributes\":{},\"id\":\"34538\",\"type\":\"Selection\"},{\"attributes\":{},\"id\":\"34536\",\"type\":\"Selection\"},{\"attributes\":{\"background_fill_color\":\"#fafafa\",\"below\":[{\"id\":\"32434\"}],\"center\":[{\"id\":\"32437\"},{\"id\":\"32441\"}],\"frame_height\":200,\"frame_width\":200,\"left\":[{\"id\":\"32438\"}],\"renderers\":[{\"id\":\"32446\"},{\"id\":\"32451\"},{\"id\":\"32456\"},{\"id\":\"32461\"},{\"id\":\"32466\"},{\"id\":\"32471\"},{\"id\":\"32476\"},{\"id\":\"32481\"},{\"id\":\"32486\"},{\"id\":\"32491\"}],\"title\":{\"id\":\"32424\"},\"toolbar\":{\"id\":\"32442\"},\"x_range\":{\"id\":\"32426\"},\"x_scale\":{\"id\":\"32430\"},\"y_range\":{\"id\":\"32428\"},\"y_scale\":{\"id\":\"32432\"}},\"id\":\"32423\",\"subtype\":\"Figure\",\"type\":\"Plot\"},{\"attributes\":{},\"id\":\"34495\",\"type\":\"BasicTickFormatter\"},{\"attributes\":{\"axis_label\":\"density\",\"formatter\":{\"id\":\"34481\"},\"ticker\":{\"id\":\"32369\"}},\"id\":\"32368\",\"type\":\"LinearAxis\"},{\"attributes\":{\"fill_alpha\":0.2,\"fill_color\":\"orange\",\"x\":{\"field\":\"x\"},\"y1\":{\"field\":\"y1\"},\"y2\":{\"field\":\"y2\"}},\"id\":\"32389\",\"type\":\"VArea\"},{\"attributes\":{\"data\":{\"x\":[-0.05,0.05],\"y1\":[0,0],\"y2\":[2.1141620442627715,2.1141620442627715]},\"selected\":{\"id\":\"34506\"},\"selection_policy\":{\"id\":\"34507\"}},\"id\":\"32388\",\"type\":\"ColumnDataSource\"},{\"attributes\":{\"source\":{\"id\":\"32388\"}},\"id\":\"32392\",\"type\":\"CDSView\"}],\"root_ids\":[\"32703\"]},\"title\":\"Bokeh Application\",\"version\":\"2.0.2\"}};\n",
       "  var render_items = [{\"docid\":\"bb1bc657-a979-432d-b3dd-8c934e9304d1\",\"root_ids\":[\"32703\"],\"roots\":{\"32703\":\"8ef2162b-bf4c-4343-a922-682dc71242fd\"}}];\n",
       "  root.Bokeh.embed.embed_items_notebook(docs_json, render_items);\n",
       "\n",
       "  }\n",
       "  if (root.Bokeh !== undefined) {\n",
       "    embed_document(root);\n",
       "  } else {\n",
       "    var attempts = 0;\n",
       "    var timer = setInterval(function(root) {\n",
       "      if (root.Bokeh !== undefined) {\n",
       "        clearInterval(timer);\n",
       "        embed_document(root);\n",
       "      } else {\n",
       "        attempts++;\n",
       "        if (attempts > 100) {\n",
       "          clearInterval(timer);\n",
       "          console.log(\"Bokeh: ERROR: Unable to run BokehJS code because BokehJS library is missing\");\n",
       "        }\n",
       "      }\n",
       "    }, 10, root)\n",
       "  }\n",
       "})(window);"
      ],
      "application/vnd.bokehjs_exec.v0+json": ""
     },
     "metadata": {
      "application/vnd.bokehjs_exec.v0+json": {
       "id": "32703"
      }
     },
     "output_type": "display_data"
    }
   ],
   "source": [
    "p_list = []\n",
    "for i in range(2, 7):\n",
    "    p = figure(title=\"mutations = {}\".format(i), frame_height=200, frame_width=200,\n",
    "               tools='', background_fill_color=\"#fafafa\", y_axis_label=\"density\",\n",
    "              x_axis_label=\"ΔE [k_BT]\")\n",
    "    energies = df.loc[df.mutations == i, \"energy\"].values\n",
    "    hist, edges = np.histogram(energies, density=True, bins=50)\n",
    "    p.quad(top=hist, bottom=0, left=edges[:-1], right=edges[1:],\n",
    "          fill_color=\"navy\", line_color=\"white\", alpha=0.5)\n",
    "    for (b1, b2) in bins:\n",
    "        p.line(x=[b1, b1], y=[0, np.max(hist)], color=\"orange\")\n",
    "        p.line(x=[b2, b2], y=[0, np.max(hist)], color=\"orange\")\n",
    "        p.varea(x=[b1, b2], y1=[0, 0], y2=[np.max(hist), np.max(hist)], alpha=0.2, color=\"orange\")\n",
    "        \n",
    "    p_list.append(p)\n",
    "    \n",
    "bokeh.io.show(\n",
    "    grid(p_list, nrows=1)\n",
    ")\n",
    "    "
   ]
  },
  {
   "cell_type": "markdown",
   "metadata": {},
   "source": [
    "Select mutants that fall within the bins."
   ]
  },
  {
   "cell_type": "code",
   "execution_count": 76,
   "metadata": {},
   "outputs": [
    {
     "data": {
      "text/html": [
       "<div>\n",
       "<style scoped>\n",
       "    .dataframe tbody tr th:only-of-type {\n",
       "        vertical-align: middle;\n",
       "    }\n",
       "\n",
       "    .dataframe tbody tr th {\n",
       "        vertical-align: top;\n",
       "    }\n",
       "\n",
       "    .dataframe thead th {\n",
       "        text-align: right;\n",
       "    }\n",
       "</style>\n",
       "<table border=\"1\" class=\"dataframe\">\n",
       "  <thead>\n",
       "    <tr style=\"text-align: right;\">\n",
       "      <th></th>\n",
       "      <th>seq</th>\n",
       "      <th>mutations</th>\n",
       "      <th>energy</th>\n",
       "      <th>bin</th>\n",
       "    </tr>\n",
       "  </thead>\n",
       "  <tbody>\n",
       "    <tr>\n",
       "      <th>0</th>\n",
       "      <td>cAaTGTGAGCGGATAACAATT</td>\n",
       "      <td>2</td>\n",
       "      <td>0.031549</td>\n",
       "      <td>0</td>\n",
       "    </tr>\n",
       "    <tr>\n",
       "      <th>1</th>\n",
       "      <td>cATTGTGAGCGGATcACAATT</td>\n",
       "      <td>2</td>\n",
       "      <td>0.035678</td>\n",
       "      <td>0</td>\n",
       "    </tr>\n",
       "    <tr>\n",
       "      <th>2</th>\n",
       "      <td>cATTGTGAGCGGATAACAAaT</td>\n",
       "      <td>2</td>\n",
       "      <td>-0.034499</td>\n",
       "      <td>0</td>\n",
       "    </tr>\n",
       "    <tr>\n",
       "      <th>3</th>\n",
       "      <td>cATTGTGAGCGGATAACAATa</td>\n",
       "      <td>2</td>\n",
       "      <td>0.030629</td>\n",
       "      <td>0</td>\n",
       "    </tr>\n",
       "    <tr>\n",
       "      <th>4</th>\n",
       "      <td>cATTGTGAGCGcATAACAATT</td>\n",
       "      <td>2</td>\n",
       "      <td>0.036601</td>\n",
       "      <td>0</td>\n",
       "    </tr>\n",
       "    <tr>\n",
       "      <th>5</th>\n",
       "      <td>cATTGTGAGCGGATAACAATc</td>\n",
       "      <td>2</td>\n",
       "      <td>-0.031722</td>\n",
       "      <td>0</td>\n",
       "    </tr>\n",
       "    <tr>\n",
       "      <th>6</th>\n",
       "      <td>AcTTGTGAGCGGATAACAAaT</td>\n",
       "      <td>2</td>\n",
       "      <td>0.047571</td>\n",
       "      <td>0</td>\n",
       "    </tr>\n",
       "    <tr>\n",
       "      <th>7</th>\n",
       "      <td>cAaTGTGAGCGGATAACAATT</td>\n",
       "      <td>2</td>\n",
       "      <td>0.031549</td>\n",
       "      <td>0</td>\n",
       "    </tr>\n",
       "    <tr>\n",
       "      <th>8</th>\n",
       "      <td>AAaTGTGAGCGGATcACAATT</td>\n",
       "      <td>2</td>\n",
       "      <td>0.002873</td>\n",
       "      <td>0</td>\n",
       "    </tr>\n",
       "    <tr>\n",
       "      <th>9</th>\n",
       "      <td>AAaTGTGAGCGGATAACAATa</td>\n",
       "      <td>2</td>\n",
       "      <td>-0.002176</td>\n",
       "      <td>0</td>\n",
       "    </tr>\n",
       "  </tbody>\n",
       "</table>\n",
       "</div>"
      ],
      "text/plain": [
       "                     seq  mutations    energy  bin\n",
       "0  cAaTGTGAGCGGATAACAATT          2  0.031549    0\n",
       "1  cATTGTGAGCGGATcACAATT          2  0.035678    0\n",
       "2  cATTGTGAGCGGATAACAAaT          2 -0.034499    0\n",
       "3  cATTGTGAGCGGATAACAATa          2  0.030629    0\n",
       "4  cATTGTGAGCGcATAACAATT          2  0.036601    0\n",
       "5  cATTGTGAGCGGATAACAATc          2 -0.031722    0\n",
       "6  AcTTGTGAGCGGATAACAAaT          2  0.047571    0\n",
       "7  cAaTGTGAGCGGATAACAATT          2  0.031549    0\n",
       "8  AAaTGTGAGCGGATcACAATT          2  0.002873    0\n",
       "9  AAaTGTGAGCGGATAACAATa          2 -0.002176    0"
      ]
     },
     "execution_count": 76,
     "metadata": {},
     "output_type": "execute_result"
    }
   ],
   "source": [
    "df_list = []\n",
    "for i, (x,y) in enumerate(bins):\n",
    "    temp_df = copy.deepcopy(df.loc[[x < E < y for E in df[\"energy\"] ], :])\n",
    "    temp_df[\"bin\"] = np.ones(len(temp_df), dtype=int) * i\n",
    "    df_list.append(temp_df)\n",
    "    \n",
    "binned_df = pd.concat(df_list, ignore_index=True)\n",
    "binned_df.head(10)"
   ]
  },
  {
   "cell_type": "markdown",
   "metadata": {},
   "source": [
    "Now we need to select mutants from the bins. We want to try to get an equal number of sequences for each number of mutations per bin. However, some bins are sparsely populated by some type of mutants. Therefore we choose a maximal number of sequences per mutation type per bin. If there are more sequences in a bin, we randomly select sequences."
   ]
  },
  {
   "cell_type": "code",
   "execution_count": 77,
   "metadata": {},
   "outputs": [],
   "source": [
    "def select_seqs(df, ind_bin, num_seqs):\n",
    "    seqs_per_mut = np.floor(num_seqs / len(df.mutations.unique()))\n",
    "    rest = num_seqs - seqs_per_mut * len(df.mutations.unique())\n",
    "    count_df = df.groupby([\"mutations\", \"bin\"]).size().to_frame(name=\"num_mutants\").reset_index()\n",
    "    count_df = count_df.loc[count_df[\"bin\"] == ind_bin, :]\n",
    "    \n",
    "    ret_df = pd.DataFrame(columns=[\"seq\", \"mutations\", \"energy\", \"bin\"])\n",
    "    \n",
    "    for i in df.mutations.unique():\n",
    "        if count_df.loc[count_df[\"mutations\"] == i, \"num_mutants\"].values < seqs_per_mut:\n",
    "            ret_df = pd.concat([ret_df, df.loc[(df[\"mutations\"] == i) & (df[\"bin\"] == ind_bin), :]], ignore_index=True)\n",
    "        else:\n",
    "            indices = df.loc[(df[\"mutations\"] == i) & (df[\"bin\"] == ind_bin), :].index.to_numpy(dtype=int)\n",
    "            selected_indices = np.random.choice(indices, size=int(seqs_per_mut), replace=False)\n",
    "            ret_df = pd.concat([ret_df, df.iloc[selected_indices]])\n",
    "    return ret_df"
   ]
  },
  {
   "cell_type": "markdown",
   "metadata": {},
   "source": [
    "Now we only need to apply the function to each bin and collect sequences. "
   ]
  },
  {
   "cell_type": "code",
   "execution_count": 83,
   "metadata": {},
   "outputs": [
    {
     "data": {
      "text/html": [
       "<div>\n",
       "<style scoped>\n",
       "    .dataframe tbody tr th:only-of-type {\n",
       "        vertical-align: middle;\n",
       "    }\n",
       "\n",
       "    .dataframe tbody tr th {\n",
       "        vertical-align: top;\n",
       "    }\n",
       "\n",
       "    .dataframe thead th {\n",
       "        text-align: right;\n",
       "    }\n",
       "</style>\n",
       "<table border=\"1\" class=\"dataframe\">\n",
       "  <thead>\n",
       "    <tr style=\"text-align: right;\">\n",
       "      <th></th>\n",
       "      <th>seq</th>\n",
       "      <th>mutations</th>\n",
       "      <th>energy</th>\n",
       "      <th>bin</th>\n",
       "    </tr>\n",
       "  </thead>\n",
       "  <tbody>\n",
       "    <tr>\n",
       "      <th>0</th>\n",
       "      <td>AtaTGTGAGCGGATAACAATT</td>\n",
       "      <td>2</td>\n",
       "      <td>0.039082</td>\n",
       "      <td>0</td>\n",
       "    </tr>\n",
       "    <tr>\n",
       "      <th>1</th>\n",
       "      <td>AAaTGTGAGCGGATAACAATa</td>\n",
       "      <td>2</td>\n",
       "      <td>-0.002176</td>\n",
       "      <td>0</td>\n",
       "    </tr>\n",
       "    <tr>\n",
       "      <th>2</th>\n",
       "      <td>cATTGTGAGCGGATAACAAaT</td>\n",
       "      <td>2</td>\n",
       "      <td>-0.034499</td>\n",
       "      <td>0</td>\n",
       "    </tr>\n",
       "    <tr>\n",
       "      <th>3</th>\n",
       "      <td>AATTGTGAGCGGATcACAATg</td>\n",
       "      <td>2</td>\n",
       "      <td>0.022444</td>\n",
       "      <td>0</td>\n",
       "    </tr>\n",
       "    <tr>\n",
       "      <th>4</th>\n",
       "      <td>AAaTGTGAGCGGATcACAATT</td>\n",
       "      <td>2</td>\n",
       "      <td>0.002873</td>\n",
       "      <td>0</td>\n",
       "    </tr>\n",
       "  </tbody>\n",
       "</table>\n",
       "</div>"
      ],
      "text/plain": [
       "                     seq mutations    energy bin\n",
       "0  AtaTGTGAGCGGATAACAATT         2  0.039082   0\n",
       "1  AAaTGTGAGCGGATAACAATa         2 -0.002176   0\n",
       "2  cATTGTGAGCGGATAACAAaT         2 -0.034499   0\n",
       "3  AATTGTGAGCGGATcACAATg         2  0.022444   0\n",
       "4  AAaTGTGAGCGGATcACAATT         2  0.002873   0"
      ]
     },
     "execution_count": 83,
     "metadata": {},
     "output_type": "execute_result"
    }
   ],
   "source": [
    "O1_mutants_df_list = []\n",
    "for Bin in range(len(bins)):\n",
    "    O1_mutants_df_list.append(select_seqs(binned_df, 0, 300))\n",
    "\n",
    "O1_mutants_df = pd.concat(O1_mutants_df_list, ignore_index=True)\n",
    "O1_mutants_df.head()"
   ]
  },
  {
   "cell_type": "markdown",
   "metadata": {},
   "source": [
    "Let's see how many sequences we have."
   ]
  },
  {
   "cell_type": "code",
   "execution_count": 79,
   "metadata": {},
   "outputs": [
    {
     "data": {
      "text/plain": [
       "900"
      ]
     },
     "execution_count": 79,
     "metadata": {},
     "output_type": "execute_result"
    }
   ],
   "source": [
    "len(O1_mutants_df)"
   ]
  },
  {
   "cell_type": "markdown",
   "metadata": {},
   "source": [
    "Finally, we add all single mutants back to the oligo pool."
   ]
  },
  {
   "cell_type": "code",
   "execution_count": 84,
   "metadata": {},
   "outputs": [],
   "source": [
    "df_1[\"energy\"] = df_1['seq'].apply(energy_from_sequence, args= (O1_matrix, ))\n",
    "df_1[\"bin\"] = \"x\"\n",
    "O1_mutants_df = pd.concat([O1_mutants_df, df_1], ignore_index=True)"
   ]
  },
  {
   "cell_type": "markdown",
   "metadata": {},
   "source": [
    "Now we only need to add the lacUV5 sequence to each mutant to get the final constructs."
   ]
  },
  {
   "cell_type": "code",
   "execution_count": 85,
   "metadata": {},
   "outputs": [
    {
     "data": {
      "text/html": [
       "<div>\n",
       "<style scoped>\n",
       "    .dataframe tbody tr th:only-of-type {\n",
       "        vertical-align: middle;\n",
       "    }\n",
       "\n",
       "    .dataframe tbody tr th {\n",
       "        vertical-align: top;\n",
       "    }\n",
       "\n",
       "    .dataframe thead th {\n",
       "        text-align: right;\n",
       "    }\n",
       "</style>\n",
       "<table border=\"1\" class=\"dataframe\">\n",
       "  <thead>\n",
       "    <tr style=\"text-align: right;\">\n",
       "      <th></th>\n",
       "      <th>seq</th>\n",
       "      <th>mutations</th>\n",
       "      <th>energy</th>\n",
       "      <th>bin</th>\n",
       "    </tr>\n",
       "  </thead>\n",
       "  <tbody>\n",
       "    <tr>\n",
       "      <th>0</th>\n",
       "      <td>TCGAGTTTACACTTTATGCTTCCGGCTCGTATAATGTGTGGAtaTG...</td>\n",
       "      <td>2</td>\n",
       "      <td>0.039082</td>\n",
       "      <td>0</td>\n",
       "    </tr>\n",
       "    <tr>\n",
       "      <th>1</th>\n",
       "      <td>TCGAGTTTACACTTTATGCTTCCGGCTCGTATAATGTGTGGAAaTG...</td>\n",
       "      <td>2</td>\n",
       "      <td>-0.002176</td>\n",
       "      <td>0</td>\n",
       "    </tr>\n",
       "    <tr>\n",
       "      <th>2</th>\n",
       "      <td>TCGAGTTTACACTTTATGCTTCCGGCTCGTATAATGTGTGGcATTG...</td>\n",
       "      <td>2</td>\n",
       "      <td>-0.034499</td>\n",
       "      <td>0</td>\n",
       "    </tr>\n",
       "    <tr>\n",
       "      <th>3</th>\n",
       "      <td>TCGAGTTTACACTTTATGCTTCCGGCTCGTATAATGTGTGGAATTG...</td>\n",
       "      <td>2</td>\n",
       "      <td>0.022444</td>\n",
       "      <td>0</td>\n",
       "    </tr>\n",
       "    <tr>\n",
       "      <th>4</th>\n",
       "      <td>TCGAGTTTACACTTTATGCTTCCGGCTCGTATAATGTGTGGAAaTG...</td>\n",
       "      <td>2</td>\n",
       "      <td>0.002873</td>\n",
       "      <td>0</td>\n",
       "    </tr>\n",
       "  </tbody>\n",
       "</table>\n",
       "</div>"
      ],
      "text/plain": [
       "                                                 seq mutations    energy bin\n",
       "0  TCGAGTTTACACTTTATGCTTCCGGCTCGTATAATGTGTGGAtaTG...         2  0.039082   0\n",
       "1  TCGAGTTTACACTTTATGCTTCCGGCTCGTATAATGTGTGGAAaTG...         2 -0.002176   0\n",
       "2  TCGAGTTTACACTTTATGCTTCCGGCTCGTATAATGTGTGGcATTG...         2 -0.034499   0\n",
       "3  TCGAGTTTACACTTTATGCTTCCGGCTCGTATAATGTGTGGAATTG...         2  0.022444   0\n",
       "4  TCGAGTTTACACTTTATGCTTCCGGCTCGTATAATGTGTGGAAaTG...         2  0.002873   0"
      ]
     },
     "execution_count": 85,
     "metadata": {},
     "output_type": "execute_result"
    }
   ],
   "source": [
    "oligos = copy.deepcopy(O1_mutants_df)\n",
    "\n",
    "oligos.seq = [lacUV5 + seq for seq in oligos.seq]\n",
    "oligos.head()"
   ]
  },
  {
   "cell_type": "markdown",
   "metadata": {},
   "source": [
    "## Computational environment"
   ]
  },
  {
   "cell_type": "code",
   "execution_count": 52,
   "metadata": {},
   "outputs": [
    {
     "name": "stdout",
     "output_type": "stream",
     "text": [
      "CPython 3.8.5\n",
      "IPython 7.10.0\n",
      "\n",
      "numpy 1.18.1\n",
      "pandas 1.0.3\n",
      "wgregseq 0.0.1\n",
      "bokeh 2.0.2\n"
     ]
    }
   ],
   "source": [
    "%load_ext watermark\n",
    "%watermark -v -p numpy,pandas,wgregseq,bokeh"
   ]
  }
 ],
 "metadata": {
  "kernelspec": {
   "display_name": "Python 3",
   "language": "python",
   "name": "python3"
  },
  "language_info": {
   "codemirror_mode": {
    "name": "ipython",
    "version": 3
   },
   "file_extension": ".py",
   "mimetype": "text/x-python",
   "name": "python",
   "nbconvert_exporter": "python",
   "pygments_lexer": "ipython3",
   "version": "3.8.5"
  }
 },
 "nbformat": 4,
 "nbformat_minor": 4
}
