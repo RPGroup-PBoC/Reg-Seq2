{
 "cells": [
  {
   "cell_type": "markdown",
   "metadata": {},
   "source": [
    "# Combine files for TWIST order"
   ]
  },
  {
   "cell_type": "markdown",
   "metadata": {},
   "source": [
    "(c) 2021 Tom Röschinger. This work is licensed under a [Creative Commons Attribution License CC-BY 4.0](https://creativecommons.org/licenses/by/4.0/). All code contained herein is licensed under an [MIT license](https://opensource.org/licenses/MIT)."
   ]
  },
  {
   "cell_type": "markdown",
   "metadata": {},
   "source": [
    "***"
   ]
  },
  {
   "cell_type": "markdown",
   "metadata": {},
   "source": [
    "In this notebook we combine the individually prepared sequences for various experiments into the final twist order. Therefore we need to add orthogonal primers to the ends of all inserts. Also, we add additional reverse primers for different constructs within the experiments, so they can be amplified individually. Also, we might add restriction sites to the constructs to remove the primers from the transcript."
   ]
  },
  {
   "cell_type": "code",
   "execution_count": 10,
   "metadata": {},
   "outputs": [
    {
     "name": "stdout",
     "output_type": "stream",
     "text": [
      "The autoreload extension is already loaded. To reload it, use:\n",
      "  %reload_ext autoreload\n"
     ]
    }
   ],
   "source": [
    "import wgregseq\n",
    "%load_ext autoreload\n",
    "%autoreload 2\n",
    "\n",
    "import Bio\n",
    "from Bio.SeqIO import parse\n",
    "from Bio.Seq import Seq\n",
    "from Bio.Restriction import *\n",
    "\n",
    "from itertools import compress\n",
    "\n",
    "import pandas as pd\n",
    "import numpy as np\n",
    "import copy\n",
    "\n",
    "from ast import literal_eval as make_tuple\n",
    "\n",
    "import glob"
   ]
  },
  {
   "cell_type": "markdown",
   "metadata": {},
   "source": [
    "### Import"
   ]
  },
  {
   "cell_type": "markdown",
   "metadata": {},
   "source": [
    "Import all `csv` files in the `data/twist_order` folder in this repo."
   ]
  },
  {
   "cell_type": "code",
   "execution_count": 11,
   "metadata": {},
   "outputs": [
    {
     "data": {
      "text/plain": [
       "['../../../data/twist_order/lacI_sequences.csv',\n",
       " '../../../data/twist_order/lacUV5_tetOx_single_double_mutants.csv',\n",
       " '../../../data/twist_order/lacUV_mutants.csv',\n",
       " '../../../data/twist_order/natural_tet_promoters_mutated.csv',\n",
       " '../../../data/twist_order/purR_twist_sequences.csv',\n",
       " '../../../data/twist_order/twist_orbit_TF_del_avd_ovlp_long.csv',\n",
       " '../../../data/twist_order/twist_orbit_TF_del_avd_ovlp_short.csv',\n",
       " '../../../data/twist_order/twist_orbit_TF_del_first_last_long.csv',\n",
       " '../../../data/twist_order/twist_orbit_TF_del_first_last_short.csv',\n",
       " '../../../data/twist_order/twist_site_scrambles.csv',\n",
       " '../../../data/twist_order/twist_site_scrambles_formatted.csv',\n",
       " '../../../data/twist_order/twist_sys_scrambles_10.csv',\n",
       " '../../../data/twist_order/twist_sys_scrambles_2_16.csv']"
      ]
     },
     "execution_count": 11,
     "metadata": {},
     "output_type": "execute_result"
    }
   ],
   "source": [
    "file_list = sorted(glob.glob(\"../../../data/twist_order/*.csv\"))\n",
    "file_list"
   ]
  },
  {
   "cell_type": "markdown",
   "metadata": {},
   "source": [
    "Import each data frame."
   ]
  },
  {
   "cell_type": "code",
   "execution_count": 12,
   "metadata": {},
   "outputs": [],
   "source": [
    "df_list = []\n",
    "for file in file_list:\n",
    "    df_list.append(pd.read_csv(file, index_col=0))"
   ]
  },
  {
   "cell_type": "markdown",
   "metadata": {},
   "source": [
    "### Primers"
   ]
  },
  {
   "cell_type": "markdown",
   "metadata": {},
   "source": [
    "We add a reverse primer to for each individual construct if there is space in the oligo. This enables us to amplify a certain subset if the constructs. For this purpose we simply use the `add_primers` function with the additional keyword argument `rev_only`. "
   ]
  },
  {
   "cell_type": "code",
   "execution_count": 13,
   "metadata": {},
   "outputs": [],
   "source": [
    "def do_all(file_list, add_primer, add_sec_primer, primer=100, sec_rev_primer=200, primer_skip_list=[]):\n",
    "    df_list = []\n",
    "    construct_id = 0\n",
    "    # Iterate through files\n",
    "    for i, file in enumerate(file_list):\n",
    "        # Fix column headers\n",
    "        df = pd.read_csv(file, index_col=0)\n",
    "        if ('description' in df.columns) and ('construct' not in df.columns):\n",
    "            df = df.rename(columns={'description' : \"construct\"})\n",
    "        if ('name' in df.columns) and ('construct' not in df.columns):\n",
    "            df = df.rename(columns={'name' : \"construct\"})\n",
    "            \n",
    "        seqs = np.array(df['seq'].values, dtype=object)\n",
    "\n",
    "        # Add sequences to dataframe if no primers are added\n",
    "        if not add_primer[i]:\n",
    "            df['construct_ID'] = [construct_id] * len(seqs)\n",
    "            forward_primers_0 = [(primer, 0)] * len(seqs)\n",
    "            reverse_primers_0 = [(primer, len(seqs[0])+20)] * len(seqs)\n",
    "            construct_id += 1\n",
    "            df['seq'] = seqs #[seq + wgregseq.gen_rand_seq(200-len(seq)) for seq in df.seq]\n",
    "            if 'reverse_primers_1' not in df.columns:\n",
    "                df['reverse_primers_1'] =[(None, None)] * len(seqs)\n",
    "            primer_columns = [x  for x in df.columns if (\"primer\" in x)]\n",
    "            for col in primer_columns:\n",
    "                if type(df[col][0]) == str:\n",
    "                    df[col] = [make_tuple(x) for x in df[col]]\n",
    "            df_list.append(df)\n",
    "        # Add primer pairs\n",
    "        elif not add_sec_primer[i]:\n",
    "            forward_primers_0 = [(primer, 0)] * len(seqs)\n",
    "            reverse_primers_0 = [(primer, len(seqs[0])+20)] * len(seqs)\n",
    "            seqs = wgregseq.add_primers(seqs, primer, autocomplete=False)\n",
    "            construct_id_column = [construct_id] * len(seqs)\n",
    "            construct_column = df['construct'].values\n",
    "            reverse_primers_1 = [(None, None)] * len(seqs)\n",
    "            \n",
    "            construct_id += 1\n",
    "            df_list.append(\n",
    "                pd.DataFrame(\n",
    "                    {'seq': seqs, \n",
    "                     'forward_primers_0': forward_primers_0, \n",
    "                     'reverse_primers_0': reverse_primers_0, \n",
    "                     'reverse_primers_1': reverse_primers_1,\n",
    "                     'construct_ID': construct_id_column,\n",
    "                     'construct': construct_column\n",
    "                    }))\n",
    "            \n",
    "        # Add individual construct primer and primer pairs\n",
    "        else:\n",
    "            seqs = wgregseq.add_primers(seqs, primer)\n",
    "            for construct in df['construct'].unique():\n",
    "                indices = np.asarray((df['construct'] == construct).values == True).nonzero()\n",
    "                forward_primers_0 = [(primer, 0)] * np.size(indices[0])\n",
    "                reverse_primers_0 = [(primer, len(seqs[indices][0])-20)] * np.size(indices[0])\n",
    "                reverse_primers_1 = [(sec_rev_primer, len(seqs[indices][0]))] * np.size(indices[0])\n",
    "                seqs[indices] = wgregseq.add_primers(seqs[indices], sec_rev_primer, rev_only=True, autocomplete=False)\n",
    "                construct_id_column = [construct_id] * np.size(indices[0])\n",
    "                construct_column = [construct] * np.size(indices[0])\n",
    "                sec_rev_primer += 1\n",
    "                \n",
    "                while sec_rev_primer in primer_skip_list:\n",
    "                    sec_rev_primer += 1\n",
    "                construct_id += 1\n",
    "\n",
    "                df_list.append(\n",
    "                    pd.DataFrame(\n",
    "                        {'seq': seqs[indices], \n",
    "                         'forward_primers_0': forward_primers_0, \n",
    "                         'reverse_primers_0': reverse_primers_0, \n",
    "                         'reverse_primers_1': reverse_primers_1,\n",
    "                         'construct_ID': construct_id_column,\n",
    "                         'construct': construct_column\n",
    "                        }))\n",
    "        \n",
    "        primer += 1\n",
    "        while primer in primer_skip_list:\n",
    "            primer += 1\n",
    "        print(\"File {} done.\".format(file))\n",
    "    return pd.concat(df_list, ignore_index=True)"
   ]
  },
  {
   "cell_type": "code",
   "execution_count": 14,
   "metadata": {},
   "outputs": [
    {
     "name": "stdout",
     "output_type": "stream",
     "text": [
      "File ../../../data/twist_order/lacI_sequences.csv done.\n",
      "File ../../../data/twist_order/lacUV5_tetOx_single_double_mutants.csv done.\n",
      "File ../../../data/twist_order/lacUV_mutants.csv done.\n",
      "File ../../../data/twist_order/natural_tet_promoters_mutated.csv done.\n",
      "File ../../../data/twist_order/purR_twist_sequences.csv done.\n",
      "File ../../../data/twist_order/twist_site_scrambles_formatted.csv done.\n",
      "File ../../../data/twist_order/twist_sys_scrambles_2_16.csv done.\n",
      "File ../../../data/twist_order/twist_sys_scrambles_10.csv done.\n",
      "File ../../../data/twist_order/twist_orbit_TF_del_avd_ovlp_long.csv done.\n",
      "File ../../../data/twist_order/twist_orbit_TF_del_avd_ovlp_short.csv done.\n",
      "File ../../../data/twist_order/twist_orbit_TF_del_first_last_long.csv done.\n",
      "File ../../../data/twist_order/twist_orbit_TF_del_first_last_short.csv done.\n"
     ]
    }
   ],
   "source": [
    "df = do_all(\n",
    "    ['../../../data/twist_order/lacI_sequences.csv', \n",
    "     '../../../data/twist_order/lacUV5_tetOx_single_double_mutants.csv',\n",
    "     '../../../data/twist_order/lacUV_mutants.csv',\n",
    "     '../../../data/twist_order/natural_tet_promoters_mutated.csv',\n",
    "     '../../../data/twist_order/purR_twist_sequences.csv',\n",
    "     '../../../data/twist_order/twist_site_scrambles_formatted.csv',\n",
    "     '../../../data/twist_order/twist_sys_scrambles_2_16.csv',\n",
    "     '../../../data/twist_order/twist_sys_scrambles_10.csv',\n",
    "     '../../../data/twist_order/twist_orbit_TF_del_avd_ovlp_long.csv',\n",
    "     '../../../data/twist_order/twist_orbit_TF_del_avd_ovlp_short.csv',\n",
    "     '../../../data/twist_order/twist_orbit_TF_del_first_last_long.csv',\n",
    "     '../../../data/twist_order/twist_orbit_TF_del_first_last_short.csv'\n",
    "    ],\n",
    "    add_sec_primer=[\n",
    "        True, \n",
    "        True, \n",
    "        True, \n",
    "        True, \n",
    "        True, \n",
    "        False, \n",
    "        False, \n",
    "        False,\n",
    "        False,\n",
    "        False,\n",
    "        False,\n",
    "        False\n",
    "    ],\n",
    "    add_primer=[\n",
    "        True,\n",
    "        True,\n",
    "        True,\n",
    "        True,\n",
    "        True,\n",
    "        True,\n",
    "        True,\n",
    "        True,\n",
    "        False,\n",
    "        False,\n",
    "        False,\n",
    "        False\n",
    "    ]\n",
    "    ,primer_skip_list=[101]\n",
    ")"
   ]
  },
  {
   "cell_type": "code",
   "execution_count": 15,
   "metadata": {},
   "outputs": [
    {
     "data": {
      "text/html": [
       "<div>\n",
       "<style scoped>\n",
       "    .dataframe tbody tr th:only-of-type {\n",
       "        vertical-align: middle;\n",
       "    }\n",
       "\n",
       "    .dataframe tbody tr th {\n",
       "        vertical-align: top;\n",
       "    }\n",
       "\n",
       "    .dataframe thead th {\n",
       "        text-align: right;\n",
       "    }\n",
       "</style>\n",
       "<table border=\"1\" class=\"dataframe\">\n",
       "  <thead>\n",
       "    <tr style=\"text-align: right;\">\n",
       "      <th></th>\n",
       "      <th>seq</th>\n",
       "      <th>forward_primers_0</th>\n",
       "      <th>reverse_primers_0</th>\n",
       "      <th>reverse_primers_1</th>\n",
       "      <th>construct_ID</th>\n",
       "      <th>construct</th>\n",
       "    </tr>\n",
       "  </thead>\n",
       "  <tbody>\n",
       "    <tr>\n",
       "      <th>0</th>\n",
       "      <td>GCTTATTCGTGCCGTGTTATTCGAGTTTACACTTTATGCTTCCGGC...</td>\n",
       "      <td>(100, 0)</td>\n",
       "      <td>(100, 82)</td>\n",
       "      <td>(200, 102)</td>\n",
       "      <td>0</td>\n",
       "      <td>lacUV5+O1_mutant</td>\n",
       "    </tr>\n",
       "    <tr>\n",
       "      <th>1</th>\n",
       "      <td>GCTTATTCGTGCCGTGTTATTCGAGTTTACACTTTATGCTTCCGGC...</td>\n",
       "      <td>(100, 0)</td>\n",
       "      <td>(100, 82)</td>\n",
       "      <td>(200, 102)</td>\n",
       "      <td>0</td>\n",
       "      <td>lacUV5+O1_mutant</td>\n",
       "    </tr>\n",
       "    <tr>\n",
       "      <th>2</th>\n",
       "      <td>GCTTATTCGTGCCGTGTTATTCGAGTTTACACTTTATGCTTCCGGC...</td>\n",
       "      <td>(100, 0)</td>\n",
       "      <td>(100, 82)</td>\n",
       "      <td>(200, 102)</td>\n",
       "      <td>0</td>\n",
       "      <td>lacUV5+O1_mutant</td>\n",
       "    </tr>\n",
       "    <tr>\n",
       "      <th>3</th>\n",
       "      <td>GCTTATTCGTGCCGTGTTATTCGAGTTTACACTTTATGCTTCCGGC...</td>\n",
       "      <td>(100, 0)</td>\n",
       "      <td>(100, 82)</td>\n",
       "      <td>(200, 102)</td>\n",
       "      <td>0</td>\n",
       "      <td>lacUV5+O1_mutant</td>\n",
       "    </tr>\n",
       "    <tr>\n",
       "      <th>4</th>\n",
       "      <td>GCTTATTCGTGCCGTGTTATTCGAGTTTACACTTTATGCTTCCGGC...</td>\n",
       "      <td>(100, 0)</td>\n",
       "      <td>(100, 82)</td>\n",
       "      <td>(200, 102)</td>\n",
       "      <td>0</td>\n",
       "      <td>lacUV5+O1_mutant</td>\n",
       "    </tr>\n",
       "  </tbody>\n",
       "</table>\n",
       "</div>"
      ],
      "text/plain": [
       "                                                 seq forward_primers_0  \\\n",
       "0  GCTTATTCGTGCCGTGTTATTCGAGTTTACACTTTATGCTTCCGGC...          (100, 0)   \n",
       "1  GCTTATTCGTGCCGTGTTATTCGAGTTTACACTTTATGCTTCCGGC...          (100, 0)   \n",
       "2  GCTTATTCGTGCCGTGTTATTCGAGTTTACACTTTATGCTTCCGGC...          (100, 0)   \n",
       "3  GCTTATTCGTGCCGTGTTATTCGAGTTTACACTTTATGCTTCCGGC...          (100, 0)   \n",
       "4  GCTTATTCGTGCCGTGTTATTCGAGTTTACACTTTATGCTTCCGGC...          (100, 0)   \n",
       "\n",
       "  reverse_primers_0 reverse_primers_1  construct_ID         construct  \n",
       "0         (100, 82)        (200, 102)             0  lacUV5+O1_mutant  \n",
       "1         (100, 82)        (200, 102)             0  lacUV5+O1_mutant  \n",
       "2         (100, 82)        (200, 102)             0  lacUV5+O1_mutant  \n",
       "3         (100, 82)        (200, 102)             0  lacUV5+O1_mutant  \n",
       "4         (100, 82)        (200, 102)             0  lacUV5+O1_mutant  "
      ]
     },
     "execution_count": 15,
     "metadata": {},
     "output_type": "execute_result"
    }
   ],
   "source": [
    "df.head()"
   ]
  },
  {
   "cell_type": "code",
   "execution_count": 16,
   "metadata": {},
   "outputs": [
    {
     "data": {
      "text/html": [
       "<div>\n",
       "<style scoped>\n",
       "    .dataframe tbody tr th:only-of-type {\n",
       "        vertical-align: middle;\n",
       "    }\n",
       "\n",
       "    .dataframe tbody tr th {\n",
       "        vertical-align: top;\n",
       "    }\n",
       "\n",
       "    .dataframe thead th {\n",
       "        text-align: right;\n",
       "    }\n",
       "</style>\n",
       "<table border=\"1\" class=\"dataframe\">\n",
       "  <thead>\n",
       "    <tr style=\"text-align: right;\">\n",
       "      <th></th>\n",
       "      <th>seq</th>\n",
       "      <th>forward_primers_0</th>\n",
       "      <th>reverse_primers_0</th>\n",
       "      <th>reverse_primers_1</th>\n",
       "      <th>construct_ID</th>\n",
       "      <th>construct</th>\n",
       "    </tr>\n",
       "  </thead>\n",
       "  <tbody>\n",
       "    <tr>\n",
       "      <th>32329</th>\n",
       "      <td>ccgtagataacacaacgcagtgctTAAGGGCATCTGTTTTTTATAT...</td>\n",
       "      <td>(469, 0)</td>\n",
       "      <td>(349, 152)</td>\n",
       "      <td>(None, None)</td>\n",
       "      <td>22</td>\n",
       "      <td>orbit_TF_del_first_last_short</td>\n",
       "    </tr>\n",
       "    <tr>\n",
       "      <th>32330</th>\n",
       "      <td>ccgtagataacacaacgcagtgctATATGAGTGTCGAATCCTTATC...</td>\n",
       "      <td>(469, 0)</td>\n",
       "      <td>(349, 152)</td>\n",
       "      <td>(None, None)</td>\n",
       "      <td>22</td>\n",
       "      <td>orbit_TF_del_first_last_short</td>\n",
       "    </tr>\n",
       "    <tr>\n",
       "      <th>32331</th>\n",
       "      <td>ccgtagataacacaacgcagtgctAGCCATGCACCGTAGACCAGAT...</td>\n",
       "      <td>(469, 0)</td>\n",
       "      <td>(349, 152)</td>\n",
       "      <td>(None, None)</td>\n",
       "      <td>22</td>\n",
       "      <td>orbit_TF_del_first_last_short</td>\n",
       "    </tr>\n",
       "    <tr>\n",
       "      <th>32332</th>\n",
       "      <td>ccgtagataacacaacgcagtgctGGTTATTTAACGGCGCGAGTGT...</td>\n",
       "      <td>(469, 0)</td>\n",
       "      <td>(349, 152)</td>\n",
       "      <td>(None, None)</td>\n",
       "      <td>22</td>\n",
       "      <td>orbit_TF_del_first_last_short</td>\n",
       "    </tr>\n",
       "    <tr>\n",
       "      <th>32333</th>\n",
       "      <td>ccgtagataacacaacgcagtgctGGTAAAGTAAGGACATTCTTAA...</td>\n",
       "      <td>(469, 0)</td>\n",
       "      <td>(349, 152)</td>\n",
       "      <td>(None, None)</td>\n",
       "      <td>22</td>\n",
       "      <td>orbit_TF_del_first_last_short</td>\n",
       "    </tr>\n",
       "  </tbody>\n",
       "</table>\n",
       "</div>"
      ],
      "text/plain": [
       "                                                     seq forward_primers_0  \\\n",
       "32329  ccgtagataacacaacgcagtgctTAAGGGCATCTGTTTTTTATAT...          (469, 0)   \n",
       "32330  ccgtagataacacaacgcagtgctATATGAGTGTCGAATCCTTATC...          (469, 0)   \n",
       "32331  ccgtagataacacaacgcagtgctAGCCATGCACCGTAGACCAGAT...          (469, 0)   \n",
       "32332  ccgtagataacacaacgcagtgctGGTTATTTAACGGCGCGAGTGT...          (469, 0)   \n",
       "32333  ccgtagataacacaacgcagtgctGGTAAAGTAAGGACATTCTTAA...          (469, 0)   \n",
       "\n",
       "      reverse_primers_0 reverse_primers_1  construct_ID  \\\n",
       "32329        (349, 152)      (None, None)            22   \n",
       "32330        (349, 152)      (None, None)            22   \n",
       "32331        (349, 152)      (None, None)            22   \n",
       "32332        (349, 152)      (None, None)            22   \n",
       "32333        (349, 152)      (None, None)            22   \n",
       "\n",
       "                           construct  \n",
       "32329  orbit_TF_del_first_last_short  \n",
       "32330  orbit_TF_del_first_last_short  \n",
       "32331  orbit_TF_del_first_last_short  \n",
       "32332  orbit_TF_del_first_last_short  \n",
       "32333  orbit_TF_del_first_last_short  "
      ]
     },
     "execution_count": 16,
     "metadata": {},
     "output_type": "execute_result"
    }
   ],
   "source": [
    "df.tail()"
   ]
  },
  {
   "cell_type": "code",
   "execution_count": 17,
   "metadata": {},
   "outputs": [],
   "source": [
    "def check_pool_df(df,enzymes):\n",
    "    message = \"\"\n",
    "    if wgregseq.check_primers_pool_df(df):\n",
    "        message += \"Primer check passed.\\n\\n\"\n",
    "    else:\n",
    "        message += \"Primer check DID NOT pass!\\n\\n\"\n",
    "        \n",
    "    message +=\"---------------------------------------------\\n \\n\"\n",
    "    \n",
    "    for name, sub_df in df.groupby(\"construct_ID\"):\n",
    "        \n",
    "        message +=\"Constructs: {}\\n\\n\".format(np.unique(sub_df.construct))\n",
    "        oligo_lengths = np.unique([len(x) for x in sub_df.seq])\n",
    "        if len(oligo_lengths) == 1:\n",
    "            message += \"Oligo length check passed! Length: {}\\n\\n\".format(oligo_lengths[0])\n",
    "        else:\n",
    "            message += \"Oligo length check DID NOT pass. Lengths: {}\\n\\n\".format(oligo_lengths)\n",
    "            \n",
    "        rev_primer_columns = [x  for x in sub_df.columns if (\"reverse_primer\" in x)]\n",
    "        end = np.max([x for rev_colum in rev_primer_columns for (_, x) in sub_df[rev_colum] if x!=None])\n",
    "        fwd_primer_columns = [x  for x in sub_df.columns if (\"forward_primer\" in x)]\n",
    "        start = np.max([x for fwd_colum in fwd_primer_columns for (_, x) in sub_df[fwd_colum] if x!=None])\n",
    "        message += \"Forward Primers: {}.\\n\".format(np.unique([x for fwd_colum in fwd_primer_columns for (x, _) in sub_df[fwd_colum] if x!=None]))\n",
    "        message += \"Reverse Primers: {}.\\n\".format(np.unique([x for rev_colum in rev_primer_columns for (x, _) in sub_df[rev_colum] if x!=None]))\n",
    "        seqs = [seq[start:end+20] for seq in sub_df.seq]\n",
    "        if len(np.unique(seqs)) != len(seqs):\n",
    "            message += \"Uniqueness check DID NOT pass.\\n\"\n",
    "            message += \"{} duplicated sequences. Check manually.\\n\".format(len(seqs) - len(np.unique(seqs)))\n",
    "        else:\n",
    "            message += \"Uniqueness check passed.\\n\"\n",
    "        \n",
    "    \n",
    "        message += \"Restriction enzyme sites:\\n\"\n",
    "        message += wgregseq.scan_enzymes_print(seqs, enzymes)+\"\\n\"\n",
    "        message +=\"---------------------------------------------\\n \\n\"\n",
    "    print(message)\n",
    "    with open(\"oligo_pool_check.txt\", \"w\") as text_file:\n",
    "        text_file.write(message)"
   ]
  },
  {
   "cell_type": "code",
   "execution_count": null,
   "metadata": {},
   "outputs": [],
   "source": [
    "check_pool_df(df, [\"SacI\", \"SalI\", \"XhoI\", \"SbfI\", \"ApaI\", \"NheI\", \"BsaI\"])"
   ]
  },
  {
   "cell_type": "code",
   "execution_count": null,
   "metadata": {},
   "outputs": [],
   "source": [
    "df_to_file = df[['seq', 'construct']]\n",
    "df_to_file"
   ]
  },
  {
   "cell_type": "code",
   "execution_count": null,
   "metadata": {},
   "outputs": [],
   "source": [
    "df.tail()"
   ]
  },
  {
   "cell_type": "code",
   "execution_count": null,
   "metadata": {},
   "outputs": [],
   "source": []
  },
  {
   "cell_type": "code",
   "execution_count": null,
   "metadata": {},
   "outputs": [],
   "source": []
  }
 ],
 "metadata": {
  "kernelspec": {
   "display_name": "Python 3",
   "language": "python",
   "name": "python3"
  },
  "language_info": {
   "codemirror_mode": {
    "name": "ipython",
    "version": 3
   },
   "file_extension": ".py",
   "mimetype": "text/x-python",
   "name": "python",
   "nbconvert_exporter": "python",
   "pygments_lexer": "ipython3",
   "version": "3.8.5"
  }
 },
 "nbformat": 4,
 "nbformat_minor": 4
}
